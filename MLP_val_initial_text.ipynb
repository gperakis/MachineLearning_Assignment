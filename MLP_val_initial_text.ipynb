{
 "cells": [
  {
   "cell_type": "code",
   "execution_count": 1,
   "metadata": {},
   "outputs": [],
   "source": [
    "from __future__ import print_function\n",
    "\n",
    "import os\n",
    "import re\n",
    "import nltk\n",
    "import tarfile\n",
    "from pathlib import Path\n",
    "from time import time\n",
    "from functools import reduce\n",
    "from pprint import pprint\n",
    "from typing import List, Tuple\n",
    "\n",
    "import keras\n",
    "import numpy as np\n",
    "import pandas as pd\n",
    "\n",
    "from tensorflow.python.keras import layers\n",
    "from tensorflow.python.keras.layers import recurrent, Input, Embedding, RepeatVector, Dropout, Dense, LSTM\n",
    "from tensorflow.python.keras.models import Model\n",
    "from tensorflow.python.keras.preprocessing.text import Tokenizer\n",
    "from tensorflow.python.keras.preprocessing.sequence import pad_sequences\n",
    "from tensorflow.python.keras.utils.data_utils import get_file\n",
    "from tqdm import tqdm\n",
    "\n",
    "#by this option we disable the possibility of a bad dataframe representation\n",
    "pd.set_option('display.expand_frame_repr', False)"
   ]
  },
  {
   "cell_type": "code",
   "execution_count": 2,
   "metadata": {},
   "outputs": [
    {
     "data": {
      "text/html": [
       "<div>\n",
       "<style scoped>\n",
       "    .dataframe tbody tr th:only-of-type {\n",
       "        vertical-align: middle;\n",
       "    }\n",
       "\n",
       "    .dataframe tbody tr th {\n",
       "        vertical-align: top;\n",
       "    }\n",
       "\n",
       "    .dataframe thead th {\n",
       "        text-align: right;\n",
       "    }\n",
       "</style>\n",
       "<table border=\"1\" class=\"dataframe\">\n",
       "  <thead>\n",
       "    <tr style=\"text-align: right;\">\n",
       "      <th></th>\n",
       "      <th>sdg</th>\n",
       "      <th>extracted_title</th>\n",
       "      <th>extracted_abstract</th>\n",
       "      <th>initial_text</th>\n",
       "    </tr>\n",
       "  </thead>\n",
       "  <tbody>\n",
       "    <tr>\n",
       "      <th>0</th>\n",
       "      <td>SDG10</td>\n",
       "      <td>trade liberalization policies aligned renewabl...</td>\n",
       "      <td>paper attempts empirically analyze compatibili...</td>\n",
       "      <td>trade liberalization policies aligned renewabl...</td>\n",
       "    </tr>\n",
       "    <tr>\n",
       "      <th>1</th>\n",
       "      <td>SDG10</td>\n",
       "      <td>oil prices macroeconomic factors policies affe...</td>\n",
       "      <td>aim determine nature relationship renewable en...</td>\n",
       "      <td>oil prices macroeconomic factors policies affe...</td>\n",
       "    </tr>\n",
       "    <tr>\n",
       "      <th>2</th>\n",
       "      <td>SDG10</td>\n",
       "      <td>energy consumption gdp revisited new panel app...</td>\n",
       "      <td>combines panel techniques wavelet spectral inv...</td>\n",
       "      <td>energy consumption gdp revisited new panel app...</td>\n",
       "    </tr>\n",
       "    <tr>\n",
       "      <th>3</th>\n",
       "      <td>SDG10</td>\n",
       "      <td>multiple perspective modeling simulation appro...</td>\n",
       "      <td>environmental issues dependence fossil fuel so...</td>\n",
       "      <td>multiple perspective modeling simulation appro...</td>\n",
       "    </tr>\n",
       "    <tr>\n",
       "      <th>4</th>\n",
       "      <td>SDG10</td>\n",
       "      <td>integrating blockchain technology energy secto...</td>\n",
       "      <td>blockchain technology ushering nothing short d...</td>\n",
       "      <td>integrating blockchain technology energy secto...</td>\n",
       "    </tr>\n",
       "    <tr>\n",
       "      <th>...</th>\n",
       "      <td>...</td>\n",
       "      <td>...</td>\n",
       "      <td>...</td>\n",
       "      <td>...</td>\n",
       "    </tr>\n",
       "    <tr>\n",
       "      <th>884</th>\n",
       "      <td>SDG7</td>\n",
       "      <td>africa sustainable energy goal focus access re...</td>\n",
       "      <td>sustainable development goal sdg focuses ensur...</td>\n",
       "      <td>africa sustainable energy goal focus access re...</td>\n",
       "    </tr>\n",
       "    <tr>\n",
       "      <th>885</th>\n",
       "      <td>SDG7</td>\n",
       "      <td>scalingup sustainable renewable energy generat...</td>\n",
       "      <td>three processes urbanization industrialization...</td>\n",
       "      <td>scalingup sustainable renewable energy generat...</td>\n",
       "    </tr>\n",
       "    <tr>\n",
       "      <th>886</th>\n",
       "      <td>SDG7</td>\n",
       "      <td>brief review application laser biotechnology e...</td>\n",
       "      <td>abstract bioenergy production biomass sources ...</td>\n",
       "      <td>brief review application laser biotechnology e...</td>\n",
       "    </tr>\n",
       "    <tr>\n",
       "      <th>887</th>\n",
       "      <td>SDG7</td>\n",
       "      <td>electric vehicles impacts integration power gr...</td>\n",
       "      <td>exponential rise electricity demand become pri...</td>\n",
       "      <td>electric vehicles impacts integration power gr...</td>\n",
       "    </tr>\n",
       "    <tr>\n",
       "      <th>888</th>\n",
       "      <td>SDG7</td>\n",
       "      <td>leading global energy environmental transforma...</td>\n",
       "      <td>recent years ten member countries association ...</td>\n",
       "      <td>leading global energy environmental transforma...</td>\n",
       "    </tr>\n",
       "  </tbody>\n",
       "</table>\n",
       "<p>889 rows × 4 columns</p>\n",
       "</div>"
      ],
      "text/plain": [
       "       sdg                                    extracted_title                                 extracted_abstract                                       initial_text\n",
       "0    SDG10  trade liberalization policies aligned renewabl...  paper attempts empirically analyze compatibili...  trade liberalization policies aligned renewabl...\n",
       "1    SDG10  oil prices macroeconomic factors policies affe...  aim determine nature relationship renewable en...  oil prices macroeconomic factors policies affe...\n",
       "2    SDG10  energy consumption gdp revisited new panel app...  combines panel techniques wavelet spectral inv...  energy consumption gdp revisited new panel app...\n",
       "3    SDG10  multiple perspective modeling simulation appro...  environmental issues dependence fossil fuel so...  multiple perspective modeling simulation appro...\n",
       "4    SDG10  integrating blockchain technology energy secto...  blockchain technology ushering nothing short d...  integrating blockchain technology energy secto...\n",
       "..     ...                                                ...                                                ...                                                ...\n",
       "884   SDG7  africa sustainable energy goal focus access re...  sustainable development goal sdg focuses ensur...  africa sustainable energy goal focus access re...\n",
       "885   SDG7  scalingup sustainable renewable energy generat...  three processes urbanization industrialization...  scalingup sustainable renewable energy generat...\n",
       "886   SDG7  brief review application laser biotechnology e...  abstract bioenergy production biomass sources ...  brief review application laser biotechnology e...\n",
       "887   SDG7  electric vehicles impacts integration power gr...  exponential rise electricity demand become pri...  electric vehicles impacts integration power gr...\n",
       "888   SDG7  leading global energy environmental transforma...  recent years ten member countries association ...  leading global energy environmental transforma...\n",
       "\n",
       "[889 rows x 4 columns]"
      ]
     },
     "execution_count": 2,
     "metadata": {},
     "output_type": "execute_result"
    }
   ],
   "source": [
    "#import the already preprocessed dataset \n",
    "sdg_df  = pd.read_csv('sdg_classification_data.csv')\n",
    "sdg_df"
   ]
  },
  {
   "cell_type": "code",
   "execution_count": 3,
   "metadata": {},
   "outputs": [
    {
     "data": {
      "text/html": [
       "<div>\n",
       "<style scoped>\n",
       "    .dataframe tbody tr th:only-of-type {\n",
       "        vertical-align: middle;\n",
       "    }\n",
       "\n",
       "    .dataframe tbody tr th {\n",
       "        vertical-align: top;\n",
       "    }\n",
       "\n",
       "    .dataframe thead th {\n",
       "        text-align: right;\n",
       "    }\n",
       "</style>\n",
       "<table border=\"1\" class=\"dataframe\">\n",
       "  <thead>\n",
       "    <tr style=\"text-align: right;\">\n",
       "      <th></th>\n",
       "      <th>sdg</th>\n",
       "      <th>extracted_title</th>\n",
       "      <th>extracted_abstract</th>\n",
       "      <th>initial_text</th>\n",
       "    </tr>\n",
       "  </thead>\n",
       "  <tbody>\n",
       "    <tr>\n",
       "      <th>0</th>\n",
       "      <td>SDG7</td>\n",
       "      <td>solid oxide fuel cell hybrid system detailed r...</td>\n",
       "      <td>paper reports review environmentally clean eff...</td>\n",
       "      <td>solid oxide fuel cell hybrid system detailed r...</td>\n",
       "    </tr>\n",
       "    <tr>\n",
       "      <th>1</th>\n",
       "      <td>SDG10</td>\n",
       "      <td>oil prices macroeconomic factors policies affe...</td>\n",
       "      <td>aim determine nature relationship renewable en...</td>\n",
       "      <td>oil prices macroeconomic factors policies affe...</td>\n",
       "    </tr>\n",
       "    <tr>\n",
       "      <th>2</th>\n",
       "      <td>SDG10</td>\n",
       "      <td>comprehensive indicator set measuring multiple...</td>\n",
       "      <td>paper develop quantitative indicator approach ...</td>\n",
       "      <td>comprehensive indicator set measuring multiple...</td>\n",
       "    </tr>\n",
       "    <tr>\n",
       "      <th>3</th>\n",
       "      <td>SDG10</td>\n",
       "      <td>foreign direct investment renewable energy cli...</td>\n",
       "      <td>climate change mitigation topical issue growin...</td>\n",
       "      <td>foreign direct investment renewable energy cli...</td>\n",
       "    </tr>\n",
       "    <tr>\n",
       "      <th>4</th>\n",
       "      <td>SDG10</td>\n",
       "      <td>energy storage multi energy systems local ener...</td>\n",
       "      <td>investigates district high capacity noncontrol...</td>\n",
       "      <td>energy storage multi energy systems local ener...</td>\n",
       "    </tr>\n",
       "    <tr>\n",
       "      <th>...</th>\n",
       "      <td>...</td>\n",
       "      <td>...</td>\n",
       "      <td>...</td>\n",
       "      <td>...</td>\n",
       "    </tr>\n",
       "    <tr>\n",
       "      <th>94</th>\n",
       "      <td>SDG13</td>\n",
       "      <td>dual stresses flooding agricultural land reduc...</td>\n",
       "      <td>global climate change leading significant incr...</td>\n",
       "      <td>dual stresses flooding agricultural land reduc...</td>\n",
       "    </tr>\n",
       "    <tr>\n",
       "      <th>95</th>\n",
       "      <td>SDG13</td>\n",
       "      <td>trend extreme rainfall events suitable global ...</td>\n",
       "      <td>kolkata metropolitan area kma one densely popu...</td>\n",
       "      <td>trend extreme rainfall events suitable global ...</td>\n",
       "    </tr>\n",
       "    <tr>\n",
       "      <th>96</th>\n",
       "      <td>SDG13</td>\n",
       "      <td>grounding line ice frontal position coastal ic...</td>\n",
       "      <td>past years satellite remote sensing captured s...</td>\n",
       "      <td>grounding line ice frontal position coastal ic...</td>\n",
       "    </tr>\n",
       "    <tr>\n",
       "      <th>97</th>\n",
       "      <td>SDG13</td>\n",
       "      <td>environment stupid values motivations routes e...</td>\n",
       "      <td>exploratory mixedmethods indepth interviews in...</td>\n",
       "      <td>environment stupid values motivations routes e...</td>\n",
       "    </tr>\n",
       "    <tr>\n",
       "      <th>98</th>\n",
       "      <td>SDG13</td>\n",
       "      <td>visual method identify significant latitudinal...</td>\n",
       "      <td>many studies shown recent climateinduced chang...</td>\n",
       "      <td>visual method identify significant latitudinal...</td>\n",
       "    </tr>\n",
       "  </tbody>\n",
       "</table>\n",
       "<p>99 rows × 4 columns</p>\n",
       "</div>"
      ],
      "text/plain": [
       "      sdg                                    extracted_title                                 extracted_abstract                                       initial_text\n",
       "0    SDG7  solid oxide fuel cell hybrid system detailed r...  paper reports review environmentally clean eff...  solid oxide fuel cell hybrid system detailed r...\n",
       "1   SDG10  oil prices macroeconomic factors policies affe...  aim determine nature relationship renewable en...  oil prices macroeconomic factors policies affe...\n",
       "2   SDG10  comprehensive indicator set measuring multiple...  paper develop quantitative indicator approach ...  comprehensive indicator set measuring multiple...\n",
       "3   SDG10  foreign direct investment renewable energy cli...  climate change mitigation topical issue growin...  foreign direct investment renewable energy cli...\n",
       "4   SDG10  energy storage multi energy systems local ener...  investigates district high capacity noncontrol...  energy storage multi energy systems local ener...\n",
       "..    ...                                                ...                                                ...                                                ...\n",
       "94  SDG13  dual stresses flooding agricultural land reduc...  global climate change leading significant incr...  dual stresses flooding agricultural land reduc...\n",
       "95  SDG13  trend extreme rainfall events suitable global ...  kolkata metropolitan area kma one densely popu...  trend extreme rainfall events suitable global ...\n",
       "96  SDG13  grounding line ice frontal position coastal ic...  past years satellite remote sensing captured s...  grounding line ice frontal position coastal ic...\n",
       "97  SDG13  environment stupid values motivations routes e...  exploratory mixedmethods indepth interviews in...  environment stupid values motivations routes e...\n",
       "98  SDG13  visual method identify significant latitudinal...  many studies shown recent climateinduced chang...  visual method identify significant latitudinal...\n",
       "\n",
       "[99 rows x 4 columns]"
      ]
     },
     "execution_count": 3,
     "metadata": {},
     "output_type": "execute_result"
    }
   ],
   "source": [
    "#import the validation dataset given by Mr. Fergadis\n",
    "validation_df = pd.read_csv('validation_dataset_v2.csv')\n",
    "validation_df"
   ]
  },
  {
   "cell_type": "code",
   "execution_count": 4,
   "metadata": {},
   "outputs": [],
   "source": [
    "from sklearn.preprocessing import OneHotEncoder\n",
    "\n",
    "# splitting in train-validation-test sets in a stratified manner.\n",
    "from sklearn.model_selection import StratifiedShuffleSplit"
   ]
  },
  {
   "cell_type": "code",
   "execution_count": 5,
   "metadata": {},
   "outputs": [
    {
     "data": {
      "text/plain": [
       "0    trade liberalization policies aligned renewabl...\n",
       "1    oil prices macroeconomic factors policies affe...\n",
       "2    energy consumption gdp revisited new panel app...\n",
       "3    multiple perspective modeling simulation appro...\n",
       "4    integrating blockchain technology energy secto...\n",
       "5    renewable energy consumption economic growth n...\n",
       "6    optimal renewable energy supply choices netzer...\n",
       "7    review recent sizing methodologies hybrid rene...\n",
       "8    renewable energy consumption industrial produc...\n",
       "9    governance renewable energy investment mena co...\n",
       "Name: initial_text, dtype: object"
      ]
     },
     "execution_count": 5,
     "metadata": {},
     "output_type": "execute_result"
    }
   ],
   "source": [
    "# The raw input (Title)\n",
    "X = sdg_df['initial_text']\n",
    "X_val = validation_df['initial_text']\n",
    "\n",
    "X.head(10)"
   ]
  },
  {
   "cell_type": "code",
   "execution_count": 6,
   "metadata": {},
   "outputs": [
    {
     "data": {
      "text/plain": [
       "0     SDG7\n",
       "1    SDG10\n",
       "2    SDG10\n",
       "3    SDG10\n",
       "4    SDG10\n",
       "5    SDG10\n",
       "6    SDG12\n",
       "7    SDG12\n",
       "8    SDG12\n",
       "9    SDG12\n",
       "Name: sdg, dtype: object"
      ]
     },
     "execution_count": 6,
     "metadata": {},
     "output_type": "execute_result"
    }
   ],
   "source": [
    "# The raw output (lyricists)\n",
    "y = sdg_df['sdg']\n",
    "y_val = validation_df['sdg']\n",
    "\n",
    "y.head(10)\n",
    "y_val.head(10)"
   ]
  },
  {
   "cell_type": "code",
   "execution_count": 7,
   "metadata": {},
   "outputs": [
    {
     "data": {
      "text/plain": [
       "StratifiedShuffleSplit(n_splits=5, random_state=0, test_size=0.2,\n",
       "            train_size=None)"
      ]
     },
     "execution_count": 7,
     "metadata": {},
     "output_type": "execute_result"
    }
   ],
   "source": [
    "# We will use this object to split the Train dataset in Train and Validation in a stratified manner.\n",
    "\n",
    "val_sss = StratifiedShuffleSplit(n_splits=5, test_size=0.2, random_state=0)\n",
    "val_sss"
   ]
  },
  {
   "cell_type": "code",
   "execution_count": 8,
   "metadata": {},
   "outputs": [
    {
     "name": "stdout",
     "output_type": "stream",
     "text": [
      "TRAIN-VAL: [235 643 578 605 356 284 587   4  79   1] TEST: [117 257 454 418 396 495   3 724 504  36]\n",
      "TRAIN-VAL: [576 649  70 549 246 131 712 651 391 497] TEST: [431 823 454 861 168 691 332 658 386  72]\n",
      "TRAIN-VAL: [551 283  24 235 794 434 594 624 188 835] TEST: [262 641 117 533  10 767 230 462 768 517]\n",
      "TRAIN-VAL: [292 745 672 740  16 376 398 774 632 457] TEST: [198 720 644 440 293 599 693  22 799 625]\n",
      "TRAIN-VAL: [ 53 433 231 437 190 762 362 761 169 530] TEST: [545 764 741 109 666 661 712 445 600 167]\n"
     ]
    }
   ],
   "source": [
    "X_train, X_test, y_train, y_test = None, None, None, None\n",
    "\n",
    "# getting the indexes for each dataset\n",
    "for train_index, test_index in val_sss.split(X, y):\n",
    "    \n",
    "    print(\"TRAIN-VAL:\", train_index[:10], \"TEST:\", test_index[:10])\n",
    "    \n",
    "    X_train, X_test = X[train_index], X[test_index]\n",
    "    y_train, y_test = y[train_index], y[test_index]"
   ]
  },
  {
   "cell_type": "code",
   "execution_count": 9,
   "metadata": {},
   "outputs": [
    {
     "data": {
      "text/plain": [
       "53     blind spots energy transition policy case stud...\n",
       "433    title wellbeing valuation model method monetiz...\n",
       "231    title china india lead greening world landuse ...\n",
       "437    title trajectories quality life following brea...\n",
       "190    title soil carbon per mille abstract per mille...\n",
       "Name: initial_text, dtype: object"
      ]
     },
     "execution_count": 9,
     "metadata": {},
     "output_type": "execute_result"
    }
   ],
   "source": [
    "# check here the indexes. \n",
    "X_train.head()"
   ]
  },
  {
   "cell_type": "code",
   "execution_count": 10,
   "metadata": {},
   "outputs": [
    {
     "data": {
      "text/plain": [
       "53     SDG12\n",
       "433     SDG3\n",
       "231    SDG13\n",
       "437     SDG3\n",
       "190    SDG13\n",
       "762     SDG5\n",
       "362     SDG3\n",
       "761     SDG5\n",
       "169    SDG13\n",
       "530     SDG3\n",
       "Name: sdg, dtype: object"
      ]
     },
     "execution_count": 10,
     "metadata": {},
     "output_type": "execute_result"
    }
   ],
   "source": [
    "y_train.head(10)"
   ]
  },
  {
   "cell_type": "code",
   "execution_count": 11,
   "metadata": {},
   "outputs": [],
   "source": [
    "# We reset the indexes for both the X-train-val and y-train-val in order to break them \n",
    "# again into two subsets.\n",
    "X_train = X_train.reset_index(drop=True)\n",
    "y_train = y_train.reset_index(drop=True)"
   ]
  },
  {
   "cell_type": "code",
   "execution_count": 12,
   "metadata": {},
   "outputs": [
    {
     "name": "stdout",
     "output_type": "stream",
     "text": [
      "X_train shape: (711,)\n",
      "y_train shape: (711,)\n",
      "\n",
      "X_val shape: (99,)\n",
      "y_val shape: (99,)\n",
      "\n",
      "X_test shape: (178,)\n",
      "y_test shape: (178,)\n"
     ]
    }
   ],
   "source": [
    "print('X_train shape: {}'.format(X_train.shape))\n",
    "print('y_train shape: {}'.format(y_train.shape))\n",
    "print()\n",
    "\n",
    "print('X_val shape: {}'.format(X_val.shape))\n",
    "print('y_val shape: {}'.format(y_val.shape))\n",
    "\n",
    "print()\n",
    "print('X_test shape: {}'.format(X_test.shape))\n",
    "print('y_test shape: {}'.format(y_test.shape))"
   ]
  },
  {
   "cell_type": "code",
   "execution_count": 13,
   "metadata": {},
   "outputs": [],
   "source": [
    "# Encoding the labels using a One-Hot Encoder\n",
    "y_enc = OneHotEncoder(sparse=False)"
   ]
  },
  {
   "cell_type": "code",
   "execution_count": 14,
   "metadata": {},
   "outputs": [
    {
     "data": {
      "text/plain": [
       "array([[0., 1., 0., 0., 0., 0.],\n",
       "       [0., 0., 0., 1., 0., 0.],\n",
       "       [0., 0., 1., 0., 0., 0.],\n",
       "       ...,\n",
       "       [0., 0., 0., 1., 0., 0.],\n",
       "       [0., 0., 0., 1., 0., 0.],\n",
       "       [0., 0., 1., 0., 0., 0.]])"
      ]
     },
     "execution_count": 14,
     "metadata": {},
     "output_type": "execute_result"
    }
   ],
   "source": [
    "# At first we run fit_transform on the Training data\n",
    "y_train_enc = y_enc.fit_transform(y_train.values.reshape(-1, 1))\n",
    "y_train_enc\n"
   ]
  },
  {
   "cell_type": "code",
   "execution_count": 15,
   "metadata": {},
   "outputs": [],
   "source": [
    "# Then we use the fitted One-hot-Encoder to transform the rest of the data\n",
    "y_val_enc = y_enc.transform(y_val.values.reshape(-1, 1))\n",
    "\n",
    "y_test_enc = y_enc.transform(y_test.values.reshape(-1, 1))"
   ]
  },
  {
   "cell_type": "code",
   "execution_count": 16,
   "metadata": {},
   "outputs": [
    {
     "name": "stdout",
     "output_type": "stream",
     "text": [
      "y_train shape: (711, 6)\n",
      "y_val shape: (99, 6)\n",
      "y_test shape: (178, 6)\n"
     ]
    }
   ],
   "source": [
    "print('y_train shape: {}'.format(y_train_enc.shape))\n",
    "print('y_val shape: {}'.format(y_val_enc.shape))\n",
    "print('y_test shape: {}'.format(y_test_enc.shape))"
   ]
  },
  {
   "cell_type": "code",
   "execution_count": 17,
   "metadata": {},
   "outputs": [
    {
     "data": {
      "text/plain": [
       "[array(['SDG10', 'SDG12', 'SDG13', 'SDG3', 'SDG5', 'SDG7'], dtype=object)]"
      ]
     },
     "execution_count": 17,
     "metadata": {},
     "output_type": "execute_result"
    }
   ],
   "source": [
    "# The categories that we obtained by the Encoder\n",
    "y_enc.categories_"
   ]
  },
  {
   "cell_type": "code",
   "execution_count": 18,
   "metadata": {},
   "outputs": [
    {
     "data": {
      "text/html": [
       "<div>\n",
       "<style scoped>\n",
       "    .dataframe tbody tr th:only-of-type {\n",
       "        vertical-align: middle;\n",
       "    }\n",
       "\n",
       "    .dataframe tbody tr th {\n",
       "        vertical-align: top;\n",
       "    }\n",
       "\n",
       "    .dataframe thead th {\n",
       "        text-align: right;\n",
       "    }\n",
       "</style>\n",
       "<table border=\"1\" class=\"dataframe\">\n",
       "  <thead>\n",
       "    <tr style=\"text-align: right;\">\n",
       "      <th></th>\n",
       "      <th>SDG10</th>\n",
       "      <th>SDG12</th>\n",
       "      <th>SDG13</th>\n",
       "      <th>SDG3</th>\n",
       "      <th>SDG5</th>\n",
       "      <th>SDG7</th>\n",
       "    </tr>\n",
       "  </thead>\n",
       "  <tbody>\n",
       "    <tr>\n",
       "      <th>0</th>\n",
       "      <td>0.0</td>\n",
       "      <td>1.0</td>\n",
       "      <td>0.0</td>\n",
       "      <td>0.0</td>\n",
       "      <td>0.0</td>\n",
       "      <td>0.0</td>\n",
       "    </tr>\n",
       "    <tr>\n",
       "      <th>1</th>\n",
       "      <td>0.0</td>\n",
       "      <td>0.0</td>\n",
       "      <td>0.0</td>\n",
       "      <td>1.0</td>\n",
       "      <td>0.0</td>\n",
       "      <td>0.0</td>\n",
       "    </tr>\n",
       "    <tr>\n",
       "      <th>2</th>\n",
       "      <td>0.0</td>\n",
       "      <td>0.0</td>\n",
       "      <td>1.0</td>\n",
       "      <td>0.0</td>\n",
       "      <td>0.0</td>\n",
       "      <td>0.0</td>\n",
       "    </tr>\n",
       "    <tr>\n",
       "      <th>3</th>\n",
       "      <td>0.0</td>\n",
       "      <td>0.0</td>\n",
       "      <td>0.0</td>\n",
       "      <td>1.0</td>\n",
       "      <td>0.0</td>\n",
       "      <td>0.0</td>\n",
       "    </tr>\n",
       "    <tr>\n",
       "      <th>4</th>\n",
       "      <td>0.0</td>\n",
       "      <td>0.0</td>\n",
       "      <td>1.0</td>\n",
       "      <td>0.0</td>\n",
       "      <td>0.0</td>\n",
       "      <td>0.0</td>\n",
       "    </tr>\n",
       "    <tr>\n",
       "      <th>5</th>\n",
       "      <td>0.0</td>\n",
       "      <td>0.0</td>\n",
       "      <td>0.0</td>\n",
       "      <td>0.0</td>\n",
       "      <td>1.0</td>\n",
       "      <td>0.0</td>\n",
       "    </tr>\n",
       "    <tr>\n",
       "      <th>6</th>\n",
       "      <td>0.0</td>\n",
       "      <td>0.0</td>\n",
       "      <td>0.0</td>\n",
       "      <td>1.0</td>\n",
       "      <td>0.0</td>\n",
       "      <td>0.0</td>\n",
       "    </tr>\n",
       "    <tr>\n",
       "      <th>7</th>\n",
       "      <td>0.0</td>\n",
       "      <td>0.0</td>\n",
       "      <td>0.0</td>\n",
       "      <td>0.0</td>\n",
       "      <td>1.0</td>\n",
       "      <td>0.0</td>\n",
       "    </tr>\n",
       "    <tr>\n",
       "      <th>8</th>\n",
       "      <td>0.0</td>\n",
       "      <td>0.0</td>\n",
       "      <td>1.0</td>\n",
       "      <td>0.0</td>\n",
       "      <td>0.0</td>\n",
       "      <td>0.0</td>\n",
       "    </tr>\n",
       "    <tr>\n",
       "      <th>9</th>\n",
       "      <td>0.0</td>\n",
       "      <td>0.0</td>\n",
       "      <td>0.0</td>\n",
       "      <td>1.0</td>\n",
       "      <td>0.0</td>\n",
       "      <td>0.0</td>\n",
       "    </tr>\n",
       "  </tbody>\n",
       "</table>\n",
       "</div>"
      ],
      "text/plain": [
       "   SDG10  SDG12  SDG13  SDG3  SDG5  SDG7\n",
       "0    0.0    1.0    0.0   0.0   0.0   0.0\n",
       "1    0.0    0.0    0.0   1.0   0.0   0.0\n",
       "2    0.0    0.0    1.0   0.0   0.0   0.0\n",
       "3    0.0    0.0    0.0   1.0   0.0   0.0\n",
       "4    0.0    0.0    1.0   0.0   0.0   0.0\n",
       "5    0.0    0.0    0.0   0.0   1.0   0.0\n",
       "6    0.0    0.0    0.0   1.0   0.0   0.0\n",
       "7    0.0    0.0    0.0   0.0   1.0   0.0\n",
       "8    0.0    0.0    1.0   0.0   0.0   0.0\n",
       "9    0.0    0.0    0.0   1.0   0.0   0.0"
      ]
     },
     "execution_count": 18,
     "metadata": {},
     "output_type": "execute_result"
    }
   ],
   "source": [
    "# What the aforementioned code did:\n",
    "temp = pd.DataFrame(y_train_enc)\n",
    "temp.columns = list(y_enc.categories_[0])\n",
    "temp.head(10)"
   ]
  },
  {
   "cell_type": "code",
   "execution_count": 19,
   "metadata": {},
   "outputs": [
    {
     "data": {
      "text/html": [
       "<style  type=\"text/css\" >\n",
       "    #T_9d35f45f_10aa_11eb_b8aa_485f99a6d8acrow0_col1 {\n",
       "            background-color:  yellow;\n",
       "        }    #T_9d35f45f_10aa_11eb_b8aa_485f99a6d8acrow1_col3 {\n",
       "            background-color:  yellow;\n",
       "        }    #T_9d35f45f_10aa_11eb_b8aa_485f99a6d8acrow2_col2 {\n",
       "            background-color:  yellow;\n",
       "        }    #T_9d35f45f_10aa_11eb_b8aa_485f99a6d8acrow3_col3 {\n",
       "            background-color:  yellow;\n",
       "        }    #T_9d35f45f_10aa_11eb_b8aa_485f99a6d8acrow4_col2 {\n",
       "            background-color:  yellow;\n",
       "        }    #T_9d35f45f_10aa_11eb_b8aa_485f99a6d8acrow5_col4 {\n",
       "            background-color:  yellow;\n",
       "        }    #T_9d35f45f_10aa_11eb_b8aa_485f99a6d8acrow6_col3 {\n",
       "            background-color:  yellow;\n",
       "        }    #T_9d35f45f_10aa_11eb_b8aa_485f99a6d8acrow7_col4 {\n",
       "            background-color:  yellow;\n",
       "        }    #T_9d35f45f_10aa_11eb_b8aa_485f99a6d8acrow8_col2 {\n",
       "            background-color:  yellow;\n",
       "        }    #T_9d35f45f_10aa_11eb_b8aa_485f99a6d8acrow9_col3 {\n",
       "            background-color:  yellow;\n",
       "        }</style><table id=\"T_9d35f45f_10aa_11eb_b8aa_485f99a6d8ac\" ><thead>    <tr>        <th class=\"blank level0\" ></th>        <th class=\"col_heading level0 col0\" >SDG10</th>        <th class=\"col_heading level0 col1\" >SDG12</th>        <th class=\"col_heading level0 col2\" >SDG13</th>        <th class=\"col_heading level0 col3\" >SDG3</th>        <th class=\"col_heading level0 col4\" >SDG5</th>        <th class=\"col_heading level0 col5\" >SDG7</th>    </tr></thead><tbody>\n",
       "                <tr>\n",
       "                        <th id=\"T_9d35f45f_10aa_11eb_b8aa_485f99a6d8aclevel0_row0\" class=\"row_heading level0 row0\" >0</th>\n",
       "                        <td id=\"T_9d35f45f_10aa_11eb_b8aa_485f99a6d8acrow0_col0\" class=\"data row0 col0\" >0.000000</td>\n",
       "                        <td id=\"T_9d35f45f_10aa_11eb_b8aa_485f99a6d8acrow0_col1\" class=\"data row0 col1\" >1.000000</td>\n",
       "                        <td id=\"T_9d35f45f_10aa_11eb_b8aa_485f99a6d8acrow0_col2\" class=\"data row0 col2\" >0.000000</td>\n",
       "                        <td id=\"T_9d35f45f_10aa_11eb_b8aa_485f99a6d8acrow0_col3\" class=\"data row0 col3\" >0.000000</td>\n",
       "                        <td id=\"T_9d35f45f_10aa_11eb_b8aa_485f99a6d8acrow0_col4\" class=\"data row0 col4\" >0.000000</td>\n",
       "                        <td id=\"T_9d35f45f_10aa_11eb_b8aa_485f99a6d8acrow0_col5\" class=\"data row0 col5\" >0.000000</td>\n",
       "            </tr>\n",
       "            <tr>\n",
       "                        <th id=\"T_9d35f45f_10aa_11eb_b8aa_485f99a6d8aclevel0_row1\" class=\"row_heading level0 row1\" >1</th>\n",
       "                        <td id=\"T_9d35f45f_10aa_11eb_b8aa_485f99a6d8acrow1_col0\" class=\"data row1 col0\" >0.000000</td>\n",
       "                        <td id=\"T_9d35f45f_10aa_11eb_b8aa_485f99a6d8acrow1_col1\" class=\"data row1 col1\" >0.000000</td>\n",
       "                        <td id=\"T_9d35f45f_10aa_11eb_b8aa_485f99a6d8acrow1_col2\" class=\"data row1 col2\" >0.000000</td>\n",
       "                        <td id=\"T_9d35f45f_10aa_11eb_b8aa_485f99a6d8acrow1_col3\" class=\"data row1 col3\" >1.000000</td>\n",
       "                        <td id=\"T_9d35f45f_10aa_11eb_b8aa_485f99a6d8acrow1_col4\" class=\"data row1 col4\" >0.000000</td>\n",
       "                        <td id=\"T_9d35f45f_10aa_11eb_b8aa_485f99a6d8acrow1_col5\" class=\"data row1 col5\" >0.000000</td>\n",
       "            </tr>\n",
       "            <tr>\n",
       "                        <th id=\"T_9d35f45f_10aa_11eb_b8aa_485f99a6d8aclevel0_row2\" class=\"row_heading level0 row2\" >2</th>\n",
       "                        <td id=\"T_9d35f45f_10aa_11eb_b8aa_485f99a6d8acrow2_col0\" class=\"data row2 col0\" >0.000000</td>\n",
       "                        <td id=\"T_9d35f45f_10aa_11eb_b8aa_485f99a6d8acrow2_col1\" class=\"data row2 col1\" >0.000000</td>\n",
       "                        <td id=\"T_9d35f45f_10aa_11eb_b8aa_485f99a6d8acrow2_col2\" class=\"data row2 col2\" >1.000000</td>\n",
       "                        <td id=\"T_9d35f45f_10aa_11eb_b8aa_485f99a6d8acrow2_col3\" class=\"data row2 col3\" >0.000000</td>\n",
       "                        <td id=\"T_9d35f45f_10aa_11eb_b8aa_485f99a6d8acrow2_col4\" class=\"data row2 col4\" >0.000000</td>\n",
       "                        <td id=\"T_9d35f45f_10aa_11eb_b8aa_485f99a6d8acrow2_col5\" class=\"data row2 col5\" >0.000000</td>\n",
       "            </tr>\n",
       "            <tr>\n",
       "                        <th id=\"T_9d35f45f_10aa_11eb_b8aa_485f99a6d8aclevel0_row3\" class=\"row_heading level0 row3\" >3</th>\n",
       "                        <td id=\"T_9d35f45f_10aa_11eb_b8aa_485f99a6d8acrow3_col0\" class=\"data row3 col0\" >0.000000</td>\n",
       "                        <td id=\"T_9d35f45f_10aa_11eb_b8aa_485f99a6d8acrow3_col1\" class=\"data row3 col1\" >0.000000</td>\n",
       "                        <td id=\"T_9d35f45f_10aa_11eb_b8aa_485f99a6d8acrow3_col2\" class=\"data row3 col2\" >0.000000</td>\n",
       "                        <td id=\"T_9d35f45f_10aa_11eb_b8aa_485f99a6d8acrow3_col3\" class=\"data row3 col3\" >1.000000</td>\n",
       "                        <td id=\"T_9d35f45f_10aa_11eb_b8aa_485f99a6d8acrow3_col4\" class=\"data row3 col4\" >0.000000</td>\n",
       "                        <td id=\"T_9d35f45f_10aa_11eb_b8aa_485f99a6d8acrow3_col5\" class=\"data row3 col5\" >0.000000</td>\n",
       "            </tr>\n",
       "            <tr>\n",
       "                        <th id=\"T_9d35f45f_10aa_11eb_b8aa_485f99a6d8aclevel0_row4\" class=\"row_heading level0 row4\" >4</th>\n",
       "                        <td id=\"T_9d35f45f_10aa_11eb_b8aa_485f99a6d8acrow4_col0\" class=\"data row4 col0\" >0.000000</td>\n",
       "                        <td id=\"T_9d35f45f_10aa_11eb_b8aa_485f99a6d8acrow4_col1\" class=\"data row4 col1\" >0.000000</td>\n",
       "                        <td id=\"T_9d35f45f_10aa_11eb_b8aa_485f99a6d8acrow4_col2\" class=\"data row4 col2\" >1.000000</td>\n",
       "                        <td id=\"T_9d35f45f_10aa_11eb_b8aa_485f99a6d8acrow4_col3\" class=\"data row4 col3\" >0.000000</td>\n",
       "                        <td id=\"T_9d35f45f_10aa_11eb_b8aa_485f99a6d8acrow4_col4\" class=\"data row4 col4\" >0.000000</td>\n",
       "                        <td id=\"T_9d35f45f_10aa_11eb_b8aa_485f99a6d8acrow4_col5\" class=\"data row4 col5\" >0.000000</td>\n",
       "            </tr>\n",
       "            <tr>\n",
       "                        <th id=\"T_9d35f45f_10aa_11eb_b8aa_485f99a6d8aclevel0_row5\" class=\"row_heading level0 row5\" >5</th>\n",
       "                        <td id=\"T_9d35f45f_10aa_11eb_b8aa_485f99a6d8acrow5_col0\" class=\"data row5 col0\" >0.000000</td>\n",
       "                        <td id=\"T_9d35f45f_10aa_11eb_b8aa_485f99a6d8acrow5_col1\" class=\"data row5 col1\" >0.000000</td>\n",
       "                        <td id=\"T_9d35f45f_10aa_11eb_b8aa_485f99a6d8acrow5_col2\" class=\"data row5 col2\" >0.000000</td>\n",
       "                        <td id=\"T_9d35f45f_10aa_11eb_b8aa_485f99a6d8acrow5_col3\" class=\"data row5 col3\" >0.000000</td>\n",
       "                        <td id=\"T_9d35f45f_10aa_11eb_b8aa_485f99a6d8acrow5_col4\" class=\"data row5 col4\" >1.000000</td>\n",
       "                        <td id=\"T_9d35f45f_10aa_11eb_b8aa_485f99a6d8acrow5_col5\" class=\"data row5 col5\" >0.000000</td>\n",
       "            </tr>\n",
       "            <tr>\n",
       "                        <th id=\"T_9d35f45f_10aa_11eb_b8aa_485f99a6d8aclevel0_row6\" class=\"row_heading level0 row6\" >6</th>\n",
       "                        <td id=\"T_9d35f45f_10aa_11eb_b8aa_485f99a6d8acrow6_col0\" class=\"data row6 col0\" >0.000000</td>\n",
       "                        <td id=\"T_9d35f45f_10aa_11eb_b8aa_485f99a6d8acrow6_col1\" class=\"data row6 col1\" >0.000000</td>\n",
       "                        <td id=\"T_9d35f45f_10aa_11eb_b8aa_485f99a6d8acrow6_col2\" class=\"data row6 col2\" >0.000000</td>\n",
       "                        <td id=\"T_9d35f45f_10aa_11eb_b8aa_485f99a6d8acrow6_col3\" class=\"data row6 col3\" >1.000000</td>\n",
       "                        <td id=\"T_9d35f45f_10aa_11eb_b8aa_485f99a6d8acrow6_col4\" class=\"data row6 col4\" >0.000000</td>\n",
       "                        <td id=\"T_9d35f45f_10aa_11eb_b8aa_485f99a6d8acrow6_col5\" class=\"data row6 col5\" >0.000000</td>\n",
       "            </tr>\n",
       "            <tr>\n",
       "                        <th id=\"T_9d35f45f_10aa_11eb_b8aa_485f99a6d8aclevel0_row7\" class=\"row_heading level0 row7\" >7</th>\n",
       "                        <td id=\"T_9d35f45f_10aa_11eb_b8aa_485f99a6d8acrow7_col0\" class=\"data row7 col0\" >0.000000</td>\n",
       "                        <td id=\"T_9d35f45f_10aa_11eb_b8aa_485f99a6d8acrow7_col1\" class=\"data row7 col1\" >0.000000</td>\n",
       "                        <td id=\"T_9d35f45f_10aa_11eb_b8aa_485f99a6d8acrow7_col2\" class=\"data row7 col2\" >0.000000</td>\n",
       "                        <td id=\"T_9d35f45f_10aa_11eb_b8aa_485f99a6d8acrow7_col3\" class=\"data row7 col3\" >0.000000</td>\n",
       "                        <td id=\"T_9d35f45f_10aa_11eb_b8aa_485f99a6d8acrow7_col4\" class=\"data row7 col4\" >1.000000</td>\n",
       "                        <td id=\"T_9d35f45f_10aa_11eb_b8aa_485f99a6d8acrow7_col5\" class=\"data row7 col5\" >0.000000</td>\n",
       "            </tr>\n",
       "            <tr>\n",
       "                        <th id=\"T_9d35f45f_10aa_11eb_b8aa_485f99a6d8aclevel0_row8\" class=\"row_heading level0 row8\" >8</th>\n",
       "                        <td id=\"T_9d35f45f_10aa_11eb_b8aa_485f99a6d8acrow8_col0\" class=\"data row8 col0\" >0.000000</td>\n",
       "                        <td id=\"T_9d35f45f_10aa_11eb_b8aa_485f99a6d8acrow8_col1\" class=\"data row8 col1\" >0.000000</td>\n",
       "                        <td id=\"T_9d35f45f_10aa_11eb_b8aa_485f99a6d8acrow8_col2\" class=\"data row8 col2\" >1.000000</td>\n",
       "                        <td id=\"T_9d35f45f_10aa_11eb_b8aa_485f99a6d8acrow8_col3\" class=\"data row8 col3\" >0.000000</td>\n",
       "                        <td id=\"T_9d35f45f_10aa_11eb_b8aa_485f99a6d8acrow8_col4\" class=\"data row8 col4\" >0.000000</td>\n",
       "                        <td id=\"T_9d35f45f_10aa_11eb_b8aa_485f99a6d8acrow8_col5\" class=\"data row8 col5\" >0.000000</td>\n",
       "            </tr>\n",
       "            <tr>\n",
       "                        <th id=\"T_9d35f45f_10aa_11eb_b8aa_485f99a6d8aclevel0_row9\" class=\"row_heading level0 row9\" >9</th>\n",
       "                        <td id=\"T_9d35f45f_10aa_11eb_b8aa_485f99a6d8acrow9_col0\" class=\"data row9 col0\" >0.000000</td>\n",
       "                        <td id=\"T_9d35f45f_10aa_11eb_b8aa_485f99a6d8acrow9_col1\" class=\"data row9 col1\" >0.000000</td>\n",
       "                        <td id=\"T_9d35f45f_10aa_11eb_b8aa_485f99a6d8acrow9_col2\" class=\"data row9 col2\" >0.000000</td>\n",
       "                        <td id=\"T_9d35f45f_10aa_11eb_b8aa_485f99a6d8acrow9_col3\" class=\"data row9 col3\" >1.000000</td>\n",
       "                        <td id=\"T_9d35f45f_10aa_11eb_b8aa_485f99a6d8acrow9_col4\" class=\"data row9 col4\" >0.000000</td>\n",
       "                        <td id=\"T_9d35f45f_10aa_11eb_b8aa_485f99a6d8acrow9_col5\" class=\"data row9 col5\" >0.000000</td>\n",
       "            </tr>\n",
       "    </tbody></table>"
      ],
      "text/plain": [
       "<pandas.io.formats.style.Styler at 0x28ad1118280>"
      ]
     },
     "execution_count": 19,
     "metadata": {},
     "output_type": "execute_result"
    }
   ],
   "source": [
    "def highlight_ones(s):\n",
    "    '''\n",
    "    highlight the number 1 in a Series yellow.\n",
    "    '''\n",
    "    is_max = s == 1\n",
    "    return ['background-color: yellow' if v else '' for v in is_max]\n",
    "temp.head(10).style.apply(highlight_ones)"
   ]
  },
  {
   "cell_type": "code",
   "execution_count": 20,
   "metadata": {},
   "outputs": [
    {
     "data": {
      "text/plain": [
       "SDG10     40.0\n",
       "SDG12     35.0\n",
       "SDG13    194.0\n",
       "SDG3     211.0\n",
       "SDG5     198.0\n",
       "SDG7      33.0\n",
       "dtype: float64"
      ]
     },
     "execution_count": 20,
     "metadata": {},
     "output_type": "execute_result"
    }
   ],
   "source": [
    "temp.sum(axis=0).head(10)"
   ]
  },
  {
   "cell_type": "code",
   "execution_count": 21,
   "metadata": {},
   "outputs": [],
   "source": [
    "from tensorflow.keras.models import Sequential\n",
    "from tensorflow.keras.layers import Dense, Dropout, Activation\n",
    "from tensorflow.keras import metrics\n",
    "from tensorflow.keras.utils import plot_model\n",
    "import pydot"
   ]
  },
  {
   "cell_type": "code",
   "execution_count": 22,
   "metadata": {},
   "outputs": [],
   "source": [
    "#define max_words parameter\n",
    "max_words = 3000"
   ]
  },
  {
   "cell_type": "code",
   "execution_count": 23,
   "metadata": {},
   "outputs": [
    {
     "name": "stdout",
     "output_type": "stream",
     "text": [
      "Number of Classes (SDG): 6\n"
     ]
    }
   ],
   "source": [
    "# Some parameters that we will use:\n",
    "\n",
    "# Number of Classes for the Y labels (number of lyricists)\n",
    "nb_classes = len(y_enc.categories_[0])\n",
    "\n",
    "print('Number of Classes (SDG): {}'.format(nb_classes))\n",
    "\n",
    "# Number of Epochs that we will train our Feed Forward Network\n",
    "nb_epoch = 5\n",
    "\n",
    "# The batch_size of the data that will be fed to the Model when training\n",
    "batch_size = 32 \n",
    "\n",
    "# Dropout Rate of the Dropout Layer (how many neurons to shutdown each time)\n",
    "dropout_rate = 0.4"
   ]
  },
  {
   "cell_type": "code",
   "execution_count": 24,
   "metadata": {},
   "outputs": [
    {
     "name": "stdout",
     "output_type": "stream",
     "text": [
      "Building model...\n",
      "\n",
      "Model: \"sequential\"\n",
      "_________________________________________________________________\n",
      "Layer (type)                 Output Shape              Param #   \n",
      "=================================================================\n",
      "dense (Dense)                (None, 512)               1536512   \n",
      "_________________________________________________________________\n",
      "activation (Activation)      (None, 512)               0         \n",
      "_________________________________________________________________\n",
      "dropout (Dropout)            (None, 512)               0         \n",
      "_________________________________________________________________\n",
      "dense_1 (Dense)              (None, 512)               262656    \n",
      "_________________________________________________________________\n",
      "activation_1 (Activation)    (None, 512)               0         \n",
      "_________________________________________________________________\n",
      "dropout_1 (Dropout)          (None, 512)               0         \n",
      "_________________________________________________________________\n",
      "dense_2 (Dense)              (None, 6)                 3078      \n",
      "_________________________________________________________________\n",
      "activation_2 (Activation)    (None, 6)                 0         \n",
      "=================================================================\n",
      "Total params: 1,802,246\n",
      "Trainable params: 1,802,246\n",
      "Non-trainable params: 0\n",
      "_________________________________________________________________\n",
      "None\n"
     ]
    }
   ],
   "source": [
    "print('Building model...', end='\\n\\n')\n",
    "\n",
    "# The model that we will create is a sequential model meaning that\n",
    "# each layer that we add per line will use as input the output of the \n",
    "# former layer added to the model\n",
    "\n",
    "# define an empty sequential structure \n",
    "model = Sequential()\n",
    "\n",
    "# add a dense layer (MLP)\n",
    "model.add(Dense(512, input_shape=(max_words,)))\n",
    "\n",
    "# use a relu activation on MLP's outputs\n",
    "model.add(Activation('relu'))\n",
    "\n",
    "# use a dropout layer with with 40% of inputs dropped\n",
    "model.add(Dropout(dropout_rate))\n",
    "\n",
    "# add a dense layer (MLP)\n",
    "model.add(Dense(512))\n",
    "\n",
    "# use a relu activation on MLP's outputs\n",
    "model.add(Activation('relu'))\n",
    "\n",
    "# use a dropout layer with with 20% of inputs droped\n",
    "model.add(Dropout(dropout_rate))\n",
    "\n",
    "# add a dense layer (MLP) \n",
    "model.add(Dense(nb_classes))\n",
    "\n",
    "# use a softmax activation on 2nd MLP's outputs\n",
    "model.add(Activation('softmax'))\n",
    "\n",
    "# we have defined the structure of the model\n",
    "\n",
    "# print model layers' info\n",
    "print(model.summary())"
   ]
  },
  {
   "cell_type": "code",
   "execution_count": 25,
   "metadata": {},
   "outputs": [
    {
     "data": {
      "image/png": "[encoded data removed]",
      "text/plain": [
       "<IPython.core.display.Image object>"
      ]
     },
     "execution_count": 25,
     "metadata": {},
     "output_type": "execute_result"
    }
   ],
   "source": [
    "plot_model(model,\n",
    "           to_file='model_plot.png',\n",
    "           show_shapes=True,\n",
    "           show_layer_names=True)"
   ]
  },
  {
   "cell_type": "code",
   "execution_count": 26,
   "metadata": {},
   "outputs": [],
   "source": [
    "# We compile the model using categorical crossentropy as a loss function \n",
    "# The reason is that we want to predict the lyricist among many lyricists\n",
    "\n",
    "# and Adam as an optimizer (is more robust thatn Gradient Descent Optimizer)\n",
    "# As a metric we can use \"accuracy\"\n",
    "model.compile(\n",
    "    loss='categorical_crossentropy',\n",
    "    optimizer='adam',\n",
    "    metrics=['accuracy'],\n",
    ")"
   ]
  },
  {
   "cell_type": "code",
   "execution_count": 27,
   "metadata": {},
   "outputs": [],
   "source": [
    "from sklearn.feature_extraction.text import CountVectorizer, TfidfVectorizer"
   ]
  },
  {
   "cell_type": "code",
   "execution_count": 28,
   "metadata": {},
   "outputs": [
    {
     "data": {
      "text/plain": [
       "CountVectorizer(max_features=3000, strip_accents='unicode')"
      ]
     },
     "execution_count": 28,
     "metadata": {},
     "output_type": "execute_result"
    }
   ],
   "source": [
    "# This vectorizer will give the number of appearances of each word\n",
    "counter_vectorizer = CountVectorizer(\n",
    "    encoding='utf-8',\n",
    "    strip_accents='unicode',\n",
    "    lowercase=True,\n",
    "    ngram_range=(1, 1), # unigrams\n",
    "    max_features=max_words,\n",
    "    binary=False # binary output or full counts. \n",
    ")\n",
    "counter_vectorizer"
   ]
  },
  {
   "cell_type": "code",
   "execution_count": 29,
   "metadata": {},
   "outputs": [],
   "source": [
    "X_train_enc = counter_vectorizer.fit_transform(X_train)"
   ]
  },
  {
   "cell_type": "code",
   "execution_count": 30,
   "metadata": {},
   "outputs": [
    {
     "data": {
      "text/plain": [
       "<711x3000 sparse matrix of type '<class 'numpy.int64'>'\n",
       "\twith 57465 stored elements in Compressed Sparse Row format>"
      ]
     },
     "execution_count": 30,
     "metadata": {},
     "output_type": "execute_result"
    }
   ],
   "source": [
    "X_train_enc"
   ]
  },
  {
   "cell_type": "code",
   "execution_count": 31,
   "metadata": {},
   "outputs": [],
   "source": [
    "# Using the FITTED CountVectorizer we transform the Validation and Test Sets\n",
    "X_val_enc = counter_vectorizer.transform(X_val)\n",
    "X_test_enc = counter_vectorizer.transform(X_test)"
   ]
  },
  {
   "cell_type": "code",
   "execution_count": 32,
   "metadata": {},
   "outputs": [
    {
     "name": "stdout",
     "output_type": "stream",
     "text": [
      "X_train encoded shape: (711, 3000)\n",
      "X_val encoded shape: (99, 3000)\n",
      "X_test encoded shape: (178, 3000)\n"
     ]
    }
   ],
   "source": [
    "print('X_train encoded shape: {}'.format(X_train_enc.shape))\n",
    "print('X_val encoded shape: {}'.format(X_val_enc.shape))\n",
    "print('X_test encoded shape: {}'.format(X_test_enc.shape))"
   ]
  },
  {
   "cell_type": "code",
   "execution_count": 33,
   "metadata": {},
   "outputs": [
    {
     "data": {
      "text/plain": [
       "matrix([[0, 0, 0, ..., 0, 0, 0]], dtype=int64)"
      ]
     },
     "execution_count": 33,
     "metadata": {},
     "output_type": "execute_result"
    }
   ],
   "source": [
    "X_train_enc[0].todense()"
   ]
  },
  {
   "cell_type": "code",
   "execution_count": 34,
   "metadata": {
    "scrolled": true
   },
   "outputs": [
    {
     "data": {
      "text/plain": [
       "matrix([[0, 0, 0, ..., 0, 0, 0],\n",
       "        [0, 0, 0, ..., 0, 0, 0],\n",
       "        [0, 0, 0, ..., 0, 0, 0],\n",
       "        ...,\n",
       "        [0, 0, 0, ..., 0, 0, 0],\n",
       "        [0, 0, 0, ..., 0, 0, 0],\n",
       "        [0, 0, 0, ..., 0, 0, 0]], dtype=int64)"
      ]
     },
     "execution_count": 34,
     "metadata": {},
     "output_type": "execute_result"
    }
   ],
   "source": [
    "X_train_enc.todense()"
   ]
  },
  {
   "cell_type": "code",
   "execution_count": 35,
   "metadata": {
    "scrolled": true
   },
   "outputs": [
    {
     "data": {
      "text/plain": [
       "array([[0., 1., 0., 0., 0., 0.],\n",
       "       [0., 0., 0., 1., 0., 0.],\n",
       "       [0., 0., 1., 0., 0., 0.],\n",
       "       ...,\n",
       "       [0., 0., 0., 1., 0., 0.],\n",
       "       [0., 0., 0., 1., 0., 0.],\n",
       "       [0., 0., 1., 0., 0., 0.]])"
      ]
     },
     "execution_count": 35,
     "metadata": {},
     "output_type": "execute_result"
    }
   ],
   "source": [
    "y_train_enc"
   ]
  },
  {
   "cell_type": "code",
   "execution_count": 36,
   "metadata": {
    "scrolled": true
   },
   "outputs": [
    {
     "data": {
      "text/plain": [
       "matrix([[0, 0, 0, ..., 0, 0, 0],\n",
       "        [0, 0, 0, ..., 0, 0, 0],\n",
       "        [0, 0, 0, ..., 0, 0, 0],\n",
       "        ...,\n",
       "        [0, 0, 0, ..., 0, 0, 0],\n",
       "        [0, 0, 0, ..., 0, 0, 0],\n",
       "        [0, 0, 0, ..., 0, 0, 0]], dtype=int64)"
      ]
     },
     "execution_count": 36,
     "metadata": {},
     "output_type": "execute_result"
    }
   ],
   "source": [
    "X_val_enc.todense()"
   ]
  },
  {
   "cell_type": "code",
   "execution_count": 37,
   "metadata": {},
   "outputs": [
    {
     "data": {
      "text/plain": [
       "array([[0., 0., 0., 0., 0., 1.],\n",
       "       [1., 0., 0., 0., 0., 0.],\n",
       "       [1., 0., 0., 0., 0., 0.],\n",
       "       [1., 0., 0., 0., 0., 0.],\n",
       "       [1., 0., 0., 0., 0., 0.],\n",
       "       [1., 0., 0., 0., 0., 0.],\n",
       "       [0., 1., 0., 0., 0., 0.],\n",
       "       [0., 1., 0., 0., 0., 0.],\n",
       "       [0., 1., 0., 0., 0., 0.],\n",
       "       [0., 1., 0., 0., 0., 0.],\n",
       "       [0., 1., 0., 0., 0., 0.],\n",
       "       [0., 1., 0., 0., 0., 0.],\n",
       "       [0., 0., 0., 0., 1., 0.],\n",
       "       [0., 0., 0., 0., 1., 0.],\n",
       "       [0., 0., 0., 0., 1., 0.],\n",
       "       [0., 0., 0., 0., 1., 0.],\n",
       "       [0., 0., 0., 0., 1., 0.],\n",
       "       [0., 0., 0., 0., 1., 0.],\n",
       "       [0., 0., 0., 0., 1., 0.],\n",
       "       [0., 0., 0., 0., 1., 0.],\n",
       "       [0., 0., 0., 0., 1., 0.],\n",
       "       [0., 0., 0., 0., 1., 0.],\n",
       "       [0., 0., 0., 0., 1., 0.],\n",
       "       [0., 0., 0., 0., 1., 0.],\n",
       "       [0., 0., 0., 0., 1., 0.],\n",
       "       [0., 0., 0., 0., 1., 0.],\n",
       "       [0., 0., 0., 0., 1., 0.],\n",
       "       [0., 0., 0., 0., 1., 0.],\n",
       "       [0., 0., 0., 0., 1., 0.],\n",
       "       [0., 0., 0., 0., 1., 0.],\n",
       "       [0., 0., 0., 0., 1., 0.],\n",
       "       [0., 0., 0., 0., 1., 0.],\n",
       "       [0., 0., 0., 0., 1., 0.],\n",
       "       [0., 0., 0., 0., 1., 0.],\n",
       "       [0., 0., 0., 0., 1., 0.],\n",
       "       [0., 0., 0., 0., 1., 0.],\n",
       "       [0., 0., 0., 0., 1., 0.],\n",
       "       [0., 0., 0., 0., 1., 0.],\n",
       "       [0., 0., 0., 1., 0., 0.],\n",
       "       [0., 0., 0., 1., 0., 0.],\n",
       "       [0., 0., 0., 1., 0., 0.],\n",
       "       [0., 0., 0., 1., 0., 0.],\n",
       "       [0., 0., 0., 1., 0., 0.],\n",
       "       [0., 0., 0., 1., 0., 0.],\n",
       "       [0., 0., 0., 1., 0., 0.],\n",
       "       [0., 0., 0., 1., 0., 0.],\n",
       "       [0., 0., 0., 1., 0., 0.],\n",
       "       [0., 0., 0., 1., 0., 0.],\n",
       "       [0., 0., 0., 1., 0., 0.],\n",
       "       [0., 0., 0., 1., 0., 0.],\n",
       "       [0., 0., 0., 1., 0., 0.],\n",
       "       [0., 0., 0., 1., 0., 0.],\n",
       "       [0., 0., 0., 1., 0., 0.],\n",
       "       [0., 0., 0., 1., 0., 0.],\n",
       "       [0., 0., 0., 1., 0., 0.],\n",
       "       [0., 0., 0., 1., 0., 0.],\n",
       "       [0., 0., 0., 1., 0., 0.],\n",
       "       [0., 0., 0., 1., 0., 0.],\n",
       "       [0., 0., 0., 1., 0., 0.],\n",
       "       [0., 0., 0., 1., 0., 0.],\n",
       "       [0., 0., 0., 1., 0., 0.],\n",
       "       [0., 0., 0., 1., 0., 0.],\n",
       "       [0., 0., 0., 1., 0., 0.],\n",
       "       [0., 0., 0., 1., 0., 0.],\n",
       "       [0., 0., 0., 1., 0., 0.],\n",
       "       [0., 0., 0., 1., 0., 0.],\n",
       "       [0., 0., 0., 1., 0., 0.],\n",
       "       [0., 0., 0., 1., 0., 0.],\n",
       "       [0., 0., 0., 1., 0., 0.],\n",
       "       [0., 0., 0., 1., 0., 0.],\n",
       "       [0., 0., 0., 0., 1., 0.],\n",
       "       [0., 0., 0., 0., 1., 0.],\n",
       "       [0., 0., 0., 0., 1., 0.],\n",
       "       [0., 0., 0., 0., 1., 0.],\n",
       "       [0., 0., 1., 0., 0., 0.],\n",
       "       [0., 0., 1., 0., 0., 0.],\n",
       "       [0., 0., 1., 0., 0., 0.],\n",
       "       [0., 0., 1., 0., 0., 0.],\n",
       "       [0., 0., 1., 0., 0., 0.],\n",
       "       [0., 0., 1., 0., 0., 0.],\n",
       "       [0., 0., 1., 0., 0., 0.],\n",
       "       [0., 0., 1., 0., 0., 0.],\n",
       "       [0., 0., 1., 0., 0., 0.],\n",
       "       [0., 0., 1., 0., 0., 0.],\n",
       "       [0., 0., 1., 0., 0., 0.],\n",
       "       [0., 0., 1., 0., 0., 0.],\n",
       "       [0., 0., 1., 0., 0., 0.],\n",
       "       [0., 0., 1., 0., 0., 0.],\n",
       "       [0., 0., 1., 0., 0., 0.],\n",
       "       [0., 0., 1., 0., 0., 0.],\n",
       "       [0., 0., 1., 0., 0., 0.],\n",
       "       [0., 0., 0., 1., 0., 0.],\n",
       "       [0., 0., 0., 1., 0., 0.],\n",
       "       [0., 0., 1., 0., 0., 0.],\n",
       "       [0., 0., 1., 0., 0., 0.],\n",
       "       [0., 0., 1., 0., 0., 0.],\n",
       "       [0., 0., 1., 0., 0., 0.],\n",
       "       [0., 0., 1., 0., 0., 0.],\n",
       "       [0., 0., 1., 0., 0., 0.]])"
      ]
     },
     "execution_count": 37,
     "metadata": {},
     "output_type": "execute_result"
    }
   ],
   "source": [
    "y_val_enc"
   ]
  },
  {
   "cell_type": "code",
   "execution_count": 38,
   "metadata": {},
   "outputs": [
    {
     "name": "stdout",
     "output_type": "stream",
     "text": [
      "Epoch 1/5\n",
      "23/23 [==============================] - 1s 26ms/step - loss: 0.9432 - accuracy: 0.6765 - val_loss: 0.3947 - val_accuracy: 0.8652\n",
      "Epoch 2/5\n",
      "23/23 [==============================] - 0s 15ms/step - loss: 0.1701 - accuracy: 0.9550 - val_loss: 0.3290 - val_accuracy: 0.8820\n",
      "Epoch 3/5\n",
      "23/23 [==============================] - 0s 14ms/step - loss: 0.0491 - accuracy: 0.9859 - val_loss: 0.3061 - val_accuracy: 0.8989\n",
      "Epoch 4/5\n",
      "23/23 [==============================] - 0s 14ms/step - loss: 0.0122 - accuracy: 0.9986 - val_loss: 0.2743 - val_accuracy: 0.9045\n",
      "Epoch 5/5\n",
      "23/23 [==============================] - 0s 15ms/step - loss: 0.0104 - accuracy: 0.9986 - val_loss: 0.3291 - val_accuracy: 0.8876\n"
     ]
    }
   ],
   "source": [
    "# We train (fit our data to) our model\n",
    "history = model.fit(\n",
    "    x=X_train_enc.todense(), # features (as dense inputs)\n",
    "    y=y_train_enc,           # labels\n",
    "    batch_size=batch_size,   # define batch size\n",
    "    epochs=nb_epoch,         # number of epochs\n",
    "    verbose=1,               # the most extended verbosity level\n",
    "    validation_data=(       \n",
    "    X_test_enc.todense(),     # the validation split that we did before\n",
    "    y_test_enc)\n",
    ")"
   ]
  },
  {
   "cell_type": "code",
   "execution_count": 39,
   "metadata": {},
   "outputs": [
    {
     "name": "stdout",
     "output_type": "stream",
     "text": [
      "4/4 - 0s - loss: 0.0691 - accuracy: 0.9798\n"
     ]
    }
   ],
   "source": [
    "# evaluate and store on score variable on the TEST DATASET\n",
    "score = model.evaluate(\n",
    "    X_val_enc.todense(),    # features\n",
    "    y_val_enc,              # labels\n",
    "    batch_size=batch_size,   # batch size\n",
    "    verbose=2                # the most extended verbose\n",
    ")"
   ]
  },
  {
   "cell_type": "code",
   "execution_count": 40,
   "metadata": {},
   "outputs": [
    {
     "name": "stdout",
     "output_type": "stream",
     "text": [
      "[0.06912695616483688, 0.9797979593276978]\n"
     ]
    }
   ],
   "source": [
    "print(score)"
   ]
  },
  {
   "cell_type": "code",
   "execution_count": 41,
   "metadata": {},
   "outputs": [
    {
     "name": "stdout",
     "output_type": "stream",
     "text": [
      "\n",
      "Test categorical_crossentropy: 0.06912695616483688\n",
      "\n",
      "Test accuracy: 97.980 %\n"
     ]
    }
   ],
   "source": [
    "print('\\nTest categorical_crossentropy: {}'.format(score[0]))\n",
    "print('\\nTest accuracy: {:.3f} %'.format(score[1]*100))"
   ]
  },
  {
   "cell_type": "code",
   "execution_count": 42,
   "metadata": {},
   "outputs": [
    {
     "data": {
      "text/plain": [
       "array([[4.11307527e-04, 4.99635469e-04, 8.89890362e-05, 7.42697812e-05,\n",
       "        3.01181117e-05, 9.98895645e-01],\n",
       "       [9.98623252e-01, 1.20456261e-03, 4.82000542e-06, 4.31609296e-05,\n",
       "        6.92732719e-05, 5.48537901e-05],\n",
       "       [9.98114228e-01, 8.94830038e-04, 2.35261730e-04, 2.27317621e-04,\n",
       "        3.37319871e-05, 4.94712207e-04],\n",
       "       [9.99539256e-01, 6.68830326e-05, 3.51483963e-04, 1.14772376e-06,\n",
       "        8.87454007e-07, 4.04249513e-05],\n",
       "       [9.90902722e-01, 2.47958489e-03, 2.82521039e-04, 4.38429299e-04,\n",
       "        4.77020571e-04, 5.41963102e-03],\n",
       "       [9.94407177e-01, 4.29486128e-04, 3.97730728e-05, 7.05417988e-05,\n",
       "        4.90211969e-05, 5.00393985e-03],\n",
       "       [4.97363955e-02, 2.58146506e-02, 8.78247060e-03, 8.53521843e-03,\n",
       "        4.80399057e-02, 8.59091341e-01],\n",
       "       [1.89695079e-02, 8.61366034e-01, 2.59949621e-02, 9.73704678e-04,\n",
       "        7.03980098e-04, 9.19916779e-02],\n",
       "       [2.41622608e-03, 9.93716955e-01, 1.51761191e-03, 1.66583297e-04,\n",
       "        8.26404357e-05, 2.09995615e-03],\n",
       "       [7.89454758e-01, 5.78293391e-02, 1.15477974e-02, 9.88459121e-03,\n",
       "        2.89961416e-03, 1.28383875e-01],\n",
       "       [4.43164259e-03, 9.89743650e-01, 4.12480487e-03, 6.56672346e-04,\n",
       "        3.16798862e-04, 7.26344064e-04],\n",
       "       [1.45513308e-03, 9.95108902e-01, 9.90553992e-04, 1.17793761e-03,\n",
       "        2.69417302e-04, 9.97997005e-04],\n",
       "       [1.59928732e-05, 8.32640126e-06, 9.20766524e-06, 1.71126158e-05,\n",
       "        9.99942780e-01, 6.51872278e-06],\n",
       "       [1.50425422e-10, 9.73089054e-10, 1.09810779e-10, 3.58491619e-08,\n",
       "        1.00000000e+00, 2.24713664e-10],\n",
       "       [1.07216591e-03, 1.17933308e-03, 1.88901252e-03, 1.22220896e-03,\n",
       "        9.93962705e-01, 6.74580224e-04],\n",
       "       [1.13245136e-07, 1.96123651e-07, 2.46527403e-08, 1.45514505e-07,\n",
       "        9.99999523e-01, 3.87881975e-08],\n",
       "       [3.55388765e-04, 8.21520807e-04, 2.43158240e-04, 1.64801226e-04,\n",
       "        9.98164117e-01, 2.51067890e-04],\n",
       "       [6.43570547e-06, 1.08388622e-05, 6.28370060e-07, 1.97260015e-05,\n",
       "        9.99959469e-01, 2.81346411e-06],\n",
       "       [1.92586012e-05, 2.56064941e-05, 1.56447800e-06, 5.57751518e-05,\n",
       "        9.99878645e-01, 1.92280459e-05],\n",
       "       [4.95910754e-05, 4.01511534e-05, 4.10166176e-05, 2.99648727e-05,\n",
       "        9.99816597e-01, 2.27905311e-05],\n",
       "       [9.79071774e-05, 1.25597508e-04, 7.29088206e-05, 3.66526569e-04,\n",
       "        9.99262512e-01, 7.45176658e-05],\n",
       "       [3.98859302e-05, 5.45461044e-05, 1.27170533e-05, 4.48133651e-05,\n",
       "        9.99821842e-01, 2.62435133e-05],\n",
       "       [1.08235050e-03, 1.57684262e-03, 8.94206867e-04, 1.23579323e-03,\n",
       "        9.94529307e-01, 6.81442558e-04],\n",
       "       [4.43116674e-04, 1.02151884e-03, 3.47333087e-04, 2.28291901e-04,\n",
       "        9.97576177e-01, 3.83575156e-04],\n",
       "       [4.00936417e-03, 4.79221670e-03, 3.10316123e-03, 7.78752787e-04,\n",
       "        9.84819889e-01, 2.49662949e-03],\n",
       "       [1.95280148e-09, 5.58986990e-09, 3.45963302e-09, 3.36584005e-09,\n",
       "        1.00000000e+00, 1.42989687e-09],\n",
       "       [1.44803394e-07, 9.67847598e-08, 7.45465059e-08, 4.27379661e-08,\n",
       "        9.99999642e-01, 4.30696332e-08],\n",
       "       [7.14703052e-09, 2.22433769e-08, 1.44052903e-09, 2.04071142e-08,\n",
       "        1.00000000e+00, 5.31027977e-09],\n",
       "       [2.49400018e-05, 4.13839116e-05, 1.35660584e-05, 1.19808166e-04,\n",
       "        9.99785960e-01, 1.42585886e-05],\n",
       "       [3.36924654e-06, 7.99967529e-06, 2.37380073e-06, 1.50999665e-04,\n",
       "        9.99830365e-01, 4.91554829e-06],\n",
       "       [2.70972669e-05, 6.24187960e-05, 4.95001723e-06, 8.10479178e-05,\n",
       "        9.99809563e-01, 1.48521704e-05],\n",
       "       [2.93087055e-07, 5.06121751e-07, 9.03554209e-08, 8.45658292e-07,\n",
       "        9.99998093e-01, 1.78423591e-07],\n",
       "       [1.73990588e-06, 2.36649316e-06, 4.17833547e-07, 1.68693441e-06,\n",
       "        9.99993443e-01, 3.29512858e-07],\n",
       "       [1.76999276e-06, 4.56582302e-06, 4.73312696e-07, 1.28870888e-05,\n",
       "        9.99979377e-01, 9.11908728e-07],\n",
       "       [1.16722286e-03, 3.33202211e-03, 1.04622645e-02, 2.53706500e-02,\n",
       "        9.57163334e-01, 2.50450172e-03],\n",
       "       [1.38774640e-05, 3.37064994e-05, 5.43841770e-06, 2.32073126e-05,\n",
       "        9.99914408e-01, 9.35198932e-06],\n",
       "       [3.89810538e-07, 4.61662069e-07, 1.07778511e-07, 9.67531196e-06,\n",
       "        9.99989152e-01, 2.61734129e-07],\n",
       "       [2.72114312e-06, 1.27291169e-05, 5.86871283e-06, 2.89237418e-04,\n",
       "        9.99685645e-01, 3.83363704e-06],\n",
       "       [6.88082924e-12, 3.26647265e-10, 8.78649909e-14, 1.00000000e+00,\n",
       "        4.28956974e-11, 2.67360353e-11],\n",
       "       [1.62812448e-05, 2.16537213e-04, 9.38566882e-06, 9.99717534e-01,\n",
       "        1.43706020e-05, 2.58511755e-05],\n",
       "       [1.98397632e-10, 5.11924148e-09, 5.78267434e-10, 1.00000000e+00,\n",
       "        6.59429178e-10, 6.02607297e-10],\n",
       "       [2.20321184e-09, 1.15732384e-08, 1.75701509e-10, 1.00000000e+00,\n",
       "        3.55325103e-10, 1.00662865e-08],\n",
       "       [7.52056806e-10, 3.10529669e-09, 2.01810721e-11, 1.00000000e+00,\n",
       "        3.77617354e-10, 1.11499476e-09],\n",
       "       [1.96369676e-08, 3.14559088e-07, 2.13111240e-09, 9.99999642e-01,\n",
       "        9.65756008e-09, 3.63969548e-08],\n",
       "       [7.10990093e-08, 4.45577548e-08, 6.72400802e-09, 9.99999762e-01,\n",
       "        6.11145223e-09, 9.46123890e-08],\n",
       "       [5.04703166e-06, 1.43484736e-04, 4.61832178e-06, 9.99831557e-01,\n",
       "        5.90883337e-06, 9.26055054e-06],\n",
       "       [1.08619368e-07, 5.58257216e-06, 5.04626243e-08, 9.99986172e-01,\n",
       "        8.02443446e-06, 8.55536015e-08],\n",
       "       [7.26162853e-07, 1.82643328e-06, 1.98031853e-06, 9.99993086e-01,\n",
       "        7.72305839e-07, 1.68285885e-06],\n",
       "       [1.79592666e-06, 4.20790529e-05, 5.39137045e-06, 9.99943376e-01,\n",
       "        1.72346984e-06, 5.76234288e-06],\n",
       "       [1.24676532e-07, 1.65017170e-07, 1.30813360e-09, 9.99997854e-01,\n",
       "        1.61634887e-06, 2.64691153e-07],\n",
       "       [6.18157355e-06, 1.25409642e-04, 9.57157954e-06, 9.99773800e-01,\n",
       "        6.83295875e-05, 1.68116258e-05],\n",
       "       [1.44813009e-06, 4.24936388e-06, 1.43628185e-07, 9.99963522e-01,\n",
       "        1.29811281e-06, 2.93668963e-05],\n",
       "       [8.41597102e-06, 1.62319513e-04, 3.43033680e-05, 9.99758422e-01,\n",
       "        1.63527475e-05, 2.02095343e-05],\n",
       "       [1.86686194e-07, 5.50099628e-07, 5.50017027e-08, 9.99998689e-01,\n",
       "        2.98226382e-07, 1.42034338e-07],\n",
       "       [8.17449886e-10, 9.68104459e-08, 2.99235969e-10, 9.99999881e-01,\n",
       "        3.82053411e-09, 2.10089612e-09],\n",
       "       [6.32758674e-05, 1.66162907e-04, 3.40982333e-05, 9.99448359e-01,\n",
       "        2.58923130e-04, 2.92141176e-05],\n",
       "       [9.15418786e-06, 1.47535875e-05, 2.17809543e-06, 9.99965787e-01,\n",
       "        1.71377917e-06, 6.47428897e-06],\n",
       "       [1.44012269e-08, 2.01457610e-07, 1.37104550e-09, 9.99999642e-01,\n",
       "        1.34547431e-08, 9.17005849e-08],\n",
       "       [7.43600248e-09, 3.04771142e-08, 3.26467386e-09, 9.99999881e-01,\n",
       "        2.59455257e-09, 1.01892816e-07],\n",
       "       [2.65644248e-05, 1.51135318e-04, 6.77261369e-06, 9.99764144e-01,\n",
       "        1.72111049e-05, 3.42214153e-05],\n",
       "       [6.63694477e-09, 1.39193634e-08, 7.48325124e-10, 1.00000000e+00,\n",
       "        9.88073234e-11, 5.05208853e-09],\n",
       "       [6.92043045e-07, 1.12291173e-05, 2.27245027e-06, 9.99980807e-01,\n",
       "        3.01513887e-06, 1.97773488e-06],\n",
       "       [6.99878183e-06, 2.50262692e-05, 8.02944032e-06, 9.99949813e-01,\n",
       "        2.52641996e-07, 9.92406876e-06],\n",
       "       [1.56789873e-04, 2.23573690e-04, 1.07262720e-04, 9.99048531e-01,\n",
       "        1.92197520e-04, 2.71699042e-04],\n",
       "       [2.44832021e-09, 8.33411029e-09, 4.14493684e-09, 1.00000000e+00,\n",
       "        1.59285152e-09, 1.87523206e-08],\n",
       "       [7.97342103e-09, 1.19017109e-07, 8.15175483e-09, 9.99999762e-01,\n",
       "        6.45096776e-09, 1.44161177e-07],\n",
       "       [3.00289216e-08, 1.24135923e-07, 2.02633843e-09, 9.99999166e-01,\n",
       "        1.14717437e-07, 6.32307263e-07],\n",
       "       [4.27353399e-07, 4.66276589e-07, 3.20831859e-08, 9.99998689e-01,\n",
       "        1.63720557e-08, 3.53053963e-07],\n",
       "       [4.70050310e-09, 1.25265256e-08, 3.32128047e-10, 1.00000000e+00,\n",
       "        1.70764763e-10, 5.10893106e-09],\n",
       "       [7.03183645e-08, 6.96455345e-07, 6.79729784e-09, 9.99999166e-01,\n",
       "        1.35824987e-08, 9.87813848e-08],\n",
       "       [4.97442487e-09, 9.94128602e-09, 2.02421746e-10, 5.10493066e-07,\n",
       "        9.99999523e-01, 1.14522187e-08],\n",
       "       [3.33841854e-07, 5.30058423e-06, 2.00679565e-07, 2.74437498e-05,\n",
       "        9.99964833e-01, 1.95898065e-06],\n",
       "       [3.66375374e-08, 1.15218910e-07, 1.88618348e-08, 2.09559366e-05,\n",
       "        9.99978900e-01, 2.89749398e-08],\n",
       "       [1.16583184e-11, 1.09472778e-11, 6.22814029e-13, 4.27490265e-10,\n",
       "        1.00000000e+00, 1.32179337e-12],\n",
       "       [4.56897142e-09, 1.30977156e-07, 9.99999881e-01, 9.71840608e-10,\n",
       "        3.48508306e-10, 1.61386442e-08],\n",
       "       [3.91615594e-11, 6.26367802e-09, 1.00000000e+00, 2.13863476e-12,\n",
       "        1.59291677e-11, 3.30679928e-10],\n",
       "       [5.35635820e-08, 8.82178540e-07, 9.99998927e-01, 1.28126656e-08,\n",
       "        2.96780889e-09, 7.78013245e-08],\n",
       "       [2.26894303e-09, 5.91260125e-08, 9.99999881e-01, 2.25815699e-10,\n",
       "        7.10688397e-10, 3.66563224e-09],\n",
       "       [1.38500036e-06, 6.58935387e-05, 9.99930263e-01, 2.04631135e-07,\n",
       "        7.51996879e-07, 1.52069606e-06],\n",
       "       [1.51865621e-11, 9.92561699e-10, 1.00000000e+00, 2.18987849e-11,\n",
       "        6.38395630e-12, 1.93326979e-10],\n",
       "       [6.73576942e-05, 7.70392828e-04, 9.98678267e-01, 6.88128130e-05,\n",
       "        5.02081639e-05, 3.64909734e-04],\n",
       "       [6.26394922e-07, 1.66337541e-05, 9.99978423e-01, 2.61529721e-07,\n",
       "        1.92726489e-07, 3.79735593e-06],\n",
       "       [2.49747956e-09, 6.69687665e-08, 9.99999642e-01, 3.85367205e-09,\n",
       "        2.57274951e-10, 2.76594307e-07],\n",
       "       [3.66058957e-05, 1.74317480e-04, 9.99254763e-01, 5.30534578e-07,\n",
       "        5.93736672e-07, 5.33221988e-04],\n",
       "       [8.73342631e-12, 5.29874589e-09, 1.00000000e+00, 2.58169441e-12,\n",
       "        1.68163964e-12, 1.55573873e-10],\n",
       "       [4.52605988e-08, 4.12429785e-07, 9.99998689e-01, 9.80671722e-09,\n",
       "        6.96908709e-09, 7.97489633e-07],\n",
       "       [3.05597532e-05, 1.57232338e-04, 9.99712765e-01, 4.71823878e-05,\n",
       "        3.74583105e-05, 1.47735200e-05],\n",
       "       [1.38106361e-06, 8.57878549e-05, 9.99906659e-01, 4.44668672e-07,\n",
       "        5.66570691e-07, 5.06627202e-06],\n",
       "       [3.32617274e-05, 2.14701449e-03, 9.97363389e-01, 3.68948058e-05,\n",
       "        5.02891498e-06, 4.14515962e-04],\n",
       "       [8.23233131e-05, 1.66997104e-03, 9.97368932e-01, 2.19302427e-04,\n",
       "        5.61019442e-05, 6.03375142e-04],\n",
       "       [3.30362353e-03, 2.99725384e-02, 9.46456671e-01, 8.16765800e-03,\n",
       "        6.54948596e-03, 5.55014703e-03],\n",
       "       [8.15302701e-06, 1.46235820e-04, 7.29928142e-05, 9.99407768e-01,\n",
       "        3.31248998e-06, 3.61509010e-04],\n",
       "       [1.42142353e-05, 6.22942389e-05, 3.49219772e-04, 9.97622192e-01,\n",
       "        6.79892992e-07, 1.95134361e-03],\n",
       "       [1.21314656e-08, 3.31877317e-07, 9.99999523e-01, 2.68891642e-09,\n",
       "        2.94655789e-09, 7.71951818e-08],\n",
       "       [1.14466836e-07, 6.31312957e-07, 9.99999046e-01, 1.19597871e-07,\n",
       "        3.03223899e-08, 1.66180968e-07],\n",
       "       [4.00270892e-06, 2.19443227e-05, 9.99969602e-01, 5.91412856e-07,\n",
       "        3.54401465e-07, 3.41096870e-06],\n",
       "       [5.63584445e-06, 5.41293193e-05, 9.99930620e-01, 1.32275238e-06,\n",
       "        2.56685257e-06, 5.67400457e-06],\n",
       "       [2.74299009e-06, 4.01038451e-05, 9.99927878e-01, 3.66319318e-06,\n",
       "        1.14973864e-05, 1.41515256e-05],\n",
       "       [3.19515209e-07, 8.43165526e-06, 9.99985695e-01, 2.22738618e-06,\n",
       "        1.78455920e-07, 3.27508860e-06]], dtype=float32)"
      ]
     },
     "execution_count": 42,
     "metadata": {},
     "output_type": "execute_result"
    }
   ],
   "source": [
    "# Use to yield probability distribution over the categories\n",
    "y_test_pred_probs = model.predict(X_val_enc) ######\n",
    "y_test_pred_probs"
   ]
  },
  {
   "cell_type": "code",
   "execution_count": 43,
   "metadata": {},
   "outputs": [
    {
     "data": {
      "text/plain": [
       "(99, 6)"
      ]
     },
     "execution_count": 43,
     "metadata": {},
     "output_type": "execute_result"
    }
   ],
   "source": [
    "y_test_pred_probs.shape"
   ]
  },
  {
   "cell_type": "code",
   "execution_count": 44,
   "metadata": {},
   "outputs": [
    {
     "data": {
      "text/plain": [
       "array([5, 0, 0, 0, 0, 0, 5, 1, 1, 0, 1, 1, 4, 4, 4, 4, 4, 4, 4, 4, 4, 4,\n",
       "       4, 4, 4, 4, 4, 4, 4, 4, 4, 4, 4, 4, 4, 4, 4, 4, 3, 3, 3, 3, 3, 3,\n",
       "       3, 3, 3, 3, 3, 3, 3, 3, 3, 3, 3, 3, 3, 3, 3, 3, 3, 3, 3, 3, 3, 3,\n",
       "       3, 3, 3, 3, 4, 4, 4, 4, 2, 2, 2, 2, 2, 2, 2, 2, 2, 2, 2, 2, 2, 2,\n",
       "       2, 2, 2, 3, 3, 2, 2, 2, 2, 2, 2], dtype=int64)"
      ]
     },
     "execution_count": 44,
     "metadata": {},
     "output_type": "execute_result"
    }
   ],
   "source": [
    "# y_test_preds = model.predict_classes(X_test_enc)\n",
    "\n",
    "y_test_preds = np.argmax(model.predict(X_val_enc), axis=-1)\n",
    "\n",
    "y_test_preds#[:50]"
   ]
  },
  {
   "cell_type": "code",
   "execution_count": 45,
   "metadata": {},
   "outputs": [],
   "source": [
    "# custom prediction function \n",
    "def get_one_hot_predictions(pred_probs):\n",
    "    \"\"\"\n",
    "    \"\"\"\n",
    "    max_probs = np.max(pred_probs, axis=1)\n",
    "    \n",
    "    # reshaping to (len_of_predicts, 1)\n",
    "    max_probs = max_probs.reshape(max_probs.shape[0], 1)\n",
    "\n",
    "    return np.equal(pred_probs, max_probs).astype(float)"
   ]
  },
  {
   "cell_type": "code",
   "execution_count": 46,
   "metadata": {},
   "outputs": [
    {
     "data": {
      "text/plain": [
       "array([[0., 0., 0., 0., 0., 1.],\n",
       "       [1., 0., 0., 0., 0., 0.],\n",
       "       [1., 0., 0., 0., 0., 0.],\n",
       "       [1., 0., 0., 0., 0., 0.],\n",
       "       [1., 0., 0., 0., 0., 0.],\n",
       "       [1., 0., 0., 0., 0., 0.],\n",
       "       [0., 0., 0., 0., 0., 1.],\n",
       "       [0., 1., 0., 0., 0., 0.],\n",
       "       [0., 1., 0., 0., 0., 0.],\n",
       "       [1., 0., 0., 0., 0., 0.],\n",
       "       [0., 1., 0., 0., 0., 0.],\n",
       "       [0., 1., 0., 0., 0., 0.],\n",
       "       [0., 0., 0., 0., 1., 0.],\n",
       "       [0., 0., 0., 0., 1., 0.],\n",
       "       [0., 0., 0., 0., 1., 0.],\n",
       "       [0., 0., 0., 0., 1., 0.],\n",
       "       [0., 0., 0., 0., 1., 0.],\n",
       "       [0., 0., 0., 0., 1., 0.],\n",
       "       [0., 0., 0., 0., 1., 0.],\n",
       "       [0., 0., 0., 0., 1., 0.],\n",
       "       [0., 0., 0., 0., 1., 0.],\n",
       "       [0., 0., 0., 0., 1., 0.],\n",
       "       [0., 0., 0., 0., 1., 0.],\n",
       "       [0., 0., 0., 0., 1., 0.],\n",
       "       [0., 0., 0., 0., 1., 0.],\n",
       "       [0., 0., 0., 0., 1., 0.],\n",
       "       [0., 0., 0., 0., 1., 0.],\n",
       "       [0., 0., 0., 0., 1., 0.],\n",
       "       [0., 0., 0., 0., 1., 0.],\n",
       "       [0., 0., 0., 0., 1., 0.],\n",
       "       [0., 0., 0., 0., 1., 0.],\n",
       "       [0., 0., 0., 0., 1., 0.],\n",
       "       [0., 0., 0., 0., 1., 0.],\n",
       "       [0., 0., 0., 0., 1., 0.],\n",
       "       [0., 0., 0., 0., 1., 0.],\n",
       "       [0., 0., 0., 0., 1., 0.],\n",
       "       [0., 0., 0., 0., 1., 0.],\n",
       "       [0., 0., 0., 0., 1., 0.],\n",
       "       [0., 0., 0., 1., 0., 0.],\n",
       "       [0., 0., 0., 1., 0., 0.],\n",
       "       [0., 0., 0., 1., 0., 0.],\n",
       "       [0., 0., 0., 1., 0., 0.],\n",
       "       [0., 0., 0., 1., 0., 0.],\n",
       "       [0., 0., 0., 1., 0., 0.],\n",
       "       [0., 0., 0., 1., 0., 0.],\n",
       "       [0., 0., 0., 1., 0., 0.],\n",
       "       [0., 0., 0., 1., 0., 0.],\n",
       "       [0., 0., 0., 1., 0., 0.],\n",
       "       [0., 0., 0., 1., 0., 0.],\n",
       "       [0., 0., 0., 1., 0., 0.],\n",
       "       [0., 0., 0., 1., 0., 0.],\n",
       "       [0., 0., 0., 1., 0., 0.],\n",
       "       [0., 0., 0., 1., 0., 0.],\n",
       "       [0., 0., 0., 1., 0., 0.],\n",
       "       [0., 0., 0., 1., 0., 0.],\n",
       "       [0., 0., 0., 1., 0., 0.],\n",
       "       [0., 0., 0., 1., 0., 0.],\n",
       "       [0., 0., 0., 1., 0., 0.],\n",
       "       [0., 0., 0., 1., 0., 0.],\n",
       "       [0., 0., 0., 1., 0., 0.],\n",
       "       [0., 0., 0., 1., 0., 0.],\n",
       "       [0., 0., 0., 1., 0., 0.],\n",
       "       [0., 0., 0., 1., 0., 0.],\n",
       "       [0., 0., 0., 1., 0., 0.],\n",
       "       [0., 0., 0., 1., 0., 0.],\n",
       "       [0., 0., 0., 1., 0., 0.],\n",
       "       [0., 0., 0., 1., 0., 0.],\n",
       "       [0., 0., 0., 1., 0., 0.],\n",
       "       [0., 0., 0., 1., 0., 0.],\n",
       "       [0., 0., 0., 1., 0., 0.],\n",
       "       [0., 0., 0., 0., 1., 0.],\n",
       "       [0., 0., 0., 0., 1., 0.],\n",
       "       [0., 0., 0., 0., 1., 0.],\n",
       "       [0., 0., 0., 0., 1., 0.],\n",
       "       [0., 0., 1., 0., 0., 0.],\n",
       "       [0., 0., 1., 0., 0., 0.],\n",
       "       [0., 0., 1., 0., 0., 0.],\n",
       "       [0., 0., 1., 0., 0., 0.],\n",
       "       [0., 0., 1., 0., 0., 0.],\n",
       "       [0., 0., 1., 0., 0., 0.],\n",
       "       [0., 0., 1., 0., 0., 0.],\n",
       "       [0., 0., 1., 0., 0., 0.],\n",
       "       [0., 0., 1., 0., 0., 0.],\n",
       "       [0., 0., 1., 0., 0., 0.],\n",
       "       [0., 0., 1., 0., 0., 0.],\n",
       "       [0., 0., 1., 0., 0., 0.],\n",
       "       [0., 0., 1., 0., 0., 0.],\n",
       "       [0., 0., 1., 0., 0., 0.],\n",
       "       [0., 0., 1., 0., 0., 0.],\n",
       "       [0., 0., 1., 0., 0., 0.],\n",
       "       [0., 0., 1., 0., 0., 0.],\n",
       "       [0., 0., 0., 1., 0., 0.],\n",
       "       [0., 0., 0., 1., 0., 0.],\n",
       "       [0., 0., 1., 0., 0., 0.],\n",
       "       [0., 0., 1., 0., 0., 0.],\n",
       "       [0., 0., 1., 0., 0., 0.],\n",
       "       [0., 0., 1., 0., 0., 0.],\n",
       "       [0., 0., 1., 0., 0., 0.],\n",
       "       [0., 0., 1., 0., 0., 0.]])"
      ]
     },
     "execution_count": 46,
     "metadata": {},
     "output_type": "execute_result"
    }
   ],
   "source": [
    "y_test_pred = get_one_hot_predictions(y_test_pred_probs)\n",
    "y_test_pred"
   ]
  },
  {
   "cell_type": "code",
   "execution_count": 47,
   "metadata": {},
   "outputs": [
    {
     "data": {
      "text/plain": [
       "array(['SDG7', 'SDG10', 'SDG10', 'SDG10', 'SDG10', 'SDG10', 'SDG7',\n",
       "       'SDG12', 'SDG12', 'SDG10', 'SDG12', 'SDG12', 'SDG5', 'SDG5',\n",
       "       'SDG5', 'SDG5', 'SDG5', 'SDG5', 'SDG5', 'SDG5'], dtype=object)"
      ]
     },
     "execution_count": 47,
     "metadata": {},
     "output_type": "execute_result"
    }
   ],
   "source": [
    "# Now, we will use the fitted One Hot Encoder to Inverse Tranform the ouput\n",
    "y_test_pred_sdg = y_enc.inverse_transform(y_test_pred).flatten()\n",
    "y_test_pred_sdg[:20]"
   ]
  },
  {
   "cell_type": "code",
   "execution_count": 48,
   "metadata": {},
   "outputs": [],
   "source": [
    "from sklearn.metrics import confusion_matrix, classification_report"
   ]
  },
  {
   "cell_type": "code",
   "execution_count": 49,
   "metadata": {},
   "outputs": [
    {
     "name": "stdout",
     "output_type": "stream",
     "text": [
      "              precision    recall  f1-score   support\n",
      "\n",
      "       SDG10       0.83      1.00      0.91         5\n",
      "       SDG12       1.00      0.67      0.80         6\n",
      "       SDG13       1.00      1.00      1.00        23\n",
      "        SDG3       1.00      1.00      1.00        34\n",
      "        SDG5       1.00      1.00      1.00        30\n",
      "        SDG7       0.50      1.00      0.67         1\n",
      "\n",
      "    accuracy                           0.98        99\n",
      "   macro avg       0.89      0.94      0.90        99\n",
      "weighted avg       0.99      0.98      0.98        99\n",
      "\n"
     ]
    }
   ],
   "source": [
    "print(classification_report(y_true=y_val,\n",
    "                            y_pred=y_test_pred_sdg))"
   ]
  },
  {
   "cell_type": "code",
   "execution_count": 50,
   "metadata": {},
   "outputs": [],
   "source": [
    "import matplotlib.pyplot as plt"
   ]
  },
  {
   "cell_type": "code",
   "execution_count": 61,
   "metadata": {},
   "outputs": [
    {
     "data": {
      "image/png": "[encoded data removed]",
      "text/plain": [
       "<Figure size 432x288 with 1 Axes>"
      ]
     },
     "metadata": {
      "needs_background": "light"
     },
     "output_type": "display_data"
    },
    {
     "data": {
      "image/png": "[encoded data removed]",
      "text/plain": [
       "<Figure size 432x288 with 1 Axes>"
      ]
     },
     "metadata": {
      "needs_background": "light"
     },
     "output_type": "display_data"
    }
   ],
   "source": [
    "#Let's put your model evaluation into perspective and plot the accuracy and loss plots between training and validation data:\n",
    "\n",
    "accuracy = history.history['accuracy']\n",
    "val_accuracy = history.history['val_accuracy']\n",
    "loss =history.history['loss']\n",
    "val_loss = history.history['val_loss']\n",
    "epochs = range(len(accuracy))\n",
    "plt.plot(epochs, accuracy, 'bo', label='Training accuracy')\n",
    "plt.plot(epochs, val_accuracy, 'b', label='Validation accuracy')\n",
    "plt.title('Training and validation accuracy')\n",
    "plt.legend()\n",
    "plt.figure()\n",
    "plt.plot(epochs, loss, 'bo', label='Training loss')\n",
    "plt.plot(epochs, val_loss, 'b', label='Validation loss')\n",
    "plt.title('Training and validation loss')\n",
    "plt.legend()\n",
    "plt.show()"
   ]
  },
  {
   "cell_type": "code",
   "execution_count": 52,
   "metadata": {},
   "outputs": [],
   "source": [
    "from scipy import interp\n",
    "from itertools import cycle\n",
    "from sklearn.metrics import roc_curve\n",
    "from sklearn.metrics import auc\n",
    "\n",
    "\n",
    "def plot_multi_class_roc_auc_curves(nb_classes, y_true, y_pred_score, lw: int = 2):\n",
    "    \"\"\"\n",
    "    ROC, AUC for a categorical classifier\n",
    "    \n",
    "    ROC curve extends to problems with three or more classes with what is known as the one-vs-all approach.\n",
    "    For instance, if we have three classes, we will create three ROC curves,\n",
    "\n",
    "    For each class, we take it as the positive class and group the rest classes jointly as the negative class.\n",
    "\n",
    "    Class 1 vs classes 2&3\n",
    "    Class 2 vs classes 1&3\n",
    "    Class 3 vs classes 1&2\n",
    "\n",
    "    :param nb_classes:\n",
    "    :param y_true:\n",
    "    :param y_pred_score:\n",
    "    :param lw:\n",
    "    :return:\n",
    "    \"\"\"\n",
    "\n",
    "    # Compute ROC curve and ROC area for each class\n",
    "    fpr = dict()\n",
    "    tpr = dict()\n",
    "    roc_auc = dict()\n",
    "\n",
    "    for i in range(nb_classes):\n",
    "        fpr[i], tpr[i], _ = roc_curve(y_true[:, i], y_pred_score[:, i])\n",
    "\n",
    "        roc_auc[i] = auc(fpr[i], tpr[i])\n",
    "\n",
    "    # Compute micro-average ROC curve and ROC area\n",
    "    fpr[\"micro\"], tpr[\"micro\"], _ = roc_curve(y_true.ravel(), y_pred_score.ravel())\n",
    "\n",
    "    roc_auc[\"micro\"] = auc(fpr[\"micro\"], tpr[\"micro\"])\n",
    "\n",
    "    # Compute macro-average ROC curve and ROC area\n",
    "\n",
    "    # First aggregate all false positive rates\n",
    "    all_fpr = np.unique(np.concatenate([fpr[i] for i in range(nb_classes)]))\n",
    "\n",
    "    # Then interpolate all ROC curves at this points\n",
    "    mean_tpr = np.zeros_like(all_fpr)\n",
    "\n",
    "    for i in range(nb_classes):\n",
    "        mean_tpr += interp(all_fpr, fpr[i], tpr[i])\n",
    "\n",
    "    # Finally average it and compute AUC\n",
    "    mean_tpr /= nb_classes\n",
    "\n",
    "    fpr[\"macro\"] = all_fpr\n",
    "    tpr[\"macro\"] = mean_tpr\n",
    "    roc_auc[\"macro\"] = auc(fpr[\"macro\"], tpr[\"macro\"])\n",
    "\n",
    "    # Plot all ROC curves\n",
    "    plt.figure(1)\n",
    "    plt.plot(fpr[\"micro\"],\n",
    "             tpr[\"micro\"],\n",
    "             label='micro-average ROC curve (area = {0:0.2f})'.format(roc_auc[\"micro\"]),\n",
    "             color='deeppink',\n",
    "             linestyle=':',\n",
    "             linewidth=4)\n",
    "\n",
    "    plt.plot(fpr[\"macro\"],\n",
    "             tpr[\"macro\"],\n",
    "             label='macro-average ROC curve (area = {0:0.2f})'.format(roc_auc[\"macro\"]),\n",
    "             color='navy',\n",
    "             linestyle=':',\n",
    "             linewidth=4)\n",
    "\n",
    "    colors = cycle(['aqua',\n",
    "                    'darkorange',\n",
    "                    'cornflowerblue'])\n",
    "\n",
    "    for i, color in zip(range(nb_classes), colors):\n",
    "        plt.plot(fpr[i],\n",
    "                 tpr[i],\n",
    "                 color=color,\n",
    "                 lw=lw,\n",
    "                 label='ROC curve of class {0} (area = {1:0.2f})'.format(i, roc_auc[i]))\n",
    "\n",
    "    plt.plot([0, 1],\n",
    "             [0, 1],\n",
    "             'k--',\n",
    "             lw=lw)\n",
    "\n",
    "    plt.xlim([0.0, 1.0])\n",
    "    plt.ylim([0.0, 1.05])\n",
    "\n",
    "    plt.xlabel('False Positive Rate')\n",
    "    plt.ylabel('True Positive Rate')\n",
    "\n",
    "    plt.title('Some extension of Receiver operating characteristic to multi-class')\n",
    "    plt.legend(loc=\"lower right\")\n",
    "    # plt.show()\n",
    "\n",
    "    # Zoom in view of the upper left corner.\n",
    "    plt.figure(2)\n",
    "    plt.xlim(0, 0.2)\n",
    "    plt.ylim(0.7, 1)\n",
    "\n",
    "    plt.plot(fpr[\"micro\"],\n",
    "             tpr[\"micro\"],\n",
    "             label='micro-average ROC curve (area = {0:0.2f})'.format(roc_auc[\"micro\"]),\n",
    "             color='deeppink',\n",
    "             linestyle=':',\n",
    "             linewidth=4)\n",
    "\n",
    "    plt.plot(fpr[\"macro\"],\n",
    "             tpr[\"macro\"],\n",
    "             label='macro-average ROC curve (area = {0:0.2f})'.format(roc_auc[\"macro\"]),\n",
    "             color='navy',\n",
    "             linestyle=':',\n",
    "             linewidth=4)\n",
    "\n",
    "    colors = cycle(['aqua',\n",
    "                    'darkorange',\n",
    "                    'cornflowerblue'])\n",
    "\n",
    "    for i, color in zip(range(nb_classes), colors):\n",
    "        plt.plot(fpr[i],\n",
    "                 tpr[i],\n",
    "                 color=color,\n",
    "                 lw=lw,\n",
    "                 label='ROC curve of class {0} (area = {1:0.2f})'.format(i, roc_auc[i]))\n",
    "\n",
    "    plt.plot([0, 1],\n",
    "             [0, 1],\n",
    "             'k--', lw=lw)\n",
    "\n",
    "    plt.xlabel('False Positive Rate')\n",
    "    plt.ylabel('True Positive Rate')\n",
    "    plt.title('Some extension of Receiver operating characteristic to multi-class')\n",
    "    plt.legend(loc=\"lower right\")\n",
    "    plt.show()"
   ]
  },
  {
   "cell_type": "code",
   "execution_count": 53,
   "metadata": {},
   "outputs": [
    {
     "name": "stderr",
     "output_type": "stream",
     "text": [
      "<ipython-input-52-352507b3f73f>:51: DeprecationWarning: scipy.interp is deprecated and will be removed in SciPy 2.0.0, use numpy.interp instead\n",
      "  mean_tpr += interp(all_fpr, fpr[i], tpr[i])\n"
     ]
    },
    {
     "data": {
      "image/png": "[encoded data removed]",
      "text/plain": [
       "<Figure size 432x288 with 1 Axes>"
      ]
     },
     "metadata": {
      "needs_background": "light"
     },
     "output_type": "display_data"
    },
    {
     "data": {
      "image/png": "[encoded data removed]",
      "text/plain": [
       "<Figure size 432x288 with 1 Axes>"
      ]
     },
     "metadata": {
      "needs_background": "light"
     },
     "output_type": "display_data"
    }
   ],
   "source": [
    "plot_multi_class_roc_auc_curves(nb_classes=6,\n",
    "                                y_true=y_val_enc,\n",
    "                                y_pred_score=y_test_pred_probs)"
   ]
  },
  {
   "cell_type": "code",
   "execution_count": 54,
   "metadata": {},
   "outputs": [
    {
     "name": "stdout",
     "output_type": "stream",
     "text": [
      "[[ 5  0  0  0  0  0]\n",
      " [ 1  4  0  0  0  1]\n",
      " [ 0  0 23  0  0  0]\n",
      " [ 0  0  0 34  0  0]\n",
      " [ 0  0  0  0 30  0]\n",
      " [ 0  0  0  0  0  1]]\n"
     ]
    }
   ],
   "source": [
    "print(confusion_matrix(y_true=y_val, y_pred=y_test_pred_sdg))"
   ]
  },
  {
   "cell_type": "code",
   "execution_count": 55,
   "metadata": {},
   "outputs": [],
   "source": [
    "from typing import List, Tuple\n",
    "\n",
    "def print_confusion_matrix(y_true,\n",
    "                           y_pred,\n",
    "                           class_names: List[str],\n",
    "                           figsize: Tuple[int, int] = (10, 7),\n",
    "                           fontsize: int = 14) -> pd.DataFrame:\n",
    "    \"\"\"\n",
    "    Prints a confusion matrix, as returned by sklearn.metrics.confusion_matrix, as a heat-map.\n",
    "\n",
    "    For something more extraordinary check this repo:\n",
    "    https://github.com/wcipriano/pretty-print-confusion-matrix\n",
    "\n",
    "\n",
    "    :param class_names:  An ordered list of class names\n",
    "    :param figsize: A 2-long tuple, the first value determining the horizontal size of the outputted\n",
    "                    figure, the second determining the vertical size. Defaults to (10,7).\n",
    "    :param fontsize: Font size for axes labels. Defaults to 14.\n",
    "    :return: The confusion matrix as a dataset\n",
    "    \"\"\"\n",
    "    conf_matrix = confusion_matrix(y_true=y_true, y_pred=y_pred)\n",
    "\n",
    "    df_cm = pd.DataFrame(conf_matrix, index=class_names, columns=class_names)\n",
    "\n",
    "    fig = plt.figure(figsize=figsize)\n",
    "\n",
    "    try:\n",
    "        heatmap = sns.heatmap(df_cm, annot=True, fmt=\"d\")\n",
    "\n",
    "    except ValueError:\n",
    "\n",
    "        raise ValueError(\"Confusion matrix values must be integers.\")\n",
    "\n",
    "    heatmap.yaxis.set_ticklabels(heatmap.yaxis.get_ticklabels(),\n",
    "                                 rotation=0,\n",
    "                                 ha='right',\n",
    "                                 fontsize=fontsize)\n",
    "\n",
    "    heatmap.xaxis.set_ticklabels(heatmap.xaxis.get_ticklabels(),\n",
    "                                 rotation=45,\n",
    "                                 ha='right',\n",
    "                                 fontsize=fontsize)\n",
    "\n",
    "    plt.ylabel('True label')\n",
    "    plt.xlabel('Predicted label')\n",
    "    plt.show()\n",
    "\n",
    "    return df_cm"
   ]
  },
  {
   "cell_type": "code",
   "execution_count": 56,
   "metadata": {},
   "outputs": [],
   "source": [
    "from sklearn import preprocessing\n",
    "lb = preprocessing.LabelBinarizer()\n",
    "y_test_binarize = lb.fit_transform(y_val_enc)"
   ]
  },
  {
   "cell_type": "code",
   "execution_count": 57,
   "metadata": {},
   "outputs": [
    {
     "data": {
      "text/plain": [
       "array([[0, 0, 0, 0, 0, 1],\n",
       "       [1, 0, 0, 0, 0, 0],\n",
       "       [1, 0, 0, 0, 0, 0],\n",
       "       [1, 0, 0, 0, 0, 0],\n",
       "       [1, 0, 0, 0, 0, 0],\n",
       "       [1, 0, 0, 0, 0, 0],\n",
       "       [0, 1, 0, 0, 0, 0],\n",
       "       [0, 1, 0, 0, 0, 0],\n",
       "       [0, 1, 0, 0, 0, 0],\n",
       "       [0, 1, 0, 0, 0, 0],\n",
       "       [0, 1, 0, 0, 0, 0],\n",
       "       [0, 1, 0, 0, 0, 0],\n",
       "       [0, 0, 0, 0, 1, 0],\n",
       "       [0, 0, 0, 0, 1, 0],\n",
       "       [0, 0, 0, 0, 1, 0],\n",
       "       [0, 0, 0, 0, 1, 0],\n",
       "       [0, 0, 0, 0, 1, 0],\n",
       "       [0, 0, 0, 0, 1, 0],\n",
       "       [0, 0, 0, 0, 1, 0],\n",
       "       [0, 0, 0, 0, 1, 0],\n",
       "       [0, 0, 0, 0, 1, 0],\n",
       "       [0, 0, 0, 0, 1, 0],\n",
       "       [0, 0, 0, 0, 1, 0],\n",
       "       [0, 0, 0, 0, 1, 0],\n",
       "       [0, 0, 0, 0, 1, 0],\n",
       "       [0, 0, 0, 0, 1, 0],\n",
       "       [0, 0, 0, 0, 1, 0],\n",
       "       [0, 0, 0, 0, 1, 0],\n",
       "       [0, 0, 0, 0, 1, 0],\n",
       "       [0, 0, 0, 0, 1, 0],\n",
       "       [0, 0, 0, 0, 1, 0],\n",
       "       [0, 0, 0, 0, 1, 0],\n",
       "       [0, 0, 0, 0, 1, 0],\n",
       "       [0, 0, 0, 0, 1, 0],\n",
       "       [0, 0, 0, 0, 1, 0],\n",
       "       [0, 0, 0, 0, 1, 0],\n",
       "       [0, 0, 0, 0, 1, 0],\n",
       "       [0, 0, 0, 0, 1, 0],\n",
       "       [0, 0, 0, 1, 0, 0],\n",
       "       [0, 0, 0, 1, 0, 0],\n",
       "       [0, 0, 0, 1, 0, 0],\n",
       "       [0, 0, 0, 1, 0, 0],\n",
       "       [0, 0, 0, 1, 0, 0],\n",
       "       [0, 0, 0, 1, 0, 0],\n",
       "       [0, 0, 0, 1, 0, 0],\n",
       "       [0, 0, 0, 1, 0, 0],\n",
       "       [0, 0, 0, 1, 0, 0],\n",
       "       [0, 0, 0, 1, 0, 0],\n",
       "       [0, 0, 0, 1, 0, 0],\n",
       "       [0, 0, 0, 1, 0, 0],\n",
       "       [0, 0, 0, 1, 0, 0],\n",
       "       [0, 0, 0, 1, 0, 0],\n",
       "       [0, 0, 0, 1, 0, 0],\n",
       "       [0, 0, 0, 1, 0, 0],\n",
       "       [0, 0, 0, 1, 0, 0],\n",
       "       [0, 0, 0, 1, 0, 0],\n",
       "       [0, 0, 0, 1, 0, 0],\n",
       "       [0, 0, 0, 1, 0, 0],\n",
       "       [0, 0, 0, 1, 0, 0],\n",
       "       [0, 0, 0, 1, 0, 0],\n",
       "       [0, 0, 0, 1, 0, 0],\n",
       "       [0, 0, 0, 1, 0, 0],\n",
       "       [0, 0, 0, 1, 0, 0],\n",
       "       [0, 0, 0, 1, 0, 0],\n",
       "       [0, 0, 0, 1, 0, 0],\n",
       "       [0, 0, 0, 1, 0, 0],\n",
       "       [0, 0, 0, 1, 0, 0],\n",
       "       [0, 0, 0, 1, 0, 0],\n",
       "       [0, 0, 0, 1, 0, 0],\n",
       "       [0, 0, 0, 1, 0, 0],\n",
       "       [0, 0, 0, 0, 1, 0],\n",
       "       [0, 0, 0, 0, 1, 0],\n",
       "       [0, 0, 0, 0, 1, 0],\n",
       "       [0, 0, 0, 0, 1, 0],\n",
       "       [0, 0, 1, 0, 0, 0],\n",
       "       [0, 0, 1, 0, 0, 0],\n",
       "       [0, 0, 1, 0, 0, 0],\n",
       "       [0, 0, 1, 0, 0, 0],\n",
       "       [0, 0, 1, 0, 0, 0],\n",
       "       [0, 0, 1, 0, 0, 0],\n",
       "       [0, 0, 1, 0, 0, 0],\n",
       "       [0, 0, 1, 0, 0, 0],\n",
       "       [0, 0, 1, 0, 0, 0],\n",
       "       [0, 0, 1, 0, 0, 0],\n",
       "       [0, 0, 1, 0, 0, 0],\n",
       "       [0, 0, 1, 0, 0, 0],\n",
       "       [0, 0, 1, 0, 0, 0],\n",
       "       [0, 0, 1, 0, 0, 0],\n",
       "       [0, 0, 1, 0, 0, 0],\n",
       "       [0, 0, 1, 0, 0, 0],\n",
       "       [0, 0, 1, 0, 0, 0],\n",
       "       [0, 0, 0, 1, 0, 0],\n",
       "       [0, 0, 0, 1, 0, 0],\n",
       "       [0, 0, 1, 0, 0, 0],\n",
       "       [0, 0, 1, 0, 0, 0],\n",
       "       [0, 0, 1, 0, 0, 0],\n",
       "       [0, 0, 1, 0, 0, 0],\n",
       "       [0, 0, 1, 0, 0, 0],\n",
       "       [0, 0, 1, 0, 0, 0]])"
      ]
     },
     "execution_count": 57,
     "metadata": {},
     "output_type": "execute_result"
    }
   ],
   "source": [
    "y_test_transformed = lb.inverse_transform(y_val_enc)\n",
    "y_test_transformed"
   ]
  },
  {
   "cell_type": "code",
   "execution_count": 58,
   "metadata": {},
   "outputs": [
    {
     "data": {
      "image/png": "[encoded data removed]",
      "text/plain": [
       "<Figure size 720x504 with 2 Axes>"
      ]
     },
     "metadata": {
      "needs_background": "light"
     },
     "output_type": "display_data"
    },
    {
     "data": {
      "text/html": [
       "<div>\n",
       "<style scoped>\n",
       "    .dataframe tbody tr th:only-of-type {\n",
       "        vertical-align: middle;\n",
       "    }\n",
       "\n",
       "    .dataframe tbody tr th {\n",
       "        vertical-align: top;\n",
       "    }\n",
       "\n",
       "    .dataframe thead th {\n",
       "        text-align: right;\n",
       "    }\n",
       "</style>\n",
       "<table border=\"1\" class=\"dataframe\">\n",
       "  <thead>\n",
       "    <tr style=\"text-align: right;\">\n",
       "      <th></th>\n",
       "      <th>SDG10</th>\n",
       "      <th>SDG12</th>\n",
       "      <th>SDG13</th>\n",
       "      <th>SDG3</th>\n",
       "      <th>SDG5</th>\n",
       "      <th>SDG7</th>\n",
       "    </tr>\n",
       "  </thead>\n",
       "  <tbody>\n",
       "    <tr>\n",
       "      <th>SDG10</th>\n",
       "      <td>5</td>\n",
       "      <td>0</td>\n",
       "      <td>0</td>\n",
       "      <td>0</td>\n",
       "      <td>0</td>\n",
       "      <td>0</td>\n",
       "    </tr>\n",
       "    <tr>\n",
       "      <th>SDG12</th>\n",
       "      <td>1</td>\n",
       "      <td>4</td>\n",
       "      <td>0</td>\n",
       "      <td>0</td>\n",
       "      <td>0</td>\n",
       "      <td>1</td>\n",
       "    </tr>\n",
       "    <tr>\n",
       "      <th>SDG13</th>\n",
       "      <td>0</td>\n",
       "      <td>0</td>\n",
       "      <td>23</td>\n",
       "      <td>0</td>\n",
       "      <td>0</td>\n",
       "      <td>0</td>\n",
       "    </tr>\n",
       "    <tr>\n",
       "      <th>SDG3</th>\n",
       "      <td>0</td>\n",
       "      <td>0</td>\n",
       "      <td>0</td>\n",
       "      <td>34</td>\n",
       "      <td>0</td>\n",
       "      <td>0</td>\n",
       "    </tr>\n",
       "    <tr>\n",
       "      <th>SDG5</th>\n",
       "      <td>0</td>\n",
       "      <td>0</td>\n",
       "      <td>0</td>\n",
       "      <td>0</td>\n",
       "      <td>30</td>\n",
       "      <td>0</td>\n",
       "    </tr>\n",
       "    <tr>\n",
       "      <th>SDG7</th>\n",
       "      <td>0</td>\n",
       "      <td>0</td>\n",
       "      <td>0</td>\n",
       "      <td>0</td>\n",
       "      <td>0</td>\n",
       "      <td>1</td>\n",
       "    </tr>\n",
       "  </tbody>\n",
       "</table>\n",
       "</div>"
      ],
      "text/plain": [
       "       SDG10  SDG12  SDG13  SDG3  SDG5  SDG7\n",
       "SDG10      5      0      0     0     0     0\n",
       "SDG12      1      4      0     0     0     1\n",
       "SDG13      0      0     23     0     0     0\n",
       "SDG3       0      0      0    34     0     0\n",
       "SDG5       0      0      0     0    30     0\n",
       "SDG7       0      0      0     0     0     1"
      ]
     },
     "execution_count": 58,
     "metadata": {},
     "output_type": "execute_result"
    }
   ],
   "source": [
    "import seaborn as sns\n",
    "\n",
    "print_confusion_matrix(y_true=np.argmax(y_test_transformed,axis = 1),\n",
    "                           y_pred=y_test_preds,\n",
    "                           class_names=['SDG10', 'SDG12', 'SDG13', 'SDG3', 'SDG5', 'SDG7'])"
   ]
  },
  {
   "cell_type": "code",
   "execution_count": 59,
   "metadata": {},
   "outputs": [
    {
     "name": "stdout",
     "output_type": "stream",
     "text": [
      "(1, 3000)\n",
      "\n",
      "Probabilities\n",
      "\n",
      "[[2.04729705e-11 1.13959855e-08 1.00000000e+00 5.29620185e-12\n",
      "  3.32318461e-12 2.72424722e-10]]\n",
      "\n",
      "Probabilities One Hot Vector\n",
      "\n",
      "[[0. 0. 1. 0. 0. 0.]]\n",
      "\n",
      "SDG Prediction:\n",
      "\n",
      "SDG13\n"
     ]
    }
   ],
   "source": [
    "# Predicting a single initial text\n",
    "\n",
    "input_initial_text = \"\"\"\n",
    "A global assessment of the impact of climate change on water scarcity\n",
    "This paper presents a global scale assessment of the impact of climate change on water scarcity.\n",
    "Patterns of climate change from 21 Global Climate Models (GCMs) under four SRES scenarios are applied to a global hydrological model to estimate water resources across 1339 watersheds.\n",
    "The Water Crowding Index (WCI) and the Water Stress Index (WSI) are used to calculate exposure to increases and decreases in global water scarcity due to climate change.\n",
    "1.6 (WCI) and 2.4 (WSI) billion people are estimated to be currently living within watersheds exposed to water scarcity.\n",
    "Using the WCI, by 2050 under the A1B scenario, 0.5 to 3.1 billion people are exposed to an increase in water scarcity due to climate change (range across 21 GCMs).\n",
    "This represents a higher upper-estimate than previous assessments because scenarios are constructed from a wider range of GCMs.\n",
    "A substantial proportion of the uncertainty in the global-scale effect of climate change on water scarcity is due to uncertainty in the estimates for South Asia and East Asia.\n",
    "Sensitivity to the WCI and WSI thresholds that define water scarcity can be comparable to the sensitivity to climate change pattern.\n",
    "More of the world will see an increase in exposure to water scarcity than a decrease due to climate change but this is not consistent across all climate change patterns.\n",
    "Additionally, investigation of the effects of a set of prescribed global mean temperature change scenarios show rapid increases in water scarcity due to climate change across many regions of the globe, up to 2 °C, followed by stabilisation to 4 °C.\n",
    "\n",
    "\"\"\"\n",
    "\n",
    "# vectorizing titles with Count Vectorizer\n",
    "initial_text_vect = counter_vectorizer.transform([input_initial_text])\n",
    "\n",
    "print(initial_text_vect.shape, end='\\n\\n')\n",
    "\n",
    "initial_text_pred = model.predict(initial_text_vect)\n",
    "\n",
    "print('Probabilities', end='\\n\\n')\n",
    "print(initial_text_pred, end='\\n\\n')\n",
    "\n",
    "initial_text_pred_hot = get_one_hot_predictions(initial_text_pred)\n",
    "\n",
    "print('Probabilities One Hot Vector', end='\\n\\n')\n",
    "print(initial_text_pred_hot, end='\\n\\n')\n",
    "\n",
    "print('SDG Prediction:', end='\\n\\n')\n",
    "print(y_enc.inverse_transform(initial_text_pred_hot)[0][0])"
   ]
  },
  {
   "cell_type": "code",
   "execution_count": 60,
   "metadata": {},
   "outputs": [
    {
     "name": "stdout",
     "output_type": "stream",
     "text": [
      "WARNING:tensorflow:From C:\\Users\\arisp\\anaconda3\\lib\\site-packages\\tensorflow\\python\\training\\tracking\\tracking.py:111: Model.state_updates (from tensorflow.python.keras.engine.training) is deprecated and will be removed in a future version.\n",
      "Instructions for updating:\n",
      "This property should not be used in TensorFlow 2.0, as updates are applied automatically.\n",
      "WARNING:tensorflow:From C:\\Users\\arisp\\anaconda3\\lib\\site-packages\\tensorflow\\python\\training\\tracking\\tracking.py:111: Layer.updates (from tensorflow.python.keras.engine.base_layer) is deprecated and will be removed in a future version.\n",
      "Instructions for updating:\n",
      "This property should not be used in TensorFlow 2.0, as updates are applied automatically.\n",
      "INFO:tensorflow:Assets written to: C:\\Users\\arisp\\AppData\\Local\\Temp\\tmp19cyv5u_\\MLP_initial_text_model_weights\\assets\n"
     ]
    }
   ],
   "source": [
    "import os\n",
    "import tempfile\n",
    "import tensorflow as tf\n",
    "\n",
    "tmpdir = tempfile.mkdtemp()\n",
    "\n",
    "title_save_path = os.path.join(tmpdir, \"MLP_initial_text_model_weights\")\n",
    "tf.saved_model.save(model, title_save_path)"
   ]
  },
  {
   "cell_type": "code",
   "execution_count": null,
   "metadata": {},
   "outputs": [],
   "source": []
  },
  {
   "cell_type": "code",
   "execution_count": null,
   "metadata": {},
   "outputs": [],
   "source": []
  }
 ],
 "metadata": {
  "kernelspec": {
   "display_name": "Python 3",
   "language": "python",
   "name": "python3"
  },
  "language_info": {
   "codemirror_mode": {
    "name": "ipython",
    "version": 3
   },
   "file_extension": ".py",
   "mimetype": "text/x-python",
   "name": "python",
   "nbconvert_exporter": "python",
   "pygments_lexer": "ipython3",
   "version": "3.8.3"
  }
 },
 "nbformat": 4,
 "nbformat_minor": 4
}
