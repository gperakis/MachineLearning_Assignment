{
 "cells": [
  {
   "cell_type": "code",
   "execution_count": 1,
   "metadata": {},
   "outputs": [],
   "source": [
    "import re\n",
    "import tarfile\n",
    "from pathlib import Path\n",
    "from time import time\n",
    "from functools import reduce\n",
    "from pprint import pprint\n",
    "from typing import List, Tuple\n",
    "from sklearn import datasets\n",
    "from sklearn.model_selection import train_test_split\n",
    "from sklearn import tree\n",
    "from sklearn import metrics\n",
    "\n",
    "import numpy as np\n",
    "import pandas as pd\n",
    "from tensorflow.python.keras import layers\n",
    "from tensorflow.python.keras.layers import Embedding, Conv1D, GlobalMaxPooling1D\n",
    "from tensorflow.python.keras.models import Model\n",
    "from tensorflow.python.keras.layers import Dense, Dropout, Activation\n",
    "from tensorflow.python.keras.preprocessing.text import Tokenizer\n",
    "from tensorflow.python.keras.preprocessing.sequence import pad_sequences\n",
    "from tensorflow.python.keras.utils.data_utils import get_file\n",
    "from tensorflow.python.keras.models import Sequential\n",
    "from tqdm import tqdm\n",
    "from sklearn.metrics import confusion_matrix\n",
    "from sklearn.metrics import roc_curve, auc\n",
    "from sklearn.model_selection import train_test_split\n",
    "from sklearn.preprocessing import LabelBinarizer\n"
   ]
  },
  {
   "cell_type": "code",
   "execution_count": 2,
   "metadata": {},
   "outputs": [],
   "source": [
    "#import the already preprocessed dataset \n",
    "sdg_df  = pd.read_csv('sdg_classification_data.csv')"
   ]
  },
  {
   "cell_type": "code",
   "execution_count": 3,
   "metadata": {},
   "outputs": [],
   "source": [
    "validation_df  = pd.read_csv('validation_dataset.csv')"
   ]
  },
  {
   "cell_type": "code",
   "execution_count": 4,
   "metadata": {},
   "outputs": [],
   "source": [
    "#set the X,y values\n",
    "X = sdg_df['extracted_title'].fillna(' ').values\n",
    "y = sdg_df['sdg']"
   ]
  },
  {
   "cell_type": "code",
   "execution_count": 5,
   "metadata": {},
   "outputs": [],
   "source": [
    "#convert the categorical variable into 0,1 values\n",
    "y = pd.get_dummies(sdg_df['sdg']).values"
   ]
  },
  {
   "cell_type": "code",
   "execution_count": 6,
   "metadata": {},
   "outputs": [],
   "source": [
    "#split the dataset\n",
    "from sklearn.model_selection import train_test_split\n",
    "\n",
    "X_train, X_test, y_train, y_test = train_test_split(X, y, test_size=0.20, random_state=1000)\n",
    "\n",
    "#vectorizer = CountVectorizer()\n",
    "#vectorizer.fit(X_train)\n",
    "#X_train = vectorizer.transform(X_train)\n",
    "#X_test  = vectorizer.transform(X_test)"
   ]
  },
  {
   "cell_type": "code",
   "execution_count": 7,
   "metadata": {},
   "outputs": [],
   "source": [
    "#tokenize the input variable\n",
    "tokenizer = Tokenizer(num_words=50000)\n",
    "tokenizer.fit_on_texts(X)\n",
    "\n",
    "X_train = tokenizer.texts_to_sequences(X_train)\n",
    "X_test = tokenizer.texts_to_sequences(X_test)\n",
    "\n",
    "vocab_size = len(tokenizer.word_index) + 1"
   ]
  },
  {
   "cell_type": "code",
   "execution_count": 8,
   "metadata": {},
   "outputs": [],
   "source": [
    "#implement padding in the input variable\n",
    "maxlen = 400\n",
    "\n",
    "X_train = pad_sequences(X_train, padding='post', maxlen=maxlen)\n",
    "X_test = pad_sequences(X_test, padding='post', maxlen=maxlen)"
   ]
  },
  {
   "cell_type": "code",
   "execution_count": 9,
   "metadata": {
    "scrolled": true
   },
   "outputs": [
    {
     "data": {
      "text/plain": [
       "array([[  37,  151,  845, ...,    0,    0,    0],\n",
       "       [ 126,  186,    1, ...,    0,    0,    0],\n",
       "       [   7,  193,  281, ...,    0,    0,    0],\n",
       "       ...,\n",
       "       [ 771, 1297,  772, ...,    0,    0,    0],\n",
       "       [  22,   10,  618, ...,    0,    0,    0],\n",
       "       [ 448, 2444,    8, ...,    0,    0,    0]])"
      ]
     },
     "execution_count": 9,
     "metadata": {},
     "output_type": "execute_result"
    }
   ],
   "source": [
    "X_train[:10]"
   ]
  },
  {
   "cell_type": "code",
   "execution_count": 10,
   "metadata": {
    "scrolled": true
   },
   "outputs": [
    {
     "name": "stdout",
     "output_type": "stream",
     "text": [
      "[[0 0 1 0 0 0]\n",
      " [0 0 1 0 0 0]\n",
      " [0 0 0 0 1 0]\n",
      " ...\n",
      " [0 0 0 1 0 0]\n",
      " [0 0 0 1 0 0]\n",
      " [0 0 0 0 1 0]]\n"
     ]
    }
   ],
   "source": [
    "print(y_test)"
   ]
  },
  {
   "cell_type": "code",
   "execution_count": 11,
   "metadata": {},
   "outputs": [],
   "source": [
    "#setting the parameters before creating the model\n",
    "embedding_dims = 50\n",
    "\n",
    "nof_filters = 25\n",
    "\n",
    "kernel_size = 3\n",
    "\n",
    "hidden_dims = 50"
   ]
  },
  {
   "cell_type": "code",
   "execution_count": 12,
   "metadata": {
    "scrolled": true
   },
   "outputs": [
    {
     "name": "stdout",
     "output_type": "stream",
     "text": [
      "Model: \"sequential\"\n",
      "_________________________________________________________________\n",
      "Layer (type)                 Output Shape              Param #   \n",
      "=================================================================\n",
      "embedding (Embedding)        (None, 400, 100)          269600    \n",
      "_________________________________________________________________\n",
      "conv1d (Conv1D)              (None, 398, 25)           7525      \n",
      "_________________________________________________________________\n",
      "global_max_pooling1d (Global (None, 25)                0         \n",
      "_________________________________________________________________\n",
      "dense (Dense)                (None, 50)                1300      \n",
      "_________________________________________________________________\n",
      "activation (Activation)      (None, 50)                0         \n",
      "_________________________________________________________________\n",
      "dense_1 (Dense)              (None, 6)                 306       \n",
      "_________________________________________________________________\n",
      "activation_1 (Activation)    (None, 6)                 0         \n",
      "=================================================================\n",
      "Total params: 278,731\n",
      "Trainable params: 278,731\n",
      "Non-trainable params: 0\n",
      "_________________________________________________________________\n"
     ]
    }
   ],
   "source": [
    "#create the model we are going to use\n",
    "embedding_dim = 100\n",
    "\n",
    "model = Sequential()\n",
    "model.add(layers.Embedding(vocab_size, embedding_dim, input_length=maxlen))\n",
    "model.add(Conv1D(nof_filters, \n",
    "                 kernel_size, \n",
    "                 padding='valid',\n",
    "                 activation='relu',\n",
    "                 strides=1))\n",
    "\n",
    "model.add(GlobalMaxPooling1D())\n",
    "model.add(Dense(hidden_dims))\n",
    "\n",
    "model.add(Activation('relu'))\n",
    "\n",
    "model.add(Dense(6))\n",
    "model.add(Activation('softmax'))\n",
    "\n",
    "\n",
    "model.compile(optimizer='adam',\n",
    "              loss='categorical_crossentropy',\n",
    "              metrics=['accuracy'])\n",
    "model.summary()"
   ]
  },
  {
   "cell_type": "code",
   "execution_count": 13,
   "metadata": {},
   "outputs": [
    {
     "data": {
      "image/png": "[encoded data removed]",
      "text/plain": [
       "<IPython.core.display.Image object>"
      ]
     },
     "execution_count": 13,
     "metadata": {},
     "output_type": "execute_result"
    }
   ],
   "source": [
    "from tensorflow.keras.utils import plot_model\n",
    "\n",
    "plot_model(model,\n",
    "           to_file='model_plot_cnn.png',\n",
    "           show_shapes=True,\n",
    "           show_layer_names=True)"
   ]
  },
  {
   "cell_type": "code",
   "execution_count": 14,
   "metadata": {},
   "outputs": [
    {
     "name": "stdout",
     "output_type": "stream",
     "text": [
      "Epoch 1/10\n",
      "12/12 - 1s - loss: 1.7597 - accuracy: 0.2686 - val_loss: 1.6876 - val_accuracy: 0.2978\n",
      "Epoch 2/10\n",
      "12/12 - 1s - loss: 1.6185 - accuracy: 0.2771 - val_loss: 1.5384 - val_accuracy: 0.3034\n",
      "Epoch 3/10\n",
      "12/12 - 1s - loss: 1.4444 - accuracy: 0.4149 - val_loss: 1.3629 - val_accuracy: 0.5056\n",
      "Epoch 4/10\n",
      "12/12 - 1s - loss: 1.2480 - accuracy: 0.7834 - val_loss: 1.1768 - val_accuracy: 0.7640\n",
      "Epoch 5/10\n",
      "12/12 - 1s - loss: 1.0239 - accuracy: 0.8326 - val_loss: 0.9543 - val_accuracy: 0.8090\n",
      "Epoch 6/10\n",
      "12/12 - 1s - loss: 0.7785 - accuracy: 0.8312 - val_loss: 0.7526 - val_accuracy: 0.8090\n",
      "Epoch 7/10\n",
      "12/12 - 1s - loss: 0.5734 - accuracy: 0.8326 - val_loss: 0.6074 - val_accuracy: 0.8146\n",
      "Epoch 8/10\n",
      "12/12 - 1s - loss: 0.4276 - accuracy: 0.8664 - val_loss: 0.5217 - val_accuracy: 0.8371\n",
      "Epoch 9/10\n",
      "12/12 - 1s - loss: 0.3317 - accuracy: 0.8959 - val_loss: 0.4752 - val_accuracy: 0.8652\n",
      "Epoch 10/10\n",
      "12/12 - 1s - loss: 0.2668 - accuracy: 0.9522 - val_loss: 0.4476 - val_accuracy: 0.8652\n",
      "Training Accuracy: 0.9691\n",
      "Testing Accuracy:  0.8652\n"
     ]
    }
   ],
   "source": [
    "#train our model\n",
    "train_model = model.fit(X_train, y_train,\n",
    "                    epochs=10,\n",
    "                    verbose=2,\n",
    "                    validation_data=(X_test, y_test),\n",
    "                    batch_size=64)\n",
    "\n",
    "loss, accuracy = model.evaluate(X_train, y_train, verbose=False)\n",
    "print(\"Training Accuracy: {:.4f}\".format(accuracy))\n",
    "loss, accuracy = model.evaluate(X_test, y_test, verbose=False)\n",
    "print(\"Testing Accuracy:  {:.4f}\".format(accuracy))"
   ]
  },
  {
   "cell_type": "code",
   "execution_count": 15,
   "metadata": {},
   "outputs": [],
   "source": [
    "#set the X,y values\n",
    "x_val = validation_df['extracted_title'].fillna(' ').values\n",
    "y_val = validation_df['sdg']"
   ]
  },
  {
   "cell_type": "code",
   "execution_count": 16,
   "metadata": {},
   "outputs": [],
   "source": [
    "#convert the categorical variable into 0,1 values\n",
    "y_val = pd.get_dummies(validation_df['sdg']).values"
   ]
  },
  {
   "cell_type": "code",
   "execution_count": 17,
   "metadata": {},
   "outputs": [],
   "source": [
    "#tokenize the input variable\n",
    "#tokenizer_2 = Tokenizer(num_words=50000)\n",
    "#tokenizer_2.fit_on_texts(x_val)\n",
    "\n",
    "X_val = tokenizer.texts_to_sequences(x_val)\n",
    "\n",
    "\n",
    "vocab_size = len(tokenizer.word_index) + 1"
   ]
  },
  {
   "cell_type": "code",
   "execution_count": 18,
   "metadata": {},
   "outputs": [
    {
     "name": "stdout",
     "output_type": "stream",
     "text": [
      "[[312, 417, 134, 1074, 488, 104, 2632, 16, 2633, 122, 1076, 1077, 3], [672, 1085, 673, 36, 113, 674, 365, 14, 3], [1114, 497, 1115, 200, 483, 238, 3, 130], [501, 502, 367, 14, 3, 2, 9, 169, 232, 152], [3, 494, 1140, 3, 89, 172, 3, 204, 378, 14, 3, 1141], [16, 242, 115, 84, 3, 104], [725, 1192, 312, 115, 247, 726, 376, 727, 1193, 248, 136, 50, 75], [3, 885, 239, 2214, 3, 133, 2467, 146, 116, 1098], [733, 79, 117, 527, 1214, 1215, 734, 37, 151, 56, 735, 38], [173, 2590, 49, 14, 3, 235, 2142, 235, 79, 713, 483, 995, 669], [529, 1225, 11, 524, 309], [1226, 153, 26, 396, 233, 742, 383, 244, 249, 529, 737, 43, 114, 67, 120, 23], [8, 51, 185, 649, 128, 37, 270, 223], [8, 20, 933, 2269, 33, 102, 1], [8, 20, 193, 941], [8, 8, 461, 2273, 231, 2274, 2275, 572, 2276, 450, 97, 86], [2322, 558, 128, 2323, 232, 8, 20, 2324, 2325, 2326, 2327, 272], [205, 2340, 962, 1040, 739, 2341, 1041, 4, 659], [8, 51, 363, 1044, 185, 496, 281, 2352, 341, 80, 103], [764, 4, 2370, 12, 2371, 302], [8, 576, 2396, 2397, 374, 826, 2398, 2399, 2400], [1042, 149, 640, 4, 1054], [8, 51, 131, 8, 98], [4, 476, 540, 414, 825, 53], [8, 20, 128, 26, 21, 337, 27, 15, 203, 313], [88, 275, 40, 12, 4, 2483, 2484, 42, 2485, 361, 346], [5, 6, 13, 226, 590, 2498, 246, 2499, 399, 2500, 4, 91, 42], [59, 5, 6, 13, 226, 35, 2501], [65, 5, 6, 13, 2519, 2520, 221, 157], [2526, 218, 2527, 191, 177, 2528, 34, 62, 2529, 2530, 388], [43, 271, 2591, 27, 69, 286, 1, 2036], [664, 355, 93, 341, 2539, 5, 6, 13], [74, 63, 2552, 2553, 343, 4, 493, 52, 40, 12, 881, 206], [81, 35, 906, 289, 35, 165, 227, 161, 4, 5, 6, 13, 226], [662, 34, 62, 2398, 408, 32, 1562, 105], [227, 1064, 5, 6, 13, 226, 2571, 2572, 836], [1, 102, 40, 12, 4, 236], [34, 127, 2579, 52, 40, 12, 2580, 1072, 210, 961], [1, 601, 274, 506, 258, 1, 401, 216, 185, 874], [884, 1805, 440, 885, 1, 28, 16], [1089, 18, 1, 190, 42, 977, 532, 216], [119, 186, 1, 257, 139, 37, 186, 1, 340, 110, 1, 36, 279, 1843], [1844, 1845, 900, 455, 875, 18, 1, 901, 341], [126, 186, 1, 1846, 1847, 341], [1851, 121, 221, 124, 17, 25, 188, 909, 1852, 1474, 168, 457], [613, 128, 674, 910, 1, 401], [63, 915, 18, 1, 482, 79, 18, 1, 344, 501, 2361, 1325, 2361, 163], [145, 18, 1, 401, 614, 50, 1876, 204], [1884, 535, 340, 344, 18, 401], [1886, 1, 1887, 18, 1, 921, 4, 280, 922, 1888, 46], [910, 223, 640, 1175, 222, 401, 1140, 1175, 1172], [178, 123, 865, 345, 1, 33, 38, 1943, 946], [50, 2590, 39, 1, 93, 94, 473, 273, 567, 449, 50, 820, 329], [18, 401, 187, 814, 573, 464, 948, 33, 126, 1953], [100, 128, 949, 276, 1, 69, 42, 1956, 459], [35, 349, 1, 111, 958, 94, 1989], [22, 10, 8, 340, 51], [77, 34, 121, 1, 136, 847, 335, 10, 971, 38, 283, 972, 973, 415, 641, 143], [22, 195, 2109, 990, 989, 28, 16, 178, 378, 195, 22, 990, 991, 642, 952, 175, 992, 463, 993, 36, 2110, 2111, 2112], [28, 16, 77, 2127, 2128, 10, 180, 624, 2129], [22, 2133, 2134, 10, 61, 80, 103, 360, 2135, 2136], [269, 260, 317, 148, 112, 127, 40, 12, 112, 127, 148, 2153, 1003, 2154, 1004], [295, 2156, 45, 305, 10, 268, 22, 694, 393], [2195, 22, 2196, 90, 2197, 404, 289, 2198, 2199, 2200, 22, 934, 563], [22, 2209], [2210, 2211, 2212, 2213, 24, 335, 10, 27, 15, 85, 91], [77, 10, 163, 78, 2218, 642], [17, 25, 467, 959, 61, 109, 10, 960], [463, 61, 408, 77, 10, 349, 288, 4, 2238, 1, 286, 460, 104, 255, 143], [1006, 121, 17, 25, 630, 428, 256, 240, 23], [5, 6, 13, 226, 2583, 738, 1, 284, 480, 2584, 2585], [5, 6, 13, 95, 1021, 262, 2603], [12, 95, 619, 2609, 18, 1, 110, 637, 85], [96, 4, 2613, 2614, 35, 12], [374, 243, 2, 401, 2, 9, 321, 1252, 756, 536, 1253], [378, 1764, 778, 11, 261, 70, 738, 81], [2, 9, 43, 114], [559, 376, 2, 9, 29, 105, 795, 560, 44, 140, 796, 1398, 76, 27], [170, 91, 797, 79, 108, 1400, 26, 397, 1401, 798], [1403, 11, 60, 1404], [1409, 1628, 1111, 1411, 31, 1412], [256, 2, 307, 212, 55], [213, 31, 424, 1421], [2, 9, 101, 3, 92, 136, 565, 93, 301, 140, 65, 712], [11, 56, 39, 70, 1451], [84, 327, 552, 812], [109, 815, 1473, 269, 90, 1474, 1475, 1476, 1477, 1478], [37, 151, 19, 32, 1484, 314, 142, 677, 965, 1018, 1486], [403, 817, 24, 180, 1528, 19, 65, 140, 113, 1529, 113, 38, 175, 577, 578], [239, 19, 202, 61, 387, 398, 301], [391, 301, 203, 44, 23], [1, 32, 43, 199, 64, 68, 596, 265, 2251], [1, 39, 64, 68, 179, 283, 701, 2634, 69, 64, 139, 1374, 10], [106, 438, 159, 131, 11, 435, 9, 575, 438, 1620], [1649, 854, 582, 254, 140, 212, 1650, 522, 444, 1651], [544, 241, 837, 541, 1652, 11, 595, 45, 808, 70, 1653, 1654, 1655, 596, 265], [1666, 1667, 857, 1668, 858, 156, 857, 1669, 1670, 1671, 140, 150, 366, 1672], [396, 1727, 1728, 1729, 1730, 865, 94, 1731, 416, 31, 866], [1766, 447, 871, 872, 1767, 81, 819]]\n"
     ]
    }
   ],
   "source": [
    "print(X_val)"
   ]
  },
  {
   "cell_type": "code",
   "execution_count": 19,
   "metadata": {},
   "outputs": [],
   "source": [
    "#implement padding in the input variable\n",
    "maxlen = 400\n",
    "\n",
    "X_val = pad_sequences(X_val, padding='post', maxlen=maxlen)"
   ]
  },
  {
   "cell_type": "code",
   "execution_count": 20,
   "metadata": {
    "scrolled": true
   },
   "outputs": [
    {
     "name": "stdout",
     "output_type": "stream",
     "text": [
      "1/1 [==============================] - 0s 1000us/step - loss: 0.3008 - accuracy: 0.9192\n"
     ]
    }
   ],
   "source": [
    "#Model Evaluation on the Test Set\n",
    "test_eval = model.evaluate(\n",
    "    X_val,                  # features\n",
    "    y_val,\n",
    "    batch_size=128  \n",
    ")\n"
   ]
  },
  {
   "cell_type": "code",
   "execution_count": 21,
   "metadata": {},
   "outputs": [
    {
     "name": "stdout",
     "output_type": "stream",
     "text": [
      "Test loss: 0.3008164167404175\n",
      "Test accuracy: 0.9191918969154358\n"
     ]
    }
   ],
   "source": [
    "print('Test loss:', test_eval[0])\n",
    "print('Test accuracy:', test_eval[1])"
   ]
  },
  {
   "cell_type": "markdown",
   "metadata": {},
   "source": [
    "Run the model including a dropout parameter"
   ]
  },
  {
   "cell_type": "code",
   "execution_count": 22,
   "metadata": {},
   "outputs": [
    {
     "name": "stdout",
     "output_type": "stream",
     "text": [
      "Model: \"sequential_1\"\n",
      "_________________________________________________________________\n",
      "Layer (type)                 Output Shape              Param #   \n",
      "=================================================================\n",
      "embedding_1 (Embedding)      (None, 400, 100)          269600    \n",
      "_________________________________________________________________\n",
      "conv1d_1 (Conv1D)            (None, 398, 25)           7525      \n",
      "_________________________________________________________________\n",
      "global_max_pooling1d_1 (Glob (None, 25)                0         \n",
      "_________________________________________________________________\n",
      "dense_2 (Dense)              (None, 50)                1300      \n",
      "_________________________________________________________________\n",
      "dropout (Dropout)            (None, 50)                0         \n",
      "_________________________________________________________________\n",
      "activation_2 (Activation)    (None, 50)                0         \n",
      "_________________________________________________________________\n",
      "dense_3 (Dense)              (None, 6)                 306       \n",
      "_________________________________________________________________\n",
      "activation_3 (Activation)    (None, 6)                 0         \n",
      "=================================================================\n",
      "Total params: 278,731\n",
      "Trainable params: 278,731\n",
      "Non-trainable params: 0\n",
      "_________________________________________________________________\n"
     ]
    }
   ],
   "source": [
    "#create the model we are going to use\n",
    "embedding_dim = 100\n",
    "\n",
    "model_dropout = Sequential()\n",
    "model_dropout.add(layers.Embedding(vocab_size, embedding_dim, input_length=maxlen))\n",
    "model_dropout.add(Conv1D(nof_filters, \n",
    "                 kernel_size, \n",
    "                 padding='valid',\n",
    "                 activation='relu',\n",
    "                 strides=1))\n",
    "\n",
    "model_dropout.add(GlobalMaxPooling1D())\n",
    "model_dropout.add(Dense(hidden_dims))\n",
    "\n",
    "model_dropout.add(Dropout(0.4))\n",
    "model_dropout.add(Activation('relu'))\n",
    "\n",
    "model_dropout.add(Dense(6))\n",
    "model_dropout.add(Activation('softmax'))\n",
    "\n",
    "\n",
    "model_dropout.compile(optimizer='adam',\n",
    "              loss='categorical_crossentropy',\n",
    "              metrics=['accuracy'])\n",
    "model_dropout.summary()"
   ]
  },
  {
   "cell_type": "code",
   "execution_count": 23,
   "metadata": {},
   "outputs": [
    {
     "data": {
      "image/png": "[encoded data removed]",
      "text/plain": [
       "<IPython.core.display.Image object>"
      ]
     },
     "execution_count": 23,
     "metadata": {},
     "output_type": "execute_result"
    }
   ],
   "source": [
    "from tensorflow.keras.utils import plot_model\n",
    "\n",
    "plot_model(model_dropout,\n",
    "           to_file='model_plot_dropout_cnn.png',\n",
    "           show_shapes=True,\n",
    "           show_layer_names=True)"
   ]
  },
  {
   "cell_type": "code",
   "execution_count": 24,
   "metadata": {},
   "outputs": [
    {
     "name": "stdout",
     "output_type": "stream",
     "text": [
      "Epoch 1/10\n",
      "12/12 - 1s - loss: 1.7256 - accuracy: 0.2954 - val_loss: 1.6461 - val_accuracy: 0.2416\n",
      "Epoch 2/10\n",
      "12/12 - 1s - loss: 1.5880 - accuracy: 0.3319 - val_loss: 1.5116 - val_accuracy: 0.2416\n",
      "Epoch 3/10\n",
      "12/12 - 1s - loss: 1.4994 - accuracy: 0.3544 - val_loss: 1.4205 - val_accuracy: 0.3596\n",
      "Epoch 4/10\n",
      "12/12 - 1s - loss: 1.4099 - accuracy: 0.4824 - val_loss: 1.3444 - val_accuracy: 0.7528\n",
      "Epoch 5/10\n",
      "12/12 - 1s - loss: 1.2924 - accuracy: 0.6639 - val_loss: 1.2259 - val_accuracy: 0.7978\n",
      "Epoch 6/10\n",
      "12/12 - 1s - loss: 1.1197 - accuracy: 0.7440 - val_loss: 1.0582 - val_accuracy: 0.8090\n",
      "Epoch 7/10\n",
      "12/12 - 1s - loss: 0.9162 - accuracy: 0.8017 - val_loss: 0.8733 - val_accuracy: 0.8258\n",
      "Epoch 8/10\n",
      "12/12 - 1s - loss: 0.7274 - accuracy: 0.8200 - val_loss: 0.7079 - val_accuracy: 0.8258\n",
      "Epoch 9/10\n",
      "12/12 - 1s - loss: 0.5587 - accuracy: 0.8425 - val_loss: 0.5827 - val_accuracy: 0.8596\n",
      "Epoch 10/10\n",
      "12/12 - 1s - loss: 0.4306 - accuracy: 0.8734 - val_loss: 0.5024 - val_accuracy: 0.8820\n",
      "Training Accuracy: 0.9142\n",
      "Testing Accuracy:  0.8820\n"
     ]
    }
   ],
   "source": [
    "#train our model\n",
    "train_model_dropout = model_dropout.fit(X_train, y_train,\n",
    "                    epochs=10,\n",
    "                    verbose=2,\n",
    "                    validation_data=(X_test, y_test),\n",
    "                    batch_size=64)\n",
    "\n",
    "loss, accuracy = model_dropout.evaluate(X_train, y_train, verbose=False)\n",
    "print(\"Training Accuracy: {:.4f}\".format(accuracy))\n",
    "loss, accuracy = model_dropout.evaluate(X_test, y_test, verbose=False)\n",
    "print(\"Testing Accuracy:  {:.4f}\".format(accuracy))"
   ]
  },
  {
   "cell_type": "code",
   "execution_count": 26,
   "metadata": {},
   "outputs": [
    {
     "name": "stdout",
     "output_type": "stream",
     "text": [
      "1/1 [==============================] - 0s 2ms/step - loss: 0.4183 - accuracy: 0.8990\n"
     ]
    }
   ],
   "source": [
    "#Model Evaluation on the Test Set\n",
    "test_eval_2 = model_dropout.evaluate(\n",
    "    X_val,                  # features\n",
    "    y_val,\n",
    "    batch_size=128  \n",
    ")"
   ]
  },
  {
   "cell_type": "code",
   "execution_count": 27,
   "metadata": {},
   "outputs": [
    {
     "name": "stdout",
     "output_type": "stream",
     "text": [
      "Test loss: 0.418335884809494\n",
      "Test accuracy: 0.8989899158477783\n"
     ]
    }
   ],
   "source": [
    "print('Test loss:', test_eval_2[0])\n",
    "print('Test accuracy:', test_eval_2[1])"
   ]
  },
  {
   "cell_type": "code",
   "execution_count": 28,
   "metadata": {},
   "outputs": [],
   "source": [
    "import matplotlib.pyplot as plt"
   ]
  },
  {
   "cell_type": "code",
   "execution_count": 29,
   "metadata": {
    "scrolled": true
   },
   "outputs": [
    {
     "data": {
      "image/png": "[encoded data removed]",
      "text/plain": [
       "<Figure size 432x288 with 1 Axes>"
      ]
     },
     "metadata": {
      "needs_background": "light"
     },
     "output_type": "display_data"
    },
    {
     "data": {
      "image/png": "[encoded data removed]",
      "text/plain": [
       "<Figure size 432x288 with 1 Axes>"
      ]
     },
     "metadata": {
      "needs_background": "light"
     },
     "output_type": "display_data"
    }
   ],
   "source": [
    "#Plot the accuracy and loss plots between training and validation data:\n",
    "\n",
    "accuracy = train_model.history['accuracy']\n",
    "val_accuracy = train_model.history['val_accuracy']\n",
    "loss =train_model.history['loss']\n",
    "val_loss = train_model.history['val_loss']\n",
    "epochs = range(len(accuracy))\n",
    "plt.plot(epochs, accuracy, 'bo', label='Training accuracy')\n",
    "plt.plot(epochs, val_accuracy, 'b', label='Validation accuracy')\n",
    "plt.title('Training and validation accuracy')\n",
    "plt.legend()\n",
    "plt.figure()\n",
    "plt.plot(epochs, loss, 'bo', label='Training loss')\n",
    "plt.plot(epochs, val_loss, 'b', label='Validation loss')\n",
    "plt.title('Training and validation loss')\n",
    "plt.legend()\n",
    "plt.show()"
   ]
  },
  {
   "cell_type": "code",
   "execution_count": 30,
   "metadata": {},
   "outputs": [
    {
     "name": "stdout",
     "output_type": "stream",
     "text": [
      "WARNING:tensorflow:From <ipython-input-30-ff904d7c7f41>:1: Sequential.predict_classes (from tensorflow.python.keras.engine.sequential) is deprecated and will be removed after 2021-01-01.\n",
      "Instructions for updating:\n",
      "Please use instead:* `np.argmax(model.predict(x), axis=-1)`,   if your model does multi-class classification   (e.g. if it uses a `softmax` last-layer activation).* `(model.predict(x) > 0.5).astype(\"int32\")`,   if your model does binary classification   (e.g. if it uses a `sigmoid` last-layer activation).\n"
     ]
    },
    {
     "data": {
      "text/plain": [
       "array([5, 0, 0, 2, 0, 0, 3, 0, 1, 0, 2, 3, 4, 4, 4, 4, 4, 4, 4, 4, 4, 4,\n",
       "       4, 4, 4, 4, 4, 4, 4, 4, 3, 4, 4, 4, 4, 4, 4, 4, 3, 3, 3, 3, 3, 3,\n",
       "       3, 3, 3, 3, 3, 3, 3, 3, 3, 3, 3, 3, 3, 3, 3, 3, 3, 3, 3, 3, 3, 3,\n",
       "       3, 3, 3, 3, 4, 4, 3, 4, 2, 2, 2, 2, 2, 2, 2, 2, 2, 2, 2, 2, 2, 2,\n",
       "       2, 2, 2, 3, 3, 2, 2, 2, 2, 2, 2], dtype=int64)"
      ]
     },
     "execution_count": 30,
     "metadata": {},
     "output_type": "execute_result"
    }
   ],
   "source": [
    "y_test_pred = model.predict_classes(X_val)\n",
    "y_test_pred"
   ]
  },
  {
   "cell_type": "code",
   "execution_count": 31,
   "metadata": {},
   "outputs": [
    {
     "data": {
      "text/plain": [
       "array([5, 0, 0, 0, 0, 0, 1, 1, 1, 1, 1, 1, 4, 4, 4, 4, 4, 4, 4, 4, 4, 4,\n",
       "       4, 4, 4, 4, 4, 4, 4, 4, 4, 4, 4, 4, 4, 4, 4, 4, 3, 3, 3, 3, 3, 3,\n",
       "       3, 3, 3, 3, 3, 3, 3, 3, 3, 3, 3, 3, 3, 3, 3, 3, 3, 3, 3, 3, 3, 3,\n",
       "       3, 3, 3, 3, 4, 4, 4, 4, 2, 2, 2, 2, 2, 2, 2, 2, 2, 2, 2, 2, 2, 2,\n",
       "       2, 2, 2, 3, 3, 2, 2, 2, 2, 2, 2], dtype=int64)"
      ]
     },
     "execution_count": 31,
     "metadata": {},
     "output_type": "execute_result"
    }
   ],
   "source": [
    "y_val.argmax(axis=1)"
   ]
  },
  {
   "cell_type": "code",
   "execution_count": 32,
   "metadata": {},
   "outputs": [],
   "source": [
    "y_score = model.predict(X_val)"
   ]
  },
  {
   "cell_type": "code",
   "execution_count": 33,
   "metadata": {},
   "outputs": [
    {
     "data": {
      "text/plain": [
       "array([0.13407256, 0.16336486, 0.04223703, 0.18260418, 0.09701619,\n",
       "       0.3807052 ], dtype=float32)"
      ]
     },
     "execution_count": 33,
     "metadata": {},
     "output_type": "execute_result"
    }
   ],
   "source": [
    "y_score[0]"
   ]
  },
  {
   "cell_type": "code",
   "execution_count": 34,
   "metadata": {},
   "outputs": [],
   "source": [
    "#function to create roc curve\n",
    "from scipy import interp\n",
    "from itertools import cycle\n",
    "\n",
    "\n",
    "def plot_multi_class_roc_auc_curves(nb_classes, y_true, y_pred_score, lw: int = 2):\n",
    "    \"\"\"\n",
    "    ROC, AUC for a categorical classifier\n",
    "    \n",
    "    ROC curve extends to problems with three or more classes with what is known as the one-vs-all approach.\n",
    "    For instance, if we have three classes, we will create three ROC curves,\n",
    "\n",
    "    For each class, we take it as the positive class and group the rest classes jointly as the negative class.\n",
    "\n",
    "    Class 1 vs classes 2&3\n",
    "    Class 2 vs classes 1&3\n",
    "    Class 3 vs classes 1&2\n",
    "\n",
    "    :param nb_classes:\n",
    "    :param y_true:\n",
    "    :param y_pred_score:\n",
    "    :param lw:\n",
    "    :return:\n",
    "    \"\"\"\n",
    "\n",
    "    # Compute ROC curve and ROC area for each class\n",
    "    fpr = dict()\n",
    "    tpr = dict()\n",
    "    roc_auc = dict()\n",
    "\n",
    "    for i in range(nb_classes):\n",
    "        fpr[i], tpr[i], _ = roc_curve(y_true[:, i], y_pred_score[:, i])\n",
    "\n",
    "        roc_auc[i] = auc(fpr[i], tpr[i])\n",
    "\n",
    "    # Compute micro-average ROC curve and ROC area\n",
    "    fpr[\"micro\"], tpr[\"micro\"], _ = roc_curve(y_true.ravel(), y_pred_score.ravel())\n",
    "\n",
    "    roc_auc[\"micro\"] = auc(fpr[\"micro\"], tpr[\"micro\"])\n",
    "\n",
    "    # Compute macro-average ROC curve and ROC area\n",
    "\n",
    "    # First aggregate all false positive rates\n",
    "    all_fpr = np.unique(np.concatenate([fpr[i] for i in range(nb_classes)]))\n",
    "\n",
    "    # Then interpolate all ROC curves at this points\n",
    "    mean_tpr = np.zeros_like(all_fpr)\n",
    "\n",
    "    for i in range(nb_classes):\n",
    "        mean_tpr += interp(all_fpr, fpr[i], tpr[i])\n",
    "\n",
    "    # Finally average it and compute AUC\n",
    "    mean_tpr /= nb_classes\n",
    "\n",
    "    fpr[\"macro\"] = all_fpr\n",
    "    tpr[\"macro\"] = mean_tpr\n",
    "    roc_auc[\"macro\"] = auc(fpr[\"macro\"], tpr[\"macro\"])\n",
    "\n",
    "    # Plot all ROC curves\n",
    "    plt.figure(1)\n",
    "    plt.plot(fpr[\"micro\"],\n",
    "             tpr[\"micro\"],\n",
    "             label='micro-average ROC curve (area = {0:0.2f})'.format(roc_auc[\"micro\"]),\n",
    "             color='deeppink',\n",
    "             linestyle=':',\n",
    "             linewidth=4)\n",
    "\n",
    "    plt.plot(fpr[\"macro\"],\n",
    "             tpr[\"macro\"],\n",
    "             label='macro-average ROC curve (area = {0:0.2f})'.format(roc_auc[\"macro\"]),\n",
    "             color='navy',\n",
    "             linestyle=':',\n",
    "             linewidth=4)\n",
    "\n",
    "    colors = cycle(['aqua',\n",
    "                    'darkorange',\n",
    "                    'cornflowerblue'])\n",
    "\n",
    "    for i, color in zip(range(nb_classes), colors):\n",
    "        plt.plot(fpr[i],\n",
    "                 tpr[i],\n",
    "                 color=color,\n",
    "                 lw=lw,\n",
    "                 label='ROC curve of class {0} (area = {1:0.2f})'.format(i, roc_auc[i]))\n",
    "\n",
    "    plt.plot([0, 1],\n",
    "             [0, 1],\n",
    "             'k--',\n",
    "             lw=lw)\n",
    "\n",
    "    plt.xlim([0.0, 1.0])\n",
    "    plt.ylim([0.0, 1.05])\n",
    "\n",
    "    plt.xlabel('False Positive Rate')\n",
    "    plt.ylabel('True Positive Rate')\n",
    "\n",
    "    plt.title('Some extension of Receiver operating characteristic to multi-class')\n",
    "    plt.legend(loc=\"lower right\")\n",
    "    # plt.show()\n",
    "\n",
    "    # Zoom in view of the upper left corner.\n",
    "    plt.figure(2)\n",
    "    plt.xlim(0, 0.2)\n",
    "    plt.ylim(0.7, 1)\n",
    "\n",
    "    plt.plot(fpr[\"micro\"],\n",
    "             tpr[\"micro\"],\n",
    "             label='micro-average ROC curve (area = {0:0.2f})'.format(roc_auc[\"micro\"]),\n",
    "             color='deeppink',\n",
    "             linestyle=':',\n",
    "             linewidth=4)\n",
    "\n",
    "    plt.plot(fpr[\"macro\"],\n",
    "             tpr[\"macro\"],\n",
    "             label='macro-average ROC curve (area = {0:0.2f})'.format(roc_auc[\"macro\"]),\n",
    "             color='navy',\n",
    "             linestyle=':',\n",
    "             linewidth=4)\n",
    "\n",
    "    colors = cycle(['aqua',\n",
    "                    'darkorange',\n",
    "                    'cornflowerblue'])\n",
    "\n",
    "    for i, color in zip(range(nb_classes), colors):\n",
    "        plt.plot(fpr[i],\n",
    "                 tpr[i],\n",
    "                 color=color,\n",
    "                 lw=lw,\n",
    "                 label='ROC curve of class {0} (area = {1:0.2f})'.format(i, roc_auc[i]))\n",
    "\n",
    "    plt.plot([0, 1],\n",
    "             [0, 1],\n",
    "             'k--', lw=lw)\n",
    "\n",
    "    plt.xlabel('False Positive Rate')\n",
    "    plt.ylabel('True Positive Rate')\n",
    "    plt.title('Some extension of Receiver operating characteristic to multi-class')\n",
    "    plt.legend(loc=\"lower right\")\n",
    "    plt.show()"
   ]
  },
  {
   "cell_type": "code",
   "execution_count": 35,
   "metadata": {},
   "outputs": [
    {
     "name": "stderr",
     "output_type": "stream",
     "text": [
      "<ipython-input-34-b9e158e82b33>:50: DeprecationWarning: scipy.interp is deprecated and will be removed in SciPy 2.0.0, use numpy.interp instead\n",
      "  mean_tpr += interp(all_fpr, fpr[i], tpr[i])\n"
     ]
    },
    {
     "data": {
      "image/png": "[encoded data removed]",
      "text/plain": [
       "<Figure size 432x288 with 1 Axes>"
      ]
     },
     "metadata": {
      "needs_background": "light"
     },
     "output_type": "display_data"
    },
    {
     "data": {
      "image/png": "[encoded data removed]",
      "text/plain": [
       "<Figure size 432x288 with 1 Axes>"
      ]
     },
     "metadata": {
      "needs_background": "light"
     },
     "output_type": "display_data"
    }
   ],
   "source": [
    "plot_multi_class_roc_auc_curves(nb_classes=6,\n",
    "                                y_true=y_val,\n",
    "                                y_pred_score=y_score)"
   ]
  },
  {
   "cell_type": "code",
   "execution_count": 36,
   "metadata": {},
   "outputs": [
    {
     "data": {
      "text/plain": [
       "array([5, 0, 0, 2, 0, 0, 3, 0, 1, 0, 2, 3, 4, 4, 4, 4, 4, 4, 4, 4, 4, 4,\n",
       "       4, 4, 4, 4, 4, 4, 4, 4, 3, 4, 4, 4, 4, 4, 4, 4, 3, 3, 3, 3, 3, 3,\n",
       "       3, 3, 3, 3, 3, 3, 3, 3, 3, 3, 3, 3, 3, 3, 3, 3, 3, 3, 3, 3, 3, 3,\n",
       "       3, 3, 3, 3, 4, 4, 3, 4, 2, 2, 2, 2, 2, 2, 2, 2, 2, 2, 2, 2, 2, 2,\n",
       "       2, 2, 2, 3, 3, 2, 2, 2, 2, 2, 2], dtype=int64)"
      ]
     },
     "execution_count": 36,
     "metadata": {},
     "output_type": "execute_result"
    }
   ],
   "source": [
    "y_pred_class = model.predict_classes(X_val)\n",
    "y_pred_class"
   ]
  },
  {
   "cell_type": "code",
   "execution_count": 37,
   "metadata": {},
   "outputs": [],
   "source": [
    "from sklearn import preprocessing\n",
    "lb = preprocessing.LabelBinarizer()\n",
    "y_test_binarize = lb.fit_transform(y_val)"
   ]
  },
  {
   "cell_type": "code",
   "execution_count": 38,
   "metadata": {
    "scrolled": true
   },
   "outputs": [
    {
     "data": {
      "text/plain": [
       "array([[0, 0, 0, 0, 0, 1],\n",
       "       [1, 0, 0, 0, 0, 0],\n",
       "       [1, 0, 0, 0, 0, 0],\n",
       "       [1, 0, 0, 0, 0, 0],\n",
       "       [1, 0, 0, 0, 0, 0],\n",
       "       [1, 0, 0, 0, 0, 0],\n",
       "       [0, 1, 0, 0, 0, 0],\n",
       "       [0, 1, 0, 0, 0, 0],\n",
       "       [0, 1, 0, 0, 0, 0],\n",
       "       [0, 1, 0, 0, 0, 0],\n",
       "       [0, 1, 0, 0, 0, 0],\n",
       "       [0, 1, 0, 0, 0, 0],\n",
       "       [0, 0, 0, 0, 1, 0],\n",
       "       [0, 0, 0, 0, 1, 0],\n",
       "       [0, 0, 0, 0, 1, 0],\n",
       "       [0, 0, 0, 0, 1, 0],\n",
       "       [0, 0, 0, 0, 1, 0],\n",
       "       [0, 0, 0, 0, 1, 0],\n",
       "       [0, 0, 0, 0, 1, 0],\n",
       "       [0, 0, 0, 0, 1, 0],\n",
       "       [0, 0, 0, 0, 1, 0],\n",
       "       [0, 0, 0, 0, 1, 0],\n",
       "       [0, 0, 0, 0, 1, 0],\n",
       "       [0, 0, 0, 0, 1, 0],\n",
       "       [0, 0, 0, 0, 1, 0],\n",
       "       [0, 0, 0, 0, 1, 0],\n",
       "       [0, 0, 0, 0, 1, 0],\n",
       "       [0, 0, 0, 0, 1, 0],\n",
       "       [0, 0, 0, 0, 1, 0],\n",
       "       [0, 0, 0, 0, 1, 0],\n",
       "       [0, 0, 0, 0, 1, 0],\n",
       "       [0, 0, 0, 0, 1, 0],\n",
       "       [0, 0, 0, 0, 1, 0],\n",
       "       [0, 0, 0, 0, 1, 0],\n",
       "       [0, 0, 0, 0, 1, 0],\n",
       "       [0, 0, 0, 0, 1, 0],\n",
       "       [0, 0, 0, 0, 1, 0],\n",
       "       [0, 0, 0, 0, 1, 0],\n",
       "       [0, 0, 0, 1, 0, 0],\n",
       "       [0, 0, 0, 1, 0, 0],\n",
       "       [0, 0, 0, 1, 0, 0],\n",
       "       [0, 0, 0, 1, 0, 0],\n",
       "       [0, 0, 0, 1, 0, 0],\n",
       "       [0, 0, 0, 1, 0, 0],\n",
       "       [0, 0, 0, 1, 0, 0],\n",
       "       [0, 0, 0, 1, 0, 0],\n",
       "       [0, 0, 0, 1, 0, 0],\n",
       "       [0, 0, 0, 1, 0, 0],\n",
       "       [0, 0, 0, 1, 0, 0],\n",
       "       [0, 0, 0, 1, 0, 0],\n",
       "       [0, 0, 0, 1, 0, 0],\n",
       "       [0, 0, 0, 1, 0, 0],\n",
       "       [0, 0, 0, 1, 0, 0],\n",
       "       [0, 0, 0, 1, 0, 0],\n",
       "       [0, 0, 0, 1, 0, 0],\n",
       "       [0, 0, 0, 1, 0, 0],\n",
       "       [0, 0, 0, 1, 0, 0],\n",
       "       [0, 0, 0, 1, 0, 0],\n",
       "       [0, 0, 0, 1, 0, 0],\n",
       "       [0, 0, 0, 1, 0, 0],\n",
       "       [0, 0, 0, 1, 0, 0],\n",
       "       [0, 0, 0, 1, 0, 0],\n",
       "       [0, 0, 0, 1, 0, 0],\n",
       "       [0, 0, 0, 1, 0, 0],\n",
       "       [0, 0, 0, 1, 0, 0],\n",
       "       [0, 0, 0, 1, 0, 0],\n",
       "       [0, 0, 0, 1, 0, 0],\n",
       "       [0, 0, 0, 1, 0, 0],\n",
       "       [0, 0, 0, 1, 0, 0],\n",
       "       [0, 0, 0, 1, 0, 0],\n",
       "       [0, 0, 0, 0, 1, 0],\n",
       "       [0, 0, 0, 0, 1, 0],\n",
       "       [0, 0, 0, 0, 1, 0],\n",
       "       [0, 0, 0, 0, 1, 0],\n",
       "       [0, 0, 1, 0, 0, 0],\n",
       "       [0, 0, 1, 0, 0, 0],\n",
       "       [0, 0, 1, 0, 0, 0],\n",
       "       [0, 0, 1, 0, 0, 0],\n",
       "       [0, 0, 1, 0, 0, 0],\n",
       "       [0, 0, 1, 0, 0, 0],\n",
       "       [0, 0, 1, 0, 0, 0],\n",
       "       [0, 0, 1, 0, 0, 0],\n",
       "       [0, 0, 1, 0, 0, 0],\n",
       "       [0, 0, 1, 0, 0, 0],\n",
       "       [0, 0, 1, 0, 0, 0],\n",
       "       [0, 0, 1, 0, 0, 0],\n",
       "       [0, 0, 1, 0, 0, 0],\n",
       "       [0, 0, 1, 0, 0, 0],\n",
       "       [0, 0, 1, 0, 0, 0],\n",
       "       [0, 0, 1, 0, 0, 0],\n",
       "       [0, 0, 1, 0, 0, 0],\n",
       "       [0, 0, 0, 1, 0, 0],\n",
       "       [0, 0, 0, 1, 0, 0],\n",
       "       [0, 0, 1, 0, 0, 0],\n",
       "       [0, 0, 1, 0, 0, 0],\n",
       "       [0, 0, 1, 0, 0, 0],\n",
       "       [0, 0, 1, 0, 0, 0],\n",
       "       [0, 0, 1, 0, 0, 0],\n",
       "       [0, 0, 1, 0, 0, 0]])"
      ]
     },
     "execution_count": 38,
     "metadata": {},
     "output_type": "execute_result"
    }
   ],
   "source": [
    "y_test_normal = lb.inverse_transform(y_val)\n",
    "y_test_normal\n"
   ]
  },
  {
   "cell_type": "code",
   "execution_count": 39,
   "metadata": {},
   "outputs": [],
   "source": [
    "from sklearn.metrics import confusion_matrix, classification_report"
   ]
  },
  {
   "cell_type": "code",
   "execution_count": 40,
   "metadata": {},
   "outputs": [
    {
     "name": "stdout",
     "output_type": "stream",
     "text": [
      "              precision    recall  f1-score   support\n",
      "\n",
      "           0       0.67      0.80      0.73         5\n",
      "           1       1.00      0.17      0.29         6\n",
      "           2       0.92      1.00      0.96        23\n",
      "           3       0.89      1.00      0.94        34\n",
      "           4       1.00      0.93      0.97        30\n",
      "           5       1.00      1.00      1.00         1\n",
      "\n",
      "    accuracy                           0.92        99\n",
      "   macro avg       0.91      0.82      0.81        99\n",
      "weighted avg       0.93      0.92      0.90        99\n",
      "\n"
     ]
    }
   ],
   "source": [
    "print(classification_report(y_true=np.argmax(y_test_normal,axis = 1),\n",
    "                            y_pred=y_pred_class))"
   ]
  },
  {
   "cell_type": "code",
   "execution_count": 41,
   "metadata": {},
   "outputs": [],
   "source": [
    "def print_confusion_matrix(y_true,\n",
    "                           y_pred,\n",
    "                           class_names: List[str],\n",
    "                           figsize: Tuple[int, int] = (10, 7),\n",
    "                           fontsize: int = 14) -> pd.DataFrame:\n",
    "    \"\"\"\n",
    "    Prints a confusion matrix, as returned by sklearn.metrics.confusion_matrix, as a heat-map.\n",
    "\n",
    "    For something more extraordinary check this repo:\n",
    "    https://github.com/wcipriano/pretty-print-confusion-matrix\n",
    "\n",
    "\n",
    "    :param class_names:  An ordered list of class names\n",
    "    :param figsize: A 2-long tuple, the first value determining the horizontal size of the outputted\n",
    "                    figure, the second determining the vertical size. Defaults to (10,7).\n",
    "    :param fontsize: Font size for axes labels. Defaults to 14.\n",
    "    :return: The confusion matrix as a dataset\n",
    "    \"\"\"\n",
    "    conf_matrix = confusion_matrix(y_true=y_true, y_pred=y_pred)\n",
    "\n",
    "    df_cm = pd.DataFrame(conf_matrix, index=class_names, columns=class_names)\n",
    "\n",
    "    fig = plt.figure(figsize=figsize)\n",
    "\n",
    "    try:\n",
    "        heatmap = sns.heatmap(df_cm, annot=True, fmt=\"d\")\n",
    "\n",
    "    except ValueError:\n",
    "\n",
    "        raise ValueError(\"Confusion matrix values must be integers.\")\n",
    "\n",
    "    heatmap.yaxis.set_ticklabels(heatmap.yaxis.get_ticklabels(),\n",
    "                                 rotation=0,\n",
    "                                 ha='right',\n",
    "                                 fontsize=fontsize)\n",
    "\n",
    "    heatmap.xaxis.set_ticklabels(heatmap.xaxis.get_ticklabels(),\n",
    "                                 rotation=45,\n",
    "                                 ha='right',\n",
    "                                 fontsize=fontsize)\n",
    "\n",
    "    plt.ylabel('True label')\n",
    "    plt.xlabel('Predicted label')\n",
    "    plt.show()\n",
    "\n",
    "    return df_cm"
   ]
  },
  {
   "cell_type": "code",
   "execution_count": 42,
   "metadata": {
    "scrolled": true
   },
   "outputs": [
    {
     "data": {
      "image/png": "[encoded data removed]",
      "text/plain": [
       "<Figure size 720x504 with 2 Axes>"
      ]
     },
     "metadata": {
      "needs_background": "light"
     },
     "output_type": "display_data"
    },
    {
     "data": {
      "text/html": [
       "<div>\n",
       "<style scoped>\n",
       "    .dataframe tbody tr th:only-of-type {\n",
       "        vertical-align: middle;\n",
       "    }\n",
       "\n",
       "    .dataframe tbody tr th {\n",
       "        vertical-align: top;\n",
       "    }\n",
       "\n",
       "    .dataframe thead th {\n",
       "        text-align: right;\n",
       "    }\n",
       "</style>\n",
       "<table border=\"1\" class=\"dataframe\">\n",
       "  <thead>\n",
       "    <tr style=\"text-align: right;\">\n",
       "      <th></th>\n",
       "      <th>SDG10</th>\n",
       "      <th>SDG12</th>\n",
       "      <th>SDG13</th>\n",
       "      <th>SDG3</th>\n",
       "      <th>SDG5</th>\n",
       "      <th>SDG7</th>\n",
       "    </tr>\n",
       "  </thead>\n",
       "  <tbody>\n",
       "    <tr>\n",
       "      <th>SDG10</th>\n",
       "      <td>4</td>\n",
       "      <td>0</td>\n",
       "      <td>1</td>\n",
       "      <td>0</td>\n",
       "      <td>0</td>\n",
       "      <td>0</td>\n",
       "    </tr>\n",
       "    <tr>\n",
       "      <th>SDG12</th>\n",
       "      <td>2</td>\n",
       "      <td>1</td>\n",
       "      <td>1</td>\n",
       "      <td>2</td>\n",
       "      <td>0</td>\n",
       "      <td>0</td>\n",
       "    </tr>\n",
       "    <tr>\n",
       "      <th>SDG13</th>\n",
       "      <td>0</td>\n",
       "      <td>0</td>\n",
       "      <td>23</td>\n",
       "      <td>0</td>\n",
       "      <td>0</td>\n",
       "      <td>0</td>\n",
       "    </tr>\n",
       "    <tr>\n",
       "      <th>SDG3</th>\n",
       "      <td>0</td>\n",
       "      <td>0</td>\n",
       "      <td>0</td>\n",
       "      <td>34</td>\n",
       "      <td>0</td>\n",
       "      <td>0</td>\n",
       "    </tr>\n",
       "    <tr>\n",
       "      <th>SDG5</th>\n",
       "      <td>0</td>\n",
       "      <td>0</td>\n",
       "      <td>0</td>\n",
       "      <td>2</td>\n",
       "      <td>28</td>\n",
       "      <td>0</td>\n",
       "    </tr>\n",
       "    <tr>\n",
       "      <th>SDG7</th>\n",
       "      <td>0</td>\n",
       "      <td>0</td>\n",
       "      <td>0</td>\n",
       "      <td>0</td>\n",
       "      <td>0</td>\n",
       "      <td>1</td>\n",
       "    </tr>\n",
       "  </tbody>\n",
       "</table>\n",
       "</div>"
      ],
      "text/plain": [
       "       SDG10  SDG12  SDG13  SDG3  SDG5  SDG7\n",
       "SDG10      4      0      1     0     0     0\n",
       "SDG12      2      1      1     2     0     0\n",
       "SDG13      0      0     23     0     0     0\n",
       "SDG3       0      0      0    34     0     0\n",
       "SDG5       0      0      0     2    28     0\n",
       "SDG7       0      0      0     0     0     1"
      ]
     },
     "execution_count": 42,
     "metadata": {},
     "output_type": "execute_result"
    }
   ],
   "source": [
    "#create the confusion matrix using the above function\n",
    "import seaborn as sns\n",
    "\n",
    "print_confusion_matrix(y_true=np.argmax(y_test_normal,axis = 1),\n",
    "                           y_pred=y_pred_class,\n",
    "                           class_names=['SDG10', 'SDG12', 'SDG13', 'SDG3', 'SDG5', 'SDG7'])"
   ]
  },
  {
   "cell_type": "code",
   "execution_count": 49,
   "metadata": {},
   "outputs": [
    {
     "data": {
      "text/html": [
       "<div>\n",
       "<style scoped>\n",
       "    .dataframe tbody tr th:only-of-type {\n",
       "        vertical-align: middle;\n",
       "    }\n",
       "\n",
       "    .dataframe tbody tr th {\n",
       "        vertical-align: top;\n",
       "    }\n",
       "\n",
       "    .dataframe thead th {\n",
       "        text-align: right;\n",
       "    }\n",
       "</style>\n",
       "<table border=\"1\" class=\"dataframe\">\n",
       "  <thead>\n",
       "    <tr style=\"text-align: right;\">\n",
       "      <th></th>\n",
       "      <th>sdg</th>\n",
       "      <th>extracted_title</th>\n",
       "      <th>extracted_abstract</th>\n",
       "      <th>initial_text</th>\n",
       "    </tr>\n",
       "  </thead>\n",
       "  <tbody>\n",
       "    <tr>\n",
       "      <th>0</th>\n",
       "      <td>SDG7</td>\n",
       "      <td>Solid oxide fuel cell hybrid system: A detaile...</td>\n",
       "      <td>This paper reports a review of an environmenta...</td>\n",
       "      <td>Solid oxide fuel cell hybrid system: A detaile...</td>\n",
       "    </tr>\n",
       "    <tr>\n",
       "      <th>1</th>\n",
       "      <td>SDG10</td>\n",
       "      <td>How do oil prices, macroeconomic factors and p...</td>\n",
       "      <td>The aim of this study is to determine the natu...</td>\n",
       "      <td>How do oil prices, macroeconomic factors and p...</td>\n",
       "    </tr>\n",
       "    <tr>\n",
       "      <th>2</th>\n",
       "      <td>SDG10</td>\n",
       "      <td>A comprehensive indicator set for measuring mu...</td>\n",
       "      <td>In this paper, we develop a quantitative indic...</td>\n",
       "      <td>A comprehensive indicator set for measuring mu...</td>\n",
       "    </tr>\n",
       "    <tr>\n",
       "      <th>3</th>\n",
       "      <td>SDG10</td>\n",
       "      <td>Foreign direct investment and renewable energy...</td>\n",
       "      <td>Climate change mitigation is a topical issue w...</td>\n",
       "      <td>Foreign direct investment and renewable energy...</td>\n",
       "    </tr>\n",
       "    <tr>\n",
       "      <th>4</th>\n",
       "      <td>SDG10</td>\n",
       "      <td>Energy storage and multi energy systems in loc...</td>\n",
       "      <td>This study investigates how a district with a ...</td>\n",
       "      <td>Energy storage and multi energy systems in loc...</td>\n",
       "    </tr>\n",
       "    <tr>\n",
       "      <th>...</th>\n",
       "      <td>...</td>\n",
       "      <td>...</td>\n",
       "      <td>...</td>\n",
       "      <td>...</td>\n",
       "    </tr>\n",
       "    <tr>\n",
       "      <th>94</th>\n",
       "      <td>SDG13</td>\n",
       "      <td>Dual stresses of flooding and agricultural lan...</td>\n",
       "      <td>Global climate change is leading to a signific...</td>\n",
       "      <td>Dual stresses of flooding and agricultural lan...</td>\n",
       "    </tr>\n",
       "    <tr>\n",
       "      <th>95</th>\n",
       "      <td>SDG13</td>\n",
       "      <td>Trend of extreme rainfall events using suitabl...</td>\n",
       "      <td>Kolkata Metropolitan Area (KMA) is one of the ...</td>\n",
       "      <td>Trend of extreme rainfall events using suitabl...</td>\n",
       "    </tr>\n",
       "    <tr>\n",
       "      <th>96</th>\n",
       "      <td>SDG13</td>\n",
       "      <td>Grounding line, ice frontal position and coast...</td>\n",
       "      <td>Over the past 20 years satellite remote sensin...</td>\n",
       "      <td>Grounding line, ice frontal position and coast...</td>\n",
       "    </tr>\n",
       "    <tr>\n",
       "      <th>97</th>\n",
       "      <td>SDG13</td>\n",
       "      <td>It's not (just) “the environment, stupid!” Val...</td>\n",
       "      <td>This exploratory mixed-methods study uses in-d...</td>\n",
       "      <td>It's not (just) “the environment, stupid!” Val...</td>\n",
       "    </tr>\n",
       "    <tr>\n",
       "      <th>98</th>\n",
       "      <td>SDG13</td>\n",
       "      <td>A visual method to identify significant latitu...</td>\n",
       "      <td>Many studies have shown recent climate-induced...</td>\n",
       "      <td>A visual method to identify significant latitu...</td>\n",
       "    </tr>\n",
       "  </tbody>\n",
       "</table>\n",
       "<p>99 rows × 4 columns</p>\n",
       "</div>"
      ],
      "text/plain": [
       "      sdg                                    extracted_title  \\\n",
       "0    SDG7  Solid oxide fuel cell hybrid system: A detaile...   \n",
       "1   SDG10  How do oil prices, macroeconomic factors and p...   \n",
       "2   SDG10  A comprehensive indicator set for measuring mu...   \n",
       "3   SDG10  Foreign direct investment and renewable energy...   \n",
       "4   SDG10  Energy storage and multi energy systems in loc...   \n",
       "..    ...                                                ...   \n",
       "94  SDG13  Dual stresses of flooding and agricultural lan...   \n",
       "95  SDG13  Trend of extreme rainfall events using suitabl...   \n",
       "96  SDG13  Grounding line, ice frontal position and coast...   \n",
       "97  SDG13  It's not (just) “the environment, stupid!” Val...   \n",
       "98  SDG13  A visual method to identify significant latitu...   \n",
       "\n",
       "                                   extracted_abstract  \\\n",
       "0   This paper reports a review of an environmenta...   \n",
       "1   The aim of this study is to determine the natu...   \n",
       "2   In this paper, we develop a quantitative indic...   \n",
       "3   Climate change mitigation is a topical issue w...   \n",
       "4   This study investigates how a district with a ...   \n",
       "..                                                ...   \n",
       "94  Global climate change is leading to a signific...   \n",
       "95  Kolkata Metropolitan Area (KMA) is one of the ...   \n",
       "96  Over the past 20 years satellite remote sensin...   \n",
       "97  This exploratory mixed-methods study uses in-d...   \n",
       "98  Many studies have shown recent climate-induced...   \n",
       "\n",
       "                                         initial_text  \n",
       "0   Solid oxide fuel cell hybrid system: A detaile...  \n",
       "1   How do oil prices, macroeconomic factors and p...  \n",
       "2   A comprehensive indicator set for measuring mu...  \n",
       "3   Foreign direct investment and renewable energy...  \n",
       "4   Energy storage and multi energy systems in loc...  \n",
       "..                                                ...  \n",
       "94  Dual stresses of flooding and agricultural lan...  \n",
       "95  Trend of extreme rainfall events using suitabl...  \n",
       "96  Grounding line, ice frontal position and coast...  \n",
       "97  It's not (just) “the environment, stupid!” Val...  \n",
       "98  A visual method to identify significant latitu...  \n",
       "\n",
       "[99 rows x 4 columns]"
      ]
     },
     "execution_count": 49,
     "metadata": {},
     "output_type": "execute_result"
    }
   ],
   "source": [
    "#import the validation dataset, given by Mr. Fergadis\n",
    "validation_df = pd.read_csv(\"validation_dataset.csv\")\n",
    "validation_df"
   ]
  },
  {
   "cell_type": "code",
   "execution_count": 50,
   "metadata": {},
   "outputs": [],
   "source": [
    "titles = validation_df['extracted_title']\n",
    "titles = titles.tolist()"
   ]
  },
  {
   "cell_type": "code",
   "execution_count": 51,
   "metadata": {},
   "outputs": [
    {
     "data": {
      "text/html": [
       "<div>\n",
       "<style scoped>\n",
       "    .dataframe tbody tr th:only-of-type {\n",
       "        vertical-align: middle;\n",
       "    }\n",
       "\n",
       "    .dataframe tbody tr th {\n",
       "        vertical-align: top;\n",
       "    }\n",
       "\n",
       "    .dataframe thead th {\n",
       "        text-align: right;\n",
       "    }\n",
       "</style>\n",
       "<table border=\"1\" class=\"dataframe\">\n",
       "  <thead>\n",
       "    <tr style=\"text-align: right;\">\n",
       "      <th></th>\n",
       "      <th>sdg</th>\n",
       "      <th>extracted_title</th>\n",
       "      <th>extracted_abstract</th>\n",
       "      <th>initial_text</th>\n",
       "      <th>prediction_by_title</th>\n",
       "    </tr>\n",
       "  </thead>\n",
       "  <tbody>\n",
       "    <tr>\n",
       "      <th>0</th>\n",
       "      <td>SDG7</td>\n",
       "      <td>Solid oxide fuel cell hybrid system: A detaile...</td>\n",
       "      <td>This paper reports a review of an environmenta...</td>\n",
       "      <td>Solid oxide fuel cell hybrid system: A detaile...</td>\n",
       "      <td>SDG7</td>\n",
       "    </tr>\n",
       "    <tr>\n",
       "      <th>1</th>\n",
       "      <td>SDG10</td>\n",
       "      <td>How do oil prices, macroeconomic factors and p...</td>\n",
       "      <td>The aim of this study is to determine the natu...</td>\n",
       "      <td>How do oil prices, macroeconomic factors and p...</td>\n",
       "      <td>SDG3</td>\n",
       "    </tr>\n",
       "    <tr>\n",
       "      <th>2</th>\n",
       "      <td>SDG10</td>\n",
       "      <td>A comprehensive indicator set for measuring mu...</td>\n",
       "      <td>In this paper, we develop a quantitative indic...</td>\n",
       "      <td>A comprehensive indicator set for measuring mu...</td>\n",
       "      <td>SDG10</td>\n",
       "    </tr>\n",
       "    <tr>\n",
       "      <th>3</th>\n",
       "      <td>SDG10</td>\n",
       "      <td>Foreign direct investment and renewable energy...</td>\n",
       "      <td>Climate change mitigation is a topical issue w...</td>\n",
       "      <td>Foreign direct investment and renewable energy...</td>\n",
       "      <td>SDG13</td>\n",
       "    </tr>\n",
       "    <tr>\n",
       "      <th>4</th>\n",
       "      <td>SDG10</td>\n",
       "      <td>Energy storage and multi energy systems in loc...</td>\n",
       "      <td>This study investigates how a district with a ...</td>\n",
       "      <td>Energy storage and multi energy systems in loc...</td>\n",
       "      <td>SDG10</td>\n",
       "    </tr>\n",
       "    <tr>\n",
       "      <th>5</th>\n",
       "      <td>SDG10</td>\n",
       "      <td>A review on alternative fuels in future energy...</td>\n",
       "      <td>Transition and decarbonization of the energy s...</td>\n",
       "      <td>A review on alternative fuels in future energy...</td>\n",
       "      <td>SDG10</td>\n",
       "    </tr>\n",
       "    <tr>\n",
       "      <th>6</th>\n",
       "      <td>SDG12</td>\n",
       "      <td>Resistance in rejecting solid fuels: Beyond av...</td>\n",
       "      <td>Solid fuels are the primary cooking fuels in a...</td>\n",
       "      <td>Resistance in rejecting solid fuels: Beyond av...</td>\n",
       "      <td>SDG3</td>\n",
       "    </tr>\n",
       "    <tr>\n",
       "      <th>7</th>\n",
       "      <td>SDG12</td>\n",
       "      <td>Perpetuating energy poverty: Assessing roadmap...</td>\n",
       "      <td>A growing number of people in Africa still do ...</td>\n",
       "      <td>Perpetuating energy poverty: Assessing roadmap...</td>\n",
       "      <td>SDG10</td>\n",
       "    </tr>\n",
       "    <tr>\n",
       "      <th>8</th>\n",
       "      <td>SDG12</td>\n",
       "      <td>Holistic approach for sustainability enhancing...</td>\n",
       "      <td>A novel approach for sustainability enhancemen...</td>\n",
       "      <td>Holistic approach for sustainability enhancing...</td>\n",
       "      <td>SDG12</td>\n",
       "    </tr>\n",
       "    <tr>\n",
       "      <th>9</th>\n",
       "      <td>SDG12</td>\n",
       "      <td>Increasing self-consumption of renewable energ...</td>\n",
       "      <td>This paper focuses on a novel energy managemen...</td>\n",
       "      <td>Increasing self-consumption of renewable energ...</td>\n",
       "      <td>SDG10</td>\n",
       "    </tr>\n",
       "    <tr>\n",
       "      <th>10</th>\n",
       "      <td>SDG12</td>\n",
       "      <td>The capital load of global material footprints</td>\n",
       "      <td>Despite calls for large-scale reductions in ma...</td>\n",
       "      <td>The capital load of global material footprints...</td>\n",
       "      <td>SDG13</td>\n",
       "    </tr>\n",
       "    <tr>\n",
       "      <th>11</th>\n",
       "      <td>SDG12</td>\n",
       "      <td>Moving towards a sustainable environment: The ...</td>\n",
       "      <td>The relationship between natural resource abun...</td>\n",
       "      <td>Moving towards a sustainable environment: The ...</td>\n",
       "      <td>SDG3</td>\n",
       "    </tr>\n",
       "    <tr>\n",
       "      <th>12</th>\n",
       "      <td>SDG5</td>\n",
       "      <td>Gender differences in academic surgery, work-l...</td>\n",
       "      <td>Background: An increasing number of women are ...</td>\n",
       "      <td>Gender differences in academic surgery, work-l...</td>\n",
       "      <td>SDG5</td>\n",
       "    </tr>\n",
       "    <tr>\n",
       "      <th>13</th>\n",
       "      <td>SDG5</td>\n",
       "      <td>Gender (in)equality among employees in elder c...</td>\n",
       "      <td>Introduction: Gendered practices of working li...</td>\n",
       "      <td>Gender (in)equality among employees in elder c...</td>\n",
       "      <td>SDG5</td>\n",
       "    </tr>\n",
       "    <tr>\n",
       "      <th>14</th>\n",
       "      <td>SDG5</td>\n",
       "      <td>Gender Equality in the Family and Childbearing</td>\n",
       "      <td>Gender equality and equity in the division of ...</td>\n",
       "      <td>Gender Equality in the Family and Childbearing...</td>\n",
       "      <td>SDG5</td>\n",
       "    </tr>\n",
       "    <tr>\n",
       "      <th>15</th>\n",
       "      <td>SDG5</td>\n",
       "      <td>‘Doing gender and gender equality’ through emo...</td>\n",
       "      <td>The aim of this article is to contribute to th...</td>\n",
       "      <td>‘Doing gender and gender equality’ through emo...</td>\n",
       "      <td>SDG5</td>\n",
       "    </tr>\n",
       "    <tr>\n",
       "      <th>16</th>\n",
       "      <td>SDG5</td>\n",
       "      <td>Affective Institutional Work and Ordoliberal G...</td>\n",
       "      <td>The 2008 economic crisis and its aftermath hav...</td>\n",
       "      <td>Affective Institutional Work and Ordoliberal G...</td>\n",
       "      <td>SDG5</td>\n",
       "    </tr>\n",
       "    <tr>\n",
       "      <th>17</th>\n",
       "      <td>SDG5</td>\n",
       "      <td>Barriers to establishing shared decision-makin...</td>\n",
       "      <td>Rationale, aims, and objectives: The benefits ...</td>\n",
       "      <td>Barriers to establishing shared decision-makin...</td>\n",
       "      <td>SDG5</td>\n",
       "    </tr>\n",
       "    <tr>\n",
       "      <th>18</th>\n",
       "      <td>SDG5</td>\n",
       "      <td>Gender Differences in Leadership Positions Amo...</td>\n",
       "      <td>Objective: Despite equal representation of gen...</td>\n",
       "      <td>Gender Differences in Leadership Positions Amo...</td>\n",
       "      <td>SDG5</td>\n",
       "    </tr>\n",
       "    <tr>\n",
       "      <th>19</th>\n",
       "      <td>SDG5</td>\n",
       "      <td>Vulnerability of women in situation of violenc...</td>\n",
       "      <td>Objective: To analyze the vulnerabilities of w...</td>\n",
       "      <td>Vulnerability of women in situation of violenc...</td>\n",
       "      <td>SDG5</td>\n",
       "    </tr>\n",
       "  </tbody>\n",
       "</table>\n",
       "</div>"
      ],
      "text/plain": [
       "      sdg                                    extracted_title  \\\n",
       "0    SDG7  Solid oxide fuel cell hybrid system: A detaile...   \n",
       "1   SDG10  How do oil prices, macroeconomic factors and p...   \n",
       "2   SDG10  A comprehensive indicator set for measuring mu...   \n",
       "3   SDG10  Foreign direct investment and renewable energy...   \n",
       "4   SDG10  Energy storage and multi energy systems in loc...   \n",
       "5   SDG10  A review on alternative fuels in future energy...   \n",
       "6   SDG12  Resistance in rejecting solid fuels: Beyond av...   \n",
       "7   SDG12  Perpetuating energy poverty: Assessing roadmap...   \n",
       "8   SDG12  Holistic approach for sustainability enhancing...   \n",
       "9   SDG12  Increasing self-consumption of renewable energ...   \n",
       "10  SDG12     The capital load of global material footprints   \n",
       "11  SDG12  Moving towards a sustainable environment: The ...   \n",
       "12   SDG5  Gender differences in academic surgery, work-l...   \n",
       "13   SDG5  Gender (in)equality among employees in elder c...   \n",
       "14   SDG5     Gender Equality in the Family and Childbearing   \n",
       "15   SDG5  ‘Doing gender and gender equality’ through emo...   \n",
       "16   SDG5  Affective Institutional Work and Ordoliberal G...   \n",
       "17   SDG5  Barriers to establishing shared decision-makin...   \n",
       "18   SDG5  Gender Differences in Leadership Positions Amo...   \n",
       "19   SDG5  Vulnerability of women in situation of violenc...   \n",
       "\n",
       "                                   extracted_abstract  \\\n",
       "0   This paper reports a review of an environmenta...   \n",
       "1   The aim of this study is to determine the natu...   \n",
       "2   In this paper, we develop a quantitative indic...   \n",
       "3   Climate change mitigation is a topical issue w...   \n",
       "4   This study investigates how a district with a ...   \n",
       "5   Transition and decarbonization of the energy s...   \n",
       "6   Solid fuels are the primary cooking fuels in a...   \n",
       "7   A growing number of people in Africa still do ...   \n",
       "8   A novel approach for sustainability enhancemen...   \n",
       "9   This paper focuses on a novel energy managemen...   \n",
       "10  Despite calls for large-scale reductions in ma...   \n",
       "11  The relationship between natural resource abun...   \n",
       "12  Background: An increasing number of women are ...   \n",
       "13  Introduction: Gendered practices of working li...   \n",
       "14  Gender equality and equity in the division of ...   \n",
       "15  The aim of this article is to contribute to th...   \n",
       "16  The 2008 economic crisis and its aftermath hav...   \n",
       "17  Rationale, aims, and objectives: The benefits ...   \n",
       "18  Objective: Despite equal representation of gen...   \n",
       "19  Objective: To analyze the vulnerabilities of w...   \n",
       "\n",
       "                                         initial_text prediction_by_title  \n",
       "0   Solid oxide fuel cell hybrid system: A detaile...                SDG7  \n",
       "1   How do oil prices, macroeconomic factors and p...                SDG3  \n",
       "2   A comprehensive indicator set for measuring mu...               SDG10  \n",
       "3   Foreign direct investment and renewable energy...               SDG13  \n",
       "4   Energy storage and multi energy systems in loc...               SDG10  \n",
       "5   A review on alternative fuels in future energy...               SDG10  \n",
       "6   Resistance in rejecting solid fuels: Beyond av...                SDG3  \n",
       "7   Perpetuating energy poverty: Assessing roadmap...               SDG10  \n",
       "8   Holistic approach for sustainability enhancing...               SDG12  \n",
       "9   Increasing self-consumption of renewable energ...               SDG10  \n",
       "10  The capital load of global material footprints...               SDG13  \n",
       "11  Moving towards a sustainable environment: The ...                SDG3  \n",
       "12  Gender differences in academic surgery, work-l...                SDG5  \n",
       "13  Gender (in)equality among employees in elder c...                SDG5  \n",
       "14  Gender Equality in the Family and Childbearing...                SDG5  \n",
       "15  ‘Doing gender and gender equality’ through emo...                SDG5  \n",
       "16  Affective Institutional Work and Ordoliberal G...                SDG5  \n",
       "17  Barriers to establishing shared decision-makin...                SDG5  \n",
       "18  Gender Differences in Leadership Positions Amo...                SDG5  \n",
       "19  Vulnerability of women in situation of violenc...                SDG5  "
      ]
     },
     "execution_count": 51,
     "metadata": {},
     "output_type": "execute_result"
    }
   ],
   "source": [
    "predicted_titles =[]\n",
    "for i in titles:\n",
    "    i = [i]\n",
    "    seq = tokenizer.texts_to_sequences(i)\n",
    "    padded = pad_sequences(seq, maxlen=400)\n",
    "    pred = model.predict(padded)\n",
    "    labels = sdg_df.sdg.unique()\n",
    "    predicted_titles.append(labels[np.argmax(pred)])\n",
    "\n",
    "validation_df['prediction_by_title'] = predicted_titles\n",
    "\n",
    "validation_df[:20]"
   ]
  },
  {
   "cell_type": "code",
   "execution_count": 52,
   "metadata": {},
   "outputs": [
    {
     "data": {
      "text/html": [
       "<div>\n",
       "<style scoped>\n",
       "    .dataframe tbody tr th:only-of-type {\n",
       "        vertical-align: middle;\n",
       "    }\n",
       "\n",
       "    .dataframe tbody tr th {\n",
       "        vertical-align: top;\n",
       "    }\n",
       "\n",
       "    .dataframe thead th {\n",
       "        text-align: right;\n",
       "    }\n",
       "</style>\n",
       "<table border=\"1\" class=\"dataframe\">\n",
       "  <thead>\n",
       "    <tr style=\"text-align: right;\">\n",
       "      <th></th>\n",
       "      <th>sdg</th>\n",
       "      <th>extracted_title</th>\n",
       "      <th>extracted_abstract</th>\n",
       "      <th>initial_text</th>\n",
       "      <th>prediction_by_title</th>\n",
       "      <th>Titles_Matched</th>\n",
       "    </tr>\n",
       "  </thead>\n",
       "  <tbody>\n",
       "    <tr>\n",
       "      <th>0</th>\n",
       "      <td>SDG7</td>\n",
       "      <td>Solid oxide fuel cell hybrid system: A detaile...</td>\n",
       "      <td>This paper reports a review of an environmenta...</td>\n",
       "      <td>Solid oxide fuel cell hybrid system: A detaile...</td>\n",
       "      <td>SDG7</td>\n",
       "      <td>True</td>\n",
       "    </tr>\n",
       "    <tr>\n",
       "      <th>1</th>\n",
       "      <td>SDG10</td>\n",
       "      <td>How do oil prices, macroeconomic factors and p...</td>\n",
       "      <td>The aim of this study is to determine the natu...</td>\n",
       "      <td>How do oil prices, macroeconomic factors and p...</td>\n",
       "      <td>SDG3</td>\n",
       "      <td>False</td>\n",
       "    </tr>\n",
       "    <tr>\n",
       "      <th>2</th>\n",
       "      <td>SDG10</td>\n",
       "      <td>A comprehensive indicator set for measuring mu...</td>\n",
       "      <td>In this paper, we develop a quantitative indic...</td>\n",
       "      <td>A comprehensive indicator set for measuring mu...</td>\n",
       "      <td>SDG10</td>\n",
       "      <td>True</td>\n",
       "    </tr>\n",
       "    <tr>\n",
       "      <th>3</th>\n",
       "      <td>SDG10</td>\n",
       "      <td>Foreign direct investment and renewable energy...</td>\n",
       "      <td>Climate change mitigation is a topical issue w...</td>\n",
       "      <td>Foreign direct investment and renewable energy...</td>\n",
       "      <td>SDG13</td>\n",
       "      <td>False</td>\n",
       "    </tr>\n",
       "    <tr>\n",
       "      <th>4</th>\n",
       "      <td>SDG10</td>\n",
       "      <td>Energy storage and multi energy systems in loc...</td>\n",
       "      <td>This study investigates how a district with a ...</td>\n",
       "      <td>Energy storage and multi energy systems in loc...</td>\n",
       "      <td>SDG10</td>\n",
       "      <td>True</td>\n",
       "    </tr>\n",
       "    <tr>\n",
       "      <th>...</th>\n",
       "      <td>...</td>\n",
       "      <td>...</td>\n",
       "      <td>...</td>\n",
       "      <td>...</td>\n",
       "      <td>...</td>\n",
       "      <td>...</td>\n",
       "    </tr>\n",
       "    <tr>\n",
       "      <th>94</th>\n",
       "      <td>SDG13</td>\n",
       "      <td>Dual stresses of flooding and agricultural lan...</td>\n",
       "      <td>Global climate change is leading to a signific...</td>\n",
       "      <td>Dual stresses of flooding and agricultural lan...</td>\n",
       "      <td>SDG13</td>\n",
       "      <td>True</td>\n",
       "    </tr>\n",
       "    <tr>\n",
       "      <th>95</th>\n",
       "      <td>SDG13</td>\n",
       "      <td>Trend of extreme rainfall events using suitabl...</td>\n",
       "      <td>Kolkata Metropolitan Area (KMA) is one of the ...</td>\n",
       "      <td>Trend of extreme rainfall events using suitabl...</td>\n",
       "      <td>SDG13</td>\n",
       "      <td>True</td>\n",
       "    </tr>\n",
       "    <tr>\n",
       "      <th>96</th>\n",
       "      <td>SDG13</td>\n",
       "      <td>Grounding line, ice frontal position and coast...</td>\n",
       "      <td>Over the past 20 years satellite remote sensin...</td>\n",
       "      <td>Grounding line, ice frontal position and coast...</td>\n",
       "      <td>SDG13</td>\n",
       "      <td>True</td>\n",
       "    </tr>\n",
       "    <tr>\n",
       "      <th>97</th>\n",
       "      <td>SDG13</td>\n",
       "      <td>It's not (just) “the environment, stupid!” Val...</td>\n",
       "      <td>This exploratory mixed-methods study uses in-d...</td>\n",
       "      <td>It's not (just) “the environment, stupid!” Val...</td>\n",
       "      <td>SDG13</td>\n",
       "      <td>True</td>\n",
       "    </tr>\n",
       "    <tr>\n",
       "      <th>98</th>\n",
       "      <td>SDG13</td>\n",
       "      <td>A visual method to identify significant latitu...</td>\n",
       "      <td>Many studies have shown recent climate-induced...</td>\n",
       "      <td>A visual method to identify significant latitu...</td>\n",
       "      <td>SDG13</td>\n",
       "      <td>True</td>\n",
       "    </tr>\n",
       "  </tbody>\n",
       "</table>\n",
       "<p>99 rows × 6 columns</p>\n",
       "</div>"
      ],
      "text/plain": [
       "      sdg                                    extracted_title  \\\n",
       "0    SDG7  Solid oxide fuel cell hybrid system: A detaile...   \n",
       "1   SDG10  How do oil prices, macroeconomic factors and p...   \n",
       "2   SDG10  A comprehensive indicator set for measuring mu...   \n",
       "3   SDG10  Foreign direct investment and renewable energy...   \n",
       "4   SDG10  Energy storage and multi energy systems in loc...   \n",
       "..    ...                                                ...   \n",
       "94  SDG13  Dual stresses of flooding and agricultural lan...   \n",
       "95  SDG13  Trend of extreme rainfall events using suitabl...   \n",
       "96  SDG13  Grounding line, ice frontal position and coast...   \n",
       "97  SDG13  It's not (just) “the environment, stupid!” Val...   \n",
       "98  SDG13  A visual method to identify significant latitu...   \n",
       "\n",
       "                                   extracted_abstract  \\\n",
       "0   This paper reports a review of an environmenta...   \n",
       "1   The aim of this study is to determine the natu...   \n",
       "2   In this paper, we develop a quantitative indic...   \n",
       "3   Climate change mitigation is a topical issue w...   \n",
       "4   This study investigates how a district with a ...   \n",
       "..                                                ...   \n",
       "94  Global climate change is leading to a signific...   \n",
       "95  Kolkata Metropolitan Area (KMA) is one of the ...   \n",
       "96  Over the past 20 years satellite remote sensin...   \n",
       "97  This exploratory mixed-methods study uses in-d...   \n",
       "98  Many studies have shown recent climate-induced...   \n",
       "\n",
       "                                         initial_text prediction_by_title  \\\n",
       "0   Solid oxide fuel cell hybrid system: A detaile...                SDG7   \n",
       "1   How do oil prices, macroeconomic factors and p...                SDG3   \n",
       "2   A comprehensive indicator set for measuring mu...               SDG10   \n",
       "3   Foreign direct investment and renewable energy...               SDG13   \n",
       "4   Energy storage and multi energy systems in loc...               SDG10   \n",
       "..                                                ...                 ...   \n",
       "94  Dual stresses of flooding and agricultural lan...               SDG13   \n",
       "95  Trend of extreme rainfall events using suitabl...               SDG13   \n",
       "96  Grounding line, ice frontal position and coast...               SDG13   \n",
       "97  It's not (just) “the environment, stupid!” Val...               SDG13   \n",
       "98  A visual method to identify significant latitu...               SDG13   \n",
       "\n",
       "    Titles_Matched  \n",
       "0             True  \n",
       "1            False  \n",
       "2             True  \n",
       "3            False  \n",
       "4             True  \n",
       "..             ...  \n",
       "94            True  \n",
       "95            True  \n",
       "96            True  \n",
       "97            True  \n",
       "98            True  \n",
       "\n",
       "[99 rows x 6 columns]"
      ]
     },
     "execution_count": 52,
     "metadata": {},
     "output_type": "execute_result"
    }
   ],
   "source": [
    "validation_df[\"Titles_Matched\"] = validation_df.apply(lambda x: x.prediction_by_title == x.sdg, axis = 1)\n",
    "validation_df"
   ]
  },
  {
   "cell_type": "code",
   "execution_count": 53,
   "metadata": {},
   "outputs": [],
   "source": [
    "validation_df.to_csv('validation_dataset_1.csv', encoding='utf-8', index=False)"
   ]
  },
  {
   "cell_type": "code",
   "execution_count": 47,
   "metadata": {},
   "outputs": [
    {
     "name": "stdout",
     "output_type": "stream",
     "text": [
      "SDG:  SDG7\n"
     ]
    }
   ],
   "source": [
    "new_abstract = ['With an increase in the interest in the energy conservation for buildings, and the emergence of many methods and easily-understandable approaches to it, energy conservation has now become the public’s main interest, as compared to in the past when it was only focused upon by experts. This study aims to help the occupants of a building to understand the energy efficiency and consumption of the building by providing them information on the building’s energy efficiency through a mobile application. The energy performance assessment models are proposed on the basis of the actual energy usage and building characteristics such as the architectural scheme and the building equipment. The university buildings in Korea are used as a case to demonstrate the mobile application.']\n",
    "seq = tokenizer.texts_to_sequences(new_abstract)\n",
    "padded = pad_sequences(seq, maxlen=400)\n",
    "pred = model.predict(padded)\n",
    "labels = sdg_df.sdg.unique()\n",
    "#labels = sorted(set(sdg_df['sdg']), key=sdg_df['sdg'].index)\n",
    "print('SDG: ', labels[np.argmax(pred)])"
   ]
  },
  {
   "cell_type": "code",
   "execution_count": null,
   "metadata": {},
   "outputs": [],
   "source": [
    "import os\n",
    "import tempfile\n",
    "import tensorflow as tf\n",
    "\n",
    "tmpdir = tempfile.mkdtemp()\n",
    "\n",
    "title_save_path = os.path.join(tmpdir, \"CNN_title_model_weights\")\n",
    "tf.saved_model.save(model, title_save_path)"
   ]
  },
  {
   "cell_type": "code",
   "execution_count": null,
   "metadata": {},
   "outputs": [],
   "source": []
  }
 ],
 "metadata": {
  "kernelspec": {
   "display_name": "Python 3",
   "language": "python",
   "name": "python3"
  },
  "language_info": {
   "codemirror_mode": {
    "name": "ipython",
    "version": 3
   },
   "file_extension": ".py",
   "mimetype": "text/x-python",
   "name": "python",
   "nbconvert_exporter": "python",
   "pygments_lexer": "ipython3",
   "version": "3.8.3"
  }
 },
 "nbformat": 4,
 "nbformat_minor": 2
}
