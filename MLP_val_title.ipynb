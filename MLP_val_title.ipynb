{
 "cells": [
  {
   "cell_type": "code",
   "execution_count": 1,
   "metadata": {},
   "outputs": [],
   "source": [
    "import os\n",
    "import re\n",
    "import nltk\n",
    "from pprint import pprint\n",
    "from pathlib import Path\n",
    "import numpy as np\n",
    "\n",
    "import pandas as pd\n",
    "from pprint import pprint\n",
    "\n",
    "#by this option we disable the possibility of a bad dataframe representation\n",
    "pd.set_option('display.expand_frame_repr', False)"
   ]
  },
  {
   "cell_type": "code",
   "execution_count": 2,
   "metadata": {},
   "outputs": [
    {
     "name": "stdout",
     "output_type": "stream",
     "text": [
      "SDG3     264\n",
      "SDG5     247\n",
      "SDG13    243\n",
      "SDG10     50\n",
      "SDG12     44\n",
      "SDG7      41\n",
      "Name: sdg, dtype: int64\n",
      "True     785\n",
      "False    104\n",
      "Name: extracted, dtype: int64\n",
      "       sdg                                    extracted_title                                 extracted_abstract                                       initial_text  extracted\n",
      "0    SDG10  Are Trade Liberalization policies aligned with...  This paper attempts to empirically analyze the...  Are Trade Liberalization policies aligned with...       True\n",
      "1    SDG10  How do oil prices, macroeconomic factors and p...  The aim of this study is to determine the natu...  How do oil prices, macroeconomic factors and p...       True\n",
      "2    SDG10  Energy consumption and GDP revisited: A new pa...  This study combines panel data techniques with...  Energy consumption and GDP revisited: A new pa...       True\n",
      "3    SDG10  A multiple perspective modeling and simulation...  Environmental issues and dependence on fossil ...  A multiple perspective modeling and simulation...       True\n",
      "4    SDG10  Integrating blockchain technology into the ene...  Blockchain technology has been ushering in not...  Integrating blockchain technology into the ene...       True\n",
      "..     ...                                                ...                                                ...                                                ...        ...\n",
      "884   SDG7  Africa and the 2030 Sustainable Energy Goal: A...  Sustainable Development Goal 7 (SDG 7) focuses...  Africa and the 2030 Sustainable Energy Goal: A...      False\n",
      "885   SDG7  Scaling-Up Sustainable Renewable Energy Genera...  The three processes of urbanization, industria...  Scaling-Up Sustainable Renewable Energy Genera...      False\n",
      "886   SDG7  A Brief Review of Application of Laser Biotech...  Abstract: || Bio-energy production from biomas...  A Brief Review of Application of Laser Biotech...       True\n",
      "887   SDG7  Electric Vehicles and their Impacts on Integra...  The exponential rise in electricity demand has...  Electric Vehicles and their Impacts on Integra...      False\n",
      "888   SDG7  Leading global energy and environmental transf...  In recent years, the ten member countries in t...  Leading global energy and environmental transf...      False\n",
      "\n",
      "[889 rows x 5 columns]\n"
     ]
    }
   ],
   "source": [
    "class SGDParser:\n",
    "    \n",
    "    #constructor class\n",
    "    def __init__(self):\n",
    "        pass\n",
    "    \n",
    "    #parse all the txt files - static function\n",
    "    @staticmethod\n",
    "    def get_sdg_files():\n",
    "        return list(Path('sdg').glob('**/*.txt'))\n",
    "    \n",
    "    \n",
    "    #reads the file and insert its lines into a list\n",
    "    @staticmethod\n",
    "    def get_lines(fname: Path):\n",
    "        \"\"\"\n",
    "\n",
    "        :param fname:\n",
    "        :return:\n",
    "        \"\"\"\n",
    "        with open(fname, 'r', encoding='utf-8-sig') as infile:\n",
    "            lines = list(map(str.strip, infile.readlines()))\n",
    "\n",
    "        return lines\n",
    "    \n",
    "    #extracts the sdg by splitting the path in string, insert the strings in the list and get the second last string \n",
    "    #which is the information about the sdg\n",
    "    @staticmethod\n",
    "    def extract_sdg(fpath):\n",
    "        \"\"\"\n",
    "\n",
    "        :param fpath:\n",
    "        :return:\n",
    "        \"\"\"\n",
    "        return str(fpath).split(os.sep)[-2]\n",
    "    \n",
    "    #function that returns keywords related with the abstract\n",
    "    @property\n",
    "    def keywords(self):\n",
    "        \"\"\"\n",
    "\n",
    "        :return:\n",
    "        \"\"\"\n",
    "        return sorted(\n",
    "            set(map(str.lower, ['abstarct', 'abstract', 'abstratc', 'aim',\n",
    "                                'background', 'introduction', 'objective',\n",
    "                                'purpose']\n",
    "                    )\n",
    "                )\n",
    "        )\n",
    "    \n",
    "    #function used to lowercase the words in the txt lines\n",
    "    @staticmethod\n",
    "    def lines_2_lowercase(lines):\n",
    "        \"\"\"\n",
    "\n",
    "        :param lines:\n",
    "        :return:\n",
    "        \"\"\"\n",
    "        return list(map(str.lower, lines))\n",
    "    \n",
    "    #function to remove the 'Title:' in the txt files\n",
    "    @staticmethod\n",
    "    def remove_title_prefix(title):\n",
    "        \"\"\"\n",
    "\n",
    "        :param title:\n",
    "        :return:\n",
    "        \"\"\"\n",
    "        if title and title.startswith('Title:'):\n",
    "            return re.sub('Title:', '', title).strip()\n",
    "\n",
    "        return title\n",
    "    \n",
    "    #function to join the title in case of more than 1 lines and to join the abstract lines into one by searching keywords\n",
    "    def search_with_keyword(self, term, lowered_lines, lines, index):\n",
    "        \"\"\"\n",
    "\n",
    "        :param term:\n",
    "        :param lowered_lines:\n",
    "        :param lines:\n",
    "        :param index:\n",
    "        :return:\n",
    "        \"\"\"\n",
    "        doc = dict()\n",
    "        matched = False\n",
    "\n",
    "        if lowered_lines[index].startswith(term):\n",
    "            doc['extracted_title'] = self.join_lines(lines[:index])\n",
    "            doc['extracted_abstract'] = self.join_lines(lines[index:])\n",
    "            doc['extracted'] = True\n",
    "            matched = True\n",
    "\n",
    "        return doc, matched\n",
    "    \n",
    "    #function to separate each line with ||\n",
    "    @staticmethod\n",
    "    def join_lines(lines):\n",
    "        return ' || '.join(lines)\n",
    "\n",
    "    #function to join the title in case of more than 1 lines and to join the abstract lines into one by searching in lines\n",
    "    def search_in_lines(self, lowered_lines, lines, index):\n",
    "        \"\"\"\n",
    "\n",
    "        :param lowered_lines:\n",
    "        :param lines:\n",
    "        :param index:\n",
    "        :return:\n",
    "        \"\"\"\n",
    "        doc = dict()\n",
    "        matched = False\n",
    "\n",
    "        for word in self.keywords:\n",
    "            if lowered_lines[index].startswith(word):\n",
    "                doc['extracted_title'] = self.join_lines(lines[:index])\n",
    "                doc['extracted_abstract'] = self.join_lines(lines[index:])\n",
    "                doc['extracted'] = True\n",
    "                matched = True\n",
    "                break\n",
    "\n",
    "        return doc, matched\n",
    "\n",
    "    #main function of the class - create the dataset by using the above functions\n",
    "    def create_sdg_dataset(self):\n",
    "        \"\"\"\n",
    "\n",
    "        :return:\n",
    "        \"\"\"\n",
    "        files = self.get_sdg_files()\n",
    "\n",
    "        data = list()\n",
    "\n",
    "        for file in files:\n",
    "\n",
    "            lines = self.get_lines(file)\n",
    "\n",
    "            matched = False\n",
    "\n",
    "            lowered_lines = self.lines_2_lowercase(lines)\n",
    "\n",
    "            doc = {'sdg': self.extract_sdg(file),\n",
    "                   'extracted_title': None,\n",
    "                   'extracted_abstract': None,\n",
    "                   'initial_text': ' || '.join(lines)}\n",
    "\n",
    "            if 'abstract' in lowered_lines:\n",
    "                abs_index = lowered_lines.index('abstract')\n",
    "                title_lines = lines[:abs_index]\n",
    "                abstract_lines = lines[abs_index + 1:]\n",
    "\n",
    "                doc['extracted_title'] = self.join_lines(title_lines)\n",
    "                doc['extracted_abstract'] = self.join_lines(abstract_lines)\n",
    "                doc['extracted'] = True\n",
    "                matched = True\n",
    "\n",
    "            if not matched:\n",
    "                temp_doc, matched = self.search_in_lines(\n",
    "                    lowered_lines, lines, 1)\n",
    "                doc.update(temp_doc)\n",
    "\n",
    "            if not matched:\n",
    "                temp_doc, matched = self.search_in_lines(\n",
    "                    lowered_lines, lines, 2)\n",
    "                doc.update(temp_doc)\n",
    "\n",
    "            if not matched:\n",
    "                temp_doc, matched = self.search_in_lines(\n",
    "                    lowered_lines, lines, 3)\n",
    "                doc.update(temp_doc)\n",
    "\n",
    "            key_phrases = ['this study', 'in this study', 'the study',\n",
    "                           'this paper', 'in this paper', 'this research',\n",
    "                           'the objective', 'the aim', 'this report',\n",
    "                           'the report', 'the purpose of', 'the paper']\n",
    "\n",
    "            for key_phrase in key_phrases:\n",
    "                if not matched:\n",
    "                    temp_doc, matched = self.search_with_keyword(\n",
    "                        key_phrase, lowered_lines, lines, 1)\n",
    "                    doc.update(temp_doc)\n",
    "\n",
    "            for key_phrase in key_phrases:\n",
    "                if not matched:\n",
    "                    temp_doc, matched = self.search_with_keyword(\n",
    "                        key_phrase, lowered_lines, lines, 2)\n",
    "                    doc.update(temp_doc)\n",
    "\n",
    "            if not matched:\n",
    "                if lowered_lines[0].startswith('title:'):\n",
    "                    doc['extracted_title'] = lines[0]\n",
    "                    doc['extracted_abstract'] = self.join_lines(lines[1:])\n",
    "                    doc['extracted'] = True\n",
    "\n",
    "                else:\n",
    "                    doc['extracted_title'] = lines[0]\n",
    "                    doc['extracted_abstract'] = self.join_lines(lines[1:])\n",
    "                    doc['extracted'] = False\n",
    "\n",
    "            doc['extracted_title'] = self.remove_title_prefix(\n",
    "                doc['extracted_title'])\n",
    "\n",
    "            data.append(doc)\n",
    "\n",
    "        return data\n",
    "\n",
    "\n",
    "if __name__ == \"__main__\":\n",
    "    parser = SGDParser()\n",
    "    sdg_df = pd.DataFrame(parser.create_sdg_dataset())\n",
    "    print(sdg_df['sdg'].value_counts())\n",
    "    print(sdg_df['extracted'].value_counts())\n",
    "    print(sdg_df)\n",
    "    # sdg_df.to_csv('sgd_papers.csv', encoding='utf-8', index=False)\n"
   ]
  },
  {
   "cell_type": "code",
   "execution_count": 3,
   "metadata": {},
   "outputs": [
    {
     "data": {
      "text/html": [
       "<div>\n",
       "<style scoped>\n",
       "    .dataframe tbody tr th:only-of-type {\n",
       "        vertical-align: middle;\n",
       "    }\n",
       "\n",
       "    .dataframe tbody tr th {\n",
       "        vertical-align: top;\n",
       "    }\n",
       "\n",
       "    .dataframe thead th {\n",
       "        text-align: right;\n",
       "    }\n",
       "</style>\n",
       "<table border=\"1\" class=\"dataframe\">\n",
       "  <thead>\n",
       "    <tr style=\"text-align: right;\">\n",
       "      <th></th>\n",
       "      <th>sdg</th>\n",
       "      <th>extracted_title</th>\n",
       "      <th>extracted_abstract</th>\n",
       "      <th>initial_text</th>\n",
       "    </tr>\n",
       "  </thead>\n",
       "  <tbody>\n",
       "    <tr>\n",
       "      <th>0</th>\n",
       "      <td>SDG7</td>\n",
       "      <td>solid oxide fuel cell hybrid system detailed r...</td>\n",
       "      <td>paper reports review environmentally clean eff...</td>\n",
       "      <td>solid oxide fuel cell hybrid system detailed r...</td>\n",
       "    </tr>\n",
       "    <tr>\n",
       "      <th>1</th>\n",
       "      <td>SDG10</td>\n",
       "      <td>oil prices macroeconomic factors policies affe...</td>\n",
       "      <td>aim determine nature relationship renewable en...</td>\n",
       "      <td>oil prices macroeconomic factors policies affe...</td>\n",
       "    </tr>\n",
       "    <tr>\n",
       "      <th>2</th>\n",
       "      <td>SDG10</td>\n",
       "      <td>comprehensive indicator set measuring multiple...</td>\n",
       "      <td>paper develop quantitative indicator approach ...</td>\n",
       "      <td>comprehensive indicator set measuring multiple...</td>\n",
       "    </tr>\n",
       "    <tr>\n",
       "      <th>3</th>\n",
       "      <td>SDG10</td>\n",
       "      <td>foreign direct investment renewable energy cli...</td>\n",
       "      <td>climate change mitigation topical issue growin...</td>\n",
       "      <td>foreign direct investment renewable energy cli...</td>\n",
       "    </tr>\n",
       "    <tr>\n",
       "      <th>4</th>\n",
       "      <td>SDG10</td>\n",
       "      <td>energy storage multi energy systems local ener...</td>\n",
       "      <td>investigates district high capacity noncontrol...</td>\n",
       "      <td>energy storage multi energy systems local ener...</td>\n",
       "    </tr>\n",
       "    <tr>\n",
       "      <th>...</th>\n",
       "      <td>...</td>\n",
       "      <td>...</td>\n",
       "      <td>...</td>\n",
       "      <td>...</td>\n",
       "    </tr>\n",
       "    <tr>\n",
       "      <th>94</th>\n",
       "      <td>SDG13</td>\n",
       "      <td>dual stresses flooding agricultural land reduc...</td>\n",
       "      <td>global climate change leading significant incr...</td>\n",
       "      <td>dual stresses flooding agricultural land reduc...</td>\n",
       "    </tr>\n",
       "    <tr>\n",
       "      <th>95</th>\n",
       "      <td>SDG13</td>\n",
       "      <td>trend extreme rainfall events suitable global ...</td>\n",
       "      <td>kolkata metropolitan area kma one densely popu...</td>\n",
       "      <td>trend extreme rainfall events suitable global ...</td>\n",
       "    </tr>\n",
       "    <tr>\n",
       "      <th>96</th>\n",
       "      <td>SDG13</td>\n",
       "      <td>grounding line ice frontal position coastal ic...</td>\n",
       "      <td>past years satellite remote sensing captured s...</td>\n",
       "      <td>grounding line ice frontal position coastal ic...</td>\n",
       "    </tr>\n",
       "    <tr>\n",
       "      <th>97</th>\n",
       "      <td>SDG13</td>\n",
       "      <td>environment stupid values motivations routes e...</td>\n",
       "      <td>exploratory mixedmethods indepth interviews in...</td>\n",
       "      <td>environment stupid values motivations routes e...</td>\n",
       "    </tr>\n",
       "    <tr>\n",
       "      <th>98</th>\n",
       "      <td>SDG13</td>\n",
       "      <td>visual method identify significant latitudinal...</td>\n",
       "      <td>many studies shown recent climateinduced chang...</td>\n",
       "      <td>visual method identify significant latitudinal...</td>\n",
       "    </tr>\n",
       "  </tbody>\n",
       "</table>\n",
       "<p>99 rows × 4 columns</p>\n",
       "</div>"
      ],
      "text/plain": [
       "      sdg                                    extracted_title                                 extracted_abstract                                       initial_text\n",
       "0    SDG7  solid oxide fuel cell hybrid system detailed r...  paper reports review environmentally clean eff...  solid oxide fuel cell hybrid system detailed r...\n",
       "1   SDG10  oil prices macroeconomic factors policies affe...  aim determine nature relationship renewable en...  oil prices macroeconomic factors policies affe...\n",
       "2   SDG10  comprehensive indicator set measuring multiple...  paper develop quantitative indicator approach ...  comprehensive indicator set measuring multiple...\n",
       "3   SDG10  foreign direct investment renewable energy cli...  climate change mitigation topical issue growin...  foreign direct investment renewable energy cli...\n",
       "4   SDG10  energy storage multi energy systems local ener...  investigates district high capacity noncontrol...  energy storage multi energy systems local ener...\n",
       "..    ...                                                ...                                                ...                                                ...\n",
       "94  SDG13  dual stresses flooding agricultural land reduc...  global climate change leading significant incr...  dual stresses flooding agricultural land reduc...\n",
       "95  SDG13  trend extreme rainfall events suitable global ...  kolkata metropolitan area kma one densely popu...  trend extreme rainfall events suitable global ...\n",
       "96  SDG13  grounding line ice frontal position coastal ic...  past years satellite remote sensing captured s...  grounding line ice frontal position coastal ic...\n",
       "97  SDG13  environment stupid values motivations routes e...  exploratory mixedmethods indepth interviews in...  environment stupid values motivations routes e...\n",
       "98  SDG13  visual method identify significant latitudinal...  many studies shown recent climateinduced chang...  visual method identify significant latitudinal...\n",
       "\n",
       "[99 rows x 4 columns]"
      ]
     },
     "execution_count": 3,
     "metadata": {},
     "output_type": "execute_result"
    }
   ],
   "source": [
    "#sdg_df.to_csv('sgd_papers.csv', encoding='utf-8', index=False)\n",
    "validation_df = pd.read_csv('validation_dataset_v2.csv')\n",
    "validation_df"
   ]
  },
  {
   "cell_type": "code",
   "execution_count": 4,
   "metadata": {},
   "outputs": [
    {
     "data": {
      "text/html": [
       "<div>\n",
       "<style scoped>\n",
       "    .dataframe tbody tr th:only-of-type {\n",
       "        vertical-align: middle;\n",
       "    }\n",
       "\n",
       "    .dataframe tbody tr th {\n",
       "        vertical-align: top;\n",
       "    }\n",
       "\n",
       "    .dataframe thead th {\n",
       "        text-align: right;\n",
       "    }\n",
       "</style>\n",
       "<table border=\"1\" class=\"dataframe\">\n",
       "  <thead>\n",
       "    <tr style=\"text-align: right;\">\n",
       "      <th></th>\n",
       "      <th>sdg</th>\n",
       "      <th>extracted_title</th>\n",
       "      <th>extracted_abstract</th>\n",
       "      <th>initial_text</th>\n",
       "      <th>extracted</th>\n",
       "    </tr>\n",
       "  </thead>\n",
       "  <tbody>\n",
       "    <tr>\n",
       "      <th>0</th>\n",
       "      <td>SDG10</td>\n",
       "      <td>Are Trade Liberalization policies aligned with...</td>\n",
       "      <td>This paper attempts to empirically analyze the...</td>\n",
       "      <td>Are Trade Liberalization policies aligned with...</td>\n",
       "      <td>True</td>\n",
       "    </tr>\n",
       "    <tr>\n",
       "      <th>1</th>\n",
       "      <td>SDG10</td>\n",
       "      <td>How do oil prices, macroeconomic factors and p...</td>\n",
       "      <td>The aim of this study is to determine the natu...</td>\n",
       "      <td>How do oil prices, macroeconomic factors and p...</td>\n",
       "      <td>True</td>\n",
       "    </tr>\n",
       "    <tr>\n",
       "      <th>2</th>\n",
       "      <td>SDG10</td>\n",
       "      <td>Energy consumption and GDP revisited: A new pa...</td>\n",
       "      <td>This study combines panel data techniques with...</td>\n",
       "      <td>Energy consumption and GDP revisited: A new pa...</td>\n",
       "      <td>True</td>\n",
       "    </tr>\n",
       "    <tr>\n",
       "      <th>3</th>\n",
       "      <td>SDG10</td>\n",
       "      <td>A multiple perspective modeling and simulation...</td>\n",
       "      <td>Environmental issues and dependence on fossil ...</td>\n",
       "      <td>A multiple perspective modeling and simulation...</td>\n",
       "      <td>True</td>\n",
       "    </tr>\n",
       "    <tr>\n",
       "      <th>4</th>\n",
       "      <td>SDG10</td>\n",
       "      <td>Integrating blockchain technology into the ene...</td>\n",
       "      <td>Blockchain technology has been ushering in not...</td>\n",
       "      <td>Integrating blockchain technology into the ene...</td>\n",
       "      <td>True</td>\n",
       "    </tr>\n",
       "    <tr>\n",
       "      <th>...</th>\n",
       "      <td>...</td>\n",
       "      <td>...</td>\n",
       "      <td>...</td>\n",
       "      <td>...</td>\n",
       "      <td>...</td>\n",
       "    </tr>\n",
       "    <tr>\n",
       "      <th>884</th>\n",
       "      <td>SDG7</td>\n",
       "      <td>Africa and the 2030 Sustainable Energy Goal: A...</td>\n",
       "      <td>Sustainable Development Goal 7 (SDG 7) focuses...</td>\n",
       "      <td>Africa and the 2030 Sustainable Energy Goal: A...</td>\n",
       "      <td>False</td>\n",
       "    </tr>\n",
       "    <tr>\n",
       "      <th>885</th>\n",
       "      <td>SDG7</td>\n",
       "      <td>Scaling-Up Sustainable Renewable Energy Genera...</td>\n",
       "      <td>The three processes of urbanization, industria...</td>\n",
       "      <td>Scaling-Up Sustainable Renewable Energy Genera...</td>\n",
       "      <td>False</td>\n",
       "    </tr>\n",
       "    <tr>\n",
       "      <th>886</th>\n",
       "      <td>SDG7</td>\n",
       "      <td>A Brief Review of Application of Laser Biotech...</td>\n",
       "      <td>Abstract: || Bio-energy production from biomas...</td>\n",
       "      <td>A Brief Review of Application of Laser Biotech...</td>\n",
       "      <td>True</td>\n",
       "    </tr>\n",
       "    <tr>\n",
       "      <th>887</th>\n",
       "      <td>SDG7</td>\n",
       "      <td>Electric Vehicles and their Impacts on Integra...</td>\n",
       "      <td>The exponential rise in electricity demand has...</td>\n",
       "      <td>Electric Vehicles and their Impacts on Integra...</td>\n",
       "      <td>False</td>\n",
       "    </tr>\n",
       "    <tr>\n",
       "      <th>888</th>\n",
       "      <td>SDG7</td>\n",
       "      <td>Leading global energy and environmental transf...</td>\n",
       "      <td>In recent years, the ten member countries in t...</td>\n",
       "      <td>Leading global energy and environmental transf...</td>\n",
       "      <td>False</td>\n",
       "    </tr>\n",
       "  </tbody>\n",
       "</table>\n",
       "<p>889 rows × 5 columns</p>\n",
       "</div>"
      ],
      "text/plain": [
       "       sdg                                    extracted_title                                 extracted_abstract                                       initial_text  extracted\n",
       "0    SDG10  Are Trade Liberalization policies aligned with...  This paper attempts to empirically analyze the...  Are Trade Liberalization policies aligned with...       True\n",
       "1    SDG10  How do oil prices, macroeconomic factors and p...  The aim of this study is to determine the natu...  How do oil prices, macroeconomic factors and p...       True\n",
       "2    SDG10  Energy consumption and GDP revisited: A new pa...  This study combines panel data techniques with...  Energy consumption and GDP revisited: A new pa...       True\n",
       "3    SDG10  A multiple perspective modeling and simulation...  Environmental issues and dependence on fossil ...  A multiple perspective modeling and simulation...       True\n",
       "4    SDG10  Integrating blockchain technology into the ene...  Blockchain technology has been ushering in not...  Integrating blockchain technology into the ene...       True\n",
       "..     ...                                                ...                                                ...                                                ...        ...\n",
       "884   SDG7  Africa and the 2030 Sustainable Energy Goal: A...  Sustainable Development Goal 7 (SDG 7) focuses...  Africa and the 2030 Sustainable Energy Goal: A...      False\n",
       "885   SDG7  Scaling-Up Sustainable Renewable Energy Genera...  The three processes of urbanization, industria...  Scaling-Up Sustainable Renewable Energy Genera...      False\n",
       "886   SDG7  A Brief Review of Application of Laser Biotech...  Abstract: || Bio-energy production from biomas...  A Brief Review of Application of Laser Biotech...       True\n",
       "887   SDG7  Electric Vehicles and their Impacts on Integra...  The exponential rise in electricity demand has...  Electric Vehicles and their Impacts on Integra...      False\n",
       "888   SDG7  Leading global energy and environmental transf...  In recent years, the ten member countries in t...  Leading global energy and environmental transf...      False\n",
       "\n",
       "[889 rows x 5 columns]"
      ]
     },
     "execution_count": 4,
     "metadata": {},
     "output_type": "execute_result"
    }
   ],
   "source": [
    "sdg_df"
   ]
  },
  {
   "cell_type": "code",
   "execution_count": 5,
   "metadata": {},
   "outputs": [
    {
     "name": "stderr",
     "output_type": "stream",
     "text": [
      "[nltk_data] Downloading package stopwords to\n",
      "[nltk_data]     C:\\Users\\arisp\\AppData\\Roaming\\nltk_data...\n",
      "[nltk_data]   Package stopwords is already up-to-date!\n"
     ]
    },
    {
     "data": {
      "text/plain": [
       "['i',\n",
       " 'me',\n",
       " 'my',\n",
       " 'myself',\n",
       " 'we',\n",
       " 'our',\n",
       " 'ours',\n",
       " 'ourselves',\n",
       " 'you',\n",
       " \"you're\",\n",
       " \"you've\",\n",
       " \"you'll\",\n",
       " \"you'd\",\n",
       " 'your',\n",
       " 'yours',\n",
       " 'yourself',\n",
       " 'yourselves',\n",
       " 'he',\n",
       " 'him',\n",
       " 'his',\n",
       " 'himself',\n",
       " 'she',\n",
       " \"she's\",\n",
       " 'her',\n",
       " 'hers',\n",
       " 'herself',\n",
       " 'it',\n",
       " \"it's\",\n",
       " 'its',\n",
       " 'itself',\n",
       " 'they',\n",
       " 'them',\n",
       " 'their',\n",
       " 'theirs',\n",
       " 'themselves',\n",
       " 'what',\n",
       " 'which',\n",
       " 'who',\n",
       " 'whom',\n",
       " 'this',\n",
       " 'that',\n",
       " \"that'll\",\n",
       " 'these',\n",
       " 'those',\n",
       " 'am',\n",
       " 'is',\n",
       " 'are',\n",
       " 'was',\n",
       " 'were',\n",
       " 'be',\n",
       " 'been',\n",
       " 'being',\n",
       " 'have',\n",
       " 'has',\n",
       " 'had',\n",
       " 'having',\n",
       " 'do',\n",
       " 'does',\n",
       " 'did',\n",
       " 'doing',\n",
       " 'a',\n",
       " 'an',\n",
       " 'the',\n",
       " 'and',\n",
       " 'but',\n",
       " 'if',\n",
       " 'or',\n",
       " 'because',\n",
       " 'as',\n",
       " 'until',\n",
       " 'while',\n",
       " 'of',\n",
       " 'at',\n",
       " 'by',\n",
       " 'for',\n",
       " 'with',\n",
       " 'about',\n",
       " 'against',\n",
       " 'between',\n",
       " 'into',\n",
       " 'through',\n",
       " 'during',\n",
       " 'before',\n",
       " 'after',\n",
       " 'above',\n",
       " 'below',\n",
       " 'to',\n",
       " 'from',\n",
       " 'up',\n",
       " 'down',\n",
       " 'in',\n",
       " 'out',\n",
       " 'on',\n",
       " 'off',\n",
       " 'over',\n",
       " 'under',\n",
       " 'again',\n",
       " 'further',\n",
       " 'then',\n",
       " 'once',\n",
       " 'here',\n",
       " 'there',\n",
       " 'when',\n",
       " 'where',\n",
       " 'why',\n",
       " 'how',\n",
       " 'all',\n",
       " 'any',\n",
       " 'both',\n",
       " 'each',\n",
       " 'few',\n",
       " 'more',\n",
       " 'most',\n",
       " 'other',\n",
       " 'some',\n",
       " 'such',\n",
       " 'no',\n",
       " 'nor',\n",
       " 'not',\n",
       " 'only',\n",
       " 'own',\n",
       " 'same',\n",
       " 'so',\n",
       " 'than',\n",
       " 'too',\n",
       " 'very',\n",
       " 's',\n",
       " 't',\n",
       " 'can',\n",
       " 'will',\n",
       " 'just',\n",
       " 'don',\n",
       " \"don't\",\n",
       " 'should',\n",
       " \"should've\",\n",
       " 'now',\n",
       " 'd',\n",
       " 'll',\n",
       " 'm',\n",
       " 'o',\n",
       " 're',\n",
       " 've',\n",
       " 'y',\n",
       " 'ain',\n",
       " 'aren',\n",
       " \"aren't\",\n",
       " 'couldn',\n",
       " \"couldn't\",\n",
       " 'didn',\n",
       " \"didn't\",\n",
       " 'doesn',\n",
       " \"doesn't\",\n",
       " 'hadn',\n",
       " \"hadn't\",\n",
       " 'hasn',\n",
       " \"hasn't\",\n",
       " 'haven',\n",
       " \"haven't\",\n",
       " 'isn',\n",
       " \"isn't\",\n",
       " 'ma',\n",
       " 'mightn',\n",
       " \"mightn't\",\n",
       " 'mustn',\n",
       " \"mustn't\",\n",
       " 'needn',\n",
       " \"needn't\",\n",
       " 'shan',\n",
       " \"shan't\",\n",
       " 'shouldn',\n",
       " \"shouldn't\",\n",
       " 'wasn',\n",
       " \"wasn't\",\n",
       " 'weren',\n",
       " \"weren't\",\n",
       " 'won',\n",
       " \"won't\",\n",
       " 'wouldn',\n",
       " \"wouldn't\"]"
      ]
     },
     "execution_count": 5,
     "metadata": {},
     "output_type": "execute_result"
    }
   ],
   "source": [
    "#import english stopwords - code retrieved from Lab 1\n",
    "nltk.download(u'stopwords')\n",
    "\n",
    "from nltk.corpus import stopwords\n",
    "en_stop = stopwords.words('english')\n",
    "\n",
    "en_stop"
   ]
  },
  {
   "cell_type": "code",
   "execution_count": 6,
   "metadata": {},
   "outputs": [],
   "source": [
    "#remove frequent words that do not contribute to classification\n",
    "remove_words = ['also','use','using','uses','used','among','analysis','data', 'study', 'results']\n",
    "pat = r'\\b(?:{})\\b'.format('|'.join(remove_words))"
   ]
  },
  {
   "cell_type": "code",
   "execution_count": 7,
   "metadata": {},
   "outputs": [
    {
     "data": {
      "text/html": [
       "<div>\n",
       "<style scoped>\n",
       "    .dataframe tbody tr th:only-of-type {\n",
       "        vertical-align: middle;\n",
       "    }\n",
       "\n",
       "    .dataframe tbody tr th {\n",
       "        vertical-align: top;\n",
       "    }\n",
       "\n",
       "    .dataframe thead th {\n",
       "        text-align: right;\n",
       "    }\n",
       "</style>\n",
       "<table border=\"1\" class=\"dataframe\">\n",
       "  <thead>\n",
       "    <tr style=\"text-align: right;\">\n",
       "      <th></th>\n",
       "      <th>sdg</th>\n",
       "      <th>extracted_title</th>\n",
       "      <th>extracted_abstract</th>\n",
       "      <th>initial_text</th>\n",
       "      <th>extracted</th>\n",
       "    </tr>\n",
       "  </thead>\n",
       "  <tbody>\n",
       "    <tr>\n",
       "      <th>0</th>\n",
       "      <td>SDG10</td>\n",
       "      <td>trade liberalization policies aligned renewabl...</td>\n",
       "      <td>paper attempts empirically analyze compatibili...</td>\n",
       "      <td>trade liberalization policies aligned renewabl...</td>\n",
       "      <td>True</td>\n",
       "    </tr>\n",
       "    <tr>\n",
       "      <th>1</th>\n",
       "      <td>SDG10</td>\n",
       "      <td>oil prices macroeconomic factors policies affe...</td>\n",
       "      <td>aim determine nature relationship renewable en...</td>\n",
       "      <td>oil prices macroeconomic factors policies affe...</td>\n",
       "      <td>True</td>\n",
       "    </tr>\n",
       "    <tr>\n",
       "      <th>2</th>\n",
       "      <td>SDG10</td>\n",
       "      <td>energy consumption gdp revisited new panel app...</td>\n",
       "      <td>combines panel techniques wavelet spectral inv...</td>\n",
       "      <td>energy consumption gdp revisited new panel app...</td>\n",
       "      <td>True</td>\n",
       "    </tr>\n",
       "    <tr>\n",
       "      <th>3</th>\n",
       "      <td>SDG10</td>\n",
       "      <td>multiple perspective modeling simulation appro...</td>\n",
       "      <td>environmental issues dependence fossil fuel so...</td>\n",
       "      <td>multiple perspective modeling simulation appro...</td>\n",
       "      <td>True</td>\n",
       "    </tr>\n",
       "    <tr>\n",
       "      <th>4</th>\n",
       "      <td>SDG10</td>\n",
       "      <td>integrating blockchain technology energy secto...</td>\n",
       "      <td>blockchain technology ushering nothing short d...</td>\n",
       "      <td>integrating blockchain technology energy secto...</td>\n",
       "      <td>True</td>\n",
       "    </tr>\n",
       "    <tr>\n",
       "      <th>...</th>\n",
       "      <td>...</td>\n",
       "      <td>...</td>\n",
       "      <td>...</td>\n",
       "      <td>...</td>\n",
       "      <td>...</td>\n",
       "    </tr>\n",
       "    <tr>\n",
       "      <th>884</th>\n",
       "      <td>SDG7</td>\n",
       "      <td>africa sustainable energy goal focus access re...</td>\n",
       "      <td>sustainable development goal sdg focuses ensur...</td>\n",
       "      <td>africa sustainable energy goal focus access re...</td>\n",
       "      <td>False</td>\n",
       "    </tr>\n",
       "    <tr>\n",
       "      <th>885</th>\n",
       "      <td>SDG7</td>\n",
       "      <td>scalingup sustainable renewable energy generat...</td>\n",
       "      <td>three processes urbanization industrialization...</td>\n",
       "      <td>scalingup sustainable renewable energy generat...</td>\n",
       "      <td>False</td>\n",
       "    </tr>\n",
       "    <tr>\n",
       "      <th>886</th>\n",
       "      <td>SDG7</td>\n",
       "      <td>brief review application laser biotechnology e...</td>\n",
       "      <td>abstract bioenergy production biomass sources ...</td>\n",
       "      <td>brief review application laser biotechnology e...</td>\n",
       "      <td>True</td>\n",
       "    </tr>\n",
       "    <tr>\n",
       "      <th>887</th>\n",
       "      <td>SDG7</td>\n",
       "      <td>electric vehicles impacts integration power gr...</td>\n",
       "      <td>exponential rise electricity demand become pri...</td>\n",
       "      <td>electric vehicles impacts integration power gr...</td>\n",
       "      <td>False</td>\n",
       "    </tr>\n",
       "    <tr>\n",
       "      <th>888</th>\n",
       "      <td>SDG7</td>\n",
       "      <td>leading global energy environmental transforma...</td>\n",
       "      <td>recent years ten member countries association ...</td>\n",
       "      <td>leading global energy environmental transforma...</td>\n",
       "      <td>False</td>\n",
       "    </tr>\n",
       "  </tbody>\n",
       "</table>\n",
       "<p>889 rows × 5 columns</p>\n",
       "</div>"
      ],
      "text/plain": [
       "       sdg                                    extracted_title                                 extracted_abstract                                       initial_text  extracted\n",
       "0    SDG10  trade liberalization policies aligned renewabl...  paper attempts empirically analyze compatibili...  trade liberalization policies aligned renewabl...       True\n",
       "1    SDG10  oil prices macroeconomic factors policies affe...  aim determine nature relationship renewable en...  oil prices macroeconomic factors policies affe...       True\n",
       "2    SDG10  energy consumption gdp revisited new panel app...  combines panel techniques wavelet spectral inv...  energy consumption gdp revisited new panel app...       True\n",
       "3    SDG10  multiple perspective modeling simulation appro...  environmental issues dependence fossil fuel so...  multiple perspective modeling simulation appro...       True\n",
       "4    SDG10  integrating blockchain technology energy secto...  blockchain technology ushering nothing short d...  integrating blockchain technology energy secto...       True\n",
       "..     ...                                                ...                                                ...                                                ...        ...\n",
       "884   SDG7  africa sustainable energy goal focus access re...  sustainable development goal sdg focuses ensur...  africa sustainable energy goal focus access re...      False\n",
       "885   SDG7  scalingup sustainable renewable energy generat...  three processes urbanization industrialization...  scalingup sustainable renewable energy generat...      False\n",
       "886   SDG7  brief review application laser biotechnology e...  abstract bioenergy production biomass sources ...  brief review application laser biotechnology e...       True\n",
       "887   SDG7  electric vehicles impacts integration power gr...  exponential rise electricity demand become pri...  electric vehicles impacts integration power gr...      False\n",
       "888   SDG7  leading global energy environmental transforma...  recent years ten member countries association ...  leading global energy environmental transforma...      False\n",
       "\n",
       "[889 rows x 5 columns]"
      ]
     },
     "execution_count": 7,
     "metadata": {},
     "output_type": "execute_result"
    }
   ],
   "source": [
    "#create a function for preprocessing our data \n",
    "def preprocess_df(df_col):\n",
    "    df_col = re.sub(r'\\d+', '', df_col.lower())\n",
    "    df_col = re.sub('[^a-z\\s]', '',df_col)\n",
    "    df_col = re.sub(pat,'',df_col)\n",
    "    df_col = [w for w in df_col.split() if w not in set(en_stop)]\n",
    "    return ' '.join(df_col)\n",
    "\n",
    "#apply the above function in the dataframe columns we are interested to\n",
    "sdg_df['extracted_title'] = sdg_df['extracted_title'].apply(preprocess_df)\n",
    "sdg_df['extracted_abstract'] = sdg_df['extracted_abstract'].apply(preprocess_df)\n",
    "sdg_df['initial_text'] = sdg_df['initial_text'].apply(preprocess_df)\n",
    "sdg_df"
   ]
  },
  {
   "cell_type": "code",
   "execution_count": 8,
   "metadata": {},
   "outputs": [
    {
     "data": {
      "text/plain": [
       "104"
      ]
     },
     "execution_count": 8,
     "metadata": {},
     "output_type": "execute_result"
    }
   ],
   "source": [
    "#Count the number of Falses of the 'extracted' column\n",
    "len(sdg_df.loc[sdg_df['extracted']== False])\n",
    "# df.loc[df['column_name'] == some_value]"
   ]
  },
  {
   "cell_type": "code",
   "execution_count": 9,
   "metadata": {},
   "outputs": [
    {
     "name": "stdout",
     "output_type": "stream",
     "text": [
      "[('health', 164),\n",
      " ('climate', 105),\n",
      " ('energy', 98),\n",
      " ('women', 92),\n",
      " ('female', 90),\n",
      " ('genital', 85),\n",
      " ('wellbeing', 79),\n",
      " ('gender', 76),\n",
      " ('change', 74),\n",
      " ('mortality', 74),\n",
      " ('global', 62),\n",
      " ('violence', 60),\n",
      " ('mutilation', 58),\n",
      " ('renewable', 53),\n",
      " ('countries', 41),\n",
      " ('review', 40),\n",
      " ('road', 40),\n",
      " ('mental', 39),\n",
      " ('environmental', 35),\n",
      " ('equality', 35)]\n",
      "[('health', 1460),\n",
      " ('women', 1024),\n",
      " ('climate', 753),\n",
      " ('energy', 705),\n",
      " ('change', 580),\n",
      " ('gender', 578),\n",
      " ('mortality', 551),\n",
      " ('countries', 443),\n",
      " ('violence', 412),\n",
      " ('years', 397),\n",
      " ('global', 384),\n",
      " ('associated', 362),\n",
      " ('methods', 346),\n",
      " ('social', 330),\n",
      " ('wellbeing', 323),\n",
      " ('environmental', 311),\n",
      " ('higher', 310),\n",
      " ('ci', 298),\n",
      " ('factors', 295),\n",
      " ('risk', 291),\n",
      " ('care', 289),\n",
      " ('sexual', 286),\n",
      " ('model', 280),\n",
      " ('female', 280),\n",
      " ('fgm', 277),\n",
      " ('emissions', 276),\n",
      " ('mental', 276),\n",
      " ('studies', 274),\n",
      " ('renewable', 272),\n",
      " ('age', 269)]\n",
      "[('health', 1624),\n",
      " ('women', 1116),\n",
      " ('climate', 858),\n",
      " ('energy', 803),\n",
      " ('change', 654),\n",
      " ('gender', 654),\n",
      " ('mortality', 625),\n",
      " ('countries', 484),\n",
      " ('violence', 472),\n",
      " ('global', 446),\n",
      " ('abstract', 438),\n",
      " ('years', 406),\n",
      " ('wellbeing', 402),\n",
      " ('associated', 382),\n",
      " ('female', 370),\n",
      " ('social', 348),\n",
      " ('methods', 348),\n",
      " ('environmental', 346),\n",
      " ('renewable', 325),\n",
      " ('risk', 324),\n",
      " ('factors', 320),\n",
      " ('higher', 318),\n",
      " ('care', 315),\n",
      " ('mental', 315),\n",
      " ('sexual', 312),\n",
      " ('model', 303),\n",
      " ('ci', 298),\n",
      " ('emissions', 296),\n",
      " ('development', 290),\n",
      " ('road', 289),\n",
      " ('studies', 282),\n",
      " ('suicide', 281),\n",
      " ('fgm', 278),\n",
      " ('age', 277),\n",
      " ('impact', 276),\n",
      " ('per', 272),\n",
      " ('rate', 266),\n",
      " ('effects', 261),\n",
      " ('men', 261),\n",
      " ('genital', 255)]\n"
     ]
    }
   ],
   "source": [
    "#count the words per column and check if we can remove some of them\n",
    "from nltk import word_tokenize\n",
    "from collections import Counter\n",
    "\n",
    "sdg_df['extracted_title_tokenized'] = sdg_df['extracted_title'].apply(lambda row: word_tokenize(row))\n",
    "sdg_df['extracted_abstract_tokenized'] = sdg_df['extracted_abstract'].apply(lambda row: word_tokenize(row))\n",
    "sdg_df['initial_text_tokenized'] = sdg_df['initial_text'].apply(lambda row: word_tokenize(row))\n",
    "\n",
    "#convert the column to list\n",
    "title_tokenized = sdg_df['extracted_title_tokenized'].tolist()\n",
    "abstract_tokenized = sdg_df['extracted_abstract_tokenized'].tolist()\n",
    "text_tokenized = sdg_df['initial_text_tokenized'].tolist()\n",
    "\n",
    "##concat the list of lists into one list in order to count the words' frequency\n",
    "def concat_lists(list):\n",
    "    x = []\n",
    "    for sublist in list:\n",
    "        for item in sublist:\n",
    "            x.append(item)\n",
    "    return x\n",
    "\n",
    "tokenized_titles = concat_lists(title_tokenized)\n",
    "tokenized_abstracts = concat_lists(abstract_tokenized)\n",
    "tokenized_text = concat_lists(text_tokenized)\n",
    "\n",
    "count_titles = Counter(tokenized_titles)\n",
    "pprint(count_titles.most_common((20)))\n",
    "count_abstract_words = Counter(tokenized_abstracts)\n",
    "pprint(count_abstract_words.most_common((30)))\n",
    "count_text_words = Counter(tokenized_text)\n",
    "pprint(count_text_words.most_common((40)))"
   ]
  },
  {
   "cell_type": "code",
   "execution_count": 10,
   "metadata": {},
   "outputs": [
    {
     "data": {
      "text/html": [
       "<div>\n",
       "<style scoped>\n",
       "    .dataframe tbody tr th:only-of-type {\n",
       "        vertical-align: middle;\n",
       "    }\n",
       "\n",
       "    .dataframe tbody tr th {\n",
       "        vertical-align: top;\n",
       "    }\n",
       "\n",
       "    .dataframe thead th {\n",
       "        text-align: right;\n",
       "    }\n",
       "</style>\n",
       "<table border=\"1\" class=\"dataframe\">\n",
       "  <thead>\n",
       "    <tr style=\"text-align: right;\">\n",
       "      <th></th>\n",
       "      <th>sdg</th>\n",
       "      <th>extracted_title</th>\n",
       "      <th>extracted_abstract</th>\n",
       "      <th>initial_text</th>\n",
       "      <th>extracted</th>\n",
       "      <th>extracted_title_tokenized</th>\n",
       "      <th>extracted_abstract_tokenized</th>\n",
       "      <th>initial_text_tokenized</th>\n",
       "    </tr>\n",
       "  </thead>\n",
       "  <tbody>\n",
       "    <tr>\n",
       "      <th>0</th>\n",
       "      <td>SDG10</td>\n",
       "      <td>trade liberalization policies aligned renewabl...</td>\n",
       "      <td>paper attempts empirically analyze compatibili...</td>\n",
       "      <td>trade liberalization policies aligned renewabl...</td>\n",
       "      <td>True</td>\n",
       "      <td>[trade, liberalization, policies, aligned, ren...</td>\n",
       "      <td>[paper, attempts, empirically, analyze, compat...</td>\n",
       "      <td>[trade, liberalization, policies, aligned, ren...</td>\n",
       "    </tr>\n",
       "    <tr>\n",
       "      <th>1</th>\n",
       "      <td>SDG10</td>\n",
       "      <td>oil prices macroeconomic factors policies affe...</td>\n",
       "      <td>aim determine nature relationship renewable en...</td>\n",
       "      <td>oil prices macroeconomic factors policies affe...</td>\n",
       "      <td>True</td>\n",
       "      <td>[oil, prices, macroeconomic, factors, policies...</td>\n",
       "      <td>[aim, determine, nature, relationship, renewab...</td>\n",
       "      <td>[oil, prices, macroeconomic, factors, policies...</td>\n",
       "    </tr>\n",
       "    <tr>\n",
       "      <th>2</th>\n",
       "      <td>SDG10</td>\n",
       "      <td>energy consumption gdp revisited new panel app...</td>\n",
       "      <td>combines panel techniques wavelet spectral inv...</td>\n",
       "      <td>energy consumption gdp revisited new panel app...</td>\n",
       "      <td>True</td>\n",
       "      <td>[energy, consumption, gdp, revisited, new, pan...</td>\n",
       "      <td>[combines, panel, techniques, wavelet, spectra...</td>\n",
       "      <td>[energy, consumption, gdp, revisited, new, pan...</td>\n",
       "    </tr>\n",
       "    <tr>\n",
       "      <th>3</th>\n",
       "      <td>SDG10</td>\n",
       "      <td>multiple perspective modeling simulation appro...</td>\n",
       "      <td>environmental issues dependence fossil fuel so...</td>\n",
       "      <td>multiple perspective modeling simulation appro...</td>\n",
       "      <td>True</td>\n",
       "      <td>[multiple, perspective, modeling, simulation, ...</td>\n",
       "      <td>[environmental, issues, dependence, fossil, fu...</td>\n",
       "      <td>[multiple, perspective, modeling, simulation, ...</td>\n",
       "    </tr>\n",
       "    <tr>\n",
       "      <th>4</th>\n",
       "      <td>SDG10</td>\n",
       "      <td>integrating blockchain technology energy secto...</td>\n",
       "      <td>blockchain technology ushering nothing short d...</td>\n",
       "      <td>integrating blockchain technology energy secto...</td>\n",
       "      <td>True</td>\n",
       "      <td>[integrating, blockchain, technology, energy, ...</td>\n",
       "      <td>[blockchain, technology, ushering, nothing, sh...</td>\n",
       "      <td>[integrating, blockchain, technology, energy, ...</td>\n",
       "    </tr>\n",
       "    <tr>\n",
       "      <th>...</th>\n",
       "      <td>...</td>\n",
       "      <td>...</td>\n",
       "      <td>...</td>\n",
       "      <td>...</td>\n",
       "      <td>...</td>\n",
       "      <td>...</td>\n",
       "      <td>...</td>\n",
       "      <td>...</td>\n",
       "    </tr>\n",
       "    <tr>\n",
       "      <th>884</th>\n",
       "      <td>SDG7</td>\n",
       "      <td>africa sustainable energy goal focus access re...</td>\n",
       "      <td>sustainable development goal sdg focuses ensur...</td>\n",
       "      <td>africa sustainable energy goal focus access re...</td>\n",
       "      <td>False</td>\n",
       "      <td>[africa, sustainable, energy, goal, focus, acc...</td>\n",
       "      <td>[sustainable, development, goal, sdg, focuses,...</td>\n",
       "      <td>[africa, sustainable, energy, goal, focus, acc...</td>\n",
       "    </tr>\n",
       "    <tr>\n",
       "      <th>885</th>\n",
       "      <td>SDG7</td>\n",
       "      <td>scalingup sustainable renewable energy generat...</td>\n",
       "      <td>three processes urbanization industrialization...</td>\n",
       "      <td>scalingup sustainable renewable energy generat...</td>\n",
       "      <td>False</td>\n",
       "      <td>[scalingup, sustainable, renewable, energy, ge...</td>\n",
       "      <td>[three, processes, urbanization, industrializa...</td>\n",
       "      <td>[scalingup, sustainable, renewable, energy, ge...</td>\n",
       "    </tr>\n",
       "    <tr>\n",
       "      <th>886</th>\n",
       "      <td>SDG7</td>\n",
       "      <td>brief review application laser biotechnology e...</td>\n",
       "      <td>abstract bioenergy production biomass sources ...</td>\n",
       "      <td>brief review application laser biotechnology e...</td>\n",
       "      <td>True</td>\n",
       "      <td>[brief, review, application, laser, biotechnol...</td>\n",
       "      <td>[abstract, bioenergy, production, biomass, sou...</td>\n",
       "      <td>[brief, review, application, laser, biotechnol...</td>\n",
       "    </tr>\n",
       "    <tr>\n",
       "      <th>887</th>\n",
       "      <td>SDG7</td>\n",
       "      <td>electric vehicles impacts integration power gr...</td>\n",
       "      <td>exponential rise electricity demand become pri...</td>\n",
       "      <td>electric vehicles impacts integration power gr...</td>\n",
       "      <td>False</td>\n",
       "      <td>[electric, vehicles, impacts, integration, pow...</td>\n",
       "      <td>[exponential, rise, electricity, demand, becom...</td>\n",
       "      <td>[electric, vehicles, impacts, integration, pow...</td>\n",
       "    </tr>\n",
       "    <tr>\n",
       "      <th>888</th>\n",
       "      <td>SDG7</td>\n",
       "      <td>leading global energy environmental transforma...</td>\n",
       "      <td>recent years ten member countries association ...</td>\n",
       "      <td>leading global energy environmental transforma...</td>\n",
       "      <td>False</td>\n",
       "      <td>[leading, global, energy, environmental, trans...</td>\n",
       "      <td>[recent, years, ten, member, countries, associ...</td>\n",
       "      <td>[leading, global, energy, environmental, trans...</td>\n",
       "    </tr>\n",
       "  </tbody>\n",
       "</table>\n",
       "<p>889 rows × 8 columns</p>\n",
       "</div>"
      ],
      "text/plain": [
       "       sdg                                    extracted_title                                 extracted_abstract                                       initial_text  extracted                          extracted_title_tokenized                       extracted_abstract_tokenized                             initial_text_tokenized\n",
       "0    SDG10  trade liberalization policies aligned renewabl...  paper attempts empirically analyze compatibili...  trade liberalization policies aligned renewabl...       True  [trade, liberalization, policies, aligned, ren...  [paper, attempts, empirically, analyze, compat...  [trade, liberalization, policies, aligned, ren...\n",
       "1    SDG10  oil prices macroeconomic factors policies affe...  aim determine nature relationship renewable en...  oil prices macroeconomic factors policies affe...       True  [oil, prices, macroeconomic, factors, policies...  [aim, determine, nature, relationship, renewab...  [oil, prices, macroeconomic, factors, policies...\n",
       "2    SDG10  energy consumption gdp revisited new panel app...  combines panel techniques wavelet spectral inv...  energy consumption gdp revisited new panel app...       True  [energy, consumption, gdp, revisited, new, pan...  [combines, panel, techniques, wavelet, spectra...  [energy, consumption, gdp, revisited, new, pan...\n",
       "3    SDG10  multiple perspective modeling simulation appro...  environmental issues dependence fossil fuel so...  multiple perspective modeling simulation appro...       True  [multiple, perspective, modeling, simulation, ...  [environmental, issues, dependence, fossil, fu...  [multiple, perspective, modeling, simulation, ...\n",
       "4    SDG10  integrating blockchain technology energy secto...  blockchain technology ushering nothing short d...  integrating blockchain technology energy secto...       True  [integrating, blockchain, technology, energy, ...  [blockchain, technology, ushering, nothing, sh...  [integrating, blockchain, technology, energy, ...\n",
       "..     ...                                                ...                                                ...                                                ...        ...                                                ...                                                ...                                                ...\n",
       "884   SDG7  africa sustainable energy goal focus access re...  sustainable development goal sdg focuses ensur...  africa sustainable energy goal focus access re...      False  [africa, sustainable, energy, goal, focus, acc...  [sustainable, development, goal, sdg, focuses,...  [africa, sustainable, energy, goal, focus, acc...\n",
       "885   SDG7  scalingup sustainable renewable energy generat...  three processes urbanization industrialization...  scalingup sustainable renewable energy generat...      False  [scalingup, sustainable, renewable, energy, ge...  [three, processes, urbanization, industrializa...  [scalingup, sustainable, renewable, energy, ge...\n",
       "886   SDG7  brief review application laser biotechnology e...  abstract bioenergy production biomass sources ...  brief review application laser biotechnology e...       True  [brief, review, application, laser, biotechnol...  [abstract, bioenergy, production, biomass, sou...  [brief, review, application, laser, biotechnol...\n",
       "887   SDG7  electric vehicles impacts integration power gr...  exponential rise electricity demand become pri...  electric vehicles impacts integration power gr...      False  [electric, vehicles, impacts, integration, pow...  [exponential, rise, electricity, demand, becom...  [electric, vehicles, impacts, integration, pow...\n",
       "888   SDG7  leading global energy environmental transforma...  recent years ten member countries association ...  leading global energy environmental transforma...      False  [leading, global, energy, environmental, trans...  [recent, years, ten, member, countries, associ...  [leading, global, energy, environmental, trans...\n",
       "\n",
       "[889 rows x 8 columns]"
      ]
     },
     "execution_count": 10,
     "metadata": {},
     "output_type": "execute_result"
    }
   ],
   "source": [
    "sdg_df"
   ]
  },
  {
   "cell_type": "code",
   "execution_count": 11,
   "metadata": {},
   "outputs": [
    {
     "data": {
      "text/plain": [
       "Text(0.5, 0.98, 'Word frequency in document titles')"
      ]
     },
     "execution_count": 11,
     "metadata": {},
     "output_type": "execute_result"
    },
    {
     "data": {
      "image/png": "[encoded data removed]",
      "text/plain": [
       "<Figure size 432x288 with 1 Axes>"
      ]
     },
     "metadata": {
      "needs_background": "light"
     },
     "output_type": "display_data"
    }
   ],
   "source": [
    "import matplotlib.pyplot as plt\n",
    "\n",
    "title_words = dict(count_titles.most_common(5))\n",
    "abstract_words = dict(count_abstract_words.most_common(5))\n",
    "text_words = dict(count_text_words.most_common(5))\n",
    "\n",
    "plt.bar(title_words.keys(), title_words.values())\n",
    "plt.suptitle('Word frequency in document titles', fontsize=14)"
   ]
  },
  {
   "cell_type": "code",
   "execution_count": 12,
   "metadata": {},
   "outputs": [
    {
     "data": {
      "text/plain": [
       "Text(0.5, 0.98, 'Word frequency in document abstracts')"
      ]
     },
     "execution_count": 12,
     "metadata": {},
     "output_type": "execute_result"
    },
    {
     "data": {
      "image/png": "[encoded data removed]",
      "text/plain": [
       "<Figure size 432x288 with 1 Axes>"
      ]
     },
     "metadata": {
      "needs_background": "light"
     },
     "output_type": "display_data"
    }
   ],
   "source": [
    "plt.bar(abstract_words.keys(), abstract_words.values(), color= 'green')\n",
    "plt.suptitle('Word frequency in document abstracts', fontsize=14)"
   ]
  },
  {
   "cell_type": "code",
   "execution_count": 13,
   "metadata": {},
   "outputs": [
    {
     "data": {
      "text/html": [
       "<div>\n",
       "<style scoped>\n",
       "    .dataframe tbody tr th:only-of-type {\n",
       "        vertical-align: middle;\n",
       "    }\n",
       "\n",
       "    .dataframe tbody tr th {\n",
       "        vertical-align: top;\n",
       "    }\n",
       "\n",
       "    .dataframe thead th {\n",
       "        text-align: right;\n",
       "    }\n",
       "</style>\n",
       "<table border=\"1\" class=\"dataframe\">\n",
       "  <thead>\n",
       "    <tr style=\"text-align: right;\">\n",
       "      <th></th>\n",
       "      <th>sdg</th>\n",
       "      <th>extracted_title</th>\n",
       "      <th>extracted_abstract</th>\n",
       "      <th>initial_text</th>\n",
       "    </tr>\n",
       "  </thead>\n",
       "  <tbody>\n",
       "    <tr>\n",
       "      <th>0</th>\n",
       "      <td>SDG10</td>\n",
       "      <td>trade liberalization policies aligned renewabl...</td>\n",
       "      <td>paper attempts empirically analyze compatibili...</td>\n",
       "      <td>trade liberalization policies aligned renewabl...</td>\n",
       "    </tr>\n",
       "    <tr>\n",
       "      <th>1</th>\n",
       "      <td>SDG10</td>\n",
       "      <td>oil prices macroeconomic factors policies affe...</td>\n",
       "      <td>aim determine nature relationship renewable en...</td>\n",
       "      <td>oil prices macroeconomic factors policies affe...</td>\n",
       "    </tr>\n",
       "    <tr>\n",
       "      <th>2</th>\n",
       "      <td>SDG10</td>\n",
       "      <td>energy consumption gdp revisited new panel app...</td>\n",
       "      <td>combines panel techniques wavelet spectral inv...</td>\n",
       "      <td>energy consumption gdp revisited new panel app...</td>\n",
       "    </tr>\n",
       "    <tr>\n",
       "      <th>3</th>\n",
       "      <td>SDG10</td>\n",
       "      <td>multiple perspective modeling simulation appro...</td>\n",
       "      <td>environmental issues dependence fossil fuel so...</td>\n",
       "      <td>multiple perspective modeling simulation appro...</td>\n",
       "    </tr>\n",
       "    <tr>\n",
       "      <th>4</th>\n",
       "      <td>SDG10</td>\n",
       "      <td>integrating blockchain technology energy secto...</td>\n",
       "      <td>blockchain technology ushering nothing short d...</td>\n",
       "      <td>integrating blockchain technology energy secto...</td>\n",
       "    </tr>\n",
       "    <tr>\n",
       "      <th>...</th>\n",
       "      <td>...</td>\n",
       "      <td>...</td>\n",
       "      <td>...</td>\n",
       "      <td>...</td>\n",
       "    </tr>\n",
       "    <tr>\n",
       "      <th>884</th>\n",
       "      <td>SDG7</td>\n",
       "      <td>africa sustainable energy goal focus access re...</td>\n",
       "      <td>sustainable development goal sdg focuses ensur...</td>\n",
       "      <td>africa sustainable energy goal focus access re...</td>\n",
       "    </tr>\n",
       "    <tr>\n",
       "      <th>885</th>\n",
       "      <td>SDG7</td>\n",
       "      <td>scalingup sustainable renewable energy generat...</td>\n",
       "      <td>three processes urbanization industrialization...</td>\n",
       "      <td>scalingup sustainable renewable energy generat...</td>\n",
       "    </tr>\n",
       "    <tr>\n",
       "      <th>886</th>\n",
       "      <td>SDG7</td>\n",
       "      <td>brief review application laser biotechnology e...</td>\n",
       "      <td>abstract bioenergy production biomass sources ...</td>\n",
       "      <td>brief review application laser biotechnology e...</td>\n",
       "    </tr>\n",
       "    <tr>\n",
       "      <th>887</th>\n",
       "      <td>SDG7</td>\n",
       "      <td>electric vehicles impacts integration power gr...</td>\n",
       "      <td>exponential rise electricity demand become pri...</td>\n",
       "      <td>electric vehicles impacts integration power gr...</td>\n",
       "    </tr>\n",
       "    <tr>\n",
       "      <th>888</th>\n",
       "      <td>SDG7</td>\n",
       "      <td>leading global energy environmental transforma...</td>\n",
       "      <td>recent years ten member countries association ...</td>\n",
       "      <td>leading global energy environmental transforma...</td>\n",
       "    </tr>\n",
       "  </tbody>\n",
       "</table>\n",
       "<p>889 rows × 4 columns</p>\n",
       "</div>"
      ],
      "text/plain": [
       "       sdg                                    extracted_title                                 extracted_abstract                                       initial_text\n",
       "0    SDG10  trade liberalization policies aligned renewabl...  paper attempts empirically analyze compatibili...  trade liberalization policies aligned renewabl...\n",
       "1    SDG10  oil prices macroeconomic factors policies affe...  aim determine nature relationship renewable en...  oil prices macroeconomic factors policies affe...\n",
       "2    SDG10  energy consumption gdp revisited new panel app...  combines panel techniques wavelet spectral inv...  energy consumption gdp revisited new panel app...\n",
       "3    SDG10  multiple perspective modeling simulation appro...  environmental issues dependence fossil fuel so...  multiple perspective modeling simulation appro...\n",
       "4    SDG10  integrating blockchain technology energy secto...  blockchain technology ushering nothing short d...  integrating blockchain technology energy secto...\n",
       "..     ...                                                ...                                                ...                                                ...\n",
       "884   SDG7  africa sustainable energy goal focus access re...  sustainable development goal sdg focuses ensur...  africa sustainable energy goal focus access re...\n",
       "885   SDG7  scalingup sustainable renewable energy generat...  three processes urbanization industrialization...  scalingup sustainable renewable energy generat...\n",
       "886   SDG7  brief review application laser biotechnology e...  abstract bioenergy production biomass sources ...  brief review application laser biotechnology e...\n",
       "887   SDG7  electric vehicles impacts integration power gr...  exponential rise electricity demand become pri...  electric vehicles impacts integration power gr...\n",
       "888   SDG7  leading global energy environmental transforma...  recent years ten member countries association ...  leading global energy environmental transforma...\n",
       "\n",
       "[889 rows x 4 columns]"
      ]
     },
     "execution_count": 13,
     "metadata": {},
     "output_type": "execute_result"
    }
   ],
   "source": [
    "sdg_df = sdg_df[['sdg', 'extracted_title', 'extracted_abstract', 'initial_text']]\n",
    "sdg_df"
   ]
  },
  {
   "cell_type": "code",
   "execution_count": 14,
   "metadata": {},
   "outputs": [],
   "source": [
    "sdg_df.to_csv('sdg_classification_data.csv', encoding='utf-8', index=False)"
   ]
  },
  {
   "cell_type": "code",
   "execution_count": 15,
   "metadata": {},
   "outputs": [],
   "source": [
    "from sklearn.preprocessing import OneHotEncoder\n",
    "\n",
    "# splitting in train-validation-test sets in a stratified manner.\n",
    "from sklearn.model_selection import StratifiedShuffleSplit"
   ]
  },
  {
   "cell_type": "code",
   "execution_count": 16,
   "metadata": {},
   "outputs": [
    {
     "data": {
      "text/plain": [
       "0    trade liberalization policies aligned renewabl...\n",
       "1    oil prices macroeconomic factors policies affe...\n",
       "2    energy consumption gdp revisited new panel app...\n",
       "3    multiple perspective modeling simulation appro...\n",
       "4    integrating blockchain technology energy secto...\n",
       "5    renewable energy consumption economic growth n...\n",
       "6    optimal renewable energy supply choices netzer...\n",
       "7    review recent sizing methodologies hybrid rene...\n",
       "8    renewable energy consumption industrial produc...\n",
       "9    governance renewable energy investment mena co...\n",
       "Name: extracted_title, dtype: object"
      ]
     },
     "execution_count": 16,
     "metadata": {},
     "output_type": "execute_result"
    }
   ],
   "source": [
    "# The raw input (Title)\n",
    "X = sdg_df['extracted_title']\n",
    "X_val = validation_df['extracted_title']\n",
    "\n",
    "X.head(10)"
   ]
  },
  {
   "cell_type": "code",
   "execution_count": 17,
   "metadata": {},
   "outputs": [
    {
     "data": {
      "text/plain": [
       "0    SDG10\n",
       "1    SDG10\n",
       "2    SDG10\n",
       "3    SDG10\n",
       "4    SDG10\n",
       "5    SDG10\n",
       "6    SDG10\n",
       "7    SDG10\n",
       "8    SDG10\n",
       "9    SDG10\n",
       "Name: sdg, dtype: object"
      ]
     },
     "execution_count": 17,
     "metadata": {},
     "output_type": "execute_result"
    }
   ],
   "source": [
    "# The raw output (lyricists)\n",
    "y = sdg_df['sdg']\n",
    "y_val = validation_df['sdg']\n",
    "\n",
    "y.head(10)"
   ]
  },
  {
   "cell_type": "code",
   "execution_count": 18,
   "metadata": {},
   "outputs": [
    {
     "data": {
      "text/plain": [
       "StratifiedShuffleSplit(n_splits=5, random_state=0, test_size=0.2,\n",
       "            train_size=None)"
      ]
     },
     "execution_count": 18,
     "metadata": {},
     "output_type": "execute_result"
    }
   ],
   "source": [
    "# We will use this object to split the Train dataset in Train and Validation in a stratified manner.\n",
    "\n",
    "val_sss = StratifiedShuffleSplit(n_splits=5, test_size=0.2, random_state=0)\n",
    "val_sss"
   ]
  },
  {
   "cell_type": "code",
   "execution_count": 19,
   "metadata": {},
   "outputs": [
    {
     "name": "stdout",
     "output_type": "stream",
     "text": [
      "TRAIN-VAL: [235 643 578 605 356 284 587   4  79   1] TEST: [117 257 454 418 396 495   3 724 504  36]\n",
      "TRAIN-VAL: [576 649  70 549 246 131 712 651 391 497] TEST: [431 823 454 861 168 691 332 658 386  72]\n",
      "TRAIN-VAL: [551 283  24 235 794 434 594 624 188 835] TEST: [262 641 117 533  10 767 230 462 768 517]\n",
      "TRAIN-VAL: [292 745 672 740  16 376 398 774 632 457] TEST: [198 720 644 440 293 599 693  22 799 625]\n",
      "TRAIN-VAL: [ 53 433 231 437 190 762 362 761 169 530] TEST: [545 764 741 109 666 661 712 445 600 167]\n"
     ]
    }
   ],
   "source": [
    "X_train, X_test, y_train, y_test = None, None, None, None\n",
    "\n",
    "# getting the indexes for each dataset\n",
    "for train_index, test_index in val_sss.split(X, y):\n",
    "    \n",
    "    print(\"TRAIN-VAL:\", train_index[:10], \"TEST:\", test_index[:10])\n",
    "    \n",
    "    X_train, X_test = X[train_index], X[test_index]\n",
    "    y_train, y_test = y[train_index], y[test_index]"
   ]
  },
  {
   "cell_type": "code",
   "execution_count": 20,
   "metadata": {},
   "outputs": [
    {
     "data": {
      "text/plain": [
       "53     blind spots energy transition policy case stud...\n",
       "433    wellbeing valuation model method monetizing no...\n",
       "231    china india lead greening world landuse manage...\n",
       "437    trajectories quality life following breast can...\n",
       "190                                soil carbon per mille\n",
       "Name: extracted_title, dtype: object"
      ]
     },
     "execution_count": 20,
     "metadata": {},
     "output_type": "execute_result"
    }
   ],
   "source": [
    "# check here the indexes. \n",
    "X_train.head()"
   ]
  },
  {
   "cell_type": "code",
   "execution_count": 21,
   "metadata": {},
   "outputs": [
    {
     "data": {
      "text/plain": [
       "53     SDG12\n",
       "433     SDG3\n",
       "231    SDG13\n",
       "437     SDG3\n",
       "190    SDG13\n",
       "762     SDG5\n",
       "362     SDG3\n",
       "761     SDG5\n",
       "169    SDG13\n",
       "530     SDG3\n",
       "Name: sdg, dtype: object"
      ]
     },
     "execution_count": 21,
     "metadata": {},
     "output_type": "execute_result"
    }
   ],
   "source": [
    "y_train.head(10)"
   ]
  },
  {
   "cell_type": "code",
   "execution_count": 22,
   "metadata": {},
   "outputs": [],
   "source": [
    "# We reset the indexes for both the X-train-val and y-train-val in order to break them \n",
    "# again into two subsets.\n",
    "X_train = X_train.reset_index(drop=True)\n",
    "y_train = y_train.reset_index(drop=True)"
   ]
  },
  {
   "cell_type": "code",
   "execution_count": 23,
   "metadata": {},
   "outputs": [
    {
     "name": "stdout",
     "output_type": "stream",
     "text": [
      "X_train shape: (711,)\n",
      "y_train shape: (711,)\n",
      "\n",
      "X_val shape: (99,)\n",
      "y_val shape: (99,)\n",
      "\n",
      "X_test shape: (178,)\n",
      "y_test shape: (178,)\n"
     ]
    }
   ],
   "source": [
    "print('X_train shape: {}'.format(X_train.shape))\n",
    "print('y_train shape: {}'.format(y_train.shape))\n",
    "print()\n",
    "\n",
    "print('X_val shape: {}'.format(X_val.shape))\n",
    "print('y_val shape: {}'.format(y_val.shape))\n",
    "\n",
    "print()\n",
    "print('X_test shape: {}'.format(X_test.shape))\n",
    "print('y_test shape: {}'.format(y_test.shape))"
   ]
  },
  {
   "cell_type": "code",
   "execution_count": 24,
   "metadata": {},
   "outputs": [],
   "source": [
    "# Encoding the labels using a One-Hot Encoder\n",
    "y_enc = OneHotEncoder(sparse=False)"
   ]
  },
  {
   "cell_type": "code",
   "execution_count": 25,
   "metadata": {
    "scrolled": true
   },
   "outputs": [
    {
     "data": {
      "text/plain": [
       "array([[0., 1., 0., 0., 0., 0.],\n",
       "       [0., 0., 0., 1., 0., 0.],\n",
       "       [0., 0., 1., 0., 0., 0.],\n",
       "       ...,\n",
       "       [0., 0., 0., 1., 0., 0.],\n",
       "       [0., 0., 0., 1., 0., 0.],\n",
       "       [0., 0., 1., 0., 0., 0.]])"
      ]
     },
     "execution_count": 25,
     "metadata": {},
     "output_type": "execute_result"
    }
   ],
   "source": [
    "# At first we run fit_transform on the Training data\n",
    "y_train_enc = y_enc.fit_transform(y_train.values.reshape(-1, 1))\n",
    "y_train_enc\n"
   ]
  },
  {
   "cell_type": "code",
   "execution_count": 26,
   "metadata": {},
   "outputs": [],
   "source": [
    "# Then we use the fitted One-hot-Encoder to transform the rest of the data\n",
    "y_val_enc = y_enc.transform(y_val.values.reshape(-1, 1))\n",
    "\n",
    "y_test_enc = y_enc.transform(y_test.values.reshape(-1, 1))"
   ]
  },
  {
   "cell_type": "code",
   "execution_count": 27,
   "metadata": {},
   "outputs": [
    {
     "name": "stdout",
     "output_type": "stream",
     "text": [
      "y_train shape: (711, 6)\n",
      "y_val shape: (99, 6)\n",
      "y_test shape: (178, 6)\n"
     ]
    }
   ],
   "source": [
    "print('y_train shape: {}'.format(y_train_enc.shape))\n",
    "print('y_val shape: {}'.format(y_val_enc.shape))\n",
    "print('y_test shape: {}'.format(y_test_enc.shape))"
   ]
  },
  {
   "cell_type": "code",
   "execution_count": 28,
   "metadata": {},
   "outputs": [
    {
     "data": {
      "text/plain": [
       "[array(['SDG10', 'SDG12', 'SDG13', 'SDG3', 'SDG5', 'SDG7'], dtype=object)]"
      ]
     },
     "execution_count": 28,
     "metadata": {},
     "output_type": "execute_result"
    }
   ],
   "source": [
    "# The categories that we obtained by the Encoder\n",
    "y_enc.categories_"
   ]
  },
  {
   "cell_type": "code",
   "execution_count": 29,
   "metadata": {},
   "outputs": [
    {
     "data": {
      "text/html": [
       "<div>\n",
       "<style scoped>\n",
       "    .dataframe tbody tr th:only-of-type {\n",
       "        vertical-align: middle;\n",
       "    }\n",
       "\n",
       "    .dataframe tbody tr th {\n",
       "        vertical-align: top;\n",
       "    }\n",
       "\n",
       "    .dataframe thead th {\n",
       "        text-align: right;\n",
       "    }\n",
       "</style>\n",
       "<table border=\"1\" class=\"dataframe\">\n",
       "  <thead>\n",
       "    <tr style=\"text-align: right;\">\n",
       "      <th></th>\n",
       "      <th>SDG10</th>\n",
       "      <th>SDG12</th>\n",
       "      <th>SDG13</th>\n",
       "      <th>SDG3</th>\n",
       "      <th>SDG5</th>\n",
       "      <th>SDG7</th>\n",
       "    </tr>\n",
       "  </thead>\n",
       "  <tbody>\n",
       "    <tr>\n",
       "      <th>0</th>\n",
       "      <td>0.0</td>\n",
       "      <td>1.0</td>\n",
       "      <td>0.0</td>\n",
       "      <td>0.0</td>\n",
       "      <td>0.0</td>\n",
       "      <td>0.0</td>\n",
       "    </tr>\n",
       "    <tr>\n",
       "      <th>1</th>\n",
       "      <td>0.0</td>\n",
       "      <td>0.0</td>\n",
       "      <td>0.0</td>\n",
       "      <td>1.0</td>\n",
       "      <td>0.0</td>\n",
       "      <td>0.0</td>\n",
       "    </tr>\n",
       "    <tr>\n",
       "      <th>2</th>\n",
       "      <td>0.0</td>\n",
       "      <td>0.0</td>\n",
       "      <td>1.0</td>\n",
       "      <td>0.0</td>\n",
       "      <td>0.0</td>\n",
       "      <td>0.0</td>\n",
       "    </tr>\n",
       "    <tr>\n",
       "      <th>3</th>\n",
       "      <td>0.0</td>\n",
       "      <td>0.0</td>\n",
       "      <td>0.0</td>\n",
       "      <td>1.0</td>\n",
       "      <td>0.0</td>\n",
       "      <td>0.0</td>\n",
       "    </tr>\n",
       "    <tr>\n",
       "      <th>4</th>\n",
       "      <td>0.0</td>\n",
       "      <td>0.0</td>\n",
       "      <td>1.0</td>\n",
       "      <td>0.0</td>\n",
       "      <td>0.0</td>\n",
       "      <td>0.0</td>\n",
       "    </tr>\n",
       "    <tr>\n",
       "      <th>5</th>\n",
       "      <td>0.0</td>\n",
       "      <td>0.0</td>\n",
       "      <td>0.0</td>\n",
       "      <td>0.0</td>\n",
       "      <td>1.0</td>\n",
       "      <td>0.0</td>\n",
       "    </tr>\n",
       "    <tr>\n",
       "      <th>6</th>\n",
       "      <td>0.0</td>\n",
       "      <td>0.0</td>\n",
       "      <td>0.0</td>\n",
       "      <td>1.0</td>\n",
       "      <td>0.0</td>\n",
       "      <td>0.0</td>\n",
       "    </tr>\n",
       "    <tr>\n",
       "      <th>7</th>\n",
       "      <td>0.0</td>\n",
       "      <td>0.0</td>\n",
       "      <td>0.0</td>\n",
       "      <td>0.0</td>\n",
       "      <td>1.0</td>\n",
       "      <td>0.0</td>\n",
       "    </tr>\n",
       "    <tr>\n",
       "      <th>8</th>\n",
       "      <td>0.0</td>\n",
       "      <td>0.0</td>\n",
       "      <td>1.0</td>\n",
       "      <td>0.0</td>\n",
       "      <td>0.0</td>\n",
       "      <td>0.0</td>\n",
       "    </tr>\n",
       "    <tr>\n",
       "      <th>9</th>\n",
       "      <td>0.0</td>\n",
       "      <td>0.0</td>\n",
       "      <td>0.0</td>\n",
       "      <td>1.0</td>\n",
       "      <td>0.0</td>\n",
       "      <td>0.0</td>\n",
       "    </tr>\n",
       "  </tbody>\n",
       "</table>\n",
       "</div>"
      ],
      "text/plain": [
       "   SDG10  SDG12  SDG13  SDG3  SDG5  SDG7\n",
       "0    0.0    1.0    0.0   0.0   0.0   0.0\n",
       "1    0.0    0.0    0.0   1.0   0.0   0.0\n",
       "2    0.0    0.0    1.0   0.0   0.0   0.0\n",
       "3    0.0    0.0    0.0   1.0   0.0   0.0\n",
       "4    0.0    0.0    1.0   0.0   0.0   0.0\n",
       "5    0.0    0.0    0.0   0.0   1.0   0.0\n",
       "6    0.0    0.0    0.0   1.0   0.0   0.0\n",
       "7    0.0    0.0    0.0   0.0   1.0   0.0\n",
       "8    0.0    0.0    1.0   0.0   0.0   0.0\n",
       "9    0.0    0.0    0.0   1.0   0.0   0.0"
      ]
     },
     "execution_count": 29,
     "metadata": {},
     "output_type": "execute_result"
    }
   ],
   "source": [
    "# What the aforementioned code did:\n",
    "temp = pd.DataFrame(y_train_enc)\n",
    "temp.columns = list(y_enc.categories_[0])\n",
    "temp.head(10)"
   ]
  },
  {
   "cell_type": "code",
   "execution_count": 30,
   "metadata": {},
   "outputs": [
    {
     "data": {
      "text/html": [
       "<style  type=\"text/css\" >\n",
       "    #T_1580cf06_10a9_11eb_ad05_485f99a6d8acrow0_col1 {\n",
       "            background-color:  yellow;\n",
       "        }    #T_1580cf06_10a9_11eb_ad05_485f99a6d8acrow1_col3 {\n",
       "            background-color:  yellow;\n",
       "        }    #T_1580cf06_10a9_11eb_ad05_485f99a6d8acrow2_col2 {\n",
       "            background-color:  yellow;\n",
       "        }    #T_1580cf06_10a9_11eb_ad05_485f99a6d8acrow3_col3 {\n",
       "            background-color:  yellow;\n",
       "        }    #T_1580cf06_10a9_11eb_ad05_485f99a6d8acrow4_col2 {\n",
       "            background-color:  yellow;\n",
       "        }    #T_1580cf06_10a9_11eb_ad05_485f99a6d8acrow5_col4 {\n",
       "            background-color:  yellow;\n",
       "        }    #T_1580cf06_10a9_11eb_ad05_485f99a6d8acrow6_col3 {\n",
       "            background-color:  yellow;\n",
       "        }    #T_1580cf06_10a9_11eb_ad05_485f99a6d8acrow7_col4 {\n",
       "            background-color:  yellow;\n",
       "        }    #T_1580cf06_10a9_11eb_ad05_485f99a6d8acrow8_col2 {\n",
       "            background-color:  yellow;\n",
       "        }    #T_1580cf06_10a9_11eb_ad05_485f99a6d8acrow9_col3 {\n",
       "            background-color:  yellow;\n",
       "        }</style><table id=\"T_1580cf06_10a9_11eb_ad05_485f99a6d8ac\" ><thead>    <tr>        <th class=\"blank level0\" ></th>        <th class=\"col_heading level0 col0\" >SDG10</th>        <th class=\"col_heading level0 col1\" >SDG12</th>        <th class=\"col_heading level0 col2\" >SDG13</th>        <th class=\"col_heading level0 col3\" >SDG3</th>        <th class=\"col_heading level0 col4\" >SDG5</th>        <th class=\"col_heading level0 col5\" >SDG7</th>    </tr></thead><tbody>\n",
       "                <tr>\n",
       "                        <th id=\"T_1580cf06_10a9_11eb_ad05_485f99a6d8aclevel0_row0\" class=\"row_heading level0 row0\" >0</th>\n",
       "                        <td id=\"T_1580cf06_10a9_11eb_ad05_485f99a6d8acrow0_col0\" class=\"data row0 col0\" >0.000000</td>\n",
       "                        <td id=\"T_1580cf06_10a9_11eb_ad05_485f99a6d8acrow0_col1\" class=\"data row0 col1\" >1.000000</td>\n",
       "                        <td id=\"T_1580cf06_10a9_11eb_ad05_485f99a6d8acrow0_col2\" class=\"data row0 col2\" >0.000000</td>\n",
       "                        <td id=\"T_1580cf06_10a9_11eb_ad05_485f99a6d8acrow0_col3\" class=\"data row0 col3\" >0.000000</td>\n",
       "                        <td id=\"T_1580cf06_10a9_11eb_ad05_485f99a6d8acrow0_col4\" class=\"data row0 col4\" >0.000000</td>\n",
       "                        <td id=\"T_1580cf06_10a9_11eb_ad05_485f99a6d8acrow0_col5\" class=\"data row0 col5\" >0.000000</td>\n",
       "            </tr>\n",
       "            <tr>\n",
       "                        <th id=\"T_1580cf06_10a9_11eb_ad05_485f99a6d8aclevel0_row1\" class=\"row_heading level0 row1\" >1</th>\n",
       "                        <td id=\"T_1580cf06_10a9_11eb_ad05_485f99a6d8acrow1_col0\" class=\"data row1 col0\" >0.000000</td>\n",
       "                        <td id=\"T_1580cf06_10a9_11eb_ad05_485f99a6d8acrow1_col1\" class=\"data row1 col1\" >0.000000</td>\n",
       "                        <td id=\"T_1580cf06_10a9_11eb_ad05_485f99a6d8acrow1_col2\" class=\"data row1 col2\" >0.000000</td>\n",
       "                        <td id=\"T_1580cf06_10a9_11eb_ad05_485f99a6d8acrow1_col3\" class=\"data row1 col3\" >1.000000</td>\n",
       "                        <td id=\"T_1580cf06_10a9_11eb_ad05_485f99a6d8acrow1_col4\" class=\"data row1 col4\" >0.000000</td>\n",
       "                        <td id=\"T_1580cf06_10a9_11eb_ad05_485f99a6d8acrow1_col5\" class=\"data row1 col5\" >0.000000</td>\n",
       "            </tr>\n",
       "            <tr>\n",
       "                        <th id=\"T_1580cf06_10a9_11eb_ad05_485f99a6d8aclevel0_row2\" class=\"row_heading level0 row2\" >2</th>\n",
       "                        <td id=\"T_1580cf06_10a9_11eb_ad05_485f99a6d8acrow2_col0\" class=\"data row2 col0\" >0.000000</td>\n",
       "                        <td id=\"T_1580cf06_10a9_11eb_ad05_485f99a6d8acrow2_col1\" class=\"data row2 col1\" >0.000000</td>\n",
       "                        <td id=\"T_1580cf06_10a9_11eb_ad05_485f99a6d8acrow2_col2\" class=\"data row2 col2\" >1.000000</td>\n",
       "                        <td id=\"T_1580cf06_10a9_11eb_ad05_485f99a6d8acrow2_col3\" class=\"data row2 col3\" >0.000000</td>\n",
       "                        <td id=\"T_1580cf06_10a9_11eb_ad05_485f99a6d8acrow2_col4\" class=\"data row2 col4\" >0.000000</td>\n",
       "                        <td id=\"T_1580cf06_10a9_11eb_ad05_485f99a6d8acrow2_col5\" class=\"data row2 col5\" >0.000000</td>\n",
       "            </tr>\n",
       "            <tr>\n",
       "                        <th id=\"T_1580cf06_10a9_11eb_ad05_485f99a6d8aclevel0_row3\" class=\"row_heading level0 row3\" >3</th>\n",
       "                        <td id=\"T_1580cf06_10a9_11eb_ad05_485f99a6d8acrow3_col0\" class=\"data row3 col0\" >0.000000</td>\n",
       "                        <td id=\"T_1580cf06_10a9_11eb_ad05_485f99a6d8acrow3_col1\" class=\"data row3 col1\" >0.000000</td>\n",
       "                        <td id=\"T_1580cf06_10a9_11eb_ad05_485f99a6d8acrow3_col2\" class=\"data row3 col2\" >0.000000</td>\n",
       "                        <td id=\"T_1580cf06_10a9_11eb_ad05_485f99a6d8acrow3_col3\" class=\"data row3 col3\" >1.000000</td>\n",
       "                        <td id=\"T_1580cf06_10a9_11eb_ad05_485f99a6d8acrow3_col4\" class=\"data row3 col4\" >0.000000</td>\n",
       "                        <td id=\"T_1580cf06_10a9_11eb_ad05_485f99a6d8acrow3_col5\" class=\"data row3 col5\" >0.000000</td>\n",
       "            </tr>\n",
       "            <tr>\n",
       "                        <th id=\"T_1580cf06_10a9_11eb_ad05_485f99a6d8aclevel0_row4\" class=\"row_heading level0 row4\" >4</th>\n",
       "                        <td id=\"T_1580cf06_10a9_11eb_ad05_485f99a6d8acrow4_col0\" class=\"data row4 col0\" >0.000000</td>\n",
       "                        <td id=\"T_1580cf06_10a9_11eb_ad05_485f99a6d8acrow4_col1\" class=\"data row4 col1\" >0.000000</td>\n",
       "                        <td id=\"T_1580cf06_10a9_11eb_ad05_485f99a6d8acrow4_col2\" class=\"data row4 col2\" >1.000000</td>\n",
       "                        <td id=\"T_1580cf06_10a9_11eb_ad05_485f99a6d8acrow4_col3\" class=\"data row4 col3\" >0.000000</td>\n",
       "                        <td id=\"T_1580cf06_10a9_11eb_ad05_485f99a6d8acrow4_col4\" class=\"data row4 col4\" >0.000000</td>\n",
       "                        <td id=\"T_1580cf06_10a9_11eb_ad05_485f99a6d8acrow4_col5\" class=\"data row4 col5\" >0.000000</td>\n",
       "            </tr>\n",
       "            <tr>\n",
       "                        <th id=\"T_1580cf06_10a9_11eb_ad05_485f99a6d8aclevel0_row5\" class=\"row_heading level0 row5\" >5</th>\n",
       "                        <td id=\"T_1580cf06_10a9_11eb_ad05_485f99a6d8acrow5_col0\" class=\"data row5 col0\" >0.000000</td>\n",
       "                        <td id=\"T_1580cf06_10a9_11eb_ad05_485f99a6d8acrow5_col1\" class=\"data row5 col1\" >0.000000</td>\n",
       "                        <td id=\"T_1580cf06_10a9_11eb_ad05_485f99a6d8acrow5_col2\" class=\"data row5 col2\" >0.000000</td>\n",
       "                        <td id=\"T_1580cf06_10a9_11eb_ad05_485f99a6d8acrow5_col3\" class=\"data row5 col3\" >0.000000</td>\n",
       "                        <td id=\"T_1580cf06_10a9_11eb_ad05_485f99a6d8acrow5_col4\" class=\"data row5 col4\" >1.000000</td>\n",
       "                        <td id=\"T_1580cf06_10a9_11eb_ad05_485f99a6d8acrow5_col5\" class=\"data row5 col5\" >0.000000</td>\n",
       "            </tr>\n",
       "            <tr>\n",
       "                        <th id=\"T_1580cf06_10a9_11eb_ad05_485f99a6d8aclevel0_row6\" class=\"row_heading level0 row6\" >6</th>\n",
       "                        <td id=\"T_1580cf06_10a9_11eb_ad05_485f99a6d8acrow6_col0\" class=\"data row6 col0\" >0.000000</td>\n",
       "                        <td id=\"T_1580cf06_10a9_11eb_ad05_485f99a6d8acrow6_col1\" class=\"data row6 col1\" >0.000000</td>\n",
       "                        <td id=\"T_1580cf06_10a9_11eb_ad05_485f99a6d8acrow6_col2\" class=\"data row6 col2\" >0.000000</td>\n",
       "                        <td id=\"T_1580cf06_10a9_11eb_ad05_485f99a6d8acrow6_col3\" class=\"data row6 col3\" >1.000000</td>\n",
       "                        <td id=\"T_1580cf06_10a9_11eb_ad05_485f99a6d8acrow6_col4\" class=\"data row6 col4\" >0.000000</td>\n",
       "                        <td id=\"T_1580cf06_10a9_11eb_ad05_485f99a6d8acrow6_col5\" class=\"data row6 col5\" >0.000000</td>\n",
       "            </tr>\n",
       "            <tr>\n",
       "                        <th id=\"T_1580cf06_10a9_11eb_ad05_485f99a6d8aclevel0_row7\" class=\"row_heading level0 row7\" >7</th>\n",
       "                        <td id=\"T_1580cf06_10a9_11eb_ad05_485f99a6d8acrow7_col0\" class=\"data row7 col0\" >0.000000</td>\n",
       "                        <td id=\"T_1580cf06_10a9_11eb_ad05_485f99a6d8acrow7_col1\" class=\"data row7 col1\" >0.000000</td>\n",
       "                        <td id=\"T_1580cf06_10a9_11eb_ad05_485f99a6d8acrow7_col2\" class=\"data row7 col2\" >0.000000</td>\n",
       "                        <td id=\"T_1580cf06_10a9_11eb_ad05_485f99a6d8acrow7_col3\" class=\"data row7 col3\" >0.000000</td>\n",
       "                        <td id=\"T_1580cf06_10a9_11eb_ad05_485f99a6d8acrow7_col4\" class=\"data row7 col4\" >1.000000</td>\n",
       "                        <td id=\"T_1580cf06_10a9_11eb_ad05_485f99a6d8acrow7_col5\" class=\"data row7 col5\" >0.000000</td>\n",
       "            </tr>\n",
       "            <tr>\n",
       "                        <th id=\"T_1580cf06_10a9_11eb_ad05_485f99a6d8aclevel0_row8\" class=\"row_heading level0 row8\" >8</th>\n",
       "                        <td id=\"T_1580cf06_10a9_11eb_ad05_485f99a6d8acrow8_col0\" class=\"data row8 col0\" >0.000000</td>\n",
       "                        <td id=\"T_1580cf06_10a9_11eb_ad05_485f99a6d8acrow8_col1\" class=\"data row8 col1\" >0.000000</td>\n",
       "                        <td id=\"T_1580cf06_10a9_11eb_ad05_485f99a6d8acrow8_col2\" class=\"data row8 col2\" >1.000000</td>\n",
       "                        <td id=\"T_1580cf06_10a9_11eb_ad05_485f99a6d8acrow8_col3\" class=\"data row8 col3\" >0.000000</td>\n",
       "                        <td id=\"T_1580cf06_10a9_11eb_ad05_485f99a6d8acrow8_col4\" class=\"data row8 col4\" >0.000000</td>\n",
       "                        <td id=\"T_1580cf06_10a9_11eb_ad05_485f99a6d8acrow8_col5\" class=\"data row8 col5\" >0.000000</td>\n",
       "            </tr>\n",
       "            <tr>\n",
       "                        <th id=\"T_1580cf06_10a9_11eb_ad05_485f99a6d8aclevel0_row9\" class=\"row_heading level0 row9\" >9</th>\n",
       "                        <td id=\"T_1580cf06_10a9_11eb_ad05_485f99a6d8acrow9_col0\" class=\"data row9 col0\" >0.000000</td>\n",
       "                        <td id=\"T_1580cf06_10a9_11eb_ad05_485f99a6d8acrow9_col1\" class=\"data row9 col1\" >0.000000</td>\n",
       "                        <td id=\"T_1580cf06_10a9_11eb_ad05_485f99a6d8acrow9_col2\" class=\"data row9 col2\" >0.000000</td>\n",
       "                        <td id=\"T_1580cf06_10a9_11eb_ad05_485f99a6d8acrow9_col3\" class=\"data row9 col3\" >1.000000</td>\n",
       "                        <td id=\"T_1580cf06_10a9_11eb_ad05_485f99a6d8acrow9_col4\" class=\"data row9 col4\" >0.000000</td>\n",
       "                        <td id=\"T_1580cf06_10a9_11eb_ad05_485f99a6d8acrow9_col5\" class=\"data row9 col5\" >0.000000</td>\n",
       "            </tr>\n",
       "    </tbody></table>"
      ],
      "text/plain": [
       "<pandas.io.formats.style.Styler at 0x1f9db0aef70>"
      ]
     },
     "execution_count": 30,
     "metadata": {},
     "output_type": "execute_result"
    }
   ],
   "source": [
    "def highlight_ones(s):\n",
    "    '''\n",
    "    highlight the number 1 in a Series yellow.\n",
    "    '''\n",
    "    is_max = s == 1\n",
    "    return ['background-color: yellow' if v else '' for v in is_max]\n",
    "temp.head(10).style.apply(highlight_ones)"
   ]
  },
  {
   "cell_type": "code",
   "execution_count": 31,
   "metadata": {},
   "outputs": [
    {
     "data": {
      "text/plain": [
       "SDG10     40.0\n",
       "SDG12     35.0\n",
       "SDG13    194.0\n",
       "SDG3     211.0\n",
       "SDG5     198.0\n",
       "SDG7      33.0\n",
       "dtype: float64"
      ]
     },
     "execution_count": 31,
     "metadata": {},
     "output_type": "execute_result"
    }
   ],
   "source": [
    "temp.sum(axis=0).head(10)"
   ]
  },
  {
   "cell_type": "code",
   "execution_count": 32,
   "metadata": {},
   "outputs": [],
   "source": [
    "from tensorflow.keras.models import Sequential\n",
    "from tensorflow.keras.layers import Dense, Dropout, Activation\n",
    "from tensorflow.keras import metrics\n",
    "from tensorflow.keras.utils import plot_model\n",
    "import pydot"
   ]
  },
  {
   "cell_type": "code",
   "execution_count": 33,
   "metadata": {},
   "outputs": [],
   "source": [
    "#define max_words parameter\n",
    "max_words = 250"
   ]
  },
  {
   "cell_type": "code",
   "execution_count": 34,
   "metadata": {},
   "outputs": [
    {
     "name": "stdout",
     "output_type": "stream",
     "text": [
      "Number of Classes (SDG): 6\n"
     ]
    }
   ],
   "source": [
    "# Some parameters that we will use:\n",
    "\n",
    "# Number of Classes for the Y labels (number of lyricists)\n",
    "nb_classes = len(y_enc.categories_[0])\n",
    "\n",
    "print('Number of Classes (SDG): {}'.format(nb_classes))\n",
    "\n",
    "# Number of Epochs that we will train our Feed Forward Network\n",
    "nb_epoch = 10\n",
    "\n",
    "# The batch_size of the data that will be fed to the Model when training\n",
    "batch_size = 64 \n",
    "\n",
    "# Dropout Rate of the Dropout Layer (how many neurons to shutdown each time)\n",
    "dropout_rate = 0.2"
   ]
  },
  {
   "cell_type": "code",
   "execution_count": 35,
   "metadata": {},
   "outputs": [
    {
     "name": "stdout",
     "output_type": "stream",
     "text": [
      "Building model...\n",
      "\n",
      "Model: \"sequential\"\n",
      "_________________________________________________________________\n",
      "Layer (type)                 Output Shape              Param #   \n",
      "=================================================================\n",
      "dense (Dense)                (None, 512)               128512    \n",
      "_________________________________________________________________\n",
      "activation (Activation)      (None, 512)               0         \n",
      "_________________________________________________________________\n",
      "dropout (Dropout)            (None, 512)               0         \n",
      "_________________________________________________________________\n",
      "dense_1 (Dense)              (None, 512)               262656    \n",
      "_________________________________________________________________\n",
      "activation_1 (Activation)    (None, 512)               0         \n",
      "_________________________________________________________________\n",
      "dropout_1 (Dropout)          (None, 512)               0         \n",
      "_________________________________________________________________\n",
      "dense_2 (Dense)              (None, 6)                 3078      \n",
      "_________________________________________________________________\n",
      "activation_2 (Activation)    (None, 6)                 0         \n",
      "=================================================================\n",
      "Total params: 394,246\n",
      "Trainable params: 394,246\n",
      "Non-trainable params: 0\n",
      "_________________________________________________________________\n",
      "None\n"
     ]
    }
   ],
   "source": [
    "print('Building model...', end='\\n\\n')\n",
    "\n",
    "# The model that we will create is a sequential model meaning that\n",
    "# each layer that we add per line will use as input the output of the \n",
    "# former layer added to the model\n",
    "\n",
    "# define an empty sequential structure \n",
    "model = Sequential()\n",
    "\n",
    "# add a dense layer (MLP)\n",
    "model.add(Dense(512, input_shape=(max_words,)))\n",
    "\n",
    "# use a relu activation on MLP's outputs\n",
    "model.add(Activation('relu'))\n",
    "\n",
    "# use a dropout layer with with 40% of inputs dropped\n",
    "model.add(Dropout(dropout_rate))\n",
    "\n",
    "# add a dense layer (MLP)\n",
    "model.add(Dense(512))\n",
    "\n",
    "# use a relu activation on MLP's outputs\n",
    "model.add(Activation('relu'))\n",
    "\n",
    "# use a dropout layer with with 20% of inputs droped\n",
    "model.add(Dropout(dropout_rate))\n",
    "\n",
    "# add a dense layer (MLP) \n",
    "model.add(Dense(nb_classes))\n",
    "\n",
    "# use a softmax activation on 2nd MLP's outputs\n",
    "model.add(Activation('softmax'))\n",
    "\n",
    "# we have defined the structure of the model\n",
    "\n",
    "# print model layers' info\n",
    "print(model.summary())"
   ]
  },
  {
   "cell_type": "code",
   "execution_count": 36,
   "metadata": {},
   "outputs": [
    {
     "data": {
      "image/png": "[encoded data removed]",
      "text/plain": [
       "<IPython.core.display.Image object>"
      ]
     },
     "execution_count": 36,
     "metadata": {},
     "output_type": "execute_result"
    }
   ],
   "source": [
    "plot_model(model,\n",
    "           to_file='model_plot.png',\n",
    "           show_shapes=True,\n",
    "           show_layer_names=True)"
   ]
  },
  {
   "cell_type": "code",
   "execution_count": 37,
   "metadata": {},
   "outputs": [],
   "source": [
    "# We compile the model using categorical crossentropy as a loss function \n",
    "# The reason is that we want to predict the lyricist among many lyricists\n",
    "\n",
    "# and Adam as an optimizer (is more robust thatn Gradient Descent Optimizer)\n",
    "# As a metric we can use \"accuracy\"\n",
    "model.compile(\n",
    "    loss='categorical_crossentropy',\n",
    "    optimizer='adam',\n",
    "    metrics=['accuracy'],\n",
    ")"
   ]
  },
  {
   "cell_type": "code",
   "execution_count": 38,
   "metadata": {},
   "outputs": [],
   "source": [
    "from sklearn.feature_extraction.text import CountVectorizer, TfidfVectorizer"
   ]
  },
  {
   "cell_type": "code",
   "execution_count": 39,
   "metadata": {},
   "outputs": [
    {
     "data": {
      "text/plain": [
       "CountVectorizer(max_features=250, strip_accents='unicode')"
      ]
     },
     "execution_count": 39,
     "metadata": {},
     "output_type": "execute_result"
    }
   ],
   "source": [
    "# This vectorizer will give the number of appearances of each word\n",
    "counter_vectorizer = CountVectorizer(\n",
    "    encoding='utf-8',\n",
    "    strip_accents='unicode',\n",
    "    lowercase=True,\n",
    "    ngram_range=(1, 1), # unigrams\n",
    "    max_features=max_words,\n",
    "    binary=False # binary output or full counts. \n",
    ")\n",
    "counter_vectorizer"
   ]
  },
  {
   "cell_type": "code",
   "execution_count": 40,
   "metadata": {},
   "outputs": [],
   "source": [
    "X_train_enc = counter_vectorizer.fit_transform(X_train)"
   ]
  },
  {
   "cell_type": "code",
   "execution_count": 41,
   "metadata": {},
   "outputs": [
    {
     "data": {
      "text/plain": [
       "<711x250 sparse matrix of type '<class 'numpy.int64'>'\n",
       "\twith 3285 stored elements in Compressed Sparse Row format>"
      ]
     },
     "execution_count": 41,
     "metadata": {},
     "output_type": "execute_result"
    }
   ],
   "source": [
    "X_train_enc"
   ]
  },
  {
   "cell_type": "code",
   "execution_count": 42,
   "metadata": {},
   "outputs": [],
   "source": [
    "# Using the FITTED CountVectorizer we transform the Validation and Test Sets\n",
    "X_val_enc = counter_vectorizer.transform(X_val)\n",
    "X_test_enc = counter_vectorizer.transform(X_test)"
   ]
  },
  {
   "cell_type": "code",
   "execution_count": 43,
   "metadata": {},
   "outputs": [
    {
     "name": "stdout",
     "output_type": "stream",
     "text": [
      "X_train encoded shape: (711, 250)\n",
      "X_val encoded shape: (99, 250)\n",
      "X_test encoded shape: (178, 250)\n"
     ]
    }
   ],
   "source": [
    "print('X_train encoded shape: {}'.format(X_train_enc.shape))\n",
    "print('X_val encoded shape: {}'.format(X_val_enc.shape))\n",
    "print('X_test encoded shape: {}'.format(X_test_enc.shape))"
   ]
  },
  {
   "cell_type": "code",
   "execution_count": 44,
   "metadata": {},
   "outputs": [
    {
     "data": {
      "text/plain": [
       "matrix([[0, 0, 0, 0, 0, 0, 0, 0, 0, 0, 0, 0, 0, 0, 0, 0, 0, 0, 0, 0, 0,\n",
       "         0, 0, 0, 0, 0, 0, 1, 0, 0, 0, 0, 0, 0, 0, 0, 0, 0, 0, 0, 0, 0,\n",
       "         0, 0, 0, 0, 0, 0, 0, 0, 0, 0, 0, 0, 0, 0, 0, 0, 0, 0, 0, 0, 0,\n",
       "         0, 0, 0, 0, 0, 0, 0, 0, 0, 0, 1, 0, 0, 0, 0, 0, 0, 0, 0, 0, 0,\n",
       "         0, 0, 0, 0, 0, 0, 0, 0, 0, 0, 0, 0, 0, 0, 0, 0, 0, 0, 0, 0, 0,\n",
       "         0, 0, 0, 0, 0, 0, 0, 0, 0, 0, 0, 0, 0, 0, 0, 0, 0, 0, 0, 0, 0,\n",
       "         0, 0, 0, 0, 0, 0, 0, 0, 0, 0, 0, 0, 0, 0, 0, 0, 0, 0, 0, 0, 0,\n",
       "         0, 0, 0, 0, 0, 0, 0, 0, 0, 0, 0, 0, 0, 0, 0, 1, 0, 0, 0, 0, 0,\n",
       "         0, 0, 0, 0, 0, 0, 0, 0, 0, 0, 0, 0, 0, 0, 0, 0, 0, 0, 0, 0, 0,\n",
       "         0, 0, 0, 0, 0, 0, 0, 0, 0, 0, 0, 0, 0, 0, 0, 0, 0, 0, 0, 0, 0,\n",
       "         0, 0, 0, 0, 0, 0, 0, 0, 0, 0, 0, 0, 0, 0, 0, 0, 0, 0, 0, 0, 0,\n",
       "         0, 0, 0, 0, 0, 0, 0, 0, 0, 0, 0, 0, 0, 0, 0, 0, 0, 0, 0]],\n",
       "       dtype=int64)"
      ]
     },
     "execution_count": 44,
     "metadata": {},
     "output_type": "execute_result"
    }
   ],
   "source": [
    "X_train_enc[0].todense()"
   ]
  },
  {
   "cell_type": "code",
   "execution_count": 45,
   "metadata": {
    "scrolled": true
   },
   "outputs": [
    {
     "data": {
      "text/plain": [
       "matrix([[0, 0, 0, ..., 0, 0, 0],\n",
       "        [0, 0, 0, ..., 0, 0, 0],\n",
       "        [0, 0, 0, ..., 0, 0, 0],\n",
       "        ...,\n",
       "        [0, 0, 1, ..., 0, 0, 0],\n",
       "        [0, 0, 0, ..., 0, 0, 0],\n",
       "        [0, 0, 0, ..., 0, 0, 0]], dtype=int64)"
      ]
     },
     "execution_count": 45,
     "metadata": {},
     "output_type": "execute_result"
    }
   ],
   "source": [
    "X_train_enc.todense()"
   ]
  },
  {
   "cell_type": "code",
   "execution_count": 46,
   "metadata": {
    "scrolled": true
   },
   "outputs": [
    {
     "data": {
      "text/plain": [
       "array([[0., 1., 0., 0., 0., 0.],\n",
       "       [0., 0., 0., 1., 0., 0.],\n",
       "       [0., 0., 1., 0., 0., 0.],\n",
       "       ...,\n",
       "       [0., 0., 0., 1., 0., 0.],\n",
       "       [0., 0., 0., 1., 0., 0.],\n",
       "       [0., 0., 1., 0., 0., 0.]])"
      ]
     },
     "execution_count": 46,
     "metadata": {},
     "output_type": "execute_result"
    }
   ],
   "source": [
    "y_train_enc"
   ]
  },
  {
   "cell_type": "code",
   "execution_count": 47,
   "metadata": {
    "scrolled": true
   },
   "outputs": [
    {
     "data": {
      "text/plain": [
       "matrix([[0, 0, 0, ..., 0, 0, 0],\n",
       "        [0, 0, 0, ..., 0, 0, 0],\n",
       "        [0, 0, 0, ..., 0, 0, 0],\n",
       "        ...,\n",
       "        [0, 0, 0, ..., 0, 0, 0],\n",
       "        [0, 0, 0, ..., 0, 0, 0],\n",
       "        [0, 0, 0, ..., 0, 0, 0]], dtype=int64)"
      ]
     },
     "execution_count": 47,
     "metadata": {},
     "output_type": "execute_result"
    }
   ],
   "source": [
    "X_val_enc.todense()"
   ]
  },
  {
   "cell_type": "code",
   "execution_count": 48,
   "metadata": {},
   "outputs": [
    {
     "data": {
      "text/plain": [
       "array([[0., 0., 0., 0., 0., 1.],\n",
       "       [1., 0., 0., 0., 0., 0.],\n",
       "       [1., 0., 0., 0., 0., 0.],\n",
       "       [1., 0., 0., 0., 0., 0.],\n",
       "       [1., 0., 0., 0., 0., 0.],\n",
       "       [1., 0., 0., 0., 0., 0.],\n",
       "       [0., 1., 0., 0., 0., 0.],\n",
       "       [0., 1., 0., 0., 0., 0.],\n",
       "       [0., 1., 0., 0., 0., 0.],\n",
       "       [0., 1., 0., 0., 0., 0.],\n",
       "       [0., 1., 0., 0., 0., 0.],\n",
       "       [0., 1., 0., 0., 0., 0.],\n",
       "       [0., 0., 0., 0., 1., 0.],\n",
       "       [0., 0., 0., 0., 1., 0.],\n",
       "       [0., 0., 0., 0., 1., 0.],\n",
       "       [0., 0., 0., 0., 1., 0.],\n",
       "       [0., 0., 0., 0., 1., 0.],\n",
       "       [0., 0., 0., 0., 1., 0.],\n",
       "       [0., 0., 0., 0., 1., 0.],\n",
       "       [0., 0., 0., 0., 1., 0.],\n",
       "       [0., 0., 0., 0., 1., 0.],\n",
       "       [0., 0., 0., 0., 1., 0.],\n",
       "       [0., 0., 0., 0., 1., 0.],\n",
       "       [0., 0., 0., 0., 1., 0.],\n",
       "       [0., 0., 0., 0., 1., 0.],\n",
       "       [0., 0., 0., 0., 1., 0.],\n",
       "       [0., 0., 0., 0., 1., 0.],\n",
       "       [0., 0., 0., 0., 1., 0.],\n",
       "       [0., 0., 0., 0., 1., 0.],\n",
       "       [0., 0., 0., 0., 1., 0.],\n",
       "       [0., 0., 0., 0., 1., 0.],\n",
       "       [0., 0., 0., 0., 1., 0.],\n",
       "       [0., 0., 0., 0., 1., 0.],\n",
       "       [0., 0., 0., 0., 1., 0.],\n",
       "       [0., 0., 0., 0., 1., 0.],\n",
       "       [0., 0., 0., 0., 1., 0.],\n",
       "       [0., 0., 0., 0., 1., 0.],\n",
       "       [0., 0., 0., 0., 1., 0.],\n",
       "       [0., 0., 0., 1., 0., 0.],\n",
       "       [0., 0., 0., 1., 0., 0.],\n",
       "       [0., 0., 0., 1., 0., 0.],\n",
       "       [0., 0., 0., 1., 0., 0.],\n",
       "       [0., 0., 0., 1., 0., 0.],\n",
       "       [0., 0., 0., 1., 0., 0.],\n",
       "       [0., 0., 0., 1., 0., 0.],\n",
       "       [0., 0., 0., 1., 0., 0.],\n",
       "       [0., 0., 0., 1., 0., 0.],\n",
       "       [0., 0., 0., 1., 0., 0.],\n",
       "       [0., 0., 0., 1., 0., 0.],\n",
       "       [0., 0., 0., 1., 0., 0.],\n",
       "       [0., 0., 0., 1., 0., 0.],\n",
       "       [0., 0., 0., 1., 0., 0.],\n",
       "       [0., 0., 0., 1., 0., 0.],\n",
       "       [0., 0., 0., 1., 0., 0.],\n",
       "       [0., 0., 0., 1., 0., 0.],\n",
       "       [0., 0., 0., 1., 0., 0.],\n",
       "       [0., 0., 0., 1., 0., 0.],\n",
       "       [0., 0., 0., 1., 0., 0.],\n",
       "       [0., 0., 0., 1., 0., 0.],\n",
       "       [0., 0., 0., 1., 0., 0.],\n",
       "       [0., 0., 0., 1., 0., 0.],\n",
       "       [0., 0., 0., 1., 0., 0.],\n",
       "       [0., 0., 0., 1., 0., 0.],\n",
       "       [0., 0., 0., 1., 0., 0.],\n",
       "       [0., 0., 0., 1., 0., 0.],\n",
       "       [0., 0., 0., 1., 0., 0.],\n",
       "       [0., 0., 0., 1., 0., 0.],\n",
       "       [0., 0., 0., 1., 0., 0.],\n",
       "       [0., 0., 0., 1., 0., 0.],\n",
       "       [0., 0., 0., 1., 0., 0.],\n",
       "       [0., 0., 0., 0., 1., 0.],\n",
       "       [0., 0., 0., 0., 1., 0.],\n",
       "       [0., 0., 0., 0., 1., 0.],\n",
       "       [0., 0., 0., 0., 1., 0.],\n",
       "       [0., 0., 1., 0., 0., 0.],\n",
       "       [0., 0., 1., 0., 0., 0.],\n",
       "       [0., 0., 1., 0., 0., 0.],\n",
       "       [0., 0., 1., 0., 0., 0.],\n",
       "       [0., 0., 1., 0., 0., 0.],\n",
       "       [0., 0., 1., 0., 0., 0.],\n",
       "       [0., 0., 1., 0., 0., 0.],\n",
       "       [0., 0., 1., 0., 0., 0.],\n",
       "       [0., 0., 1., 0., 0., 0.],\n",
       "       [0., 0., 1., 0., 0., 0.],\n",
       "       [0., 0., 1., 0., 0., 0.],\n",
       "       [0., 0., 1., 0., 0., 0.],\n",
       "       [0., 0., 1., 0., 0., 0.],\n",
       "       [0., 0., 1., 0., 0., 0.],\n",
       "       [0., 0., 1., 0., 0., 0.],\n",
       "       [0., 0., 1., 0., 0., 0.],\n",
       "       [0., 0., 1., 0., 0., 0.],\n",
       "       [0., 0., 0., 1., 0., 0.],\n",
       "       [0., 0., 0., 1., 0., 0.],\n",
       "       [0., 0., 1., 0., 0., 0.],\n",
       "       [0., 0., 1., 0., 0., 0.],\n",
       "       [0., 0., 1., 0., 0., 0.],\n",
       "       [0., 0., 1., 0., 0., 0.],\n",
       "       [0., 0., 1., 0., 0., 0.],\n",
       "       [0., 0., 1., 0., 0., 0.]])"
      ]
     },
     "execution_count": 48,
     "metadata": {},
     "output_type": "execute_result"
    }
   ],
   "source": [
    "y_val_enc"
   ]
  },
  {
   "cell_type": "code",
   "execution_count": 49,
   "metadata": {},
   "outputs": [
    {
     "name": "stdout",
     "output_type": "stream",
     "text": [
      "Epoch 1/10\n",
      "12/12 [==============================] - 0s 33ms/step - loss: 1.4823 - accuracy: 0.5162 - val_loss: 1.1441 - val_accuracy: 0.6685\n",
      "Epoch 2/10\n",
      "12/12 [==============================] - 0s 14ms/step - loss: 0.8874 - accuracy: 0.7834 - val_loss: 0.7372 - val_accuracy: 0.7753\n",
      "Epoch 3/10\n",
      "12/12 [==============================] - 0s 13ms/step - loss: 0.4928 - accuracy: 0.8622 - val_loss: 0.5460 - val_accuracy: 0.8146\n",
      "Epoch 4/10\n",
      "12/12 [==============================] - 0s 13ms/step - loss: 0.3104 - accuracy: 0.9086 - val_loss: 0.4837 - val_accuracy: 0.8427\n",
      "Epoch 5/10\n",
      "12/12 [==============================] - 0s 12ms/step - loss: 0.2203 - accuracy: 0.9311 - val_loss: 0.4667 - val_accuracy: 0.8483\n",
      "Epoch 6/10\n",
      "12/12 [==============================] - 0s 13ms/step - loss: 0.1568 - accuracy: 0.9620 - val_loss: 0.4770 - val_accuracy: 0.8427\n",
      "Epoch 7/10\n",
      "12/12 [==============================] - 0s 15ms/step - loss: 0.1275 - accuracy: 0.9705 - val_loss: 0.4773 - val_accuracy: 0.8371\n",
      "Epoch 8/10\n",
      "12/12 [==============================] - 0s 13ms/step - loss: 0.0963 - accuracy: 0.9747 - val_loss: 0.4839 - val_accuracy: 0.8483\n",
      "Epoch 9/10\n",
      "12/12 [==============================] - 0s 13ms/step - loss: 0.0785 - accuracy: 0.9831 - val_loss: 0.4973 - val_accuracy: 0.8483\n",
      "Epoch 10/10\n",
      "12/12 [==============================] - 0s 12ms/step - loss: 0.0633 - accuracy: 0.9859 - val_loss: 0.4986 - val_accuracy: 0.8652\n"
     ]
    }
   ],
   "source": [
    "# We train (fit our data to) our model\n",
    "history = model.fit(\n",
    "    x=X_train_enc.todense(), # features (as dense inputs)\n",
    "    y=y_train_enc,           # labels\n",
    "    batch_size=batch_size,   # define batch size\n",
    "    epochs=nb_epoch,         # number of epochs\n",
    "    verbose=1,               # the most extended verbosity level\n",
    "    validation_data=(       \n",
    "    X_test_enc.todense(),     # the validation split that we did before\n",
    "    y_test_enc)\n",
    ")"
   ]
  },
  {
   "cell_type": "code",
   "execution_count": 50,
   "metadata": {},
   "outputs": [
    {
     "name": "stdout",
     "output_type": "stream",
     "text": [
      "2/2 [==============================] - 0s 3ms/step - loss: 0.2457 - accuracy: 0.9192\n"
     ]
    }
   ],
   "source": [
    "# evaluate and store on score variable on the TEST DATASET\n",
    "score = model.evaluate(\n",
    "    X_val_enc.todense(),    # features\n",
    "    y_val_enc,              # labels\n",
    "    batch_size=batch_size,   # batch size\n",
    "    verbose=1                # the most extended verbose\n",
    ")"
   ]
  },
  {
   "cell_type": "code",
   "execution_count": 51,
   "metadata": {},
   "outputs": [
    {
     "name": "stdout",
     "output_type": "stream",
     "text": [
      "[0.24573726952075958, 0.9191918969154358]\n"
     ]
    }
   ],
   "source": [
    "print(score)"
   ]
  },
  {
   "cell_type": "code",
   "execution_count": 52,
   "metadata": {},
   "outputs": [
    {
     "name": "stdout",
     "output_type": "stream",
     "text": [
      "\n",
      "Test categorical_crossentropy: 0.24573726952075958\n",
      "\n",
      "Test accuracy: 91.919 %\n"
     ]
    }
   ],
   "source": [
    "print('\\nTest categorical_crossentropy: {}'.format(score[0]))\n",
    "print('\\nTest accuracy: {:.3f} %'.format(score[1]*100))"
   ]
  },
  {
   "cell_type": "code",
   "execution_count": 53,
   "metadata": {},
   "outputs": [
    {
     "data": {
      "text/plain": [
       "array([1.5802203e-02, 4.3071667e-03, 1.5412322e-04, 3.1384156e-04,\n",
       "       3.0975684e-04, 9.7911298e-01], dtype=float32)"
      ]
     },
     "execution_count": 53,
     "metadata": {},
     "output_type": "execute_result"
    }
   ],
   "source": [
    "# Use to yield probability distribution over the categories\n",
    "y_test_pred_probs = model.predict(X_val_enc) ######\n",
    "y_test_pred_probs[0]"
   ]
  },
  {
   "cell_type": "code",
   "execution_count": 54,
   "metadata": {},
   "outputs": [
    {
     "data": {
      "text/plain": [
       "(99, 6)"
      ]
     },
     "execution_count": 54,
     "metadata": {},
     "output_type": "execute_result"
    }
   ],
   "source": [
    "y_test_pred_probs.shape"
   ]
  },
  {
   "cell_type": "code",
   "execution_count": 55,
   "metadata": {},
   "outputs": [
    {
     "data": {
      "text/plain": [
       "array([5, 0, 0, 0, 0, 0, 5, 5, 1, 0, 2, 1, 4, 4, 4, 4, 4, 4, 4, 4, 4, 4,\n",
       "       4, 4, 4, 4, 4, 4, 4, 4, 3, 4, 4, 4, 2, 4, 4, 4, 3, 3, 3, 3, 3, 3,\n",
       "       3, 3, 3, 3, 3, 3, 3, 3, 3, 3, 3, 3, 3, 3, 3, 3, 3, 3, 3, 3, 3, 3,\n",
       "       3, 3, 3, 3, 4, 4, 4, 4, 2, 2, 2, 2, 2, 2, 2, 2, 2, 2, 2, 2, 2, 2,\n",
       "       2, 2, 3, 2, 3, 2, 2, 2, 2, 2, 2], dtype=int64)"
      ]
     },
     "execution_count": 55,
     "metadata": {},
     "output_type": "execute_result"
    }
   ],
   "source": [
    "# y_test_preds = model.predict_classes(X_test_enc)\n",
    "\n",
    "y_test_preds = np.argmax(model.predict(X_val_enc), axis=-1)\n",
    "\n",
    "y_test_preds#[:50]"
   ]
  },
  {
   "cell_type": "code",
   "execution_count": 56,
   "metadata": {},
   "outputs": [],
   "source": [
    "# custom prediction function \n",
    "def get_one_hot_predictions(pred_probs):\n",
    "    \"\"\"\n",
    "    \"\"\"\n",
    "    max_probs = np.max(pred_probs, axis=1)\n",
    "    \n",
    "    # reshaping to (len_of_predicts, 1)\n",
    "    max_probs = max_probs.reshape(max_probs.shape[0], 1)\n",
    "\n",
    "    return np.equal(pred_probs, max_probs).astype(float)"
   ]
  },
  {
   "cell_type": "code",
   "execution_count": 57,
   "metadata": {},
   "outputs": [
    {
     "data": {
      "text/plain": [
       "array([[0., 0., 0., 0., 0., 1.],\n",
       "       [1., 0., 0., 0., 0., 0.],\n",
       "       [1., 0., 0., 0., 0., 0.],\n",
       "       [1., 0., 0., 0., 0., 0.],\n",
       "       [1., 0., 0., 0., 0., 0.],\n",
       "       [1., 0., 0., 0., 0., 0.],\n",
       "       [0., 0., 0., 0., 0., 1.],\n",
       "       [0., 0., 0., 0., 0., 1.],\n",
       "       [0., 1., 0., 0., 0., 0.],\n",
       "       [1., 0., 0., 0., 0., 0.],\n",
       "       [0., 0., 1., 0., 0., 0.],\n",
       "       [0., 1., 0., 0., 0., 0.],\n",
       "       [0., 0., 0., 0., 1., 0.],\n",
       "       [0., 0., 0., 0., 1., 0.],\n",
       "       [0., 0., 0., 0., 1., 0.],\n",
       "       [0., 0., 0., 0., 1., 0.],\n",
       "       [0., 0., 0., 0., 1., 0.],\n",
       "       [0., 0., 0., 0., 1., 0.],\n",
       "       [0., 0., 0., 0., 1., 0.],\n",
       "       [0., 0., 0., 0., 1., 0.],\n",
       "       [0., 0., 0., 0., 1., 0.],\n",
       "       [0., 0., 0., 0., 1., 0.],\n",
       "       [0., 0., 0., 0., 1., 0.],\n",
       "       [0., 0., 0., 0., 1., 0.],\n",
       "       [0., 0., 0., 0., 1., 0.],\n",
       "       [0., 0., 0., 0., 1., 0.],\n",
       "       [0., 0., 0., 0., 1., 0.],\n",
       "       [0., 0., 0., 0., 1., 0.],\n",
       "       [0., 0., 0., 0., 1., 0.],\n",
       "       [0., 0., 0., 0., 1., 0.],\n",
       "       [0., 0., 0., 1., 0., 0.],\n",
       "       [0., 0., 0., 0., 1., 0.],\n",
       "       [0., 0., 0., 0., 1., 0.],\n",
       "       [0., 0., 0., 0., 1., 0.],\n",
       "       [0., 0., 1., 0., 0., 0.],\n",
       "       [0., 0., 0., 0., 1., 0.],\n",
       "       [0., 0., 0., 0., 1., 0.],\n",
       "       [0., 0., 0., 0., 1., 0.],\n",
       "       [0., 0., 0., 1., 0., 0.],\n",
       "       [0., 0., 0., 1., 0., 0.],\n",
       "       [0., 0., 0., 1., 0., 0.],\n",
       "       [0., 0., 0., 1., 0., 0.],\n",
       "       [0., 0., 0., 1., 0., 0.],\n",
       "       [0., 0., 0., 1., 0., 0.],\n",
       "       [0., 0., 0., 1., 0., 0.],\n",
       "       [0., 0., 0., 1., 0., 0.],\n",
       "       [0., 0., 0., 1., 0., 0.],\n",
       "       [0., 0., 0., 1., 0., 0.],\n",
       "       [0., 0., 0., 1., 0., 0.],\n",
       "       [0., 0., 0., 1., 0., 0.],\n",
       "       [0., 0., 0., 1., 0., 0.],\n",
       "       [0., 0., 0., 1., 0., 0.],\n",
       "       [0., 0., 0., 1., 0., 0.],\n",
       "       [0., 0., 0., 1., 0., 0.],\n",
       "       [0., 0., 0., 1., 0., 0.],\n",
       "       [0., 0., 0., 1., 0., 0.],\n",
       "       [0., 0., 0., 1., 0., 0.],\n",
       "       [0., 0., 0., 1., 0., 0.],\n",
       "       [0., 0., 0., 1., 0., 0.],\n",
       "       [0., 0., 0., 1., 0., 0.],\n",
       "       [0., 0., 0., 1., 0., 0.],\n",
       "       [0., 0., 0., 1., 0., 0.],\n",
       "       [0., 0., 0., 1., 0., 0.],\n",
       "       [0., 0., 0., 1., 0., 0.],\n",
       "       [0., 0., 0., 1., 0., 0.],\n",
       "       [0., 0., 0., 1., 0., 0.],\n",
       "       [0., 0., 0., 1., 0., 0.],\n",
       "       [0., 0., 0., 1., 0., 0.],\n",
       "       [0., 0., 0., 1., 0., 0.],\n",
       "       [0., 0., 0., 1., 0., 0.],\n",
       "       [0., 0., 0., 0., 1., 0.],\n",
       "       [0., 0., 0., 0., 1., 0.],\n",
       "       [0., 0., 0., 0., 1., 0.],\n",
       "       [0., 0., 0., 0., 1., 0.],\n",
       "       [0., 0., 1., 0., 0., 0.],\n",
       "       [0., 0., 1., 0., 0., 0.],\n",
       "       [0., 0., 1., 0., 0., 0.],\n",
       "       [0., 0., 1., 0., 0., 0.],\n",
       "       [0., 0., 1., 0., 0., 0.],\n",
       "       [0., 0., 1., 0., 0., 0.],\n",
       "       [0., 0., 1., 0., 0., 0.],\n",
       "       [0., 0., 1., 0., 0., 0.],\n",
       "       [0., 0., 1., 0., 0., 0.],\n",
       "       [0., 0., 1., 0., 0., 0.],\n",
       "       [0., 0., 1., 0., 0., 0.],\n",
       "       [0., 0., 1., 0., 0., 0.],\n",
       "       [0., 0., 1., 0., 0., 0.],\n",
       "       [0., 0., 1., 0., 0., 0.],\n",
       "       [0., 0., 1., 0., 0., 0.],\n",
       "       [0., 0., 1., 0., 0., 0.],\n",
       "       [0., 0., 0., 1., 0., 0.],\n",
       "       [0., 0., 1., 0., 0., 0.],\n",
       "       [0., 0., 0., 1., 0., 0.],\n",
       "       [0., 0., 1., 0., 0., 0.],\n",
       "       [0., 0., 1., 0., 0., 0.],\n",
       "       [0., 0., 1., 0., 0., 0.],\n",
       "       [0., 0., 1., 0., 0., 0.],\n",
       "       [0., 0., 1., 0., 0., 0.],\n",
       "       [0., 0., 1., 0., 0., 0.]])"
      ]
     },
     "execution_count": 57,
     "metadata": {},
     "output_type": "execute_result"
    }
   ],
   "source": [
    "y_test_pred = get_one_hot_predictions(y_test_pred_probs)\n",
    "y_test_pred"
   ]
  },
  {
   "cell_type": "code",
   "execution_count": 58,
   "metadata": {},
   "outputs": [
    {
     "data": {
      "text/plain": [
       "array(['SDG7', 'SDG10', 'SDG10', 'SDG10', 'SDG10', 'SDG10', 'SDG7',\n",
       "       'SDG7', 'SDG12', 'SDG10', 'SDG13', 'SDG12', 'SDG5', 'SDG5', 'SDG5',\n",
       "       'SDG5', 'SDG5', 'SDG5', 'SDG5', 'SDG5'], dtype=object)"
      ]
     },
     "execution_count": 58,
     "metadata": {},
     "output_type": "execute_result"
    }
   ],
   "source": [
    "# Now, we will use the fitted One Hot Encoder to Inverse Tranform the ouput\n",
    "y_test_pred_sdg = y_enc.inverse_transform(y_test_pred).flatten()\n",
    "y_test_pred_sdg[:20]"
   ]
  },
  {
   "cell_type": "code",
   "execution_count": 59,
   "metadata": {},
   "outputs": [],
   "source": [
    "from sklearn.metrics import confusion_matrix, classification_report"
   ]
  },
  {
   "cell_type": "code",
   "execution_count": 60,
   "metadata": {},
   "outputs": [
    {
     "name": "stdout",
     "output_type": "stream",
     "text": [
      "              precision    recall  f1-score   support\n",
      "\n",
      "       SDG10       0.83      1.00      0.91         5\n",
      "       SDG12       1.00      0.33      0.50         6\n",
      "       SDG13       0.88      0.96      0.92        23\n",
      "        SDG3       0.94      0.97      0.96        34\n",
      "        SDG5       1.00      0.93      0.97        30\n",
      "        SDG7       0.33      1.00      0.50         1\n",
      "\n",
      "    accuracy                           0.92        99\n",
      "   macro avg       0.83      0.87      0.79        99\n",
      "weighted avg       0.94      0.92      0.92        99\n",
      "\n"
     ]
    }
   ],
   "source": [
    "print(classification_report(y_true=y_val,\n",
    "                            y_pred=y_test_pred_sdg))"
   ]
  },
  {
   "cell_type": "code",
   "execution_count": 61,
   "metadata": {},
   "outputs": [],
   "source": [
    "import matplotlib.pyplot as plt"
   ]
  },
  {
   "cell_type": "code",
   "execution_count": 62,
   "metadata": {},
   "outputs": [
    {
     "data": {
      "image/png": "[encoded data removed]",
      "text/plain": [
       "<Figure size 432x288 with 1 Axes>"
      ]
     },
     "metadata": {
      "needs_background": "light"
     },
     "output_type": "display_data"
    },
    {
     "data": {
      "image/png": "[encoded data removed]",
      "text/plain": [
       "<Figure size 432x288 with 1 Axes>"
      ]
     },
     "metadata": {
      "needs_background": "light"
     },
     "output_type": "display_data"
    }
   ],
   "source": [
    "#Let's put your model evaluation into perspective and plot the accuracy and loss plots between training and validation data:\n",
    "\n",
    "accuracy = history.history['accuracy']\n",
    "val_accuracy = history.history['val_accuracy']\n",
    "loss =history.history['loss']\n",
    "val_loss = history.history['val_loss']\n",
    "epochs = range(len(accuracy))\n",
    "plt.plot(epochs, accuracy, 'bo', label='Training accuracy')\n",
    "plt.plot(epochs, val_accuracy, 'b', label='Validation accuracy')\n",
    "plt.title('Training and validation accuracy')\n",
    "plt.legend()\n",
    "plt.figure()\n",
    "plt.plot(epochs, loss, 'bo', label='Training loss')\n",
    "plt.plot(epochs, val_loss, 'b', label='Validation loss')\n",
    "plt.title('Training and validation loss')\n",
    "plt.legend()\n",
    "plt.show()"
   ]
  },
  {
   "cell_type": "code",
   "execution_count": 63,
   "metadata": {},
   "outputs": [],
   "source": [
    "from scipy import interp\n",
    "from itertools import cycle\n",
    "from sklearn.metrics import roc_curve\n",
    "from sklearn.metrics import auc\n",
    "\n",
    "\n",
    "def plot_multi_class_roc_auc_curves(nb_classes, y_true, y_pred_score, lw: int = 2):\n",
    "    \"\"\"\n",
    "    ROC, AUC for a categorical classifier\n",
    "    \n",
    "    ROC curve extends to problems with three or more classes with what is known as the one-vs-all approach.\n",
    "    For instance, if we have three classes, we will create three ROC curves,\n",
    "\n",
    "    For each class, we take it as the positive class and group the rest classes jointly as the negative class.\n",
    "\n",
    "    Class 1 vs classes 2&3\n",
    "    Class 2 vs classes 1&3\n",
    "    Class 3 vs classes 1&2\n",
    "\n",
    "    :param nb_classes:\n",
    "    :param y_true:\n",
    "    :param y_pred_score:\n",
    "    :param lw:\n",
    "    :return:\n",
    "    \"\"\"\n",
    "\n",
    "    # Compute ROC curve and ROC area for each class\n",
    "    fpr = dict()\n",
    "    tpr = dict()\n",
    "    roc_auc = dict()\n",
    "\n",
    "    for i in range(nb_classes):\n",
    "        fpr[i], tpr[i], _ = roc_curve(y_true[:, i], y_pred_score[:, i])\n",
    "\n",
    "        roc_auc[i] = auc(fpr[i], tpr[i])\n",
    "\n",
    "    # Compute micro-average ROC curve and ROC area\n",
    "    fpr[\"micro\"], tpr[\"micro\"], _ = roc_curve(y_true.ravel(), y_pred_score.ravel())\n",
    "\n",
    "    roc_auc[\"micro\"] = auc(fpr[\"micro\"], tpr[\"micro\"])\n",
    "\n",
    "    # Compute macro-average ROC curve and ROC area\n",
    "\n",
    "    # First aggregate all false positive rates\n",
    "    all_fpr = np.unique(np.concatenate([fpr[i] for i in range(nb_classes)]))\n",
    "\n",
    "    # Then interpolate all ROC curves at this points\n",
    "    mean_tpr = np.zeros_like(all_fpr)\n",
    "\n",
    "    for i in range(nb_classes):\n",
    "        mean_tpr += interp(all_fpr, fpr[i], tpr[i])\n",
    "\n",
    "    # Finally average it and compute AUC\n",
    "    mean_tpr /= nb_classes\n",
    "\n",
    "    fpr[\"macro\"] = all_fpr\n",
    "    tpr[\"macro\"] = mean_tpr\n",
    "    roc_auc[\"macro\"] = auc(fpr[\"macro\"], tpr[\"macro\"])\n",
    "\n",
    "    # Plot all ROC curves\n",
    "    plt.figure(1)\n",
    "    plt.plot(fpr[\"micro\"],\n",
    "             tpr[\"micro\"],\n",
    "             label='micro-average ROC curve (area = {0:0.2f})'.format(roc_auc[\"micro\"]),\n",
    "             color='deeppink',\n",
    "             linestyle=':',\n",
    "             linewidth=4)\n",
    "\n",
    "    plt.plot(fpr[\"macro\"],\n",
    "             tpr[\"macro\"],\n",
    "             label='macro-average ROC curve (area = {0:0.2f})'.format(roc_auc[\"macro\"]),\n",
    "             color='navy',\n",
    "             linestyle=':',\n",
    "             linewidth=4)\n",
    "\n",
    "    colors = cycle(['aqua',\n",
    "                    'darkorange',\n",
    "                    'cornflowerblue'])\n",
    "\n",
    "    for i, color in zip(range(nb_classes), colors):\n",
    "        plt.plot(fpr[i],\n",
    "                 tpr[i],\n",
    "                 color=color,\n",
    "                 lw=lw,\n",
    "                 label='ROC curve of class {0} (area = {1:0.2f})'.format(i, roc_auc[i]))\n",
    "\n",
    "    plt.plot([0, 1],\n",
    "             [0, 1],\n",
    "             'k--',\n",
    "             lw=lw)\n",
    "\n",
    "    plt.xlim([0.0, 1.0])\n",
    "    plt.ylim([0.0, 1.05])\n",
    "\n",
    "    plt.xlabel('False Positive Rate')\n",
    "    plt.ylabel('True Positive Rate')\n",
    "\n",
    "    plt.title('Some extension of Receiver operating characteristic to multi-class')\n",
    "    plt.legend(loc=\"lower right\")\n",
    "    # plt.show()\n",
    "\n",
    "    # Zoom in view of the upper left corner.\n",
    "    plt.figure(2)\n",
    "    plt.xlim(0, 0.2)\n",
    "    plt.ylim(0.7, 1)\n",
    "\n",
    "    plt.plot(fpr[\"micro\"],\n",
    "             tpr[\"micro\"],\n",
    "             label='micro-average ROC curve (area = {0:0.2f})'.format(roc_auc[\"micro\"]),\n",
    "             color='deeppink',\n",
    "             linestyle=':',\n",
    "             linewidth=4)\n",
    "\n",
    "    plt.plot(fpr[\"macro\"],\n",
    "             tpr[\"macro\"],\n",
    "             label='macro-average ROC curve (area = {0:0.2f})'.format(roc_auc[\"macro\"]),\n",
    "             color='navy',\n",
    "             linestyle=':',\n",
    "             linewidth=4)\n",
    "\n",
    "    colors = cycle(['aqua',\n",
    "                    'darkorange',\n",
    "                    'cornflowerblue'])\n",
    "\n",
    "    for i, color in zip(range(nb_classes), colors):\n",
    "        plt.plot(fpr[i],\n",
    "                 tpr[i],\n",
    "                 color=color,\n",
    "                 lw=lw,\n",
    "                 label='ROC curve of class {0} (area = {1:0.2f})'.format(i, roc_auc[i]))\n",
    "\n",
    "    plt.plot([0, 1],\n",
    "             [0, 1],\n",
    "             'k--', lw=lw)\n",
    "\n",
    "    plt.xlabel('False Positive Rate')\n",
    "    plt.ylabel('True Positive Rate')\n",
    "    plt.title('Some extension of Receiver operating characteristic to multi-class')\n",
    "    plt.legend(loc=\"lower right\")\n",
    "    plt.show()"
   ]
  },
  {
   "cell_type": "code",
   "execution_count": 64,
   "metadata": {},
   "outputs": [
    {
     "name": "stderr",
     "output_type": "stream",
     "text": [
      "<ipython-input-63-352507b3f73f>:51: DeprecationWarning: scipy.interp is deprecated and will be removed in SciPy 2.0.0, use numpy.interp instead\n",
      "  mean_tpr += interp(all_fpr, fpr[i], tpr[i])\n"
     ]
    },
    {
     "data": {
      "image/png": "[encoded data removed]",
      "text/plain": [
       "<Figure size 432x288 with 1 Axes>"
      ]
     },
     "metadata": {
      "needs_background": "light"
     },
     "output_type": "display_data"
    },
    {
     "data": {
      "image/png": "[encoded data removed]",
      "text/plain": [
       "<Figure size 432x288 with 1 Axes>"
      ]
     },
     "metadata": {
      "needs_background": "light"
     },
     "output_type": "display_data"
    }
   ],
   "source": [
    "plot_multi_class_roc_auc_curves(nb_classes=6,\n",
    "                                y_true=y_val_enc,\n",
    "                                y_pred_score=y_test_pred_probs)"
   ]
  },
  {
   "cell_type": "code",
   "execution_count": 65,
   "metadata": {},
   "outputs": [
    {
     "name": "stdout",
     "output_type": "stream",
     "text": [
      "[[ 5  0  0  0  0  0]\n",
      " [ 1  2  1  0  0  2]\n",
      " [ 0  0 22  1  0  0]\n",
      " [ 0  0  1 33  0  0]\n",
      " [ 0  0  1  1 28  0]\n",
      " [ 0  0  0  0  0  1]]\n"
     ]
    }
   ],
   "source": [
    "print(confusion_matrix(y_true=y_val, y_pred=y_test_pred_sdg))"
   ]
  },
  {
   "cell_type": "code",
   "execution_count": 66,
   "metadata": {},
   "outputs": [],
   "source": [
    "from typing import List, Tuple\n",
    "\n",
    "def print_confusion_matrix(y_true,\n",
    "                           y_pred,\n",
    "                           class_names: List[str],\n",
    "                           figsize: Tuple[int, int] = (10, 7),\n",
    "                           fontsize: int = 14) -> pd.DataFrame:\n",
    "    \"\"\"\n",
    "    Prints a confusion matrix, as returned by sklearn.metrics.confusion_matrix, as a heat-map.\n",
    "\n",
    "    For something more extraordinary check this repo:\n",
    "    https://github.com/wcipriano/pretty-print-confusion-matrix\n",
    "\n",
    "\n",
    "    :param class_names:  An ordered list of class names\n",
    "    :param figsize: A 2-long tuple, the first value determining the horizontal size of the outputted\n",
    "                    figure, the second determining the vertical size. Defaults to (10,7).\n",
    "    :param fontsize: Font size for axes labels. Defaults to 14.\n",
    "    :return: The confusion matrix as a dataset\n",
    "    \"\"\"\n",
    "    conf_matrix = confusion_matrix(y_true=y_true, y_pred=y_pred)\n",
    "\n",
    "    df_cm = pd.DataFrame(conf_matrix, index=class_names, columns=class_names)\n",
    "\n",
    "    fig = plt.figure(figsize=figsize)\n",
    "\n",
    "    try:\n",
    "        heatmap = sns.heatmap(df_cm, annot=True, fmt=\"d\")\n",
    "\n",
    "    except ValueError:\n",
    "\n",
    "        raise ValueError(\"Confusion matrix values must be integers.\")\n",
    "\n",
    "    heatmap.yaxis.set_ticklabels(heatmap.yaxis.get_ticklabels(),\n",
    "                                 rotation=0,\n",
    "                                 ha='right',\n",
    "                                 fontsize=fontsize)\n",
    "\n",
    "    heatmap.xaxis.set_ticklabels(heatmap.xaxis.get_ticklabels(),\n",
    "                                 rotation=45,\n",
    "                                 ha='right',\n",
    "                                 fontsize=fontsize)\n",
    "\n",
    "    plt.ylabel('True label')\n",
    "    plt.xlabel('Predicted label')\n",
    "    plt.show()\n",
    "\n",
    "    return df_cm"
   ]
  },
  {
   "cell_type": "code",
   "execution_count": 67,
   "metadata": {},
   "outputs": [],
   "source": [
    "from sklearn import preprocessing\n",
    "lb = preprocessing.LabelBinarizer()\n",
    "y_test_binarize = lb.fit_transform(y_val_enc)"
   ]
  },
  {
   "cell_type": "code",
   "execution_count": 68,
   "metadata": {},
   "outputs": [
    {
     "data": {
      "text/plain": [
       "array([[0, 0, 0, 0, 0, 1],\n",
       "       [1, 0, 0, 0, 0, 0],\n",
       "       [1, 0, 0, 0, 0, 0],\n",
       "       [1, 0, 0, 0, 0, 0],\n",
       "       [1, 0, 0, 0, 0, 0],\n",
       "       [1, 0, 0, 0, 0, 0],\n",
       "       [0, 1, 0, 0, 0, 0],\n",
       "       [0, 1, 0, 0, 0, 0],\n",
       "       [0, 1, 0, 0, 0, 0],\n",
       "       [0, 1, 0, 0, 0, 0],\n",
       "       [0, 1, 0, 0, 0, 0],\n",
       "       [0, 1, 0, 0, 0, 0],\n",
       "       [0, 0, 0, 0, 1, 0],\n",
       "       [0, 0, 0, 0, 1, 0],\n",
       "       [0, 0, 0, 0, 1, 0],\n",
       "       [0, 0, 0, 0, 1, 0],\n",
       "       [0, 0, 0, 0, 1, 0],\n",
       "       [0, 0, 0, 0, 1, 0],\n",
       "       [0, 0, 0, 0, 1, 0],\n",
       "       [0, 0, 0, 0, 1, 0],\n",
       "       [0, 0, 0, 0, 1, 0],\n",
       "       [0, 0, 0, 0, 1, 0],\n",
       "       [0, 0, 0, 0, 1, 0],\n",
       "       [0, 0, 0, 0, 1, 0],\n",
       "       [0, 0, 0, 0, 1, 0],\n",
       "       [0, 0, 0, 0, 1, 0],\n",
       "       [0, 0, 0, 0, 1, 0],\n",
       "       [0, 0, 0, 0, 1, 0],\n",
       "       [0, 0, 0, 0, 1, 0],\n",
       "       [0, 0, 0, 0, 1, 0],\n",
       "       [0, 0, 0, 0, 1, 0],\n",
       "       [0, 0, 0, 0, 1, 0],\n",
       "       [0, 0, 0, 0, 1, 0],\n",
       "       [0, 0, 0, 0, 1, 0],\n",
       "       [0, 0, 0, 0, 1, 0],\n",
       "       [0, 0, 0, 0, 1, 0],\n",
       "       [0, 0, 0, 0, 1, 0],\n",
       "       [0, 0, 0, 0, 1, 0],\n",
       "       [0, 0, 0, 1, 0, 0],\n",
       "       [0, 0, 0, 1, 0, 0],\n",
       "       [0, 0, 0, 1, 0, 0],\n",
       "       [0, 0, 0, 1, 0, 0],\n",
       "       [0, 0, 0, 1, 0, 0],\n",
       "       [0, 0, 0, 1, 0, 0],\n",
       "       [0, 0, 0, 1, 0, 0],\n",
       "       [0, 0, 0, 1, 0, 0],\n",
       "       [0, 0, 0, 1, 0, 0],\n",
       "       [0, 0, 0, 1, 0, 0],\n",
       "       [0, 0, 0, 1, 0, 0],\n",
       "       [0, 0, 0, 1, 0, 0],\n",
       "       [0, 0, 0, 1, 0, 0],\n",
       "       [0, 0, 0, 1, 0, 0],\n",
       "       [0, 0, 0, 1, 0, 0],\n",
       "       [0, 0, 0, 1, 0, 0],\n",
       "       [0, 0, 0, 1, 0, 0],\n",
       "       [0, 0, 0, 1, 0, 0],\n",
       "       [0, 0, 0, 1, 0, 0],\n",
       "       [0, 0, 0, 1, 0, 0],\n",
       "       [0, 0, 0, 1, 0, 0],\n",
       "       [0, 0, 0, 1, 0, 0],\n",
       "       [0, 0, 0, 1, 0, 0],\n",
       "       [0, 0, 0, 1, 0, 0],\n",
       "       [0, 0, 0, 1, 0, 0],\n",
       "       [0, 0, 0, 1, 0, 0],\n",
       "       [0, 0, 0, 1, 0, 0],\n",
       "       [0, 0, 0, 1, 0, 0],\n",
       "       [0, 0, 0, 1, 0, 0],\n",
       "       [0, 0, 0, 1, 0, 0],\n",
       "       [0, 0, 0, 1, 0, 0],\n",
       "       [0, 0, 0, 1, 0, 0],\n",
       "       [0, 0, 0, 0, 1, 0],\n",
       "       [0, 0, 0, 0, 1, 0],\n",
       "       [0, 0, 0, 0, 1, 0],\n",
       "       [0, 0, 0, 0, 1, 0],\n",
       "       [0, 0, 1, 0, 0, 0],\n",
       "       [0, 0, 1, 0, 0, 0],\n",
       "       [0, 0, 1, 0, 0, 0],\n",
       "       [0, 0, 1, 0, 0, 0],\n",
       "       [0, 0, 1, 0, 0, 0],\n",
       "       [0, 0, 1, 0, 0, 0],\n",
       "       [0, 0, 1, 0, 0, 0],\n",
       "       [0, 0, 1, 0, 0, 0],\n",
       "       [0, 0, 1, 0, 0, 0],\n",
       "       [0, 0, 1, 0, 0, 0],\n",
       "       [0, 0, 1, 0, 0, 0],\n",
       "       [0, 0, 1, 0, 0, 0],\n",
       "       [0, 0, 1, 0, 0, 0],\n",
       "       [0, 0, 1, 0, 0, 0],\n",
       "       [0, 0, 1, 0, 0, 0],\n",
       "       [0, 0, 1, 0, 0, 0],\n",
       "       [0, 0, 1, 0, 0, 0],\n",
       "       [0, 0, 0, 1, 0, 0],\n",
       "       [0, 0, 0, 1, 0, 0],\n",
       "       [0, 0, 1, 0, 0, 0],\n",
       "       [0, 0, 1, 0, 0, 0],\n",
       "       [0, 0, 1, 0, 0, 0],\n",
       "       [0, 0, 1, 0, 0, 0],\n",
       "       [0, 0, 1, 0, 0, 0],\n",
       "       [0, 0, 1, 0, 0, 0]])"
      ]
     },
     "execution_count": 68,
     "metadata": {},
     "output_type": "execute_result"
    }
   ],
   "source": [
    "y_test_transformed = lb.inverse_transform(y_val_enc)\n",
    "y_test_transformed"
   ]
  },
  {
   "cell_type": "code",
   "execution_count": 69,
   "metadata": {},
   "outputs": [],
   "source": [
    "from sklearn.metrics import confusion_matrix, classification_report"
   ]
  },
  {
   "cell_type": "code",
   "execution_count": 70,
   "metadata": {},
   "outputs": [
    {
     "name": "stdout",
     "output_type": "stream",
     "text": [
      "              precision    recall  f1-score   support\n",
      "\n",
      "       SDG10       0.83      1.00      0.91         5\n",
      "       SDG12       1.00      0.33      0.50         6\n",
      "       SDG13       0.88      0.96      0.92        23\n",
      "        SDG3       0.94      0.97      0.96        34\n",
      "        SDG5       1.00      0.93      0.97        30\n",
      "        SDG7       0.33      1.00      0.50         1\n",
      "\n",
      "    accuracy                           0.92        99\n",
      "   macro avg       0.83      0.87      0.79        99\n",
      "weighted avg       0.94      0.92      0.92        99\n",
      "\n"
     ]
    }
   ],
   "source": [
    "print(classification_report(y_true=y_val,\n",
    "                            y_pred=y_test_pred_sdg))"
   ]
  },
  {
   "cell_type": "code",
   "execution_count": 71,
   "metadata": {},
   "outputs": [
    {
     "data": {
      "image/png": "[encoded data removed]",
      "text/plain": [
       "<Figure size 720x504 with 2 Axes>"
      ]
     },
     "metadata": {
      "needs_background": "light"
     },
     "output_type": "display_data"
    },
    {
     "data": {
      "text/html": [
       "<div>\n",
       "<style scoped>\n",
       "    .dataframe tbody tr th:only-of-type {\n",
       "        vertical-align: middle;\n",
       "    }\n",
       "\n",
       "    .dataframe tbody tr th {\n",
       "        vertical-align: top;\n",
       "    }\n",
       "\n",
       "    .dataframe thead th {\n",
       "        text-align: right;\n",
       "    }\n",
       "</style>\n",
       "<table border=\"1\" class=\"dataframe\">\n",
       "  <thead>\n",
       "    <tr style=\"text-align: right;\">\n",
       "      <th></th>\n",
       "      <th>SDG10</th>\n",
       "      <th>SDG12</th>\n",
       "      <th>SDG13</th>\n",
       "      <th>SDG3</th>\n",
       "      <th>SDG5</th>\n",
       "      <th>SDG7</th>\n",
       "    </tr>\n",
       "  </thead>\n",
       "  <tbody>\n",
       "    <tr>\n",
       "      <th>SDG10</th>\n",
       "      <td>5</td>\n",
       "      <td>0</td>\n",
       "      <td>0</td>\n",
       "      <td>0</td>\n",
       "      <td>0</td>\n",
       "      <td>0</td>\n",
       "    </tr>\n",
       "    <tr>\n",
       "      <th>SDG12</th>\n",
       "      <td>1</td>\n",
       "      <td>2</td>\n",
       "      <td>1</td>\n",
       "      <td>0</td>\n",
       "      <td>0</td>\n",
       "      <td>2</td>\n",
       "    </tr>\n",
       "    <tr>\n",
       "      <th>SDG13</th>\n",
       "      <td>0</td>\n",
       "      <td>0</td>\n",
       "      <td>22</td>\n",
       "      <td>1</td>\n",
       "      <td>0</td>\n",
       "      <td>0</td>\n",
       "    </tr>\n",
       "    <tr>\n",
       "      <th>SDG3</th>\n",
       "      <td>0</td>\n",
       "      <td>0</td>\n",
       "      <td>1</td>\n",
       "      <td>33</td>\n",
       "      <td>0</td>\n",
       "      <td>0</td>\n",
       "    </tr>\n",
       "    <tr>\n",
       "      <th>SDG5</th>\n",
       "      <td>0</td>\n",
       "      <td>0</td>\n",
       "      <td>1</td>\n",
       "      <td>1</td>\n",
       "      <td>28</td>\n",
       "      <td>0</td>\n",
       "    </tr>\n",
       "    <tr>\n",
       "      <th>SDG7</th>\n",
       "      <td>0</td>\n",
       "      <td>0</td>\n",
       "      <td>0</td>\n",
       "      <td>0</td>\n",
       "      <td>0</td>\n",
       "      <td>1</td>\n",
       "    </tr>\n",
       "  </tbody>\n",
       "</table>\n",
       "</div>"
      ],
      "text/plain": [
       "       SDG10  SDG12  SDG13  SDG3  SDG5  SDG7\n",
       "SDG10      5      0      0     0     0     0\n",
       "SDG12      1      2      1     0     0     2\n",
       "SDG13      0      0     22     1     0     0\n",
       "SDG3       0      0      1    33     0     0\n",
       "SDG5       0      0      1     1    28     0\n",
       "SDG7       0      0      0     0     0     1"
      ]
     },
     "execution_count": 71,
     "metadata": {},
     "output_type": "execute_result"
    }
   ],
   "source": [
    "import seaborn as sns\n",
    "\n",
    "print_confusion_matrix(y_true=np.argmax(y_test_transformed,axis = 1),\n",
    "                           y_pred=y_test_preds,\n",
    "                           class_names=['SDG10', 'SDG12', 'SDG13', 'SDG3', 'SDG5', 'SDG7'])"
   ]
  },
  {
   "cell_type": "code",
   "execution_count": 72,
   "metadata": {},
   "outputs": [
    {
     "name": "stdout",
     "output_type": "stream",
     "text": [
      "(1, 250)\n",
      "\n",
      "Probabilities\n",
      "\n",
      "[[0.01630697 0.03721366 0.8322217  0.04080423 0.02990687 0.04354658]]\n",
      "\n",
      "Probabilities One Hot Vector\n",
      "\n",
      "[[0. 0. 1. 0. 0. 0.]]\n",
      "\n",
      "SDG Prediction:\n",
      "\n",
      "SDG13\n"
     ]
    }
   ],
   "source": [
    "# Predicting a single title\n",
    "\n",
    "input_title = \"\"\"\n",
    "Protecting the environment via new machine learning techniques\n",
    "\"\"\"\n",
    "\n",
    "# vectorizing titles with Count Vectorizer\n",
    "title_vect = counter_vectorizer.transform([input_title])\n",
    "\n",
    "print(title_vect.shape, end='\\n\\n')\n",
    "\n",
    "title_pred = model.predict(title_vect)\n",
    "\n",
    "print('Probabilities', end='\\n\\n')\n",
    "print(title_pred, end='\\n\\n')\n",
    "\n",
    "title_pred_hot = get_one_hot_predictions(title_pred)\n",
    "\n",
    "print('Probabilities One Hot Vector', end='\\n\\n')\n",
    "print(title_pred_hot, end='\\n\\n')\n",
    "\n",
    "print('SDG Prediction:', end='\\n\\n')\n",
    "print(y_enc.inverse_transform(title_pred_hot)[0][0])"
   ]
  },
  {
   "cell_type": "code",
   "execution_count": 73,
   "metadata": {},
   "outputs": [
    {
     "name": "stdout",
     "output_type": "stream",
     "text": [
      "WARNING:tensorflow:From C:\\Users\\arisp\\anaconda3\\lib\\site-packages\\tensorflow\\python\\training\\tracking\\tracking.py:111: Model.state_updates (from tensorflow.python.keras.engine.training) is deprecated and will be removed in a future version.\n",
      "Instructions for updating:\n",
      "This property should not be used in TensorFlow 2.0, as updates are applied automatically.\n",
      "WARNING:tensorflow:From C:\\Users\\arisp\\anaconda3\\lib\\site-packages\\tensorflow\\python\\training\\tracking\\tracking.py:111: Layer.updates (from tensorflow.python.keras.engine.base_layer) is deprecated and will be removed in a future version.\n",
      "Instructions for updating:\n",
      "This property should not be used in TensorFlow 2.0, as updates are applied automatically.\n",
      "INFO:tensorflow:Assets written to: C:\\Users\\arisp\\AppData\\Local\\Temp\\tmp2admn5r6\\MLP_title_model_weights\\assets\n"
     ]
    }
   ],
   "source": [
    "import os\n",
    "import tempfile\n",
    "import tensorflow as tf\n",
    "\n",
    "tmpdir = tempfile.mkdtemp()\n",
    "\n",
    "title_save_path = os.path.join(tmpdir, \"MLP_title_model_weights\")\n",
    "tf.saved_model.save(model, title_save_path)"
   ]
  },
  {
   "cell_type": "code",
   "execution_count": 75,
   "metadata": {},
   "outputs": [
    {
     "name": "stdout",
     "output_type": "stream",
     "text": [
      "['serving_default']\n"
     ]
    }
   ],
   "source": [
    "loaded = tf.saved_model.load(title_save_path)\n",
    "print(list(loaded.signatures.keys()))"
   ]
  }
 ],
 "metadata": {
  "kernelspec": {
   "display_name": "Python 3",
   "language": "python",
   "name": "python3"
  },
  "language_info": {
   "codemirror_mode": {
    "name": "ipython",
    "version": 3
   },
   "file_extension": ".py",
   "mimetype": "text/x-python",
   "name": "python",
   "nbconvert_exporter": "python",
   "pygments_lexer": "ipython3",
   "version": "3.8.3"
  }
 },
 "nbformat": 4,
 "nbformat_minor": 4
}
