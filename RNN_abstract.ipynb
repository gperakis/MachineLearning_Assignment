{
 "cells": [
  {
   "cell_type": "code",
   "execution_count": 1,
   "metadata": {},
   "outputs": [],
   "source": [
    "from __future__ import print_function\n",
    "\n",
    "import re\n",
    "import tarfile\n",
    "from pathlib import Path\n",
    "from time import time\n",
    "from functools import reduce\n",
    "from pprint import pprint\n",
    "from typing import List, Tuple\n",
    "from sklearn.metrics import confusion_matrix\n",
    "from sklearn.metrics import roc_curve, auc\n",
    "from sklearn.model_selection import train_test_split\n",
    "from sklearn.preprocessing import LabelBinarizer\n",
    "import numpy as np\n",
    "import pandas as pd\n",
    "from tensorflow.python.keras import layers\n",
    "from tensorflow.python.keras.layers import recurrent, Input, Embedding, RepeatVector, Dropout, Dense, LSTM\n",
    "from tensorflow.python.keras.models import Model\n",
    "from tensorflow.python.keras.preprocessing.text import Tokenizer\n",
    "from tensorflow.python.keras.preprocessing.sequence import pad_sequences\n",
    "from tensorflow.python.keras.utils.data_utils import get_file\n",
    "from tqdm import tqdm"
   ]
  },
  {
   "cell_type": "code",
   "execution_count": 4,
   "metadata": {},
   "outputs": [],
   "source": [
    "#import the already preprocessed dataset \n",
    "sdg_df  = pd.read_csv('sdg_classification_data.csv')\n",
    "validation_df = pd.read_csv('validation_dataset.csv')"
   ]
  },
  {
   "cell_type": "markdown",
   "metadata": {},
   "source": [
    "LSTM - Set parameters "
   ]
  },
  {
   "cell_type": "code",
   "execution_count": 5,
   "metadata": {},
   "outputs": [
    {
     "name": "stdout",
     "output_type": "stream",
     "text": [
      "Found 2696 unique tokens.\n"
     ]
    }
   ],
   "source": [
    "# Max number of words to be used\n",
    "MAX_NB_WORDS = 50000\n",
    "# Max number of words in each sdg row.\n",
    "MAX_SEQUENCE_LENGTH = 400\n",
    "# This is fixed.\n",
    "EMBEDDING_DIM = 100\n",
    "tokenizer = Tokenizer(num_words=MAX_NB_WORDS, filters='!\"#$%&()*+,-./:;<=>?@[\\]^_`{|}~', lower=True)\n",
    "tokenizer.fit_on_texts(sdg_df['extracted_title'].astype(str).values)\n",
    "word_index = tokenizer.word_index\n",
    "print('Found %s unique tokens.' % len(word_index))"
   ]
  },
  {
   "cell_type": "code",
   "execution_count": 6,
   "metadata": {},
   "outputs": [
    {
     "name": "stdout",
     "output_type": "stream",
     "text": [
      "Sequences input length: (889, 400)\n"
     ]
    }
   ],
   "source": [
    "#transform them to have the same length for modeling\n",
    "X_abstract = tokenizer.texts_to_sequences(sdg_df['extracted_abstract'].astype(str).values)\n",
    "X_abstract = pad_sequences(X_abstract, maxlen=MAX_SEQUENCE_LENGTH)\n",
    "print('Sequences input length:', X_abstract.shape)"
   ]
  },
  {
   "cell_type": "code",
   "execution_count": 7,
   "metadata": {},
   "outputs": [
    {
     "name": "stdout",
     "output_type": "stream",
     "text": [
      "Shape of categorical variables: (889, 6)\n"
     ]
    }
   ],
   "source": [
    "Y = pd.get_dummies(sdg_df['sdg']).values\n",
    "print('Shape of categorical variables:', Y.shape)"
   ]
  },
  {
   "cell_type": "code",
   "execution_count": 8,
   "metadata": {},
   "outputs": [
    {
     "name": "stdout",
     "output_type": "stream",
     "text": [
      "(800, 400) (800, 6)\n",
      "(89, 400) (89, 6)\n"
     ]
    }
   ],
   "source": [
    "#split our dataset\n",
    "from sklearn.model_selection import train_test_split\n",
    "\n",
    "X_abstract_train, X_abstract_test, Y_train, Y_test = train_test_split(X_abstract,Y, test_size = 0.10, random_state = 42)\n",
    "print(X_abstract_train.shape,Y_train.shape)\n",
    "print(X_abstract_test.shape,Y_test.shape)"
   ]
  },
  {
   "cell_type": "code",
   "execution_count": 9,
   "metadata": {},
   "outputs": [
    {
     "name": "stdout",
     "output_type": "stream",
     "text": [
      "Model: \"sequential\"\n",
      "_________________________________________________________________\n",
      "Layer (type)                 Output Shape              Param #   \n",
      "=================================================================\n",
      "embedding (Embedding)        (None, 400, 100)          5000000   \n",
      "_________________________________________________________________\n",
      "lstm (LSTM)                  (None, 100)               80400     \n",
      "_________________________________________________________________\n",
      "dense (Dense)                (None, 6)                 606       \n",
      "=================================================================\n",
      "Total params: 5,081,006\n",
      "Trainable params: 5,081,006\n",
      "Non-trainable params: 0\n",
      "_________________________________________________________________\n"
     ]
    }
   ],
   "source": [
    "import keras\n",
    "from keras.models import Sequential\n",
    "from keras.layers import SpatialDropout1D \n",
    "from tensorflow.python.keras.callbacks import EarlyStopping\n",
    "\n",
    "model = Sequential()\n",
    "model.add(Embedding(MAX_NB_WORDS, EMBEDDING_DIM, input_length=X_abstract.shape[1]))\n",
    "model.add(LSTM(100, dropout=0.2, recurrent_dropout=0.2))\n",
    "model.add(Dense(6, activation='softmax'))\n",
    "model.compile(loss='categorical_crossentropy', optimizer='adam', metrics=['accuracy'])\n",
    "model.summary()\n",
    "epochs = 5\n",
    "batch_size = 64\n"
   ]
  },
  {
   "cell_type": "code",
   "execution_count": 10,
   "metadata": {},
   "outputs": [
    {
     "name": "stdout",
     "output_type": "stream",
     "text": [
      "Epoch 1/5\n",
      "12/12 [==============================] - 21s 2s/step - loss: 1.7403 - accuracy: 0.3319 - val_loss: 1.5223 - val_accuracy: 0.2125\n",
      "Epoch 2/5\n",
      "12/12 [==============================] - 22s 2s/step - loss: 1.4746 - accuracy: 0.3542 - val_loss: 1.4245 - val_accuracy: 0.3625\n",
      "Epoch 3/5\n",
      "12/12 [==============================] - 21s 2s/step - loss: 1.2824 - accuracy: 0.4583 - val_loss: 1.1905 - val_accuracy: 0.4250\n",
      "Epoch 4/5\n",
      "12/12 [==============================] - 21s 2s/step - loss: 1.0288 - accuracy: 0.6069 - val_loss: 0.9503 - val_accuracy: 0.8000\n",
      "Epoch 5/5\n",
      "12/12 [==============================] - 22s 2s/step - loss: 0.8034 - accuracy: 0.7306 - val_loss: 1.0130 - val_accuracy: 0.5500\n"
     ]
    }
   ],
   "source": [
    "\n",
    "model_train = model.fit(X_abstract_train, Y_train,\n",
    "                    epochs=epochs,\n",
    "                    batch_size=batch_size,\n",
    "                    validation_split=0.1,\n",
    "                    callbacks=[EarlyStopping(monitor='val_loss', patience=3, min_delta=0.0001)])"
   ]
  },
  {
   "cell_type": "code",
   "execution_count": 11,
   "metadata": {},
   "outputs": [
    {
     "name": "stdout",
     "output_type": "stream",
     "text": [
      "2/2 [==============================] - 0s 36ms/step - loss: 1.0243 - accuracy: 0.5955\n"
     ]
    }
   ],
   "source": [
    "#Model Evaluation on the Test Set\n",
    "test_eval = model.evaluate(\n",
    "    X_abstract_test,                  # features\n",
    "    Y_test,                  # labels\n",
    "    batch_size=64,   # batch size\n",
    "    verbose=1                # the most extended verbose\n",
    ")\n"
   ]
  },
  {
   "cell_type": "code",
   "execution_count": 12,
   "metadata": {},
   "outputs": [
    {
     "name": "stdout",
     "output_type": "stream",
     "text": [
      "Test loss: 1.0243463516235352\n",
      "Test accuracy: 0.5955055952072144\n"
     ]
    }
   ],
   "source": [
    "print('Test loss:', test_eval[0])\n",
    "print('Test accuracy:', test_eval[1])"
   ]
  },
  {
   "cell_type": "code",
   "execution_count": 13,
   "metadata": {},
   "outputs": [],
   "source": [
    "import matplotlib.pyplot as plt"
   ]
  },
  {
   "cell_type": "code",
   "execution_count": 14,
   "metadata": {},
   "outputs": [
    {
     "data": {
      "image/png": "[encoded data removed]",
      "text/plain": [
       "<Figure size 432x288 with 1 Axes>"
      ]
     },
     "metadata": {
      "needs_background": "light"
     },
     "output_type": "display_data"
    },
    {
     "data": {
      "image/png": "[encoded data removed]",
      "text/plain": [
       "<Figure size 432x288 with 1 Axes>"
      ]
     },
     "metadata": {
      "needs_background": "light"
     },
     "output_type": "display_data"
    }
   ],
   "source": [
    "#Let's put your model evaluation into perspective and plot the accuracy and loss plots between training and validation data:\n",
    "\n",
    "accuracy = model_train.history['accuracy']\n",
    "val_accuracy = model_train.history['val_accuracy']\n",
    "loss =model_train.history['loss']\n",
    "val_loss = model_train.history['val_loss']\n",
    "epochs = range(len(accuracy))\n",
    "plt.plot(epochs, accuracy, 'bo', label='Training accuracy')\n",
    "plt.plot(epochs, val_accuracy, 'b', label='Validation accuracy')\n",
    "plt.title('Training and validation accuracy')\n",
    "plt.legend()\n",
    "plt.figure()\n",
    "plt.plot(epochs, loss, 'bo', label='Training loss')\n",
    "plt.plot(epochs, val_loss, 'b', label='Validation loss')\n",
    "plt.title('Training and validation loss')\n",
    "plt.legend()\n",
    "plt.show()"
   ]
  },
  {
   "cell_type": "code",
   "execution_count": 15,
   "metadata": {},
   "outputs": [
    {
     "name": "stdout",
     "output_type": "stream",
     "text": [
      "Model: \"sequential_1\"\n",
      "_________________________________________________________________\n",
      "Layer (type)                 Output Shape              Param #   \n",
      "=================================================================\n",
      "embedding_1 (Embedding)      (None, 400, 100)          5000000   \n",
      "_________________________________________________________________\n",
      "spatial_dropout1d (SpatialDr (None, 400, 100)          0         \n",
      "_________________________________________________________________\n",
      "lstm_1 (LSTM)                (None, 100)               80400     \n",
      "_________________________________________________________________\n",
      "dense_1 (Dense)              (None, 6)                 606       \n",
      "=================================================================\n",
      "Total params: 5,081,006\n",
      "Trainable params: 5,081,006\n",
      "Non-trainable params: 0\n",
      "_________________________________________________________________\n"
     ]
    }
   ],
   "source": [
    "import keras\n",
    "from keras.models import Sequential\n",
    "from keras.layers import SpatialDropout1D \n",
    "from tensorflow.python.keras.callbacks import EarlyStopping\n",
    "\n",
    "model = Sequential()\n",
    "model.add(Embedding(MAX_NB_WORDS, EMBEDDING_DIM, input_length=X_abstract.shape[1]))\n",
    "model.add(SpatialDropout1D(0.2))\n",
    "model.add(LSTM(100, dropout=0.2, recurrent_dropout=0.2))\n",
    "model.add(Dense(6, activation='softmax'))\n",
    "model.compile(loss='categorical_crossentropy', optimizer='adam', metrics=['accuracy'])\n",
    "model.summary()\n",
    "epochs = 5\n",
    "batch_size = 64"
   ]
  },
  {
   "cell_type": "code",
   "execution_count": 16,
   "metadata": {},
   "outputs": [
    {
     "name": "stdout",
     "output_type": "stream",
     "text": [
      "Epoch 1/5\n",
      "12/12 [==============================] - 22s 2s/step - loss: 1.7582 - accuracy: 0.3111 - val_loss: 1.6517 - val_accuracy: 0.3500\n",
      "Epoch 2/5\n",
      "12/12 [==============================] - 22s 2s/step - loss: 1.5143 - accuracy: 0.3486 - val_loss: 1.4336 - val_accuracy: 0.2125\n",
      "Epoch 3/5\n",
      "12/12 [==============================] - 21s 2s/step - loss: 1.2628 - accuracy: 0.4250 - val_loss: 1.1294 - val_accuracy: 0.5500\n",
      "Epoch 4/5\n",
      "12/12 [==============================] - 23s 2s/step - loss: 1.0276 - accuracy: 0.6806 - val_loss: 0.9415 - val_accuracy: 0.6875\n",
      "Epoch 5/5\n",
      "12/12 [==============================] - 23s 2s/step - loss: 0.8076 - accuracy: 0.7250 - val_loss: 0.6862 - val_accuracy: 0.8000\n"
     ]
    }
   ],
   "source": [
    "\n",
    "model_dropout_train = model.fit(X_abstract_train, Y_train,\n",
    "                    epochs=epochs,\n",
    "                    batch_size=batch_size,\n",
    "                    validation_split=0.1,\n",
    "                    callbacks=[EarlyStopping(monitor='val_loss', patience=3, min_delta=0.0001)])"
   ]
  },
  {
   "cell_type": "code",
   "execution_count": 17,
   "metadata": {},
   "outputs": [
    {
     "name": "stdout",
     "output_type": "stream",
     "text": [
      "2/2 [==============================] - 0s 37ms/step - loss: 0.7268 - accuracy: 0.7640\n"
     ]
    }
   ],
   "source": [
    "#Model Evaluation on the Test Set\n",
    "test_eval = model.evaluate(\n",
    "    X_abstract_test,                  # features\n",
    "    Y_test,                  # labels\n",
    "    batch_size=64,   # batch size\n",
    "    verbose=1                # the most extended verbose\n",
    ")\n"
   ]
  },
  {
   "cell_type": "code",
   "execution_count": 18,
   "metadata": {},
   "outputs": [
    {
     "name": "stdout",
     "output_type": "stream",
     "text": [
      "3/3 [==============================] - 0s 52ms/step - loss: 0.7268 - accuracy: 0.7640\n"
     ]
    },
    {
     "data": {
      "text/plain": [
       "[0.7267505526542664, 0.7640449404716492]"
      ]
     },
     "execution_count": 18,
     "metadata": {},
     "output_type": "execute_result"
    }
   ],
   "source": [
    "model_accuracy = model.evaluate(X_abstract_test,Y_test)\n",
    "model_accuracy"
   ]
  },
  {
   "cell_type": "code",
   "execution_count": 19,
   "metadata": {
    "scrolled": true
   },
   "outputs": [
    {
     "data": {
      "image/png": "[encoded data removed]",
      "text/plain": [
       "<Figure size 432x288 with 1 Axes>"
      ]
     },
     "metadata": {
      "needs_background": "light"
     },
     "output_type": "display_data"
    },
    {
     "data": {
      "image/png": "[encoded data removed]",
      "text/plain": [
       "<Figure size 432x288 with 1 Axes>"
      ]
     },
     "metadata": {
      "needs_background": "light"
     },
     "output_type": "display_data"
    }
   ],
   "source": [
    "#Let's put your model evaluation into perspective and plot the accuracy and loss plots between training and validation data:\n",
    "\n",
    "accuracy = model_dropout_train.history['accuracy']\n",
    "val_accuracy = model_dropout_train.history['val_accuracy']\n",
    "loss =model_dropout_train.history['loss']\n",
    "val_loss = model_dropout_train.history['val_loss']\n",
    "epochs = range(len(accuracy))\n",
    "plt.plot(epochs, accuracy, 'bo', label='Training accuracy')\n",
    "plt.plot(epochs, val_accuracy, 'b', label='Validation accuracy')\n",
    "plt.title('Training and validation accuracy')\n",
    "plt.legend()\n",
    "plt.figure()\n",
    "plt.plot(epochs, loss, 'bo', label='Training loss')\n",
    "plt.plot(epochs, val_loss, 'b', label='Validation loss')\n",
    "plt.title('Training and validation loss')\n",
    "plt.legend()\n",
    "plt.show()"
   ]
  },
  {
   "cell_type": "code",
   "execution_count": 20,
   "metadata": {},
   "outputs": [
    {
     "data": {
      "text/plain": [
       "array([[3.69617529e-02, 2.13423260e-02, 8.15201521e-01, 4.03749272e-02,\n",
       "        6.79209083e-02, 1.81986615e-02],\n",
       "       [1.16571064e-04, 1.18531061e-04, 3.78781930e-03, 7.20978916e-01,\n",
       "        2.74535984e-01, 4.62121126e-04],\n",
       "       [2.59798646e-01, 1.80746585e-01, 3.39712560e-01, 3.98396142e-02,\n",
       "        5.88445179e-02, 1.21058114e-01],\n",
       "       [9.05879206e-05, 9.17629659e-05, 3.36398464e-03, 7.93173552e-01,\n",
       "        2.02911347e-01, 3.68763896e-04],\n",
       "       [1.06699961e-04, 1.03122387e-04, 4.18757042e-03, 7.55879760e-01,\n",
       "        2.39324182e-01, 3.98612843e-04],\n",
       "       [3.97860975e-04, 3.75097356e-04, 7.90361315e-03, 4.03223842e-01,\n",
       "        5.86987197e-01, 1.11242442e-03],\n",
       "       [5.69415752e-05, 6.09197959e-05, 2.29797000e-03, 8.26498508e-01,\n",
       "        1.70819104e-01, 2.66548741e-04],\n",
       "       [2.79077067e-04, 2.61662120e-04, 5.26265800e-03, 2.79947579e-01,\n",
       "        7.13385820e-01, 8.63302965e-04],\n",
       "       [1.02346086e-04, 1.01721860e-04, 3.81869054e-03, 7.76829481e-01,\n",
       "        2.18743369e-01, 4.04373975e-04],\n",
       "       [9.35753633e-05, 9.65399668e-05, 3.37602990e-03, 7.97001541e-01,\n",
       "        1.99043557e-01, 3.88786779e-04],\n",
       "       [1.57063128e-04, 1.56710041e-04, 4.21538902e-03, 5.29266059e-01,\n",
       "        4.65595841e-01, 6.08911912e-04],\n",
       "       [4.67300937e-02, 2.69553345e-02, 8.23169649e-01, 3.26221734e-02,\n",
       "        4.97258902e-02, 2.07968522e-02],\n",
       "       [3.80296580e-04, 3.59034253e-04, 8.49601440e-03, 4.13158506e-01,\n",
       "        5.76550007e-01, 1.05608488e-03],\n",
       "       [1.65358007e-01, 1.09256171e-01, 5.55142105e-01, 3.58812697e-02,\n",
       "        5.91822416e-02, 7.51801431e-02],\n",
       "       [1.23649399e-04, 1.25214487e-04, 4.16796748e-03, 7.29207456e-01,\n",
       "        2.65890062e-01, 4.85649594e-04],\n",
       "       [1.04509294e-04, 1.05520710e-04, 3.73377721e-03, 7.95977592e-01,\n",
       "        1.99672684e-01, 4.05913306e-04],\n",
       "       [9.76584779e-05, 9.73262868e-05, 3.70424031e-03, 7.91765153e-01,\n",
       "        2.03955144e-01, 3.80357786e-04],\n",
       "       [6.13396187e-05, 6.33449672e-05, 2.48508900e-03, 8.48581135e-01,\n",
       "        1.48539066e-01, 2.70036719e-04],\n",
       "       [1.51144093e-04, 1.46275401e-04, 4.35265899e-03, 6.18558586e-01,\n",
       "        3.76226693e-01, 5.64677292e-04],\n",
       "       [2.25119365e-04, 2.17071894e-04, 6.00173464e-03, 5.23516357e-01,\n",
       "        4.69292462e-01, 7.47215061e-04],\n",
       "       [8.93494338e-02, 5.75672351e-02, 6.92382336e-01, 4.01086211e-02,\n",
       "        7.60144591e-02, 4.45778780e-02],\n",
       "       [3.90899330e-02, 2.09022574e-02, 8.55960906e-01, 2.54737195e-02,\n",
       "        4.27852161e-02, 1.57878995e-02],\n",
       "       [5.93943186e-02, 3.49899419e-02, 7.92807400e-01, 3.32574323e-02,\n",
       "        5.30973747e-02, 2.64535397e-02],\n",
       "       [2.86821332e-02, 1.61222611e-02, 8.40744078e-01, 4.02634814e-02,\n",
       "        6.09502420e-02, 1.32378135e-02],\n",
       "       [8.45461764e-05, 8.51652512e-05, 3.29430611e-03, 8.18615556e-01,\n",
       "        1.77576840e-01, 3.43588967e-04],\n",
       "       [7.81808197e-02, 5.16176634e-02, 6.21318817e-01, 7.01637268e-02,\n",
       "        1.33775800e-01, 4.49432023e-02],\n",
       "       [7.21621290e-02, 4.57921699e-02, 7.18304276e-01, 5.18833734e-02,\n",
       "        7.60631114e-02, 3.57948728e-02],\n",
       "       [4.11823764e-02, 2.43835840e-02, 8.16937089e-01, 3.91332991e-02,\n",
       "        5.84279858e-02, 1.99357290e-02],\n",
       "       [2.18307949e-04, 2.12669198e-04, 6.01116288e-03, 6.06819749e-01,\n",
       "        3.86010438e-01, 7.27636972e-04],\n",
       "       [2.98635522e-03, 2.29385751e-03, 3.88811007e-02, 1.42816409e-01,\n",
       "        8.09433997e-01, 3.58829787e-03],\n",
       "       [2.74566203e-01, 2.14418247e-01, 2.45192692e-01, 4.73708101e-02,\n",
       "        6.64655194e-02, 1.51986510e-01],\n",
       "       [3.42502557e-02, 1.94968004e-02, 8.13787520e-01, 3.94859686e-02,\n",
       "        7.73138255e-02, 1.56656485e-02],\n",
       "       [6.47774935e-02, 3.80082875e-02, 7.95718253e-01, 2.86710188e-02,\n",
       "        4.62850817e-02, 2.65398622e-02],\n",
       "       [7.77611567e-05, 7.79078327e-05, 3.09696840e-03, 8.04545283e-01,\n",
       "        1.91877976e-01, 3.24087974e-04],\n",
       "       [6.59926809e-05, 6.64034160e-05, 2.86432472e-03, 8.34856093e-01,\n",
       "        1.61873728e-01, 2.73478858e-04],\n",
       "       [4.60492633e-02, 2.64051482e-02, 8.00487995e-01, 4.28642109e-02,\n",
       "        6.23320155e-02, 2.18614228e-02],\n",
       "       [1.28364758e-04, 1.26761399e-04, 4.39606979e-03, 6.79352462e-01,\n",
       "        3.15498114e-01, 4.98244248e-04],\n",
       "       [2.55818450e-04, 2.39579356e-04, 5.82235074e-03, 3.54899913e-01,\n",
       "        6.37988508e-01, 7.93772575e-04],\n",
       "       [9.95265946e-05, 1.03165694e-04, 3.49640357e-03, 7.69363701e-01,\n",
       "        2.26530790e-01, 4.06527455e-04],\n",
       "       [2.72957329e-02, 1.45310676e-02, 8.87457788e-01, 2.42314246e-02,\n",
       "        3.56579646e-02, 1.08260214e-02],\n",
       "       [9.12358009e-05, 9.21846658e-05, 3.19648674e-03, 7.62104571e-01,\n",
       "        2.34134480e-01, 3.81057704e-04],\n",
       "       [3.27697722e-04, 2.91934848e-04, 7.68446783e-03, 3.85850757e-01,\n",
       "        6.04946375e-01, 8.98776401e-04],\n",
       "       [2.19181689e-04, 2.08795871e-04, 4.64999722e-03, 3.69579941e-01,\n",
       "        6.24574900e-01, 7.67217716e-04],\n",
       "       [2.48343080e-01, 1.82143897e-01, 3.38389397e-01, 4.39539105e-02,\n",
       "        5.89841716e-02, 1.28185630e-01],\n",
       "       [1.55462039e-04, 1.50912092e-04, 4.90992237e-03, 6.33942246e-01,\n",
       "        3.60275358e-01, 5.66117640e-04],\n",
       "       [6.01451024e-02, 3.42656039e-02, 7.90568173e-01, 2.91990098e-02,\n",
       "        5.99006936e-02, 2.59213243e-02],\n",
       "       [9.97385085e-02, 6.25416487e-02, 6.99404478e-01, 3.80944908e-02,\n",
       "        5.44941984e-02, 4.57266718e-02],\n",
       "       [2.42574606e-04, 2.07571939e-04, 8.90305918e-03, 5.82470655e-01,\n",
       "        4.07475561e-01, 7.00536650e-04],\n",
       "       [3.62409139e-03, 2.69679702e-03, 7.49903321e-02, 1.64815709e-01,\n",
       "        7.49868691e-01, 4.00439044e-03],\n",
       "       [3.31226364e-02, 1.87953990e-02, 8.36722076e-01, 3.47073041e-02,\n",
       "        6.22214824e-02, 1.44311907e-02],\n",
       "       [1.35179333e-04, 1.30987071e-04, 4.56039142e-03, 7.51420557e-01,\n",
       "        2.43259788e-01, 4.93132742e-04],\n",
       "       [2.36465231e-01, 1.73261493e-01, 3.64426047e-01, 4.16939408e-02,\n",
       "        6.47871420e-02, 1.19366117e-01],\n",
       "       [8.56706029e-05, 8.95301273e-05, 3.08608799e-03, 7.73575425e-01,\n",
       "        2.22800136e-01, 3.63128580e-04],\n",
       "       [4.49326821e-02, 2.75308266e-02, 7.09311306e-01, 7.38476738e-02,\n",
       "        1.19310252e-01, 2.50673071e-02],\n",
       "       [3.06203030e-04, 2.85248389e-04, 8.64761788e-03, 5.35342693e-01,\n",
       "        4.54560906e-01, 8.57342966e-04],\n",
       "       [1.34189861e-04, 1.33293725e-04, 4.05663718e-03, 6.86146557e-01,\n",
       "        3.09009105e-01, 5.20221773e-04],\n",
       "       [9.09164955e-05, 9.32950425e-05, 3.33415018e-03, 7.81308949e-01,\n",
       "        2.14794606e-01, 3.78148281e-04],\n",
       "       [8.14128798e-05, 8.44033639e-05, 3.00477142e-03, 7.95256019e-01,\n",
       "        2.01227784e-01, 3.45674256e-04],\n",
       "       [4.98516187e-02, 2.91468054e-02, 7.82498300e-01, 4.47193645e-02,\n",
       "        6.98670149e-02, 2.39168424e-02],\n",
       "       [7.34982789e-02, 4.47552390e-02, 7.53132284e-01, 3.40788178e-02,\n",
       "        6.18367717e-02, 3.26986648e-02],\n",
       "       [3.47963423e-02, 2.25863531e-02, 7.00996399e-01, 8.26982483e-02,\n",
       "        1.39187470e-01, 1.97351351e-02],\n",
       "       [6.73494797e-05, 7.07289510e-05, 2.61171581e-03, 8.11420500e-01,\n",
       "        1.85529038e-01, 3.00603890e-04],\n",
       "       [7.75620574e-04, 6.35292556e-04, 1.78926419e-02, 3.63829225e-01,\n",
       "        6.15349889e-01, 1.51736522e-03],\n",
       "       [2.96018552e-02, 1.60691738e-02, 8.63189280e-01, 2.87702736e-02,\n",
       "        5.02129607e-02, 1.21565266e-02],\n",
       "       [1.38543604e-04, 1.36061921e-04, 4.47996659e-03, 6.53088272e-01,\n",
       "        3.41644645e-01, 5.12529747e-04],\n",
       "       [4.47711125e-02, 2.56539788e-02, 8.26433420e-01, 3.02542932e-02,\n",
       "        5.41480146e-02, 1.87392514e-02],\n",
       "       [1.09780754e-04, 1.05775267e-04, 3.96554405e-03, 7.48074532e-01,\n",
       "        2.47319743e-01, 4.24603117e-04],\n",
       "       [9.44771841e-02, 5.69502339e-02, 7.08983958e-01, 3.80664356e-02,\n",
       "        5.86586520e-02, 4.28635478e-02],\n",
       "       [4.17153322e-04, 3.53094860e-04, 9.45349969e-03, 3.01866621e-01,\n",
       "        6.86917782e-01, 9.91908018e-04],\n",
       "       [6.76478667e-05, 7.24148995e-05, 2.74609821e-03, 8.10410082e-01,\n",
       "        1.86400220e-01, 3.03539651e-04],\n",
       "       [1.80839583e-01, 1.21909462e-01, 4.84979451e-01, 4.95725907e-02,\n",
       "        7.06320107e-02, 9.20669213e-02],\n",
       "       [3.21614556e-02, 1.76639967e-02, 8.66994500e-01, 2.48816535e-02,\n",
       "        4.53779772e-02, 1.29203908e-02],\n",
       "       [7.01453464e-05, 7.02198449e-05, 3.08093289e-03, 8.02195966e-01,\n",
       "        1.94285020e-01, 2.97817518e-04],\n",
       "       [3.47241323e-04, 3.18226725e-04, 7.92042818e-03, 4.07287657e-01,\n",
       "        5.83155930e-01, 9.70435736e-04],\n",
       "       [6.52580857e-05, 6.78127763e-05, 2.72417325e-03, 8.40033233e-01,\n",
       "        1.56822532e-01, 2.86858878e-04],\n",
       "       [2.84586884e-02, 1.64719839e-02, 7.83840477e-01, 5.84517568e-02,\n",
       "        9.82522517e-02, 1.45248491e-02],\n",
       "       [6.10143989e-02, 4.03813682e-02, 5.93182445e-01, 1.11755222e-01,\n",
       "        1.53587297e-01, 4.00793552e-02],\n",
       "       [1.07697168e-04, 1.09638488e-04, 3.59491445e-03, 7.30508685e-01,\n",
       "        2.65243948e-01, 4.35027818e-04],\n",
       "       [2.09360011e-02, 1.13406330e-02, 8.78438115e-01, 2.96571348e-02,\n",
       "        5.09927124e-02, 8.63535888e-03],\n",
       "       [2.75718048e-04, 2.52498721e-04, 6.98704878e-03, 4.41277474e-01,\n",
       "        5.50375938e-01, 8.31266341e-04],\n",
       "       [3.87598090e-02, 2.36997921e-02, 7.44840503e-01, 6.52758256e-02,\n",
       "        1.06791988e-01, 2.06321273e-02],\n",
       "       [1.84783319e-04, 1.83209529e-04, 4.33474826e-03, 5.08270085e-01,\n",
       "        4.86358523e-01, 6.68633904e-04],\n",
       "       [4.12625144e-04, 3.50291928e-04, 1.02642635e-02, 4.36529934e-01,\n",
       "        5.51419139e-01, 1.02376216e-03],\n",
       "       [1.57316972e-04, 1.49429019e-04, 5.07791992e-03, 6.82566047e-01,\n",
       "        3.11491787e-01, 5.57487656e-04],\n",
       "       [3.74429765e-05, 4.07856533e-05, 1.74106017e-03, 8.94895554e-01,\n",
       "        1.03101201e-01, 1.83960656e-04],\n",
       "       [3.44731729e-04, 3.13599361e-04, 6.11645682e-03, 2.62286156e-01,\n",
       "        7.29974270e-01, 9.64829873e-04],\n",
       "       [6.54683914e-04, 5.63603127e-04, 1.37214689e-02, 3.10999542e-01,\n",
       "        6.72678173e-01, 1.38257572e-03],\n",
       "       [2.40501482e-04, 2.35565298e-04, 5.59468940e-03, 4.54492629e-01,\n",
       "        5.38644671e-01, 7.92001374e-04],\n",
       "       [1.49773166e-03, 1.07886258e-03, 2.41086930e-02, 1.33325949e-01,\n",
       "        8.37923348e-01, 2.06545671e-03]], dtype=float32)"
      ]
     },
     "execution_count": 20,
     "metadata": {},
     "output_type": "execute_result"
    }
   ],
   "source": [
    "y_test_pred_probs = model.predict(X_abstract_test)\n",
    "y_test_pred_probs"
   ]
  },
  {
   "cell_type": "code",
   "execution_count": 21,
   "metadata": {},
   "outputs": [
    {
     "data": {
      "text/plain": [
       "array([2, 3, 0, 3, 3, 4, 3, 4, 3, 3, 4, 2, 4, 1, 4, 3, 3, 3, 4, 4, 1, 2,\n",
       "       2, 2, 3, 0, 2, 2, 4, 4, 0, 2, 1, 3, 3, 2, 3, 4, 3, 2, 3, 4, 4, 5,\n",
       "       3, 2, 2, 2, 4, 2, 3, 0, 3, 2, 3, 3, 3, 3, 2, 2, 1, 3, 3, 2, 4, 2,\n",
       "       3, 2, 4, 3, 5, 2, 2, 4, 3, 2, 1, 3, 2, 4, 2, 4, 3, 3, 3, 4, 4, 4,\n",
       "       4], dtype=int64)"
      ]
     },
     "execution_count": 21,
     "metadata": {},
     "output_type": "execute_result"
    }
   ],
   "source": [
    "Y_test.argmax(axis=1)"
   ]
  },
  {
   "cell_type": "code",
   "execution_count": 22,
   "metadata": {},
   "outputs": [],
   "source": [
    "y_score = model.predict(X_abstract_test)"
   ]
  },
  {
   "cell_type": "code",
   "execution_count": 23,
   "metadata": {},
   "outputs": [
    {
     "data": {
      "text/plain": [
       "array([0.03696175, 0.02134233, 0.8152015 , 0.04037493, 0.06792091,\n",
       "       0.01819866], dtype=float32)"
      ]
     },
     "execution_count": 23,
     "metadata": {},
     "output_type": "execute_result"
    }
   ],
   "source": [
    "y_score[0]"
   ]
  },
  {
   "cell_type": "code",
   "execution_count": 24,
   "metadata": {},
   "outputs": [],
   "source": [
    "from scipy import interp\n",
    "from itertools import cycle\n",
    "\n",
    "\n",
    "def plot_multi_class_roc_auc_curves(nb_classes, y_true, y_pred_score, lw: int = 2):\n",
    "    \"\"\"\n",
    "    ROC, AUC for a categorical classifier\n",
    "    \n",
    "    ROC curve extends to problems with three or more classes with what is known as the one-vs-all approach.\n",
    "    For instance, if we have three classes, we will create three ROC curves,\n",
    "\n",
    "    For each class, we take it as the positive class and group the rest classes jointly as the negative class.\n",
    "\n",
    "    Class 1 vs classes 2&3\n",
    "    Class 2 vs classes 1&3\n",
    "    Class 3 vs classes 1&2\n",
    "\n",
    "    :param nb_classes:\n",
    "    :param y_true:\n",
    "    :param y_pred_score:\n",
    "    :param lw:\n",
    "    :return:\n",
    "    \"\"\"\n",
    "\n",
    "    # Compute ROC curve and ROC area for each class\n",
    "    fpr = dict()\n",
    "    tpr = dict()\n",
    "    roc_auc = dict()\n",
    "\n",
    "    for i in range(nb_classes):\n",
    "        fpr[i], tpr[i], _ = roc_curve(y_true[:, i], y_pred_score[:, i])\n",
    "\n",
    "        roc_auc[i] = auc(fpr[i], tpr[i])\n",
    "\n",
    "    # Compute micro-average ROC curve and ROC area\n",
    "    fpr[\"micro\"], tpr[\"micro\"], _ = roc_curve(y_true.ravel(), y_pred_score.ravel())\n",
    "\n",
    "    roc_auc[\"micro\"] = auc(fpr[\"micro\"], tpr[\"micro\"])\n",
    "\n",
    "    # Compute macro-average ROC curve and ROC area\n",
    "\n",
    "    # First aggregate all false positive rates\n",
    "    all_fpr = np.unique(np.concatenate([fpr[i] for i in range(nb_classes)]))\n",
    "\n",
    "    # Then interpolate all ROC curves at this points\n",
    "    mean_tpr = np.zeros_like(all_fpr)\n",
    "\n",
    "    for i in range(nb_classes):\n",
    "        mean_tpr += interp(all_fpr, fpr[i], tpr[i])\n",
    "\n",
    "    # Finally average it and compute AUC\n",
    "    mean_tpr /= nb_classes\n",
    "\n",
    "    fpr[\"macro\"] = all_fpr\n",
    "    tpr[\"macro\"] = mean_tpr\n",
    "    roc_auc[\"macro\"] = auc(fpr[\"macro\"], tpr[\"macro\"])\n",
    "\n",
    "    # Plot all ROC curves\n",
    "    plt.figure(1)\n",
    "    plt.plot(fpr[\"micro\"],\n",
    "             tpr[\"micro\"],\n",
    "             label='micro-average ROC curve (area = {0:0.2f})'.format(roc_auc[\"micro\"]),\n",
    "             color='deeppink',\n",
    "             linestyle=':',\n",
    "             linewidth=4)\n",
    "\n",
    "    plt.plot(fpr[\"macro\"],\n",
    "             tpr[\"macro\"],\n",
    "             label='macro-average ROC curve (area = {0:0.2f})'.format(roc_auc[\"macro\"]),\n",
    "             color='navy',\n",
    "             linestyle=':',\n",
    "             linewidth=4)\n",
    "\n",
    "    colors = cycle(['aqua',\n",
    "                    'darkorange',\n",
    "                    'cornflowerblue'])\n",
    "\n",
    "    for i, color in zip(range(nb_classes), colors):\n",
    "        plt.plot(fpr[i],\n",
    "                 tpr[i],\n",
    "                 color=color,\n",
    "                 lw=lw,\n",
    "                 label='ROC curve of class {0} (area = {1:0.2f})'.format(i, roc_auc[i]))\n",
    "\n",
    "    plt.plot([0, 1],\n",
    "             [0, 1],\n",
    "             'k--',\n",
    "             lw=lw)\n",
    "\n",
    "    plt.xlim([0.0, 1.0])\n",
    "    plt.ylim([0.0, 1.05])\n",
    "\n",
    "    plt.xlabel('False Positive Rate')\n",
    "    plt.ylabel('True Positive Rate')\n",
    "\n",
    "    plt.title('Some extension of Receiver operating characteristic to multi-class')\n",
    "    plt.legend(loc=\"lower right\")\n",
    "    # plt.show()\n",
    "\n",
    "    # Zoom in view of the upper left corner.\n",
    "    plt.figure(2)\n",
    "    plt.xlim(0, 0.2)\n",
    "    plt.ylim(0.7, 1)\n",
    "\n",
    "    plt.plot(fpr[\"micro\"],\n",
    "             tpr[\"micro\"],\n",
    "             label='micro-average ROC curve (area = {0:0.2f})'.format(roc_auc[\"micro\"]),\n",
    "             color='deeppink',\n",
    "             linestyle=':',\n",
    "             linewidth=4)\n",
    "\n",
    "    plt.plot(fpr[\"macro\"],\n",
    "             tpr[\"macro\"],\n",
    "             label='macro-average ROC curve (area = {0:0.2f})'.format(roc_auc[\"macro\"]),\n",
    "             color='navy',\n",
    "             linestyle=':',\n",
    "             linewidth=4)\n",
    "\n",
    "    colors = cycle(['aqua',\n",
    "                    'darkorange',\n",
    "                    'cornflowerblue'])\n",
    "\n",
    "    for i, color in zip(range(nb_classes), colors):\n",
    "        plt.plot(fpr[i],\n",
    "                 tpr[i],\n",
    "                 color=color,\n",
    "                 lw=lw,\n",
    "                 label='ROC curve of class {0} (area = {1:0.2f})'.format(i, roc_auc[i]))\n",
    "\n",
    "    plt.plot([0, 1],\n",
    "             [0, 1],\n",
    "             'k--', lw=lw)\n",
    "\n",
    "    plt.xlabel('False Positive Rate')\n",
    "    plt.ylabel('True Positive Rate')\n",
    "    plt.title('Some extension of Receiver operating characteristic to multi-class')\n",
    "    plt.legend(loc=\"lower right\")\n",
    "    plt.show()"
   ]
  },
  {
   "cell_type": "code",
   "execution_count": 25,
   "metadata": {},
   "outputs": [
    {
     "name": "stderr",
     "output_type": "stream",
     "text": [
      "<ipython-input-24-46d10016a566>:49: DeprecationWarning: scipy.interp is deprecated and will be removed in SciPy 2.0.0, use numpy.interp instead\n",
      "  mean_tpr += interp(all_fpr, fpr[i], tpr[i])\n"
     ]
    },
    {
     "data": {
      "image/png": "[encoded data removed]",
      "text/plain": [
       "<Figure size 432x288 with 1 Axes>"
      ]
     },
     "metadata": {
      "needs_background": "light"
     },
     "output_type": "display_data"
    },
    {
     "data": {
      "image/png": "[encoded data removed]",
      "text/plain": [
       "<Figure size 432x288 with 1 Axes>"
      ]
     },
     "metadata": {
      "needs_background": "light"
     },
     "output_type": "display_data"
    }
   ],
   "source": [
    "plot_multi_class_roc_auc_curves(nb_classes=6,\n",
    "                                y_true=Y_test,\n",
    "                                y_pred_score=y_score)"
   ]
  },
  {
   "cell_type": "code",
   "execution_count": 26,
   "metadata": {},
   "outputs": [
    {
     "name": "stdout",
     "output_type": "stream",
     "text": [
      "WARNING:tensorflow:From <ipython-input-26-1a5d45322948>:1: Sequential.predict_classes (from tensorflow.python.keras.engine.sequential) is deprecated and will be removed after 2021-01-01.\n",
      "Instructions for updating:\n",
      "Please use instead:* `np.argmax(model.predict(x), axis=-1)`,   if your model does multi-class classification   (e.g. if it uses a `softmax` last-layer activation).* `(model.predict(x) > 0.5).astype(\"int32\")`,   if your model does binary classification   (e.g. if it uses a `sigmoid` last-layer activation).\n"
     ]
    },
    {
     "data": {
      "text/plain": [
       "array([2, 3, 2, 3, 3, 4, 3, 4, 3, 3, 3, 2, 4, 2, 3, 3, 3, 3, 3, 3, 2, 2,\n",
       "       2, 2, 3, 2, 2, 2, 3, 4, 0, 2, 2, 3, 3, 2, 3, 4, 3, 2, 3, 4, 4, 2,\n",
       "       3, 2, 2, 3, 4, 2, 3, 2, 3, 2, 3, 3, 3, 3, 2, 2, 2, 3, 4, 2, 3, 2,\n",
       "       3, 2, 4, 3, 2, 2, 3, 4, 3, 2, 2, 3, 2, 4, 2, 3, 4, 3, 3, 4, 4, 4,\n",
       "       4], dtype=int64)"
      ]
     },
     "execution_count": 26,
     "metadata": {},
     "output_type": "execute_result"
    }
   ],
   "source": [
    "y_pred_class = model.predict_classes(X_abstract_test)\n",
    "y_pred_class"
   ]
  },
  {
   "cell_type": "code",
   "execution_count": 27,
   "metadata": {},
   "outputs": [
    {
     "data": {
      "text/plain": [
       "array([[0, 0, 1, 0, 0, 0],\n",
       "       [0, 0, 0, 1, 0, 0],\n",
       "       [1, 0, 0, 0, 0, 0],\n",
       "       [0, 0, 0, 1, 0, 0],\n",
       "       [0, 0, 0, 1, 0, 0],\n",
       "       [0, 0, 0, 0, 1, 0],\n",
       "       [0, 0, 0, 1, 0, 0],\n",
       "       [0, 0, 0, 0, 1, 0],\n",
       "       [0, 0, 0, 1, 0, 0],\n",
       "       [0, 0, 0, 1, 0, 0],\n",
       "       [0, 0, 0, 0, 1, 0],\n",
       "       [0, 0, 1, 0, 0, 0],\n",
       "       [0, 0, 0, 0, 1, 0],\n",
       "       [0, 1, 0, 0, 0, 0],\n",
       "       [0, 0, 0, 0, 1, 0],\n",
       "       [0, 0, 0, 1, 0, 0],\n",
       "       [0, 0, 0, 1, 0, 0],\n",
       "       [0, 0, 0, 1, 0, 0],\n",
       "       [0, 0, 0, 0, 1, 0],\n",
       "       [0, 0, 0, 0, 1, 0],\n",
       "       [0, 1, 0, 0, 0, 0],\n",
       "       [0, 0, 1, 0, 0, 0],\n",
       "       [0, 0, 1, 0, 0, 0],\n",
       "       [0, 0, 1, 0, 0, 0],\n",
       "       [0, 0, 0, 1, 0, 0],\n",
       "       [1, 0, 0, 0, 0, 0],\n",
       "       [0, 0, 1, 0, 0, 0],\n",
       "       [0, 0, 1, 0, 0, 0],\n",
       "       [0, 0, 0, 0, 1, 0],\n",
       "       [0, 0, 0, 0, 1, 0],\n",
       "       [1, 0, 0, 0, 0, 0],\n",
       "       [0, 0, 1, 0, 0, 0],\n",
       "       [0, 1, 0, 0, 0, 0],\n",
       "       [0, 0, 0, 1, 0, 0],\n",
       "       [0, 0, 0, 1, 0, 0],\n",
       "       [0, 0, 1, 0, 0, 0],\n",
       "       [0, 0, 0, 1, 0, 0],\n",
       "       [0, 0, 0, 0, 1, 0],\n",
       "       [0, 0, 0, 1, 0, 0],\n",
       "       [0, 0, 1, 0, 0, 0],\n",
       "       [0, 0, 0, 1, 0, 0],\n",
       "       [0, 0, 0, 0, 1, 0],\n",
       "       [0, 0, 0, 0, 1, 0],\n",
       "       [0, 0, 0, 0, 0, 1],\n",
       "       [0, 0, 0, 1, 0, 0],\n",
       "       [0, 0, 1, 0, 0, 0],\n",
       "       [0, 0, 1, 0, 0, 0],\n",
       "       [0, 0, 1, 0, 0, 0],\n",
       "       [0, 0, 0, 0, 1, 0],\n",
       "       [0, 0, 1, 0, 0, 0],\n",
       "       [0, 0, 0, 1, 0, 0],\n",
       "       [1, 0, 0, 0, 0, 0],\n",
       "       [0, 0, 0, 1, 0, 0],\n",
       "       [0, 0, 1, 0, 0, 0],\n",
       "       [0, 0, 0, 1, 0, 0],\n",
       "       [0, 0, 0, 1, 0, 0],\n",
       "       [0, 0, 0, 1, 0, 0],\n",
       "       [0, 0, 0, 1, 0, 0],\n",
       "       [0, 0, 1, 0, 0, 0],\n",
       "       [0, 0, 1, 0, 0, 0],\n",
       "       [0, 1, 0, 0, 0, 0],\n",
       "       [0, 0, 0, 1, 0, 0],\n",
       "       [0, 0, 0, 1, 0, 0],\n",
       "       [0, 0, 1, 0, 0, 0],\n",
       "       [0, 0, 0, 0, 1, 0],\n",
       "       [0, 0, 1, 0, 0, 0],\n",
       "       [0, 0, 0, 1, 0, 0],\n",
       "       [0, 0, 1, 0, 0, 0],\n",
       "       [0, 0, 0, 0, 1, 0],\n",
       "       [0, 0, 0, 1, 0, 0],\n",
       "       [0, 0, 0, 0, 0, 1],\n",
       "       [0, 0, 1, 0, 0, 0],\n",
       "       [0, 0, 1, 0, 0, 0],\n",
       "       [0, 0, 0, 0, 1, 0],\n",
       "       [0, 0, 0, 1, 0, 0],\n",
       "       [0, 0, 1, 0, 0, 0],\n",
       "       [0, 1, 0, 0, 0, 0],\n",
       "       [0, 0, 0, 1, 0, 0],\n",
       "       [0, 0, 1, 0, 0, 0],\n",
       "       [0, 0, 0, 0, 1, 0],\n",
       "       [0, 0, 1, 0, 0, 0],\n",
       "       [0, 0, 0, 0, 1, 0],\n",
       "       [0, 0, 0, 1, 0, 0],\n",
       "       [0, 0, 0, 1, 0, 0],\n",
       "       [0, 0, 0, 1, 0, 0],\n",
       "       [0, 0, 0, 0, 1, 0],\n",
       "       [0, 0, 0, 0, 1, 0],\n",
       "       [0, 0, 0, 0, 1, 0],\n",
       "       [0, 0, 0, 0, 1, 0]], dtype=uint8)"
      ]
     },
     "execution_count": 27,
     "metadata": {},
     "output_type": "execute_result"
    }
   ],
   "source": [
    "Y_test\n"
   ]
  },
  {
   "cell_type": "code",
   "execution_count": 28,
   "metadata": {},
   "outputs": [],
   "source": [
    "from sklearn import preprocessing\n",
    "lb = preprocessing.LabelBinarizer()\n",
    "y_test_binarize = lb.fit_transform(Y_test)"
   ]
  },
  {
   "cell_type": "code",
   "execution_count": 29,
   "metadata": {
    "scrolled": true
   },
   "outputs": [
    {
     "data": {
      "text/plain": [
       "array([[0, 0, 1, 0, 0, 0],\n",
       "       [0, 0, 0, 1, 0, 0],\n",
       "       [1, 0, 0, 0, 0, 0],\n",
       "       [0, 0, 0, 1, 0, 0],\n",
       "       [0, 0, 0, 1, 0, 0],\n",
       "       [0, 0, 0, 0, 1, 0],\n",
       "       [0, 0, 0, 1, 0, 0],\n",
       "       [0, 0, 0, 0, 1, 0],\n",
       "       [0, 0, 0, 1, 0, 0],\n",
       "       [0, 0, 0, 1, 0, 0],\n",
       "       [0, 0, 0, 0, 1, 0],\n",
       "       [0, 0, 1, 0, 0, 0],\n",
       "       [0, 0, 0, 0, 1, 0],\n",
       "       [0, 1, 0, 0, 0, 0],\n",
       "       [0, 0, 0, 0, 1, 0],\n",
       "       [0, 0, 0, 1, 0, 0],\n",
       "       [0, 0, 0, 1, 0, 0],\n",
       "       [0, 0, 0, 1, 0, 0],\n",
       "       [0, 0, 0, 0, 1, 0],\n",
       "       [0, 0, 0, 0, 1, 0],\n",
       "       [0, 1, 0, 0, 0, 0],\n",
       "       [0, 0, 1, 0, 0, 0],\n",
       "       [0, 0, 1, 0, 0, 0],\n",
       "       [0, 0, 1, 0, 0, 0],\n",
       "       [0, 0, 0, 1, 0, 0],\n",
       "       [1, 0, 0, 0, 0, 0],\n",
       "       [0, 0, 1, 0, 0, 0],\n",
       "       [0, 0, 1, 0, 0, 0],\n",
       "       [0, 0, 0, 0, 1, 0],\n",
       "       [0, 0, 0, 0, 1, 0],\n",
       "       [1, 0, 0, 0, 0, 0],\n",
       "       [0, 0, 1, 0, 0, 0],\n",
       "       [0, 1, 0, 0, 0, 0],\n",
       "       [0, 0, 0, 1, 0, 0],\n",
       "       [0, 0, 0, 1, 0, 0],\n",
       "       [0, 0, 1, 0, 0, 0],\n",
       "       [0, 0, 0, 1, 0, 0],\n",
       "       [0, 0, 0, 0, 1, 0],\n",
       "       [0, 0, 0, 1, 0, 0],\n",
       "       [0, 0, 1, 0, 0, 0],\n",
       "       [0, 0, 0, 1, 0, 0],\n",
       "       [0, 0, 0, 0, 1, 0],\n",
       "       [0, 0, 0, 0, 1, 0],\n",
       "       [0, 0, 0, 0, 0, 1],\n",
       "       [0, 0, 0, 1, 0, 0],\n",
       "       [0, 0, 1, 0, 0, 0],\n",
       "       [0, 0, 1, 0, 0, 0],\n",
       "       [0, 0, 1, 0, 0, 0],\n",
       "       [0, 0, 0, 0, 1, 0],\n",
       "       [0, 0, 1, 0, 0, 0],\n",
       "       [0, 0, 0, 1, 0, 0],\n",
       "       [1, 0, 0, 0, 0, 0],\n",
       "       [0, 0, 0, 1, 0, 0],\n",
       "       [0, 0, 1, 0, 0, 0],\n",
       "       [0, 0, 0, 1, 0, 0],\n",
       "       [0, 0, 0, 1, 0, 0],\n",
       "       [0, 0, 0, 1, 0, 0],\n",
       "       [0, 0, 0, 1, 0, 0],\n",
       "       [0, 0, 1, 0, 0, 0],\n",
       "       [0, 0, 1, 0, 0, 0],\n",
       "       [0, 1, 0, 0, 0, 0],\n",
       "       [0, 0, 0, 1, 0, 0],\n",
       "       [0, 0, 0, 1, 0, 0],\n",
       "       [0, 0, 1, 0, 0, 0],\n",
       "       [0, 0, 0, 0, 1, 0],\n",
       "       [0, 0, 1, 0, 0, 0],\n",
       "       [0, 0, 0, 1, 0, 0],\n",
       "       [0, 0, 1, 0, 0, 0],\n",
       "       [0, 0, 0, 0, 1, 0],\n",
       "       [0, 0, 0, 1, 0, 0],\n",
       "       [0, 0, 0, 0, 0, 1],\n",
       "       [0, 0, 1, 0, 0, 0],\n",
       "       [0, 0, 1, 0, 0, 0],\n",
       "       [0, 0, 0, 0, 1, 0],\n",
       "       [0, 0, 0, 1, 0, 0],\n",
       "       [0, 0, 1, 0, 0, 0],\n",
       "       [0, 1, 0, 0, 0, 0],\n",
       "       [0, 0, 0, 1, 0, 0],\n",
       "       [0, 0, 1, 0, 0, 0],\n",
       "       [0, 0, 0, 0, 1, 0],\n",
       "       [0, 0, 1, 0, 0, 0],\n",
       "       [0, 0, 0, 0, 1, 0],\n",
       "       [0, 0, 0, 1, 0, 0],\n",
       "       [0, 0, 0, 1, 0, 0],\n",
       "       [0, 0, 0, 1, 0, 0],\n",
       "       [0, 0, 0, 0, 1, 0],\n",
       "       [0, 0, 0, 0, 1, 0],\n",
       "       [0, 0, 0, 0, 1, 0],\n",
       "       [0, 0, 0, 0, 1, 0]])"
      ]
     },
     "execution_count": 29,
     "metadata": {},
     "output_type": "execute_result"
    }
   ],
   "source": [
    "y_test_normal = lb.inverse_transform(Y_test)\n",
    "y_test_normal"
   ]
  },
  {
   "cell_type": "code",
   "execution_count": 30,
   "metadata": {},
   "outputs": [],
   "source": [
    "from sklearn.metrics import confusion_matrix, classification_report"
   ]
  },
  {
   "cell_type": "code",
   "execution_count": 31,
   "metadata": {},
   "outputs": [
    {
     "name": "stdout",
     "output_type": "stream",
     "text": [
      "              precision    recall  f1-score   support\n",
      "\n",
      "           0       1.00      0.25      0.40         4\n",
      "           1       0.00      0.00      0.00         5\n",
      "           2       0.70      0.92      0.79        25\n",
      "           3       0.76      0.94      0.84        31\n",
      "           4       0.88      0.68      0.77        22\n",
      "           5       0.00      0.00      0.00         2\n",
      "\n",
      "    accuracy                           0.76        89\n",
      "   macro avg       0.56      0.46      0.47        89\n",
      "weighted avg       0.72      0.76      0.72        89\n",
      "\n"
     ]
    },
    {
     "name": "stderr",
     "output_type": "stream",
     "text": [
      "C:\\Users\\arisp\\anaconda3\\lib\\site-packages\\sklearn\\metrics\\_classification.py:1221: UndefinedMetricWarning: Precision and F-score are ill-defined and being set to 0.0 in labels with no predicted samples. Use `zero_division` parameter to control this behavior.\n",
      "  _warn_prf(average, modifier, msg_start, len(result))\n"
     ]
    }
   ],
   "source": [
    "print(classification_report(y_true=np.argmax(y_test_normal,axis = 1),\n",
    "                            y_pred=y_pred_class))"
   ]
  },
  {
   "cell_type": "code",
   "execution_count": 32,
   "metadata": {},
   "outputs": [],
   "source": [
    "def print_confusion_matrix(y_true,\n",
    "                           y_pred,\n",
    "                           class_names: List[str],\n",
    "                           figsize: Tuple[int, int] = (10, 7),\n",
    "                           fontsize: int = 14) -> pd.DataFrame:\n",
    "    \"\"\"\n",
    "    Prints a confusion matrix, as returned by sklearn.metrics.confusion_matrix, as a heat-map.\n",
    "\n",
    "    For something more extraordinary check this repo:\n",
    "    https://github.com/wcipriano/pretty-print-confusion-matrix\n",
    "\n",
    "\n",
    "    :param class_names:  An ordered list of class names\n",
    "    :param figsize: A 2-long tuple, the first value determining the horizontal size of the outputted\n",
    "                    figure, the second determining the vertical size. Defaults to (10,7).\n",
    "    :param fontsize: Font size for axes labels. Defaults to 14.\n",
    "    :return: The confusion matrix as a dataset\n",
    "    \"\"\"\n",
    "    conf_matrix = confusion_matrix(y_true=y_true, y_pred=y_pred)\n",
    "\n",
    "    df_cm = pd.DataFrame(conf_matrix, index=class_names, columns=class_names)\n",
    "\n",
    "    fig = plt.figure(figsize=figsize)\n",
    "\n",
    "    try:\n",
    "        heatmap = sns.heatmap(df_cm, annot=True, fmt=\"d\")\n",
    "\n",
    "    except ValueError:\n",
    "\n",
    "        raise ValueError(\"Confusion matrix values must be integers.\")\n",
    "\n",
    "    heatmap.yaxis.set_ticklabels(heatmap.yaxis.get_ticklabels(),\n",
    "                                 rotation=0,\n",
    "                                 ha='right',\n",
    "                                 fontsize=fontsize)\n",
    "\n",
    "    heatmap.xaxis.set_ticklabels(heatmap.xaxis.get_ticklabels(),\n",
    "                                 rotation=45,\n",
    "                                 ha='right',\n",
    "                                 fontsize=fontsize)\n",
    "\n",
    "    plt.ylabel('True label')\n",
    "    plt.xlabel('Predicted label')\n",
    "    plt.show()\n",
    "\n",
    "    return df_cm"
   ]
  },
  {
   "cell_type": "code",
   "execution_count": 33,
   "metadata": {},
   "outputs": [
    {
     "data": {
      "image/png": "[encoded data removed]",
      "text/plain": [
       "<Figure size 720x504 with 2 Axes>"
      ]
     },
     "metadata": {
      "needs_background": "light"
     },
     "output_type": "display_data"
    },
    {
     "data": {
      "text/html": [
       "<div>\n",
       "<style scoped>\n",
       "    .dataframe tbody tr th:only-of-type {\n",
       "        vertical-align: middle;\n",
       "    }\n",
       "\n",
       "    .dataframe tbody tr th {\n",
       "        vertical-align: top;\n",
       "    }\n",
       "\n",
       "    .dataframe thead th {\n",
       "        text-align: right;\n",
       "    }\n",
       "</style>\n",
       "<table border=\"1\" class=\"dataframe\">\n",
       "  <thead>\n",
       "    <tr style=\"text-align: right;\">\n",
       "      <th></th>\n",
       "      <th>SDG10</th>\n",
       "      <th>SDG12</th>\n",
       "      <th>SDG13</th>\n",
       "      <th>SDG3</th>\n",
       "      <th>SDG5</th>\n",
       "      <th>SDG7</th>\n",
       "    </tr>\n",
       "  </thead>\n",
       "  <tbody>\n",
       "    <tr>\n",
       "      <th>SDG10</th>\n",
       "      <td>1</td>\n",
       "      <td>0</td>\n",
       "      <td>3</td>\n",
       "      <td>0</td>\n",
       "      <td>0</td>\n",
       "      <td>0</td>\n",
       "    </tr>\n",
       "    <tr>\n",
       "      <th>SDG12</th>\n",
       "      <td>0</td>\n",
       "      <td>0</td>\n",
       "      <td>5</td>\n",
       "      <td>0</td>\n",
       "      <td>0</td>\n",
       "      <td>0</td>\n",
       "    </tr>\n",
       "    <tr>\n",
       "      <th>SDG13</th>\n",
       "      <td>0</td>\n",
       "      <td>0</td>\n",
       "      <td>23</td>\n",
       "      <td>2</td>\n",
       "      <td>0</td>\n",
       "      <td>0</td>\n",
       "    </tr>\n",
       "    <tr>\n",
       "      <th>SDG3</th>\n",
       "      <td>0</td>\n",
       "      <td>0</td>\n",
       "      <td>0</td>\n",
       "      <td>29</td>\n",
       "      <td>2</td>\n",
       "      <td>0</td>\n",
       "    </tr>\n",
       "    <tr>\n",
       "      <th>SDG5</th>\n",
       "      <td>0</td>\n",
       "      <td>0</td>\n",
       "      <td>0</td>\n",
       "      <td>7</td>\n",
       "      <td>15</td>\n",
       "      <td>0</td>\n",
       "    </tr>\n",
       "    <tr>\n",
       "      <th>SDG7</th>\n",
       "      <td>0</td>\n",
       "      <td>0</td>\n",
       "      <td>2</td>\n",
       "      <td>0</td>\n",
       "      <td>0</td>\n",
       "      <td>0</td>\n",
       "    </tr>\n",
       "  </tbody>\n",
       "</table>\n",
       "</div>"
      ],
      "text/plain": [
       "       SDG10  SDG12  SDG13  SDG3  SDG5  SDG7\n",
       "SDG10      1      0      3     0     0     0\n",
       "SDG12      0      0      5     0     0     0\n",
       "SDG13      0      0     23     2     0     0\n",
       "SDG3       0      0      0    29     2     0\n",
       "SDG5       0      0      0     7    15     0\n",
       "SDG7       0      0      2     0     0     0"
      ]
     },
     "execution_count": 33,
     "metadata": {},
     "output_type": "execute_result"
    }
   ],
   "source": [
    "import seaborn as sns\n",
    "\n",
    "print_confusion_matrix(y_true=np.argmax(y_test_normal,axis = 1),\n",
    "                           y_pred=y_pred_class,\n",
    "                           class_names=['SDG10', 'SDG12', 'SDG13', 'SDG3', 'SDG5', 'SDG7'])"
   ]
  },
  {
   "cell_type": "markdown",
   "metadata": {},
   "source": [
    "Test with a new abstract"
   ]
  },
  {
   "cell_type": "code",
   "execution_count": 34,
   "metadata": {},
   "outputs": [
    {
     "name": "stdout",
     "output_type": "stream",
     "text": [
      "SDG:  SDG13\n"
     ]
    }
   ],
   "source": [
    "new_abstract = ['The planet is warming, from North Pole to South Pole. Since 1906, the global average surface temperature has increased by more than 1.6 degrees Fahrenheit (0.9 degrees Celsius)—even more in sensitive polar regions. And the impacts of rising temperatures aren’t waiting for some far-flung future–the effects of global warming are appearing right now. The heat is melting glaciers and sea ice, shifting precipitation patterns, and setting animals on the move.']\n",
    "seq = tokenizer.texts_to_sequences(new_abstract)\n",
    "padded = pad_sequences(seq, maxlen=MAX_SEQUENCE_LENGTH)\n",
    "pred = model.predict(padded)\n",
    "labels = sdg_df.sdg.unique()\n",
    "#labels = sorted(set(sdg_df['sdg']), key=sdg_df['sdg'].index)\n",
    "print('SDG: ', labels[np.argmax(pred)])"
   ]
  },
  {
   "cell_type": "markdown",
   "metadata": {},
   "source": [
    "#### Save model and create model weights "
   ]
  },
  {
   "cell_type": "code",
   "execution_count": 35,
   "metadata": {},
   "outputs": [
    {
     "name": "stdout",
     "output_type": "stream",
     "text": [
      "WARNING:tensorflow:From C:\\Users\\arisp\\anaconda3\\lib\\site-packages\\tensorflow\\python\\training\\tracking\\tracking.py:111: Model.state_updates (from tensorflow.python.keras.engine.training) is deprecated and will be removed in a future version.\n",
      "Instructions for updating:\n",
      "This property should not be used in TensorFlow 2.0, as updates are applied automatically.\n",
      "WARNING:tensorflow:From C:\\Users\\arisp\\anaconda3\\lib\\site-packages\\tensorflow\\python\\training\\tracking\\tracking.py:111: Layer.updates (from tensorflow.python.keras.engine.base_layer) is deprecated and will be removed in a future version.\n",
      "Instructions for updating:\n",
      "This property should not be used in TensorFlow 2.0, as updates are applied automatically.\n",
      "INFO:tensorflow:Assets written to: C:\\Users\\arisp\\AppData\\Local\\Temp\\tmp5olgt36d\\RNN_abstract_model_weights\\assets\n"
     ]
    }
   ],
   "source": [
    "import os\n",
    "import tempfile\n",
    "import tensorflow as tf\n",
    "\n",
    "tmpdir = tempfile.mkdtemp()\n",
    "\n",
    "title_save_path = os.path.join(tmpdir, \"RNN_abstract_model_weights\")\n",
    "tf.saved_model.save(model, title_save_path)"
   ]
  },
  {
   "cell_type": "code",
   "execution_count": null,
   "metadata": {},
   "outputs": [],
   "source": []
  }
 ],
 "metadata": {
  "kernelspec": {
   "display_name": "Python 3",
   "language": "python",
   "name": "python3"
  },
  "language_info": {
   "codemirror_mode": {
    "name": "ipython",
    "version": 3
   },
   "file_extension": ".py",
   "mimetype": "text/x-python",
   "name": "python",
   "nbconvert_exporter": "python",
   "pygments_lexer": "ipython3",
   "version": "3.8.3"
  }
 },
 "nbformat": 4,
 "nbformat_minor": 4
}
