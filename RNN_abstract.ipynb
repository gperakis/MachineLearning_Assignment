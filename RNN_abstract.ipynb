{
 "cells": [
  {
   "cell_type": "code",
   "execution_count": 2,
   "metadata": {},
   "outputs": [],
   "source": [
    "from __future__ import print_function\n",
    "\n",
    "import re\n",
    "import tarfile\n",
    "from pathlib import Path\n",
    "from time import time\n",
    "from functools import reduce\n",
    "from pprint import pprint\n",
    "from typing import List, Tuple\n",
    "from sklearn.metrics import confusion_matrix\n",
    "from sklearn.metrics import roc_curve, auc\n",
    "from sklearn.model_selection import train_test_split\n",
    "from sklearn.preprocessing import LabelBinarizer\n",
    "import numpy as np\n",
    "import pandas as pd\n",
    "from tensorflow.python.keras import layers\n",
    "from tensorflow.python.keras.layers import recurrent, Input, Embedding, RepeatVector, Dropout, Dense, LSTM\n",
    "from tensorflow.python.keras.models import Model\n",
    "from tensorflow.python.keras.preprocessing.text import Tokenizer\n",
    "from tensorflow.python.keras.preprocessing.sequence import pad_sequences\n",
    "from tensorflow.python.keras.utils.data_utils import get_file\n",
    "from tqdm import tqdm"
   ]
  },
  {
   "cell_type": "code",
   "execution_count": 3,
   "metadata": {},
   "outputs": [],
   "source": [
    "#import the already preprocessed dataset \n",
    "sdg_df  = pd.read_csv('sdg_classification_data.csv')"
   ]
  },
  {
   "cell_type": "code",
   "execution_count": 4,
   "metadata": {},
   "outputs": [],
   "source": [
    "validation_df  = pd.read_csv('validation_dataset_v2.csv')"
   ]
  },
  {
   "cell_type": "markdown",
   "metadata": {},
   "source": [
    "LSTM - Set parameters "
   ]
  },
  {
   "cell_type": "code",
   "execution_count": 5,
   "metadata": {},
   "outputs": [
    {
     "name": "stdout",
     "output_type": "stream",
     "text": [
      "Found 13009 unique tokens.\n"
     ]
    }
   ],
   "source": [
    "# Max number of words to be used\n",
    "MAX_NB_WORDS = 50000\n",
    "# Max number of words in each sdg row.\n",
    "MAX_SEQUENCE_LENGTH = 400\n",
    "# This is fixed.\n",
    "EMBEDDING_DIM = 100\n",
    "tokenizer = Tokenizer(num_words=MAX_NB_WORDS, filters='!\"#$%&()*+,-./:;<=>?@[\\]^_`{|}~', lower=True)\n",
    "tokenizer.fit_on_texts(sdg_df['extracted_abstract'].astype(str).values)\n",
    "word_index = tokenizer.word_index\n",
    "print('Found %s unique tokens.' % len(word_index))"
   ]
  },
  {
   "cell_type": "code",
   "execution_count": 6,
   "metadata": {},
   "outputs": [
    {
     "name": "stdout",
     "output_type": "stream",
     "text": [
      "Sequences input length: (889, 400)\n"
     ]
    }
   ],
   "source": [
    "#transform them to have the same length for modeling\n",
    "X = sdg_df['extracted_abstract']\n",
    "Y = sdg_df['sdg']\n",
    "X_abstract = tokenizer.texts_to_sequences(X.astype(str).values)\n",
    "X_abstract = pad_sequences(X_abstract, maxlen=MAX_SEQUENCE_LENGTH)\n",
    "print('Sequences input length:', X_abstract.shape)"
   ]
  },
  {
   "cell_type": "code",
   "execution_count": 7,
   "metadata": {},
   "outputs": [
    {
     "name": "stdout",
     "output_type": "stream",
     "text": [
      "Shape of categorical variables: (889, 6)\n"
     ]
    }
   ],
   "source": [
    "Y = pd.get_dummies(sdg_df['sdg']).values\n",
    "print('Shape of categorical variables:', Y.shape)"
   ]
  },
  {
   "cell_type": "code",
   "execution_count": 8,
   "metadata": {},
   "outputs": [
    {
     "name": "stdout",
     "output_type": "stream",
     "text": [
      "(800, 400) (800, 6)\n",
      "(89, 400) (89, 6)\n"
     ]
    }
   ],
   "source": [
    "#split our dataset\n",
    "from sklearn.model_selection import train_test_split\n",
    "\n",
    "X_abstract_train, X_abstract_test, Y_train, Y_test = train_test_split(X_abstract,Y, test_size = 0.10, random_state = 42)\n",
    "print(X_abstract_train.shape,Y_train.shape)\n",
    "print(X_abstract_test.shape,Y_test.shape)"
   ]
  },
  {
   "cell_type": "code",
   "execution_count": 9,
   "metadata": {},
   "outputs": [
    {
     "name": "stdout",
     "output_type": "stream",
     "text": [
      "Model: \"sequential\"\n",
      "_________________________________________________________________\n",
      "Layer (type)                 Output Shape              Param #   \n",
      "=================================================================\n",
      "embedding (Embedding)        (None, 400, 100)          5000000   \n",
      "_________________________________________________________________\n",
      "lstm (LSTM)                  (None, 100)               80400     \n",
      "_________________________________________________________________\n",
      "dense (Dense)                (None, 6)                 606       \n",
      "=================================================================\n",
      "Total params: 5,081,006\n",
      "Trainable params: 5,081,006\n",
      "Non-trainable params: 0\n",
      "_________________________________________________________________\n"
     ]
    }
   ],
   "source": [
    "import keras\n",
    "from keras.models import Sequential\n",
    "from keras.layers import SpatialDropout1D \n",
    "from tensorflow.python.keras.callbacks import EarlyStopping\n",
    "\n",
    "model = Sequential()\n",
    "model.add(Embedding(MAX_NB_WORDS, EMBEDDING_DIM, input_length=X_abstract.shape[1]))\n",
    "model.add(LSTM(100, dropout=0.2, recurrent_dropout=0.2))\n",
    "model.add(Dense(6, activation='softmax'))\n",
    "model.compile(loss='categorical_crossentropy', optimizer='adam', metrics=['accuracy'])\n",
    "model.summary()\n",
    "epochs = 5\n",
    "batch_size = 64\n"
   ]
  },
  {
   "cell_type": "code",
   "execution_count": 11,
   "metadata": {},
   "outputs": [
    {
     "name": "stdout",
     "output_type": "stream",
     "text": [
      "Epoch 1/5\n",
      "13/13 [==============================] - 28s 2s/step - loss: 1.7484 - accuracy: 0.3562 - val_loss: 1.5252 - val_accuracy: 0.3034\n",
      "Epoch 2/5\n",
      "13/13 [==============================] - 29s 2s/step - loss: 1.4903 - accuracy: 0.4038 - val_loss: 1.4003 - val_accuracy: 0.3483\n",
      "Epoch 3/5\n",
      "13/13 [==============================] - 30s 2s/step - loss: 1.2613 - accuracy: 0.5175 - val_loss: 0.9856 - val_accuracy: 0.6292\n",
      "Epoch 4/5\n",
      "13/13 [==============================] - 30s 2s/step - loss: 0.7980 - accuracy: 0.7925 - val_loss: 0.7763 - val_accuracy: 0.7416\n",
      "Epoch 5/5\n",
      "13/13 [==============================] - 31s 2s/step - loss: 0.5935 - accuracy: 0.9013 - val_loss: 0.5696 - val_accuracy: 0.7753\n"
     ]
    }
   ],
   "source": [
    "\n",
    "model_train = model.fit(X_abstract_train, Y_train,\n",
    "                    epochs=epochs,\n",
    "                    batch_size=batch_size,\n",
    "                    validation_data=(X_abstract_test,Y_test),\n",
    "                    callbacks=[EarlyStopping(monitor='val_loss', patience=3, min_delta=0.0001)])"
   ]
  },
  {
   "cell_type": "code",
   "execution_count": 12,
   "metadata": {},
   "outputs": [
    {
     "name": "stdout",
     "output_type": "stream",
     "text": [
      "Sequences input length: (99, 400)\n"
     ]
    }
   ],
   "source": [
    "X_val=validation_df['extracted_abstract']\n",
    "Y_val=validation_df['sdg']\n",
    "X_val_abstract = tokenizer.texts_to_sequences(X_val.astype(str).values)\n",
    "X_val_abstract = pad_sequences(X_val_abstract, maxlen=MAX_SEQUENCE_LENGTH)\n",
    "print('Sequences input length:', X_val_abstract.shape)"
   ]
  },
  {
   "cell_type": "code",
   "execution_count": 13,
   "metadata": {},
   "outputs": [
    {
     "name": "stdout",
     "output_type": "stream",
     "text": [
      "Shape of categorical variables: (99, 6)\n"
     ]
    }
   ],
   "source": [
    "Y_val = pd.get_dummies(Y_val).values\n",
    "print('Shape of categorical variables:', Y_val.shape)"
   ]
  },
  {
   "cell_type": "code",
   "execution_count": 14,
   "metadata": {},
   "outputs": [
    {
     "name": "stdout",
     "output_type": "stream",
     "text": [
      "2/2 [==============================] - 0s 54ms/step - loss: 0.4555 - accuracy: 0.7778\n"
     ]
    }
   ],
   "source": [
    "#Model Evaluation on the Test Set\n",
    "test_eval = model.evaluate(\n",
    "    X_val_abstract,                  # features\n",
    "    Y_val,                  # labels\n",
    "    batch_size=64,   # batch size\n",
    "    verbose=1                # the most extended verbose\n",
    ")\n"
   ]
  },
  {
   "cell_type": "code",
   "execution_count": 15,
   "metadata": {},
   "outputs": [
    {
     "name": "stdout",
     "output_type": "stream",
     "text": [
      "Test loss: 0.4554736316204071\n",
      "Test accuracy: 0.7777777910232544\n"
     ]
    }
   ],
   "source": [
    "print('Test loss:', test_eval[0])\n",
    "print('Test accuracy:', test_eval[1])"
   ]
  },
  {
   "cell_type": "code",
   "execution_count": 16,
   "metadata": {},
   "outputs": [],
   "source": [
    "import matplotlib.pyplot as plt"
   ]
  },
  {
   "cell_type": "code",
   "execution_count": 17,
   "metadata": {},
   "outputs": [
    {
     "data": {
      "image/png": "[encoded data removed]",
      "text/plain": [
       "<Figure size 432x288 with 1 Axes>"
      ]
     },
     "metadata": {
      "needs_background": "light"
     },
     "output_type": "display_data"
    },
    {
     "data": {
      "image/png": "[encoded data removed]",
      "text/plain": [
       "<Figure size 432x288 with 1 Axes>"
      ]
     },
     "metadata": {
      "needs_background": "light"
     },
     "output_type": "display_data"
    }
   ],
   "source": [
    "#Let's put your model evaluation into perspective and plot the accuracy and loss plots between training and validation data:\n",
    "\n",
    "accuracy = model_train.history['accuracy']\n",
    "val_accuracy = model_train.history['val_accuracy']\n",
    "loss =model_train.history['loss']\n",
    "val_loss = model_train.history['val_loss']\n",
    "epochs = range(len(accuracy))\n",
    "plt.plot(epochs, accuracy, 'bo', label='Training accuracy')\n",
    "plt.plot(epochs, val_accuracy, 'b', label='Validation accuracy')\n",
    "plt.title('Training and validation accuracy')\n",
    "plt.legend()\n",
    "plt.figure()\n",
    "plt.plot(epochs, loss, 'bo', label='Training loss')\n",
    "plt.plot(epochs, val_loss, 'b', label='Validation loss')\n",
    "plt.title('Training and validation loss')\n",
    "plt.legend()\n",
    "plt.show()"
   ]
  },
  {
   "cell_type": "code",
   "execution_count": 18,
   "metadata": {},
   "outputs": [
    {
     "name": "stdout",
     "output_type": "stream",
     "text": [
      "Model: \"sequential_1\"\n",
      "_________________________________________________________________\n",
      "Layer (type)                 Output Shape              Param #   \n",
      "=================================================================\n",
      "embedding_1 (Embedding)      (None, 400, 100)          5000000   \n",
      "_________________________________________________________________\n",
      "spatial_dropout1d (SpatialDr (None, 400, 100)          0         \n",
      "_________________________________________________________________\n",
      "lstm_1 (LSTM)                (None, 100)               80400     \n",
      "_________________________________________________________________\n",
      "dense_1 (Dense)              (None, 6)                 606       \n",
      "=================================================================\n",
      "Total params: 5,081,006\n",
      "Trainable params: 5,081,006\n",
      "Non-trainable params: 0\n",
      "_________________________________________________________________\n"
     ]
    }
   ],
   "source": [
    "import keras\n",
    "from keras.models import Sequential\n",
    "from keras.layers import SpatialDropout1D \n",
    "from tensorflow.python.keras.callbacks import EarlyStopping\n",
    "\n",
    "model_dropout = Sequential()\n",
    "model_dropout.add(Embedding(MAX_NB_WORDS, EMBEDDING_DIM, input_length=X_abstract.shape[1]))\n",
    "model_dropout.add(SpatialDropout1D(0.2))\n",
    "model_dropout.add(LSTM(100, dropout=0.2, recurrent_dropout=0.2))\n",
    "model_dropout.add(Dense(6, activation='softmax'))\n",
    "model_dropout.compile(loss='categorical_crossentropy', optimizer='adam', metrics=['accuracy'])\n",
    "model_dropout.summary()\n",
    "epochs = 5\n",
    "batch_size = 64"
   ]
  },
  {
   "cell_type": "code",
   "execution_count": 22,
   "metadata": {},
   "outputs": [
    {
     "name": "stdout",
     "output_type": "stream",
     "text": [
      "('Failed to import pydot. You must `pip install pydot` and install graphviz (https://graphviz.gitlab.io/download/), ', 'for `pydotprint` to work.')\n"
     ]
    }
   ],
   "source": [
    "from tensorflow.keras.utils import plot_model\n",
    "\n",
    "plot_model(model_dropout,\n",
    "           to_file='model_plot_dropout_rnn.png',\n",
    "           show_shapes=True,\n",
    "           show_layer_names=True)"
   ]
  },
  {
   "cell_type": "code",
   "execution_count": 19,
   "metadata": {},
   "outputs": [
    {
     "name": "stdout",
     "output_type": "stream",
     "text": [
      "Epoch 1/5\n",
      "13/13 [==============================] - 30s 2s/step - loss: 1.7548 - accuracy: 0.3900 - val_loss: 1.6393 - val_accuracy: 0.4270\n",
      "Epoch 2/5\n",
      "13/13 [==============================] - 31s 2s/step - loss: 1.5257 - accuracy: 0.3787 - val_loss: 1.4596 - val_accuracy: 0.2472\n",
      "Epoch 3/5\n",
      "13/13 [==============================] - 31s 2s/step - loss: 1.3388 - accuracy: 0.5125 - val_loss: 1.1977 - val_accuracy: 0.3258\n",
      "Epoch 4/5\n",
      "13/13 [==============================] - 31s 2s/step - loss: 0.8295 - accuracy: 0.7475 - val_loss: 0.6271 - val_accuracy: 0.8090\n",
      "Epoch 5/5\n",
      "13/13 [==============================] - 32s 2s/step - loss: 0.5491 - accuracy: 0.7912 - val_loss: 0.6462 - val_accuracy: 0.8539\n"
     ]
    }
   ],
   "source": [
    "\n",
    "model_dropout_train = model_dropout.fit(X_abstract_train, Y_train,\n",
    "                    epochs=epochs,\n",
    "                    batch_size=batch_size,\n",
    "                    validation_data=(X_abstract_test,Y_test),\n",
    "                    callbacks=[EarlyStopping(monitor='val_loss', patience=3, min_delta=0.0001)])"
   ]
  },
  {
   "cell_type": "code",
   "execution_count": 20,
   "metadata": {},
   "outputs": [
    {
     "name": "stdout",
     "output_type": "stream",
     "text": [
      "2/2 [==============================] - 0s 61ms/step - loss: 0.4799 - accuracy: 0.8687\n"
     ]
    }
   ],
   "source": [
    "#Model Evaluation on the Test Set\n",
    "test_eval_dropout = model_dropout.evaluate(\n",
    "    X_val_abstract,                  # features\n",
    "    Y_val,                  # labels\n",
    "    batch_size=64,   # batch size\n",
    "    verbose=1                # the most extended verbose\n",
    ")\n"
   ]
  },
  {
   "cell_type": "code",
   "execution_count": 23,
   "metadata": {},
   "outputs": [
    {
     "name": "stdout",
     "output_type": "stream",
     "text": [
      "Test loss: 0.4799392521381378\n",
      "Test accuracy: 0.868686854839325\n"
     ]
    }
   ],
   "source": [
    "print('Test loss:', test_eval_dropout[0])\n",
    "print('Test accuracy:', test_eval_dropout[1])"
   ]
  },
  {
   "cell_type": "code",
   "execution_count": 24,
   "metadata": {
    "scrolled": true
   },
   "outputs": [
    {
     "data": {
      "image/png": "[encoded data removed]",
      "text/plain": [
       "<Figure size 432x288 with 1 Axes>"
      ]
     },
     "metadata": {
      "needs_background": "light"
     },
     "output_type": "display_data"
    },
    {
     "data": {
      "image/png": "[encoded data removed]",
      "text/plain": [
       "<Figure size 432x288 with 1 Axes>"
      ]
     },
     "metadata": {
      "needs_background": "light"
     },
     "output_type": "display_data"
    }
   ],
   "source": [
    "#Let's put your model evaluation into perspective and plot the accuracy and loss plots between training and validation data:\n",
    "\n",
    "accuracy = model_dropout_train.history['accuracy']\n",
    "val_accuracy = model_dropout_train.history['val_accuracy']\n",
    "loss =model_dropout_train.history['loss']\n",
    "val_loss = model_dropout_train.history['val_loss']\n",
    "epochs = range(len(accuracy))\n",
    "plt.plot(epochs, accuracy, 'bo', label='Training accuracy')\n",
    "plt.plot(epochs, val_accuracy, 'b', label='Validation accuracy')\n",
    "plt.title('Training and validation accuracy')\n",
    "plt.legend()\n",
    "plt.figure()\n",
    "plt.plot(epochs, loss, 'bo', label='Training loss')\n",
    "plt.plot(epochs, val_loss, 'b', label='Validation loss')\n",
    "plt.title('Training and validation loss')\n",
    "plt.legend()\n",
    "plt.show()"
   ]
  },
  {
   "cell_type": "code",
   "execution_count": 25,
   "metadata": {},
   "outputs": [
    {
     "data": {
      "text/plain": [
       "array([[2.53222764e-01, 2.37656772e-01, 1.28649518e-01, 5.09885736e-02,\n",
       "        5.83308861e-02, 2.71151483e-01],\n",
       "       [2.63868839e-01, 2.26637498e-01, 1.04526155e-01, 6.86196163e-02,\n",
       "        9.32462811e-02, 2.43101656e-01],\n",
       "       [2.55852252e-01, 2.25658819e-01, 1.27662852e-01, 6.31428510e-02,\n",
       "        8.73326361e-02, 2.40350589e-01],\n",
       "       [2.74104208e-01, 2.39405349e-01, 1.16683170e-01, 4.36073840e-02,\n",
       "        5.80158494e-02, 2.68184125e-01],\n",
       "       [2.76340067e-01, 2.43628472e-01, 1.08180508e-01, 4.49349247e-02,\n",
       "        6.31583482e-02, 2.63757646e-01],\n",
       "       [2.72144139e-01, 2.38015383e-01, 1.01542585e-01, 5.23494668e-02,\n",
       "        7.69606829e-02, 2.58987784e-01],\n",
       "       [2.27577060e-01, 2.26471797e-01, 1.44257918e-01, 8.46891850e-02,\n",
       "        8.61766636e-02, 2.30827391e-01],\n",
       "       [2.01919422e-01, 1.94450378e-01, 1.89976305e-01, 1.03299186e-01,\n",
       "        9.69200879e-02, 2.13434547e-01],\n",
       "       [2.12802783e-01, 2.18450665e-01, 2.07886353e-01, 7.06321821e-02,\n",
       "        6.23053834e-02, 2.27922693e-01],\n",
       "       [2.15160683e-01, 2.09064946e-01, 1.81984231e-01, 8.14167857e-02,\n",
       "        8.22199434e-02, 2.30153397e-01],\n",
       "       [2.21447214e-01, 2.21294329e-01, 1.63665041e-01, 8.11695233e-02,\n",
       "        8.76913145e-02, 2.24732697e-01],\n",
       "       [2.49578953e-01, 2.49307096e-01, 1.34072959e-01, 5.24385385e-02,\n",
       "        5.55614978e-02, 2.59041011e-01],\n",
       "       [4.29449923e-04, 2.21954499e-04, 5.00136171e-04, 1.75698493e-02,\n",
       "        9.81153250e-01, 1.25378108e-04],\n",
       "       [3.27189773e-04, 1.59607604e-04, 3.99278826e-04, 1.49288550e-02,\n",
       "        9.84089851e-01, 9.52287301e-05],\n",
       "       [8.31504818e-04, 4.46978287e-04, 1.18377944e-03, 5.65244816e-02,\n",
       "        9.40725803e-01, 2.87444243e-04],\n",
       "       [3.95470997e-04, 1.96796842e-04, 4.26893268e-04, 1.42463418e-02,\n",
       "        9.84622180e-01, 1.12330759e-04],\n",
       "       [9.33784992e-04, 4.99374059e-04, 1.02295761e-03, 3.54957916e-02,\n",
       "        9.61746216e-01, 3.01823689e-04],\n",
       "       [3.98178207e-04, 2.03659685e-04, 4.92266729e-04, 2.16751825e-02,\n",
       "        9.77104723e-01, 1.26019964e-04],\n",
       "       [4.85697732e-04, 2.49063713e-04, 5.62534668e-04, 2.11755298e-02,\n",
       "        9.77380335e-01, 1.46838051e-04],\n",
       "       [2.70079443e-04, 1.26316925e-04, 3.21174448e-04, 1.01946602e-02,\n",
       "        9.89013970e-01, 7.37511655e-05],\n",
       "       [4.95975604e-04, 2.58463697e-04, 5.97557984e-04, 2.13170238e-02,\n",
       "        9.77180839e-01, 1.50154156e-04],\n",
       "       [4.10536915e-04, 2.10681552e-04, 4.85120778e-04, 1.65823977e-02,\n",
       "        9.82190847e-01, 1.20492106e-04],\n",
       "       [5.59540000e-04, 2.91933364e-04, 6.24826876e-04, 2.41897926e-02,\n",
       "        9.74159122e-01, 1.74767309e-04],\n",
       "       [7.14306487e-04, 3.82248312e-04, 6.97650481e-04, 2.33614258e-02,\n",
       "        9.74630058e-01, 2.14208791e-04],\n",
       "       [8.39340384e-04, 4.45478567e-04, 8.10044876e-04, 2.67953798e-02,\n",
       "        9.70854580e-01, 2.55160412e-04],\n",
       "       [5.11102204e-04, 2.65435898e-04, 6.06623653e-04, 2.17485633e-02,\n",
       "        9.76712406e-01, 1.55842281e-04],\n",
       "       [5.22284710e-04, 2.73147627e-04, 6.21965155e-04, 2.36835461e-02,\n",
       "        9.74740744e-01, 1.58365176e-04],\n",
       "       [2.95798876e-04, 1.42717414e-04, 3.82383907e-04, 1.28668752e-02,\n",
       "        9.86229062e-01, 8.30706704e-05],\n",
       "       [3.91187234e-04, 1.93603890e-04, 4.47333878e-04, 1.45347500e-02,\n",
       "        9.84321475e-01, 1.11657420e-04],\n",
       "       [4.31421329e-04, 2.25799318e-04, 5.66120783e-04, 2.49895360e-02,\n",
       "        9.73652899e-01, 1.34185189e-04],\n",
       "       [5.05078118e-04, 2.73193727e-04, 6.27620611e-04, 2.61903182e-02,\n",
       "        9.72243369e-01, 1.60411422e-04],\n",
       "       [4.88548249e-04, 2.57912528e-04, 6.28391514e-04, 2.58400869e-02,\n",
       "        9.72634971e-01, 1.50021107e-04],\n",
       "       [4.62194963e-04, 2.32521721e-04, 5.30190184e-04, 1.88901462e-02,\n",
       "        9.79749322e-01, 1.35636481e-04],\n",
       "       [5.14237094e-04, 2.75677652e-04, 6.25404646e-04, 2.67486479e-02,\n",
       "        9.71675873e-01, 1.60145108e-04],\n",
       "       [5.14969171e-04, 2.69014330e-04, 6.68621971e-04, 2.54625268e-02,\n",
       "        9.72926557e-01, 1.58279494e-04],\n",
       "       [5.07689547e-04, 2.59053020e-04, 5.49317163e-04, 2.02658363e-02,\n",
       "        9.78268325e-01, 1.49716798e-04],\n",
       "       [3.71633767e-04, 1.83271419e-04, 4.64362151e-04, 1.74910855e-02,\n",
       "        9.81379926e-01, 1.09683358e-04],\n",
       "       [4.99446352e-04, 2.64800387e-04, 6.06836285e-04, 2.41980460e-02,\n",
       "        9.74279165e-01, 1.51630098e-04],\n",
       "       [6.00126747e-04, 3.10540549e-04, 8.10470956e-04, 4.01328467e-02,\n",
       "        9.57948685e-01, 1.97383488e-04],\n",
       "       [4.05069301e-03, 5.66471554e-03, 7.90751725e-02, 8.65956247e-01,\n",
       "        3.96110453e-02, 5.64215984e-03],\n",
       "       [1.75092509e-03, 2.23396183e-03, 1.92533117e-02, 8.94402027e-01,\n",
       "        8.05585384e-02, 1.80122256e-03],\n",
       "       [1.39553356e-03, 1.98289612e-03, 1.73551533e-02, 9.39275265e-01,\n",
       "        3.83447930e-02, 1.64641009e-03],\n",
       "       [1.45243946e-03, 2.03126646e-03, 2.03476418e-02, 9.40883398e-01,\n",
       "        3.34274918e-02, 1.85773394e-03],\n",
       "       [1.51342864e-03, 2.15196982e-03, 1.88215338e-02, 9.38449621e-01,\n",
       "        3.72077376e-02, 1.85568363e-03],\n",
       "       [1.34098262e-03, 1.83771586e-03, 1.42043158e-02, 9.34981346e-01,\n",
       "        4.60795723e-02, 1.55590463e-03],\n",
       "       [2.22525280e-03, 2.96779163e-03, 2.12021377e-02, 9.01946247e-01,\n",
       "        6.92506060e-02, 2.40793941e-03],\n",
       "       [7.96085456e-04, 4.28667990e-04, 1.16118195e-03, 6.11125901e-02,\n",
       "        9.36221182e-01, 2.80326698e-04],\n",
       "       [2.48165568e-03, 3.20656900e-03, 3.32379118e-02, 8.98217797e-01,\n",
       "        6.01112209e-02, 2.74482509e-03],\n",
       "       [8.23988300e-03, 1.20461769e-02, 1.95094451e-01, 7.09671676e-01,\n",
       "        6.20612577e-02, 1.28866481e-02],\n",
       "       [8.48431489e-04, 4.44320176e-04, 1.19971822e-03, 7.13510290e-02,\n",
       "        9.25853431e-01, 3.03118810e-04],\n",
       "       [2.73130601e-03, 2.99117714e-03, 1.96218956e-02, 7.90140510e-01,\n",
       "        1.82215720e-01, 2.29938049e-03],\n",
       "       [1.78899791e-03, 2.32079229e-03, 2.02974901e-02, 9.07537520e-01,\n",
       "        6.61207512e-02, 1.93454046e-03],\n",
       "       [3.68814496e-03, 4.62388853e-03, 4.70675379e-02, 8.51136744e-01,\n",
       "        8.95496756e-02, 3.93404951e-03],\n",
       "       [1.43242744e-03, 1.93082960e-03, 1.90273616e-02, 9.35693860e-01,\n",
       "        4.01621759e-02, 1.75327179e-03],\n",
       "       [2.38068076e-03, 3.45178414e-03, 4.19074558e-02, 9.13066149e-01,\n",
       "        3.58019397e-02, 3.39191989e-03],\n",
       "       [7.32459186e-04, 3.61488026e-04, 1.05334795e-03, 6.48829937e-02,\n",
       "        9.32715058e-01, 2.54672806e-04],\n",
       "       [1.84066873e-03, 2.41482793e-03, 1.85856465e-02, 8.98788631e-01,\n",
       "        7.64304250e-02, 1.93986658e-03],\n",
       "       [2.23203306e-03, 2.84597091e-03, 1.99925508e-02, 8.91375482e-01,\n",
       "        8.11710507e-02, 2.38299207e-03],\n",
       "       [2.20842985e-03, 3.13624577e-03, 2.83978693e-02, 9.18261111e-01,\n",
       "        4.53140587e-02, 2.68233009e-03],\n",
       "       [2.23107357e-03, 2.05852627e-03, 1.23632140e-02, 6.95328712e-01,\n",
       "        2.86425531e-01, 1.59300584e-03],\n",
       "       [1.50046253e-03, 2.06278404e-03, 1.87274627e-02, 9.32546973e-01,\n",
       "        4.34185900e-02, 1.74383179e-03],\n",
       "       [7.08367559e-04, 3.82988830e-04, 9.93822352e-04, 5.47604524e-02,\n",
       "        9.42908883e-01, 2.45445583e-04],\n",
       "       [2.42599146e-03, 3.43087595e-03, 4.37063575e-02, 9.10823405e-01,\n",
       "        3.64442021e-02, 3.16914800e-03],\n",
       "       [1.87722326e-03, 2.57712137e-03, 2.24002656e-02, 9.26018417e-01,\n",
       "        4.48752455e-02, 2.25175638e-03],\n",
       "       [1.69564702e-03, 1.00114464e-03, 3.99273634e-03, 3.23709667e-01,\n",
       "        6.68786049e-01, 8.14800558e-04],\n",
       "       [1.96917565e-03, 2.58360361e-03, 1.91831663e-02, 9.06678617e-01,\n",
       "        6.74567446e-02, 2.12877337e-03],\n",
       "       [1.59417291e-03, 1.71798118e-03, 1.08816717e-02, 8.61009061e-01,\n",
       "        1.23329528e-01, 1.46759045e-03],\n",
       "       [1.70779903e-03, 2.29778141e-03, 1.86364949e-02, 9.24471498e-01,\n",
       "        5.09223640e-02, 1.96405966e-03],\n",
       "       [1.89612829e-03, 2.57952628e-03, 2.26671901e-02, 9.13323104e-01,\n",
       "        5.74322902e-02, 2.10175104e-03],\n",
       "       [1.60293537e-03, 2.37148372e-03, 2.01462917e-02, 9.43192422e-01,\n",
       "        3.06101274e-02, 2.07668100e-03],\n",
       "       [4.15124960e-04, 2.12201994e-04, 4.92874649e-04, 1.76088996e-02,\n",
       "        9.81148064e-01, 1.22866390e-04],\n",
       "       [4.03925602e-04, 2.07740843e-04, 5.03136718e-04, 1.89709403e-02,\n",
       "        9.79794681e-01, 1.19570483e-04],\n",
       "       [3.88600311e-04, 1.97403991e-04, 5.06849436e-04, 1.77459884e-02,\n",
       "        9.81049180e-01, 1.12061221e-04],\n",
       "       [4.50259657e-04, 2.29217025e-04, 5.20804489e-04, 1.91824734e-02,\n",
       "        9.79484260e-01, 1.33008376e-04],\n",
       "       [5.40889464e-02, 7.12615326e-02, 6.61104500e-01, 9.46046785e-02,\n",
       "        3.34949978e-02, 8.54453370e-02],\n",
       "       [4.54769693e-02, 6.57907128e-02, 6.39444292e-01, 1.37501419e-01,\n",
       "        3.11572272e-02, 8.06294009e-02],\n",
       "       [2.74209827e-02, 3.92805040e-02, 7.79117227e-01, 8.42867568e-02,\n",
       "        1.92862824e-02, 5.06081656e-02],\n",
       "       [3.21083181e-02, 4.74803112e-02, 7.79819667e-01, 6.88697249e-02,\n",
       "        1.62449107e-02, 5.54771908e-02],\n",
       "       [1.05361402e-01, 1.33382231e-01, 4.89071101e-01, 8.68713856e-02,\n",
       "        3.87707874e-02, 1.46543160e-01],\n",
       "       [2.30958555e-02, 3.30002382e-02, 7.93747127e-01, 8.60947445e-02,\n",
       "        1.91672426e-02, 4.48948219e-02],\n",
       "       [3.16655263e-02, 4.70487475e-02, 8.00042093e-01, 5.36041819e-02,\n",
       "        1.23380888e-02, 5.53012900e-02],\n",
       "       [5.18325828e-02, 7.24568292e-02, 6.63809240e-01, 9.70600024e-02,\n",
       "        3.06031629e-02, 8.42381567e-02],\n",
       "       [4.33146656e-02, 5.81410639e-02, 7.27028310e-01, 7.61642829e-02,\n",
       "        2.56313290e-02, 6.97203055e-02],\n",
       "       [1.17256567e-01, 1.41268164e-01, 4.49397057e-01, 8.75704661e-02,\n",
       "        4.39887568e-02, 1.60519019e-01],\n",
       "       [2.05028709e-02, 2.96489093e-02, 8.33303273e-01, 6.31413311e-02,\n",
       "        1.32572260e-02, 4.01464105e-02],\n",
       "       [1.95131637e-02, 2.94249449e-02, 8.36934090e-01, 6.37964755e-02,\n",
       "        1.29273990e-02, 3.74039300e-02],\n",
       "       [2.25815009e-02, 3.45839635e-02, 7.89390862e-01, 9.04850960e-02,\n",
       "        1.88039392e-02, 4.41546217e-02],\n",
       "       [6.81588575e-02, 9.47017744e-02, 6.23586535e-01, 8.28616023e-02,\n",
       "        2.62929592e-02, 1.04398310e-01],\n",
       "       [6.48857504e-02, 8.44881311e-02, 5.87257087e-01, 1.14646338e-01,\n",
       "        5.09931892e-02, 9.77295116e-02],\n",
       "       [1.78224608e-01, 1.80879906e-01, 2.61745006e-01, 9.39883962e-02,\n",
       "        9.14718062e-02, 1.93690270e-01],\n",
       "       [3.20212916e-02, 4.65193018e-02, 7.50761330e-01, 9.39007103e-02,\n",
       "        1.94912609e-02, 5.73060215e-02],\n",
       "       [6.50157547e-03, 9.90354642e-03, 1.72821552e-01, 7.55804181e-01,\n",
       "        4.38805111e-02, 1.10886320e-02],\n",
       "       [1.02088124e-01, 1.25366598e-01, 5.01597166e-01, 8.69589001e-02,\n",
       "        4.23770957e-02, 1.41612053e-01],\n",
       "       [1.72932781e-02, 2.58322004e-02, 8.43800902e-01, 6.68129399e-02,\n",
       "        1.25862183e-02, 3.36744189e-02],\n",
       "       [2.37112679e-02, 3.52761373e-02, 7.65256584e-01, 1.09753929e-01,\n",
       "        2.09279433e-02, 4.50741202e-02],\n",
       "       [3.70393880e-02, 5.18729389e-02, 7.53245056e-01, 7.16709122e-02,\n",
       "        2.30014548e-02, 6.31702095e-02],\n",
       "       [2.20967103e-02, 3.27676833e-02, 8.28607500e-01, 6.13586642e-02,\n",
       "        1.35010760e-02, 4.16684076e-02],\n",
       "       [2.59093065e-02, 3.69142145e-02, 8.29234242e-01, 5.05157113e-02,\n",
       "        1.30995233e-02, 4.43270579e-02],\n",
       "       [1.97764933e-02, 2.91243885e-02, 8.28445554e-01, 6.81870431e-02,\n",
       "        1.54191358e-02, 3.90473455e-02]], dtype=float32)"
      ]
     },
     "execution_count": 25,
     "metadata": {},
     "output_type": "execute_result"
    }
   ],
   "source": [
    "y_test_pred_probs = model_dropout.predict(X_val_abstract)\n",
    "y_test_pred_probs"
   ]
  },
  {
   "cell_type": "code",
   "execution_count": 26,
   "metadata": {},
   "outputs": [
    {
     "data": {
      "text/plain": [
       "array([5, 0, 0, 0, 0, 0, 1, 1, 1, 1, 1, 1, 4, 4, 4, 4, 4, 4, 4, 4, 4, 4,\n",
       "       4, 4, 4, 4, 4, 4, 4, 4, 4, 4, 4, 4, 4, 4, 4, 4, 3, 3, 3, 3, 3, 3,\n",
       "       3, 3, 3, 3, 3, 3, 3, 3, 3, 3, 3, 3, 3, 3, 3, 3, 3, 3, 3, 3, 3, 3,\n",
       "       3, 3, 3, 3, 4, 4, 4, 4, 2, 2, 2, 2, 2, 2, 2, 2, 2, 2, 2, 2, 2, 2,\n",
       "       2, 2, 2, 3, 3, 2, 2, 2, 2, 2, 2], dtype=int64)"
      ]
     },
     "execution_count": 26,
     "metadata": {},
     "output_type": "execute_result"
    }
   ],
   "source": [
    "Y_val.argmax(axis=1)"
   ]
  },
  {
   "cell_type": "code",
   "execution_count": 27,
   "metadata": {},
   "outputs": [],
   "source": [
    "y_score = model_dropout.predict(X_val_abstract)"
   ]
  },
  {
   "cell_type": "code",
   "execution_count": 28,
   "metadata": {},
   "outputs": [
    {
     "data": {
      "text/plain": [
       "array([0.25322276, 0.23765677, 0.12864952, 0.05098857, 0.05833089,\n",
       "       0.27115148], dtype=float32)"
      ]
     },
     "execution_count": 28,
     "metadata": {},
     "output_type": "execute_result"
    }
   ],
   "source": [
    "y_score[0]"
   ]
  },
  {
   "cell_type": "code",
   "execution_count": 29,
   "metadata": {},
   "outputs": [],
   "source": [
    "from scipy import interp\n",
    "from itertools import cycle\n",
    "\n",
    "\n",
    "def plot_multi_class_roc_auc_curves(nb_classes, y_true, y_pred_score, lw: int = 2):\n",
    "    \"\"\"\n",
    "    ROC, AUC for a categorical classifier\n",
    "    \n",
    "    ROC curve extends to problems with three or more classes with what is known as the one-vs-all approach.\n",
    "    For instance, if we have three classes, we will create three ROC curves,\n",
    "\n",
    "    For each class, we take it as the positive class and group the rest classes jointly as the negative class.\n",
    "\n",
    "    Class 1 vs classes 2&3\n",
    "    Class 2 vs classes 1&3\n",
    "    Class 3 vs classes 1&2\n",
    "\n",
    "    :param nb_classes:\n",
    "    :param y_true:\n",
    "    :param y_pred_score:\n",
    "    :param lw:\n",
    "    :return:\n",
    "    \"\"\"\n",
    "\n",
    "    # Compute ROC curve and ROC area for each class\n",
    "    fpr = dict()\n",
    "    tpr = dict()\n",
    "    roc_auc = dict()\n",
    "\n",
    "    for i in range(nb_classes):\n",
    "        fpr[i], tpr[i], _ = roc_curve(y_true[:, i], y_pred_score[:, i])\n",
    "\n",
    "        roc_auc[i] = auc(fpr[i], tpr[i])\n",
    "\n",
    "    # Compute micro-average ROC curve and ROC area\n",
    "    fpr[\"micro\"], tpr[\"micro\"], _ = roc_curve(y_true.ravel(), y_pred_score.ravel())\n",
    "\n",
    "    roc_auc[\"micro\"] = auc(fpr[\"micro\"], tpr[\"micro\"])\n",
    "\n",
    "    # Compute macro-average ROC curve and ROC area\n",
    "\n",
    "    # First aggregate all false positive rates\n",
    "    all_fpr = np.unique(np.concatenate([fpr[i] for i in range(nb_classes)]))\n",
    "\n",
    "    # Then interpolate all ROC curves at this points\n",
    "    mean_tpr = np.zeros_like(all_fpr)\n",
    "\n",
    "    for i in range(nb_classes):\n",
    "        mean_tpr += interp(all_fpr, fpr[i], tpr[i])\n",
    "\n",
    "    # Finally average it and compute AUC\n",
    "    mean_tpr /= nb_classes\n",
    "\n",
    "    fpr[\"macro\"] = all_fpr\n",
    "    tpr[\"macro\"] = mean_tpr\n",
    "    roc_auc[\"macro\"] = auc(fpr[\"macro\"], tpr[\"macro\"])\n",
    "\n",
    "    # Plot all ROC curves\n",
    "    plt.figure(1)\n",
    "    plt.plot(fpr[\"micro\"],\n",
    "             tpr[\"micro\"],\n",
    "             label='micro-average ROC curve (area = {0:0.2f})'.format(roc_auc[\"micro\"]),\n",
    "             color='deeppink',\n",
    "             linestyle=':',\n",
    "             linewidth=4)\n",
    "\n",
    "    plt.plot(fpr[\"macro\"],\n",
    "             tpr[\"macro\"],\n",
    "             label='macro-average ROC curve (area = {0:0.2f})'.format(roc_auc[\"macro\"]),\n",
    "             color='navy',\n",
    "             linestyle=':',\n",
    "             linewidth=4)\n",
    "\n",
    "    colors = cycle(['aqua',\n",
    "                    'darkorange',\n",
    "                    'cornflowerblue'])\n",
    "\n",
    "    for i, color in zip(range(nb_classes), colors):\n",
    "        plt.plot(fpr[i],\n",
    "                 tpr[i],\n",
    "                 color=color,\n",
    "                 lw=lw,\n",
    "                 label='ROC curve of class {0} (area = {1:0.2f})'.format(i, roc_auc[i]))\n",
    "\n",
    "    plt.plot([0, 1],\n",
    "             [0, 1],\n",
    "             'k--',\n",
    "             lw=lw)\n",
    "\n",
    "    plt.xlim([0.0, 1.0])\n",
    "    plt.ylim([0.0, 1.05])\n",
    "\n",
    "    plt.xlabel('False Positive Rate')\n",
    "    plt.ylabel('True Positive Rate')\n",
    "\n",
    "    plt.title('Some extension of Receiver operating characteristic to multi-class')\n",
    "    plt.legend(loc=\"lower right\")\n",
    "    # plt.show()\n",
    "\n",
    "    # Zoom in view of the upper left corner.\n",
    "    plt.figure(2)\n",
    "    plt.xlim(0, 0.2)\n",
    "    plt.ylim(0.7, 1)\n",
    "\n",
    "    plt.plot(fpr[\"micro\"],\n",
    "             tpr[\"micro\"],\n",
    "             label='micro-average ROC curve (area = {0:0.2f})'.format(roc_auc[\"micro\"]),\n",
    "             color='deeppink',\n",
    "             linestyle=':',\n",
    "             linewidth=4)\n",
    "\n",
    "    plt.plot(fpr[\"macro\"],\n",
    "             tpr[\"macro\"],\n",
    "             label='macro-average ROC curve (area = {0:0.2f})'.format(roc_auc[\"macro\"]),\n",
    "             color='navy',\n",
    "             linestyle=':',\n",
    "             linewidth=4)\n",
    "\n",
    "    colors = cycle(['aqua',\n",
    "                    'darkorange',\n",
    "                    'cornflowerblue'])\n",
    "\n",
    "    for i, color in zip(range(nb_classes), colors):\n",
    "        plt.plot(fpr[i],\n",
    "                 tpr[i],\n",
    "                 color=color,\n",
    "                 lw=lw,\n",
    "                 label='ROC curve of class {0} (area = {1:0.2f})'.format(i, roc_auc[i]))\n",
    "\n",
    "    plt.plot([0, 1],\n",
    "             [0, 1],\n",
    "             'k--', lw=lw)\n",
    "\n",
    "    plt.xlabel('False Positive Rate')\n",
    "    plt.ylabel('True Positive Rate')\n",
    "    plt.title('Some extension of Receiver operating characteristic to multi-class')\n",
    "    plt.legend(loc=\"lower right\")\n",
    "    plt.show()"
   ]
  },
  {
   "cell_type": "code",
   "execution_count": 31,
   "metadata": {},
   "outputs": [
    {
     "name": "stderr",
     "output_type": "stream",
     "text": [
      "C:\\Users\\Eleni Kakagianni\\anaconda3\\lib\\site-packages\\ipykernel_launcher.py:49: DeprecationWarning: scipy.interp is deprecated and will be removed in SciPy 2.0.0, use numpy.interp instead\n"
     ]
    },
    {
     "data": {
      "image/png": "[encoded data removed]",
      "text/plain": [
       "<Figure size 432x288 with 1 Axes>"
      ]
     },
     "metadata": {
      "needs_background": "light"
     },
     "output_type": "display_data"
    },
    {
     "data": {
      "image/png": "[encoded data removed]",
      "text/plain": [
       "<Figure size 432x288 with 1 Axes>"
      ]
     },
     "metadata": {
      "needs_background": "light"
     },
     "output_type": "display_data"
    }
   ],
   "source": [
    "plot_multi_class_roc_auc_curves(nb_classes=6,\n",
    "                                y_true=Y_val,\n",
    "                                y_pred_score=y_score)"
   ]
  },
  {
   "cell_type": "code",
   "execution_count": 32,
   "metadata": {},
   "outputs": [
    {
     "name": "stdout",
     "output_type": "stream",
     "text": [
      "WARNING:tensorflow:From <ipython-input-32-a3c5f9d11ef0>:1: Sequential.predict_classes (from tensorflow.python.keras.engine.sequential) is deprecated and will be removed after 2021-01-01.\n",
      "Instructions for updating:\n",
      "Please use instead:* `np.argmax(model.predict(x), axis=-1)`,   if your model does multi-class classification   (e.g. if it uses a `softmax` last-layer activation).* `(model.predict(x) > 0.5).astype(\"int32\")`,   if your model does binary classification   (e.g. if it uses a `sigmoid` last-layer activation).\n"
     ]
    },
    {
     "data": {
      "text/plain": [
       "array([5, 0, 0, 0, 0, 0, 5, 5, 5, 5, 5, 5, 4, 4, 4, 4, 4, 4, 4, 4, 4, 4,\n",
       "       4, 4, 4, 4, 4, 4, 4, 4, 4, 4, 4, 4, 4, 4, 4, 4, 4, 3, 3, 3, 3, 3,\n",
       "       3, 3, 4, 3, 3, 4, 3, 3, 3, 3, 3, 4, 3, 3, 3, 3, 3, 4, 3, 3, 4, 3,\n",
       "       3, 3, 3, 3, 4, 4, 4, 4, 2, 2, 2, 2, 2, 2, 2, 2, 2, 2, 2, 2, 2, 2,\n",
       "       2, 2, 2, 3, 2, 2, 2, 2, 2, 2, 2], dtype=int64)"
      ]
     },
     "execution_count": 32,
     "metadata": {},
     "output_type": "execute_result"
    }
   ],
   "source": [
    "y_pred_class = model_dropout.predict_classes(X_val_abstract)\n",
    "y_pred_class"
   ]
  },
  {
   "cell_type": "code",
   "execution_count": 33,
   "metadata": {},
   "outputs": [
    {
     "data": {
      "text/plain": [
       "array([[0, 0, 0, 0, 0, 1],\n",
       "       [1, 0, 0, 0, 0, 0],\n",
       "       [1, 0, 0, 0, 0, 0],\n",
       "       [1, 0, 0, 0, 0, 0],\n",
       "       [1, 0, 0, 0, 0, 0],\n",
       "       [1, 0, 0, 0, 0, 0],\n",
       "       [0, 1, 0, 0, 0, 0],\n",
       "       [0, 1, 0, 0, 0, 0],\n",
       "       [0, 1, 0, 0, 0, 0],\n",
       "       [0, 1, 0, 0, 0, 0],\n",
       "       [0, 1, 0, 0, 0, 0],\n",
       "       [0, 1, 0, 0, 0, 0],\n",
       "       [0, 0, 0, 0, 1, 0],\n",
       "       [0, 0, 0, 0, 1, 0],\n",
       "       [0, 0, 0, 0, 1, 0],\n",
       "       [0, 0, 0, 0, 1, 0],\n",
       "       [0, 0, 0, 0, 1, 0],\n",
       "       [0, 0, 0, 0, 1, 0],\n",
       "       [0, 0, 0, 0, 1, 0],\n",
       "       [0, 0, 0, 0, 1, 0],\n",
       "       [0, 0, 0, 0, 1, 0],\n",
       "       [0, 0, 0, 0, 1, 0],\n",
       "       [0, 0, 0, 0, 1, 0],\n",
       "       [0, 0, 0, 0, 1, 0],\n",
       "       [0, 0, 0, 0, 1, 0],\n",
       "       [0, 0, 0, 0, 1, 0],\n",
       "       [0, 0, 0, 0, 1, 0],\n",
       "       [0, 0, 0, 0, 1, 0],\n",
       "       [0, 0, 0, 0, 1, 0],\n",
       "       [0, 0, 0, 0, 1, 0],\n",
       "       [0, 0, 0, 0, 1, 0],\n",
       "       [0, 0, 0, 0, 1, 0],\n",
       "       [0, 0, 0, 0, 1, 0],\n",
       "       [0, 0, 0, 0, 1, 0],\n",
       "       [0, 0, 0, 0, 1, 0],\n",
       "       [0, 0, 0, 0, 1, 0],\n",
       "       [0, 0, 0, 0, 1, 0],\n",
       "       [0, 0, 0, 0, 1, 0],\n",
       "       [0, 0, 0, 1, 0, 0],\n",
       "       [0, 0, 0, 1, 0, 0],\n",
       "       [0, 0, 0, 1, 0, 0],\n",
       "       [0, 0, 0, 1, 0, 0],\n",
       "       [0, 0, 0, 1, 0, 0],\n",
       "       [0, 0, 0, 1, 0, 0],\n",
       "       [0, 0, 0, 1, 0, 0],\n",
       "       [0, 0, 0, 1, 0, 0],\n",
       "       [0, 0, 0, 1, 0, 0],\n",
       "       [0, 0, 0, 1, 0, 0],\n",
       "       [0, 0, 0, 1, 0, 0],\n",
       "       [0, 0, 0, 1, 0, 0],\n",
       "       [0, 0, 0, 1, 0, 0],\n",
       "       [0, 0, 0, 1, 0, 0],\n",
       "       [0, 0, 0, 1, 0, 0],\n",
       "       [0, 0, 0, 1, 0, 0],\n",
       "       [0, 0, 0, 1, 0, 0],\n",
       "       [0, 0, 0, 1, 0, 0],\n",
       "       [0, 0, 0, 1, 0, 0],\n",
       "       [0, 0, 0, 1, 0, 0],\n",
       "       [0, 0, 0, 1, 0, 0],\n",
       "       [0, 0, 0, 1, 0, 0],\n",
       "       [0, 0, 0, 1, 0, 0],\n",
       "       [0, 0, 0, 1, 0, 0],\n",
       "       [0, 0, 0, 1, 0, 0],\n",
       "       [0, 0, 0, 1, 0, 0],\n",
       "       [0, 0, 0, 1, 0, 0],\n",
       "       [0, 0, 0, 1, 0, 0],\n",
       "       [0, 0, 0, 1, 0, 0],\n",
       "       [0, 0, 0, 1, 0, 0],\n",
       "       [0, 0, 0, 1, 0, 0],\n",
       "       [0, 0, 0, 1, 0, 0],\n",
       "       [0, 0, 0, 0, 1, 0],\n",
       "       [0, 0, 0, 0, 1, 0],\n",
       "       [0, 0, 0, 0, 1, 0],\n",
       "       [0, 0, 0, 0, 1, 0],\n",
       "       [0, 0, 1, 0, 0, 0],\n",
       "       [0, 0, 1, 0, 0, 0],\n",
       "       [0, 0, 1, 0, 0, 0],\n",
       "       [0, 0, 1, 0, 0, 0],\n",
       "       [0, 0, 1, 0, 0, 0],\n",
       "       [0, 0, 1, 0, 0, 0],\n",
       "       [0, 0, 1, 0, 0, 0],\n",
       "       [0, 0, 1, 0, 0, 0],\n",
       "       [0, 0, 1, 0, 0, 0],\n",
       "       [0, 0, 1, 0, 0, 0],\n",
       "       [0, 0, 1, 0, 0, 0],\n",
       "       [0, 0, 1, 0, 0, 0],\n",
       "       [0, 0, 1, 0, 0, 0],\n",
       "       [0, 0, 1, 0, 0, 0],\n",
       "       [0, 0, 1, 0, 0, 0],\n",
       "       [0, 0, 1, 0, 0, 0],\n",
       "       [0, 0, 1, 0, 0, 0],\n",
       "       [0, 0, 0, 1, 0, 0],\n",
       "       [0, 0, 0, 1, 0, 0],\n",
       "       [0, 0, 1, 0, 0, 0],\n",
       "       [0, 0, 1, 0, 0, 0],\n",
       "       [0, 0, 1, 0, 0, 0],\n",
       "       [0, 0, 1, 0, 0, 0],\n",
       "       [0, 0, 1, 0, 0, 0],\n",
       "       [0, 0, 1, 0, 0, 0]], dtype=uint8)"
      ]
     },
     "execution_count": 33,
     "metadata": {},
     "output_type": "execute_result"
    }
   ],
   "source": [
    "Y_val\n"
   ]
  },
  {
   "cell_type": "code",
   "execution_count": 34,
   "metadata": {},
   "outputs": [],
   "source": [
    "from sklearn import preprocessing\n",
    "lb = preprocessing.LabelBinarizer()\n",
    "y_test_binarize = lb.fit_transform(Y_val)"
   ]
  },
  {
   "cell_type": "code",
   "execution_count": 35,
   "metadata": {
    "scrolled": true
   },
   "outputs": [
    {
     "data": {
      "text/plain": [
       "array([[0, 0, 0, 0, 0, 1],\n",
       "       [1, 0, 0, 0, 0, 0],\n",
       "       [1, 0, 0, 0, 0, 0],\n",
       "       [1, 0, 0, 0, 0, 0],\n",
       "       [1, 0, 0, 0, 0, 0],\n",
       "       [1, 0, 0, 0, 0, 0],\n",
       "       [0, 1, 0, 0, 0, 0],\n",
       "       [0, 1, 0, 0, 0, 0],\n",
       "       [0, 1, 0, 0, 0, 0],\n",
       "       [0, 1, 0, 0, 0, 0],\n",
       "       [0, 1, 0, 0, 0, 0],\n",
       "       [0, 1, 0, 0, 0, 0],\n",
       "       [0, 0, 0, 0, 1, 0],\n",
       "       [0, 0, 0, 0, 1, 0],\n",
       "       [0, 0, 0, 0, 1, 0],\n",
       "       [0, 0, 0, 0, 1, 0],\n",
       "       [0, 0, 0, 0, 1, 0],\n",
       "       [0, 0, 0, 0, 1, 0],\n",
       "       [0, 0, 0, 0, 1, 0],\n",
       "       [0, 0, 0, 0, 1, 0],\n",
       "       [0, 0, 0, 0, 1, 0],\n",
       "       [0, 0, 0, 0, 1, 0],\n",
       "       [0, 0, 0, 0, 1, 0],\n",
       "       [0, 0, 0, 0, 1, 0],\n",
       "       [0, 0, 0, 0, 1, 0],\n",
       "       [0, 0, 0, 0, 1, 0],\n",
       "       [0, 0, 0, 0, 1, 0],\n",
       "       [0, 0, 0, 0, 1, 0],\n",
       "       [0, 0, 0, 0, 1, 0],\n",
       "       [0, 0, 0, 0, 1, 0],\n",
       "       [0, 0, 0, 0, 1, 0],\n",
       "       [0, 0, 0, 0, 1, 0],\n",
       "       [0, 0, 0, 0, 1, 0],\n",
       "       [0, 0, 0, 0, 1, 0],\n",
       "       [0, 0, 0, 0, 1, 0],\n",
       "       [0, 0, 0, 0, 1, 0],\n",
       "       [0, 0, 0, 0, 1, 0],\n",
       "       [0, 0, 0, 0, 1, 0],\n",
       "       [0, 0, 0, 1, 0, 0],\n",
       "       [0, 0, 0, 1, 0, 0],\n",
       "       [0, 0, 0, 1, 0, 0],\n",
       "       [0, 0, 0, 1, 0, 0],\n",
       "       [0, 0, 0, 1, 0, 0],\n",
       "       [0, 0, 0, 1, 0, 0],\n",
       "       [0, 0, 0, 1, 0, 0],\n",
       "       [0, 0, 0, 1, 0, 0],\n",
       "       [0, 0, 0, 1, 0, 0],\n",
       "       [0, 0, 0, 1, 0, 0],\n",
       "       [0, 0, 0, 1, 0, 0],\n",
       "       [0, 0, 0, 1, 0, 0],\n",
       "       [0, 0, 0, 1, 0, 0],\n",
       "       [0, 0, 0, 1, 0, 0],\n",
       "       [0, 0, 0, 1, 0, 0],\n",
       "       [0, 0, 0, 1, 0, 0],\n",
       "       [0, 0, 0, 1, 0, 0],\n",
       "       [0, 0, 0, 1, 0, 0],\n",
       "       [0, 0, 0, 1, 0, 0],\n",
       "       [0, 0, 0, 1, 0, 0],\n",
       "       [0, 0, 0, 1, 0, 0],\n",
       "       [0, 0, 0, 1, 0, 0],\n",
       "       [0, 0, 0, 1, 0, 0],\n",
       "       [0, 0, 0, 1, 0, 0],\n",
       "       [0, 0, 0, 1, 0, 0],\n",
       "       [0, 0, 0, 1, 0, 0],\n",
       "       [0, 0, 0, 1, 0, 0],\n",
       "       [0, 0, 0, 1, 0, 0],\n",
       "       [0, 0, 0, 1, 0, 0],\n",
       "       [0, 0, 0, 1, 0, 0],\n",
       "       [0, 0, 0, 1, 0, 0],\n",
       "       [0, 0, 0, 1, 0, 0],\n",
       "       [0, 0, 0, 0, 1, 0],\n",
       "       [0, 0, 0, 0, 1, 0],\n",
       "       [0, 0, 0, 0, 1, 0],\n",
       "       [0, 0, 0, 0, 1, 0],\n",
       "       [0, 0, 1, 0, 0, 0],\n",
       "       [0, 0, 1, 0, 0, 0],\n",
       "       [0, 0, 1, 0, 0, 0],\n",
       "       [0, 0, 1, 0, 0, 0],\n",
       "       [0, 0, 1, 0, 0, 0],\n",
       "       [0, 0, 1, 0, 0, 0],\n",
       "       [0, 0, 1, 0, 0, 0],\n",
       "       [0, 0, 1, 0, 0, 0],\n",
       "       [0, 0, 1, 0, 0, 0],\n",
       "       [0, 0, 1, 0, 0, 0],\n",
       "       [0, 0, 1, 0, 0, 0],\n",
       "       [0, 0, 1, 0, 0, 0],\n",
       "       [0, 0, 1, 0, 0, 0],\n",
       "       [0, 0, 1, 0, 0, 0],\n",
       "       [0, 0, 1, 0, 0, 0],\n",
       "       [0, 0, 1, 0, 0, 0],\n",
       "       [0, 0, 1, 0, 0, 0],\n",
       "       [0, 0, 0, 1, 0, 0],\n",
       "       [0, 0, 0, 1, 0, 0],\n",
       "       [0, 0, 1, 0, 0, 0],\n",
       "       [0, 0, 1, 0, 0, 0],\n",
       "       [0, 0, 1, 0, 0, 0],\n",
       "       [0, 0, 1, 0, 0, 0],\n",
       "       [0, 0, 1, 0, 0, 0],\n",
       "       [0, 0, 1, 0, 0, 0]])"
      ]
     },
     "execution_count": 35,
     "metadata": {},
     "output_type": "execute_result"
    }
   ],
   "source": [
    "y_test_normal = lb.inverse_transform(Y_val)\n",
    "y_test_normal"
   ]
  },
  {
   "cell_type": "code",
   "execution_count": 36,
   "metadata": {},
   "outputs": [],
   "source": [
    "from sklearn.metrics import confusion_matrix, classification_report"
   ]
  },
  {
   "cell_type": "code",
   "execution_count": 37,
   "metadata": {},
   "outputs": [
    {
     "name": "stdout",
     "output_type": "stream",
     "text": [
      "              precision    recall  f1-score   support\n",
      "\n",
      "           0       1.00      1.00      1.00         5\n",
      "           1       0.00      0.00      0.00         6\n",
      "           2       0.96      1.00      0.98        23\n",
      "           3       1.00      0.79      0.89        34\n",
      "           4       0.83      1.00      0.91        30\n",
      "           5       0.14      1.00      0.25         1\n",
      "\n",
      "    accuracy                           0.87        99\n",
      "   macro avg       0.66      0.80      0.67        99\n",
      "weighted avg       0.87      0.87      0.86        99\n",
      "\n"
     ]
    },
    {
     "name": "stderr",
     "output_type": "stream",
     "text": [
      "C:\\Users\\Eleni Kakagianni\\anaconda3\\lib\\site-packages\\sklearn\\metrics\\_classification.py:1272: UndefinedMetricWarning: Precision and F-score are ill-defined and being set to 0.0 in labels with no predicted samples. Use `zero_division` parameter to control this behavior.\n",
      "  _warn_prf(average, modifier, msg_start, len(result))\n"
     ]
    }
   ],
   "source": [
    "print(classification_report(y_true=np.argmax(y_test_normal,axis = 1),\n",
    "                            y_pred=y_pred_class))"
   ]
  },
  {
   "cell_type": "code",
   "execution_count": 38,
   "metadata": {},
   "outputs": [],
   "source": [
    "def print_confusion_matrix(y_true,\n",
    "                           y_pred,\n",
    "                           class_names: List[str],\n",
    "                           figsize: Tuple[int, int] = (10, 7),\n",
    "                           fontsize: int = 14) -> pd.DataFrame:\n",
    "    \"\"\"\n",
    "    Prints a confusion matrix, as returned by sklearn.metrics.confusion_matrix, as a heat-map.\n",
    "\n",
    "    For something more extraordinary check this repo:\n",
    "    https://github.com/wcipriano/pretty-print-confusion-matrix\n",
    "\n",
    "\n",
    "    :param class_names:  An ordered list of class names\n",
    "    :param figsize: A 2-long tuple, the first value determining the horizontal size of the outputted\n",
    "                    figure, the second determining the vertical size. Defaults to (10,7).\n",
    "    :param fontsize: Font size for axes labels. Defaults to 14.\n",
    "    :return: The confusion matrix as a dataset\n",
    "    \"\"\"\n",
    "    conf_matrix = confusion_matrix(y_true=y_true, y_pred=y_pred)\n",
    "\n",
    "    df_cm = pd.DataFrame(conf_matrix, index=class_names, columns=class_names)\n",
    "\n",
    "    fig = plt.figure(figsize=figsize)\n",
    "\n",
    "    try:\n",
    "        heatmap = sns.heatmap(df_cm, annot=True, fmt=\"d\")\n",
    "\n",
    "    except ValueError:\n",
    "\n",
    "        raise ValueError(\"Confusion matrix values must be integers.\")\n",
    "\n",
    "    heatmap.yaxis.set_ticklabels(heatmap.yaxis.get_ticklabels(),\n",
    "                                 rotation=0,\n",
    "                                 ha='right',\n",
    "                                 fontsize=fontsize)\n",
    "\n",
    "    heatmap.xaxis.set_ticklabels(heatmap.xaxis.get_ticklabels(),\n",
    "                                 rotation=45,\n",
    "                                 ha='right',\n",
    "                                 fontsize=fontsize)\n",
    "\n",
    "    plt.ylabel('True label')\n",
    "    plt.xlabel('Predicted label')\n",
    "    plt.show()\n",
    "\n",
    "    return df_cm"
   ]
  },
  {
   "cell_type": "code",
   "execution_count": 39,
   "metadata": {},
   "outputs": [
    {
     "data": {
      "image/png": "[encoded data removed]",
      "text/plain": [
       "<Figure size 720x504 with 2 Axes>"
      ]
     },
     "metadata": {
      "needs_background": "light"
     },
     "output_type": "display_data"
    },
    {
     "data": {
      "text/html": [
       "<div>\n",
       "<style scoped>\n",
       "    .dataframe tbody tr th:only-of-type {\n",
       "        vertical-align: middle;\n",
       "    }\n",
       "\n",
       "    .dataframe tbody tr th {\n",
       "        vertical-align: top;\n",
       "    }\n",
       "\n",
       "    .dataframe thead th {\n",
       "        text-align: right;\n",
       "    }\n",
       "</style>\n",
       "<table border=\"1\" class=\"dataframe\">\n",
       "  <thead>\n",
       "    <tr style=\"text-align: right;\">\n",
       "      <th></th>\n",
       "      <th>SDG10</th>\n",
       "      <th>SDG12</th>\n",
       "      <th>SDG13</th>\n",
       "      <th>SDG3</th>\n",
       "      <th>SDG5</th>\n",
       "      <th>SDG7</th>\n",
       "    </tr>\n",
       "  </thead>\n",
       "  <tbody>\n",
       "    <tr>\n",
       "      <th>SDG10</th>\n",
       "      <td>5</td>\n",
       "      <td>0</td>\n",
       "      <td>0</td>\n",
       "      <td>0</td>\n",
       "      <td>0</td>\n",
       "      <td>0</td>\n",
       "    </tr>\n",
       "    <tr>\n",
       "      <th>SDG12</th>\n",
       "      <td>0</td>\n",
       "      <td>0</td>\n",
       "      <td>0</td>\n",
       "      <td>0</td>\n",
       "      <td>0</td>\n",
       "      <td>6</td>\n",
       "    </tr>\n",
       "    <tr>\n",
       "      <th>SDG13</th>\n",
       "      <td>0</td>\n",
       "      <td>0</td>\n",
       "      <td>23</td>\n",
       "      <td>0</td>\n",
       "      <td>0</td>\n",
       "      <td>0</td>\n",
       "    </tr>\n",
       "    <tr>\n",
       "      <th>SDG3</th>\n",
       "      <td>0</td>\n",
       "      <td>0</td>\n",
       "      <td>1</td>\n",
       "      <td>27</td>\n",
       "      <td>6</td>\n",
       "      <td>0</td>\n",
       "    </tr>\n",
       "    <tr>\n",
       "      <th>SDG5</th>\n",
       "      <td>0</td>\n",
       "      <td>0</td>\n",
       "      <td>0</td>\n",
       "      <td>0</td>\n",
       "      <td>30</td>\n",
       "      <td>0</td>\n",
       "    </tr>\n",
       "    <tr>\n",
       "      <th>SDG7</th>\n",
       "      <td>0</td>\n",
       "      <td>0</td>\n",
       "      <td>0</td>\n",
       "      <td>0</td>\n",
       "      <td>0</td>\n",
       "      <td>1</td>\n",
       "    </tr>\n",
       "  </tbody>\n",
       "</table>\n",
       "</div>"
      ],
      "text/plain": [
       "       SDG10  SDG12  SDG13  SDG3  SDG5  SDG7\n",
       "SDG10      5      0      0     0     0     0\n",
       "SDG12      0      0      0     0     0     6\n",
       "SDG13      0      0     23     0     0     0\n",
       "SDG3       0      0      1    27     6     0\n",
       "SDG5       0      0      0     0    30     0\n",
       "SDG7       0      0      0     0     0     1"
      ]
     },
     "execution_count": 39,
     "metadata": {},
     "output_type": "execute_result"
    }
   ],
   "source": [
    "import seaborn as sns\n",
    "\n",
    "print_confusion_matrix(y_true=np.argmax(y_test_normal,axis = 1),\n",
    "                           y_pred=y_pred_class,\n",
    "                           class_names=['SDG10', 'SDG12', 'SDG13', 'SDG3', 'SDG5', 'SDG7'])"
   ]
  },
  {
   "cell_type": "markdown",
   "metadata": {},
   "source": [
    "Test with a new abstract"
   ]
  },
  {
   "cell_type": "code",
   "execution_count": 40,
   "metadata": {},
   "outputs": [
    {
     "name": "stdout",
     "output_type": "stream",
     "text": [
      "SDG:  SDG13\n"
     ]
    }
   ],
   "source": [
    "new_abstract = ['The planet is warming, from North Pole to South Pole. Since 1906, the global average surface temperature has increased by more than 1.6 degrees Fahrenheit (0.9 degrees Celsius)—even more in sensitive polar regions. And the impacts of rising temperatures aren’t waiting for some far-flung future–the effects of global warming are appearing right now. The heat is melting glaciers and sea ice, shifting precipitation patterns, and setting animals on the move.']\n",
    "seq = tokenizer.texts_to_sequences(new_abstract)\n",
    "padded = pad_sequences(seq, maxlen=MAX_SEQUENCE_LENGTH)\n",
    "pred = model_dropout.predict(padded)\n",
    "labels = sdg_df.sdg.unique()\n",
    "#labels = sorted(set(sdg_df['sdg']), key=sdg_df['sdg'].index)\n",
    "print('SDG: ', labels[np.argmax(pred)])"
   ]
  },
  {
   "cell_type": "markdown",
   "metadata": {},
   "source": [
    "#### Save model and create model weights "
   ]
  },
  {
   "cell_type": "code",
   "execution_count": 41,
   "metadata": {},
   "outputs": [
    {
     "name": "stdout",
     "output_type": "stream",
     "text": [
      "WARNING:tensorflow:From C:\\Users\\Eleni Kakagianni\\anaconda3\\lib\\site-packages\\tensorflow\\python\\training\\tracking\\tracking.py:111: Model.state_updates (from tensorflow.python.keras.engine.training) is deprecated and will be removed in a future version.\n",
      "Instructions for updating:\n",
      "This property should not be used in TensorFlow 2.0, as updates are applied automatically.\n",
      "WARNING:tensorflow:From C:\\Users\\Eleni Kakagianni\\anaconda3\\lib\\site-packages\\tensorflow\\python\\training\\tracking\\tracking.py:111: Layer.updates (from tensorflow.python.keras.engine.base_layer) is deprecated and will be removed in a future version.\n",
      "Instructions for updating:\n",
      "This property should not be used in TensorFlow 2.0, as updates are applied automatically.\n",
      "INFO:tensorflow:Assets written to: C:\\Users\\ELENIK~1\\AppData\\Local\\Temp\\tmpsnfurn6t\\RNN_abstract_model_weights\\assets\n"
     ]
    }
   ],
   "source": [
    "import os\n",
    "import tempfile\n",
    "import tensorflow as tf\n",
    "\n",
    "tmpdir = tempfile.mkdtemp()\n",
    "\n",
    "title_save_path = os.path.join(tmpdir, \"RNN_abstract_model_weights\")\n",
    "tf.saved_model.save(model_dropout, title_save_path)"
   ]
  },
  {
   "cell_type": "code",
   "execution_count": null,
   "metadata": {},
   "outputs": [],
   "source": []
  }
 ],
 "metadata": {
  "kernelspec": {
   "display_name": "Python 3",
   "language": "python",
   "name": "python3"
  },
  "language_info": {
   "codemirror_mode": {
    "name": "ipython",
    "version": 3
   },
   "file_extension": ".py",
   "mimetype": "text/x-python",
   "name": "python",
   "nbconvert_exporter": "python",
   "pygments_lexer": "ipython3",
   "version": "3.7.6"
  }
 },
 "nbformat": 4,
 "nbformat_minor": 4
}
