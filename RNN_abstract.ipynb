{
 "cells": [
  {
   "cell_type": "code",
   "execution_count": 1,
   "metadata": {},
   "outputs": [],
   "source": [
    "from __future__ import print_function\n",
    "\n",
    "import re\n",
    "import tarfile\n",
    "from pathlib import Path\n",
    "from time import time\n",
    "from functools import reduce\n",
    "from pprint import pprint\n",
    "from typing import List, Tuple\n",
    "from sklearn.metrics import confusion_matrix\n",
    "from sklearn.metrics import roc_curve, auc\n",
    "from sklearn.model_selection import train_test_split\n",
    "from sklearn.preprocessing import LabelBinarizer\n",
    "import numpy as np\n",
    "import pandas as pd\n",
    "from tensorflow.python.keras import layers\n",
    "from tensorflow.python.keras.layers import recurrent, Input, Embedding, RepeatVector, Dropout, Dense, LSTM\n",
    "from tensorflow.python.keras.models import Model\n",
    "from tensorflow.python.keras.preprocessing.text import Tokenizer\n",
    "from tensorflow.python.keras.preprocessing.sequence import pad_sequences\n",
    "from tensorflow.python.keras.utils.data_utils import get_file\n",
    "from tqdm import tqdm"
   ]
  },
  {
   "cell_type": "code",
   "execution_count": 2,
   "metadata": {},
   "outputs": [
    {
     "ename": "FileNotFoundError",
     "evalue": "[Errno 2] File validation_data.csv does not exist: 'validation_data.csv'",
     "output_type": "error",
     "traceback": [
      "\u001b[1;31m---------------------------------------------------------------------------\u001b[0m",
      "\u001b[1;31mFileNotFoundError\u001b[0m                         Traceback (most recent call last)",
      "\u001b[1;32m<ipython-input-2-30363236284e>\u001b[0m in \u001b[0;36m<module>\u001b[1;34m\u001b[0m\n\u001b[0;32m      1\u001b[0m \u001b[1;31m#import the already preprocessed dataset\u001b[0m\u001b[1;33m\u001b[0m\u001b[1;33m\u001b[0m\u001b[1;33m\u001b[0m\u001b[0m\n\u001b[0;32m      2\u001b[0m \u001b[0msdg_df\u001b[0m  \u001b[1;33m=\u001b[0m \u001b[0mpd\u001b[0m\u001b[1;33m.\u001b[0m\u001b[0mread_csv\u001b[0m\u001b[1;33m(\u001b[0m\u001b[1;34m'sdg_classification_data.csv'\u001b[0m\u001b[1;33m)\u001b[0m\u001b[1;33m\u001b[0m\u001b[1;33m\u001b[0m\u001b[0m\n\u001b[1;32m----> 3\u001b[1;33m \u001b[0mvalidation_df\u001b[0m \u001b[1;33m=\u001b[0m \u001b[0mpd\u001b[0m\u001b[1;33m.\u001b[0m\u001b[0mread_csv\u001b[0m\u001b[1;33m(\u001b[0m\u001b[1;34m'validation_data.csv'\u001b[0m\u001b[1;33m)\u001b[0m\u001b[1;33m\u001b[0m\u001b[1;33m\u001b[0m\u001b[0m\n\u001b[0m",
      "\u001b[1;32m~\\anaconda3\\lib\\site-packages\\pandas\\io\\parsers.py\u001b[0m in \u001b[0;36mparser_f\u001b[1;34m(filepath_or_buffer, sep, delimiter, header, names, index_col, usecols, squeeze, prefix, mangle_dupe_cols, dtype, engine, converters, true_values, false_values, skipinitialspace, skiprows, skipfooter, nrows, na_values, keep_default_na, na_filter, verbose, skip_blank_lines, parse_dates, infer_datetime_format, keep_date_col, date_parser, dayfirst, cache_dates, iterator, chunksize, compression, thousands, decimal, lineterminator, quotechar, quoting, doublequote, escapechar, comment, encoding, dialect, error_bad_lines, warn_bad_lines, delim_whitespace, low_memory, memory_map, float_precision)\u001b[0m\n\u001b[0;32m    674\u001b[0m         )\n\u001b[0;32m    675\u001b[0m \u001b[1;33m\u001b[0m\u001b[0m\n\u001b[1;32m--> 676\u001b[1;33m         \u001b[1;32mreturn\u001b[0m \u001b[0m_read\u001b[0m\u001b[1;33m(\u001b[0m\u001b[0mfilepath_or_buffer\u001b[0m\u001b[1;33m,\u001b[0m \u001b[0mkwds\u001b[0m\u001b[1;33m)\u001b[0m\u001b[1;33m\u001b[0m\u001b[1;33m\u001b[0m\u001b[0m\n\u001b[0m\u001b[0;32m    677\u001b[0m \u001b[1;33m\u001b[0m\u001b[0m\n\u001b[0;32m    678\u001b[0m     \u001b[0mparser_f\u001b[0m\u001b[1;33m.\u001b[0m\u001b[0m__name__\u001b[0m \u001b[1;33m=\u001b[0m \u001b[0mname\u001b[0m\u001b[1;33m\u001b[0m\u001b[1;33m\u001b[0m\u001b[0m\n",
      "\u001b[1;32m~\\anaconda3\\lib\\site-packages\\pandas\\io\\parsers.py\u001b[0m in \u001b[0;36m_read\u001b[1;34m(filepath_or_buffer, kwds)\u001b[0m\n\u001b[0;32m    446\u001b[0m \u001b[1;33m\u001b[0m\u001b[0m\n\u001b[0;32m    447\u001b[0m     \u001b[1;31m# Create the parser.\u001b[0m\u001b[1;33m\u001b[0m\u001b[1;33m\u001b[0m\u001b[1;33m\u001b[0m\u001b[0m\n\u001b[1;32m--> 448\u001b[1;33m     \u001b[0mparser\u001b[0m \u001b[1;33m=\u001b[0m \u001b[0mTextFileReader\u001b[0m\u001b[1;33m(\u001b[0m\u001b[0mfp_or_buf\u001b[0m\u001b[1;33m,\u001b[0m \u001b[1;33m**\u001b[0m\u001b[0mkwds\u001b[0m\u001b[1;33m)\u001b[0m\u001b[1;33m\u001b[0m\u001b[1;33m\u001b[0m\u001b[0m\n\u001b[0m\u001b[0;32m    449\u001b[0m \u001b[1;33m\u001b[0m\u001b[0m\n\u001b[0;32m    450\u001b[0m     \u001b[1;32mif\u001b[0m \u001b[0mchunksize\u001b[0m \u001b[1;32mor\u001b[0m \u001b[0miterator\u001b[0m\u001b[1;33m:\u001b[0m\u001b[1;33m\u001b[0m\u001b[1;33m\u001b[0m\u001b[0m\n",
      "\u001b[1;32m~\\anaconda3\\lib\\site-packages\\pandas\\io\\parsers.py\u001b[0m in \u001b[0;36m__init__\u001b[1;34m(self, f, engine, **kwds)\u001b[0m\n\u001b[0;32m    878\u001b[0m             \u001b[0mself\u001b[0m\u001b[1;33m.\u001b[0m\u001b[0moptions\u001b[0m\u001b[1;33m[\u001b[0m\u001b[1;34m\"has_index_names\"\u001b[0m\u001b[1;33m]\u001b[0m \u001b[1;33m=\u001b[0m \u001b[0mkwds\u001b[0m\u001b[1;33m[\u001b[0m\u001b[1;34m\"has_index_names\"\u001b[0m\u001b[1;33m]\u001b[0m\u001b[1;33m\u001b[0m\u001b[1;33m\u001b[0m\u001b[0m\n\u001b[0;32m    879\u001b[0m \u001b[1;33m\u001b[0m\u001b[0m\n\u001b[1;32m--> 880\u001b[1;33m         \u001b[0mself\u001b[0m\u001b[1;33m.\u001b[0m\u001b[0m_make_engine\u001b[0m\u001b[1;33m(\u001b[0m\u001b[0mself\u001b[0m\u001b[1;33m.\u001b[0m\u001b[0mengine\u001b[0m\u001b[1;33m)\u001b[0m\u001b[1;33m\u001b[0m\u001b[1;33m\u001b[0m\u001b[0m\n\u001b[0m\u001b[0;32m    881\u001b[0m \u001b[1;33m\u001b[0m\u001b[0m\n\u001b[0;32m    882\u001b[0m     \u001b[1;32mdef\u001b[0m \u001b[0mclose\u001b[0m\u001b[1;33m(\u001b[0m\u001b[0mself\u001b[0m\u001b[1;33m)\u001b[0m\u001b[1;33m:\u001b[0m\u001b[1;33m\u001b[0m\u001b[1;33m\u001b[0m\u001b[0m\n",
      "\u001b[1;32m~\\anaconda3\\lib\\site-packages\\pandas\\io\\parsers.py\u001b[0m in \u001b[0;36m_make_engine\u001b[1;34m(self, engine)\u001b[0m\n\u001b[0;32m   1112\u001b[0m     \u001b[1;32mdef\u001b[0m \u001b[0m_make_engine\u001b[0m\u001b[1;33m(\u001b[0m\u001b[0mself\u001b[0m\u001b[1;33m,\u001b[0m \u001b[0mengine\u001b[0m\u001b[1;33m=\u001b[0m\u001b[1;34m\"c\"\u001b[0m\u001b[1;33m)\u001b[0m\u001b[1;33m:\u001b[0m\u001b[1;33m\u001b[0m\u001b[1;33m\u001b[0m\u001b[0m\n\u001b[0;32m   1113\u001b[0m         \u001b[1;32mif\u001b[0m \u001b[0mengine\u001b[0m \u001b[1;33m==\u001b[0m \u001b[1;34m\"c\"\u001b[0m\u001b[1;33m:\u001b[0m\u001b[1;33m\u001b[0m\u001b[1;33m\u001b[0m\u001b[0m\n\u001b[1;32m-> 1114\u001b[1;33m             \u001b[0mself\u001b[0m\u001b[1;33m.\u001b[0m\u001b[0m_engine\u001b[0m \u001b[1;33m=\u001b[0m \u001b[0mCParserWrapper\u001b[0m\u001b[1;33m(\u001b[0m\u001b[0mself\u001b[0m\u001b[1;33m.\u001b[0m\u001b[0mf\u001b[0m\u001b[1;33m,\u001b[0m \u001b[1;33m**\u001b[0m\u001b[0mself\u001b[0m\u001b[1;33m.\u001b[0m\u001b[0moptions\u001b[0m\u001b[1;33m)\u001b[0m\u001b[1;33m\u001b[0m\u001b[1;33m\u001b[0m\u001b[0m\n\u001b[0m\u001b[0;32m   1115\u001b[0m         \u001b[1;32melse\u001b[0m\u001b[1;33m:\u001b[0m\u001b[1;33m\u001b[0m\u001b[1;33m\u001b[0m\u001b[0m\n\u001b[0;32m   1116\u001b[0m             \u001b[1;32mif\u001b[0m \u001b[0mengine\u001b[0m \u001b[1;33m==\u001b[0m \u001b[1;34m\"python\"\u001b[0m\u001b[1;33m:\u001b[0m\u001b[1;33m\u001b[0m\u001b[1;33m\u001b[0m\u001b[0m\n",
      "\u001b[1;32m~\\anaconda3\\lib\\site-packages\\pandas\\io\\parsers.py\u001b[0m in \u001b[0;36m__init__\u001b[1;34m(self, src, **kwds)\u001b[0m\n\u001b[0;32m   1889\u001b[0m         \u001b[0mkwds\u001b[0m\u001b[1;33m[\u001b[0m\u001b[1;34m\"usecols\"\u001b[0m\u001b[1;33m]\u001b[0m \u001b[1;33m=\u001b[0m \u001b[0mself\u001b[0m\u001b[1;33m.\u001b[0m\u001b[0musecols\u001b[0m\u001b[1;33m\u001b[0m\u001b[1;33m\u001b[0m\u001b[0m\n\u001b[0;32m   1890\u001b[0m \u001b[1;33m\u001b[0m\u001b[0m\n\u001b[1;32m-> 1891\u001b[1;33m         \u001b[0mself\u001b[0m\u001b[1;33m.\u001b[0m\u001b[0m_reader\u001b[0m \u001b[1;33m=\u001b[0m \u001b[0mparsers\u001b[0m\u001b[1;33m.\u001b[0m\u001b[0mTextReader\u001b[0m\u001b[1;33m(\u001b[0m\u001b[0msrc\u001b[0m\u001b[1;33m,\u001b[0m \u001b[1;33m**\u001b[0m\u001b[0mkwds\u001b[0m\u001b[1;33m)\u001b[0m\u001b[1;33m\u001b[0m\u001b[1;33m\u001b[0m\u001b[0m\n\u001b[0m\u001b[0;32m   1892\u001b[0m         \u001b[0mself\u001b[0m\u001b[1;33m.\u001b[0m\u001b[0munnamed_cols\u001b[0m \u001b[1;33m=\u001b[0m \u001b[0mself\u001b[0m\u001b[1;33m.\u001b[0m\u001b[0m_reader\u001b[0m\u001b[1;33m.\u001b[0m\u001b[0munnamed_cols\u001b[0m\u001b[1;33m\u001b[0m\u001b[1;33m\u001b[0m\u001b[0m\n\u001b[0;32m   1893\u001b[0m \u001b[1;33m\u001b[0m\u001b[0m\n",
      "\u001b[1;32mpandas\\_libs\\parsers.pyx\u001b[0m in \u001b[0;36mpandas._libs.parsers.TextReader.__cinit__\u001b[1;34m()\u001b[0m\n",
      "\u001b[1;32mpandas\\_libs\\parsers.pyx\u001b[0m in \u001b[0;36mpandas._libs.parsers.TextReader._setup_parser_source\u001b[1;34m()\u001b[0m\n",
      "\u001b[1;31mFileNotFoundError\u001b[0m: [Errno 2] File validation_data.csv does not exist: 'validation_data.csv'"
     ]
    }
   ],
   "source": [
    "#import the already preprocessed dataset \n",
    "sdg_df  = pd.read_csv('sdg_classification_data.csv')\n",
    "validation_df = pd.read_csv('validation_data.csv')"
   ]
  },
  {
   "cell_type": "markdown",
   "metadata": {},
   "source": [
    "LSTM - Set parameters "
   ]
  },
  {
   "cell_type": "code",
   "execution_count": 36,
   "metadata": {},
   "outputs": [
    {
     "name": "stdout",
     "output_type": "stream",
     "text": [
      "Found 2696 unique tokens.\n"
     ]
    }
   ],
   "source": [
    "# Max number of words to be used\n",
    "MAX_NB_WORDS = 50000\n",
    "# Max number of words in each sdg row.\n",
    "MAX_SEQUENCE_LENGTH = 400\n",
    "# This is fixed.\n",
    "EMBEDDING_DIM = 100\n",
    "tokenizer = Tokenizer(num_words=MAX_NB_WORDS, filters='!\"#$%&()*+,-./:;<=>?@[\\]^_`{|}~', lower=True)\n",
    "tokenizer.fit_on_texts(sdg_df['extracted_title'].astype(str).values)\n",
    "word_index = tokenizer.word_index\n",
    "print('Found %s unique tokens.' % len(word_index))"
   ]
  },
  {
   "cell_type": "code",
   "execution_count": 37,
   "metadata": {},
   "outputs": [
    {
     "name": "stdout",
     "output_type": "stream",
     "text": [
      "Sequences input length: (889, 400)\n"
     ]
    }
   ],
   "source": [
    "#transform them to have the same length for modeling\n",
    "X_abstract = tokenizer.texts_to_sequences(sdg_df['extracted_abstract'].astype(str).values)\n",
    "X_abstract = pad_sequences(X_abstract, maxlen=MAX_SEQUENCE_LENGTH)\n",
    "print('Sequences input length:', X_abstract.shape)"
   ]
  },
  {
   "cell_type": "code",
   "execution_count": 38,
   "metadata": {},
   "outputs": [
    {
     "name": "stdout",
     "output_type": "stream",
     "text": [
      "Shape of categorical variables: (889, 6)\n"
     ]
    }
   ],
   "source": [
    "Y = pd.get_dummies(sdg_df['sdg']).values\n",
    "print('Shape of categorical variables:', Y.shape)"
   ]
  },
  {
   "cell_type": "code",
   "execution_count": 39,
   "metadata": {},
   "outputs": [
    {
     "name": "stdout",
     "output_type": "stream",
     "text": [
      "(800, 400) (800, 6)\n",
      "(89, 400) (89, 6)\n"
     ]
    }
   ],
   "source": [
    "#split our dataset\n",
    "from sklearn.model_selection import train_test_split\n",
    "\n",
    "X_abstract_train, X_abstract_test, Y_train, Y_test = train_test_split(X_abstract,Y, test_size = 0.10, random_state = 42)\n",
    "print(X_abstract_train.shape,Y_train.shape)\n",
    "print(X_abstract_test.shape,Y_test.shape)"
   ]
  },
  {
   "cell_type": "code",
   "execution_count": 40,
   "metadata": {},
   "outputs": [
    {
     "name": "stdout",
     "output_type": "stream",
     "text": [
      "Model: \"sequential_2\"\n",
      "_________________________________________________________________\n",
      "Layer (type)                 Output Shape              Param #   \n",
      "=================================================================\n",
      "embedding_2 (Embedding)      (None, 400, 100)          5000000   \n",
      "_________________________________________________________________\n",
      "lstm_2 (LSTM)                (None, 100)               80400     \n",
      "_________________________________________________________________\n",
      "dense_2 (Dense)              (None, 6)                 606       \n",
      "=================================================================\n",
      "Total params: 5,081,006\n",
      "Trainable params: 5,081,006\n",
      "Non-trainable params: 0\n",
      "_________________________________________________________________\n"
     ]
    }
   ],
   "source": [
    "import keras\n",
    "from keras.models import Sequential\n",
    "from keras.layers import SpatialDropout1D \n",
    "from tensorflow.python.keras.callbacks import EarlyStopping\n",
    "\n",
    "model = Sequential()\n",
    "model.add(Embedding(MAX_NB_WORDS, EMBEDDING_DIM, input_length=X_abstract.shape[1]))\n",
    "model.add(LSTM(100, dropout=0.2, recurrent_dropout=0.2))\n",
    "model.add(Dense(6, activation='softmax'))\n",
    "model.compile(loss='categorical_crossentropy', optimizer='adam', metrics=['accuracy'])\n",
    "model.summary()\n",
    "epochs = 5\n",
    "batch_size = 64\n"
   ]
  },
  {
   "cell_type": "code",
   "execution_count": 41,
   "metadata": {},
   "outputs": [
    {
     "name": "stdout",
     "output_type": "stream",
     "text": [
      "Epoch 1/5\n",
      "12/12 [==============================] - 29s 2s/step - loss: 1.7551 - accuracy: 0.4486 - val_loss: 1.6505 - val_accuracy: 0.4875\n",
      "Epoch 2/5\n",
      "12/12 [==============================] - 26s 2s/step - loss: 1.4998 - accuracy: 0.3972 - val_loss: 1.4763 - val_accuracy: 0.3000\n",
      "Epoch 3/5\n",
      "12/12 [==============================] - 24s 2s/step - loss: 1.2677 - accuracy: 0.6500 - val_loss: 0.9828 - val_accuracy: 0.7500\n",
      "Epoch 4/5\n",
      "12/12 [==============================] - 25s 2s/step - loss: 0.6801 - accuracy: 0.8278 - val_loss: 0.6715 - val_accuracy: 0.8250\n",
      "Epoch 5/5\n",
      "12/12 [==============================] - 25s 2s/step - loss: 0.3890 - accuracy: 0.8833 - val_loss: 0.5210 - val_accuracy: 0.8625\n"
     ]
    }
   ],
   "source": [
    "\n",
    "model_train = model.fit(X_abstract_train, Y_train,\n",
    "                    epochs=epochs,\n",
    "                    batch_size=batch_size,\n",
    "                    validation_split=0.1,\n",
    "                    callbacks=[EarlyStopping(monitor='val_loss', patience=3, min_delta=0.0001)])"
   ]
  },
  {
   "cell_type": "code",
   "execution_count": 42,
   "metadata": {},
   "outputs": [
    {
     "name": "stdout",
     "output_type": "stream",
     "text": [
      "2/2 [==============================] - 0s 44ms/step - loss: 0.5591 - accuracy: 0.8090\n"
     ]
    }
   ],
   "source": [
    "#Model Evaluation on the Test Set\n",
    "test_eval = model.evaluate(\n",
    "    X_abstract_test,                  # features\n",
    "    Y_test,                  # labels\n",
    "    batch_size=64,   # batch size\n",
    "    verbose=1                # the most extended verbose\n",
    ")\n"
   ]
  },
  {
   "cell_type": "code",
   "execution_count": 43,
   "metadata": {},
   "outputs": [
    {
     "name": "stdout",
     "output_type": "stream",
     "text": [
      "Test loss: 0.5591351985931396\n",
      "Test accuracy: 0.8089887499809265\n"
     ]
    }
   ],
   "source": [
    "print('Test loss:', test_eval[0])\n",
    "print('Test accuracy:', test_eval[1])"
   ]
  },
  {
   "cell_type": "code",
   "execution_count": 44,
   "metadata": {},
   "outputs": [],
   "source": [
    "import matplotlib.pyplot as plt"
   ]
  },
  {
   "cell_type": "code",
   "execution_count": 45,
   "metadata": {},
   "outputs": [
    {
     "data": {
      "image/png": "[encoded data removed]",
      "text/plain": [
       "<Figure size 432x288 with 1 Axes>"
      ]
     },
     "metadata": {
      "needs_background": "light"
     },
     "output_type": "display_data"
    },
    {
     "data": {
      "image/png": "[encoded data removed]",
      "text/plain": [
       "<Figure size 432x288 with 1 Axes>"
      ]
     },
     "metadata": {
      "needs_background": "light"
     },
     "output_type": "display_data"
    }
   ],
   "source": [
    "#Let's put your model evaluation into perspective and plot the accuracy and loss plots between training and validation data:\n",
    "\n",
    "accuracy = model_train.history['accuracy']\n",
    "val_accuracy = model_train.history['val_accuracy']\n",
    "loss =model_train.history['loss']\n",
    "val_loss = model_train.history['val_loss']\n",
    "epochs = range(len(accuracy))\n",
    "plt.plot(epochs, accuracy, 'bo', label='Training accuracy')\n",
    "plt.plot(epochs, val_accuracy, 'b', label='Validation accuracy')\n",
    "plt.title('Training and validation accuracy')\n",
    "plt.legend()\n",
    "plt.figure()\n",
    "plt.plot(epochs, loss, 'bo', label='Training loss')\n",
    "plt.plot(epochs, val_loss, 'b', label='Validation loss')\n",
    "plt.title('Training and validation loss')\n",
    "plt.legend()\n",
    "plt.show()"
   ]
  },
  {
   "cell_type": "code",
   "execution_count": 46,
   "metadata": {},
   "outputs": [
    {
     "name": "stdout",
     "output_type": "stream",
     "text": [
      "Model: \"sequential_3\"\n",
      "_________________________________________________________________\n",
      "Layer (type)                 Output Shape              Param #   \n",
      "=================================================================\n",
      "embedding_3 (Embedding)      (None, 400, 100)          5000000   \n",
      "_________________________________________________________________\n",
      "spatial_dropout1d_1 (Spatial (None, 400, 100)          0         \n",
      "_________________________________________________________________\n",
      "lstm_3 (LSTM)                (None, 100)               80400     \n",
      "_________________________________________________________________\n",
      "dense_3 (Dense)              (None, 6)                 606       \n",
      "=================================================================\n",
      "Total params: 5,081,006\n",
      "Trainable params: 5,081,006\n",
      "Non-trainable params: 0\n",
      "_________________________________________________________________\n"
     ]
    }
   ],
   "source": [
    "import keras\n",
    "from keras.models import Sequential\n",
    "from keras.layers import SpatialDropout1D \n",
    "from tensorflow.python.keras.callbacks import EarlyStopping\n",
    "\n",
    "model = Sequential()\n",
    "model.add(Embedding(MAX_NB_WORDS, EMBEDDING_DIM, input_length=X_abstract.shape[1]))\n",
    "model.add(SpatialDropout1D(0.2))\n",
    "model.add(LSTM(100, dropout=0.2, recurrent_dropout=0.2))\n",
    "model.add(Dense(6, activation='softmax'))\n",
    "model.compile(loss='categorical_crossentropy', optimizer='adam', metrics=['accuracy'])\n",
    "model.summary()\n",
    "epochs = 5\n",
    "batch_size = 64"
   ]
  },
  {
   "cell_type": "code",
   "execution_count": 47,
   "metadata": {},
   "outputs": [
    {
     "name": "stdout",
     "output_type": "stream",
     "text": [
      "Epoch 1/5\n",
      "12/12 [==============================] - 27s 2s/step - loss: 1.7601 - accuracy: 0.3014 - val_loss: 1.6867 - val_accuracy: 0.2125\n",
      "Epoch 2/5\n",
      "12/12 [==============================] - 26s 2s/step - loss: 1.5055 - accuracy: 0.3222 - val_loss: 1.4433 - val_accuracy: 0.4750\n",
      "Epoch 3/5\n",
      "12/12 [==============================] - 25s 2s/step - loss: 1.2308 - accuracy: 0.5792 - val_loss: 1.0448 - val_accuracy: 0.6625\n",
      "Epoch 4/5\n",
      "12/12 [==============================] - 26s 2s/step - loss: 0.8570 - accuracy: 0.7042 - val_loss: 0.8456 - val_accuracy: 0.7500\n",
      "Epoch 5/5\n",
      "12/12 [==============================] - 26s 2s/step - loss: 0.6509 - accuracy: 0.7750 - val_loss: 0.6753 - val_accuracy: 0.7750\n"
     ]
    }
   ],
   "source": [
    "\n",
    "model_dropout_train = model.fit(X_abstract_train, Y_train,\n",
    "                    epochs=epochs,\n",
    "                    batch_size=batch_size,\n",
    "                    validation_split=0.1,\n",
    "                    callbacks=[EarlyStopping(monitor='val_loss', patience=3, min_delta=0.0001)])"
   ]
  },
  {
   "cell_type": "code",
   "execution_count": 48,
   "metadata": {},
   "outputs": [
    {
     "name": "stdout",
     "output_type": "stream",
     "text": [
      "2/2 [==============================] - 0s 45ms/step - loss: 0.5225 - accuracy: 0.8539\n"
     ]
    }
   ],
   "source": [
    "#Model Evaluation on the Test Set\n",
    "test_eval = model.evaluate(\n",
    "    X_abstract_test,                  # features\n",
    "    Y_test,                  # labels\n",
    "    batch_size=64,   # batch size\n",
    "    verbose=1                # the most extended verbose\n",
    ")\n"
   ]
  },
  {
   "cell_type": "code",
   "execution_count": 49,
   "metadata": {},
   "outputs": [
    {
     "name": "stdout",
     "output_type": "stream",
     "text": [
      "3/3 [==============================] - 0s 75ms/step - loss: 0.5225 - accuracy: 0.8539\n"
     ]
    },
    {
     "data": {
      "text/plain": [
       "[0.5225372314453125, 0.8539325594902039]"
      ]
     },
     "execution_count": 49,
     "metadata": {},
     "output_type": "execute_result"
    }
   ],
   "source": [
    "model_accuracy = model.evaluate(X_abstract_test,Y_test)\n",
    "model_accuracy"
   ]
  },
  {
   "cell_type": "code",
   "execution_count": 50,
   "metadata": {
    "scrolled": true
   },
   "outputs": [
    {
     "data": {
      "image/png": "[encoded data removed]",
      "text/plain": [
       "<Figure size 432x288 with 1 Axes>"
      ]
     },
     "metadata": {
      "needs_background": "light"
     },
     "output_type": "display_data"
    },
    {
     "data": {
      "image/png": "[encoded data removed]",
      "text/plain": [
       "<Figure size 432x288 with 1 Axes>"
      ]
     },
     "metadata": {
      "needs_background": "light"
     },
     "output_type": "display_data"
    }
   ],
   "source": [
    "#Let's put your model evaluation into perspective and plot the accuracy and loss plots between training and validation data:\n",
    "\n",
    "accuracy = model_dropout_train.history['accuracy']\n",
    "val_accuracy = model_dropout_train.history['val_accuracy']\n",
    "loss =model_dropout_train.history['loss']\n",
    "val_loss = model_dropout_train.history['val_loss']\n",
    "epochs = range(len(accuracy))\n",
    "plt.plot(epochs, accuracy, 'bo', label='Training accuracy')\n",
    "plt.plot(epochs, val_accuracy, 'b', label='Validation accuracy')\n",
    "plt.title('Training and validation accuracy')\n",
    "plt.legend()\n",
    "plt.figure()\n",
    "plt.plot(epochs, loss, 'bo', label='Training loss')\n",
    "plt.plot(epochs, val_loss, 'b', label='Validation loss')\n",
    "plt.title('Training and validation loss')\n",
    "plt.legend()\n",
    "plt.show()"
   ]
  },
  {
   "cell_type": "code",
   "execution_count": 51,
   "metadata": {},
   "outputs": [
    {
     "data": {
      "text/plain": [
       "array([[3.74501087e-02, 3.60646881e-02, 8.33321631e-01, 1.80850700e-02,\n",
       "        3.97684351e-02, 3.53099667e-02],\n",
       "       [2.80169450e-04, 5.87189512e-04, 1.08119193e-03, 8.75290871e-01,\n",
       "        1.22033499e-01, 7.27050880e-04],\n",
       "       [3.13690633e-01, 2.10919917e-01, 1.24076784e-01, 6.47932291e-02,\n",
       "        5.75733334e-02, 2.28946075e-01],\n",
       "       [2.42384791e-04, 5.14282379e-04, 9.16070654e-04, 8.98590922e-01,\n",
       "        9.90951657e-02, 6.41170715e-04],\n",
       "       [2.66055926e-04, 5.67314273e-04, 9.82397702e-04, 8.89291942e-01,\n",
       "        1.08189456e-01, 7.02820835e-04],\n",
       "       [2.97913415e-04, 6.98819873e-04, 3.14016603e-02, 2.00407058e-01,\n",
       "        7.66943455e-01, 2.51187710e-04],\n",
       "       [2.22098417e-04, 4.79174312e-04, 8.58848856e-04, 8.88510287e-01,\n",
       "        1.09331444e-01, 5.98157872e-04],\n",
       "       [2.06959492e-04, 5.25916868e-04, 2.80766729e-02, 1.43254474e-01,\n",
       "        8.27746868e-01, 1.89104132e-04],\n",
       "       [2.83610018e-04, 6.61449332e-04, 2.84482911e-02, 2.36204088e-01,\n",
       "        7.34147966e-01, 2.54584826e-04],\n",
       "       [2.88256182e-04, 6.08354516e-04, 9.57065029e-04, 8.93514514e-01,\n",
       "        1.03881054e-01, 7.50827196e-04],\n",
       "       [2.14183849e-04, 5.33590617e-04, 2.70387754e-02, 1.85085878e-01,\n",
       "        7.86930680e-01, 1.96906563e-04],\n",
       "       [6.03233688e-02, 5.72430491e-02, 7.36577213e-01, 2.89798565e-02,\n",
       "        6.16946146e-02, 5.51819727e-02],\n",
       "       [2.97076360e-04, 7.01903016e-04, 3.00720427e-02, 2.02993378e-01,\n",
       "        7.65682101e-01, 2.53445527e-04],\n",
       "       [2.91338682e-01, 2.09405094e-01, 1.41404748e-01, 6.97003156e-02,\n",
       "        6.27180338e-02, 2.25433126e-01],\n",
       "       [3.39850842e-04, 7.64674973e-04, 3.11068185e-02, 2.32248247e-01,\n",
       "        7.35251784e-01, 2.88651383e-04],\n",
       "       [3.36016179e-04, 6.78491429e-04, 9.83926002e-04, 8.94254327e-01,\n",
       "        1.02911256e-01, 8.36047519e-04],\n",
       "       [2.83355126e-04, 5.87090210e-04, 9.71739821e-04, 8.96440685e-01,\n",
       "        1.00962743e-01, 7.54371635e-04],\n",
       "       [2.53484788e-04, 5.38433320e-04, 8.79971310e-04, 9.04679120e-01,\n",
       "        9.29707214e-02, 6.78286713e-04],\n",
       "       [2.59444263e-04, 6.15184545e-04, 2.89868880e-02, 1.88824117e-01,\n",
       "        7.81087816e-01, 2.26580436e-04],\n",
       "       [3.64389876e-03, 4.31467872e-03, 9.29044425e-01, 8.93144030e-03,\n",
       "        5.06826006e-02, 3.38293402e-03],\n",
       "       [1.32314444e-01, 1.13199688e-01, 5.06644428e-01, 5.37758209e-02,\n",
       "        8.53435099e-02, 1.08722121e-01],\n",
       "       [1.71364229e-02, 1.78337023e-02, 9.06955004e-01, 1.08324867e-02,\n",
       "        3.04667838e-02, 1.67756118e-02],\n",
       "       [1.08268335e-01, 9.14286748e-02, 5.86175323e-01, 4.76138294e-02,\n",
       "        7.21727386e-02, 9.43410546e-02],\n",
       "       [1.86601002e-02, 2.03376841e-02, 8.93206596e-01, 1.25904428e-02,\n",
       "        3.61799560e-02, 1.90253016e-02],\n",
       "       [2.58743559e-04, 5.41821413e-04, 8.99819715e-04, 9.01036143e-01,\n",
       "        9.65924710e-02, 6.70852023e-04],\n",
       "       [1.35906175e-01, 1.34655744e-01, 3.31001848e-01, 1.15047500e-01,\n",
       "        1.57076657e-01, 1.26312092e-01],\n",
       "       [5.06074466e-02, 4.97551523e-02, 7.47147143e-01, 3.38159986e-02,\n",
       "        7.13963211e-02, 4.72779870e-02],\n",
       "       [3.15681919e-02, 3.29073817e-02, 8.40958834e-01, 1.89255215e-02,\n",
       "        4.49834019e-02, 3.06566600e-02],\n",
       "       [2.83735368e-04, 5.82270499e-04, 1.05982774e-03, 8.83041203e-01,\n",
       "        1.14313938e-01, 7.19011121e-04],\n",
       "       [2.92070035e-04, 6.89420442e-04, 3.14897895e-02, 1.82745203e-01,\n",
       "        7.84530342e-01, 2.53127771e-04],\n",
       "       [3.10612053e-01, 2.11957842e-01, 1.19867876e-01, 6.94836825e-02,\n",
       "        5.77958897e-02, 2.30282649e-01],\n",
       "       [1.17795104e-02, 1.33202001e-02, 9.18110430e-01, 1.07069341e-02,\n",
       "        3.42047773e-02, 1.18782399e-02],\n",
       "       [1.23298019e-01, 9.96554047e-02, 5.73371291e-01, 4.21113372e-02,\n",
       "        6.25887215e-02, 9.89752486e-02],\n",
       "       [2.51358200e-04, 5.40859357e-04, 1.03940803e-03, 8.81506801e-01,\n",
       "        1.15980029e-01, 6.81539823e-04],\n",
       "       [2.24076648e-04, 4.73931868e-04, 8.32504127e-04, 9.05299842e-01,\n",
       "        9.25699323e-02, 5.99684485e-04],\n",
       "       [1.91821698e-02, 2.06237249e-02, 8.92662287e-01, 1.38331102e-02,\n",
       "        3.50995548e-02, 1.85990445e-02],\n",
       "       [2.61295703e-04, 5.51063160e-04, 1.09000003e-03, 8.78115475e-01,\n",
       "        1.19302861e-01, 6.79369201e-04],\n",
       "       [2.04924014e-04, 4.87564394e-04, 1.76653955e-02, 2.64619917e-01,\n",
       "        7.16818571e-01, 2.03629097e-04],\n",
       "       [2.59113178e-04, 5.35891391e-04, 1.00639556e-03, 8.84620249e-01,\n",
       "        1.12905793e-01, 6.72574795e-04],\n",
       "       [1.40125435e-02, 1.49710719e-02, 9.21033978e-01, 9.32826661e-03,\n",
       "        2.65087504e-02, 1.41453808e-02],\n",
       "       [2.33270533e-04, 4.98202164e-04, 9.78198485e-04, 8.82799149e-01,\n",
       "        1.14863046e-01, 6.28131675e-04],\n",
       "       [2.40547961e-04, 5.80654305e-04, 2.90636178e-02, 1.72719374e-01,\n",
       "        7.97183573e-01, 2.12180428e-04],\n",
       "       [2.23514318e-04, 5.58715197e-04, 2.75936089e-02, 1.57630667e-01,\n",
       "        8.13794255e-01, 1.99265240e-04],\n",
       "       [3.15133244e-01, 2.14603215e-01, 1.20435774e-01, 6.34940937e-02,\n",
       "        5.37204780e-02, 2.32613221e-01],\n",
       "       [2.61537411e-04, 5.60889835e-04, 1.13392796e-03, 8.72949183e-01,\n",
       "        1.24405339e-01, 6.89049484e-04],\n",
       "       [4.20089178e-02, 3.93809937e-02, 8.21458220e-01, 1.70919150e-02,\n",
       "        4.17813100e-02, 3.82786840e-02],\n",
       "       [2.45141760e-01, 1.78672373e-01, 2.63787895e-01, 6.03019595e-02,\n",
       "        6.43744543e-02, 1.87721565e-01],\n",
       "       [1.22776525e-02, 1.41547248e-02, 9.10330474e-01, 1.29172904e-02,\n",
       "        3.80265787e-02, 1.22931944e-02],\n",
       "       [2.52451602e-04, 6.16003235e-04, 3.43939327e-02, 1.51143238e-01,\n",
       "        8.13373685e-01, 2.20649628e-04],\n",
       "       [4.03063707e-02, 4.09670472e-02, 8.04836869e-01, 2.21934654e-02,\n",
       "        5.30341193e-02, 3.86620499e-02],\n",
       "       [2.98400089e-04, 6.16123842e-04, 1.11721386e-03, 8.86023223e-01,\n",
       "        1.11170627e-01, 7.74400367e-04],\n",
       "       [3.12944144e-01, 2.15426207e-01, 1.25864252e-01, 6.07788153e-02,\n",
       "        5.54266386e-02, 2.29559898e-01],\n",
       "       [2.43796283e-04, 5.26909425e-04, 9.83738108e-04, 8.90250146e-01,\n",
       "        1.07346527e-01, 6.48866640e-04],\n",
       "       [4.57487367e-02, 4.88980450e-02, 7.60334373e-01, 3.18791345e-02,\n",
       "        7.04928488e-02, 4.26468030e-02],\n",
       "       [3.08636518e-04, 6.23869651e-04, 1.11710292e-03, 8.86190057e-01,\n",
       "        1.10994719e-01, 7.65600940e-04],\n",
       "       [2.47763965e-04, 5.41165704e-04, 1.05008704e-03, 8.72675419e-01,\n",
       "        1.24816403e-01, 6.69082627e-04],\n",
       "       [2.45185685e-04, 5.05812233e-04, 9.67028260e-04, 8.95828426e-01,\n",
       "        1.01810038e-01, 6.43573061e-04],\n",
       "       [2.55130464e-04, 5.23640483e-04, 8.88143084e-04, 9.00686920e-01,\n",
       "        9.69839767e-02, 6.62143459e-04],\n",
       "       [3.94455306e-02, 3.90490890e-02, 8.17765415e-01, 2.22606640e-02,\n",
       "        4.60464023e-02, 3.54329720e-02],\n",
       "       [4.66301255e-02, 4.34783585e-02, 8.03083122e-01, 1.95870567e-02,\n",
       "        4.63796332e-02, 4.08417359e-02],\n",
       "       [4.08775918e-02, 4.42620553e-02, 7.76615143e-01, 3.15239578e-02,\n",
       "        6.99291453e-02, 3.67920175e-02],\n",
       "       [2.53295235e-04, 5.46898111e-04, 9.71984700e-04, 8.90141845e-01,\n",
       "        1.07413203e-01, 6.72766706e-04],\n",
       "       [3.39361955e-04, 7.67379126e-04, 3.33159491e-02, 2.15266228e-01,\n",
       "        7.50032246e-01, 2.78860825e-04],\n",
       "       [1.29131908e-02, 1.45224435e-02, 9.17099953e-01, 9.64354444e-03,\n",
       "        3.23147178e-02, 1.35061676e-02],\n",
       "       [2.51043763e-04, 5.79906336e-04, 1.81984585e-02, 3.29997540e-01,\n",
       "        6.50728166e-01, 2.44899624e-04],\n",
       "       [2.41181757e-02, 2.44201776e-02, 8.84447455e-01, 1.24237491e-02,\n",
       "        3.26877199e-02, 2.19027605e-02],\n",
       "       [2.37810178e-04, 5.04947675e-04, 9.05568304e-04, 8.95939708e-01,\n",
       "        1.01770654e-01, 6.41393417e-04],\n",
       "       [1.46420807e-01, 1.20558143e-01, 4.84794348e-01, 5.29867113e-02,\n",
       "        7.52846226e-02, 1.19955406e-01],\n",
       "       [2.38501496e-04, 5.77736762e-04, 3.02396845e-02, 1.63116157e-01,\n",
       "        8.05617332e-01, 2.10595303e-04],\n",
       "       [2.12346538e-04, 4.59096103e-04, 8.69148644e-04, 8.94738674e-01,\n",
       "        1.03139773e-01, 5.80981723e-04],\n",
       "       [2.90545344e-01, 1.95447549e-01, 1.76014632e-01, 6.40740022e-02,\n",
       "        6.05960637e-02, 2.13322446e-01],\n",
       "       [1.62917562e-02, 1.79368705e-02, 8.99202108e-01, 1.20910481e-02,\n",
       "        3.79634835e-02, 1.65147744e-02],\n",
       "       [2.29341706e-04, 5.30605030e-04, 1.70983989e-02, 3.54469329e-01,\n",
       "        6.27448440e-01, 2.23891053e-04],\n",
       "       [2.79803731e-04, 6.69963716e-04, 3.11157294e-02, 1.85938552e-01,\n",
       "        7.81756222e-01, 2.39653717e-04],\n",
       "       [2.42194801e-04, 5.18597604e-04, 8.74665857e-04, 9.03142393e-01,\n",
       "        9.45654511e-02, 6.56586490e-04],\n",
       "       [1.66709349e-02, 1.83581542e-02, 8.93439710e-01, 1.39962006e-02,\n",
       "        4.11406457e-02, 1.63944419e-02],\n",
       "       [1.21164098e-01, 1.11803934e-01, 3.95908177e-01, 1.19507059e-01,\n",
       "        1.44720286e-01, 1.06896400e-01],\n",
       "       [2.42567316e-04, 5.18484158e-04, 9.80655663e-04, 8.82987559e-01,\n",
       "        1.14622332e-01, 6.48386485e-04],\n",
       "       [1.06071485e-02, 1.17271896e-02, 9.31579411e-01, 8.28714669e-03,\n",
       "        2.71933936e-02, 1.06058037e-02],\n",
       "       [2.41727888e-04, 5.78397594e-04, 2.91429162e-02, 1.77146554e-01,\n",
       "        7.92675793e-01, 2.14621512e-04],\n",
       "       [3.53140980e-02, 3.76568660e-02, 8.11439216e-01, 2.46108007e-02,\n",
       "        5.68865985e-02, 3.40924971e-02],\n",
       "       [2.23492578e-04, 5.31913480e-04, 1.79263558e-02, 2.74614662e-01,\n",
       "        7.06483364e-01, 2.20212169e-04],\n",
       "       [2.71469005e-04, 5.45147515e-04, 1.12706039e-03, 8.74675095e-01,\n",
       "        1.22696109e-01, 6.85157545e-04],\n",
       "       [3.12329037e-04, 6.41890394e-04, 1.15110469e-03, 8.75981569e-01,\n",
       "        1.21116966e-01, 7.96112115e-04],\n",
       "       [2.23127019e-04, 4.88238555e-04, 8.03767995e-04, 9.04320180e-01,\n",
       "        9.35494378e-02, 6.15214172e-04],\n",
       "       [2.29539044e-04, 5.66753035e-04, 2.78631784e-02, 1.57971844e-01,\n",
       "        8.13160241e-01, 2.08514495e-04],\n",
       "       [2.95537378e-04, 6.80906407e-04, 3.12900022e-02, 2.05259606e-01,\n",
       "        7.62224615e-01, 2.49337434e-04],\n",
       "       [2.37685701e-04, 5.79828280e-04, 2.77875010e-02, 1.89193860e-01,\n",
       "        7.81990767e-01, 2.10372120e-04],\n",
       "       [2.22546791e-04, 5.75512066e-04, 3.13194282e-02, 1.46231368e-01,\n",
       "        8.21446002e-01, 2.05186181e-04]], dtype=float32)"
      ]
     },
     "execution_count": 51,
     "metadata": {},
     "output_type": "execute_result"
    }
   ],
   "source": [
    "y_test_pred_probs = model.predict(X_abstract_test)\n",
    "y_test_pred_probs"
   ]
  },
  {
   "cell_type": "code",
   "execution_count": 52,
   "metadata": {},
   "outputs": [
    {
     "data": {
      "text/plain": [
       "array([2, 3, 0, 3, 3, 4, 3, 4, 3, 3, 4, 2, 4, 1, 4, 3, 3, 3, 4, 4, 1, 2,\n",
       "       2, 2, 3, 0, 2, 2, 4, 4, 0, 2, 1, 3, 3, 2, 3, 4, 3, 2, 3, 4, 4, 5,\n",
       "       3, 2, 2, 2, 4, 2, 3, 0, 3, 2, 3, 3, 3, 3, 2, 2, 1, 3, 3, 2, 4, 2,\n",
       "       3, 2, 4, 3, 5, 2, 2, 4, 3, 2, 1, 3, 2, 4, 2, 4, 3, 3, 3, 4, 4, 4,\n",
       "       4], dtype=int64)"
      ]
     },
     "execution_count": 52,
     "metadata": {},
     "output_type": "execute_result"
    }
   ],
   "source": [
    "Y_test.argmax(axis=1)"
   ]
  },
  {
   "cell_type": "code",
   "execution_count": 53,
   "metadata": {},
   "outputs": [],
   "source": [
    "y_score = model.predict(X_abstract_test)"
   ]
  },
  {
   "cell_type": "code",
   "execution_count": 54,
   "metadata": {},
   "outputs": [
    {
     "data": {
      "text/plain": [
       "array([0.03745011, 0.03606469, 0.83332163, 0.01808507, 0.03976844,\n",
       "       0.03530997], dtype=float32)"
      ]
     },
     "execution_count": 54,
     "metadata": {},
     "output_type": "execute_result"
    }
   ],
   "source": [
    "y_score[0]"
   ]
  },
  {
   "cell_type": "code",
   "execution_count": 55,
   "metadata": {},
   "outputs": [],
   "source": [
    "from scipy import interp\n",
    "from itertools import cycle\n",
    "\n",
    "\n",
    "def plot_multi_class_roc_auc_curves(nb_classes, y_true, y_pred_score, lw: int = 2):\n",
    "    \"\"\"\n",
    "    ROC, AUC for a categorical classifier\n",
    "    \n",
    "    ROC curve extends to problems with three or more classes with what is known as the one-vs-all approach.\n",
    "    For instance, if we have three classes, we will create three ROC curves,\n",
    "\n",
    "    For each class, we take it as the positive class and group the rest classes jointly as the negative class.\n",
    "\n",
    "    Class 1 vs classes 2&3\n",
    "    Class 2 vs classes 1&3\n",
    "    Class 3 vs classes 1&2\n",
    "\n",
    "    :param nb_classes:\n",
    "    :param y_true:\n",
    "    :param y_pred_score:\n",
    "    :param lw:\n",
    "    :return:\n",
    "    \"\"\"\n",
    "\n",
    "    # Compute ROC curve and ROC area for each class\n",
    "    fpr = dict()\n",
    "    tpr = dict()\n",
    "    roc_auc = dict()\n",
    "\n",
    "    for i in range(nb_classes):\n",
    "        fpr[i], tpr[i], _ = roc_curve(y_true[:, i], y_pred_score[:, i])\n",
    "\n",
    "        roc_auc[i] = auc(fpr[i], tpr[i])\n",
    "\n",
    "    # Compute micro-average ROC curve and ROC area\n",
    "    fpr[\"micro\"], tpr[\"micro\"], _ = roc_curve(y_true.ravel(), y_pred_score.ravel())\n",
    "\n",
    "    roc_auc[\"micro\"] = auc(fpr[\"micro\"], tpr[\"micro\"])\n",
    "\n",
    "    # Compute macro-average ROC curve and ROC area\n",
    "\n",
    "    # First aggregate all false positive rates\n",
    "    all_fpr = np.unique(np.concatenate([fpr[i] for i in range(nb_classes)]))\n",
    "\n",
    "    # Then interpolate all ROC curves at this points\n",
    "    mean_tpr = np.zeros_like(all_fpr)\n",
    "\n",
    "    for i in range(nb_classes):\n",
    "        mean_tpr += interp(all_fpr, fpr[i], tpr[i])\n",
    "\n",
    "    # Finally average it and compute AUC\n",
    "    mean_tpr /= nb_classes\n",
    "\n",
    "    fpr[\"macro\"] = all_fpr\n",
    "    tpr[\"macro\"] = mean_tpr\n",
    "    roc_auc[\"macro\"] = auc(fpr[\"macro\"], tpr[\"macro\"])\n",
    "\n",
    "    # Plot all ROC curves\n",
    "    plt.figure(1)\n",
    "    plt.plot(fpr[\"micro\"],\n",
    "             tpr[\"micro\"],\n",
    "             label='micro-average ROC curve (area = {0:0.2f})'.format(roc_auc[\"micro\"]),\n",
    "             color='deeppink',\n",
    "             linestyle=':',\n",
    "             linewidth=4)\n",
    "\n",
    "    plt.plot(fpr[\"macro\"],\n",
    "             tpr[\"macro\"],\n",
    "             label='macro-average ROC curve (area = {0:0.2f})'.format(roc_auc[\"macro\"]),\n",
    "             color='navy',\n",
    "             linestyle=':',\n",
    "             linewidth=4)\n",
    "\n",
    "    colors = cycle(['aqua',\n",
    "                    'darkorange',\n",
    "                    'cornflowerblue'])\n",
    "\n",
    "    for i, color in zip(range(nb_classes), colors):\n",
    "        plt.plot(fpr[i],\n",
    "                 tpr[i],\n",
    "                 color=color,\n",
    "                 lw=lw,\n",
    "                 label='ROC curve of class {0} (area = {1:0.2f})'.format(i, roc_auc[i]))\n",
    "\n",
    "    plt.plot([0, 1],\n",
    "             [0, 1],\n",
    "             'k--',\n",
    "             lw=lw)\n",
    "\n",
    "    plt.xlim([0.0, 1.0])\n",
    "    plt.ylim([0.0, 1.05])\n",
    "\n",
    "    plt.xlabel('False Positive Rate')\n",
    "    plt.ylabel('True Positive Rate')\n",
    "\n",
    "    plt.title('Some extension of Receiver operating characteristic to multi-class')\n",
    "    plt.legend(loc=\"lower right\")\n",
    "    # plt.show()\n",
    "\n",
    "    # Zoom in view of the upper left corner.\n",
    "    plt.figure(2)\n",
    "    plt.xlim(0, 0.2)\n",
    "    plt.ylim(0.7, 1)\n",
    "\n",
    "    plt.plot(fpr[\"micro\"],\n",
    "             tpr[\"micro\"],\n",
    "             label='micro-average ROC curve (area = {0:0.2f})'.format(roc_auc[\"micro\"]),\n",
    "             color='deeppink',\n",
    "             linestyle=':',\n",
    "             linewidth=4)\n",
    "\n",
    "    plt.plot(fpr[\"macro\"],\n",
    "             tpr[\"macro\"],\n",
    "             label='macro-average ROC curve (area = {0:0.2f})'.format(roc_auc[\"macro\"]),\n",
    "             color='navy',\n",
    "             linestyle=':',\n",
    "             linewidth=4)\n",
    "\n",
    "    colors = cycle(['aqua',\n",
    "                    'darkorange',\n",
    "                    'cornflowerblue'])\n",
    "\n",
    "    for i, color in zip(range(nb_classes), colors):\n",
    "        plt.plot(fpr[i],\n",
    "                 tpr[i],\n",
    "                 color=color,\n",
    "                 lw=lw,\n",
    "                 label='ROC curve of class {0} (area = {1:0.2f})'.format(i, roc_auc[i]))\n",
    "\n",
    "    plt.plot([0, 1],\n",
    "             [0, 1],\n",
    "             'k--', lw=lw)\n",
    "\n",
    "    plt.xlabel('False Positive Rate')\n",
    "    plt.ylabel('True Positive Rate')\n",
    "    plt.title('Some extension of Receiver operating characteristic to multi-class')\n",
    "    plt.legend(loc=\"lower right\")\n",
    "    plt.show()"
   ]
  },
  {
   "cell_type": "code",
   "execution_count": 56,
   "metadata": {},
   "outputs": [
    {
     "name": "stderr",
     "output_type": "stream",
     "text": [
      "<ipython-input-55-46d10016a566>:49: DeprecationWarning: scipy.interp is deprecated and will be removed in SciPy 2.0.0, use numpy.interp instead\n",
      "  mean_tpr += interp(all_fpr, fpr[i], tpr[i])\n"
     ]
    },
    {
     "data": {
      "image/png": "[encoded data removed]",
      "text/plain": [
       "<Figure size 432x288 with 1 Axes>"
      ]
     },
     "metadata": {
      "needs_background": "light"
     },
     "output_type": "display_data"
    },
    {
     "data": {
      "image/png": "[encoded data removed]",
      "text/plain": [
       "<Figure size 432x288 with 1 Axes>"
      ]
     },
     "metadata": {
      "needs_background": "light"
     },
     "output_type": "display_data"
    }
   ],
   "source": [
    "plot_multi_class_roc_auc_curves(nb_classes=6,\n",
    "                                y_true=Y_test,\n",
    "                                y_pred_score=y_score)"
   ]
  },
  {
   "cell_type": "code",
   "execution_count": 57,
   "metadata": {},
   "outputs": [
    {
     "data": {
      "text/plain": [
       "array([2, 3, 0, 3, 3, 4, 3, 4, 4, 3, 4, 2, 4, 0, 4, 3, 3, 3, 4, 2, 2, 2,\n",
       "       2, 2, 3, 2, 2, 2, 3, 4, 0, 2, 2, 3, 3, 2, 3, 4, 3, 2, 3, 4, 4, 0,\n",
       "       3, 2, 2, 2, 4, 2, 3, 0, 3, 2, 3, 3, 3, 3, 2, 2, 2, 3, 4, 2, 4, 2,\n",
       "       3, 2, 4, 3, 0, 2, 4, 4, 3, 2, 2, 3, 2, 4, 2, 4, 3, 3, 3, 4, 4, 4,\n",
       "       4], dtype=int64)"
      ]
     },
     "execution_count": 57,
     "metadata": {},
     "output_type": "execute_result"
    }
   ],
   "source": [
    "y_pred_class = model.predict_classes(X_abstract_test)\n",
    "y_pred_class"
   ]
  },
  {
   "cell_type": "code",
   "execution_count": 58,
   "metadata": {},
   "outputs": [
    {
     "data": {
      "text/plain": [
       "array([[0, 0, 1, 0, 0, 0],\n",
       "       [0, 0, 0, 1, 0, 0],\n",
       "       [1, 0, 0, 0, 0, 0],\n",
       "       [0, 0, 0, 1, 0, 0],\n",
       "       [0, 0, 0, 1, 0, 0],\n",
       "       [0, 0, 0, 0, 1, 0],\n",
       "       [0, 0, 0, 1, 0, 0],\n",
       "       [0, 0, 0, 0, 1, 0],\n",
       "       [0, 0, 0, 1, 0, 0],\n",
       "       [0, 0, 0, 1, 0, 0],\n",
       "       [0, 0, 0, 0, 1, 0],\n",
       "       [0, 0, 1, 0, 0, 0],\n",
       "       [0, 0, 0, 0, 1, 0],\n",
       "       [0, 1, 0, 0, 0, 0],\n",
       "       [0, 0, 0, 0, 1, 0],\n",
       "       [0, 0, 0, 1, 0, 0],\n",
       "       [0, 0, 0, 1, 0, 0],\n",
       "       [0, 0, 0, 1, 0, 0],\n",
       "       [0, 0, 0, 0, 1, 0],\n",
       "       [0, 0, 0, 0, 1, 0],\n",
       "       [0, 1, 0, 0, 0, 0],\n",
       "       [0, 0, 1, 0, 0, 0],\n",
       "       [0, 0, 1, 0, 0, 0],\n",
       "       [0, 0, 1, 0, 0, 0],\n",
       "       [0, 0, 0, 1, 0, 0],\n",
       "       [1, 0, 0, 0, 0, 0],\n",
       "       [0, 0, 1, 0, 0, 0],\n",
       "       [0, 0, 1, 0, 0, 0],\n",
       "       [0, 0, 0, 0, 1, 0],\n",
       "       [0, 0, 0, 0, 1, 0],\n",
       "       [1, 0, 0, 0, 0, 0],\n",
       "       [0, 0, 1, 0, 0, 0],\n",
       "       [0, 1, 0, 0, 0, 0],\n",
       "       [0, 0, 0, 1, 0, 0],\n",
       "       [0, 0, 0, 1, 0, 0],\n",
       "       [0, 0, 1, 0, 0, 0],\n",
       "       [0, 0, 0, 1, 0, 0],\n",
       "       [0, 0, 0, 0, 1, 0],\n",
       "       [0, 0, 0, 1, 0, 0],\n",
       "       [0, 0, 1, 0, 0, 0],\n",
       "       [0, 0, 0, 1, 0, 0],\n",
       "       [0, 0, 0, 0, 1, 0],\n",
       "       [0, 0, 0, 0, 1, 0],\n",
       "       [0, 0, 0, 0, 0, 1],\n",
       "       [0, 0, 0, 1, 0, 0],\n",
       "       [0, 0, 1, 0, 0, 0],\n",
       "       [0, 0, 1, 0, 0, 0],\n",
       "       [0, 0, 1, 0, 0, 0],\n",
       "       [0, 0, 0, 0, 1, 0],\n",
       "       [0, 0, 1, 0, 0, 0],\n",
       "       [0, 0, 0, 1, 0, 0],\n",
       "       [1, 0, 0, 0, 0, 0],\n",
       "       [0, 0, 0, 1, 0, 0],\n",
       "       [0, 0, 1, 0, 0, 0],\n",
       "       [0, 0, 0, 1, 0, 0],\n",
       "       [0, 0, 0, 1, 0, 0],\n",
       "       [0, 0, 0, 1, 0, 0],\n",
       "       [0, 0, 0, 1, 0, 0],\n",
       "       [0, 0, 1, 0, 0, 0],\n",
       "       [0, 0, 1, 0, 0, 0],\n",
       "       [0, 1, 0, 0, 0, 0],\n",
       "       [0, 0, 0, 1, 0, 0],\n",
       "       [0, 0, 0, 1, 0, 0],\n",
       "       [0, 0, 1, 0, 0, 0],\n",
       "       [0, 0, 0, 0, 1, 0],\n",
       "       [0, 0, 1, 0, 0, 0],\n",
       "       [0, 0, 0, 1, 0, 0],\n",
       "       [0, 0, 1, 0, 0, 0],\n",
       "       [0, 0, 0, 0, 1, 0],\n",
       "       [0, 0, 0, 1, 0, 0],\n",
       "       [0, 0, 0, 0, 0, 1],\n",
       "       [0, 0, 1, 0, 0, 0],\n",
       "       [0, 0, 1, 0, 0, 0],\n",
       "       [0, 0, 0, 0, 1, 0],\n",
       "       [0, 0, 0, 1, 0, 0],\n",
       "       [0, 0, 1, 0, 0, 0],\n",
       "       [0, 1, 0, 0, 0, 0],\n",
       "       [0, 0, 0, 1, 0, 0],\n",
       "       [0, 0, 1, 0, 0, 0],\n",
       "       [0, 0, 0, 0, 1, 0],\n",
       "       [0, 0, 1, 0, 0, 0],\n",
       "       [0, 0, 0, 0, 1, 0],\n",
       "       [0, 0, 0, 1, 0, 0],\n",
       "       [0, 0, 0, 1, 0, 0],\n",
       "       [0, 0, 0, 1, 0, 0],\n",
       "       [0, 0, 0, 0, 1, 0],\n",
       "       [0, 0, 0, 0, 1, 0],\n",
       "       [0, 0, 0, 0, 1, 0],\n",
       "       [0, 0, 0, 0, 1, 0]], dtype=uint8)"
      ]
     },
     "execution_count": 58,
     "metadata": {},
     "output_type": "execute_result"
    }
   ],
   "source": [
    "Y_test\n"
   ]
  },
  {
   "cell_type": "code",
   "execution_count": 59,
   "metadata": {},
   "outputs": [],
   "source": [
    "from sklearn import preprocessing\n",
    "lb = preprocessing.LabelBinarizer()\n",
    "y_test_binarize = lb.fit_transform(Y_test)"
   ]
  },
  {
   "cell_type": "code",
   "execution_count": 60,
   "metadata": {
    "scrolled": true
   },
   "outputs": [
    {
     "data": {
      "text/plain": [
       "array([[0, 0, 1, 0, 0, 0],\n",
       "       [0, 0, 0, 1, 0, 0],\n",
       "       [1, 0, 0, 0, 0, 0],\n",
       "       [0, 0, 0, 1, 0, 0],\n",
       "       [0, 0, 0, 1, 0, 0],\n",
       "       [0, 0, 0, 0, 1, 0],\n",
       "       [0, 0, 0, 1, 0, 0],\n",
       "       [0, 0, 0, 0, 1, 0],\n",
       "       [0, 0, 0, 1, 0, 0],\n",
       "       [0, 0, 0, 1, 0, 0],\n",
       "       [0, 0, 0, 0, 1, 0],\n",
       "       [0, 0, 1, 0, 0, 0],\n",
       "       [0, 0, 0, 0, 1, 0],\n",
       "       [0, 1, 0, 0, 0, 0],\n",
       "       [0, 0, 0, 0, 1, 0],\n",
       "       [0, 0, 0, 1, 0, 0],\n",
       "       [0, 0, 0, 1, 0, 0],\n",
       "       [0, 0, 0, 1, 0, 0],\n",
       "       [0, 0, 0, 0, 1, 0],\n",
       "       [0, 0, 0, 0, 1, 0],\n",
       "       [0, 1, 0, 0, 0, 0],\n",
       "       [0, 0, 1, 0, 0, 0],\n",
       "       [0, 0, 1, 0, 0, 0],\n",
       "       [0, 0, 1, 0, 0, 0],\n",
       "       [0, 0, 0, 1, 0, 0],\n",
       "       [1, 0, 0, 0, 0, 0],\n",
       "       [0, 0, 1, 0, 0, 0],\n",
       "       [0, 0, 1, 0, 0, 0],\n",
       "       [0, 0, 0, 0, 1, 0],\n",
       "       [0, 0, 0, 0, 1, 0],\n",
       "       [1, 0, 0, 0, 0, 0],\n",
       "       [0, 0, 1, 0, 0, 0],\n",
       "       [0, 1, 0, 0, 0, 0],\n",
       "       [0, 0, 0, 1, 0, 0],\n",
       "       [0, 0, 0, 1, 0, 0],\n",
       "       [0, 0, 1, 0, 0, 0],\n",
       "       [0, 0, 0, 1, 0, 0],\n",
       "       [0, 0, 0, 0, 1, 0],\n",
       "       [0, 0, 0, 1, 0, 0],\n",
       "       [0, 0, 1, 0, 0, 0],\n",
       "       [0, 0, 0, 1, 0, 0],\n",
       "       [0, 0, 0, 0, 1, 0],\n",
       "       [0, 0, 0, 0, 1, 0],\n",
       "       [0, 0, 0, 0, 0, 1],\n",
       "       [0, 0, 0, 1, 0, 0],\n",
       "       [0, 0, 1, 0, 0, 0],\n",
       "       [0, 0, 1, 0, 0, 0],\n",
       "       [0, 0, 1, 0, 0, 0],\n",
       "       [0, 0, 0, 0, 1, 0],\n",
       "       [0, 0, 1, 0, 0, 0],\n",
       "       [0, 0, 0, 1, 0, 0],\n",
       "       [1, 0, 0, 0, 0, 0],\n",
       "       [0, 0, 0, 1, 0, 0],\n",
       "       [0, 0, 1, 0, 0, 0],\n",
       "       [0, 0, 0, 1, 0, 0],\n",
       "       [0, 0, 0, 1, 0, 0],\n",
       "       [0, 0, 0, 1, 0, 0],\n",
       "       [0, 0, 0, 1, 0, 0],\n",
       "       [0, 0, 1, 0, 0, 0],\n",
       "       [0, 0, 1, 0, 0, 0],\n",
       "       [0, 1, 0, 0, 0, 0],\n",
       "       [0, 0, 0, 1, 0, 0],\n",
       "       [0, 0, 0, 1, 0, 0],\n",
       "       [0, 0, 1, 0, 0, 0],\n",
       "       [0, 0, 0, 0, 1, 0],\n",
       "       [0, 0, 1, 0, 0, 0],\n",
       "       [0, 0, 0, 1, 0, 0],\n",
       "       [0, 0, 1, 0, 0, 0],\n",
       "       [0, 0, 0, 0, 1, 0],\n",
       "       [0, 0, 0, 1, 0, 0],\n",
       "       [0, 0, 0, 0, 0, 1],\n",
       "       [0, 0, 1, 0, 0, 0],\n",
       "       [0, 0, 1, 0, 0, 0],\n",
       "       [0, 0, 0, 0, 1, 0],\n",
       "       [0, 0, 0, 1, 0, 0],\n",
       "       [0, 0, 1, 0, 0, 0],\n",
       "       [0, 1, 0, 0, 0, 0],\n",
       "       [0, 0, 0, 1, 0, 0],\n",
       "       [0, 0, 1, 0, 0, 0],\n",
       "       [0, 0, 0, 0, 1, 0],\n",
       "       [0, 0, 1, 0, 0, 0],\n",
       "       [0, 0, 0, 0, 1, 0],\n",
       "       [0, 0, 0, 1, 0, 0],\n",
       "       [0, 0, 0, 1, 0, 0],\n",
       "       [0, 0, 0, 1, 0, 0],\n",
       "       [0, 0, 0, 0, 1, 0],\n",
       "       [0, 0, 0, 0, 1, 0],\n",
       "       [0, 0, 0, 0, 1, 0],\n",
       "       [0, 0, 0, 0, 1, 0]])"
      ]
     },
     "execution_count": 60,
     "metadata": {},
     "output_type": "execute_result"
    }
   ],
   "source": [
    "y_test_normal = lb.inverse_transform(Y_test)\n",
    "y_test_normal"
   ]
  },
  {
   "cell_type": "code",
   "execution_count": 61,
   "metadata": {},
   "outputs": [],
   "source": [
    "from sklearn.metrics import confusion_matrix, classification_report"
   ]
  },
  {
   "cell_type": "code",
   "execution_count": 62,
   "metadata": {},
   "outputs": [
    {
     "name": "stdout",
     "output_type": "stream",
     "text": [
      "              precision    recall  f1-score   support\n",
      "\n",
      "           0       0.50      0.75      0.60         4\n",
      "           1       0.00      0.00      0.00         5\n",
      "           2       0.80      0.96      0.87        25\n",
      "           3       0.97      0.94      0.95        31\n",
      "           4       0.87      0.91      0.89        22\n",
      "           5       0.00      0.00      0.00         2\n",
      "\n",
      "    accuracy                           0.85        89\n",
      "   macro avg       0.52      0.59      0.55        89\n",
      "weighted avg       0.80      0.85      0.82        89\n",
      "\n"
     ]
    },
    {
     "name": "stderr",
     "output_type": "stream",
     "text": [
      "C:\\Users\\arisp\\anaconda3\\lib\\site-packages\\sklearn\\metrics\\_classification.py:1221: UndefinedMetricWarning: Precision and F-score are ill-defined and being set to 0.0 in labels with no predicted samples. Use `zero_division` parameter to control this behavior.\n",
      "  _warn_prf(average, modifier, msg_start, len(result))\n"
     ]
    }
   ],
   "source": [
    "print(classification_report(y_true=np.argmax(y_test_normal,axis = 1),\n",
    "                            y_pred=y_pred_class))"
   ]
  },
  {
   "cell_type": "code",
   "execution_count": 29,
   "metadata": {},
   "outputs": [],
   "source": [
    "def print_confusion_matrix(y_true,\n",
    "                           y_pred,\n",
    "                           class_names: List[str],\n",
    "                           figsize: Tuple[int, int] = (10, 7),\n",
    "                           fontsize: int = 14) -> pd.DataFrame:\n",
    "    \"\"\"\n",
    "    Prints a confusion matrix, as returned by sklearn.metrics.confusion_matrix, as a heat-map.\n",
    "\n",
    "    For something more extraordinary check this repo:\n",
    "    https://github.com/wcipriano/pretty-print-confusion-matrix\n",
    "\n",
    "\n",
    "    :param class_names:  An ordered list of class names\n",
    "    :param figsize: A 2-long tuple, the first value determining the horizontal size of the outputted\n",
    "                    figure, the second determining the vertical size. Defaults to (10,7).\n",
    "    :param fontsize: Font size for axes labels. Defaults to 14.\n",
    "    :return: The confusion matrix as a dataset\n",
    "    \"\"\"\n",
    "    conf_matrix = confusion_matrix(y_true=y_true, y_pred=y_pred)\n",
    "\n",
    "    df_cm = pd.DataFrame(conf_matrix, index=class_names, columns=class_names)\n",
    "\n",
    "    fig = plt.figure(figsize=figsize)\n",
    "\n",
    "    try:\n",
    "        heatmap = sns.heatmap(df_cm, annot=True, fmt=\"d\")\n",
    "\n",
    "    except ValueError:\n",
    "\n",
    "        raise ValueError(\"Confusion matrix values must be integers.\")\n",
    "\n",
    "    heatmap.yaxis.set_ticklabels(heatmap.yaxis.get_ticklabels(),\n",
    "                                 rotation=0,\n",
    "                                 ha='right',\n",
    "                                 fontsize=fontsize)\n",
    "\n",
    "    heatmap.xaxis.set_ticklabels(heatmap.xaxis.get_ticklabels(),\n",
    "                                 rotation=45,\n",
    "                                 ha='right',\n",
    "                                 fontsize=fontsize)\n",
    "\n",
    "    plt.ylabel('True label')\n",
    "    plt.xlabel('Predicted label')\n",
    "    plt.show()\n",
    "\n",
    "    return df_cm"
   ]
  },
  {
   "cell_type": "code",
   "execution_count": 31,
   "metadata": {},
   "outputs": [
    {
     "data": {
      "image/png": "[encoded data removed]",
      "text/plain": [
       "<Figure size 720x504 with 2 Axes>"
      ]
     },
     "metadata": {
      "needs_background": "light"
     },
     "output_type": "display_data"
    },
    {
     "data": {
      "text/html": [
       "<div>\n",
       "<style scoped>\n",
       "    .dataframe tbody tr th:only-of-type {\n",
       "        vertical-align: middle;\n",
       "    }\n",
       "\n",
       "    .dataframe tbody tr th {\n",
       "        vertical-align: top;\n",
       "    }\n",
       "\n",
       "    .dataframe thead th {\n",
       "        text-align: right;\n",
       "    }\n",
       "</style>\n",
       "<table border=\"1\" class=\"dataframe\">\n",
       "  <thead>\n",
       "    <tr style=\"text-align: right;\">\n",
       "      <th></th>\n",
       "      <th>SDG10</th>\n",
       "      <th>SDG12</th>\n",
       "      <th>SDG13</th>\n",
       "      <th>SDG3</th>\n",
       "      <th>SDG5</th>\n",
       "      <th>SDG7</th>\n",
       "    </tr>\n",
       "  </thead>\n",
       "  <tbody>\n",
       "    <tr>\n",
       "      <th>SDG10</th>\n",
       "      <td>3</td>\n",
       "      <td>0</td>\n",
       "      <td>1</td>\n",
       "      <td>0</td>\n",
       "      <td>0</td>\n",
       "      <td>0</td>\n",
       "    </tr>\n",
       "    <tr>\n",
       "      <th>SDG12</th>\n",
       "      <td>1</td>\n",
       "      <td>0</td>\n",
       "      <td>4</td>\n",
       "      <td>0</td>\n",
       "      <td>0</td>\n",
       "      <td>0</td>\n",
       "    </tr>\n",
       "    <tr>\n",
       "      <th>SDG13</th>\n",
       "      <td>0</td>\n",
       "      <td>0</td>\n",
       "      <td>24</td>\n",
       "      <td>1</td>\n",
       "      <td>0</td>\n",
       "      <td>0</td>\n",
       "    </tr>\n",
       "    <tr>\n",
       "      <th>SDG3</th>\n",
       "      <td>0</td>\n",
       "      <td>0</td>\n",
       "      <td>0</td>\n",
       "      <td>29</td>\n",
       "      <td>2</td>\n",
       "      <td>0</td>\n",
       "    </tr>\n",
       "    <tr>\n",
       "      <th>SDG5</th>\n",
       "      <td>0</td>\n",
       "      <td>0</td>\n",
       "      <td>0</td>\n",
       "      <td>5</td>\n",
       "      <td>17</td>\n",
       "      <td>0</td>\n",
       "    </tr>\n",
       "    <tr>\n",
       "      <th>SDG7</th>\n",
       "      <td>1</td>\n",
       "      <td>0</td>\n",
       "      <td>1</td>\n",
       "      <td>0</td>\n",
       "      <td>0</td>\n",
       "      <td>0</td>\n",
       "    </tr>\n",
       "  </tbody>\n",
       "</table>\n",
       "</div>"
      ],
      "text/plain": [
       "       SDG10  SDG12  SDG13  SDG3  SDG5  SDG7\n",
       "SDG10      3      0      1     0     0     0\n",
       "SDG12      1      0      4     0     0     0\n",
       "SDG13      0      0     24     1     0     0\n",
       "SDG3       0      0      0    29     2     0\n",
       "SDG5       0      0      0     5    17     0\n",
       "SDG7       1      0      1     0     0     0"
      ]
     },
     "execution_count": 31,
     "metadata": {},
     "output_type": "execute_result"
    }
   ],
   "source": [
    "import seaborn as sns\n",
    "\n",
    "print_confusion_matrix(y_true=np.argmax(y_test_normal,axis = 1),\n",
    "                           y_pred=y_pred_class,\n",
    "                           class_names=['SDG10', 'SDG12', 'SDG13', 'SDG3', 'SDG5', 'SDG7'])"
   ]
  },
  {
   "cell_type": "markdown",
   "metadata": {},
   "source": [
    "Test with a new abstract"
   ]
  },
  {
   "cell_type": "code",
   "execution_count": 32,
   "metadata": {},
   "outputs": [
    {
     "name": "stdout",
     "output_type": "stream",
     "text": [
      "SDG:  SDG13\n"
     ]
    }
   ],
   "source": [
    "new_abstract = ['The planet is warming, from North Pole to South Pole. Since 1906, the global average surface temperature has increased by more than 1.6 degrees Fahrenheit (0.9 degrees Celsius)—even more in sensitive polar regions. And the impacts of rising temperatures aren’t waiting for some far-flung future–the effects of global warming are appearing right now. The heat is melting glaciers and sea ice, shifting precipitation patterns, and setting animals on the move.']\n",
    "seq = tokenizer.texts_to_sequences(new_abstract)\n",
    "padded = pad_sequences(seq, maxlen=MAX_SEQUENCE_LENGTH)\n",
    "pred = model.predict(padded)\n",
    "labels = sdg_df.sdg.unique()\n",
    "#labels = sorted(set(sdg_df['sdg']), key=sdg_df['sdg'].index)\n",
    "print('SDG: ', labels[np.argmax(pred)])"
   ]
  },
  {
   "cell_type": "markdown",
   "metadata": {},
   "source": [
    "#### Save model and create model weights "
   ]
  },
  {
   "cell_type": "code",
   "execution_count": 33,
   "metadata": {},
   "outputs": [
    {
     "name": "stdout",
     "output_type": "stream",
     "text": [
      "WARNING:tensorflow:From C:\\Users\\arisp\\anaconda3\\lib\\site-packages\\tensorflow\\python\\training\\tracking\\tracking.py:111: Model.state_updates (from tensorflow.python.keras.engine.training) is deprecated and will be removed in a future version.\n",
      "Instructions for updating:\n",
      "This property should not be used in TensorFlow 2.0, as updates are applied automatically.\n",
      "WARNING:tensorflow:From C:\\Users\\arisp\\anaconda3\\lib\\site-packages\\tensorflow\\python\\training\\tracking\\tracking.py:111: Layer.updates (from tensorflow.python.keras.engine.base_layer) is deprecated and will be removed in a future version.\n",
      "Instructions for updating:\n",
      "This property should not be used in TensorFlow 2.0, as updates are applied automatically.\n",
      "INFO:tensorflow:Assets written to: C:\\Users\\arisp\\AppData\\Local\\Temp\\tmpbbjf5xx1\\RNN_abstract_model_weights\\assets\n"
     ]
    }
   ],
   "source": [
    "import os\n",
    "import tempfile\n",
    "import tensorflow as tf\n",
    "\n",
    "tmpdir = tempfile.mkdtemp()\n",
    "\n",
    "title_save_path = os.path.join(tmpdir, \"RNN_abstract_model_weights\")\n",
    "tf.saved_model.save(model, title_save_path)"
   ]
  }
 ],
 "metadata": {
  "kernelspec": {
   "display_name": "Python 3",
   "language": "python",
   "name": "python3"
  },
  "language_info": {
   "codemirror_mode": {
    "name": "ipython",
    "version": 3
   },
   "file_extension": ".py",
   "mimetype": "text/x-python",
   "name": "python",
   "nbconvert_exporter": "python",
   "pygments_lexer": "ipython3",
   "version": "3.8.3"
  }
 },
 "nbformat": 4,
 "nbformat_minor": 4
}
