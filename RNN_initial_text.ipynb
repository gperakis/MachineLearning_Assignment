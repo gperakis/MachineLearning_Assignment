{
 "cells": [
  {
   "cell_type": "code",
   "execution_count": 1,
   "metadata": {},
   "outputs": [],
   "source": [
    "from __future__ import print_function\n",
    "\n",
    "import re\n",
    "import tarfile\n",
    "from pathlib import Path\n",
    "from time import time\n",
    "from functools import reduce\n",
    "from pprint import pprint\n",
    "from typing import List, Tuple\n",
    "from sklearn.metrics import confusion_matrix\n",
    "from sklearn.metrics import roc_curve, auc\n",
    "from sklearn.model_selection import train_test_split\n",
    "from sklearn.preprocessing import LabelBinarizer\n",
    "import numpy as np\n",
    "import pandas as pd\n",
    "from tensorflow.python.keras import layers\n",
    "from tensorflow.python.keras.layers import recurrent, Input, Embedding, RepeatVector, Dropout, Dense, LSTM\n",
    "from tensorflow.python.keras.models import Model\n",
    "from tensorflow.python.keras.preprocessing.text import Tokenizer\n",
    "from tensorflow.python.keras.preprocessing.sequence import pad_sequences\n",
    "from tensorflow.python.keras.utils.data_utils import get_file\n",
    "from tqdm import tqdm"
   ]
  },
  {
   "cell_type": "code",
   "execution_count": 2,
   "metadata": {},
   "outputs": [],
   "source": [
    "#import the already preprocessed dataset \n",
    "sdg_df  = pd.read_csv('sdg_classification_data.csv')"
   ]
  },
  {
   "cell_type": "code",
   "execution_count": 3,
   "metadata": {},
   "outputs": [],
   "source": [
    "validation_df  = pd.read_csv('validation_dataset_v2.csv')"
   ]
  },
  {
   "cell_type": "markdown",
   "metadata": {},
   "source": [
    "LSTM - Set parameters "
   ]
  },
  {
   "cell_type": "code",
   "execution_count": 27,
   "metadata": {},
   "outputs": [
    {
     "name": "stdout",
     "output_type": "stream",
     "text": [
      "Found 13208 unique tokens.\n"
     ]
    }
   ],
   "source": [
    "# Max number of words to be used\n",
    "MAX_NB_WORDS = 50000\n",
    "# Max number of words in each sdg row.\n",
    "MAX_SEQUENCE_LENGTH = 500\n",
    "# This is fixed.\n",
    "EMBEDDING_DIM = 100\n",
    "tokenizer = Tokenizer(num_words=MAX_NB_WORDS, filters='!\"#$%&()*+,-./:;<=>?@[\\]^_`{|}~', lower=True)\n",
    "tokenizer.fit_on_texts(sdg_df['initial_text'].astype(str).values)\n",
    "word_index = tokenizer.word_index\n",
    "print('Found %s unique tokens.' % len(word_index))"
   ]
  },
  {
   "cell_type": "code",
   "execution_count": 28,
   "metadata": {},
   "outputs": [
    {
     "name": "stdout",
     "output_type": "stream",
     "text": [
      "Sequences input length: (889, 500)\n"
     ]
    }
   ],
   "source": [
    "#transform them to have the same length for modeling\n",
    "X = sdg_df['initial_text']\n",
    "Y = sdg_df['sdg']\n",
    "X_initial_text = tokenizer.texts_to_sequences(X.astype(str).values)\n",
    "X_initial_text = pad_sequences(X_initial_text, maxlen=MAX_SEQUENCE_LENGTH)\n",
    "print('Sequences input length:', X_initial_text.shape)"
   ]
  },
  {
   "cell_type": "code",
   "execution_count": 29,
   "metadata": {},
   "outputs": [
    {
     "name": "stdout",
     "output_type": "stream",
     "text": [
      "Shape of categorical variables: (889, 6)\n"
     ]
    }
   ],
   "source": [
    "Y = pd.get_dummies(sdg_df['sdg']).values\n",
    "print('Shape of categorical variables:', Y.shape)"
   ]
  },
  {
   "cell_type": "code",
   "execution_count": 30,
   "metadata": {},
   "outputs": [
    {
     "name": "stdout",
     "output_type": "stream",
     "text": [
      "(800, 500) (800, 6)\n",
      "(89, 500) (89, 6)\n"
     ]
    }
   ],
   "source": [
    "#split our dataset\n",
    "from sklearn.model_selection import train_test_split\n",
    "\n",
    "X_initial_text_train, X_initial_text_test, Y_train, Y_test = train_test_split(X_initial_text,Y, test_size = 0.10, random_state = 42)\n",
    "print(X_initial_text_train.shape,Y_train.shape)\n",
    "print(X_initial_text_test.shape,Y_test.shape)"
   ]
  },
  {
   "cell_type": "code",
   "execution_count": 31,
   "metadata": {},
   "outputs": [
    {
     "name": "stdout",
     "output_type": "stream",
     "text": [
      "Model: \"sequential_3\"\n",
      "_________________________________________________________________\n",
      "Layer (type)                 Output Shape              Param #   \n",
      "=================================================================\n",
      "embedding_3 (Embedding)      (None, 500, 100)          5000000   \n",
      "_________________________________________________________________\n",
      "lstm_3 (LSTM)                (None, 100)               80400     \n",
      "_________________________________________________________________\n",
      "dense_3 (Dense)              (None, 6)                 606       \n",
      "=================================================================\n",
      "Total params: 5,081,006\n",
      "Trainable params: 5,081,006\n",
      "Non-trainable params: 0\n",
      "_________________________________________________________________\n"
     ]
    }
   ],
   "source": [
    "import keras\n",
    "from keras.models import Sequential\n",
    "from keras.layers import SpatialDropout1D \n",
    "from tensorflow.python.keras.callbacks import EarlyStopping\n",
    "\n",
    "model = Sequential()\n",
    "model.add(Embedding(MAX_NB_WORDS, EMBEDDING_DIM, input_length=X_initial_text.shape[1]))\n",
    "model.add(LSTM(100, dropout=0.4, recurrent_dropout=0.2))\n",
    "model.add(Dense(6, activation='softmax'))\n",
    "model.compile(loss='categorical_crossentropy', optimizer='adam', metrics=['accuracy'])\n",
    "model.summary()\n",
    "epochs = 5\n",
    "batch_size = 32\n"
   ]
  },
  {
   "cell_type": "code",
   "execution_count": 32,
   "metadata": {},
   "outputs": [
    {
     "name": "stdout",
     "output_type": "stream",
     "text": [
      "Epoch 1/5\n",
      "25/25 [==============================] - 27s 1s/step - loss: 1.6819 - accuracy: 0.2925 - val_loss: 1.4642 - val_accuracy: 0.2472\n",
      "Epoch 2/5\n",
      "25/25 [==============================] - 26s 1s/step - loss: 1.3779 - accuracy: 0.3850 - val_loss: 1.1153 - val_accuracy: 0.5169\n",
      "Epoch 3/5\n",
      "25/25 [==============================] - 27s 1s/step - loss: 0.9091 - accuracy: 0.7013 - val_loss: 1.1716 - val_accuracy: 0.5955\n",
      "Epoch 4/5\n",
      "25/25 [==============================] - 28s 1s/step - loss: 0.7889 - accuracy: 0.8112 - val_loss: 0.6449 - val_accuracy: 0.8202\n",
      "Epoch 5/5\n",
      "25/25 [==============================] - 29s 1s/step - loss: 0.4890 - accuracy: 0.8400 - val_loss: 0.5406 - val_accuracy: 0.8315\n"
     ]
    }
   ],
   "source": [
    "\n",
    "model_train = model.fit(X_initial_text_train, Y_train,\n",
    "                    epochs=epochs,\n",
    "                    batch_size=batch_size,\n",
    "                    validation_data=(X_initial_text_test,Y_test),\n",
    "                    callbacks=[EarlyStopping(monitor='val_loss', patience=3, min_delta=0.0001)])"
   ]
  },
  {
   "cell_type": "code",
   "execution_count": 33,
   "metadata": {},
   "outputs": [
    {
     "name": "stdout",
     "output_type": "stream",
     "text": [
      "Sequences input length: (99, 500)\n"
     ]
    }
   ],
   "source": [
    "X_val=validation_df['initial_text']\n",
    "Y_val=validation_df['sdg']\n",
    "X_val_initial_text = tokenizer.texts_to_sequences(X_val.astype(str).values)\n",
    "X_val_initial_text = pad_sequences(X_val_initial_text, maxlen=MAX_SEQUENCE_LENGTH)\n",
    "print('Sequences input length:', X_val_initial_text.shape)"
   ]
  },
  {
   "cell_type": "code",
   "execution_count": 34,
   "metadata": {},
   "outputs": [
    {
     "name": "stdout",
     "output_type": "stream",
     "text": [
      "Shape of categorical variables: (99, 6)\n"
     ]
    }
   ],
   "source": [
    "Y_val = pd.get_dummies(Y_val).values\n",
    "print('Shape of categorical variables:', Y_val.shape)"
   ]
  },
  {
   "cell_type": "code",
   "execution_count": 35,
   "metadata": {},
   "outputs": [
    {
     "name": "stdout",
     "output_type": "stream",
     "text": [
      "2/2 [==============================] - 0s 60ms/step - loss: 0.3686 - accuracy: 0.8788\n"
     ]
    }
   ],
   "source": [
    "#Model Evaluation on the Test Set\n",
    "test_eval = model.evaluate(\n",
    "    X_val_initial_text,      # features\n",
    "    Y_val,                   # labels\n",
    "    batch_size=64,           # batch size\n",
    "    verbose=1                # the most extended verbose\n",
    ")\n"
   ]
  },
  {
   "cell_type": "code",
   "execution_count": 36,
   "metadata": {},
   "outputs": [
    {
     "name": "stdout",
     "output_type": "stream",
     "text": [
      "Test loss: 0.3685845136642456\n",
      "Test accuracy: 0.8787878751754761\n"
     ]
    }
   ],
   "source": [
    "print('Test loss:', test_eval[0])\n",
    "print('Test accuracy:', test_eval[1])"
   ]
  },
  {
   "cell_type": "code",
   "execution_count": 37,
   "metadata": {},
   "outputs": [],
   "source": [
    "import matplotlib.pyplot as plt"
   ]
  },
  {
   "cell_type": "code",
   "execution_count": 38,
   "metadata": {},
   "outputs": [
    {
     "data": {
      "image/png": "[encoded data removed]",
      "text/plain": [
       "<Figure size 432x288 with 1 Axes>"
      ]
     },
     "metadata": {
      "needs_background": "light"
     },
     "output_type": "display_data"
    },
    {
     "data": {
      "image/png": "[encoded data removed]",
      "text/plain": [
       "<Figure size 432x288 with 1 Axes>"
      ]
     },
     "metadata": {
      "needs_background": "light"
     },
     "output_type": "display_data"
    }
   ],
   "source": [
    "#Let's put your model evaluation into perspective and plot the accuracy and loss plots between training and validation data:\n",
    "\n",
    "accuracy = model_train.history['accuracy']\n",
    "val_accuracy = model_train.history['val_accuracy']\n",
    "loss =model_train.history['loss']\n",
    "val_loss = model_train.history['val_loss']\n",
    "epochs = range(len(accuracy))\n",
    "plt.plot(epochs, accuracy, 'bo', label='Training accuracy')\n",
    "plt.plot(epochs, val_accuracy, 'b', label='Validation accuracy')\n",
    "plt.title('Training and validation accuracy')\n",
    "plt.legend()\n",
    "plt.figure()\n",
    "plt.plot(epochs, loss, 'bo', label='Training loss')\n",
    "plt.plot(epochs, val_loss, 'b', label='Validation loss')\n",
    "plt.title('Training and validation loss')\n",
    "plt.legend()\n",
    "plt.show()"
   ]
  },
  {
   "cell_type": "code",
   "execution_count": 39,
   "metadata": {},
   "outputs": [
    {
     "name": "stdout",
     "output_type": "stream",
     "text": [
      "Model: \"sequential_4\"\n",
      "_________________________________________________________________\n",
      "Layer (type)                 Output Shape              Param #   \n",
      "=================================================================\n",
      "embedding_4 (Embedding)      (None, 500, 100)          5000000   \n",
      "_________________________________________________________________\n",
      "spatial_dropout1d_1 (Spatial (None, 500, 100)          0         \n",
      "_________________________________________________________________\n",
      "lstm_4 (LSTM)                (None, 100)               80400     \n",
      "_________________________________________________________________\n",
      "dense_4 (Dense)              (None, 6)                 606       \n",
      "=================================================================\n",
      "Total params: 5,081,006\n",
      "Trainable params: 5,081,006\n",
      "Non-trainable params: 0\n",
      "_________________________________________________________________\n"
     ]
    }
   ],
   "source": [
    "import keras\n",
    "from keras.models import Sequential\n",
    "from keras.layers import SpatialDropout1D \n",
    "from tensorflow.python.keras.callbacks import EarlyStopping\n",
    "\n",
    "model_dropout = Sequential()\n",
    "model_dropout.add(Embedding(MAX_NB_WORDS, EMBEDDING_DIM, input_length=X_initial_text.shape[1]))\n",
    "model_dropout.add(SpatialDropout1D(0.4))\n",
    "model_dropout.add(LSTM(100, dropout=0.2, recurrent_dropout=0.2))\n",
    "model_dropout.add(Dense(6, activation='softmax'))\n",
    "model_dropout.compile(loss='categorical_crossentropy', optimizer='adam', metrics=['accuracy'])\n",
    "model_dropout.summary()\n",
    "epochs = 5\n",
    "batch_size = 64"
   ]
  },
  {
   "cell_type": "code",
   "execution_count": 40,
   "metadata": {},
   "outputs": [
    {
     "name": "stdout",
     "output_type": "stream",
     "text": [
      "('Failed to import pydot. You must `pip install pydot` and install graphviz (https://graphviz.gitlab.io/download/), ', 'for `pydotprint` to work.')\n"
     ]
    }
   ],
   "source": [
    "from tensorflow.keras.utils import plot_model\n",
    "\n",
    "plot_model(model,\n",
    "           to_file='model_plot_dropout_rnn.png',\n",
    "           show_shapes=True,\n",
    "           show_layer_names=True)"
   ]
  },
  {
   "cell_type": "code",
   "execution_count": 41,
   "metadata": {},
   "outputs": [
    {
     "name": "stdout",
     "output_type": "stream",
     "text": [
      "Epoch 1/5\n",
      "13/13 [==============================] - 50s 4s/step - loss: 1.7508 - accuracy: 0.2962 - val_loss: 1.5931 - val_accuracy: 0.3483\n",
      "Epoch 2/5\n",
      "13/13 [==============================] - 51s 4s/step - loss: 1.5272 - accuracy: 0.2912 - val_loss: 1.3956 - val_accuracy: 0.3596\n",
      "Epoch 3/5\n",
      "13/13 [==============================] - 52s 4s/step - loss: 1.3410 - accuracy: 0.4975 - val_loss: 1.1973 - val_accuracy: 0.5169\n",
      "Epoch 4/5\n",
      "13/13 [==============================] - 52s 4s/step - loss: 1.0733 - accuracy: 0.6875 - val_loss: 1.1582 - val_accuracy: 0.4831\n",
      "Epoch 5/5\n",
      "13/13 [==============================] - 53s 4s/step - loss: 0.8325 - accuracy: 0.6687 - val_loss: 0.7717 - val_accuracy: 0.6517\n"
     ]
    }
   ],
   "source": [
    "\n",
    "model_dropout_train = model_dropout.fit(X_initial_text_train, Y_train,\n",
    "                    epochs=epochs,\n",
    "                    batch_size=batch_size,\n",
    "                    validation_data=(X_initial_text_test,Y_test),\n",
    "                    callbacks=[EarlyStopping(monitor='val_loss', patience=3, min_delta=0.0001)])"
   ]
  },
  {
   "cell_type": "code",
   "execution_count": 42,
   "metadata": {},
   "outputs": [
    {
     "name": "stdout",
     "output_type": "stream",
     "text": [
      "2/2 [==============================] - 0s 78ms/step - loss: 0.6489 - accuracy: 0.6364\n"
     ]
    }
   ],
   "source": [
    "#Model Evaluation on the Test Set\n",
    "test_eval_dropout = model_dropout.evaluate(\n",
    "    X_val_initial_text,      # features\n",
    "    Y_val,                  # labels\n",
    "    batch_size=64,           # batch size\n",
    "    verbose=1                # the most extended verbose\n",
    ")\n"
   ]
  },
  {
   "cell_type": "code",
   "execution_count": 43,
   "metadata": {},
   "outputs": [
    {
     "name": "stdout",
     "output_type": "stream",
     "text": [
      "Test loss: 0.6488930583000183\n",
      "Test accuracy: 0.6363636255264282\n"
     ]
    }
   ],
   "source": [
    "print('Test loss:', test_eval_dropout[0])\n",
    "print('Test accuracy:', test_eval_dropout[1])"
   ]
  },
  {
   "cell_type": "code",
   "execution_count": 44,
   "metadata": {
    "scrolled": true
   },
   "outputs": [
    {
     "data": {
      "image/png": "[encoded data removed]",
      "text/plain": [
       "<Figure size 432x288 with 1 Axes>"
      ]
     },
     "metadata": {
      "needs_background": "light"
     },
     "output_type": "display_data"
    },
    {
     "data": {
      "image/png": "[encoded data removed]",
      "text/plain": [
       "<Figure size 432x288 with 1 Axes>"
      ]
     },
     "metadata": {
      "needs_background": "light"
     },
     "output_type": "display_data"
    }
   ],
   "source": [
    "#Let's put your model evaluation into perspective and plot the accuracy and loss plots between training and validation data:\n",
    "\n",
    "accuracy = model_dropout_train.history['accuracy']\n",
    "val_accuracy = model_dropout_train.history['val_accuracy']\n",
    "loss =model_dropout_train.history['loss']\n",
    "val_loss = model_dropout_train.history['val_loss']\n",
    "epochs = range(len(accuracy))\n",
    "plt.plot(epochs, accuracy, 'bo', label='Training accuracy')\n",
    "plt.plot(epochs, val_accuracy, 'b', label='Validation accuracy')\n",
    "plt.title('Training and validation accuracy')\n",
    "plt.legend()\n",
    "plt.figure()\n",
    "plt.plot(epochs, loss, 'bo', label='Training loss')\n",
    "plt.plot(epochs, val_loss, 'b', label='Validation loss')\n",
    "plt.title('Training and validation loss')\n",
    "plt.legend()\n",
    "plt.show()"
   ]
  },
  {
   "cell_type": "code",
   "execution_count": 48,
   "metadata": {},
   "outputs": [
    {
     "data": {
      "text/plain": [
       "array([[3.04140329e-01, 2.64824569e-01, 6.70790970e-02, 4.82827760e-02,\n",
       "        5.48854992e-02, 2.60787755e-01],\n",
       "       [3.25535536e-01, 2.60617495e-01, 4.55015376e-02, 5.16788587e-02,\n",
       "        6.39405698e-02, 2.52726018e-01],\n",
       "       [3.40795964e-01, 2.69347429e-01, 5.95576204e-02, 3.89089026e-02,\n",
       "        3.54008600e-02, 2.55989283e-01],\n",
       "       [3.56290191e-01, 2.65957028e-01, 6.81628510e-02, 2.54641138e-02,\n",
       "        3.32642756e-02, 2.50861526e-01],\n",
       "       [3.55874926e-01, 2.69466132e-01, 4.50846031e-02, 2.63312664e-02,\n",
       "        4.12635170e-02, 2.61979640e-01],\n",
       "       [3.36576134e-01, 2.63160884e-01, 4.46856581e-02, 3.98116708e-02,\n",
       "        5.69529757e-02, 2.58812755e-01],\n",
       "       [2.96004653e-01, 2.65700161e-01, 5.11345789e-02, 7.43771568e-02,\n",
       "        5.74613363e-02, 2.55322039e-01],\n",
       "       [2.49760762e-01, 2.29445964e-01, 9.43325087e-02, 1.20362073e-01,\n",
       "        8.17359835e-02, 2.24362671e-01],\n",
       "       [3.09528828e-01, 2.50538051e-01, 1.16929226e-01, 4.49615866e-02,\n",
       "        4.23145108e-02, 2.35727832e-01],\n",
       "       [2.51267552e-01, 2.22010866e-01, 1.84232056e-01, 5.99882156e-02,\n",
       "        8.22846815e-02, 2.00216666e-01],\n",
       "       [2.64239788e-01, 2.26693183e-01, 1.43243402e-01, 7.07198456e-02,\n",
       "        9.23462138e-02, 2.02757552e-01],\n",
       "       [3.22622687e-01, 2.64701068e-01, 8.50204080e-02, 3.93904708e-02,\n",
       "        3.65888588e-02, 2.51676470e-01],\n",
       "       [4.23421944e-03, 3.12258210e-03, 5.49009768e-03, 1.64197553e-02,\n",
       "        9.66639757e-01, 4.09364654e-03],\n",
       "       [1.30144681e-03, 1.06548902e-03, 2.41019484e-03, 1.25460252e-02,\n",
       "        9.81161356e-01, 1.51548488e-03],\n",
       "       [4.94115194e-03, 3.65292933e-03, 6.10674499e-03, 2.06747577e-02,\n",
       "        9.59932804e-01, 4.69163293e-03],\n",
       "       [2.06378824e-03, 1.50806701e-03, 3.81630659e-03, 1.08236596e-02,\n",
       "        9.79690075e-01, 2.09812028e-03],\n",
       "       [5.81012061e-03, 4.02731961e-03, 6.23814017e-03, 1.51831815e-02,\n",
       "        9.63653326e-01, 5.08788507e-03],\n",
       "       [2.35428335e-03, 1.91149407e-03, 3.48203257e-03, 1.83894318e-02,\n",
       "        9.71103072e-01, 2.75965733e-03],\n",
       "       [3.62520013e-03, 2.65603466e-03, 5.78368874e-03, 1.54113844e-02,\n",
       "        9.69047129e-01, 3.47653986e-03],\n",
       "       [9.62321123e-04, 7.56572350e-04, 1.78777857e-03, 8.29467829e-03,\n",
       "        9.87127304e-01, 1.07128196e-03],\n",
       "       [3.31977219e-03, 2.49081221e-03, 5.83554851e-03, 1.52185401e-02,\n",
       "        9.69907641e-01, 3.22768325e-03],\n",
       "       [2.48639495e-03, 1.91796117e-03, 4.52623516e-03, 1.29177496e-02,\n",
       "        9.75609899e-01, 2.54179095e-03],\n",
       "       [5.73344668e-03, 4.24406398e-03, 6.19474752e-03, 1.81985479e-02,\n",
       "        9.60208297e-01, 5.42087387e-03],\n",
       "       [6.75821677e-03, 4.37017949e-03, 6.66833343e-03, 1.27638951e-02,\n",
       "        9.64116931e-01, 5.32250851e-03],\n",
       "       [7.95346778e-03, 5.41471271e-03, 6.61005080e-03, 1.63733941e-02,\n",
       "        9.56841230e-01, 6.80715358e-03],\n",
       "       [4.11144644e-03, 3.07517406e-03, 6.44416967e-03, 1.71484854e-02,\n",
       "        9.65210199e-01, 4.01053065e-03],\n",
       "       [5.56080043e-03, 3.97144025e-03, 7.48953596e-03, 1.91455428e-02,\n",
       "        9.58800495e-01, 5.03224228e-03],\n",
       "       [1.04428409e-03, 8.11608334e-04, 2.43897806e-03, 8.95932596e-03,\n",
       "        9.85603571e-01, 1.14232500e-03],\n",
       "       [2.08109012e-03, 1.51815091e-03, 3.61571321e-03, 1.04772355e-02,\n",
       "        9.80256081e-01, 2.05179583e-03],\n",
       "       [3.29815736e-03, 2.41323537e-03, 4.95069101e-03, 1.58015080e-02,\n",
       "        9.70274508e-01, 3.26183648e-03],\n",
       "       [4.05106368e-03, 3.11202533e-03, 5.93454344e-03, 2.04922166e-02,\n",
       "        9.62291420e-01, 4.11866512e-03],\n",
       "       [5.31800417e-03, 3.82651179e-03, 6.87519321e-03, 2.04748455e-02,\n",
       "        9.58410978e-01, 5.09447651e-03],\n",
       "       [3.71512235e-03, 2.61653634e-03, 4.67815204e-03, 1.34730581e-02,\n",
       "        9.71981347e-01, 3.53581063e-03],\n",
       "       [5.07498719e-03, 3.70687037e-03, 5.95777296e-03, 2.22782940e-02,\n",
       "        9.57984030e-01, 4.99805342e-03],\n",
       "       [4.64544864e-03, 3.44682531e-03, 7.09486147e-03, 2.27039140e-02,\n",
       "        9.57599521e-01, 4.50941361e-03],\n",
       "       [4.32000542e-03, 3.14581092e-03, 5.13998652e-03, 1.75017398e-02,\n",
       "        9.65728462e-01, 4.16399492e-03],\n",
       "       [2.23100092e-03, 1.69196725e-03, 3.35731707e-03, 1.30665200e-02,\n",
       "        9.77285326e-01, 2.36786506e-03],\n",
       "       [3.22391163e-03, 2.42577982e-03, 4.69061220e-03, 1.62961073e-02,\n",
       "        9.70096409e-01, 3.26719601e-03],\n",
       "       [5.95010910e-03, 4.71605407e-03, 6.14700280e-03, 3.63967605e-02,\n",
       "        9.40407634e-01, 6.38244255e-03],\n",
       "       [4.08581807e-04, 7.13788962e-04, 3.65108438e-03, 9.91140187e-01,\n",
       "        3.39156459e-03, 6.94749353e-04],\n",
       "       [2.02144482e-04, 3.37879348e-04, 1.64901838e-03, 9.91056681e-01,\n",
       "        6.41729590e-03, 3.36929166e-04],\n",
       "       [1.76483663e-04, 3.25073051e-04, 1.44586572e-03, 9.94994521e-01,\n",
       "        2.72900960e-03, 3.29009374e-04],\n",
       "       [1.64306388e-04, 3.02477594e-04, 1.05162710e-03, 9.94758904e-01,\n",
       "        3.42498790e-03, 2.97722814e-04],\n",
       "       [2.26659162e-04, 4.04332328e-04, 1.76718400e-03, 9.93661046e-01,\n",
       "        3.52902268e-03, 4.11774992e-04],\n",
       "       [2.17444496e-04, 4.00566671e-04, 1.73289631e-03, 9.94414806e-01,\n",
       "        2.83859903e-03, 3.95540468e-04],\n",
       "       [1.88632105e-02, 2.73174625e-02, 1.18870966e-01, 7.79326916e-01,\n",
       "        2.52072867e-02, 3.04140933e-02],\n",
       "       [2.14017244e-04, 3.59900674e-04, 1.61868159e-03, 9.93061721e-01,\n",
       "        4.38610837e-03, 3.59620375e-04],\n",
       "       [6.60379534e-04, 1.10537140e-03, 7.92819448e-03, 9.83396590e-01,\n",
       "        5.81840519e-03, 1.09100307e-03],\n",
       "       [2.32785082e-04, 3.96837801e-04, 1.70494302e-03, 9.92820561e-01,\n",
       "        4.44526318e-03, 3.99714016e-04],\n",
       "       [6.65787142e-03, 5.05705830e-03, 6.97553344e-03, 3.34901027e-02,\n",
       "        9.41191137e-01, 6.62820041e-03],\n",
       "       [1.56817343e-02, 2.00861394e-02, 4.02767718e-01, 4.98945147e-01,\n",
       "        4.23572548e-02, 2.01619789e-02],\n",
       "       [1.67798775e-04, 2.88461131e-04, 1.40782422e-03, 9.93323028e-01,\n",
       "        4.51888004e-03, 2.94077588e-04],\n",
       "       [4.07657091e-04, 6.43196050e-04, 2.16185558e-03, 9.85796750e-01,\n",
       "        1.03558153e-02, 6.34822936e-04],\n",
       "       [1.31220528e-04, 2.36541862e-04, 8.58568819e-04, 9.95178342e-01,\n",
       "        3.35619226e-03, 2.39139175e-04],\n",
       "       [1.50020351e-04, 2.68322823e-04, 9.71673522e-04, 9.95240450e-01,\n",
       "        3.09274648e-03, 2.76813633e-04],\n",
       "       [5.38612530e-03, 4.43354063e-03, 5.61732007e-03, 3.88180278e-02,\n",
       "        9.39930499e-01, 5.81449736e-03],\n",
       "       [2.31493774e-04, 3.91826150e-04, 1.84744061e-03, 9.91862059e-01,\n",
       "        5.28374640e-03, 3.83395731e-04],\n",
       "       [2.38119130e-04, 4.02034580e-04, 1.61410845e-03, 9.93054450e-01,\n",
       "        4.27936669e-03, 4.11961839e-04],\n",
       "       [2.46005249e-04, 4.23340069e-04, 1.70101924e-03, 9.92520928e-01,\n",
       "        4.67897020e-03, 4.29716456e-04],\n",
       "       [6.05936348e-03, 7.82636739e-03, 5.90150990e-02, 8.44091356e-01,\n",
       "        7.47920647e-02, 8.21571704e-03],\n",
       "       [2.40571186e-04, 4.71640960e-04, 2.24287389e-03, 9.94615972e-01,\n",
       "        1.94358593e-03, 4.85472643e-04],\n",
       "       [1.65563058e-02, 1.25816874e-02, 1.39910495e-02, 5.68054840e-02,\n",
       "        8.84948730e-01, 1.51166469e-02],\n",
       "       [3.65740241e-04, 6.53659750e-04, 4.36761975e-03, 9.91146266e-01,\n",
       "        2.81179277e-03, 6.54873031e-04],\n",
       "       [2.30475649e-04, 4.02887905e-04, 1.91109034e-03, 9.93067980e-01,\n",
       "        3.99066648e-03, 3.96991614e-04],\n",
       "       [2.32437626e-04, 4.30186221e-04, 1.95863657e-03, 9.94370520e-01,\n",
       "        2.59339157e-03, 4.14885435e-04],\n",
       "       [2.59205612e-04, 4.36042785e-04, 1.32886716e-03, 9.93242204e-01,\n",
       "        4.30371705e-03, 4.29930718e-04],\n",
       "       [2.10720507e-04, 3.61796498e-04, 1.29424012e-03, 9.92626131e-01,\n",
       "        5.14062773e-03, 3.66493507e-04],\n",
       "       [2.91794509e-04, 5.21216833e-04, 1.81056873e-03, 9.93382335e-01,\n",
       "        3.46862059e-03, 5.25431475e-04],\n",
       "       [2.40182460e-04, 4.29214881e-04, 2.19762931e-03, 9.92797673e-01,\n",
       "        3.91496904e-03, 4.20377532e-04],\n",
       "       [3.28474940e-04, 6.28915965e-04, 2.75723054e-03, 9.93342221e-01,\n",
       "        2.29581399e-03, 6.47423614e-04],\n",
       "       [3.24891880e-03, 2.38511525e-03, 4.94239386e-03, 1.28685413e-02,\n",
       "        9.73443985e-01, 3.11101251e-03],\n",
       "       [2.84875231e-03, 2.06121989e-03, 3.86457355e-03, 1.39505900e-02,\n",
       "        9.74495351e-01, 2.77944561e-03],\n",
       "       [2.99706636e-03, 2.15033302e-03, 4.37674578e-03, 1.32044647e-02,\n",
       "        9.74359393e-01, 2.91197631e-03],\n",
       "       [3.11574573e-03, 2.28550029e-03, 4.43857210e-03, 1.55185862e-02,\n",
       "        9.71574366e-01, 3.06732510e-03],\n",
       "       [2.44702566e-02, 2.21942216e-02, 8.85894716e-01, 3.28091681e-02,\n",
       "        1.16817718e-02, 2.29497738e-02],\n",
       "       [6.19481020e-02, 6.19198121e-02, 6.51992083e-01, 1.36777356e-01,\n",
       "        2.27566715e-02, 6.46060482e-02],\n",
       "       [2.23730728e-02, 2.04783399e-02, 8.89978051e-01, 3.60415578e-02,\n",
       "        1.01679014e-02, 2.09609997e-02],\n",
       "       [1.35856597e-02, 1.28343999e-02, 9.28123653e-01, 2.58349292e-02,\n",
       "        7.01532513e-03, 1.26060713e-02],\n",
       "       [9.64826718e-02, 7.87548646e-02, 6.73588514e-01, 4.86784577e-02,\n",
       "        2.49816589e-02, 7.75138512e-02],\n",
       "       [1.27523569e-02, 1.20547386e-02, 9.31574523e-01, 2.29784939e-02,\n",
       "        8.51275492e-03, 1.21271759e-02],\n",
       "       [1.52580189e-02, 1.21766264e-02, 9.42173302e-01, 1.28014693e-02,\n",
       "        5.47565566e-03, 1.21150222e-02],\n",
       "       [2.10807007e-02, 1.90619454e-02, 8.94748211e-01, 3.61399315e-02,\n",
       "        9.66579188e-03, 1.93033703e-02],\n",
       "       [2.73009781e-02, 2.32138205e-02, 8.87504101e-01, 2.67981868e-02,\n",
       "        1.08378725e-02, 2.43450385e-02],\n",
       "       [5.22050373e-02, 4.53140736e-02, 7.87561119e-01, 5.04406355e-02,\n",
       "        1.78593658e-02, 4.66198511e-02],\n",
       "       [5.79066249e-03, 5.74028399e-03, 9.65710759e-01, 1.29721323e-02,\n",
       "        4.17013187e-03, 5.61600691e-03],\n",
       "       [1.43906726e-02, 1.28507651e-02, 9.33094263e-01, 1.94572974e-02,\n",
       "        7.29306368e-03, 1.29139563e-02],\n",
       "       [2.06499044e-02, 2.00161114e-02, 8.88967156e-01, 3.98914032e-02,\n",
       "        1.04718003e-02, 2.00036392e-02],\n",
       "       [5.18756248e-02, 3.95492911e-02, 8.28292131e-01, 2.85839401e-02,\n",
       "        1.31495651e-02, 3.85494120e-02],\n",
       "       [9.01877359e-02, 8.47169086e-02, 5.99800646e-01, 1.03319548e-01,\n",
       "        3.17831002e-02, 9.01919901e-02],\n",
       "       [1.47277728e-01, 1.37621701e-01, 4.08999771e-01, 1.10334724e-01,\n",
       "        4.97455597e-02, 1.46020606e-01],\n",
       "       [2.48566940e-02, 2.33222432e-02, 8.67550790e-01, 5.07166237e-02,\n",
       "        9.65629518e-03, 2.38972697e-02],\n",
       "       [3.73122049e-03, 6.24228735e-03, 2.28183176e-02, 9.52745199e-01,\n",
       "        7.73776695e-03, 6.72523770e-03],\n",
       "       [1.68223605e-01, 1.52567253e-01, 3.73263955e-01, 1.18605249e-01,\n",
       "        3.55773307e-02, 1.51762590e-01],\n",
       "       [7.71072460e-03, 7.91367050e-03, 9.53005493e-01, 1.86747070e-02,\n",
       "        5.04212640e-03, 7.65321124e-03],\n",
       "       [1.60089917e-02, 1.54463686e-02, 9.13719058e-01, 3.06368098e-02,\n",
       "        8.46837740e-03, 1.57203842e-02],\n",
       "       [1.77275240e-02, 1.63604915e-02, 9.15920079e-01, 2.41186190e-02,\n",
       "        9.29577928e-03, 1.65775083e-02],\n",
       "       [6.54354412e-03, 6.76901359e-03, 9.61050689e-01, 1.33598838e-02,\n",
       "        5.46236662e-03, 6.81436900e-03],\n",
       "       [2.77248584e-03, 2.96792295e-03, 9.81745601e-01, 7.17991590e-03,\n",
       "        2.55258731e-03, 2.78158556e-03],\n",
       "       [1.37488749e-02, 1.30966417e-02, 9.28705156e-01, 2.31523290e-02,\n",
       "        8.45607743e-03, 1.28410151e-02]], dtype=float32)"
      ]
     },
     "execution_count": 48,
     "metadata": {},
     "output_type": "execute_result"
    }
   ],
   "source": [
    "y_test_pred_probs = model.predict(X_val_initial_text)\n",
    "y_test_pred_probs"
   ]
  },
  {
   "cell_type": "code",
   "execution_count": 49,
   "metadata": {},
   "outputs": [
    {
     "data": {
      "text/plain": [
       "array([5, 0, 0, 0, 0, 0, 1, 1, 1, 1, 1, 1, 4, 4, 4, 4, 4, 4, 4, 4, 4, 4,\n",
       "       4, 4, 4, 4, 4, 4, 4, 4, 4, 4, 4, 4, 4, 4, 4, 4, 3, 3, 3, 3, 3, 3,\n",
       "       3, 3, 3, 3, 3, 3, 3, 3, 3, 3, 3, 3, 3, 3, 3, 3, 3, 3, 3, 3, 3, 3,\n",
       "       3, 3, 3, 3, 4, 4, 4, 4, 2, 2, 2, 2, 2, 2, 2, 2, 2, 2, 2, 2, 2, 2,\n",
       "       2, 2, 2, 3, 3, 2, 2, 2, 2, 2, 2], dtype=int64)"
      ]
     },
     "execution_count": 49,
     "metadata": {},
     "output_type": "execute_result"
    }
   ],
   "source": [
    "Y_val.argmax(axis=1)"
   ]
  },
  {
   "cell_type": "code",
   "execution_count": 50,
   "metadata": {},
   "outputs": [],
   "source": [
    "y_score = model.predict(X_val_initial_text)"
   ]
  },
  {
   "cell_type": "code",
   "execution_count": 51,
   "metadata": {},
   "outputs": [
    {
     "data": {
      "text/plain": [
       "array([0.30414033, 0.26482457, 0.0670791 , 0.04828278, 0.0548855 ,\n",
       "       0.26078776], dtype=float32)"
      ]
     },
     "execution_count": 51,
     "metadata": {},
     "output_type": "execute_result"
    }
   ],
   "source": [
    "y_score[0]"
   ]
  },
  {
   "cell_type": "code",
   "execution_count": 52,
   "metadata": {},
   "outputs": [],
   "source": [
    "from scipy import interp\n",
    "from itertools import cycle\n",
    "\n",
    "\n",
    "def plot_multi_class_roc_auc_curves(nb_classes, y_true, y_pred_score, lw: int = 2):\n",
    "    \"\"\"\n",
    "    ROC, AUC for a categorical classifier\n",
    "    \n",
    "    ROC curve extends to problems with three or more classes with what is known as the one-vs-all approach.\n",
    "    For instance, if we have three classes, we will create three ROC curves,\n",
    "\n",
    "    For each class, we take it as the positive class and group the rest classes jointly as the negative class.\n",
    "\n",
    "    Class 1 vs classes 2&3\n",
    "    Class 2 vs classes 1&3\n",
    "    Class 3 vs classes 1&2\n",
    "\n",
    "    :param nb_classes:\n",
    "    :param y_true:\n",
    "    :param y_pred_score:\n",
    "    :param lw:\n",
    "    :return:\n",
    "    \"\"\"\n",
    "\n",
    "    # Compute ROC curve and ROC area for each class\n",
    "    fpr = dict()\n",
    "    tpr = dict()\n",
    "    roc_auc = dict()\n",
    "\n",
    "    for i in range(nb_classes):\n",
    "        fpr[i], tpr[i], _ = roc_curve(y_true[:, i], y_pred_score[:, i])\n",
    "\n",
    "        roc_auc[i] = auc(fpr[i], tpr[i])\n",
    "\n",
    "    # Compute micro-average ROC curve and ROC area\n",
    "    fpr[\"micro\"], tpr[\"micro\"], _ = roc_curve(y_true.ravel(), y_pred_score.ravel())\n",
    "\n",
    "    roc_auc[\"micro\"] = auc(fpr[\"micro\"], tpr[\"micro\"])\n",
    "\n",
    "    # Compute macro-average ROC curve and ROC area\n",
    "\n",
    "    # First aggregate all false positive rates\n",
    "    all_fpr = np.unique(np.concatenate([fpr[i] for i in range(nb_classes)]))\n",
    "\n",
    "    # Then interpolate all ROC curves at this points\n",
    "    mean_tpr = np.zeros_like(all_fpr)\n",
    "\n",
    "    for i in range(nb_classes):\n",
    "        mean_tpr += interp(all_fpr, fpr[i], tpr[i])\n",
    "\n",
    "    # Finally average it and compute AUC\n",
    "    mean_tpr /= nb_classes\n",
    "\n",
    "    fpr[\"macro\"] = all_fpr\n",
    "    tpr[\"macro\"] = mean_tpr\n",
    "    roc_auc[\"macro\"] = auc(fpr[\"macro\"], tpr[\"macro\"])\n",
    "\n",
    "    # Plot all ROC curves\n",
    "    plt.figure(1)\n",
    "    plt.plot(fpr[\"micro\"],\n",
    "             tpr[\"micro\"],\n",
    "             label='micro-average ROC curve (area = {0:0.2f})'.format(roc_auc[\"micro\"]),\n",
    "             color='deeppink',\n",
    "             linestyle=':',\n",
    "             linewidth=4)\n",
    "\n",
    "    plt.plot(fpr[\"macro\"],\n",
    "             tpr[\"macro\"],\n",
    "             label='macro-average ROC curve (area = {0:0.2f})'.format(roc_auc[\"macro\"]),\n",
    "             color='navy',\n",
    "             linestyle=':',\n",
    "             linewidth=4)\n",
    "\n",
    "    colors = cycle(['aqua',\n",
    "                    'darkorange',\n",
    "                    'cornflowerblue'])\n",
    "\n",
    "    for i, color in zip(range(nb_classes), colors):\n",
    "        plt.plot(fpr[i],\n",
    "                 tpr[i],\n",
    "                 color=color,\n",
    "                 lw=lw,\n",
    "                 label='ROC curve of class {0} (area = {1:0.2f})'.format(i, roc_auc[i]))\n",
    "\n",
    "    plt.plot([0, 1],\n",
    "             [0, 1],\n",
    "             'k--',\n",
    "             lw=lw)\n",
    "\n",
    "    plt.xlim([0.0, 1.0])\n",
    "    plt.ylim([0.0, 1.05])\n",
    "\n",
    "    plt.xlabel('False Positive Rate')\n",
    "    plt.ylabel('True Positive Rate')\n",
    "\n",
    "    plt.title('Some extension of Receiver operating characteristic to multi-class')\n",
    "    plt.legend(loc=\"lower right\")\n",
    "    # plt.show()\n",
    "\n",
    "    # Zoom in view of the upper left corner.\n",
    "    plt.figure(2)\n",
    "    plt.xlim(0, 0.2)\n",
    "    plt.ylim(0.7, 1)\n",
    "\n",
    "    plt.plot(fpr[\"micro\"],\n",
    "             tpr[\"micro\"],\n",
    "             label='micro-average ROC curve (area = {0:0.2f})'.format(roc_auc[\"micro\"]),\n",
    "             color='deeppink',\n",
    "             linestyle=':',\n",
    "             linewidth=4)\n",
    "\n",
    "    plt.plot(fpr[\"macro\"],\n",
    "             tpr[\"macro\"],\n",
    "             label='macro-average ROC curve (area = {0:0.2f})'.format(roc_auc[\"macro\"]),\n",
    "             color='navy',\n",
    "             linestyle=':',\n",
    "             linewidth=4)\n",
    "\n",
    "    colors = cycle(['aqua',\n",
    "                    'darkorange',\n",
    "                    'cornflowerblue'])\n",
    "\n",
    "    for i, color in zip(range(nb_classes), colors):\n",
    "        plt.plot(fpr[i],\n",
    "                 tpr[i],\n",
    "                 color=color,\n",
    "                 lw=lw,\n",
    "                 label='ROC curve of class {0} (area = {1:0.2f})'.format(i, roc_auc[i]))\n",
    "\n",
    "    plt.plot([0, 1],\n",
    "             [0, 1],\n",
    "             'k--', lw=lw)\n",
    "\n",
    "    plt.xlabel('False Positive Rate')\n",
    "    plt.ylabel('True Positive Rate')\n",
    "    plt.title('Some extension of Receiver operating characteristic to multi-class')\n",
    "    plt.legend(loc=\"lower right\")\n",
    "    plt.show()"
   ]
  },
  {
   "cell_type": "code",
   "execution_count": 53,
   "metadata": {},
   "outputs": [
    {
     "name": "stderr",
     "output_type": "stream",
     "text": [
      "C:\\Users\\Eleni Kakagianni\\anaconda3\\lib\\site-packages\\ipykernel_launcher.py:49: DeprecationWarning: scipy.interp is deprecated and will be removed in SciPy 2.0.0, use numpy.interp instead\n"
     ]
    },
    {
     "data": {
      "image/png": "[encoded data removed]",
      "text/plain": [
       "<Figure size 432x288 with 1 Axes>"
      ]
     },
     "metadata": {
      "needs_background": "light"
     },
     "output_type": "display_data"
    },
    {
     "data": {
      "image/png": "[encoded data removed]",
      "text/plain": [
       "<Figure size 432x288 with 1 Axes>"
      ]
     },
     "metadata": {
      "needs_background": "light"
     },
     "output_type": "display_data"
    }
   ],
   "source": [
    "plot_multi_class_roc_auc_curves(nb_classes=6,\n",
    "                                y_true=Y_val,\n",
    "                                y_pred_score=y_score)"
   ]
  },
  {
   "cell_type": "code",
   "execution_count": 54,
   "metadata": {},
   "outputs": [
    {
     "name": "stdout",
     "output_type": "stream",
     "text": [
      "WARNING:tensorflow:From <ipython-input-54-499a8cfa20ed>:1: Sequential.predict_classes (from tensorflow.python.keras.engine.sequential) is deprecated and will be removed after 2021-01-01.\n",
      "Instructions for updating:\n",
      "Please use instead:* `np.argmax(model.predict(x), axis=-1)`,   if your model does multi-class classification   (e.g. if it uses a `softmax` last-layer activation).* `(model.predict(x) > 0.5).astype(\"int32\")`,   if your model does binary classification   (e.g. if it uses a `sigmoid` last-layer activation).\n"
     ]
    },
    {
     "data": {
      "text/plain": [
       "array([0, 0, 0, 0, 0, 0, 0, 0, 0, 0, 0, 0, 4, 4, 4, 4, 4, 4, 4, 4, 4, 4,\n",
       "       4, 4, 4, 4, 4, 4, 4, 4, 4, 4, 4, 4, 4, 4, 4, 4, 4, 3, 3, 3, 3, 3,\n",
       "       3, 3, 3, 3, 3, 4, 3, 3, 3, 3, 3, 4, 3, 3, 3, 3, 3, 4, 3, 3, 3, 3,\n",
       "       3, 3, 3, 3, 4, 4, 4, 4, 2, 2, 2, 2, 2, 2, 2, 2, 2, 2, 2, 2, 2, 2,\n",
       "       2, 2, 2, 3, 2, 2, 2, 2, 2, 2, 2], dtype=int64)"
      ]
     },
     "execution_count": 54,
     "metadata": {},
     "output_type": "execute_result"
    }
   ],
   "source": [
    "y_pred_class = model.predict_classes(X_val_initial_text)\n",
    "y_pred_class"
   ]
  },
  {
   "cell_type": "code",
   "execution_count": 55,
   "metadata": {},
   "outputs": [
    {
     "data": {
      "text/plain": [
       "array([[0, 0, 0, 0, 0, 1],\n",
       "       [1, 0, 0, 0, 0, 0],\n",
       "       [1, 0, 0, 0, 0, 0],\n",
       "       [1, 0, 0, 0, 0, 0],\n",
       "       [1, 0, 0, 0, 0, 0],\n",
       "       [1, 0, 0, 0, 0, 0],\n",
       "       [0, 1, 0, 0, 0, 0],\n",
       "       [0, 1, 0, 0, 0, 0],\n",
       "       [0, 1, 0, 0, 0, 0],\n",
       "       [0, 1, 0, 0, 0, 0],\n",
       "       [0, 1, 0, 0, 0, 0],\n",
       "       [0, 1, 0, 0, 0, 0],\n",
       "       [0, 0, 0, 0, 1, 0],\n",
       "       [0, 0, 0, 0, 1, 0],\n",
       "       [0, 0, 0, 0, 1, 0],\n",
       "       [0, 0, 0, 0, 1, 0],\n",
       "       [0, 0, 0, 0, 1, 0],\n",
       "       [0, 0, 0, 0, 1, 0],\n",
       "       [0, 0, 0, 0, 1, 0],\n",
       "       [0, 0, 0, 0, 1, 0],\n",
       "       [0, 0, 0, 0, 1, 0],\n",
       "       [0, 0, 0, 0, 1, 0],\n",
       "       [0, 0, 0, 0, 1, 0],\n",
       "       [0, 0, 0, 0, 1, 0],\n",
       "       [0, 0, 0, 0, 1, 0],\n",
       "       [0, 0, 0, 0, 1, 0],\n",
       "       [0, 0, 0, 0, 1, 0],\n",
       "       [0, 0, 0, 0, 1, 0],\n",
       "       [0, 0, 0, 0, 1, 0],\n",
       "       [0, 0, 0, 0, 1, 0],\n",
       "       [0, 0, 0, 0, 1, 0],\n",
       "       [0, 0, 0, 0, 1, 0],\n",
       "       [0, 0, 0, 0, 1, 0],\n",
       "       [0, 0, 0, 0, 1, 0],\n",
       "       [0, 0, 0, 0, 1, 0],\n",
       "       [0, 0, 0, 0, 1, 0],\n",
       "       [0, 0, 0, 0, 1, 0],\n",
       "       [0, 0, 0, 0, 1, 0],\n",
       "       [0, 0, 0, 1, 0, 0],\n",
       "       [0, 0, 0, 1, 0, 0],\n",
       "       [0, 0, 0, 1, 0, 0],\n",
       "       [0, 0, 0, 1, 0, 0],\n",
       "       [0, 0, 0, 1, 0, 0],\n",
       "       [0, 0, 0, 1, 0, 0],\n",
       "       [0, 0, 0, 1, 0, 0],\n",
       "       [0, 0, 0, 1, 0, 0],\n",
       "       [0, 0, 0, 1, 0, 0],\n",
       "       [0, 0, 0, 1, 0, 0],\n",
       "       [0, 0, 0, 1, 0, 0],\n",
       "       [0, 0, 0, 1, 0, 0],\n",
       "       [0, 0, 0, 1, 0, 0],\n",
       "       [0, 0, 0, 1, 0, 0],\n",
       "       [0, 0, 0, 1, 0, 0],\n",
       "       [0, 0, 0, 1, 0, 0],\n",
       "       [0, 0, 0, 1, 0, 0],\n",
       "       [0, 0, 0, 1, 0, 0],\n",
       "       [0, 0, 0, 1, 0, 0],\n",
       "       [0, 0, 0, 1, 0, 0],\n",
       "       [0, 0, 0, 1, 0, 0],\n",
       "       [0, 0, 0, 1, 0, 0],\n",
       "       [0, 0, 0, 1, 0, 0],\n",
       "       [0, 0, 0, 1, 0, 0],\n",
       "       [0, 0, 0, 1, 0, 0],\n",
       "       [0, 0, 0, 1, 0, 0],\n",
       "       [0, 0, 0, 1, 0, 0],\n",
       "       [0, 0, 0, 1, 0, 0],\n",
       "       [0, 0, 0, 1, 0, 0],\n",
       "       [0, 0, 0, 1, 0, 0],\n",
       "       [0, 0, 0, 1, 0, 0],\n",
       "       [0, 0, 0, 1, 0, 0],\n",
       "       [0, 0, 0, 0, 1, 0],\n",
       "       [0, 0, 0, 0, 1, 0],\n",
       "       [0, 0, 0, 0, 1, 0],\n",
       "       [0, 0, 0, 0, 1, 0],\n",
       "       [0, 0, 1, 0, 0, 0],\n",
       "       [0, 0, 1, 0, 0, 0],\n",
       "       [0, 0, 1, 0, 0, 0],\n",
       "       [0, 0, 1, 0, 0, 0],\n",
       "       [0, 0, 1, 0, 0, 0],\n",
       "       [0, 0, 1, 0, 0, 0],\n",
       "       [0, 0, 1, 0, 0, 0],\n",
       "       [0, 0, 1, 0, 0, 0],\n",
       "       [0, 0, 1, 0, 0, 0],\n",
       "       [0, 0, 1, 0, 0, 0],\n",
       "       [0, 0, 1, 0, 0, 0],\n",
       "       [0, 0, 1, 0, 0, 0],\n",
       "       [0, 0, 1, 0, 0, 0],\n",
       "       [0, 0, 1, 0, 0, 0],\n",
       "       [0, 0, 1, 0, 0, 0],\n",
       "       [0, 0, 1, 0, 0, 0],\n",
       "       [0, 0, 1, 0, 0, 0],\n",
       "       [0, 0, 0, 1, 0, 0],\n",
       "       [0, 0, 0, 1, 0, 0],\n",
       "       [0, 0, 1, 0, 0, 0],\n",
       "       [0, 0, 1, 0, 0, 0],\n",
       "       [0, 0, 1, 0, 0, 0],\n",
       "       [0, 0, 1, 0, 0, 0],\n",
       "       [0, 0, 1, 0, 0, 0],\n",
       "       [0, 0, 1, 0, 0, 0]], dtype=uint8)"
      ]
     },
     "execution_count": 55,
     "metadata": {},
     "output_type": "execute_result"
    }
   ],
   "source": [
    "Y_val\n"
   ]
  },
  {
   "cell_type": "code",
   "execution_count": 56,
   "metadata": {},
   "outputs": [],
   "source": [
    "from sklearn import preprocessing\n",
    "lb = preprocessing.LabelBinarizer()\n",
    "y_test_binarize = lb.fit_transform(Y_val)"
   ]
  },
  {
   "cell_type": "code",
   "execution_count": 57,
   "metadata": {},
   "outputs": [
    {
     "data": {
      "text/plain": [
       "array([[0, 0, 0, 0, 0, 1],\n",
       "       [1, 0, 0, 0, 0, 0],\n",
       "       [1, 0, 0, 0, 0, 0],\n",
       "       [1, 0, 0, 0, 0, 0],\n",
       "       [1, 0, 0, 0, 0, 0],\n",
       "       [1, 0, 0, 0, 0, 0],\n",
       "       [0, 1, 0, 0, 0, 0],\n",
       "       [0, 1, 0, 0, 0, 0],\n",
       "       [0, 1, 0, 0, 0, 0],\n",
       "       [0, 1, 0, 0, 0, 0],\n",
       "       [0, 1, 0, 0, 0, 0],\n",
       "       [0, 1, 0, 0, 0, 0],\n",
       "       [0, 0, 0, 0, 1, 0],\n",
       "       [0, 0, 0, 0, 1, 0],\n",
       "       [0, 0, 0, 0, 1, 0],\n",
       "       [0, 0, 0, 0, 1, 0],\n",
       "       [0, 0, 0, 0, 1, 0],\n",
       "       [0, 0, 0, 0, 1, 0],\n",
       "       [0, 0, 0, 0, 1, 0],\n",
       "       [0, 0, 0, 0, 1, 0],\n",
       "       [0, 0, 0, 0, 1, 0],\n",
       "       [0, 0, 0, 0, 1, 0],\n",
       "       [0, 0, 0, 0, 1, 0],\n",
       "       [0, 0, 0, 0, 1, 0],\n",
       "       [0, 0, 0, 0, 1, 0],\n",
       "       [0, 0, 0, 0, 1, 0],\n",
       "       [0, 0, 0, 0, 1, 0],\n",
       "       [0, 0, 0, 0, 1, 0],\n",
       "       [0, 0, 0, 0, 1, 0],\n",
       "       [0, 0, 0, 0, 1, 0],\n",
       "       [0, 0, 0, 0, 1, 0],\n",
       "       [0, 0, 0, 0, 1, 0],\n",
       "       [0, 0, 0, 0, 1, 0],\n",
       "       [0, 0, 0, 0, 1, 0],\n",
       "       [0, 0, 0, 0, 1, 0],\n",
       "       [0, 0, 0, 0, 1, 0],\n",
       "       [0, 0, 0, 0, 1, 0],\n",
       "       [0, 0, 0, 0, 1, 0],\n",
       "       [0, 0, 0, 1, 0, 0],\n",
       "       [0, 0, 0, 1, 0, 0],\n",
       "       [0, 0, 0, 1, 0, 0],\n",
       "       [0, 0, 0, 1, 0, 0],\n",
       "       [0, 0, 0, 1, 0, 0],\n",
       "       [0, 0, 0, 1, 0, 0],\n",
       "       [0, 0, 0, 1, 0, 0],\n",
       "       [0, 0, 0, 1, 0, 0],\n",
       "       [0, 0, 0, 1, 0, 0],\n",
       "       [0, 0, 0, 1, 0, 0],\n",
       "       [0, 0, 0, 1, 0, 0],\n",
       "       [0, 0, 0, 1, 0, 0],\n",
       "       [0, 0, 0, 1, 0, 0],\n",
       "       [0, 0, 0, 1, 0, 0],\n",
       "       [0, 0, 0, 1, 0, 0],\n",
       "       [0, 0, 0, 1, 0, 0],\n",
       "       [0, 0, 0, 1, 0, 0],\n",
       "       [0, 0, 0, 1, 0, 0],\n",
       "       [0, 0, 0, 1, 0, 0],\n",
       "       [0, 0, 0, 1, 0, 0],\n",
       "       [0, 0, 0, 1, 0, 0],\n",
       "       [0, 0, 0, 1, 0, 0],\n",
       "       [0, 0, 0, 1, 0, 0],\n",
       "       [0, 0, 0, 1, 0, 0],\n",
       "       [0, 0, 0, 1, 0, 0],\n",
       "       [0, 0, 0, 1, 0, 0],\n",
       "       [0, 0, 0, 1, 0, 0],\n",
       "       [0, 0, 0, 1, 0, 0],\n",
       "       [0, 0, 0, 1, 0, 0],\n",
       "       [0, 0, 0, 1, 0, 0],\n",
       "       [0, 0, 0, 1, 0, 0],\n",
       "       [0, 0, 0, 1, 0, 0],\n",
       "       [0, 0, 0, 0, 1, 0],\n",
       "       [0, 0, 0, 0, 1, 0],\n",
       "       [0, 0, 0, 0, 1, 0],\n",
       "       [0, 0, 0, 0, 1, 0],\n",
       "       [0, 0, 1, 0, 0, 0],\n",
       "       [0, 0, 1, 0, 0, 0],\n",
       "       [0, 0, 1, 0, 0, 0],\n",
       "       [0, 0, 1, 0, 0, 0],\n",
       "       [0, 0, 1, 0, 0, 0],\n",
       "       [0, 0, 1, 0, 0, 0],\n",
       "       [0, 0, 1, 0, 0, 0],\n",
       "       [0, 0, 1, 0, 0, 0],\n",
       "       [0, 0, 1, 0, 0, 0],\n",
       "       [0, 0, 1, 0, 0, 0],\n",
       "       [0, 0, 1, 0, 0, 0],\n",
       "       [0, 0, 1, 0, 0, 0],\n",
       "       [0, 0, 1, 0, 0, 0],\n",
       "       [0, 0, 1, 0, 0, 0],\n",
       "       [0, 0, 1, 0, 0, 0],\n",
       "       [0, 0, 1, 0, 0, 0],\n",
       "       [0, 0, 1, 0, 0, 0],\n",
       "       [0, 0, 0, 1, 0, 0],\n",
       "       [0, 0, 0, 1, 0, 0],\n",
       "       [0, 0, 1, 0, 0, 0],\n",
       "       [0, 0, 1, 0, 0, 0],\n",
       "       [0, 0, 1, 0, 0, 0],\n",
       "       [0, 0, 1, 0, 0, 0],\n",
       "       [0, 0, 1, 0, 0, 0],\n",
       "       [0, 0, 1, 0, 0, 0]])"
      ]
     },
     "execution_count": 57,
     "metadata": {},
     "output_type": "execute_result"
    }
   ],
   "source": [
    "y_test_normal = lb.inverse_transform(Y_val)\n",
    "y_test_normal"
   ]
  },
  {
   "cell_type": "code",
   "execution_count": 58,
   "metadata": {},
   "outputs": [],
   "source": [
    "from sklearn.metrics import confusion_matrix, classification_report"
   ]
  },
  {
   "cell_type": "code",
   "execution_count": 59,
   "metadata": {},
   "outputs": [
    {
     "name": "stdout",
     "output_type": "stream",
     "text": [
      "              precision    recall  f1-score   support\n",
      "\n",
      "           0       0.42      1.00      0.59         5\n",
      "           1       0.00      0.00      0.00         6\n",
      "           2       0.96      1.00      0.98        23\n",
      "           3       1.00      0.85      0.92        34\n",
      "           4       0.88      1.00      0.94        30\n",
      "           5       0.00      0.00      0.00         1\n",
      "\n",
      "    accuracy                           0.88        99\n",
      "   macro avg       0.54      0.64      0.57        99\n",
      "weighted avg       0.85      0.88      0.86        99\n",
      "\n"
     ]
    },
    {
     "name": "stderr",
     "output_type": "stream",
     "text": [
      "C:\\Users\\Eleni Kakagianni\\anaconda3\\lib\\site-packages\\sklearn\\metrics\\_classification.py:1272: UndefinedMetricWarning: Precision and F-score are ill-defined and being set to 0.0 in labels with no predicted samples. Use `zero_division` parameter to control this behavior.\n",
      "  _warn_prf(average, modifier, msg_start, len(result))\n"
     ]
    }
   ],
   "source": [
    "print(classification_report(y_true=np.argmax(y_test_normal,axis = 1),\n",
    "                            y_pred=y_pred_class))"
   ]
  },
  {
   "cell_type": "code",
   "execution_count": 60,
   "metadata": {},
   "outputs": [],
   "source": [
    "def print_confusion_matrix(y_true,\n",
    "                           y_pred,\n",
    "                           class_names: List[str],\n",
    "                           figsize: Tuple[int, int] = (10, 7),\n",
    "                           fontsize: int = 14) -> pd.DataFrame:\n",
    "    \"\"\"\n",
    "    Prints a confusion matrix, as returned by sklearn.metrics.confusion_matrix, as a heat-map.\n",
    "\n",
    "    For something more extraordinary check this repo:\n",
    "    https://github.com/wcipriano/pretty-print-confusion-matrix\n",
    "\n",
    "\n",
    "    :param class_names:  An ordered list of class names\n",
    "    :param figsize: A 2-long tuple, the first value determining the horizontal size of the outputted\n",
    "                    figure, the second determining the vertical size. Defaults to (10,7).\n",
    "    :param fontsize: Font size for axes labels. Defaults to 14.\n",
    "    :return: The confusion matrix as a dataset\n",
    "    \"\"\"\n",
    "    conf_matrix = confusion_matrix(y_true=y_true, y_pred=y_pred)\n",
    "\n",
    "    df_cm = pd.DataFrame(conf_matrix, index=class_names, columns=class_names)\n",
    "\n",
    "    fig = plt.figure(figsize=figsize)\n",
    "\n",
    "    try:\n",
    "        heatmap = sns.heatmap(df_cm, annot=True, fmt=\"d\")\n",
    "\n",
    "    except ValueError:\n",
    "\n",
    "        raise ValueError(\"Confusion matrix values must be integers.\")\n",
    "\n",
    "    heatmap.yaxis.set_ticklabels(heatmap.yaxis.get_ticklabels(),\n",
    "                                 rotation=0,\n",
    "                                 ha='right',\n",
    "                                 fontsize=fontsize)\n",
    "\n",
    "    heatmap.xaxis.set_ticklabels(heatmap.xaxis.get_ticklabels(),\n",
    "                                 rotation=45,\n",
    "                                 ha='right',\n",
    "                                 fontsize=fontsize)\n",
    "\n",
    "    plt.ylabel('True label')\n",
    "    plt.xlabel('Predicted label')\n",
    "    plt.show()\n",
    "\n",
    "    return df_cm"
   ]
  },
  {
   "cell_type": "code",
   "execution_count": 61,
   "metadata": {},
   "outputs": [
    {
     "data": {
      "image/png": "[encoded data removed]",
      "text/plain": [
       "<Figure size 720x504 with 2 Axes>"
      ]
     },
     "metadata": {
      "needs_background": "light"
     },
     "output_type": "display_data"
    },
    {
     "data": {
      "text/html": [
       "<div>\n",
       "<style scoped>\n",
       "    .dataframe tbody tr th:only-of-type {\n",
       "        vertical-align: middle;\n",
       "    }\n",
       "\n",
       "    .dataframe tbody tr th {\n",
       "        vertical-align: top;\n",
       "    }\n",
       "\n",
       "    .dataframe thead th {\n",
       "        text-align: right;\n",
       "    }\n",
       "</style>\n",
       "<table border=\"1\" class=\"dataframe\">\n",
       "  <thead>\n",
       "    <tr style=\"text-align: right;\">\n",
       "      <th></th>\n",
       "      <th>SDG10</th>\n",
       "      <th>SDG12</th>\n",
       "      <th>SDG13</th>\n",
       "      <th>SDG3</th>\n",
       "      <th>SDG5</th>\n",
       "      <th>SDG7</th>\n",
       "    </tr>\n",
       "  </thead>\n",
       "  <tbody>\n",
       "    <tr>\n",
       "      <th>SDG10</th>\n",
       "      <td>5</td>\n",
       "      <td>0</td>\n",
       "      <td>0</td>\n",
       "      <td>0</td>\n",
       "      <td>0</td>\n",
       "      <td>0</td>\n",
       "    </tr>\n",
       "    <tr>\n",
       "      <th>SDG12</th>\n",
       "      <td>6</td>\n",
       "      <td>0</td>\n",
       "      <td>0</td>\n",
       "      <td>0</td>\n",
       "      <td>0</td>\n",
       "      <td>0</td>\n",
       "    </tr>\n",
       "    <tr>\n",
       "      <th>SDG13</th>\n",
       "      <td>0</td>\n",
       "      <td>0</td>\n",
       "      <td>23</td>\n",
       "      <td>0</td>\n",
       "      <td>0</td>\n",
       "      <td>0</td>\n",
       "    </tr>\n",
       "    <tr>\n",
       "      <th>SDG3</th>\n",
       "      <td>0</td>\n",
       "      <td>0</td>\n",
       "      <td>1</td>\n",
       "      <td>29</td>\n",
       "      <td>4</td>\n",
       "      <td>0</td>\n",
       "    </tr>\n",
       "    <tr>\n",
       "      <th>SDG5</th>\n",
       "      <td>0</td>\n",
       "      <td>0</td>\n",
       "      <td>0</td>\n",
       "      <td>0</td>\n",
       "      <td>30</td>\n",
       "      <td>0</td>\n",
       "    </tr>\n",
       "    <tr>\n",
       "      <th>SDG7</th>\n",
       "      <td>1</td>\n",
       "      <td>0</td>\n",
       "      <td>0</td>\n",
       "      <td>0</td>\n",
       "      <td>0</td>\n",
       "      <td>0</td>\n",
       "    </tr>\n",
       "  </tbody>\n",
       "</table>\n",
       "</div>"
      ],
      "text/plain": [
       "       SDG10  SDG12  SDG13  SDG3  SDG5  SDG7\n",
       "SDG10      5      0      0     0     0     0\n",
       "SDG12      6      0      0     0     0     0\n",
       "SDG13      0      0     23     0     0     0\n",
       "SDG3       0      0      1    29     4     0\n",
       "SDG5       0      0      0     0    30     0\n",
       "SDG7       1      0      0     0     0     0"
      ]
     },
     "execution_count": 61,
     "metadata": {},
     "output_type": "execute_result"
    }
   ],
   "source": [
    "import seaborn as sns\n",
    "\n",
    "print_confusion_matrix(y_true=np.argmax(y_test_normal,axis = 1),\n",
    "                           y_pred=y_pred_class,\n",
    "                           class_names=['SDG10', 'SDG12', 'SDG13', 'SDG3', 'SDG5', 'SDG7'])"
   ]
  },
  {
   "cell_type": "markdown",
   "metadata": {},
   "source": [
    "Test with a new initial_text"
   ]
  },
  {
   "cell_type": "code",
   "execution_count": 62,
   "metadata": {},
   "outputs": [
    {
     "name": "stdout",
     "output_type": "stream",
     "text": [
      "SDG:  SDG13\n"
     ]
    }
   ],
   "source": [
    "new_initial_text = ['The planet is warming, from North Pole to South Pole. Since 1906, the global average surface temperature has increased by more than 1.6 degrees Fahrenheit (0.9 degrees Celsius)—even more in sensitive polar regions. And the impacts of rising temperatures aren’t waiting for some far-flung future–the effects of global warming are appearing right now. The heat is melting glaciers and sea ice, shifting precipitation patterns, and setting animals on the move.']\n",
    "seq = tokenizer.texts_to_sequences(new_initial_text)\n",
    "padded = pad_sequences(seq, maxlen=MAX_SEQUENCE_LENGTH)\n",
    "pred = model.predict(padded)\n",
    "labels = sdg_df.sdg.unique()\n",
    "#labels = sorted(set(sdg_df['sdg']), key=sdg_df['sdg'].index)\n",
    "print('SDG: ', labels[np.argmax(pred)])"
   ]
  },
  {
   "cell_type": "markdown",
   "metadata": {},
   "source": [
    "#### Save model and create model weights "
   ]
  },
  {
   "cell_type": "code",
   "execution_count": 63,
   "metadata": {},
   "outputs": [
    {
     "name": "stdout",
     "output_type": "stream",
     "text": [
      "WARNING:tensorflow:From C:\\Users\\Eleni Kakagianni\\anaconda3\\lib\\site-packages\\tensorflow\\python\\training\\tracking\\tracking.py:111: Model.state_updates (from tensorflow.python.keras.engine.training) is deprecated and will be removed in a future version.\n",
      "Instructions for updating:\n",
      "This property should not be used in TensorFlow 2.0, as updates are applied automatically.\n",
      "WARNING:tensorflow:From C:\\Users\\Eleni Kakagianni\\anaconda3\\lib\\site-packages\\tensorflow\\python\\training\\tracking\\tracking.py:111: Layer.updates (from tensorflow.python.keras.engine.base_layer) is deprecated and will be removed in a future version.\n",
      "Instructions for updating:\n",
      "This property should not be used in TensorFlow 2.0, as updates are applied automatically.\n",
      "INFO:tensorflow:Assets written to: C:\\Users\\ELENIK~1\\AppData\\Local\\Temp\\tmpqihz670u\\RNN_initial_text_model_weights\\assets\n"
     ]
    }
   ],
   "source": [
    "import os\n",
    "import tempfile\n",
    "import tensorflow as tf\n",
    "\n",
    "tmpdir = tempfile.mkdtemp()\n",
    "\n",
    "title_save_path = os.path.join(tmpdir, \"RNN_initial_text_model_weights\")\n",
    "tf.saved_model.save(model, title_save_path)"
   ]
  }
 ],
 "metadata": {
  "kernelspec": {
   "display_name": "Python 3",
   "language": "python",
   "name": "python3"
  },
  "language_info": {
   "codemirror_mode": {
    "name": "ipython",
    "version": 3
   },
   "file_extension": ".py",
   "mimetype": "text/x-python",
   "name": "python",
   "nbconvert_exporter": "python",
   "pygments_lexer": "ipython3",
   "version": "3.7.6"
  }
 },
 "nbformat": 4,
 "nbformat_minor": 4
}
