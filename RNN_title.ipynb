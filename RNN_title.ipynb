{
 "cells": [
  {
   "cell_type": "code",
   "execution_count": 1,
   "metadata": {},
   "outputs": [],
   "source": [
    "from __future__ import print_function\n",
    "\n",
    "import re\n",
    "import tarfile\n",
    "from pathlib import Path\n",
    "from time import time\n",
    "from functools import reduce\n",
    "from pprint import pprint\n",
    "from typing import List, Tuple\n",
    "from sklearn.metrics import confusion_matrix\n",
    "from sklearn.metrics import roc_curve, auc\n",
    "from sklearn.model_selection import train_test_split\n",
    "from sklearn.preprocessing import LabelBinarizer\n",
    "import numpy as np\n",
    "import pandas as pd\n",
    "from tensorflow.python.keras import layers\n",
    "from tensorflow.python.keras.layers import recurrent, Input, Embedding, RepeatVector, Dropout, Dense, LSTM\n",
    "from tensorflow.python.keras.models import Model\n",
    "from tensorflow.python.keras.preprocessing.text import Tokenizer\n",
    "from tensorflow.python.keras.preprocessing.sequence import pad_sequences\n",
    "from tensorflow.python.keras.utils.data_utils import get_file\n",
    "from tqdm import tqdm"
   ]
  },
  {
   "cell_type": "code",
   "execution_count": 2,
   "metadata": {},
   "outputs": [],
   "source": [
    "#import the already preprocessed dataset \n",
    "sdg_df  = pd.read_csv('sdg_classification_data.csv')"
   ]
  },
  {
   "cell_type": "code",
   "execution_count": 3,
   "metadata": {},
   "outputs": [],
   "source": [
    "validation_df  = pd.read_csv('validation_dataset_v2.csv')"
   ]
  },
  {
   "cell_type": "markdown",
   "metadata": {},
   "source": [
    "LSTM - Set parameters "
   ]
  },
  {
   "cell_type": "code",
   "execution_count": 4,
   "metadata": {},
   "outputs": [
    {
     "name": "stdout",
     "output_type": "stream",
     "text": [
      "Found 2705 unique tokens.\n"
     ]
    }
   ],
   "source": [
    "# Max number of words to be used\n",
    "MAX_NB_WORDS = 50000\n",
    "# Max number of words in each sdg row.\n",
    "MAX_SEQUENCE_LENGTH = 400\n",
    "# This is fixed.\n",
    "EMBEDDING_DIM = 100\n",
    "tokenizer = Tokenizer(num_words=MAX_NB_WORDS, filters='!\"#$%&()*+,-./:;<=>?@[\\]^_`{|}~', lower=True)\n",
    "tokenizer.fit_on_texts(sdg_df['extracted_title'].astype(str).values)\n",
    "word_index = tokenizer.word_index\n",
    "print('Found %s unique tokens.' % len(word_index))"
   ]
  },
  {
   "cell_type": "code",
   "execution_count": 5,
   "metadata": {},
   "outputs": [
    {
     "name": "stdout",
     "output_type": "stream",
     "text": [
      "Sequences input length: (889, 400)\n"
     ]
    }
   ],
   "source": [
    "#transform them to have the same length for modeling\n",
    "X = sdg_df['extracted_title']\n",
    "Y = sdg_df['sdg']\n",
    "X_title = tokenizer.texts_to_sequences(X.astype(str).values)\n",
    "X_title = pad_sequences(X_title, maxlen=MAX_SEQUENCE_LENGTH)\n",
    "print('Sequences input length:', X_title.shape)"
   ]
  },
  {
   "cell_type": "code",
   "execution_count": 6,
   "metadata": {},
   "outputs": [
    {
     "name": "stdout",
     "output_type": "stream",
     "text": [
      "Shape of categorical variables: (889, 6)\n"
     ]
    }
   ],
   "source": [
    "Y = pd.get_dummies(sdg_df['sdg']).values\n",
    "print('Shape of categorical variables:', Y.shape)"
   ]
  },
  {
   "cell_type": "code",
   "execution_count": 7,
   "metadata": {},
   "outputs": [
    {
     "name": "stdout",
     "output_type": "stream",
     "text": [
      "(800, 400) (800, 6)\n",
      "(89, 400) (89, 6)\n"
     ]
    }
   ],
   "source": [
    "#split our dataset\n",
    "from sklearn.model_selection import train_test_split\n",
    "\n",
    "X_title_train, X_title_test, Y_train, Y_test = train_test_split(X_title,Y, test_size = 0.10, random_state = 42)\n",
    "print(X_title_train.shape,Y_train.shape)\n",
    "print(X_title_test.shape,Y_test.shape)"
   ]
  },
  {
   "cell_type": "code",
   "execution_count": 8,
   "metadata": {},
   "outputs": [
    {
     "name": "stdout",
     "output_type": "stream",
     "text": [
      "Model: \"sequential\"\n",
      "_________________________________________________________________\n",
      "Layer (type)                 Output Shape              Param #   \n",
      "=================================================================\n",
      "embedding (Embedding)        (None, 400, 100)          5000000   \n",
      "_________________________________________________________________\n",
      "lstm (LSTM)                  (None, 100)               80400     \n",
      "_________________________________________________________________\n",
      "dense (Dense)                (None, 6)                 606       \n",
      "=================================================================\n",
      "Total params: 5,081,006\n",
      "Trainable params: 5,081,006\n",
      "Non-trainable params: 0\n",
      "_________________________________________________________________\n"
     ]
    }
   ],
   "source": [
    "import keras\n",
    "from keras.models import Sequential\n",
    "from keras.layers import SpatialDropout1D \n",
    "from tensorflow.python.keras.callbacks import EarlyStopping\n",
    "\n",
    "model = Sequential()\n",
    "model.add(Embedding(MAX_NB_WORDS, EMBEDDING_DIM, input_length=X_title.shape[1]))\n",
    "model.add(LSTM(100, dropout=0.2, recurrent_dropout=0.2))\n",
    "model.add(Dense(6, activation='softmax'))\n",
    "\n",
    "model.compile(\n",
    "    loss='categorical_crossentropy', \n",
    "    optimizer='adam', \n",
    "    metrics=['accuracy'])\n",
    "\n",
    "model.summary()\n",
    "epochs = 5\n",
    "batch_size = 64\n"
   ]
  },
  {
   "cell_type": "code",
   "execution_count": 9,
   "metadata": {},
   "outputs": [
    {
     "name": "stdout",
     "output_type": "stream",
     "text": [
      "Epoch 1/5\n",
      "13/13 [==============================] - 29s 2s/step - loss: 1.7032 - accuracy: 0.3700 - val_loss: 1.5031 - val_accuracy: 0.2809\n",
      "Epoch 2/5\n",
      "13/13 [==============================] - 30s 2s/step - loss: 1.4962 - accuracy: 0.3575 - val_loss: 1.4159 - val_accuracy: 0.5393\n",
      "Epoch 3/5\n",
      "13/13 [==============================] - 30s 2s/step - loss: 1.3771 - accuracy: 0.6325 - val_loss: 1.2600 - val_accuracy: 0.7865\n",
      "Epoch 4/5\n",
      "13/13 [==============================] - 29s 2s/step - loss: 1.0805 - accuracy: 0.7538 - val_loss: 0.8909 - val_accuracy: 0.7978\n",
      "Epoch 5/5\n",
      "13/13 [==============================] - 31s 2s/step - loss: 0.8651 - accuracy: 0.7487 - val_loss: 0.9160 - val_accuracy: 0.7753\n"
     ]
    }
   ],
   "source": [
    "\n",
    "model_train = model.fit(X_title_train, Y_train,\n",
    "                    epochs=epochs,\n",
    "                    batch_size=batch_size,\n",
    "                    validation_data=(X_title_test,Y_test),\n",
    "                    callbacks=[EarlyStopping(monitor='val_loss', patience=3, min_delta=0.0001)])"
   ]
  },
  {
   "cell_type": "code",
   "execution_count": 10,
   "metadata": {},
   "outputs": [
    {
     "name": "stdout",
     "output_type": "stream",
     "text": [
      "Sequences input length: (99, 400)\n"
     ]
    }
   ],
   "source": [
    "X_val=validation_df['extracted_title']\n",
    "Y_val=validation_df['sdg']\n",
    "X_val_title = tokenizer.texts_to_sequences(X_val.astype(str).values)\n",
    "X_val_title = pad_sequences(X_val_title, maxlen=MAX_SEQUENCE_LENGTH)\n",
    "print('Sequences input length:', X_val_title.shape)"
   ]
  },
  {
   "cell_type": "code",
   "execution_count": 11,
   "metadata": {},
   "outputs": [
    {
     "name": "stdout",
     "output_type": "stream",
     "text": [
      "Shape of categorical variables: (99, 6)\n"
     ]
    }
   ],
   "source": [
    "Y_val = pd.get_dummies(Y_val).values\n",
    "print('Shape of categorical variables:', Y_val.shape)"
   ]
  },
  {
   "cell_type": "code",
   "execution_count": 12,
   "metadata": {},
   "outputs": [
    {
     "name": "stdout",
     "output_type": "stream",
     "text": [
      "2/2 [==============================] - 0s 51ms/step - loss: 0.7750 - accuracy: 0.7980\n"
     ]
    }
   ],
   "source": [
    "#Model Evaluation on the Test Set-blind\n",
    "test_eval = model.evaluate(\n",
    "    X_val_title,             # features\n",
    "    Y_val,                   # labels\n",
    "    batch_size=64,           # batch size\n",
    "    verbose=1                # the most extended verbose\n",
    ")\n"
   ]
  },
  {
   "cell_type": "code",
   "execution_count": 13,
   "metadata": {},
   "outputs": [
    {
     "name": "stdout",
     "output_type": "stream",
     "text": [
      "Test loss: 0.7750166058540344\n",
      "Test accuracy: 0.7979797720909119\n"
     ]
    }
   ],
   "source": [
    "print('Test loss:', test_eval[0])\n",
    "print('Test accuracy:', test_eval[1])"
   ]
  },
  {
   "cell_type": "code",
   "execution_count": 14,
   "metadata": {},
   "outputs": [],
   "source": [
    "import matplotlib.pyplot as plt"
   ]
  },
  {
   "cell_type": "code",
   "execution_count": 15,
   "metadata": {},
   "outputs": [
    {
     "data": {
      "image/png": "[encoded data removed]",
      "text/plain": [
       "<Figure size 432x288 with 1 Axes>"
      ]
     },
     "metadata": {
      "needs_background": "light"
     },
     "output_type": "display_data"
    },
    {
     "data": {
      "image/png": "[encoded data removed]",
      "text/plain": [
       "<Figure size 432x288 with 1 Axes>"
      ]
     },
     "metadata": {
      "needs_background": "light"
     },
     "output_type": "display_data"
    }
   ],
   "source": [
    "#Let's put your model evaluation into perspective and plot the accuracy and loss plots between training and validation data:\n",
    "\n",
    "accuracy = model_train.history['accuracy']\n",
    "val_accuracy = model_train.history['val_accuracy']\n",
    "loss =model_train.history['loss']\n",
    "val_loss = model_train.history['val_loss']\n",
    "epochs = range(len(accuracy))\n",
    "plt.plot(epochs, accuracy, 'bo', label='Training accuracy')\n",
    "plt.plot(epochs, val_accuracy, 'b', label='Validation accuracy')\n",
    "plt.title('Training and validation accuracy')\n",
    "plt.legend()\n",
    "plt.figure()\n",
    "plt.plot(epochs, loss, 'bo', label='Training loss')\n",
    "plt.plot(epochs, val_loss, 'b', label='Validation loss')\n",
    "plt.title('Training and validation loss')\n",
    "plt.legend()\n",
    "plt.show()"
   ]
  },
  {
   "cell_type": "code",
   "execution_count": 16,
   "metadata": {
    "scrolled": true
   },
   "outputs": [
    {
     "name": "stdout",
     "output_type": "stream",
     "text": [
      "Model: \"sequential_1\"\n",
      "_________________________________________________________________\n",
      "Layer (type)                 Output Shape              Param #   \n",
      "=================================================================\n",
      "embedding_1 (Embedding)      (None, 400, 100)          5000000   \n",
      "_________________________________________________________________\n",
      "spatial_dropout1d (SpatialDr (None, 400, 100)          0         \n",
      "_________________________________________________________________\n",
      "lstm_1 (LSTM)                (None, 100)               80400     \n",
      "_________________________________________________________________\n",
      "dense_1 (Dense)              (None, 6)                 606       \n",
      "=================================================================\n",
      "Total params: 5,081,006\n",
      "Trainable params: 5,081,006\n",
      "Non-trainable params: 0\n",
      "_________________________________________________________________\n"
     ]
    }
   ],
   "source": [
    "import keras\n",
    "from keras.models import Sequential\n",
    "from keras.layers import SpatialDropout1D \n",
    "from tensorflow.python.keras.callbacks import EarlyStopping\n",
    "\n",
    "model_dropout = Sequential()\n",
    "model_dropout.add(Embedding(MAX_NB_WORDS, EMBEDDING_DIM, input_length=X_title.shape[1]))\n",
    "model_dropout.add(SpatialDropout1D(0.2))\n",
    "model_dropout.add(LSTM(100, dropout=0.2, recurrent_dropout=0.2))\n",
    "model_dropout.add(Dense(6, activation='softmax'))\n",
    "model_dropout.compile(loss='categorical_crossentropy', optimizer='adam', metrics=['accuracy'])\n",
    "model_dropout.summary()\n",
    "epochs = 5\n",
    "batch_size = 64"
   ]
  },
  {
   "cell_type": "code",
   "execution_count": 21,
   "metadata": {},
   "outputs": [
    {
     "name": "stdout",
     "output_type": "stream",
     "text": [
      "('Failed to import pydot. You must `pip install pydot` and install graphviz (https://graphviz.gitlab.io/download/), ', 'for `pydotprint` to work.')\n"
     ]
    }
   ],
   "source": [
    "from tensorflow.keras.utils import plot_model\n",
    "\n",
    "plot_model(model_dropout,\n",
    "           to_file='model_plot_dropout_rnn.png',\n",
    "           show_shapes=True,\n",
    "           show_layer_names=True)"
   ]
  },
  {
   "cell_type": "code",
   "execution_count": 17,
   "metadata": {},
   "outputs": [
    {
     "name": "stdout",
     "output_type": "stream",
     "text": [
      "Epoch 1/5\n",
      "13/13 [==============================] - 31s 2s/step - loss: 1.6926 - accuracy: 0.2837 - val_loss: 1.4975 - val_accuracy: 0.4831\n",
      "Epoch 2/5\n",
      "13/13 [==============================] - 31s 2s/step - loss: 1.5272 - accuracy: 0.4137 - val_loss: 1.4317 - val_accuracy: 0.5730\n",
      "Epoch 3/5\n",
      "13/13 [==============================] - 32s 2s/step - loss: 1.4336 - accuracy: 0.5763 - val_loss: 1.3687 - val_accuracy: 0.5618\n",
      "Epoch 4/5\n",
      "13/13 [==============================] - 32s 2s/step - loss: 1.2443 - accuracy: 0.7300 - val_loss: 1.1041 - val_accuracy: 0.7528\n",
      "Epoch 5/5\n",
      "13/13 [==============================] - 33s 3s/step - loss: 0.8565 - accuracy: 0.7887 - val_loss: 0.8357 - val_accuracy: 0.7865\n"
     ]
    }
   ],
   "source": [
    "\n",
    "model_dropout_train = model_dropout.fit(X_title_train, Y_train,\n",
    "                    epochs=epochs,\n",
    "                    batch_size=batch_size,\n",
    "                    validation_data=(X_title_test,Y_test),\n",
    "                    callbacks=[EarlyStopping(monitor='val_loss', patience=3, min_delta=0.0001)])"
   ]
  },
  {
   "cell_type": "code",
   "execution_count": 18,
   "metadata": {},
   "outputs": [
    {
     "name": "stdout",
     "output_type": "stream",
     "text": [
      "2/2 [==============================] - 0s 58ms/step - loss: 0.6927 - accuracy: 0.8283\n"
     ]
    }
   ],
   "source": [
    "#Model Evaluation on the Test Set\n",
    "test_eval_dropout = model_dropout.evaluate(\n",
    "    X_val_title,             # features\n",
    "    Y_val,                   # labels\n",
    "    batch_size=64,           # batch size\n",
    "    verbose=1                # the most extended verbose\n",
    ")\n"
   ]
  },
  {
   "cell_type": "code",
   "execution_count": 19,
   "metadata": {},
   "outputs": [
    {
     "name": "stdout",
     "output_type": "stream",
     "text": [
      "Test loss: 0.6926595568656921\n",
      "Test accuracy: 0.8282828330993652\n"
     ]
    }
   ],
   "source": [
    "print('Test loss:', test_eval_dropout[0])\n",
    "print('Test accuracy:', test_eval_dropout[1])"
   ]
  },
  {
   "cell_type": "code",
   "execution_count": 20,
   "metadata": {
    "scrolled": true
   },
   "outputs": [
    {
     "data": {
      "image/png": "[encoded data removed]",
      "text/plain": [
       "<Figure size 432x288 with 1 Axes>"
      ]
     },
     "metadata": {
      "needs_background": "light"
     },
     "output_type": "display_data"
    },
    {
     "data": {
      "image/png": "[encoded data removed]",
      "text/plain": [
       "<Figure size 432x288 with 1 Axes>"
      ]
     },
     "metadata": {
      "needs_background": "light"
     },
     "output_type": "display_data"
    }
   ],
   "source": [
    "#Let's put your model evaluation into perspective and plot the accuracy and loss plots between training and validation data:\n",
    "\n",
    "accuracy = model_dropout_train.history['accuracy']\n",
    "val_accuracy = model_dropout_train.history['val_accuracy']\n",
    "loss =model_dropout_train.history['loss']\n",
    "val_loss = model_dropout_train.history['val_loss']\n",
    "epochs = range(len(accuracy))\n",
    "plt.plot(epochs, accuracy, 'bo', label='Training accuracy')\n",
    "plt.plot(epochs, val_accuracy, 'b', label='Validation accuracy')\n",
    "plt.title('Training and validation accuracy')\n",
    "plt.legend()\n",
    "plt.figure()\n",
    "plt.plot(epochs, loss, 'bo', label='Training loss')\n",
    "plt.plot(epochs, val_loss, 'b', label='Validation loss')\n",
    "plt.title('Training and validation loss')\n",
    "plt.legend()\n",
    "plt.show()"
   ]
  },
  {
   "cell_type": "code",
   "execution_count": 22,
   "metadata": {},
   "outputs": [
    {
     "data": {
      "text/plain": [
       "array([[0.18360083, 0.16479596, 0.18674552, 0.15882605, 0.11170783,\n",
       "        0.19432382],\n",
       "       [0.15614389, 0.11472833, 0.29525682, 0.16521287, 0.14074898,\n",
       "        0.1279091 ],\n",
       "       [0.14270817, 0.11760504, 0.3193906 , 0.17543237, 0.11891951,\n",
       "        0.12594429],\n",
       "       [0.12300362, 0.08744279, 0.5273985 , 0.07670666, 0.08484612,\n",
       "        0.10060231],\n",
       "       [0.20864393, 0.16495137, 0.2237512 , 0.11677104, 0.09696292,\n",
       "        0.18891956],\n",
       "       [0.11101089, 0.07752594, 0.47403505, 0.11997787, 0.12935221,\n",
       "        0.08809801],\n",
       "       [0.1336784 , 0.15643501, 0.16781802, 0.2727865 , 0.13260306,\n",
       "        0.13667895],\n",
       "       [0.14589965, 0.1274244 , 0.22679178, 0.20545912, 0.16606075,\n",
       "        0.12836431],\n",
       "       [0.1238892 , 0.12737319, 0.3471823 , 0.19359156, 0.09473399,\n",
       "        0.11322964],\n",
       "       [0.14707424, 0.13948339, 0.2915634 , 0.17259109, 0.11223667,\n",
       "        0.13705121],\n",
       "       [0.06871568, 0.06128315, 0.570524  , 0.13772357, 0.10611045,\n",
       "        0.05564314],\n",
       "       [0.14933638, 0.1900803 , 0.15255526, 0.26900846, 0.09038111,\n",
       "        0.1486385 ],\n",
       "       [0.04636928, 0.02825468, 0.15424152, 0.11762705, 0.6184664 ,\n",
       "        0.03504111],\n",
       "       [0.05419832, 0.05171221, 0.16290689, 0.30573654, 0.37687606,\n",
       "        0.04856997],\n",
       "       [0.04206959, 0.0245668 , 0.27403283, 0.09435841, 0.5331543 ,\n",
       "        0.03181798],\n",
       "       [0.04780418, 0.03564213, 0.0789449 , 0.24169922, 0.55819345,\n",
       "        0.03771605],\n",
       "       [0.05098546, 0.02843738, 0.11346416, 0.10854919, 0.65939957,\n",
       "        0.03916434],\n",
       "       [0.05470316, 0.03068046, 0.10610546, 0.10283838, 0.66345674,\n",
       "        0.04221586],\n",
       "       [0.06886464, 0.04721552, 0.1671802 , 0.21680345, 0.4471642 ,\n",
       "        0.05277216],\n",
       "       [0.04775558, 0.0253027 , 0.23496702, 0.08537501, 0.57061476,\n",
       "        0.03598499],\n",
       "       [0.06482522, 0.03657216, 0.26006573, 0.09754493, 0.4921762 ,\n",
       "        0.04881576],\n",
       "       [0.04105392, 0.02251766, 0.19586892, 0.07979741, 0.62974054,\n",
       "        0.03102153],\n",
       "       [0.05196609, 0.03243679, 0.5163166 , 0.09422921, 0.2668777 ,\n",
       "        0.03817364],\n",
       "       [0.0557718 , 0.02953599, 0.44845432, 0.07919351, 0.3452583 ,\n",
       "        0.04178607],\n",
       "       [0.08159442, 0.04595523, 0.21920471, 0.11178611, 0.4817468 ,\n",
       "        0.05971274],\n",
       "       [0.03622064, 0.01748434, 0.06907186, 0.09257032, 0.7589521 ,\n",
       "        0.02570069],\n",
       "       [0.03540932, 0.01778512, 0.06452341, 0.08104896, 0.7754797 ,\n",
       "        0.02575354],\n",
       "       [0.03082863, 0.01271192, 0.106434  , 0.04289148, 0.78525144,\n",
       "        0.02188254],\n",
       "       [0.0350158 , 0.01766571, 0.0928388 , 0.07037513, 0.7572984 ,\n",
       "        0.0268061 ],\n",
       "       [0.05122821, 0.02979601, 0.10366531, 0.12198418, 0.65504956,\n",
       "        0.03827674],\n",
       "       [0.05789361, 0.06616081, 0.13984369, 0.44647357, 0.23672244,\n",
       "        0.05290579],\n",
       "       [0.02064683, 0.0083699 , 0.03908323, 0.03663648, 0.8814505 ,\n",
       "        0.01381313],\n",
       "       [0.02912067, 0.0132477 , 0.04282196, 0.05907816, 0.8346022 ,\n",
       "        0.02112943],\n",
       "       [0.01428386, 0.00482611, 0.01823257, 0.02272109, 0.93077695,\n",
       "        0.00915938],\n",
       "       [0.04906164, 0.02942015, 0.68440056, 0.06062841, 0.14107376,\n",
       "        0.03541543],\n",
       "       [0.03635241, 0.0159322 , 0.10513724, 0.05616435, 0.7603017 ,\n",
       "        0.02611209],\n",
       "       [0.03408747, 0.01911006, 0.10058478, 0.10136331, 0.7187063 ,\n",
       "        0.02614801],\n",
       "       [0.04401316, 0.0236538 , 0.08658981, 0.10595942, 0.7069809 ,\n",
       "        0.03280297],\n",
       "       [0.02645566, 0.04233637, 0.034921  , 0.7710358 , 0.09940901,\n",
       "        0.02584218],\n",
       "       [0.05946735, 0.07594715, 0.17607681, 0.47948724, 0.14995284,\n",
       "        0.05906867],\n",
       "       [0.04109343, 0.05999752, 0.08347594, 0.6533    , 0.12376194,\n",
       "        0.03837112],\n",
       "       [0.02050968, 0.04025974, 0.02503487, 0.8475129 , 0.04522074,\n",
       "        0.02146208],\n",
       "       [0.03738324, 0.05930659, 0.07319824, 0.6796382 , 0.11326371,\n",
       "        0.03720999],\n",
       "       [0.04684152, 0.06191381, 0.14992943, 0.5522281 , 0.1458959 ,\n",
       "        0.04319117],\n",
       "       [0.035656  , 0.05902743, 0.05241999, 0.7423999 , 0.07556598,\n",
       "        0.03493074],\n",
       "       [0.03587724, 0.05952078, 0.10053757, 0.6639558 , 0.10319589,\n",
       "        0.03691283],\n",
       "       [0.03251595, 0.04992866, 0.03671242, 0.7497944 , 0.09963938,\n",
       "        0.03140915],\n",
       "       [0.03848873, 0.06151477, 0.07073486, 0.7131154 , 0.07781769,\n",
       "        0.03832857],\n",
       "       [0.04446461, 0.0693582 , 0.15751725, 0.58545953, 0.10097133,\n",
       "        0.04222914],\n",
       "       [0.02349044, 0.0346913 , 0.03216591, 0.7549299 , 0.13214695,\n",
       "        0.02257553],\n",
       "       [0.07290473, 0.06728082, 0.2457058 , 0.2962892 , 0.2558027 ,\n",
       "        0.0620168 ],\n",
       "       [0.06517432, 0.07946542, 0.15067422, 0.47061458, 0.17359662,\n",
       "        0.06047491],\n",
       "       [0.06361751, 0.07567986, 0.14355992, 0.5107911 , 0.15116249,\n",
       "        0.055189  ],\n",
       "       [0.03290428, 0.05151426, 0.0574463 , 0.73291147, 0.09348837,\n",
       "        0.03173524],\n",
       "       [0.03707575, 0.05264479, 0.06269243, 0.6759667 , 0.13706744,\n",
       "        0.03455286],\n",
       "       [0.0481602 , 0.05850114, 0.12631923, 0.5340777 , 0.19004779,\n",
       "        0.04289397],\n",
       "       [0.04863623, 0.05236674, 0.20392995, 0.40546355, 0.24980068,\n",
       "        0.03980282],\n",
       "       [0.02531639, 0.0413555 , 0.03089464, 0.8214637 , 0.05651837,\n",
       "        0.02445146],\n",
       "       [0.03625007, 0.05243537, 0.04412164, 0.75970846, 0.07330302,\n",
       "        0.03418146],\n",
       "       [0.04415628, 0.06442378, 0.0877444 , 0.6662938 , 0.09614031,\n",
       "        0.04124142],\n",
       "       [0.03386806, 0.05258699, 0.06377929, 0.74674624, 0.07115047,\n",
       "        0.03186901],\n",
       "       [0.04028105, 0.05319398, 0.04499031, 0.6869238 , 0.13791305,\n",
       "        0.0366977 ],\n",
       "       [0.07288703, 0.09664527, 0.22449818, 0.4427864 , 0.09568735,\n",
       "        0.06749579],\n",
       "       [0.04750825, 0.07278536, 0.08303111, 0.66259897, 0.08674314,\n",
       "        0.04733324],\n",
       "       [0.04743745, 0.04391634, 0.530463  , 0.18372135, 0.1565489 ,\n",
       "        0.03791303],\n",
       "       [0.05038581, 0.07164242, 0.06688327, 0.6488587 , 0.11223494,\n",
       "        0.04999489],\n",
       "       [0.04792019, 0.06209204, 0.14971077, 0.5322832 , 0.16516884,\n",
       "        0.04282492],\n",
       "       [0.02494793, 0.0471241 , 0.05048007, 0.79122305, 0.06142271,\n",
       "        0.02480213],\n",
       "       [0.02493621, 0.03489883, 0.02802106, 0.78341186, 0.10551514,\n",
       "        0.02321689],\n",
       "       [0.05427271, 0.07754669, 0.17388478, 0.5780669 , 0.06699601,\n",
       "        0.04923297],\n",
       "       [0.04482006, 0.0240785 , 0.09826441, 0.11952622, 0.6810835 ,\n",
       "        0.03222725],\n",
       "       [0.03903421, 0.01987638, 0.13791792, 0.07808131, 0.69665146,\n",
       "        0.02843876],\n",
       "       [0.03166981, 0.04825436, 0.04945334, 0.71860796, 0.12198996,\n",
       "        0.03002463],\n",
       "       [0.03789368, 0.02002386, 0.11619349, 0.09164178, 0.7066836 ,\n",
       "        0.02756366],\n",
       "       [0.04424987, 0.03260769, 0.8085453 , 0.03752652, 0.04205718,\n",
       "        0.03501355],\n",
       "       [0.04333593, 0.03073676, 0.7993656 , 0.04444895, 0.05000111,\n",
       "        0.03211162],\n",
       "       [0.0315729 , 0.01948077, 0.85072577, 0.02893857, 0.0479454 ,\n",
       "        0.02133661],\n",
       "       [0.08064543, 0.05845463, 0.62667465, 0.06117774, 0.10216567,\n",
       "        0.07088193],\n",
       "       [0.09982844, 0.08300379, 0.5125532 , 0.12433324, 0.0983487 ,\n",
       "        0.08193264],\n",
       "       [0.03173067, 0.01997933, 0.8478359 , 0.03290935, 0.04568986,\n",
       "        0.02185487],\n",
       "       [0.04660748, 0.03082831, 0.7631784 , 0.05316806, 0.07239972,\n",
       "        0.03381802],\n",
       "       [0.03837841, 0.02343201, 0.8252145 , 0.03578722, 0.04954059,\n",
       "        0.0276473 ],\n",
       "       [0.04405099, 0.03048752, 0.7587009 , 0.05914399, 0.07538617,\n",
       "        0.0322304 ],\n",
       "       [0.10181772, 0.08775306, 0.5201643 , 0.10097239, 0.09820805,\n",
       "        0.09108447],\n",
       "       [0.028123  , 0.01875908, 0.8822712 , 0.02345408, 0.02718146,\n",
       "        0.0202113 ],\n",
       "       [0.0369448 , 0.02271329, 0.80247396, 0.03956984, 0.07245592,\n",
       "        0.0258421 ],\n",
       "       [0.08293833, 0.0602207 , 0.542053  , 0.10877295, 0.13942908,\n",
       "        0.06658601],\n",
       "       [0.07462931, 0.05728706, 0.63948435, 0.08041378, 0.08684459,\n",
       "        0.06134098],\n",
       "       [0.09829784, 0.08150079, 0.51220685, 0.10305753, 0.11662264,\n",
       "        0.08831433],\n",
       "       [0.06140317, 0.0496136 , 0.6462867 , 0.09990371, 0.09110433,\n",
       "        0.05168846],\n",
       "       [0.06051962, 0.04769482, 0.639619  , 0.09885698, 0.10545085,\n",
       "        0.04785877],\n",
       "       [0.07210903, 0.08679458, 0.2972021 , 0.37568724, 0.10453795,\n",
       "        0.06366908],\n",
       "       [0.04097028, 0.07186355, 0.06455303, 0.729347  , 0.05176505,\n",
       "        0.0415011 ],\n",
       "       [0.04459133, 0.03065599, 0.8059365 , 0.03686799, 0.04887941,\n",
       "        0.03306889],\n",
       "       [0.06769352, 0.05186667, 0.6918627 , 0.06555027, 0.06654616,\n",
       "        0.05648071],\n",
       "       [0.07782292, 0.07099585, 0.63198954, 0.08559891, 0.06489845,\n",
       "        0.06869434],\n",
       "       [0.08816367, 0.06479812, 0.5767665 , 0.08346804, 0.11406538,\n",
       "        0.07273836],\n",
       "       [0.07436625, 0.06714197, 0.55023056, 0.13836834, 0.10706767,\n",
       "        0.06282524],\n",
       "       [0.06323193, 0.04874666, 0.63935757, 0.09957124, 0.09950484,\n",
       "        0.04958779]], dtype=float32)"
      ]
     },
     "execution_count": 22,
     "metadata": {},
     "output_type": "execute_result"
    }
   ],
   "source": [
    "y_test_pred_probs = model_dropout.predict(X_val_title)\n",
    "y_test_pred_probs"
   ]
  },
  {
   "cell_type": "code",
   "execution_count": 23,
   "metadata": {},
   "outputs": [
    {
     "data": {
      "text/plain": [
       "array([5, 0, 0, 0, 0, 0, 1, 1, 1, 1, 1, 1, 4, 4, 4, 4, 4, 4, 4, 4, 4, 4,\n",
       "       4, 4, 4, 4, 4, 4, 4, 4, 4, 4, 4, 4, 4, 4, 4, 4, 3, 3, 3, 3, 3, 3,\n",
       "       3, 3, 3, 3, 3, 3, 3, 3, 3, 3, 3, 3, 3, 3, 3, 3, 3, 3, 3, 3, 3, 3,\n",
       "       3, 3, 3, 3, 4, 4, 4, 4, 2, 2, 2, 2, 2, 2, 2, 2, 2, 2, 2, 2, 2, 2,\n",
       "       2, 2, 2, 3, 3, 2, 2, 2, 2, 2, 2], dtype=int64)"
      ]
     },
     "execution_count": 23,
     "metadata": {},
     "output_type": "execute_result"
    }
   ],
   "source": [
    "Y_val.argmax(axis=1)"
   ]
  },
  {
   "cell_type": "code",
   "execution_count": 24,
   "metadata": {},
   "outputs": [],
   "source": [
    "y_score = model_dropout.predict(X_val_title)"
   ]
  },
  {
   "cell_type": "code",
   "execution_count": 25,
   "metadata": {},
   "outputs": [
    {
     "data": {
      "text/plain": [
       "array([0.18360083, 0.16479596, 0.18674552, 0.15882605, 0.11170783,\n",
       "       0.19432382], dtype=float32)"
      ]
     },
     "execution_count": 25,
     "metadata": {},
     "output_type": "execute_result"
    }
   ],
   "source": [
    "y_score[0]"
   ]
  },
  {
   "cell_type": "code",
   "execution_count": 26,
   "metadata": {},
   "outputs": [],
   "source": [
    "from scipy import interp\n",
    "from itertools import cycle\n",
    "\n",
    "\n",
    "def plot_multi_class_roc_auc_curves(nb_classes, y_true, y_pred_score, lw: int = 2):\n",
    "    \"\"\"\n",
    "    ROC, AUC for a categorical classifier\n",
    "    \n",
    "    ROC curve extends to problems with three or more classes with what is known as the one-vs-all approach.\n",
    "    For instance, if we have three classes, we will create three ROC curves,\n",
    "\n",
    "    For each class, we take it as the positive class and group the rest classes jointly as the negative class.\n",
    "\n",
    "    Class 1 vs classes 2&3\n",
    "    Class 2 vs classes 1&3\n",
    "    Class 3 vs classes 1&2\n",
    "\n",
    "    :param nb_classes:\n",
    "    :param y_true:\n",
    "    :param y_pred_score:\n",
    "    :param lw:\n",
    "    :return:\n",
    "    \"\"\"\n",
    "\n",
    "    # Compute ROC curve and ROC area for each class\n",
    "    fpr = dict()\n",
    "    tpr = dict()\n",
    "    roc_auc = dict()\n",
    "\n",
    "    for i in range(nb_classes):\n",
    "        fpr[i], tpr[i], _ = roc_curve(y_true[:, i], y_pred_score[:, i])\n",
    "\n",
    "        roc_auc[i] = auc(fpr[i], tpr[i])\n",
    "\n",
    "    # Compute micro-average ROC curve and ROC area\n",
    "    fpr[\"micro\"], tpr[\"micro\"], _ = roc_curve(y_true.ravel(), y_pred_score.ravel())\n",
    "\n",
    "    roc_auc[\"micro\"] = auc(fpr[\"micro\"], tpr[\"micro\"])\n",
    "\n",
    "    # Compute macro-average ROC curve and ROC area\n",
    "\n",
    "    # First aggregate all false positive rates\n",
    "    all_fpr = np.unique(np.concatenate([fpr[i] for i in range(nb_classes)]))\n",
    "\n",
    "    # Then interpolate all ROC curves at this points\n",
    "    mean_tpr = np.zeros_like(all_fpr)\n",
    "\n",
    "    for i in range(nb_classes):\n",
    "        mean_tpr += interp(all_fpr, fpr[i], tpr[i])\n",
    "\n",
    "    # Finally average it and compute AUC\n",
    "    mean_tpr /= nb_classes\n",
    "\n",
    "    fpr[\"macro\"] = all_fpr\n",
    "    tpr[\"macro\"] = mean_tpr\n",
    "    roc_auc[\"macro\"] = auc(fpr[\"macro\"], tpr[\"macro\"])\n",
    "\n",
    "    # Plot all ROC curves\n",
    "    plt.figure(1)\n",
    "    plt.plot(fpr[\"micro\"],\n",
    "             tpr[\"micro\"],\n",
    "             label='micro-average ROC curve (area = {0:0.2f})'.format(roc_auc[\"micro\"]),\n",
    "             color='deeppink',\n",
    "             linestyle=':',\n",
    "             linewidth=4)\n",
    "\n",
    "    plt.plot(fpr[\"macro\"],\n",
    "             tpr[\"macro\"],\n",
    "             label='macro-average ROC curve (area = {0:0.2f})'.format(roc_auc[\"macro\"]),\n",
    "             color='navy',\n",
    "             linestyle=':',\n",
    "             linewidth=4)\n",
    "\n",
    "    colors = cycle(['aqua',\n",
    "                    'darkorange',\n",
    "                    'cornflowerblue'])\n",
    "\n",
    "    for i, color in zip(range(nb_classes), colors):\n",
    "        plt.plot(fpr[i],\n",
    "                 tpr[i],\n",
    "                 color=color,\n",
    "                 lw=lw,\n",
    "                 label='ROC curve of class {0} (area = {1:0.2f})'.format(i, roc_auc[i]))\n",
    "\n",
    "    plt.plot([0, 1],\n",
    "             [0, 1],\n",
    "             'k--',\n",
    "             lw=lw)\n",
    "\n",
    "    plt.xlim([0.0, 1.0])\n",
    "    plt.ylim([0.0, 1.05])\n",
    "\n",
    "    plt.xlabel('False Positive Rate')\n",
    "    plt.ylabel('True Positive Rate')\n",
    "\n",
    "    plt.title('Some extension of Receiver operating characteristic to multi-class')\n",
    "    plt.legend(loc=\"lower right\")\n",
    "    # plt.show()\n",
    "\n",
    "    # Zoom in view of the upper left corner.\n",
    "    plt.figure(2)\n",
    "    plt.xlim(0, 0.2)\n",
    "    plt.ylim(0.7, 1)\n",
    "\n",
    "    plt.plot(fpr[\"micro\"],\n",
    "             tpr[\"micro\"],\n",
    "             label='micro-average ROC curve (area = {0:0.2f})'.format(roc_auc[\"micro\"]),\n",
    "             color='deeppink',\n",
    "             linestyle=':',\n",
    "             linewidth=4)\n",
    "\n",
    "    plt.plot(fpr[\"macro\"],\n",
    "             tpr[\"macro\"],\n",
    "             label='macro-average ROC curve (area = {0:0.2f})'.format(roc_auc[\"macro\"]),\n",
    "             color='navy',\n",
    "             linestyle=':',\n",
    "             linewidth=4)\n",
    "\n",
    "    colors = cycle(['aqua',\n",
    "                    'darkorange',\n",
    "                    'cornflowerblue'])\n",
    "\n",
    "    for i, color in zip(range(nb_classes), colors):\n",
    "        plt.plot(fpr[i],\n",
    "                 tpr[i],\n",
    "                 color=color,\n",
    "                 lw=lw,\n",
    "                 label='ROC curve of class {0} (area = {1:0.2f})'.format(i, roc_auc[i]))\n",
    "\n",
    "    plt.plot([0, 1],\n",
    "             [0, 1],\n",
    "             'k--', lw=lw)\n",
    "\n",
    "    plt.xlabel('False Positive Rate')\n",
    "    plt.ylabel('True Positive Rate')\n",
    "    plt.title('Some extension of Receiver operating characteristic to multi-class')\n",
    "    plt.legend(loc=\"lower right\")\n",
    "    plt.show()"
   ]
  },
  {
   "cell_type": "code",
   "execution_count": 27,
   "metadata": {},
   "outputs": [
    {
     "name": "stderr",
     "output_type": "stream",
     "text": [
      "C:\\Users\\Eleni Kakagianni\\anaconda3\\lib\\site-packages\\ipykernel_launcher.py:49: DeprecationWarning: scipy.interp is deprecated and will be removed in SciPy 2.0.0, use numpy.interp instead\n"
     ]
    },
    {
     "data": {
      "image/png": "[encoded data removed]",
      "text/plain": [
       "<Figure size 432x288 with 1 Axes>"
      ]
     },
     "metadata": {
      "needs_background": "light"
     },
     "output_type": "display_data"
    },
    {
     "data": {
      "image/png": "[encoded data removed]",
      "text/plain": [
       "<Figure size 432x288 with 1 Axes>"
      ]
     },
     "metadata": {
      "needs_background": "light"
     },
     "output_type": "display_data"
    }
   ],
   "source": [
    "plot_multi_class_roc_auc_curves(nb_classes=6,\n",
    "                                y_true=Y_val,\n",
    "                                y_pred_score=y_score)"
   ]
  },
  {
   "cell_type": "code",
   "execution_count": 28,
   "metadata": {},
   "outputs": [
    {
     "name": "stdout",
     "output_type": "stream",
     "text": [
      "WARNING:tensorflow:From <ipython-input-28-26f614a29b8a>:1: Sequential.predict_classes (from tensorflow.python.keras.engine.sequential) is deprecated and will be removed after 2021-01-01.\n",
      "Instructions for updating:\n",
      "Please use instead:* `np.argmax(model.predict(x), axis=-1)`,   if your model does multi-class classification   (e.g. if it uses a `softmax` last-layer activation).* `(model.predict(x) > 0.5).astype(\"int32\")`,   if your model does binary classification   (e.g. if it uses a `sigmoid` last-layer activation).\n"
     ]
    },
    {
     "data": {
      "text/plain": [
       "array([5, 2, 2, 2, 2, 2, 3, 2, 2, 2, 2, 3, 4, 4, 4, 4, 4, 4, 4, 4, 4, 4,\n",
       "       2, 2, 4, 4, 4, 4, 4, 4, 3, 4, 4, 4, 2, 4, 4, 4, 3, 3, 3, 3, 3, 3,\n",
       "       3, 3, 3, 3, 3, 3, 3, 3, 3, 3, 3, 3, 3, 3, 3, 3, 3, 3, 3, 3, 2, 3,\n",
       "       3, 3, 3, 3, 4, 4, 3, 4, 2, 2, 2, 2, 2, 2, 2, 2, 2, 2, 2, 2, 2, 2,\n",
       "       2, 2, 2, 3, 3, 2, 2, 2, 2, 2, 2], dtype=int64)"
      ]
     },
     "execution_count": 28,
     "metadata": {},
     "output_type": "execute_result"
    }
   ],
   "source": [
    "y_pred_class = model_dropout.predict_classes(X_val_title)\n",
    "y_pred_class"
   ]
  },
  {
   "cell_type": "code",
   "execution_count": 29,
   "metadata": {},
   "outputs": [
    {
     "data": {
      "text/plain": [
       "array([[0, 0, 0, 0, 0, 1],\n",
       "       [1, 0, 0, 0, 0, 0],\n",
       "       [1, 0, 0, 0, 0, 0],\n",
       "       [1, 0, 0, 0, 0, 0],\n",
       "       [1, 0, 0, 0, 0, 0],\n",
       "       [1, 0, 0, 0, 0, 0],\n",
       "       [0, 1, 0, 0, 0, 0],\n",
       "       [0, 1, 0, 0, 0, 0],\n",
       "       [0, 1, 0, 0, 0, 0],\n",
       "       [0, 1, 0, 0, 0, 0],\n",
       "       [0, 1, 0, 0, 0, 0],\n",
       "       [0, 1, 0, 0, 0, 0],\n",
       "       [0, 0, 0, 0, 1, 0],\n",
       "       [0, 0, 0, 0, 1, 0],\n",
       "       [0, 0, 0, 0, 1, 0],\n",
       "       [0, 0, 0, 0, 1, 0],\n",
       "       [0, 0, 0, 0, 1, 0],\n",
       "       [0, 0, 0, 0, 1, 0],\n",
       "       [0, 0, 0, 0, 1, 0],\n",
       "       [0, 0, 0, 0, 1, 0],\n",
       "       [0, 0, 0, 0, 1, 0],\n",
       "       [0, 0, 0, 0, 1, 0],\n",
       "       [0, 0, 0, 0, 1, 0],\n",
       "       [0, 0, 0, 0, 1, 0],\n",
       "       [0, 0, 0, 0, 1, 0],\n",
       "       [0, 0, 0, 0, 1, 0],\n",
       "       [0, 0, 0, 0, 1, 0],\n",
       "       [0, 0, 0, 0, 1, 0],\n",
       "       [0, 0, 0, 0, 1, 0],\n",
       "       [0, 0, 0, 0, 1, 0],\n",
       "       [0, 0, 0, 0, 1, 0],\n",
       "       [0, 0, 0, 0, 1, 0],\n",
       "       [0, 0, 0, 0, 1, 0],\n",
       "       [0, 0, 0, 0, 1, 0],\n",
       "       [0, 0, 0, 0, 1, 0],\n",
       "       [0, 0, 0, 0, 1, 0],\n",
       "       [0, 0, 0, 0, 1, 0],\n",
       "       [0, 0, 0, 0, 1, 0],\n",
       "       [0, 0, 0, 1, 0, 0],\n",
       "       [0, 0, 0, 1, 0, 0],\n",
       "       [0, 0, 0, 1, 0, 0],\n",
       "       [0, 0, 0, 1, 0, 0],\n",
       "       [0, 0, 0, 1, 0, 0],\n",
       "       [0, 0, 0, 1, 0, 0],\n",
       "       [0, 0, 0, 1, 0, 0],\n",
       "       [0, 0, 0, 1, 0, 0],\n",
       "       [0, 0, 0, 1, 0, 0],\n",
       "       [0, 0, 0, 1, 0, 0],\n",
       "       [0, 0, 0, 1, 0, 0],\n",
       "       [0, 0, 0, 1, 0, 0],\n",
       "       [0, 0, 0, 1, 0, 0],\n",
       "       [0, 0, 0, 1, 0, 0],\n",
       "       [0, 0, 0, 1, 0, 0],\n",
       "       [0, 0, 0, 1, 0, 0],\n",
       "       [0, 0, 0, 1, 0, 0],\n",
       "       [0, 0, 0, 1, 0, 0],\n",
       "       [0, 0, 0, 1, 0, 0],\n",
       "       [0, 0, 0, 1, 0, 0],\n",
       "       [0, 0, 0, 1, 0, 0],\n",
       "       [0, 0, 0, 1, 0, 0],\n",
       "       [0, 0, 0, 1, 0, 0],\n",
       "       [0, 0, 0, 1, 0, 0],\n",
       "       [0, 0, 0, 1, 0, 0],\n",
       "       [0, 0, 0, 1, 0, 0],\n",
       "       [0, 0, 0, 1, 0, 0],\n",
       "       [0, 0, 0, 1, 0, 0],\n",
       "       [0, 0, 0, 1, 0, 0],\n",
       "       [0, 0, 0, 1, 0, 0],\n",
       "       [0, 0, 0, 1, 0, 0],\n",
       "       [0, 0, 0, 1, 0, 0],\n",
       "       [0, 0, 0, 0, 1, 0],\n",
       "       [0, 0, 0, 0, 1, 0],\n",
       "       [0, 0, 0, 0, 1, 0],\n",
       "       [0, 0, 0, 0, 1, 0],\n",
       "       [0, 0, 1, 0, 0, 0],\n",
       "       [0, 0, 1, 0, 0, 0],\n",
       "       [0, 0, 1, 0, 0, 0],\n",
       "       [0, 0, 1, 0, 0, 0],\n",
       "       [0, 0, 1, 0, 0, 0],\n",
       "       [0, 0, 1, 0, 0, 0],\n",
       "       [0, 0, 1, 0, 0, 0],\n",
       "       [0, 0, 1, 0, 0, 0],\n",
       "       [0, 0, 1, 0, 0, 0],\n",
       "       [0, 0, 1, 0, 0, 0],\n",
       "       [0, 0, 1, 0, 0, 0],\n",
       "       [0, 0, 1, 0, 0, 0],\n",
       "       [0, 0, 1, 0, 0, 0],\n",
       "       [0, 0, 1, 0, 0, 0],\n",
       "       [0, 0, 1, 0, 0, 0],\n",
       "       [0, 0, 1, 0, 0, 0],\n",
       "       [0, 0, 1, 0, 0, 0],\n",
       "       [0, 0, 0, 1, 0, 0],\n",
       "       [0, 0, 0, 1, 0, 0],\n",
       "       [0, 0, 1, 0, 0, 0],\n",
       "       [0, 0, 1, 0, 0, 0],\n",
       "       [0, 0, 1, 0, 0, 0],\n",
       "       [0, 0, 1, 0, 0, 0],\n",
       "       [0, 0, 1, 0, 0, 0],\n",
       "       [0, 0, 1, 0, 0, 0]], dtype=uint8)"
      ]
     },
     "execution_count": 29,
     "metadata": {},
     "output_type": "execute_result"
    }
   ],
   "source": [
    "Y_val\n"
   ]
  },
  {
   "cell_type": "code",
   "execution_count": 30,
   "metadata": {},
   "outputs": [],
   "source": [
    "from sklearn import preprocessing\n",
    "lb = preprocessing.LabelBinarizer()\n",
    "y_test_binarize = lb.fit_transform(Y_val)"
   ]
  },
  {
   "cell_type": "code",
   "execution_count": 31,
   "metadata": {
    "scrolled": true
   },
   "outputs": [
    {
     "data": {
      "text/plain": [
       "array([[0, 0, 0, 0, 0, 1],\n",
       "       [1, 0, 0, 0, 0, 0],\n",
       "       [1, 0, 0, 0, 0, 0],\n",
       "       [1, 0, 0, 0, 0, 0],\n",
       "       [1, 0, 0, 0, 0, 0],\n",
       "       [1, 0, 0, 0, 0, 0],\n",
       "       [0, 1, 0, 0, 0, 0],\n",
       "       [0, 1, 0, 0, 0, 0],\n",
       "       [0, 1, 0, 0, 0, 0],\n",
       "       [0, 1, 0, 0, 0, 0],\n",
       "       [0, 1, 0, 0, 0, 0],\n",
       "       [0, 1, 0, 0, 0, 0],\n",
       "       [0, 0, 0, 0, 1, 0],\n",
       "       [0, 0, 0, 0, 1, 0],\n",
       "       [0, 0, 0, 0, 1, 0],\n",
       "       [0, 0, 0, 0, 1, 0],\n",
       "       [0, 0, 0, 0, 1, 0],\n",
       "       [0, 0, 0, 0, 1, 0],\n",
       "       [0, 0, 0, 0, 1, 0],\n",
       "       [0, 0, 0, 0, 1, 0],\n",
       "       [0, 0, 0, 0, 1, 0],\n",
       "       [0, 0, 0, 0, 1, 0],\n",
       "       [0, 0, 0, 0, 1, 0],\n",
       "       [0, 0, 0, 0, 1, 0],\n",
       "       [0, 0, 0, 0, 1, 0],\n",
       "       [0, 0, 0, 0, 1, 0],\n",
       "       [0, 0, 0, 0, 1, 0],\n",
       "       [0, 0, 0, 0, 1, 0],\n",
       "       [0, 0, 0, 0, 1, 0],\n",
       "       [0, 0, 0, 0, 1, 0],\n",
       "       [0, 0, 0, 0, 1, 0],\n",
       "       [0, 0, 0, 0, 1, 0],\n",
       "       [0, 0, 0, 0, 1, 0],\n",
       "       [0, 0, 0, 0, 1, 0],\n",
       "       [0, 0, 0, 0, 1, 0],\n",
       "       [0, 0, 0, 0, 1, 0],\n",
       "       [0, 0, 0, 0, 1, 0],\n",
       "       [0, 0, 0, 0, 1, 0],\n",
       "       [0, 0, 0, 1, 0, 0],\n",
       "       [0, 0, 0, 1, 0, 0],\n",
       "       [0, 0, 0, 1, 0, 0],\n",
       "       [0, 0, 0, 1, 0, 0],\n",
       "       [0, 0, 0, 1, 0, 0],\n",
       "       [0, 0, 0, 1, 0, 0],\n",
       "       [0, 0, 0, 1, 0, 0],\n",
       "       [0, 0, 0, 1, 0, 0],\n",
       "       [0, 0, 0, 1, 0, 0],\n",
       "       [0, 0, 0, 1, 0, 0],\n",
       "       [0, 0, 0, 1, 0, 0],\n",
       "       [0, 0, 0, 1, 0, 0],\n",
       "       [0, 0, 0, 1, 0, 0],\n",
       "       [0, 0, 0, 1, 0, 0],\n",
       "       [0, 0, 0, 1, 0, 0],\n",
       "       [0, 0, 0, 1, 0, 0],\n",
       "       [0, 0, 0, 1, 0, 0],\n",
       "       [0, 0, 0, 1, 0, 0],\n",
       "       [0, 0, 0, 1, 0, 0],\n",
       "       [0, 0, 0, 1, 0, 0],\n",
       "       [0, 0, 0, 1, 0, 0],\n",
       "       [0, 0, 0, 1, 0, 0],\n",
       "       [0, 0, 0, 1, 0, 0],\n",
       "       [0, 0, 0, 1, 0, 0],\n",
       "       [0, 0, 0, 1, 0, 0],\n",
       "       [0, 0, 0, 1, 0, 0],\n",
       "       [0, 0, 0, 1, 0, 0],\n",
       "       [0, 0, 0, 1, 0, 0],\n",
       "       [0, 0, 0, 1, 0, 0],\n",
       "       [0, 0, 0, 1, 0, 0],\n",
       "       [0, 0, 0, 1, 0, 0],\n",
       "       [0, 0, 0, 1, 0, 0],\n",
       "       [0, 0, 0, 0, 1, 0],\n",
       "       [0, 0, 0, 0, 1, 0],\n",
       "       [0, 0, 0, 0, 1, 0],\n",
       "       [0, 0, 0, 0, 1, 0],\n",
       "       [0, 0, 1, 0, 0, 0],\n",
       "       [0, 0, 1, 0, 0, 0],\n",
       "       [0, 0, 1, 0, 0, 0],\n",
       "       [0, 0, 1, 0, 0, 0],\n",
       "       [0, 0, 1, 0, 0, 0],\n",
       "       [0, 0, 1, 0, 0, 0],\n",
       "       [0, 0, 1, 0, 0, 0],\n",
       "       [0, 0, 1, 0, 0, 0],\n",
       "       [0, 0, 1, 0, 0, 0],\n",
       "       [0, 0, 1, 0, 0, 0],\n",
       "       [0, 0, 1, 0, 0, 0],\n",
       "       [0, 0, 1, 0, 0, 0],\n",
       "       [0, 0, 1, 0, 0, 0],\n",
       "       [0, 0, 1, 0, 0, 0],\n",
       "       [0, 0, 1, 0, 0, 0],\n",
       "       [0, 0, 1, 0, 0, 0],\n",
       "       [0, 0, 1, 0, 0, 0],\n",
       "       [0, 0, 0, 1, 0, 0],\n",
       "       [0, 0, 0, 1, 0, 0],\n",
       "       [0, 0, 1, 0, 0, 0],\n",
       "       [0, 0, 1, 0, 0, 0],\n",
       "       [0, 0, 1, 0, 0, 0],\n",
       "       [0, 0, 1, 0, 0, 0],\n",
       "       [0, 0, 1, 0, 0, 0],\n",
       "       [0, 0, 1, 0, 0, 0]])"
      ]
     },
     "execution_count": 31,
     "metadata": {},
     "output_type": "execute_result"
    }
   ],
   "source": [
    "y_test_normal = lb.inverse_transform(Y_val)\n",
    "y_test_normal"
   ]
  },
  {
   "cell_type": "code",
   "execution_count": 32,
   "metadata": {},
   "outputs": [],
   "source": [
    "from sklearn.metrics import confusion_matrix, classification_report"
   ]
  },
  {
   "cell_type": "code",
   "execution_count": 33,
   "metadata": {},
   "outputs": [
    {
     "name": "stdout",
     "output_type": "stream",
     "text": [
      "              precision    recall  f1-score   support\n",
      "\n",
      "           0       0.00      0.00      0.00         5\n",
      "           1       0.00      0.00      0.00         6\n",
      "           2       0.64      1.00      0.78        23\n",
      "           3       0.89      0.97      0.93        34\n",
      "           4       1.00      0.83      0.91        30\n",
      "           5       1.00      1.00      1.00         1\n",
      "\n",
      "    accuracy                           0.83        99\n",
      "   macro avg       0.59      0.63      0.60        99\n",
      "weighted avg       0.77      0.83      0.79        99\n",
      "\n"
     ]
    },
    {
     "name": "stderr",
     "output_type": "stream",
     "text": [
      "C:\\Users\\Eleni Kakagianni\\anaconda3\\lib\\site-packages\\sklearn\\metrics\\_classification.py:1272: UndefinedMetricWarning: Precision and F-score are ill-defined and being set to 0.0 in labels with no predicted samples. Use `zero_division` parameter to control this behavior.\n",
      "  _warn_prf(average, modifier, msg_start, len(result))\n"
     ]
    }
   ],
   "source": [
    "print(classification_report(y_true=np.argmax(y_test_normal,axis = 1),\n",
    "                            y_pred=y_pred_class))"
   ]
  },
  {
   "cell_type": "code",
   "execution_count": 34,
   "metadata": {},
   "outputs": [],
   "source": [
    "def print_confusion_matrix(y_true,\n",
    "                           y_pred,\n",
    "                           class_names: List[str],\n",
    "                           figsize: Tuple[int, int] = (10, 7),\n",
    "                           fontsize: int = 14) -> pd.DataFrame:\n",
    "    \"\"\"\n",
    "    Prints a confusion matrix, as returned by sklearn.metrics.confusion_matrix, as a heat-map.\n",
    "\n",
    "    For something more extraordinary check this repo:\n",
    "    https://github.com/wcipriano/pretty-print-confusion-matrix\n",
    "\n",
    "\n",
    "    :param class_names:  An ordered list of class names\n",
    "    :param figsize: A 2-long tuple, the first value determining the horizontal size of the outputted\n",
    "                    figure, the second determining the vertical size. Defaults to (10,7).\n",
    "    :param fontsize: Font size for axes labels. Defaults to 14.\n",
    "    :return: The confusion matrix as a dataset\n",
    "    \"\"\"\n",
    "    conf_matrix = confusion_matrix(y_true=y_true, y_pred=y_pred)\n",
    "\n",
    "    df_cm = pd.DataFrame(conf_matrix, index=class_names, columns=class_names)\n",
    "\n",
    "    fig = plt.figure(figsize=figsize)\n",
    "\n",
    "    try:\n",
    "        heatmap = sns.heatmap(df_cm, annot=True, fmt=\"d\")\n",
    "\n",
    "    except ValueError:\n",
    "\n",
    "        raise ValueError(\"Confusion matrix values must be integers.\")\n",
    "\n",
    "    heatmap.yaxis.set_ticklabels(heatmap.yaxis.get_ticklabels(),\n",
    "                                 rotation=0,\n",
    "                                 ha='right',\n",
    "                                 fontsize=fontsize)\n",
    "\n",
    "    heatmap.xaxis.set_ticklabels(heatmap.xaxis.get_ticklabels(),\n",
    "                                 rotation=45,\n",
    "                                 ha='right',\n",
    "                                 fontsize=fontsize)\n",
    "\n",
    "    plt.ylabel('True label')\n",
    "    plt.xlabel('Predicted label')\n",
    "    plt.show()\n",
    "\n",
    "    return df_cm"
   ]
  },
  {
   "cell_type": "code",
   "execution_count": 35,
   "metadata": {},
   "outputs": [
    {
     "data": {
      "image/png": "[encoded data removed]",
      "text/plain": [
       "<Figure size 720x504 with 2 Axes>"
      ]
     },
     "metadata": {
      "needs_background": "light"
     },
     "output_type": "display_data"
    },
    {
     "data": {
      "text/html": [
       "<div>\n",
       "<style scoped>\n",
       "    .dataframe tbody tr th:only-of-type {\n",
       "        vertical-align: middle;\n",
       "    }\n",
       "\n",
       "    .dataframe tbody tr th {\n",
       "        vertical-align: top;\n",
       "    }\n",
       "\n",
       "    .dataframe thead th {\n",
       "        text-align: right;\n",
       "    }\n",
       "</style>\n",
       "<table border=\"1\" class=\"dataframe\">\n",
       "  <thead>\n",
       "    <tr style=\"text-align: right;\">\n",
       "      <th></th>\n",
       "      <th>SDG10</th>\n",
       "      <th>SDG12</th>\n",
       "      <th>SDG13</th>\n",
       "      <th>SDG3</th>\n",
       "      <th>SDG5</th>\n",
       "      <th>SDG7</th>\n",
       "    </tr>\n",
       "  </thead>\n",
       "  <tbody>\n",
       "    <tr>\n",
       "      <th>SDG10</th>\n",
       "      <td>0</td>\n",
       "      <td>0</td>\n",
       "      <td>5</td>\n",
       "      <td>0</td>\n",
       "      <td>0</td>\n",
       "      <td>0</td>\n",
       "    </tr>\n",
       "    <tr>\n",
       "      <th>SDG12</th>\n",
       "      <td>0</td>\n",
       "      <td>0</td>\n",
       "      <td>4</td>\n",
       "      <td>2</td>\n",
       "      <td>0</td>\n",
       "      <td>0</td>\n",
       "    </tr>\n",
       "    <tr>\n",
       "      <th>SDG13</th>\n",
       "      <td>0</td>\n",
       "      <td>0</td>\n",
       "      <td>23</td>\n",
       "      <td>0</td>\n",
       "      <td>0</td>\n",
       "      <td>0</td>\n",
       "    </tr>\n",
       "    <tr>\n",
       "      <th>SDG3</th>\n",
       "      <td>0</td>\n",
       "      <td>0</td>\n",
       "      <td>1</td>\n",
       "      <td>33</td>\n",
       "      <td>0</td>\n",
       "      <td>0</td>\n",
       "    </tr>\n",
       "    <tr>\n",
       "      <th>SDG5</th>\n",
       "      <td>0</td>\n",
       "      <td>0</td>\n",
       "      <td>3</td>\n",
       "      <td>2</td>\n",
       "      <td>25</td>\n",
       "      <td>0</td>\n",
       "    </tr>\n",
       "    <tr>\n",
       "      <th>SDG7</th>\n",
       "      <td>0</td>\n",
       "      <td>0</td>\n",
       "      <td>0</td>\n",
       "      <td>0</td>\n",
       "      <td>0</td>\n",
       "      <td>1</td>\n",
       "    </tr>\n",
       "  </tbody>\n",
       "</table>\n",
       "</div>"
      ],
      "text/plain": [
       "       SDG10  SDG12  SDG13  SDG3  SDG5  SDG7\n",
       "SDG10      0      0      5     0     0     0\n",
       "SDG12      0      0      4     2     0     0\n",
       "SDG13      0      0     23     0     0     0\n",
       "SDG3       0      0      1    33     0     0\n",
       "SDG5       0      0      3     2    25     0\n",
       "SDG7       0      0      0     0     0     1"
      ]
     },
     "execution_count": 35,
     "metadata": {},
     "output_type": "execute_result"
    }
   ],
   "source": [
    "import seaborn as sns\n",
    "\n",
    "print_confusion_matrix(y_true=np.argmax(y_test_normal,axis = 1),\n",
    "                           y_pred=y_pred_class,\n",
    "                           class_names=['SDG10', 'SDG12', 'SDG13', 'SDG3', 'SDG5', 'SDG7'])"
   ]
  },
  {
   "cell_type": "markdown",
   "metadata": {},
   "source": [
    "Test with a new title"
   ]
  },
  {
   "cell_type": "code",
   "execution_count": 36,
   "metadata": {},
   "outputs": [
    {
     "name": "stdout",
     "output_type": "stream",
     "text": [
      "SDG:  SDG13\n"
     ]
    }
   ],
   "source": [
    "new_title = ['The planet is warming, from North Pole to South Pole.']\n",
    "seq = tokenizer.texts_to_sequences(new_title)\n",
    "padded = pad_sequences(seq, maxlen=MAX_SEQUENCE_LENGTH)\n",
    "pred = model_dropout.predict(padded)\n",
    "labels = sdg_df.sdg.unique()\n",
    "#labels = sorted(set(sdg_df['sdg']), key=sdg_df['sdg'].index)\n",
    "print('SDG: ', labels[np.argmax(pred)])"
   ]
  },
  {
   "cell_type": "markdown",
   "metadata": {},
   "source": [
    "#### Save model and create model weights "
   ]
  },
  {
   "cell_type": "code",
   "execution_count": 38,
   "metadata": {},
   "outputs": [
    {
     "name": "stdout",
     "output_type": "stream",
     "text": [
      "INFO:tensorflow:Assets written to: C:\\Users\\ELENIK~1\\AppData\\Local\\Temp\\tmpu8oic0t7\\RNN_title_model_weights\\assets\n"
     ]
    }
   ],
   "source": [
    "import os\n",
    "import tempfile\n",
    "import tensorflow as tf\n",
    "\n",
    "tmpdir = tempfile.mkdtemp()\n",
    "\n",
    "title_save_path = os.path.join(tmpdir, \"RNN_title_model_weights\")\n",
    "tf.saved_model.save(model_dropout, title_save_path)"
   ]
  }
 ],
 "metadata": {
  "kernelspec": {
   "display_name": "Python 3",
   "language": "python",
   "name": "python3"
  },
  "language_info": {
   "codemirror_mode": {
    "name": "ipython",
    "version": 3
   },
   "file_extension": ".py",
   "mimetype": "text/x-python",
   "name": "python",
   "nbconvert_exporter": "python",
   "pygments_lexer": "ipython3",
   "version": "3.7.6"
  }
 },
 "nbformat": 4,
 "nbformat_minor": 4
}
