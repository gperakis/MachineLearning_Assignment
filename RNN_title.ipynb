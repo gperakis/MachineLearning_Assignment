{
 "cells": [
  {
   "cell_type": "code",
   "execution_count": 1,
   "metadata": {},
   "outputs": [],
   "source": [
    "from __future__ import print_function\n",
    "\n",
    "import re\n",
    "import tarfile\n",
    "from pathlib import Path\n",
    "from time import time\n",
    "from functools import reduce\n",
    "from pprint import pprint\n",
    "from typing import List, Tuple\n",
    "from sklearn.metrics import confusion_matrix\n",
    "from sklearn.metrics import roc_curve, auc\n",
    "from sklearn.model_selection import train_test_split\n",
    "from sklearn.preprocessing import LabelBinarizer\n",
    "import numpy as np\n",
    "import pandas as pd\n",
    "from tensorflow.python.keras import layers\n",
    "from tensorflow.python.keras.layers import recurrent, Input, Embedding, RepeatVector, Dropout, Dense, LSTM\n",
    "from tensorflow.python.keras.models import Model\n",
    "from tensorflow.python.keras.preprocessing.text import Tokenizer\n",
    "from tensorflow.python.keras.preprocessing.sequence import pad_sequences\n",
    "from tensorflow.python.keras.utils.data_utils import get_file\n",
    "from tqdm import tqdm"
   ]
  },
  {
   "cell_type": "code",
   "execution_count": 2,
   "metadata": {},
   "outputs": [],
   "source": [
    "#import the already preprocessed dataset \n",
    "sdg_df  = pd.read_csv('sdg_classification_data.csv')"
   ]
  },
  {
   "cell_type": "markdown",
   "metadata": {},
   "source": [
    "LSTM - Set parameters "
   ]
  },
  {
   "cell_type": "code",
   "execution_count": 4,
   "metadata": {},
   "outputs": [
    {
     "name": "stdout",
     "output_type": "stream",
     "text": [
      "Found 2696 unique tokens.\n"
     ]
    }
   ],
   "source": [
    "# Max number of words to be used\n",
    "MAX_NB_WORDS = 50000\n",
    "# Max number of words in each sdg row.\n",
    "MAX_SEQUENCE_LENGTH = 400\n",
    "# This is fixed.\n",
    "EMBEDDING_DIM = 100\n",
    "tokenizer = Tokenizer(num_words=MAX_NB_WORDS, filters='!\"#$%&()*+,-./:;<=>?@[\\]^_`{|}~', lower=True)\n",
    "tokenizer.fit_on_texts(sdg_df['extracted_title'].astype(str).values)\n",
    "word_index = tokenizer.word_index\n",
    "print('Found %s unique tokens.' % len(word_index))"
   ]
  },
  {
   "cell_type": "code",
   "execution_count": 5,
   "metadata": {},
   "outputs": [
    {
     "name": "stdout",
     "output_type": "stream",
     "text": [
      "Sequences input length: (889, 400)\n"
     ]
    }
   ],
   "source": [
    "#transform them to have the same length for modeling\n",
    "X_title = tokenizer.texts_to_sequences(sdg_df['extracted_title'].astype(str).values)\n",
    "X_title = pad_sequences(X_title, maxlen=MAX_SEQUENCE_LENGTH)\n",
    "print('Sequences input length:', X_title.shape)"
   ]
  },
  {
   "cell_type": "code",
   "execution_count": 6,
   "metadata": {},
   "outputs": [
    {
     "name": "stdout",
     "output_type": "stream",
     "text": [
      "Shape of categorical variables: (889, 6)\n"
     ]
    }
   ],
   "source": [
    "Y = pd.get_dummies(sdg_df['sdg']).values\n",
    "print('Shape of categorical variables:', Y.shape)"
   ]
  },
  {
   "cell_type": "code",
   "execution_count": 7,
   "metadata": {},
   "outputs": [
    {
     "name": "stdout",
     "output_type": "stream",
     "text": [
      "(800, 400) (800, 6)\n",
      "(89, 400) (89, 6)\n"
     ]
    }
   ],
   "source": [
    "#split our dataset\n",
    "from sklearn.model_selection import train_test_split\n",
    "\n",
    "X_title_train, X_title_test, Y_train, Y_test = train_test_split(X_title,Y, test_size = 0.10, random_state = 42)\n",
    "print(X_title_train.shape,Y_train.shape)\n",
    "print(X_title_test.shape,Y_test.shape)"
   ]
  },
  {
   "cell_type": "code",
   "execution_count": 8,
   "metadata": {},
   "outputs": [
    {
     "name": "stdout",
     "output_type": "stream",
     "text": [
      "Model: \"sequential\"\n",
      "_________________________________________________________________\n",
      "Layer (type)                 Output Shape              Param #   \n",
      "=================================================================\n",
      "embedding (Embedding)        (None, 400, 100)          5000000   \n",
      "_________________________________________________________________\n",
      "lstm (LSTM)                  (None, 100)               80400     \n",
      "_________________________________________________________________\n",
      "dense (Dense)                (None, 6)                 606       \n",
      "=================================================================\n",
      "Total params: 5,081,006\n",
      "Trainable params: 5,081,006\n",
      "Non-trainable params: 0\n",
      "_________________________________________________________________\n"
     ]
    }
   ],
   "source": [
    "import keras\n",
    "from keras.models import Sequential\n",
    "from keras.layers import SpatialDropout1D \n",
    "from tensorflow.python.keras.callbacks import EarlyStopping\n",
    "\n",
    "model = Sequential()\n",
    "model.add(Embedding(MAX_NB_WORDS, EMBEDDING_DIM, input_length=X_title.shape[1]))\n",
    "model.add(LSTM(100, dropout=0.2, recurrent_dropout=0.2))\n",
    "model.add(Dense(6, activation='softmax'))\n",
    "model.compile(loss='categorical_crossentropy', optimizer='adam', metrics=['accuracy'])\n",
    "model.summary()\n",
    "epochs = 5\n",
    "batch_size = 64\n"
   ]
  },
  {
   "cell_type": "code",
   "execution_count": 9,
   "metadata": {},
   "outputs": [
    {
     "name": "stdout",
     "output_type": "stream",
     "text": [
      "Epoch 1/5\n",
      "12/12 [==============================] - 19s 2s/step - loss: 1.7365 - accuracy: 0.3944 - val_loss: 1.5481 - val_accuracy: 0.6250\n",
      "Epoch 2/5\n",
      "12/12 [==============================] - 19s 2s/step - loss: 1.5111 - accuracy: 0.3708 - val_loss: 1.5158 - val_accuracy: 0.5375\n",
      "Epoch 3/5\n",
      "12/12 [==============================] - 19s 2s/step - loss: 1.4364 - accuracy: 0.6194 - val_loss: 1.4676 - val_accuracy: 0.4750\n",
      "Epoch 4/5\n",
      "12/12 [==============================] - 19s 2s/step - loss: 1.2625 - accuracy: 0.7528 - val_loss: 1.2256 - val_accuracy: 0.7625\n",
      "Epoch 5/5\n",
      "12/12 [==============================] - 18s 2s/step - loss: 0.9219 - accuracy: 0.7361 - val_loss: 1.0480 - val_accuracy: 0.6375\n"
     ]
    }
   ],
   "source": [
    "model_train = model.fit(X_title_train, Y_train,\n",
    "                    epochs=epochs,\n",
    "                    batch_size=batch_size,\n",
    "                    validation_split=0.1,\n",
    "                    callbacks=[EarlyStopping(monitor='val_loss', patience=3, min_delta=0.0001)])"
   ]
  },
  {
   "cell_type": "code",
   "execution_count": 10,
   "metadata": {},
   "outputs": [
    {
     "name": "stdout",
     "output_type": "stream",
     "text": [
      "2/2 [==============================] - 0s 35ms/step - loss: 0.9039 - accuracy: 0.7079\n"
     ]
    }
   ],
   "source": [
    "#Model Evaluation on the Test Set\n",
    "test_eval = model.evaluate(\n",
    "    X_title_test,                  # features\n",
    "    Y_test,                  # labels\n",
    "    batch_size=64,   # batch size\n",
    "    verbose=1                # the most extended verbose\n",
    ")\n"
   ]
  },
  {
   "cell_type": "code",
   "execution_count": 11,
   "metadata": {},
   "outputs": [
    {
     "name": "stdout",
     "output_type": "stream",
     "text": [
      "Test loss: 0.9039077758789062\n",
      "Test accuracy: 0.7078651785850525\n"
     ]
    }
   ],
   "source": [
    "print('Test loss:', test_eval[0])\n",
    "print('Test accuracy:', test_eval[1])"
   ]
  },
  {
   "cell_type": "code",
   "execution_count": 12,
   "metadata": {},
   "outputs": [],
   "source": [
    "import matplotlib.pyplot as plt"
   ]
  },
  {
   "cell_type": "code",
   "execution_count": 13,
   "metadata": {},
   "outputs": [
    {
     "data": {
      "image/png": "[encoded data removed]",
      "text/plain": [
       "<Figure size 432x288 with 1 Axes>"
      ]
     },
     "metadata": {
      "needs_background": "light"
     },
     "output_type": "display_data"
    },
    {
     "data": {
      "image/png": "[encoded data removed]",
      "text/plain": [
       "<Figure size 432x288 with 1 Axes>"
      ]
     },
     "metadata": {
      "needs_background": "light"
     },
     "output_type": "display_data"
    }
   ],
   "source": [
    "#Let's put your model evaluation into perspective and plot the accuracy and loss plots between training and validation data:\n",
    "\n",
    "accuracy = model_train.history['accuracy']\n",
    "val_accuracy = model_train.history['val_accuracy']\n",
    "loss =model_train.history['loss']\n",
    "val_loss = model_train.history['val_loss']\n",
    "epochs = range(len(accuracy))\n",
    "plt.plot(epochs, accuracy, 'bo', label='Training accuracy')\n",
    "plt.plot(epochs, val_accuracy, 'b', label='Validation accuracy')\n",
    "plt.title('Training and validation accuracy')\n",
    "plt.legend()\n",
    "plt.figure()\n",
    "plt.plot(epochs, loss, 'bo', label='Training loss')\n",
    "plt.plot(epochs, val_loss, 'b', label='Validation loss')\n",
    "plt.title('Training and validation loss')\n",
    "plt.legend()\n",
    "plt.show()"
   ]
  },
  {
   "cell_type": "code",
   "execution_count": 16,
   "metadata": {},
   "outputs": [
    {
     "name": "stdout",
     "output_type": "stream",
     "text": [
      "Model: \"sequential_2\"\n",
      "_________________________________________________________________\n",
      "Layer (type)                 Output Shape              Param #   \n",
      "=================================================================\n",
      "embedding_1 (Embedding)      (None, 400, 100)          5000000   \n",
      "_________________________________________________________________\n",
      "spatial_dropout1d (SpatialDr (None, 400, 100)          0         \n",
      "_________________________________________________________________\n",
      "lstm_1 (LSTM)                (None, 100)               80400     \n",
      "_________________________________________________________________\n",
      "dense_1 (Dense)              (None, 6)                 606       \n",
      "=================================================================\n",
      "Total params: 5,081,006\n",
      "Trainable params: 5,081,006\n",
      "Non-trainable params: 0\n",
      "_________________________________________________________________\n"
     ]
    }
   ],
   "source": [
    "import keras\n",
    "from keras.models import Sequential\n",
    "from keras.layers import SpatialDropout1D \n",
    "from tensorflow.python.keras.callbacks import EarlyStopping\n",
    "\n",
    "model = Sequential()\n",
    "model.add(Embedding(MAX_NB_WORDS, EMBEDDING_DIM, input_length=X_title.shape[1]))\n",
    "model.add(SpatialDropout1D(0.2))\n",
    "model.add(LSTM(100, dropout=0.2, recurrent_dropout=0.2))\n",
    "model.add(Dense(6, activation='softmax'))\n",
    "model.compile(loss='categorical_crossentropy', optimizer='adam', metrics=['accuracy'])\n",
    "model.summary()\n",
    "epochs = 5\n",
    "batch_size = 64"
   ]
  },
  {
   "cell_type": "code",
   "execution_count": 17,
   "metadata": {},
   "outputs": [
    {
     "name": "stdout",
     "output_type": "stream",
     "text": [
      "Epoch 1/5\n",
      "12/12 [==============================] - 19s 2s/step - loss: 1.7088 - accuracy: 0.4083 - val_loss: 1.6106 - val_accuracy: 0.3875\n",
      "Epoch 2/5\n",
      "12/12 [==============================] - 19s 2s/step - loss: 1.5323 - accuracy: 0.3639 - val_loss: 1.5292 - val_accuracy: 0.2500\n",
      "Epoch 3/5\n",
      "12/12 [==============================] - 19s 2s/step - loss: 1.4536 - accuracy: 0.4264 - val_loss: 1.4672 - val_accuracy: 0.5625\n",
      "Epoch 4/5\n",
      "12/12 [==============================] - 19s 2s/step - loss: 1.3131 - accuracy: 0.7250 - val_loss: 1.3511 - val_accuracy: 0.3125\n",
      "Epoch 5/5\n",
      "12/12 [==============================] - 19s 2s/step - loss: 0.9953 - accuracy: 0.7806 - val_loss: 0.9556 - val_accuracy: 0.7625\n"
     ]
    }
   ],
   "source": [
    "\n",
    "model_dropout_train = model.fit(X_title_train, Y_train,\n",
    "                    epochs=epochs,\n",
    "                    batch_size=batch_size,\n",
    "                    validation_split=0.1,\n",
    "                    callbacks=[EarlyStopping(monitor='val_loss', patience=3, min_delta=0.0001)])"
   ]
  },
  {
   "cell_type": "code",
   "execution_count": 18,
   "metadata": {},
   "outputs": [
    {
     "name": "stdout",
     "output_type": "stream",
     "text": [
      "2/2 [==============================] - 0s 33ms/step - loss: 0.8306 - accuracy: 0.8090\n"
     ]
    }
   ],
   "source": [
    "#Model Evaluation on the Test Set\n",
    "test_eval = model.evaluate(\n",
    "    X_title_test,                  # features\n",
    "    Y_test,                  # labels\n",
    "    batch_size=64,   # batch size\n",
    "    verbose=1                # the most extended verbose\n",
    ")\n"
   ]
  },
  {
   "cell_type": "code",
   "execution_count": 19,
   "metadata": {},
   "outputs": [
    {
     "name": "stdout",
     "output_type": "stream",
     "text": [
      "3/3 [==============================] - 0s 44ms/step - loss: 0.8306 - accuracy: 0.8090\n"
     ]
    },
    {
     "data": {
      "text/plain": [
       "[0.8306333422660828, 0.8089887499809265]"
      ]
     },
     "execution_count": 19,
     "metadata": {},
     "output_type": "execute_result"
    }
   ],
   "source": [
    "model_accuracy = model.evaluate(X_title_test,Y_test)\n",
    "model_accuracy"
   ]
  },
  {
   "cell_type": "code",
   "execution_count": 20,
   "metadata": {
    "scrolled": true
   },
   "outputs": [
    {
     "data": {
      "image/png": "[encoded data removed]",
      "text/plain": [
       "<Figure size 432x288 with 1 Axes>"
      ]
     },
     "metadata": {
      "needs_background": "light"
     },
     "output_type": "display_data"
    },
    {
     "data": {
      "image/png": "[encoded data removed]",
      "text/plain": [
       "<Figure size 432x288 with 1 Axes>"
      ]
     },
     "metadata": {
      "needs_background": "light"
     },
     "output_type": "display_data"
    }
   ],
   "source": [
    "#Let's put your model evaluation into perspective and plot the accuracy and loss plots between training and validation data:\n",
    "\n",
    "accuracy = model_dropout_train.history['accuracy']\n",
    "val_accuracy = model_dropout_train.history['val_accuracy']\n",
    "loss =model_dropout_train.history['loss']\n",
    "val_loss = model_dropout_train.history['val_loss']\n",
    "epochs = range(len(accuracy))\n",
    "plt.plot(epochs, accuracy, 'bo', label='Training accuracy')\n",
    "plt.plot(epochs, val_accuracy, 'b', label='Validation accuracy')\n",
    "plt.title('Training and validation accuracy')\n",
    "plt.legend()\n",
    "plt.figure()\n",
    "plt.plot(epochs, loss, 'bo', label='Training loss')\n",
    "plt.plot(epochs, val_loss, 'b', label='Validation loss')\n",
    "plt.title('Training and validation loss')\n",
    "plt.legend()\n",
    "plt.show()"
   ]
  },
  {
   "cell_type": "code",
   "execution_count": 21,
   "metadata": {},
   "outputs": [
    {
     "data": {
      "text/plain": [
       "array([[0.06535122, 0.04643258, 0.54055476, 0.18570773, 0.10259403,\n",
       "        0.05935958],\n",
       "       [0.0241193 , 0.02280272, 0.27691096, 0.49213758, 0.15734173,\n",
       "        0.02668777],\n",
       "       [0.1635897 , 0.14155476, 0.3401318 , 0.13233209, 0.08764287,\n",
       "        0.13474879],\n",
       "       [0.02682017, 0.02149054, 0.37428054, 0.37011442, 0.17933024,\n",
       "        0.02796413],\n",
       "       [0.01750572, 0.01936607, 0.15829304, 0.6317017 , 0.15342079,\n",
       "        0.01971276],\n",
       "       [0.01245227, 0.01094691, 0.09105752, 0.16612287, 0.7059372 ,\n",
       "        0.01348316],\n",
       "       [0.01056113, 0.0103487 , 0.07165956, 0.4096068 , 0.48607767,\n",
       "        0.0117461 ],\n",
       "       [0.00536351, 0.00455365, 0.02220202, 0.10821632, 0.8544283 ,\n",
       "        0.00523622],\n",
       "       [0.03955594, 0.03981335, 0.13591552, 0.44178304, 0.3041315 ,\n",
       "        0.03880068],\n",
       "       [0.01606054, 0.01705248, 0.16752209, 0.6342748 , 0.14728314,\n",
       "        0.01780693],\n",
       "       [0.00514472, 0.00436767, 0.03462576, 0.13361762, 0.81661886,\n",
       "        0.00562537],\n",
       "       [0.06589445, 0.04124327, 0.6882458 , 0.10889022, 0.03821794,\n",
       "        0.05750846],\n",
       "       [0.0107464 , 0.00897181, 0.0764201 , 0.17603892, 0.7166799 ,\n",
       "        0.01114294],\n",
       "       [0.15075745, 0.1368338 , 0.28826135, 0.16741237, 0.12260468,\n",
       "        0.13413031],\n",
       "       [0.00910305, 0.00819984, 0.07356314, 0.14653686, 0.7524828 ,\n",
       "        0.0101143 ],\n",
       "       [0.02075623, 0.02073374, 0.17449676, 0.5577932 , 0.20475942,\n",
       "        0.02146062],\n",
       "       [0.05524211, 0.04783634, 0.3567763 , 0.36566386, 0.12204103,\n",
       "        0.05244039],\n",
       "       [0.0346102 , 0.03050073, 0.33677357, 0.43541768, 0.1266613 ,\n",
       "        0.0360365 ],\n",
       "       [0.00269026, 0.00228381, 0.00818754, 0.0961198 , 0.8882874 ,\n",
       "        0.00243115],\n",
       "       [0.00328912, 0.00295441, 0.01186231, 0.09776811, 0.8808542 ,\n",
       "        0.00327192],\n",
       "       [0.08495615, 0.06621426, 0.49815238, 0.18729667, 0.08656064,\n",
       "        0.07681983],\n",
       "       [0.05167052, 0.02944613, 0.7852643 , 0.06626628, 0.023665  ,\n",
       "        0.04368782],\n",
       "       [0.0942649 , 0.07120533, 0.5384878 , 0.14096312, 0.06967437,\n",
       "        0.08540457],\n",
       "       [0.04328269, 0.03565703, 0.32810894, 0.26483822, 0.28480098,\n",
       "        0.04331217],\n",
       "       [0.03127015, 0.02656723, 0.30421364, 0.38984373, 0.21687464,\n",
       "        0.03123071],\n",
       "       [0.08794167, 0.06940039, 0.471952  , 0.19741519, 0.09216131,\n",
       "        0.08112947],\n",
       "       [0.0556259 , 0.04165953, 0.550263  , 0.20289776, 0.09755827,\n",
       "        0.05199555],\n",
       "       [0.07310178, 0.04849013, 0.6775736 , 0.09516479, 0.04096746,\n",
       "        0.06470222],\n",
       "       [0.00989738, 0.00862745, 0.04778856, 0.20917773, 0.7143026 ,\n",
       "        0.01020628],\n",
       "       [0.01636931, 0.01415814, 0.10078301, 0.22553365, 0.62584394,\n",
       "        0.01731195],\n",
       "       [0.11449506, 0.09237158, 0.40871122, 0.17737149, 0.10440252,\n",
       "        0.10264821],\n",
       "       [0.0723772 , 0.05886109, 0.42848882, 0.2309063 , 0.14150706,\n",
       "        0.06785952],\n",
       "       [0.07101374, 0.05474732, 0.5181576 , 0.19517906, 0.09512351,\n",
       "        0.06577881],\n",
       "       [0.0178558 , 0.01679611, 0.2468324 , 0.5650795 , 0.13398346,\n",
       "        0.01945272],\n",
       "       [0.02630897, 0.02612496, 0.21683183, 0.51398546, 0.18941954,\n",
       "        0.02732923],\n",
       "       [0.04761034, 0.03049696, 0.7104319 , 0.11422283, 0.05274552,\n",
       "        0.04449256],\n",
       "       [0.02482886, 0.01707637, 0.53687066, 0.25399688, 0.1407232 ,\n",
       "        0.02650401],\n",
       "       [0.00480992, 0.00471692, 0.02524822, 0.20947245, 0.75014645,\n",
       "        0.00560605],\n",
       "       [0.02833864, 0.02707202, 0.17579708, 0.419534  , 0.32097468,\n",
       "        0.02828358],\n",
       "       [0.06929407, 0.05182469, 0.5528075 , 0.17688937, 0.08617153,\n",
       "        0.06301285],\n",
       "       [0.01510181, 0.01642918, 0.11596109, 0.61423326, 0.22213311,\n",
       "        0.01614159],\n",
       "       [0.0054159 , 0.00531394, 0.02380105, 0.17869136, 0.78099   ,\n",
       "        0.00578776],\n",
       "       [0.00381601, 0.00351954, 0.02135217, 0.08489041, 0.8822093 ,\n",
       "        0.00421257],\n",
       "       [0.09015359, 0.0682497 , 0.50149065, 0.16487537, 0.09197639,\n",
       "        0.08325427],\n",
       "       [0.01581566, 0.01491528, 0.17524673, 0.44339493, 0.33269614,\n",
       "        0.0179313 ],\n",
       "       [0.04159884, 0.02424298, 0.77871215, 0.08869156, 0.02951583,\n",
       "        0.03723864],\n",
       "       [0.07499324, 0.05948143, 0.45232603, 0.22507335, 0.11746073,\n",
       "        0.07066519],\n",
       "       [0.04231138, 0.03472273, 0.3765612 , 0.35757452, 0.1484702 ,\n",
       "        0.04035995],\n",
       "       [0.00824667, 0.00743329, 0.03789993, 0.15806498, 0.77980614,\n",
       "        0.00854901],\n",
       "       [0.06385455, 0.04770569, 0.575291  , 0.1895916 , 0.06348305,\n",
       "        0.06007415],\n",
       "       [0.03034824, 0.02904819, 0.25168896, 0.5094748 , 0.14774907,\n",
       "        0.03169072],\n",
       "       [0.13100198, 0.1008459 , 0.47660765, 0.119104  , 0.06619357,\n",
       "        0.10624696],\n",
       "       [0.01015567, 0.01124439, 0.04500784, 0.57102895, 0.35171303,\n",
       "        0.01085012],\n",
       "       [0.04352226, 0.03642424, 0.3807404 , 0.310865  , 0.18500857,\n",
       "        0.04343954],\n",
       "       [0.04073922, 0.035941  , 0.30237383, 0.38291535, 0.19782992,\n",
       "        0.04020064],\n",
       "       [0.0125616 , 0.01393058, 0.09453239, 0.5757232 , 0.2884079 ,\n",
       "        0.01484437],\n",
       "       [0.01804762, 0.02004342, 0.11765869, 0.6696572 , 0.1556524 ,\n",
       "        0.01894068],\n",
       "       [0.02113743, 0.01859754, 0.30042183, 0.46987948, 0.16663603,\n",
       "        0.02332765],\n",
       "       [0.03857976, 0.02330022, 0.737399  , 0.12057853, 0.04514743,\n",
       "        0.03499506],\n",
       "       [0.07805472, 0.05337594, 0.6463794 , 0.10563698, 0.04872109,\n",
       "        0.06783186],\n",
       "       [0.06929087, 0.05131967, 0.49785218, 0.21680245, 0.10260095,\n",
       "        0.06213382],\n",
       "       [0.02822548, 0.02764063, 0.18032357, 0.47631335, 0.25941822,\n",
       "        0.02807871],\n",
       "       [0.06891669, 0.0625348 , 0.29889664, 0.32860968, 0.17501046,\n",
       "        0.06603174],\n",
       "       [0.07965119, 0.05649195, 0.6237092 , 0.11042398, 0.05794593,\n",
       "        0.0717777 ],\n",
       "       [0.02437214, 0.0228664 , 0.08660011, 0.3959747 , 0.4475016 ,\n",
       "        0.02268512],\n",
       "       [0.05256404, 0.03861858, 0.51034933, 0.1997361 , 0.14886424,\n",
       "        0.04986771],\n",
       "       [0.02962858, 0.02854826, 0.25361368, 0.5138243 , 0.14347918,\n",
       "        0.03090599],\n",
       "       [0.07333507, 0.05439909, 0.50526226, 0.2007563 , 0.10061129,\n",
       "        0.06563604],\n",
       "       [0.00932969, 0.00785333, 0.06832912, 0.1727293 , 0.73177993,\n",
       "        0.00997858],\n",
       "       [0.02697648, 0.02080784, 0.44389528, 0.32206917, 0.15725815,\n",
       "        0.02899301],\n",
       "       [0.12136458, 0.10007077, 0.4231029 , 0.16088691, 0.08317422,\n",
       "        0.1114006 ],\n",
       "       [0.05676646, 0.04042373, 0.5881319 , 0.1620256 , 0.09906454,\n",
       "        0.05358782],\n",
       "       [0.01801247, 0.01738276, 0.13894139, 0.3432006 , 0.46281117,\n",
       "        0.01965162],\n",
       "       [0.01219751, 0.00993486, 0.09154366, 0.19232464, 0.68094134,\n",
       "        0.01305801],\n",
       "       [0.01614388, 0.0170109 , 0.08760798, 0.50598264, 0.356055  ,\n",
       "        0.01719962],\n",
       "       [0.03752904, 0.02673958, 0.5789011 , 0.20958228, 0.10910041,\n",
       "        0.03814758],\n",
       "       [0.05777248, 0.04237726, 0.515246  , 0.21133451, 0.11735488,\n",
       "        0.05591493],\n",
       "       [0.02392554, 0.0223792 , 0.2228411 , 0.46443653, 0.24169703,\n",
       "        0.02472063],\n",
       "       [0.0350093 , 0.02088316, 0.72925746, 0.12875234, 0.05366976,\n",
       "        0.03242797],\n",
       "       [0.00799666, 0.00766686, 0.04518035, 0.13565198, 0.79496187,\n",
       "        0.00854228],\n",
       "       [0.05183341, 0.04112093, 0.47914556, 0.27284306, 0.10515741,\n",
       "        0.04989972],\n",
       "       [0.01104448, 0.01217874, 0.06687185, 0.56711096, 0.3311467 ,\n",
       "        0.01164732],\n",
       "       [0.04606749, 0.04484726, 0.24553673, 0.48581684, 0.13269685,\n",
       "        0.04503482],\n",
       "       [0.03391177, 0.03382854, 0.14542617, 0.47202456, 0.28183222,\n",
       "        0.03297672],\n",
       "       [0.01631166, 0.01779764, 0.11954243, 0.62373185, 0.20507418,\n",
       "        0.01754222],\n",
       "       [0.00779134, 0.00696743, 0.04834899, 0.15632859, 0.7722037 ,\n",
       "        0.00835997],\n",
       "       [0.01226403, 0.01183094, 0.06481327, 0.18802518, 0.7101537 ,\n",
       "        0.0129129 ],\n",
       "       [0.02384384, 0.02264893, 0.15918836, 0.32406706, 0.44496188,\n",
       "        0.02528993],\n",
       "       [0.00502215, 0.00428427, 0.03074029, 0.11630736, 0.8383272 ,\n",
       "        0.00531873]], dtype=float32)"
      ]
     },
     "execution_count": 21,
     "metadata": {},
     "output_type": "execute_result"
    }
   ],
   "source": [
    "y_test_pred_probs = model.predict(X_title_test)\n",
    "y_test_pred_probs"
   ]
  },
  {
   "cell_type": "code",
   "execution_count": 22,
   "metadata": {},
   "outputs": [
    {
     "data": {
      "text/plain": [
       "array([2, 3, 0, 3, 3, 4, 3, 4, 3, 3, 4, 2, 4, 1, 4, 3, 3, 3, 4, 4, 1, 2,\n",
       "       2, 2, 3, 0, 2, 2, 4, 4, 0, 2, 1, 3, 3, 2, 3, 4, 3, 2, 3, 4, 4, 5,\n",
       "       3, 2, 2, 2, 4, 2, 3, 0, 3, 2, 3, 3, 3, 3, 2, 2, 1, 3, 3, 2, 4, 2,\n",
       "       3, 2, 4, 3, 5, 2, 2, 4, 3, 2, 1, 3, 2, 4, 2, 4, 3, 3, 3, 4, 4, 4,\n",
       "       4], dtype=int64)"
      ]
     },
     "execution_count": 22,
     "metadata": {},
     "output_type": "execute_result"
    }
   ],
   "source": [
    "Y_test.argmax(axis=1)"
   ]
  },
  {
   "cell_type": "code",
   "execution_count": 23,
   "metadata": {},
   "outputs": [],
   "source": [
    "y_score = model.predict(X_title_test)"
   ]
  },
  {
   "cell_type": "code",
   "execution_count": 24,
   "metadata": {},
   "outputs": [
    {
     "data": {
      "text/plain": [
       "array([0.06535122, 0.04643258, 0.54055476, 0.18570773, 0.10259403,\n",
       "       0.05935958], dtype=float32)"
      ]
     },
     "execution_count": 24,
     "metadata": {},
     "output_type": "execute_result"
    }
   ],
   "source": [
    "y_score[0]"
   ]
  },
  {
   "cell_type": "code",
   "execution_count": 25,
   "metadata": {},
   "outputs": [],
   "source": [
    "from scipy import interp\n",
    "from itertools import cycle\n",
    "\n",
    "\n",
    "def plot_multi_class_roc_auc_curves(nb_classes, y_true, y_pred_score, lw: int = 2):\n",
    "    \"\"\"\n",
    "    ROC, AUC for a categorical classifier\n",
    "    \n",
    "    ROC curve extends to problems with three or more classes with what is known as the one-vs-all approach.\n",
    "    For instance, if we have three classes, we will create three ROC curves,\n",
    "\n",
    "    For each class, we take it as the positive class and group the rest classes jointly as the negative class.\n",
    "\n",
    "    Class 1 vs classes 2&3\n",
    "    Class 2 vs classes 1&3\n",
    "    Class 3 vs classes 1&2\n",
    "\n",
    "    :param nb_classes:\n",
    "    :param y_true:\n",
    "    :param y_pred_score:\n",
    "    :param lw:\n",
    "    :return:\n",
    "    \"\"\"\n",
    "\n",
    "    # Compute ROC curve and ROC area for each class\n",
    "    fpr = dict()\n",
    "    tpr = dict()\n",
    "    roc_auc = dict()\n",
    "\n",
    "    for i in range(nb_classes):\n",
    "        fpr[i], tpr[i], _ = roc_curve(y_true[:, i], y_pred_score[:, i])\n",
    "\n",
    "        roc_auc[i] = auc(fpr[i], tpr[i])\n",
    "\n",
    "    # Compute micro-average ROC curve and ROC area\n",
    "    fpr[\"micro\"], tpr[\"micro\"], _ = roc_curve(y_true.ravel(), y_pred_score.ravel())\n",
    "\n",
    "    roc_auc[\"micro\"] = auc(fpr[\"micro\"], tpr[\"micro\"])\n",
    "\n",
    "    # Compute macro-average ROC curve and ROC area\n",
    "\n",
    "    # First aggregate all false positive rates\n",
    "    all_fpr = np.unique(np.concatenate([fpr[i] for i in range(nb_classes)]))\n",
    "\n",
    "    # Then interpolate all ROC curves at this points\n",
    "    mean_tpr = np.zeros_like(all_fpr)\n",
    "\n",
    "    for i in range(nb_classes):\n",
    "        mean_tpr += interp(all_fpr, fpr[i], tpr[i])\n",
    "\n",
    "    # Finally average it and compute AUC\n",
    "    mean_tpr /= nb_classes\n",
    "\n",
    "    fpr[\"macro\"] = all_fpr\n",
    "    tpr[\"macro\"] = mean_tpr\n",
    "    roc_auc[\"macro\"] = auc(fpr[\"macro\"], tpr[\"macro\"])\n",
    "\n",
    "    # Plot all ROC curves\n",
    "    plt.figure(1)\n",
    "    plt.plot(fpr[\"micro\"],\n",
    "             tpr[\"micro\"],\n",
    "             label='micro-average ROC curve (area = {0:0.2f})'.format(roc_auc[\"micro\"]),\n",
    "             color='deeppink',\n",
    "             linestyle=':',\n",
    "             linewidth=4)\n",
    "\n",
    "    plt.plot(fpr[\"macro\"],\n",
    "             tpr[\"macro\"],\n",
    "             label='macro-average ROC curve (area = {0:0.2f})'.format(roc_auc[\"macro\"]),\n",
    "             color='navy',\n",
    "             linestyle=':',\n",
    "             linewidth=4)\n",
    "\n",
    "    colors = cycle(['aqua',\n",
    "                    'darkorange',\n",
    "                    'cornflowerblue'])\n",
    "\n",
    "    for i, color in zip(range(nb_classes), colors):\n",
    "        plt.plot(fpr[i],\n",
    "                 tpr[i],\n",
    "                 color=color,\n",
    "                 lw=lw,\n",
    "                 label='ROC curve of class {0} (area = {1:0.2f})'.format(i, roc_auc[i]))\n",
    "\n",
    "    plt.plot([0, 1],\n",
    "             [0, 1],\n",
    "             'k--',\n",
    "             lw=lw)\n",
    "\n",
    "    plt.xlim([0.0, 1.0])\n",
    "    plt.ylim([0.0, 1.05])\n",
    "\n",
    "    plt.xlabel('False Positive Rate')\n",
    "    plt.ylabel('True Positive Rate')\n",
    "\n",
    "    plt.title('Some extension of Receiver operating characteristic to multi-class')\n",
    "    plt.legend(loc=\"lower right\")\n",
    "    # plt.show()\n",
    "\n",
    "    # Zoom in view of the upper left corner.\n",
    "    plt.figure(2)\n",
    "    plt.xlim(0, 0.2)\n",
    "    plt.ylim(0.7, 1)\n",
    "\n",
    "    plt.plot(fpr[\"micro\"],\n",
    "             tpr[\"micro\"],\n",
    "             label='micro-average ROC curve (area = {0:0.2f})'.format(roc_auc[\"micro\"]),\n",
    "             color='deeppink',\n",
    "             linestyle=':',\n",
    "             linewidth=4)\n",
    "\n",
    "    plt.plot(fpr[\"macro\"],\n",
    "             tpr[\"macro\"],\n",
    "             label='macro-average ROC curve (area = {0:0.2f})'.format(roc_auc[\"macro\"]),\n",
    "             color='navy',\n",
    "             linestyle=':',\n",
    "             linewidth=4)\n",
    "\n",
    "    colors = cycle(['aqua',\n",
    "                    'darkorange',\n",
    "                    'cornflowerblue'])\n",
    "\n",
    "    for i, color in zip(range(nb_classes), colors):\n",
    "        plt.plot(fpr[i],\n",
    "                 tpr[i],\n",
    "                 color=color,\n",
    "                 lw=lw,\n",
    "                 label='ROC curve of class {0} (area = {1:0.2f})'.format(i, roc_auc[i]))\n",
    "\n",
    "    plt.plot([0, 1],\n",
    "             [0, 1],\n",
    "             'k--', lw=lw)\n",
    "\n",
    "    plt.xlabel('False Positive Rate')\n",
    "    plt.ylabel('True Positive Rate')\n",
    "    plt.title('Some extension of Receiver operating characteristic to multi-class')\n",
    "    plt.legend(loc=\"lower right\")\n",
    "    plt.show()"
   ]
  },
  {
   "cell_type": "code",
   "execution_count": 26,
   "metadata": {},
   "outputs": [
    {
     "name": "stderr",
     "output_type": "stream",
     "text": [
      "<ipython-input-25-46d10016a566>:49: DeprecationWarning: scipy.interp is deprecated and will be removed in SciPy 2.0.0, use numpy.interp instead\n",
      "  mean_tpr += interp(all_fpr, fpr[i], tpr[i])\n"
     ]
    },
    {
     "data": {
      "image/png": "[encoded data removed]",
      "text/plain": [
       "<Figure size 432x288 with 1 Axes>"
      ]
     },
     "metadata": {
      "needs_background": "light"
     },
     "output_type": "display_data"
    },
    {
     "data": {
      "image/png": "[encoded data removed]",
      "text/plain": [
       "<Figure size 432x288 with 1 Axes>"
      ]
     },
     "metadata": {
      "needs_background": "light"
     },
     "output_type": "display_data"
    }
   ],
   "source": [
    "plot_multi_class_roc_auc_curves(nb_classes=6,\n",
    "                                y_true=Y_test,\n",
    "                                y_pred_score=y_score)"
   ]
  },
  {
   "cell_type": "code",
   "execution_count": 27,
   "metadata": {},
   "outputs": [
    {
     "name": "stdout",
     "output_type": "stream",
     "text": [
      "WARNING:tensorflow:From <ipython-input-27-e067670d6277>:1: Sequential.predict_classes (from tensorflow.python.keras.engine.sequential) is deprecated and will be removed after 2021-01-01.\n",
      "Instructions for updating:\n",
      "Please use instead:* `np.argmax(model.predict(x), axis=-1)`,   if your model does multi-class classification   (e.g. if it uses a `softmax` last-layer activation).* `(model.predict(x) > 0.5).astype(\"int32\")`,   if your model does binary classification   (e.g. if it uses a `sigmoid` last-layer activation).\n"
     ]
    },
    {
     "data": {
      "text/plain": [
       "array([2, 3, 2, 2, 3, 4, 4, 4, 3, 3, 4, 2, 4, 2, 4, 3, 3, 3, 4, 4, 2, 2,\n",
       "       2, 2, 3, 2, 2, 2, 4, 4, 2, 2, 2, 3, 3, 2, 2, 4, 3, 2, 3, 4, 4, 2,\n",
       "       3, 2, 2, 2, 4, 2, 3, 2, 3, 2, 3, 3, 3, 3, 2, 2, 2, 3, 3, 2, 4, 2,\n",
       "       3, 2, 4, 2, 2, 2, 4, 4, 3, 2, 2, 3, 2, 4, 2, 3, 3, 3, 3, 4, 4, 4,\n",
       "       4], dtype=int64)"
      ]
     },
     "execution_count": 27,
     "metadata": {},
     "output_type": "execute_result"
    }
   ],
   "source": [
    "y_pred_class = model.predict_classes(X_title_test)\n",
    "y_pred_class"
   ]
  },
  {
   "cell_type": "code",
   "execution_count": 28,
   "metadata": {},
   "outputs": [
    {
     "data": {
      "text/plain": [
       "array([[0, 0, 1, 0, 0, 0],\n",
       "       [0, 0, 0, 1, 0, 0],\n",
       "       [1, 0, 0, 0, 0, 0],\n",
       "       [0, 0, 0, 1, 0, 0],\n",
       "       [0, 0, 0, 1, 0, 0],\n",
       "       [0, 0, 0, 0, 1, 0],\n",
       "       [0, 0, 0, 1, 0, 0],\n",
       "       [0, 0, 0, 0, 1, 0],\n",
       "       [0, 0, 0, 1, 0, 0],\n",
       "       [0, 0, 0, 1, 0, 0],\n",
       "       [0, 0, 0, 0, 1, 0],\n",
       "       [0, 0, 1, 0, 0, 0],\n",
       "       [0, 0, 0, 0, 1, 0],\n",
       "       [0, 1, 0, 0, 0, 0],\n",
       "       [0, 0, 0, 0, 1, 0],\n",
       "       [0, 0, 0, 1, 0, 0],\n",
       "       [0, 0, 0, 1, 0, 0],\n",
       "       [0, 0, 0, 1, 0, 0],\n",
       "       [0, 0, 0, 0, 1, 0],\n",
       "       [0, 0, 0, 0, 1, 0],\n",
       "       [0, 1, 0, 0, 0, 0],\n",
       "       [0, 0, 1, 0, 0, 0],\n",
       "       [0, 0, 1, 0, 0, 0],\n",
       "       [0, 0, 1, 0, 0, 0],\n",
       "       [0, 0, 0, 1, 0, 0],\n",
       "       [1, 0, 0, 0, 0, 0],\n",
       "       [0, 0, 1, 0, 0, 0],\n",
       "       [0, 0, 1, 0, 0, 0],\n",
       "       [0, 0, 0, 0, 1, 0],\n",
       "       [0, 0, 0, 0, 1, 0],\n",
       "       [1, 0, 0, 0, 0, 0],\n",
       "       [0, 0, 1, 0, 0, 0],\n",
       "       [0, 1, 0, 0, 0, 0],\n",
       "       [0, 0, 0, 1, 0, 0],\n",
       "       [0, 0, 0, 1, 0, 0],\n",
       "       [0, 0, 1, 0, 0, 0],\n",
       "       [0, 0, 0, 1, 0, 0],\n",
       "       [0, 0, 0, 0, 1, 0],\n",
       "       [0, 0, 0, 1, 0, 0],\n",
       "       [0, 0, 1, 0, 0, 0],\n",
       "       [0, 0, 0, 1, 0, 0],\n",
       "       [0, 0, 0, 0, 1, 0],\n",
       "       [0, 0, 0, 0, 1, 0],\n",
       "       [0, 0, 0, 0, 0, 1],\n",
       "       [0, 0, 0, 1, 0, 0],\n",
       "       [0, 0, 1, 0, 0, 0],\n",
       "       [0, 0, 1, 0, 0, 0],\n",
       "       [0, 0, 1, 0, 0, 0],\n",
       "       [0, 0, 0, 0, 1, 0],\n",
       "       [0, 0, 1, 0, 0, 0],\n",
       "       [0, 0, 0, 1, 0, 0],\n",
       "       [1, 0, 0, 0, 0, 0],\n",
       "       [0, 0, 0, 1, 0, 0],\n",
       "       [0, 0, 1, 0, 0, 0],\n",
       "       [0, 0, 0, 1, 0, 0],\n",
       "       [0, 0, 0, 1, 0, 0],\n",
       "       [0, 0, 0, 1, 0, 0],\n",
       "       [0, 0, 0, 1, 0, 0],\n",
       "       [0, 0, 1, 0, 0, 0],\n",
       "       [0, 0, 1, 0, 0, 0],\n",
       "       [0, 1, 0, 0, 0, 0],\n",
       "       [0, 0, 0, 1, 0, 0],\n",
       "       [0, 0, 0, 1, 0, 0],\n",
       "       [0, 0, 1, 0, 0, 0],\n",
       "       [0, 0, 0, 0, 1, 0],\n",
       "       [0, 0, 1, 0, 0, 0],\n",
       "       [0, 0, 0, 1, 0, 0],\n",
       "       [0, 0, 1, 0, 0, 0],\n",
       "       [0, 0, 0, 0, 1, 0],\n",
       "       [0, 0, 0, 1, 0, 0],\n",
       "       [0, 0, 0, 0, 0, 1],\n",
       "       [0, 0, 1, 0, 0, 0],\n",
       "       [0, 0, 1, 0, 0, 0],\n",
       "       [0, 0, 0, 0, 1, 0],\n",
       "       [0, 0, 0, 1, 0, 0],\n",
       "       [0, 0, 1, 0, 0, 0],\n",
       "       [0, 1, 0, 0, 0, 0],\n",
       "       [0, 0, 0, 1, 0, 0],\n",
       "       [0, 0, 1, 0, 0, 0],\n",
       "       [0, 0, 0, 0, 1, 0],\n",
       "       [0, 0, 1, 0, 0, 0],\n",
       "       [0, 0, 0, 0, 1, 0],\n",
       "       [0, 0, 0, 1, 0, 0],\n",
       "       [0, 0, 0, 1, 0, 0],\n",
       "       [0, 0, 0, 1, 0, 0],\n",
       "       [0, 0, 0, 0, 1, 0],\n",
       "       [0, 0, 0, 0, 1, 0],\n",
       "       [0, 0, 0, 0, 1, 0],\n",
       "       [0, 0, 0, 0, 1, 0]], dtype=uint8)"
      ]
     },
     "execution_count": 28,
     "metadata": {},
     "output_type": "execute_result"
    }
   ],
   "source": [
    "Y_test\n"
   ]
  },
  {
   "cell_type": "code",
   "execution_count": 29,
   "metadata": {},
   "outputs": [],
   "source": [
    "from sklearn import preprocessing\n",
    "lb = preprocessing.LabelBinarizer()\n",
    "y_test_binarize = lb.fit_transform(Y_test)"
   ]
  },
  {
   "cell_type": "code",
   "execution_count": 30,
   "metadata": {
    "scrolled": true
   },
   "outputs": [
    {
     "data": {
      "text/plain": [
       "array([[0, 0, 1, 0, 0, 0],\n",
       "       [0, 0, 0, 1, 0, 0],\n",
       "       [1, 0, 0, 0, 0, 0],\n",
       "       [0, 0, 0, 1, 0, 0],\n",
       "       [0, 0, 0, 1, 0, 0],\n",
       "       [0, 0, 0, 0, 1, 0],\n",
       "       [0, 0, 0, 1, 0, 0],\n",
       "       [0, 0, 0, 0, 1, 0],\n",
       "       [0, 0, 0, 1, 0, 0],\n",
       "       [0, 0, 0, 1, 0, 0],\n",
       "       [0, 0, 0, 0, 1, 0],\n",
       "       [0, 0, 1, 0, 0, 0],\n",
       "       [0, 0, 0, 0, 1, 0],\n",
       "       [0, 1, 0, 0, 0, 0],\n",
       "       [0, 0, 0, 0, 1, 0],\n",
       "       [0, 0, 0, 1, 0, 0],\n",
       "       [0, 0, 0, 1, 0, 0],\n",
       "       [0, 0, 0, 1, 0, 0],\n",
       "       [0, 0, 0, 0, 1, 0],\n",
       "       [0, 0, 0, 0, 1, 0],\n",
       "       [0, 1, 0, 0, 0, 0],\n",
       "       [0, 0, 1, 0, 0, 0],\n",
       "       [0, 0, 1, 0, 0, 0],\n",
       "       [0, 0, 1, 0, 0, 0],\n",
       "       [0, 0, 0, 1, 0, 0],\n",
       "       [1, 0, 0, 0, 0, 0],\n",
       "       [0, 0, 1, 0, 0, 0],\n",
       "       [0, 0, 1, 0, 0, 0],\n",
       "       [0, 0, 0, 0, 1, 0],\n",
       "       [0, 0, 0, 0, 1, 0],\n",
       "       [1, 0, 0, 0, 0, 0],\n",
       "       [0, 0, 1, 0, 0, 0],\n",
       "       [0, 1, 0, 0, 0, 0],\n",
       "       [0, 0, 0, 1, 0, 0],\n",
       "       [0, 0, 0, 1, 0, 0],\n",
       "       [0, 0, 1, 0, 0, 0],\n",
       "       [0, 0, 0, 1, 0, 0],\n",
       "       [0, 0, 0, 0, 1, 0],\n",
       "       [0, 0, 0, 1, 0, 0],\n",
       "       [0, 0, 1, 0, 0, 0],\n",
       "       [0, 0, 0, 1, 0, 0],\n",
       "       [0, 0, 0, 0, 1, 0],\n",
       "       [0, 0, 0, 0, 1, 0],\n",
       "       [0, 0, 0, 0, 0, 1],\n",
       "       [0, 0, 0, 1, 0, 0],\n",
       "       [0, 0, 1, 0, 0, 0],\n",
       "       [0, 0, 1, 0, 0, 0],\n",
       "       [0, 0, 1, 0, 0, 0],\n",
       "       [0, 0, 0, 0, 1, 0],\n",
       "       [0, 0, 1, 0, 0, 0],\n",
       "       [0, 0, 0, 1, 0, 0],\n",
       "       [1, 0, 0, 0, 0, 0],\n",
       "       [0, 0, 0, 1, 0, 0],\n",
       "       [0, 0, 1, 0, 0, 0],\n",
       "       [0, 0, 0, 1, 0, 0],\n",
       "       [0, 0, 0, 1, 0, 0],\n",
       "       [0, 0, 0, 1, 0, 0],\n",
       "       [0, 0, 0, 1, 0, 0],\n",
       "       [0, 0, 1, 0, 0, 0],\n",
       "       [0, 0, 1, 0, 0, 0],\n",
       "       [0, 1, 0, 0, 0, 0],\n",
       "       [0, 0, 0, 1, 0, 0],\n",
       "       [0, 0, 0, 1, 0, 0],\n",
       "       [0, 0, 1, 0, 0, 0],\n",
       "       [0, 0, 0, 0, 1, 0],\n",
       "       [0, 0, 1, 0, 0, 0],\n",
       "       [0, 0, 0, 1, 0, 0],\n",
       "       [0, 0, 1, 0, 0, 0],\n",
       "       [0, 0, 0, 0, 1, 0],\n",
       "       [0, 0, 0, 1, 0, 0],\n",
       "       [0, 0, 0, 0, 0, 1],\n",
       "       [0, 0, 1, 0, 0, 0],\n",
       "       [0, 0, 1, 0, 0, 0],\n",
       "       [0, 0, 0, 0, 1, 0],\n",
       "       [0, 0, 0, 1, 0, 0],\n",
       "       [0, 0, 1, 0, 0, 0],\n",
       "       [0, 1, 0, 0, 0, 0],\n",
       "       [0, 0, 0, 1, 0, 0],\n",
       "       [0, 0, 1, 0, 0, 0],\n",
       "       [0, 0, 0, 0, 1, 0],\n",
       "       [0, 0, 1, 0, 0, 0],\n",
       "       [0, 0, 0, 0, 1, 0],\n",
       "       [0, 0, 0, 1, 0, 0],\n",
       "       [0, 0, 0, 1, 0, 0],\n",
       "       [0, 0, 0, 1, 0, 0],\n",
       "       [0, 0, 0, 0, 1, 0],\n",
       "       [0, 0, 0, 0, 1, 0],\n",
       "       [0, 0, 0, 0, 1, 0],\n",
       "       [0, 0, 0, 0, 1, 0]])"
      ]
     },
     "execution_count": 30,
     "metadata": {},
     "output_type": "execute_result"
    }
   ],
   "source": [
    "y_test_normal = lb.inverse_transform(Y_test)\n",
    "y_test_normal"
   ]
  },
  {
   "cell_type": "code",
   "execution_count": 37,
   "metadata": {},
   "outputs": [],
   "source": [
    "from sklearn.metrics import confusion_matrix, classification_report"
   ]
  },
  {
   "cell_type": "code",
   "execution_count": 38,
   "metadata": {},
   "outputs": [
    {
     "name": "stderr",
     "output_type": "stream",
     "text": [
      "C:\\Users\\arisp\\anaconda3\\lib\\site-packages\\sklearn\\metrics\\_classification.py:1221: UndefinedMetricWarning: Precision and F-score are ill-defined and being set to 0.0 in labels with no predicted samples. Use `zero_division` parameter to control this behavior.\n",
      "  _warn_prf(average, modifier, msg_start, len(result))\n"
     ]
    },
    {
     "name": "stdout",
     "output_type": "stream",
     "text": [
      "              precision    recall  f1-score   support\n",
      "\n",
      "           0       0.00      0.00      0.00         4\n",
      "           1       0.00      0.00      0.00         5\n",
      "           2       0.63      0.96      0.76        25\n",
      "           3       0.96      0.87      0.92        31\n",
      "           4       0.91      0.95      0.93        22\n",
      "           5       0.00      0.00      0.00         2\n",
      "\n",
      "    accuracy                           0.81        89\n",
      "   macro avg       0.42      0.46      0.44        89\n",
      "weighted avg       0.74      0.81      0.76        89\n",
      "\n"
     ]
    }
   ],
   "source": [
    "print(classification_report(y_true=np.argmax(y_test_normal,axis = 1),\n",
    "                            y_pred=y_pred_class))"
   ]
  },
  {
   "cell_type": "code",
   "execution_count": 31,
   "metadata": {},
   "outputs": [],
   "source": [
    "def print_confusion_matrix(y_true,\n",
    "                           y_pred,\n",
    "                           class_names: List[str],\n",
    "                           figsize: Tuple[int, int] = (10, 7),\n",
    "                           fontsize: int = 14) -> pd.DataFrame:\n",
    "    \"\"\"\n",
    "    Prints a confusion matrix, as returned by sklearn.metrics.confusion_matrix, as a heat-map.\n",
    "\n",
    "    For something more extraordinary check this repo:\n",
    "    https://github.com/wcipriano/pretty-print-confusion-matrix\n",
    "\n",
    "\n",
    "    :param class_names:  An ordered list of class names\n",
    "    :param figsize: A 2-long tuple, the first value determining the horizontal size of the outputted\n",
    "                    figure, the second determining the vertical size. Defaults to (10,7).\n",
    "    :param fontsize: Font size for axes labels. Defaults to 14.\n",
    "    :return: The confusion matrix as a dataset\n",
    "    \"\"\"\n",
    "    conf_matrix = confusion_matrix(y_true=y_true, y_pred=y_pred)\n",
    "\n",
    "    df_cm = pd.DataFrame(conf_matrix, index=class_names, columns=class_names)\n",
    "\n",
    "    fig = plt.figure(figsize=figsize)\n",
    "\n",
    "    try:\n",
    "        heatmap = sns.heatmap(df_cm, annot=True, fmt=\"d\")\n",
    "\n",
    "    except ValueError:\n",
    "\n",
    "        raise ValueError(\"Confusion matrix values must be integers.\")\n",
    "\n",
    "    heatmap.yaxis.set_ticklabels(heatmap.yaxis.get_ticklabels(),\n",
    "                                 rotation=0,\n",
    "                                 ha='right',\n",
    "                                 fontsize=fontsize)\n",
    "\n",
    "    heatmap.xaxis.set_ticklabels(heatmap.xaxis.get_ticklabels(),\n",
    "                                 rotation=45,\n",
    "                                 ha='right',\n",
    "                                 fontsize=fontsize)\n",
    "\n",
    "    plt.ylabel('True label')\n",
    "    plt.xlabel('Predicted label')\n",
    "    plt.show()\n",
    "\n",
    "    return df_cm"
   ]
  },
  {
   "cell_type": "code",
   "execution_count": 34,
   "metadata": {},
   "outputs": [
    {
     "data": {
      "image/png": "[encoded data removed]",
      "text/plain": [
       "<Figure size 720x504 with 2 Axes>"
      ]
     },
     "metadata": {
      "needs_background": "light"
     },
     "output_type": "display_data"
    },
    {
     "data": {
      "text/html": [
       "<div>\n",
       "<style scoped>\n",
       "    .dataframe tbody tr th:only-of-type {\n",
       "        vertical-align: middle;\n",
       "    }\n",
       "\n",
       "    .dataframe tbody tr th {\n",
       "        vertical-align: top;\n",
       "    }\n",
       "\n",
       "    .dataframe thead th {\n",
       "        text-align: right;\n",
       "    }\n",
       "</style>\n",
       "<table border=\"1\" class=\"dataframe\">\n",
       "  <thead>\n",
       "    <tr style=\"text-align: right;\">\n",
       "      <th></th>\n",
       "      <th>SDG10</th>\n",
       "      <th>SDG12</th>\n",
       "      <th>SDG13</th>\n",
       "      <th>SDG3</th>\n",
       "      <th>SDG5</th>\n",
       "      <th>SDG7</th>\n",
       "    </tr>\n",
       "  </thead>\n",
       "  <tbody>\n",
       "    <tr>\n",
       "      <th>SDG10</th>\n",
       "      <td>0</td>\n",
       "      <td>0</td>\n",
       "      <td>4</td>\n",
       "      <td>0</td>\n",
       "      <td>0</td>\n",
       "      <td>0</td>\n",
       "    </tr>\n",
       "    <tr>\n",
       "      <th>SDG12</th>\n",
       "      <td>0</td>\n",
       "      <td>0</td>\n",
       "      <td>5</td>\n",
       "      <td>0</td>\n",
       "      <td>0</td>\n",
       "      <td>0</td>\n",
       "    </tr>\n",
       "    <tr>\n",
       "      <th>SDG13</th>\n",
       "      <td>0</td>\n",
       "      <td>0</td>\n",
       "      <td>24</td>\n",
       "      <td>0</td>\n",
       "      <td>1</td>\n",
       "      <td>0</td>\n",
       "    </tr>\n",
       "    <tr>\n",
       "      <th>SDG3</th>\n",
       "      <td>0</td>\n",
       "      <td>0</td>\n",
       "      <td>3</td>\n",
       "      <td>27</td>\n",
       "      <td>1</td>\n",
       "      <td>0</td>\n",
       "    </tr>\n",
       "    <tr>\n",
       "      <th>SDG5</th>\n",
       "      <td>0</td>\n",
       "      <td>0</td>\n",
       "      <td>0</td>\n",
       "      <td>1</td>\n",
       "      <td>21</td>\n",
       "      <td>0</td>\n",
       "    </tr>\n",
       "    <tr>\n",
       "      <th>SDG7</th>\n",
       "      <td>0</td>\n",
       "      <td>0</td>\n",
       "      <td>2</td>\n",
       "      <td>0</td>\n",
       "      <td>0</td>\n",
       "      <td>0</td>\n",
       "    </tr>\n",
       "  </tbody>\n",
       "</table>\n",
       "</div>"
      ],
      "text/plain": [
       "       SDG10  SDG12  SDG13  SDG3  SDG5  SDG7\n",
       "SDG10      0      0      4     0     0     0\n",
       "SDG12      0      0      5     0     0     0\n",
       "SDG13      0      0     24     0     1     0\n",
       "SDG3       0      0      3    27     1     0\n",
       "SDG5       0      0      0     1    21     0\n",
       "SDG7       0      0      2     0     0     0"
      ]
     },
     "execution_count": 34,
     "metadata": {},
     "output_type": "execute_result"
    }
   ],
   "source": [
    "import seaborn as sns\n",
    "\n",
    "print_confusion_matrix(y_true=np.argmax(y_test_normal,axis = 1),\n",
    "                           y_pred=y_pred_class,\n",
    "                           class_names=['SDG10', 'SDG12', 'SDG13', 'SDG3', 'SDG5', 'SDG7'])"
   ]
  },
  {
   "cell_type": "markdown",
   "metadata": {},
   "source": [
    "Test with a new title"
   ]
  },
  {
   "cell_type": "code",
   "execution_count": 35,
   "metadata": {},
   "outputs": [
    {
     "name": "stdout",
     "output_type": "stream",
     "text": [
      "SDG:  SDG13\n"
     ]
    }
   ],
   "source": [
    "new_title = ['The planet is warming, from North Pole to South Pole.']\n",
    "seq = tokenizer.texts_to_sequences(new_title)\n",
    "padded = pad_sequences(seq, maxlen=MAX_SEQUENCE_LENGTH)\n",
    "pred = model.predict(padded)\n",
    "labels = sdg_df.sdg.unique()\n",
    "#labels = sorted(set(sdg_df['sdg']), key=sdg_df['sdg'].index)\n",
    "print('SDG: ', labels[np.argmax(pred)])"
   ]
  },
  {
   "cell_type": "markdown",
   "metadata": {},
   "source": [
    "#### Save model and create model weights "
   ]
  },
  {
   "cell_type": "code",
   "execution_count": 36,
   "metadata": {},
   "outputs": [
    {
     "name": "stdout",
     "output_type": "stream",
     "text": [
      "WARNING:tensorflow:From C:\\Users\\arisp\\anaconda3\\lib\\site-packages\\tensorflow\\python\\training\\tracking\\tracking.py:111: Model.state_updates (from tensorflow.python.keras.engine.training) is deprecated and will be removed in a future version.\n",
      "Instructions for updating:\n",
      "This property should not be used in TensorFlow 2.0, as updates are applied automatically.\n",
      "WARNING:tensorflow:From C:\\Users\\arisp\\anaconda3\\lib\\site-packages\\tensorflow\\python\\training\\tracking\\tracking.py:111: Layer.updates (from tensorflow.python.keras.engine.base_layer) is deprecated and will be removed in a future version.\n",
      "Instructions for updating:\n",
      "This property should not be used in TensorFlow 2.0, as updates are applied automatically.\n",
      "INFO:tensorflow:Assets written to: C:\\Users\\arisp\\AppData\\Local\\Temp\\tmptcizmpft\\RNN_title_model_weights\\assets\n"
     ]
    }
   ],
   "source": [
    "import os\n",
    "import tempfile\n",
    "import tensorflow as tf\n",
    "\n",
    "tmpdir = tempfile.mkdtemp()\n",
    "\n",
    "title_save_path = os.path.join(tmpdir, \"RNN_title_model_weights\")\n",
    "tf.saved_model.save(model, title_save_path)"
   ]
  }
 ],
 "metadata": {
  "kernelspec": {
   "display_name": "Python 3",
   "language": "python",
   "name": "python3"
  },
  "language_info": {
   "codemirror_mode": {
    "name": "ipython",
    "version": 3
   },
   "file_extension": ".py",
   "mimetype": "text/x-python",
   "name": "python",
   "nbconvert_exporter": "python",
   "pygments_lexer": "ipython3",
   "version": "3.8.3"
  }
 },
 "nbformat": 4,
 "nbformat_minor": 4
}
