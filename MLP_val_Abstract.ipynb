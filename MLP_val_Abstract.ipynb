{
 "cells": [
  {
   "cell_type": "code",
   "execution_count": 1,
   "metadata": {},
   "outputs": [],
   "source": [
    "from __future__ import print_function\n",
    "\n",
    "import os\n",
    "import re\n",
    "import nltk\n",
    "import tarfile\n",
    "from pathlib import Path\n",
    "from time import time\n",
    "from functools import reduce\n",
    "from pprint import pprint\n",
    "from typing import List, Tuple\n",
    "\n",
    "import keras\n",
    "import numpy as np\n",
    "import pandas as pd\n",
    "\n",
    "from tensorflow.python.keras import layers\n",
    "from tensorflow.python.keras.layers import recurrent, Input, Embedding, RepeatVector, Dropout, Dense, LSTM\n",
    "from tensorflow.python.keras.models import Model\n",
    "from tensorflow.python.keras.preprocessing.text import Tokenizer\n",
    "from tensorflow.python.keras.preprocessing.sequence import pad_sequences\n",
    "from tensorflow.python.keras.utils.data_utils import get_file\n",
    "from tqdm import tqdm\n",
    "from tensorflow.python.keras.models import Sequential\n",
    "#by this option we disable the possibility of a bad dataframe representation\n",
    "pd.set_option('display.expand_frame_repr', False)"
   ]
  },
  {
   "cell_type": "code",
   "execution_count": 2,
   "metadata": {
    "scrolled": true
   },
   "outputs": [
    {
     "data": {
      "text/html": [
       "<div>\n",
       "<style scoped>\n",
       "    .dataframe tbody tr th:only-of-type {\n",
       "        vertical-align: middle;\n",
       "    }\n",
       "\n",
       "    .dataframe tbody tr th {\n",
       "        vertical-align: top;\n",
       "    }\n",
       "\n",
       "    .dataframe thead th {\n",
       "        text-align: right;\n",
       "    }\n",
       "</style>\n",
       "<table border=\"1\" class=\"dataframe\">\n",
       "  <thead>\n",
       "    <tr style=\"text-align: right;\">\n",
       "      <th></th>\n",
       "      <th>sdg</th>\n",
       "      <th>extracted_title</th>\n",
       "      <th>extracted_abstract</th>\n",
       "      <th>initial_text</th>\n",
       "    </tr>\n",
       "  </thead>\n",
       "  <tbody>\n",
       "    <tr>\n",
       "      <th>0</th>\n",
       "      <td>SDG10</td>\n",
       "      <td>trade liberalization policies aligned renewabl...</td>\n",
       "      <td>paper attempts empirically analyze compatibili...</td>\n",
       "      <td>trade liberalization policies aligned renewabl...</td>\n",
       "    </tr>\n",
       "    <tr>\n",
       "      <th>1</th>\n",
       "      <td>SDG10</td>\n",
       "      <td>oil prices macroeconomic factors policies affe...</td>\n",
       "      <td>aim determine nature relationship renewable en...</td>\n",
       "      <td>oil prices macroeconomic factors policies affe...</td>\n",
       "    </tr>\n",
       "    <tr>\n",
       "      <th>2</th>\n",
       "      <td>SDG10</td>\n",
       "      <td>energy consumption gdp revisited new panel app...</td>\n",
       "      <td>combines panel techniques wavelet spectral inv...</td>\n",
       "      <td>energy consumption gdp revisited new panel app...</td>\n",
       "    </tr>\n",
       "    <tr>\n",
       "      <th>3</th>\n",
       "      <td>SDG10</td>\n",
       "      <td>multiple perspective modeling simulation appro...</td>\n",
       "      <td>environmental issues dependence fossil fuel so...</td>\n",
       "      <td>multiple perspective modeling simulation appro...</td>\n",
       "    </tr>\n",
       "    <tr>\n",
       "      <th>4</th>\n",
       "      <td>SDG10</td>\n",
       "      <td>integrating blockchain technology energy secto...</td>\n",
       "      <td>blockchain technology ushering nothing short d...</td>\n",
       "      <td>integrating blockchain technology energy secto...</td>\n",
       "    </tr>\n",
       "    <tr>\n",
       "      <th>...</th>\n",
       "      <td>...</td>\n",
       "      <td>...</td>\n",
       "      <td>...</td>\n",
       "      <td>...</td>\n",
       "    </tr>\n",
       "    <tr>\n",
       "      <th>884</th>\n",
       "      <td>SDG7</td>\n",
       "      <td>africa sustainable energy goal focus access re...</td>\n",
       "      <td>sustainable development goal sdg focuses ensur...</td>\n",
       "      <td>africa sustainable energy goal focus access re...</td>\n",
       "    </tr>\n",
       "    <tr>\n",
       "      <th>885</th>\n",
       "      <td>SDG7</td>\n",
       "      <td>scalingup sustainable renewable energy generat...</td>\n",
       "      <td>three processes urbanization industrialization...</td>\n",
       "      <td>scalingup sustainable renewable energy generat...</td>\n",
       "    </tr>\n",
       "    <tr>\n",
       "      <th>886</th>\n",
       "      <td>SDG7</td>\n",
       "      <td>brief review application laser biotechnology e...</td>\n",
       "      <td>abstract bioenergy production biomass sources ...</td>\n",
       "      <td>brief review application laser biotechnology e...</td>\n",
       "    </tr>\n",
       "    <tr>\n",
       "      <th>887</th>\n",
       "      <td>SDG7</td>\n",
       "      <td>electric vehicles impacts integration power gr...</td>\n",
       "      <td>exponential rise electricity demand become pri...</td>\n",
       "      <td>electric vehicles impacts integration power gr...</td>\n",
       "    </tr>\n",
       "    <tr>\n",
       "      <th>888</th>\n",
       "      <td>SDG7</td>\n",
       "      <td>leading global energy environmental transforma...</td>\n",
       "      <td>recent years ten member countries association ...</td>\n",
       "      <td>leading global energy environmental transforma...</td>\n",
       "    </tr>\n",
       "  </tbody>\n",
       "</table>\n",
       "<p>889 rows × 4 columns</p>\n",
       "</div>"
      ],
      "text/plain": [
       "       sdg                                    extracted_title                                 extracted_abstract                                       initial_text\n",
       "0    SDG10  trade liberalization policies aligned renewabl...  paper attempts empirically analyze compatibili...  trade liberalization policies aligned renewabl...\n",
       "1    SDG10  oil prices macroeconomic factors policies affe...  aim determine nature relationship renewable en...  oil prices macroeconomic factors policies affe...\n",
       "2    SDG10  energy consumption gdp revisited new panel app...  combines panel techniques wavelet spectral inv...  energy consumption gdp revisited new panel app...\n",
       "3    SDG10  multiple perspective modeling simulation appro...  environmental issues dependence fossil fuel so...  multiple perspective modeling simulation appro...\n",
       "4    SDG10  integrating blockchain technology energy secto...  blockchain technology ushering nothing short d...  integrating blockchain technology energy secto...\n",
       "..     ...                                                ...                                                ...                                                ...\n",
       "884   SDG7  africa sustainable energy goal focus access re...  sustainable development goal sdg focuses ensur...  africa sustainable energy goal focus access re...\n",
       "885   SDG7  scalingup sustainable renewable energy generat...  three processes urbanization industrialization...  scalingup sustainable renewable energy generat...\n",
       "886   SDG7  brief review application laser biotechnology e...  abstract bioenergy production biomass sources ...  brief review application laser biotechnology e...\n",
       "887   SDG7  electric vehicles impacts integration power gr...  exponential rise electricity demand become pri...  electric vehicles impacts integration power gr...\n",
       "888   SDG7  leading global energy environmental transforma...  recent years ten member countries association ...  leading global energy environmental transforma...\n",
       "\n",
       "[889 rows x 4 columns]"
      ]
     },
     "execution_count": 2,
     "metadata": {},
     "output_type": "execute_result"
    }
   ],
   "source": [
    "#import the already preprocessed dataset \n",
    "sdg_df  = pd.read_csv('sdg_classification_data.csv')\n",
    "sdg_df"
   ]
  },
  {
   "cell_type": "code",
   "execution_count": 3,
   "metadata": {},
   "outputs": [
    {
     "data": {
      "text/html": [
       "<div>\n",
       "<style scoped>\n",
       "    .dataframe tbody tr th:only-of-type {\n",
       "        vertical-align: middle;\n",
       "    }\n",
       "\n",
       "    .dataframe tbody tr th {\n",
       "        vertical-align: top;\n",
       "    }\n",
       "\n",
       "    .dataframe thead th {\n",
       "        text-align: right;\n",
       "    }\n",
       "</style>\n",
       "<table border=\"1\" class=\"dataframe\">\n",
       "  <thead>\n",
       "    <tr style=\"text-align: right;\">\n",
       "      <th></th>\n",
       "      <th>sdg</th>\n",
       "      <th>extracted_title</th>\n",
       "      <th>extracted_abstract</th>\n",
       "      <th>initial_text</th>\n",
       "    </tr>\n",
       "  </thead>\n",
       "  <tbody>\n",
       "    <tr>\n",
       "      <th>0</th>\n",
       "      <td>SDG7</td>\n",
       "      <td>solid oxide fuel cell hybrid system detailed r...</td>\n",
       "      <td>paper reports review environmentally clean eff...</td>\n",
       "      <td>solid oxide fuel cell hybrid system detailed r...</td>\n",
       "    </tr>\n",
       "    <tr>\n",
       "      <th>1</th>\n",
       "      <td>SDG10</td>\n",
       "      <td>oil prices macroeconomic factors policies affe...</td>\n",
       "      <td>aim determine nature relationship renewable en...</td>\n",
       "      <td>oil prices macroeconomic factors policies affe...</td>\n",
       "    </tr>\n",
       "    <tr>\n",
       "      <th>2</th>\n",
       "      <td>SDG10</td>\n",
       "      <td>comprehensive indicator set measuring multiple...</td>\n",
       "      <td>paper develop quantitative indicator approach ...</td>\n",
       "      <td>comprehensive indicator set measuring multiple...</td>\n",
       "    </tr>\n",
       "    <tr>\n",
       "      <th>3</th>\n",
       "      <td>SDG10</td>\n",
       "      <td>foreign direct investment renewable energy cli...</td>\n",
       "      <td>climate change mitigation topical issue growin...</td>\n",
       "      <td>foreign direct investment renewable energy cli...</td>\n",
       "    </tr>\n",
       "    <tr>\n",
       "      <th>4</th>\n",
       "      <td>SDG10</td>\n",
       "      <td>energy storage multi energy systems local ener...</td>\n",
       "      <td>investigates district high capacity noncontrol...</td>\n",
       "      <td>energy storage multi energy systems local ener...</td>\n",
       "    </tr>\n",
       "    <tr>\n",
       "      <th>...</th>\n",
       "      <td>...</td>\n",
       "      <td>...</td>\n",
       "      <td>...</td>\n",
       "      <td>...</td>\n",
       "    </tr>\n",
       "    <tr>\n",
       "      <th>94</th>\n",
       "      <td>SDG13</td>\n",
       "      <td>dual stresses flooding agricultural land reduc...</td>\n",
       "      <td>global climate change leading significant incr...</td>\n",
       "      <td>dual stresses flooding agricultural land reduc...</td>\n",
       "    </tr>\n",
       "    <tr>\n",
       "      <th>95</th>\n",
       "      <td>SDG13</td>\n",
       "      <td>trend extreme rainfall events suitable global ...</td>\n",
       "      <td>kolkata metropolitan area kma one densely popu...</td>\n",
       "      <td>trend extreme rainfall events suitable global ...</td>\n",
       "    </tr>\n",
       "    <tr>\n",
       "      <th>96</th>\n",
       "      <td>SDG13</td>\n",
       "      <td>grounding line ice frontal position coastal ic...</td>\n",
       "      <td>past years satellite remote sensing captured s...</td>\n",
       "      <td>grounding line ice frontal position coastal ic...</td>\n",
       "    </tr>\n",
       "    <tr>\n",
       "      <th>97</th>\n",
       "      <td>SDG13</td>\n",
       "      <td>environment stupid values motivations routes e...</td>\n",
       "      <td>exploratory mixedmethods indepth interviews in...</td>\n",
       "      <td>environment stupid values motivations routes e...</td>\n",
       "    </tr>\n",
       "    <tr>\n",
       "      <th>98</th>\n",
       "      <td>SDG13</td>\n",
       "      <td>visual method identify significant latitudinal...</td>\n",
       "      <td>many studies shown recent climateinduced chang...</td>\n",
       "      <td>visual method identify significant latitudinal...</td>\n",
       "    </tr>\n",
       "  </tbody>\n",
       "</table>\n",
       "<p>99 rows × 4 columns</p>\n",
       "</div>"
      ],
      "text/plain": [
       "      sdg                                    extracted_title                                 extracted_abstract                                       initial_text\n",
       "0    SDG7  solid oxide fuel cell hybrid system detailed r...  paper reports review environmentally clean eff...  solid oxide fuel cell hybrid system detailed r...\n",
       "1   SDG10  oil prices macroeconomic factors policies affe...  aim determine nature relationship renewable en...  oil prices macroeconomic factors policies affe...\n",
       "2   SDG10  comprehensive indicator set measuring multiple...  paper develop quantitative indicator approach ...  comprehensive indicator set measuring multiple...\n",
       "3   SDG10  foreign direct investment renewable energy cli...  climate change mitigation topical issue growin...  foreign direct investment renewable energy cli...\n",
       "4   SDG10  energy storage multi energy systems local ener...  investigates district high capacity noncontrol...  energy storage multi energy systems local ener...\n",
       "..    ...                                                ...                                                ...                                                ...\n",
       "94  SDG13  dual stresses flooding agricultural land reduc...  global climate change leading significant incr...  dual stresses flooding agricultural land reduc...\n",
       "95  SDG13  trend extreme rainfall events suitable global ...  kolkata metropolitan area kma one densely popu...  trend extreme rainfall events suitable global ...\n",
       "96  SDG13  grounding line ice frontal position coastal ic...  past years satellite remote sensing captured s...  grounding line ice frontal position coastal ic...\n",
       "97  SDG13  environment stupid values motivations routes e...  exploratory mixedmethods indepth interviews in...  environment stupid values motivations routes e...\n",
       "98  SDG13  visual method identify significant latitudinal...  many studies shown recent climateinduced chang...  visual method identify significant latitudinal...\n",
       "\n",
       "[99 rows x 4 columns]"
      ]
     },
     "execution_count": 3,
     "metadata": {},
     "output_type": "execute_result"
    }
   ],
   "source": [
    "#import the validation dataset given by Mr. Fergadis\n",
    "validation_df = pd.read_csv('validation_dataset_v2.csv')\n",
    "validation_df"
   ]
  },
  {
   "cell_type": "code",
   "execution_count": 4,
   "metadata": {},
   "outputs": [],
   "source": [
    "from sklearn.preprocessing import OneHotEncoder\n",
    "\n",
    "# splitting in train-validation-test sets in a stratified manner.\n",
    "from sklearn.model_selection import StratifiedShuffleSplit"
   ]
  },
  {
   "cell_type": "code",
   "execution_count": 5,
   "metadata": {},
   "outputs": [
    {
     "data": {
      "text/plain": [
       "0    paper attempts empirically analyze compatibili...\n",
       "1    aim determine nature relationship renewable en...\n",
       "2    combines panel techniques wavelet spectral inv...\n",
       "3    environmental issues dependence fossil fuel so...\n",
       "4    blockchain technology ushering nothing short d...\n",
       "5    paper estimates impact renewable energy econom...\n",
       "6    increasing concerns environmental economic imp...\n",
       "7    account continuously increasing electricity co...\n",
       "8    paper aims analyze interaction renewable energ...\n",
       "9    middle east north africa mena countries recent...\n",
       "Name: extracted_abstract, dtype: object"
      ]
     },
     "execution_count": 5,
     "metadata": {},
     "output_type": "execute_result"
    }
   ],
   "source": [
    "# The raw input (Title)\n",
    "X = sdg_df['extracted_abstract']\n",
    "X_val = validation_df['extracted_abstract']\n",
    "\n",
    "X.head(10)"
   ]
  },
  {
   "cell_type": "code",
   "execution_count": 6,
   "metadata": {},
   "outputs": [
    {
     "data": {
      "text/plain": [
       "0    SDG10\n",
       "1    SDG10\n",
       "2    SDG10\n",
       "3    SDG10\n",
       "4    SDG10\n",
       "5    SDG10\n",
       "6    SDG10\n",
       "7    SDG10\n",
       "8    SDG10\n",
       "9    SDG10\n",
       "Name: sdg, dtype: object"
      ]
     },
     "execution_count": 6,
     "metadata": {},
     "output_type": "execute_result"
    }
   ],
   "source": [
    "# The raw output (lyricists)\n",
    "y = sdg_df['sdg']\n",
    "y_val = validation_df['sdg']\n",
    "\n",
    "y.head(10)"
   ]
  },
  {
   "cell_type": "code",
   "execution_count": 7,
   "metadata": {},
   "outputs": [
    {
     "data": {
      "text/plain": [
       "StratifiedShuffleSplit(n_splits=5, random_state=0, test_size=0.2,\n",
       "            train_size=None)"
      ]
     },
     "execution_count": 7,
     "metadata": {},
     "output_type": "execute_result"
    }
   ],
   "source": [
    "# We will use this object to split the Train dataset in Train and Validation in a stratified manner.\n",
    "\n",
    "val_sss = StratifiedShuffleSplit(n_splits=5, test_size=0.2, random_state=0)\n",
    "val_sss"
   ]
  },
  {
   "cell_type": "code",
   "execution_count": 8,
   "metadata": {},
   "outputs": [
    {
     "name": "stdout",
     "output_type": "stream",
     "text": [
      "TRAIN-VAL: [235 643 578 605 356 284 587   4  79   1] TEST: [117 257 454 418 396 495   3 724 504  36]\n",
      "TRAIN-VAL: [576 649  70 549 246 131 712 651 391 497] TEST: [431 823 454 861 168 691 332 658 386  72]\n",
      "TRAIN-VAL: [551 283  24 235 794 434 594 624 188 835] TEST: [262 641 117 533  10 767 230 462 768 517]\n",
      "TRAIN-VAL: [292 745 672 740  16 376 398 774 632 457] TEST: [198 720 644 440 293 599 693  22 799 625]\n",
      "TRAIN-VAL: [ 53 433 231 437 190 762 362 761 169 530] TEST: [545 764 741 109 666 661 712 445 600 167]\n"
     ]
    }
   ],
   "source": [
    "X_train, X_test, y_train, y_test = None, None, None, None\n",
    "\n",
    "# getting the indexes for each dataset\n",
    "for train_index, test_index in val_sss.split(X, y):\n",
    "    \n",
    "    print(\"TRAIN-VAL:\", train_index[:10], \"TEST:\", test_index[:10])\n",
    "    \n",
    "    X_train, X_test = X[train_index], X[test_index]\n",
    "    y_train, y_test = y[train_index], y[test_index]"
   ]
  },
  {
   "cell_type": "code",
   "execution_count": 9,
   "metadata": {},
   "outputs": [
    {
     "data": {
      "text/plain": [
       "53     energy transitions aim economic prosperity gre...\n",
       "433    objective research advance evaluation monetiza...\n",
       "231    abstract satellite show increasing leaf area v...\n",
       "437    purpose although quality life qol improves tim...\n",
       "190    abstract per mille soils food security climate...\n",
       "Name: extracted_abstract, dtype: object"
      ]
     },
     "execution_count": 9,
     "metadata": {},
     "output_type": "execute_result"
    }
   ],
   "source": [
    "# check here the indexes. \n",
    "X_train.head()"
   ]
  },
  {
   "cell_type": "code",
   "execution_count": 10,
   "metadata": {},
   "outputs": [
    {
     "data": {
      "text/plain": [
       "53     SDG12\n",
       "433     SDG3\n",
       "231    SDG13\n",
       "437     SDG3\n",
       "190    SDG13\n",
       "762     SDG5\n",
       "362     SDG3\n",
       "761     SDG5\n",
       "169    SDG13\n",
       "530     SDG3\n",
       "Name: sdg, dtype: object"
      ]
     },
     "execution_count": 10,
     "metadata": {},
     "output_type": "execute_result"
    }
   ],
   "source": [
    "y_train.head(10)"
   ]
  },
  {
   "cell_type": "code",
   "execution_count": 11,
   "metadata": {},
   "outputs": [],
   "source": [
    "# We reset the indexes for both the X-train-val and y-train-val in order to break them \n",
    "# again into two subsets.\n",
    "X_train = X_train.reset_index(drop=True)\n",
    "y_train = y_train.reset_index(drop=True)"
   ]
  },
  {
   "cell_type": "code",
   "execution_count": 12,
   "metadata": {},
   "outputs": [
    {
     "name": "stdout",
     "output_type": "stream",
     "text": [
      "X_train shape: (711,)\n",
      "y_train shape: (711,)\n",
      "\n",
      "X_val shape: (99,)\n",
      "y_val shape: (99,)\n",
      "\n",
      "X_test shape: (178,)\n",
      "y_test shape: (178,)\n"
     ]
    }
   ],
   "source": [
    "print('X_train shape: {}'.format(X_train.shape))\n",
    "print('y_train shape: {}'.format(y_train.shape))\n",
    "print()\n",
    "\n",
    "print('X_val shape: {}'.format(X_val.shape))\n",
    "print('y_val shape: {}'.format(y_val.shape))\n",
    "\n",
    "print()\n",
    "print('X_test shape: {}'.format(X_test.shape))\n",
    "print('y_test shape: {}'.format(y_test.shape))"
   ]
  },
  {
   "cell_type": "code",
   "execution_count": 13,
   "metadata": {},
   "outputs": [],
   "source": [
    "# Encoding the labels using a One-Hot Encoder\n",
    "y_enc = OneHotEncoder(sparse=False)"
   ]
  },
  {
   "cell_type": "code",
   "execution_count": 14,
   "metadata": {},
   "outputs": [
    {
     "data": {
      "text/plain": [
       "array([[0., 1., 0., 0., 0., 0.],\n",
       "       [0., 0., 0., 1., 0., 0.],\n",
       "       [0., 0., 1., 0., 0., 0.],\n",
       "       ...,\n",
       "       [0., 0., 0., 1., 0., 0.],\n",
       "       [0., 0., 0., 1., 0., 0.],\n",
       "       [0., 0., 1., 0., 0., 0.]])"
      ]
     },
     "execution_count": 14,
     "metadata": {},
     "output_type": "execute_result"
    }
   ],
   "source": [
    "# At first we run fit_transform on the Training data\n",
    "y_train_enc = y_enc.fit_transform(y_train.values.reshape(-1, 1))\n",
    "y_train_enc\n"
   ]
  },
  {
   "cell_type": "code",
   "execution_count": 15,
   "metadata": {},
   "outputs": [],
   "source": [
    "# Then we use the fitted One-hot-Encoder to transform the rest of the data\n",
    "y_val_enc = y_enc.transform(y_val.values.reshape(-1, 1))\n",
    "\n",
    "y_test_enc = y_enc.transform(y_test.values.reshape(-1, 1))"
   ]
  },
  {
   "cell_type": "code",
   "execution_count": 16,
   "metadata": {},
   "outputs": [
    {
     "name": "stdout",
     "output_type": "stream",
     "text": [
      "y_train shape: (711, 6)\n",
      "y_val shape: (99, 6)\n",
      "y_test shape: (178, 6)\n"
     ]
    }
   ],
   "source": [
    "print('y_train shape: {}'.format(y_train_enc.shape))\n",
    "print('y_val shape: {}'.format(y_val_enc.shape))\n",
    "print('y_test shape: {}'.format(y_test_enc.shape))"
   ]
  },
  {
   "cell_type": "code",
   "execution_count": 17,
   "metadata": {},
   "outputs": [
    {
     "data": {
      "text/plain": [
       "[array(['SDG10', 'SDG12', 'SDG13', 'SDG3', 'SDG5', 'SDG7'], dtype=object)]"
      ]
     },
     "execution_count": 17,
     "metadata": {},
     "output_type": "execute_result"
    }
   ],
   "source": [
    "# The categories that we obtained by the Encoder\n",
    "y_enc.categories_"
   ]
  },
  {
   "cell_type": "code",
   "execution_count": 18,
   "metadata": {},
   "outputs": [
    {
     "data": {
      "text/html": [
       "<div>\n",
       "<style scoped>\n",
       "    .dataframe tbody tr th:only-of-type {\n",
       "        vertical-align: middle;\n",
       "    }\n",
       "\n",
       "    .dataframe tbody tr th {\n",
       "        vertical-align: top;\n",
       "    }\n",
       "\n",
       "    .dataframe thead th {\n",
       "        text-align: right;\n",
       "    }\n",
       "</style>\n",
       "<table border=\"1\" class=\"dataframe\">\n",
       "  <thead>\n",
       "    <tr style=\"text-align: right;\">\n",
       "      <th></th>\n",
       "      <th>SDG10</th>\n",
       "      <th>SDG12</th>\n",
       "      <th>SDG13</th>\n",
       "      <th>SDG3</th>\n",
       "      <th>SDG5</th>\n",
       "      <th>SDG7</th>\n",
       "    </tr>\n",
       "  </thead>\n",
       "  <tbody>\n",
       "    <tr>\n",
       "      <th>0</th>\n",
       "      <td>0.0</td>\n",
       "      <td>1.0</td>\n",
       "      <td>0.0</td>\n",
       "      <td>0.0</td>\n",
       "      <td>0.0</td>\n",
       "      <td>0.0</td>\n",
       "    </tr>\n",
       "    <tr>\n",
       "      <th>1</th>\n",
       "      <td>0.0</td>\n",
       "      <td>0.0</td>\n",
       "      <td>0.0</td>\n",
       "      <td>1.0</td>\n",
       "      <td>0.0</td>\n",
       "      <td>0.0</td>\n",
       "    </tr>\n",
       "    <tr>\n",
       "      <th>2</th>\n",
       "      <td>0.0</td>\n",
       "      <td>0.0</td>\n",
       "      <td>1.0</td>\n",
       "      <td>0.0</td>\n",
       "      <td>0.0</td>\n",
       "      <td>0.0</td>\n",
       "    </tr>\n",
       "    <tr>\n",
       "      <th>3</th>\n",
       "      <td>0.0</td>\n",
       "      <td>0.0</td>\n",
       "      <td>0.0</td>\n",
       "      <td>1.0</td>\n",
       "      <td>0.0</td>\n",
       "      <td>0.0</td>\n",
       "    </tr>\n",
       "    <tr>\n",
       "      <th>4</th>\n",
       "      <td>0.0</td>\n",
       "      <td>0.0</td>\n",
       "      <td>1.0</td>\n",
       "      <td>0.0</td>\n",
       "      <td>0.0</td>\n",
       "      <td>0.0</td>\n",
       "    </tr>\n",
       "    <tr>\n",
       "      <th>5</th>\n",
       "      <td>0.0</td>\n",
       "      <td>0.0</td>\n",
       "      <td>0.0</td>\n",
       "      <td>0.0</td>\n",
       "      <td>1.0</td>\n",
       "      <td>0.0</td>\n",
       "    </tr>\n",
       "    <tr>\n",
       "      <th>6</th>\n",
       "      <td>0.0</td>\n",
       "      <td>0.0</td>\n",
       "      <td>0.0</td>\n",
       "      <td>1.0</td>\n",
       "      <td>0.0</td>\n",
       "      <td>0.0</td>\n",
       "    </tr>\n",
       "    <tr>\n",
       "      <th>7</th>\n",
       "      <td>0.0</td>\n",
       "      <td>0.0</td>\n",
       "      <td>0.0</td>\n",
       "      <td>0.0</td>\n",
       "      <td>1.0</td>\n",
       "      <td>0.0</td>\n",
       "    </tr>\n",
       "    <tr>\n",
       "      <th>8</th>\n",
       "      <td>0.0</td>\n",
       "      <td>0.0</td>\n",
       "      <td>1.0</td>\n",
       "      <td>0.0</td>\n",
       "      <td>0.0</td>\n",
       "      <td>0.0</td>\n",
       "    </tr>\n",
       "    <tr>\n",
       "      <th>9</th>\n",
       "      <td>0.0</td>\n",
       "      <td>0.0</td>\n",
       "      <td>0.0</td>\n",
       "      <td>1.0</td>\n",
       "      <td>0.0</td>\n",
       "      <td>0.0</td>\n",
       "    </tr>\n",
       "  </tbody>\n",
       "</table>\n",
       "</div>"
      ],
      "text/plain": [
       "   SDG10  SDG12  SDG13  SDG3  SDG5  SDG7\n",
       "0    0.0    1.0    0.0   0.0   0.0   0.0\n",
       "1    0.0    0.0    0.0   1.0   0.0   0.0\n",
       "2    0.0    0.0    1.0   0.0   0.0   0.0\n",
       "3    0.0    0.0    0.0   1.0   0.0   0.0\n",
       "4    0.0    0.0    1.0   0.0   0.0   0.0\n",
       "5    0.0    0.0    0.0   0.0   1.0   0.0\n",
       "6    0.0    0.0    0.0   1.0   0.0   0.0\n",
       "7    0.0    0.0    0.0   0.0   1.0   0.0\n",
       "8    0.0    0.0    1.0   0.0   0.0   0.0\n",
       "9    0.0    0.0    0.0   1.0   0.0   0.0"
      ]
     },
     "execution_count": 18,
     "metadata": {},
     "output_type": "execute_result"
    }
   ],
   "source": [
    "# What the aforementioned code did:\n",
    "temp = pd.DataFrame(y_train_enc)\n",
    "temp.columns = list(y_enc.categories_[0])\n",
    "temp.head(10)"
   ]
  },
  {
   "cell_type": "code",
   "execution_count": 19,
   "metadata": {},
   "outputs": [
    {
     "data": {
      "text/html": [
       "<style  type=\"text/css\" >\n",
       "    #T_1ae3f2ba_10aa_11eb_bb45_485f99a6d8acrow0_col1 {\n",
       "            background-color:  yellow;\n",
       "        }    #T_1ae3f2ba_10aa_11eb_bb45_485f99a6d8acrow1_col3 {\n",
       "            background-color:  yellow;\n",
       "        }    #T_1ae3f2ba_10aa_11eb_bb45_485f99a6d8acrow2_col2 {\n",
       "            background-color:  yellow;\n",
       "        }    #T_1ae3f2ba_10aa_11eb_bb45_485f99a6d8acrow3_col3 {\n",
       "            background-color:  yellow;\n",
       "        }    #T_1ae3f2ba_10aa_11eb_bb45_485f99a6d8acrow4_col2 {\n",
       "            background-color:  yellow;\n",
       "        }    #T_1ae3f2ba_10aa_11eb_bb45_485f99a6d8acrow5_col4 {\n",
       "            background-color:  yellow;\n",
       "        }    #T_1ae3f2ba_10aa_11eb_bb45_485f99a6d8acrow6_col3 {\n",
       "            background-color:  yellow;\n",
       "        }    #T_1ae3f2ba_10aa_11eb_bb45_485f99a6d8acrow7_col4 {\n",
       "            background-color:  yellow;\n",
       "        }    #T_1ae3f2ba_10aa_11eb_bb45_485f99a6d8acrow8_col2 {\n",
       "            background-color:  yellow;\n",
       "        }    #T_1ae3f2ba_10aa_11eb_bb45_485f99a6d8acrow9_col3 {\n",
       "            background-color:  yellow;\n",
       "        }</style><table id=\"T_1ae3f2ba_10aa_11eb_bb45_485f99a6d8ac\" ><thead>    <tr>        <th class=\"blank level0\" ></th>        <th class=\"col_heading level0 col0\" >SDG10</th>        <th class=\"col_heading level0 col1\" >SDG12</th>        <th class=\"col_heading level0 col2\" >SDG13</th>        <th class=\"col_heading level0 col3\" >SDG3</th>        <th class=\"col_heading level0 col4\" >SDG5</th>        <th class=\"col_heading level0 col5\" >SDG7</th>    </tr></thead><tbody>\n",
       "                <tr>\n",
       "                        <th id=\"T_1ae3f2ba_10aa_11eb_bb45_485f99a6d8aclevel0_row0\" class=\"row_heading level0 row0\" >0</th>\n",
       "                        <td id=\"T_1ae3f2ba_10aa_11eb_bb45_485f99a6d8acrow0_col0\" class=\"data row0 col0\" >0.000000</td>\n",
       "                        <td id=\"T_1ae3f2ba_10aa_11eb_bb45_485f99a6d8acrow0_col1\" class=\"data row0 col1\" >1.000000</td>\n",
       "                        <td id=\"T_1ae3f2ba_10aa_11eb_bb45_485f99a6d8acrow0_col2\" class=\"data row0 col2\" >0.000000</td>\n",
       "                        <td id=\"T_1ae3f2ba_10aa_11eb_bb45_485f99a6d8acrow0_col3\" class=\"data row0 col3\" >0.000000</td>\n",
       "                        <td id=\"T_1ae3f2ba_10aa_11eb_bb45_485f99a6d8acrow0_col4\" class=\"data row0 col4\" >0.000000</td>\n",
       "                        <td id=\"T_1ae3f2ba_10aa_11eb_bb45_485f99a6d8acrow0_col5\" class=\"data row0 col5\" >0.000000</td>\n",
       "            </tr>\n",
       "            <tr>\n",
       "                        <th id=\"T_1ae3f2ba_10aa_11eb_bb45_485f99a6d8aclevel0_row1\" class=\"row_heading level0 row1\" >1</th>\n",
       "                        <td id=\"T_1ae3f2ba_10aa_11eb_bb45_485f99a6d8acrow1_col0\" class=\"data row1 col0\" >0.000000</td>\n",
       "                        <td id=\"T_1ae3f2ba_10aa_11eb_bb45_485f99a6d8acrow1_col1\" class=\"data row1 col1\" >0.000000</td>\n",
       "                        <td id=\"T_1ae3f2ba_10aa_11eb_bb45_485f99a6d8acrow1_col2\" class=\"data row1 col2\" >0.000000</td>\n",
       "                        <td id=\"T_1ae3f2ba_10aa_11eb_bb45_485f99a6d8acrow1_col3\" class=\"data row1 col3\" >1.000000</td>\n",
       "                        <td id=\"T_1ae3f2ba_10aa_11eb_bb45_485f99a6d8acrow1_col4\" class=\"data row1 col4\" >0.000000</td>\n",
       "                        <td id=\"T_1ae3f2ba_10aa_11eb_bb45_485f99a6d8acrow1_col5\" class=\"data row1 col5\" >0.000000</td>\n",
       "            </tr>\n",
       "            <tr>\n",
       "                        <th id=\"T_1ae3f2ba_10aa_11eb_bb45_485f99a6d8aclevel0_row2\" class=\"row_heading level0 row2\" >2</th>\n",
       "                        <td id=\"T_1ae3f2ba_10aa_11eb_bb45_485f99a6d8acrow2_col0\" class=\"data row2 col0\" >0.000000</td>\n",
       "                        <td id=\"T_1ae3f2ba_10aa_11eb_bb45_485f99a6d8acrow2_col1\" class=\"data row2 col1\" >0.000000</td>\n",
       "                        <td id=\"T_1ae3f2ba_10aa_11eb_bb45_485f99a6d8acrow2_col2\" class=\"data row2 col2\" >1.000000</td>\n",
       "                        <td id=\"T_1ae3f2ba_10aa_11eb_bb45_485f99a6d8acrow2_col3\" class=\"data row2 col3\" >0.000000</td>\n",
       "                        <td id=\"T_1ae3f2ba_10aa_11eb_bb45_485f99a6d8acrow2_col4\" class=\"data row2 col4\" >0.000000</td>\n",
       "                        <td id=\"T_1ae3f2ba_10aa_11eb_bb45_485f99a6d8acrow2_col5\" class=\"data row2 col5\" >0.000000</td>\n",
       "            </tr>\n",
       "            <tr>\n",
       "                        <th id=\"T_1ae3f2ba_10aa_11eb_bb45_485f99a6d8aclevel0_row3\" class=\"row_heading level0 row3\" >3</th>\n",
       "                        <td id=\"T_1ae3f2ba_10aa_11eb_bb45_485f99a6d8acrow3_col0\" class=\"data row3 col0\" >0.000000</td>\n",
       "                        <td id=\"T_1ae3f2ba_10aa_11eb_bb45_485f99a6d8acrow3_col1\" class=\"data row3 col1\" >0.000000</td>\n",
       "                        <td id=\"T_1ae3f2ba_10aa_11eb_bb45_485f99a6d8acrow3_col2\" class=\"data row3 col2\" >0.000000</td>\n",
       "                        <td id=\"T_1ae3f2ba_10aa_11eb_bb45_485f99a6d8acrow3_col3\" class=\"data row3 col3\" >1.000000</td>\n",
       "                        <td id=\"T_1ae3f2ba_10aa_11eb_bb45_485f99a6d8acrow3_col4\" class=\"data row3 col4\" >0.000000</td>\n",
       "                        <td id=\"T_1ae3f2ba_10aa_11eb_bb45_485f99a6d8acrow3_col5\" class=\"data row3 col5\" >0.000000</td>\n",
       "            </tr>\n",
       "            <tr>\n",
       "                        <th id=\"T_1ae3f2ba_10aa_11eb_bb45_485f99a6d8aclevel0_row4\" class=\"row_heading level0 row4\" >4</th>\n",
       "                        <td id=\"T_1ae3f2ba_10aa_11eb_bb45_485f99a6d8acrow4_col0\" class=\"data row4 col0\" >0.000000</td>\n",
       "                        <td id=\"T_1ae3f2ba_10aa_11eb_bb45_485f99a6d8acrow4_col1\" class=\"data row4 col1\" >0.000000</td>\n",
       "                        <td id=\"T_1ae3f2ba_10aa_11eb_bb45_485f99a6d8acrow4_col2\" class=\"data row4 col2\" >1.000000</td>\n",
       "                        <td id=\"T_1ae3f2ba_10aa_11eb_bb45_485f99a6d8acrow4_col3\" class=\"data row4 col3\" >0.000000</td>\n",
       "                        <td id=\"T_1ae3f2ba_10aa_11eb_bb45_485f99a6d8acrow4_col4\" class=\"data row4 col4\" >0.000000</td>\n",
       "                        <td id=\"T_1ae3f2ba_10aa_11eb_bb45_485f99a6d8acrow4_col5\" class=\"data row4 col5\" >0.000000</td>\n",
       "            </tr>\n",
       "            <tr>\n",
       "                        <th id=\"T_1ae3f2ba_10aa_11eb_bb45_485f99a6d8aclevel0_row5\" class=\"row_heading level0 row5\" >5</th>\n",
       "                        <td id=\"T_1ae3f2ba_10aa_11eb_bb45_485f99a6d8acrow5_col0\" class=\"data row5 col0\" >0.000000</td>\n",
       "                        <td id=\"T_1ae3f2ba_10aa_11eb_bb45_485f99a6d8acrow5_col1\" class=\"data row5 col1\" >0.000000</td>\n",
       "                        <td id=\"T_1ae3f2ba_10aa_11eb_bb45_485f99a6d8acrow5_col2\" class=\"data row5 col2\" >0.000000</td>\n",
       "                        <td id=\"T_1ae3f2ba_10aa_11eb_bb45_485f99a6d8acrow5_col3\" class=\"data row5 col3\" >0.000000</td>\n",
       "                        <td id=\"T_1ae3f2ba_10aa_11eb_bb45_485f99a6d8acrow5_col4\" class=\"data row5 col4\" >1.000000</td>\n",
       "                        <td id=\"T_1ae3f2ba_10aa_11eb_bb45_485f99a6d8acrow5_col5\" class=\"data row5 col5\" >0.000000</td>\n",
       "            </tr>\n",
       "            <tr>\n",
       "                        <th id=\"T_1ae3f2ba_10aa_11eb_bb45_485f99a6d8aclevel0_row6\" class=\"row_heading level0 row6\" >6</th>\n",
       "                        <td id=\"T_1ae3f2ba_10aa_11eb_bb45_485f99a6d8acrow6_col0\" class=\"data row6 col0\" >0.000000</td>\n",
       "                        <td id=\"T_1ae3f2ba_10aa_11eb_bb45_485f99a6d8acrow6_col1\" class=\"data row6 col1\" >0.000000</td>\n",
       "                        <td id=\"T_1ae3f2ba_10aa_11eb_bb45_485f99a6d8acrow6_col2\" class=\"data row6 col2\" >0.000000</td>\n",
       "                        <td id=\"T_1ae3f2ba_10aa_11eb_bb45_485f99a6d8acrow6_col3\" class=\"data row6 col3\" >1.000000</td>\n",
       "                        <td id=\"T_1ae3f2ba_10aa_11eb_bb45_485f99a6d8acrow6_col4\" class=\"data row6 col4\" >0.000000</td>\n",
       "                        <td id=\"T_1ae3f2ba_10aa_11eb_bb45_485f99a6d8acrow6_col5\" class=\"data row6 col5\" >0.000000</td>\n",
       "            </tr>\n",
       "            <tr>\n",
       "                        <th id=\"T_1ae3f2ba_10aa_11eb_bb45_485f99a6d8aclevel0_row7\" class=\"row_heading level0 row7\" >7</th>\n",
       "                        <td id=\"T_1ae3f2ba_10aa_11eb_bb45_485f99a6d8acrow7_col0\" class=\"data row7 col0\" >0.000000</td>\n",
       "                        <td id=\"T_1ae3f2ba_10aa_11eb_bb45_485f99a6d8acrow7_col1\" class=\"data row7 col1\" >0.000000</td>\n",
       "                        <td id=\"T_1ae3f2ba_10aa_11eb_bb45_485f99a6d8acrow7_col2\" class=\"data row7 col2\" >0.000000</td>\n",
       "                        <td id=\"T_1ae3f2ba_10aa_11eb_bb45_485f99a6d8acrow7_col3\" class=\"data row7 col3\" >0.000000</td>\n",
       "                        <td id=\"T_1ae3f2ba_10aa_11eb_bb45_485f99a6d8acrow7_col4\" class=\"data row7 col4\" >1.000000</td>\n",
       "                        <td id=\"T_1ae3f2ba_10aa_11eb_bb45_485f99a6d8acrow7_col5\" class=\"data row7 col5\" >0.000000</td>\n",
       "            </tr>\n",
       "            <tr>\n",
       "                        <th id=\"T_1ae3f2ba_10aa_11eb_bb45_485f99a6d8aclevel0_row8\" class=\"row_heading level0 row8\" >8</th>\n",
       "                        <td id=\"T_1ae3f2ba_10aa_11eb_bb45_485f99a6d8acrow8_col0\" class=\"data row8 col0\" >0.000000</td>\n",
       "                        <td id=\"T_1ae3f2ba_10aa_11eb_bb45_485f99a6d8acrow8_col1\" class=\"data row8 col1\" >0.000000</td>\n",
       "                        <td id=\"T_1ae3f2ba_10aa_11eb_bb45_485f99a6d8acrow8_col2\" class=\"data row8 col2\" >1.000000</td>\n",
       "                        <td id=\"T_1ae3f2ba_10aa_11eb_bb45_485f99a6d8acrow8_col3\" class=\"data row8 col3\" >0.000000</td>\n",
       "                        <td id=\"T_1ae3f2ba_10aa_11eb_bb45_485f99a6d8acrow8_col4\" class=\"data row8 col4\" >0.000000</td>\n",
       "                        <td id=\"T_1ae3f2ba_10aa_11eb_bb45_485f99a6d8acrow8_col5\" class=\"data row8 col5\" >0.000000</td>\n",
       "            </tr>\n",
       "            <tr>\n",
       "                        <th id=\"T_1ae3f2ba_10aa_11eb_bb45_485f99a6d8aclevel0_row9\" class=\"row_heading level0 row9\" >9</th>\n",
       "                        <td id=\"T_1ae3f2ba_10aa_11eb_bb45_485f99a6d8acrow9_col0\" class=\"data row9 col0\" >0.000000</td>\n",
       "                        <td id=\"T_1ae3f2ba_10aa_11eb_bb45_485f99a6d8acrow9_col1\" class=\"data row9 col1\" >0.000000</td>\n",
       "                        <td id=\"T_1ae3f2ba_10aa_11eb_bb45_485f99a6d8acrow9_col2\" class=\"data row9 col2\" >0.000000</td>\n",
       "                        <td id=\"T_1ae3f2ba_10aa_11eb_bb45_485f99a6d8acrow9_col3\" class=\"data row9 col3\" >1.000000</td>\n",
       "                        <td id=\"T_1ae3f2ba_10aa_11eb_bb45_485f99a6d8acrow9_col4\" class=\"data row9 col4\" >0.000000</td>\n",
       "                        <td id=\"T_1ae3f2ba_10aa_11eb_bb45_485f99a6d8acrow9_col5\" class=\"data row9 col5\" >0.000000</td>\n",
       "            </tr>\n",
       "    </tbody></table>"
      ],
      "text/plain": [
       "<pandas.io.formats.style.Styler at 0x162c4e1f100>"
      ]
     },
     "execution_count": 19,
     "metadata": {},
     "output_type": "execute_result"
    }
   ],
   "source": [
    "def highlight_ones(s):\n",
    "    '''\n",
    "    highlight the number 1 in a Series yellow.\n",
    "    '''\n",
    "    is_max = s == 1\n",
    "    return ['background-color: yellow' if v else '' for v in is_max]\n",
    "temp.head(10).style.apply(highlight_ones)"
   ]
  },
  {
   "cell_type": "code",
   "execution_count": 20,
   "metadata": {},
   "outputs": [
    {
     "data": {
      "text/plain": [
       "SDG10     40.0\n",
       "SDG12     35.0\n",
       "SDG13    194.0\n",
       "SDG3     211.0\n",
       "SDG5     198.0\n",
       "SDG7      33.0\n",
       "dtype: float64"
      ]
     },
     "execution_count": 20,
     "metadata": {},
     "output_type": "execute_result"
    }
   ],
   "source": [
    "temp.sum(axis=0).head(10)"
   ]
  },
  {
   "cell_type": "code",
   "execution_count": 21,
   "metadata": {},
   "outputs": [],
   "source": [
    "from tensorflow.keras.models import Sequential\n",
    "from tensorflow.keras.layers import Dense, Dropout, Activation\n",
    "from tensorflow.keras import metrics\n",
    "from tensorflow.keras.utils import plot_model\n",
    "import pydot"
   ]
  },
  {
   "cell_type": "code",
   "execution_count": 55,
   "metadata": {},
   "outputs": [],
   "source": [
    "#define max_words parameter\n",
    "max_words = 250"
   ]
  },
  {
   "cell_type": "code",
   "execution_count": 56,
   "metadata": {},
   "outputs": [
    {
     "name": "stdout",
     "output_type": "stream",
     "text": [
      "Number of Classes (SDG): 6\n"
     ]
    }
   ],
   "source": [
    "# Some parameters that we will use:\n",
    "\n",
    "# Number of Classes for the Y labels (number of lyricists)\n",
    "nb_classes = len(y_enc.categories_[0])\n",
    "\n",
    "print('Number of Classes (SDG): {}'.format(nb_classes))\n",
    "\n",
    "# Number of Epochs that we will train our Feed Forward Network\n",
    "nb_epoch = 10\n",
    "\n",
    "# The batch_size of the data that will be fed to the Model when training\n",
    "batch_size = 32 \n",
    "\n",
    "# Dropout Rate of the Dropout Layer (how many neurons to shutdown each time)\n",
    "dropout_rate = 0.4"
   ]
  },
  {
   "cell_type": "code",
   "execution_count": 57,
   "metadata": {},
   "outputs": [
    {
     "name": "stdout",
     "output_type": "stream",
     "text": [
      "Building model...\n",
      "\n",
      "Model: \"sequential_1\"\n",
      "_________________________________________________________________\n",
      "Layer (type)                 Output Shape              Param #   \n",
      "=================================================================\n",
      "dense_3 (Dense)              (None, 512)               128512    \n",
      "_________________________________________________________________\n",
      "activation_3 (Activation)    (None, 512)               0         \n",
      "_________________________________________________________________\n",
      "dropout_2 (Dropout)          (None, 512)               0         \n",
      "_________________________________________________________________\n",
      "dense_4 (Dense)              (None, 512)               262656    \n",
      "_________________________________________________________________\n",
      "activation_4 (Activation)    (None, 512)               0         \n",
      "_________________________________________________________________\n",
      "dropout_3 (Dropout)          (None, 512)               0         \n",
      "_________________________________________________________________\n",
      "dense_5 (Dense)              (None, 6)                 3078      \n",
      "_________________________________________________________________\n",
      "activation_5 (Activation)    (None, 6)                 0         \n",
      "=================================================================\n",
      "Total params: 394,246\n",
      "Trainable params: 394,246\n",
      "Non-trainable params: 0\n",
      "_________________________________________________________________\n",
      "None\n"
     ]
    }
   ],
   "source": [
    "print('Building model...', end='\\n\\n')\n",
    "\n",
    "# The model that we will create is a sequential model meaning that\n",
    "# each layer that we add per line will use as input the output of the \n",
    "# former layer added to the model\n",
    "\n",
    "# define an empty sequential structure \n",
    "model = Sequential()\n",
    "\n",
    "# add a dense layer (MLP)\n",
    "model.add(Dense(512, input_shape=(max_words,)))\n",
    "\n",
    "# use a relu activation on MLP's outputs\n",
    "model.add(Activation('relu'))\n",
    "\n",
    "# use a dropout layer with with 20% of inputs dropped\n",
    "model.add(Dropout(0.4))\n",
    "\n",
    "# add a dense layer (MLP)\n",
    "model.add(Dense(512))\n",
    "\n",
    "# use a relu activation on MLP's outputs\n",
    "model.add(Activation('relu'))\n",
    "\n",
    "# use a dropout layer with with 20% of inputs droped\n",
    "model.add(Dropout(dropout_rate))\n",
    "\n",
    "# add a dense layer (MLP) \n",
    "model.add(Dense(nb_classes))\n",
    "\n",
    "# use a softmax activation on 2nd MLP's outputs\n",
    "model.add(Activation('softmax'))\n",
    "\n",
    "# we have defined the structure of the model\n",
    "\n",
    "# print model layers' info\n",
    "print(model.summary())"
   ]
  },
  {
   "cell_type": "code",
   "execution_count": 58,
   "metadata": {},
   "outputs": [
    {
     "data": {
      "image/png": "[encoded data removed]",
      "text/plain": [
       "<IPython.core.display.Image object>"
      ]
     },
     "execution_count": 58,
     "metadata": {},
     "output_type": "execute_result"
    }
   ],
   "source": [
    "plot_model(model,\n",
    "           to_file='model_plot.png',\n",
    "           show_shapes=True,\n",
    "           show_layer_names=True)"
   ]
  },
  {
   "cell_type": "code",
   "execution_count": 59,
   "metadata": {},
   "outputs": [],
   "source": [
    "# We compile the model using categorical crossentropy as a loss function \n",
    "# The reason is that we want to predict the lyricist among many lyricists\n",
    "\n",
    "# and Adam as an optimizer (is more robust thatn Gradient Descent Optimizer)\n",
    "# As a metric we can use \"accuracy\"\n",
    "model.compile(\n",
    "    loss='categorical_crossentropy',\n",
    "    optimizer='adam',\n",
    "    metrics=['accuracy'],\n",
    ")"
   ]
  },
  {
   "cell_type": "code",
   "execution_count": 60,
   "metadata": {},
   "outputs": [],
   "source": [
    "from sklearn.feature_extraction.text import CountVectorizer, TfidfVectorizer"
   ]
  },
  {
   "cell_type": "code",
   "execution_count": 61,
   "metadata": {},
   "outputs": [
    {
     "data": {
      "text/plain": [
       "CountVectorizer(max_features=250, strip_accents='unicode')"
      ]
     },
     "execution_count": 61,
     "metadata": {},
     "output_type": "execute_result"
    }
   ],
   "source": [
    "# This vectorizer will give the number of appearances of each word\n",
    "counter_vectorizer = CountVectorizer(\n",
    "    encoding='utf-8',\n",
    "    strip_accents='unicode',\n",
    "    lowercase=True,\n",
    "    ngram_range=(1, 1), # unigrams\n",
    "    max_features=max_words,\n",
    "    binary=False # binary output or full counts. \n",
    ")\n",
    "counter_vectorizer"
   ]
  },
  {
   "cell_type": "code",
   "execution_count": 62,
   "metadata": {},
   "outputs": [],
   "source": [
    "X_train_enc = counter_vectorizer.fit_transform(X_train)"
   ]
  },
  {
   "cell_type": "code",
   "execution_count": 63,
   "metadata": {},
   "outputs": [
    {
     "data": {
      "text/plain": [
       "<711x250 sparse matrix of type '<class 'numpy.int64'>'\n",
       "\twith 19990 stored elements in Compressed Sparse Row format>"
      ]
     },
     "execution_count": 63,
     "metadata": {},
     "output_type": "execute_result"
    }
   ],
   "source": [
    "X_train_enc"
   ]
  },
  {
   "cell_type": "code",
   "execution_count": 64,
   "metadata": {},
   "outputs": [],
   "source": [
    "# Using the FITTED CountVectorizer we transform the Validation and Test Sets\n",
    "X_val_enc = counter_vectorizer.transform(X_val)\n",
    "X_test_enc = counter_vectorizer.transform(X_test)"
   ]
  },
  {
   "cell_type": "code",
   "execution_count": 65,
   "metadata": {},
   "outputs": [
    {
     "name": "stdout",
     "output_type": "stream",
     "text": [
      "X_train encoded shape: (711, 250)\n",
      "X_val encoded shape: (99, 250)\n",
      "X_test encoded shape: (178, 250)\n"
     ]
    }
   ],
   "source": [
    "print('X_train encoded shape: {}'.format(X_train_enc.shape))\n",
    "print('X_val encoded shape: {}'.format(X_val_enc.shape))\n",
    "print('X_test encoded shape: {}'.format(X_test_enc.shape))"
   ]
  },
  {
   "cell_type": "code",
   "execution_count": 66,
   "metadata": {},
   "outputs": [
    {
     "data": {
      "text/plain": [
       "matrix([[0, 0, 0, 0, 0, 0, 0, 1, 0, 0, 0, 0, 0, 0, 0, 0, 0, 0, 0, 0, 0,\n",
       "         0, 0, 0, 0, 0, 1, 0, 0, 0, 0, 0, 0, 0, 0, 0, 0, 0, 0, 0, 1, 0,\n",
       "         0, 0, 0, 0, 0, 0, 0, 0, 0, 0, 1, 2, 1, 0, 0, 0, 0, 0, 1, 4, 0,\n",
       "         0, 0, 0, 0, 0, 0, 0, 0, 0, 0, 0, 0, 0, 0, 0, 0, 0, 0, 0, 0, 1,\n",
       "         0, 0, 0, 0, 0, 0, 0, 0, 0, 0, 0, 0, 0, 0, 0, 0, 0, 0, 0, 0, 0,\n",
       "         0, 0, 0, 0, 0, 0, 0, 0, 0, 0, 0, 0, 0, 0, 0, 1, 0, 0, 0, 0, 0,\n",
       "         0, 0, 0, 3, 0, 0, 0, 0, 0, 0, 0, 0, 0, 0, 1, 0, 0, 2, 0, 0, 0,\n",
       "         0, 0, 0, 0, 0, 0, 0, 0, 0, 0, 0, 0, 0, 0, 1, 0, 2, 0, 0, 0, 1,\n",
       "         0, 0, 0, 0, 0, 0, 0, 0, 1, 0, 0, 0, 0, 0, 0, 0, 0, 1, 0, 0, 0,\n",
       "         0, 0, 3, 0, 0, 0, 0, 0, 0, 0, 0, 0, 0, 0, 0, 0, 0, 0, 0, 0, 0,\n",
       "         0, 0, 0, 0, 0, 0, 0, 0, 1, 0, 4, 0, 0, 0, 0, 0, 1, 0, 0, 0, 0,\n",
       "         1, 0, 0, 0, 0, 0, 0, 0, 0, 0, 0, 0, 0, 0, 0, 0, 0, 0, 0]],\n",
       "       dtype=int64)"
      ]
     },
     "execution_count": 66,
     "metadata": {},
     "output_type": "execute_result"
    }
   ],
   "source": [
    "X_train_enc[0].todense()"
   ]
  },
  {
   "cell_type": "code",
   "execution_count": 67,
   "metadata": {
    "scrolled": true
   },
   "outputs": [
    {
     "data": {
      "text/plain": [
       "matrix([[0, 0, 0, ..., 0, 0, 0],\n",
       "        [0, 0, 0, ..., 0, 0, 0],\n",
       "        [1, 0, 0, ..., 0, 0, 0],\n",
       "        ...,\n",
       "        [0, 0, 0, ..., 0, 0, 4],\n",
       "        [0, 0, 0, ..., 0, 3, 0],\n",
       "        [1, 0, 0, ..., 0, 0, 0]], dtype=int64)"
      ]
     },
     "execution_count": 67,
     "metadata": {},
     "output_type": "execute_result"
    }
   ],
   "source": [
    "X_train_enc.todense()"
   ]
  },
  {
   "cell_type": "code",
   "execution_count": 68,
   "metadata": {
    "scrolled": true
   },
   "outputs": [
    {
     "data": {
      "text/plain": [
       "array([[0., 1., 0., 0., 0., 0.],\n",
       "       [0., 0., 0., 1., 0., 0.],\n",
       "       [0., 0., 1., 0., 0., 0.],\n",
       "       ...,\n",
       "       [0., 0., 0., 1., 0., 0.],\n",
       "       [0., 0., 0., 1., 0., 0.],\n",
       "       [0., 0., 1., 0., 0., 0.]])"
      ]
     },
     "execution_count": 68,
     "metadata": {},
     "output_type": "execute_result"
    }
   ],
   "source": [
    "y_train_enc"
   ]
  },
  {
   "cell_type": "code",
   "execution_count": 69,
   "metadata": {
    "scrolled": true
   },
   "outputs": [
    {
     "data": {
      "text/plain": [
       "matrix([[0, 0, 0, ..., 0, 0, 1],\n",
       "        [0, 0, 0, ..., 0, 0, 0],\n",
       "        [0, 0, 0, ..., 0, 1, 0],\n",
       "        ...,\n",
       "        [0, 0, 0, ..., 0, 0, 1],\n",
       "        [0, 0, 0, ..., 0, 0, 0],\n",
       "        [0, 0, 0, ..., 0, 0, 1]], dtype=int64)"
      ]
     },
     "execution_count": 69,
     "metadata": {},
     "output_type": "execute_result"
    }
   ],
   "source": [
    "X_val_enc.todense()"
   ]
  },
  {
   "cell_type": "code",
   "execution_count": 70,
   "metadata": {},
   "outputs": [
    {
     "data": {
      "text/plain": [
       "array([[0., 0., 0., 0., 0., 1.],\n",
       "       [1., 0., 0., 0., 0., 0.],\n",
       "       [1., 0., 0., 0., 0., 0.],\n",
       "       [1., 0., 0., 0., 0., 0.],\n",
       "       [1., 0., 0., 0., 0., 0.],\n",
       "       [1., 0., 0., 0., 0., 0.],\n",
       "       [0., 1., 0., 0., 0., 0.],\n",
       "       [0., 1., 0., 0., 0., 0.],\n",
       "       [0., 1., 0., 0., 0., 0.],\n",
       "       [0., 1., 0., 0., 0., 0.],\n",
       "       [0., 1., 0., 0., 0., 0.],\n",
       "       [0., 1., 0., 0., 0., 0.],\n",
       "       [0., 0., 0., 0., 1., 0.],\n",
       "       [0., 0., 0., 0., 1., 0.],\n",
       "       [0., 0., 0., 0., 1., 0.],\n",
       "       [0., 0., 0., 0., 1., 0.],\n",
       "       [0., 0., 0., 0., 1., 0.],\n",
       "       [0., 0., 0., 0., 1., 0.],\n",
       "       [0., 0., 0., 0., 1., 0.],\n",
       "       [0., 0., 0., 0., 1., 0.],\n",
       "       [0., 0., 0., 0., 1., 0.],\n",
       "       [0., 0., 0., 0., 1., 0.],\n",
       "       [0., 0., 0., 0., 1., 0.],\n",
       "       [0., 0., 0., 0., 1., 0.],\n",
       "       [0., 0., 0., 0., 1., 0.],\n",
       "       [0., 0., 0., 0., 1., 0.],\n",
       "       [0., 0., 0., 0., 1., 0.],\n",
       "       [0., 0., 0., 0., 1., 0.],\n",
       "       [0., 0., 0., 0., 1., 0.],\n",
       "       [0., 0., 0., 0., 1., 0.],\n",
       "       [0., 0., 0., 0., 1., 0.],\n",
       "       [0., 0., 0., 0., 1., 0.],\n",
       "       [0., 0., 0., 0., 1., 0.],\n",
       "       [0., 0., 0., 0., 1., 0.],\n",
       "       [0., 0., 0., 0., 1., 0.],\n",
       "       [0., 0., 0., 0., 1., 0.],\n",
       "       [0., 0., 0., 0., 1., 0.],\n",
       "       [0., 0., 0., 0., 1., 0.],\n",
       "       [0., 0., 0., 1., 0., 0.],\n",
       "       [0., 0., 0., 1., 0., 0.],\n",
       "       [0., 0., 0., 1., 0., 0.],\n",
       "       [0., 0., 0., 1., 0., 0.],\n",
       "       [0., 0., 0., 1., 0., 0.],\n",
       "       [0., 0., 0., 1., 0., 0.],\n",
       "       [0., 0., 0., 1., 0., 0.],\n",
       "       [0., 0., 0., 1., 0., 0.],\n",
       "       [0., 0., 0., 1., 0., 0.],\n",
       "       [0., 0., 0., 1., 0., 0.],\n",
       "       [0., 0., 0., 1., 0., 0.],\n",
       "       [0., 0., 0., 1., 0., 0.],\n",
       "       [0., 0., 0., 1., 0., 0.],\n",
       "       [0., 0., 0., 1., 0., 0.],\n",
       "       [0., 0., 0., 1., 0., 0.],\n",
       "       [0., 0., 0., 1., 0., 0.],\n",
       "       [0., 0., 0., 1., 0., 0.],\n",
       "       [0., 0., 0., 1., 0., 0.],\n",
       "       [0., 0., 0., 1., 0., 0.],\n",
       "       [0., 0., 0., 1., 0., 0.],\n",
       "       [0., 0., 0., 1., 0., 0.],\n",
       "       [0., 0., 0., 1., 0., 0.],\n",
       "       [0., 0., 0., 1., 0., 0.],\n",
       "       [0., 0., 0., 1., 0., 0.],\n",
       "       [0., 0., 0., 1., 0., 0.],\n",
       "       [0., 0., 0., 1., 0., 0.],\n",
       "       [0., 0., 0., 1., 0., 0.],\n",
       "       [0., 0., 0., 1., 0., 0.],\n",
       "       [0., 0., 0., 1., 0., 0.],\n",
       "       [0., 0., 0., 1., 0., 0.],\n",
       "       [0., 0., 0., 1., 0., 0.],\n",
       "       [0., 0., 0., 1., 0., 0.],\n",
       "       [0., 0., 0., 0., 1., 0.],\n",
       "       [0., 0., 0., 0., 1., 0.],\n",
       "       [0., 0., 0., 0., 1., 0.],\n",
       "       [0., 0., 0., 0., 1., 0.],\n",
       "       [0., 0., 1., 0., 0., 0.],\n",
       "       [0., 0., 1., 0., 0., 0.],\n",
       "       [0., 0., 1., 0., 0., 0.],\n",
       "       [0., 0., 1., 0., 0., 0.],\n",
       "       [0., 0., 1., 0., 0., 0.],\n",
       "       [0., 0., 1., 0., 0., 0.],\n",
       "       [0., 0., 1., 0., 0., 0.],\n",
       "       [0., 0., 1., 0., 0., 0.],\n",
       "       [0., 0., 1., 0., 0., 0.],\n",
       "       [0., 0., 1., 0., 0., 0.],\n",
       "       [0., 0., 1., 0., 0., 0.],\n",
       "       [0., 0., 1., 0., 0., 0.],\n",
       "       [0., 0., 1., 0., 0., 0.],\n",
       "       [0., 0., 1., 0., 0., 0.],\n",
       "       [0., 0., 1., 0., 0., 0.],\n",
       "       [0., 0., 1., 0., 0., 0.],\n",
       "       [0., 0., 1., 0., 0., 0.],\n",
       "       [0., 0., 0., 1., 0., 0.],\n",
       "       [0., 0., 0., 1., 0., 0.],\n",
       "       [0., 0., 1., 0., 0., 0.],\n",
       "       [0., 0., 1., 0., 0., 0.],\n",
       "       [0., 0., 1., 0., 0., 0.],\n",
       "       [0., 0., 1., 0., 0., 0.],\n",
       "       [0., 0., 1., 0., 0., 0.],\n",
       "       [0., 0., 1., 0., 0., 0.]])"
      ]
     },
     "execution_count": 70,
     "metadata": {},
     "output_type": "execute_result"
    }
   ],
   "source": [
    "y_val_enc"
   ]
  },
  {
   "cell_type": "code",
   "execution_count": 71,
   "metadata": {},
   "outputs": [
    {
     "name": "stdout",
     "output_type": "stream",
     "text": [
      "Epoch 1/10\n",
      "23/23 - 0s - loss: 0.9987 - accuracy: 0.6737 - val_loss: 0.4837 - val_accuracy: 0.8596\n",
      "Epoch 2/10\n",
      "23/23 - 0s - loss: 0.3505 - accuracy: 0.8959 - val_loss: 0.3530 - val_accuracy: 0.8764\n",
      "Epoch 3/10\n",
      "23/23 - 0s - loss: 0.2055 - accuracy: 0.9409 - val_loss: 0.3330 - val_accuracy: 0.8989\n",
      "Epoch 4/10\n",
      "23/23 - 0s - loss: 0.1449 - accuracy: 0.9522 - val_loss: 0.3599 - val_accuracy: 0.8876\n",
      "Epoch 5/10\n",
      "23/23 - 0s - loss: 0.0840 - accuracy: 0.9831 - val_loss: 0.3706 - val_accuracy: 0.8933\n",
      "Epoch 6/10\n",
      "23/23 - 0s - loss: 0.0604 - accuracy: 0.9859 - val_loss: 0.3950 - val_accuracy: 0.8876\n",
      "Epoch 7/10\n",
      "23/23 - 0s - loss: 0.0542 - accuracy: 0.9859 - val_loss: 0.4194 - val_accuracy: 0.9045\n",
      "Epoch 8/10\n",
      "23/23 - 0s - loss: 0.0379 - accuracy: 0.9944 - val_loss: 0.4315 - val_accuracy: 0.8933\n",
      "Epoch 9/10\n",
      "23/23 - 0s - loss: 0.0232 - accuracy: 0.9944 - val_loss: 0.4105 - val_accuracy: 0.8820\n",
      "Epoch 10/10\n",
      "23/23 - 0s - loss: 0.0202 - accuracy: 0.9958 - val_loss: 0.4548 - val_accuracy: 0.8933\n"
     ]
    }
   ],
   "source": [
    "# We train (fit our data to) our model\n",
    "history = model.fit(\n",
    "    x=X_train_enc.todense(), # features (as dense inputs)\n",
    "    y=y_train_enc,           # labels\n",
    "    batch_size=batch_size,   # define batch size\n",
    "    epochs=nb_epoch,         # number of epochs\n",
    "    verbose=2,               # the most extended verbosity level\n",
    "    validation_data=(       \n",
    "    X_test_enc.todense(),     # the validation split that we did before\n",
    "    y_test_enc)\n",
    ")"
   ]
  },
  {
   "cell_type": "code",
   "execution_count": 73,
   "metadata": {},
   "outputs": [
    {
     "name": "stdout",
     "output_type": "stream",
     "text": [
      "4/4 - 0s - loss: 0.0580 - accuracy: 0.9697\n"
     ]
    }
   ],
   "source": [
    "# evaluate and store on score variable on the TEST DATASET\n",
    "score = model.evaluate(\n",
    "    X_val_enc.todense(),    # features\n",
    "    y_val_enc,              # labels\n",
    "    batch_size=batch_size,   # batch size\n",
    "    verbose=2                # the most extended verbose\n",
    ")"
   ]
  },
  {
   "cell_type": "code",
   "execution_count": 74,
   "metadata": {},
   "outputs": [
    {
     "name": "stdout",
     "output_type": "stream",
     "text": [
      "[0.05797964707016945, 0.9696969985961914]\n"
     ]
    }
   ],
   "source": [
    "print(score)"
   ]
  },
  {
   "cell_type": "code",
   "execution_count": 75,
   "metadata": {},
   "outputs": [
    {
     "name": "stdout",
     "output_type": "stream",
     "text": [
      "\n",
      "Test categorical_crossentropy: 0.05797964707016945\n",
      "\n",
      "Test accuracy: 96.970 %\n"
     ]
    }
   ],
   "source": [
    "print('\\nTest categorical_crossentropy: {}'.format(score[0]))\n",
    "print('\\nTest accuracy: {:.3f} %'.format(score[1]*100))"
   ]
  },
  {
   "cell_type": "code",
   "execution_count": 76,
   "metadata": {},
   "outputs": [
    {
     "data": {
      "text/plain": [
       "array([[4.19084012e-04, 5.55927225e-04, 4.42752586e-04, 1.41328528e-05,\n",
       "        1.97624744e-04, 9.98370469e-01],\n",
       "       [9.98986542e-01, 9.80059966e-04, 6.27837096e-07, 9.97990810e-06,\n",
       "        4.02948763e-06, 1.87449441e-05],\n",
       "       [9.90310669e-01, 5.85354678e-03, 5.74193604e-04, 1.13095238e-03,\n",
       "        1.35358889e-04, 1.99517538e-03],\n",
       "       [9.59586143e-01, 2.77598593e-02, 1.21713961e-02, 6.59590842e-06,\n",
       "        3.59053729e-08, 4.75967798e-04],\n",
       "       [9.72464919e-01, 7.85132032e-03, 2.10258528e-03, 5.20264846e-04,\n",
       "        3.15914466e-03, 1.39017813e-02],\n",
       "       [8.38025391e-01, 8.23289715e-03, 7.29680833e-05, 3.05453214e-05,\n",
       "        2.86636874e-04, 1.53351665e-01],\n",
       "       [8.11679959e-02, 1.82056785e-01, 1.69760466e-01, 2.33842488e-02,\n",
       "        4.29618120e-01, 1.14012450e-01],\n",
       "       [2.15577008e-03, 3.89761597e-01, 3.26498784e-02, 1.42455838e-05,\n",
       "        6.85105915e-05, 5.75350046e-01],\n",
       "       [1.67030038e-03, 9.97467160e-01, 6.34469325e-04, 4.60365591e-05,\n",
       "        3.33826756e-05, 1.48647523e-04],\n",
       "       [7.95576870e-01, 1.64768368e-01, 2.49101082e-04, 2.26986338e-03,\n",
       "        8.82864278e-03, 2.83070449e-02],\n",
       "       [2.69046389e-02, 8.79873097e-01, 7.11452961e-02, 1.10756457e-02,\n",
       "        8.36521294e-03, 2.63605686e-03],\n",
       "       [2.03503823e-05, 9.95890737e-01, 4.01654653e-03, 3.92854272e-05,\n",
       "        2.23410807e-05, 1.07681908e-05],\n",
       "       [3.68616895e-07, 1.22549181e-06, 1.16359943e-05, 8.13532824e-06,\n",
       "        9.99978065e-01, 5.36558446e-07],\n",
       "       [2.47172023e-16, 3.64559830e-14, 9.02442600e-17, 2.26582913e-13,\n",
       "        1.00000000e+00, 7.89036813e-16],\n",
       "       [7.49532919e-05, 2.13744133e-04, 5.54346887e-04, 2.27901459e-04,\n",
       "        9.98872817e-01, 5.62516761e-05],\n",
       "       [2.08444165e-11, 7.76254581e-12, 1.08220499e-11, 3.05295351e-12,\n",
       "        1.00000000e+00, 2.07449821e-11],\n",
       "       [2.38898443e-03, 1.39009636e-02, 4.73584933e-03, 2.28135195e-03,\n",
       "        9.75887835e-01, 8.05056014e-04],\n",
       "       [7.45535726e-05, 4.55836387e-04, 8.41693964e-06, 6.28261885e-04,\n",
       "        9.98753786e-01, 7.92029314e-05],\n",
       "       [4.04484526e-05, 5.61367706e-05, 7.00960518e-05, 1.82636795e-04,\n",
       "        9.99567330e-01, 8.32691512e-05],\n",
       "       [1.52267066e-05, 1.92783791e-05, 6.22213065e-06, 2.06650930e-05,\n",
       "        9.99922752e-01, 1.58334205e-05],\n",
       "       [6.88382215e-07, 8.82155018e-06, 5.70701957e-07, 1.25458268e-06,\n",
       "        9.99987960e-01, 6.78513061e-07],\n",
       "       [7.42341217e-06, 1.46024695e-05, 3.68426154e-05, 1.72452092e-05,\n",
       "        9.99900222e-01, 2.36201231e-05],\n",
       "       [3.86208674e-04, 8.58689309e-04, 5.43680624e-04, 3.16571037e-04,\n",
       "        9.97450769e-01, 4.44101199e-04],\n",
       "       [2.04892072e-04, 4.63697547e-03, 2.38654757e-04, 1.94207474e-04,\n",
       "        9.94458914e-01, 2.66390474e-04],\n",
       "       [6.09660696e-04, 2.59674876e-03, 3.55218392e-04, 1.96946290e-04,\n",
       "        9.95429873e-01, 8.11580743e-04],\n",
       "       [4.46538397e-11, 2.03970053e-11, 2.28550685e-11, 5.07910467e-12,\n",
       "        1.00000000e+00, 4.83488458e-11],\n",
       "       [5.74783233e-12, 3.07466448e-11, 3.17352644e-13, 4.84740329e-12,\n",
       "        1.00000000e+00, 1.16029261e-11],\n",
       "       [6.33480410e-13, 2.26072785e-12, 3.85409207e-13, 3.43149359e-12,\n",
       "        1.00000000e+00, 8.49100304e-12],\n",
       "       [2.38458142e-05, 4.86538520e-05, 2.40554596e-06, 1.16017713e-04,\n",
       "        9.99794900e-01, 1.41917671e-05],\n",
       "       [2.31550441e-08, 1.06713713e-07, 7.90898291e-10, 2.18332175e-07,\n",
       "        9.99999642e-01, 2.11315321e-09],\n",
       "       [2.55792429e-06, 2.64150970e-07, 4.58961495e-07, 6.45258282e-08,\n",
       "        9.99995947e-01, 7.35481819e-07],\n",
       "       [1.77044868e-09, 2.80494161e-09, 1.58244279e-10, 4.90730123e-09,\n",
       "        1.00000000e+00, 1.98204830e-09],\n",
       "       [7.24331755e-07, 6.25112807e-06, 1.78563241e-07, 8.26985627e-07,\n",
       "        9.99991775e-01, 2.32477163e-07],\n",
       "       [2.26105197e-08, 1.02615024e-06, 3.89690911e-08, 1.95676830e-06,\n",
       "        9.99996424e-01, 4.61723118e-07],\n",
       "       [1.22618309e-04, 8.84009860e-05, 1.63181030e-04, 2.00238501e-04,\n",
       "        9.99393940e-01, 3.15364305e-05],\n",
       "       [8.01744827e-05, 1.37360033e-03, 6.42966697e-05, 6.51002571e-04,\n",
       "        9.97626841e-01, 2.04133394e-04],\n",
       "       [2.17944982e-10, 2.42777437e-10, 3.89079741e-11, 3.89571895e-08,\n",
       "        1.00000000e+00, 4.81145623e-10],\n",
       "       [5.67826987e-07, 5.73838292e-08, 7.17698185e-08, 9.62441936e-06,\n",
       "        9.99989152e-01, 4.50214372e-07],\n",
       "       [1.52924407e-12, 2.06477022e-08, 6.50260968e-15, 9.99999762e-01,\n",
       "        2.96701074e-07, 5.08881728e-13],\n",
       "       [7.21780134e-06, 2.78065709e-04, 3.44741420e-06, 9.99664783e-01,\n",
       "        4.21460318e-05, 4.29082638e-06],\n",
       "       [1.77350037e-13, 1.66861750e-11, 4.41653482e-15, 1.00000000e+00,\n",
       "        6.38504319e-11, 3.35657405e-14],\n",
       "       [6.13537832e-11, 7.26394278e-09, 8.25172049e-12, 1.00000000e+00,\n",
       "        1.44666723e-08, 8.80144083e-11],\n",
       "       [1.27914892e-11, 9.61459268e-09, 2.67382145e-12, 1.00000000e+00,\n",
       "        4.08146766e-10, 2.27739442e-12],\n",
       "       [9.43221767e-09, 1.09356904e-06, 1.31377598e-09, 9.99998927e-01,\n",
       "        4.67839918e-08, 2.13643836e-09],\n",
       "       [2.80663954e-07, 1.49063922e-07, 3.79733791e-08, 9.99999523e-01,\n",
       "        4.87641749e-08, 1.06958984e-08],\n",
       "       [1.01133646e-03, 2.47887103e-03, 1.69032472e-04, 9.95869935e-01,\n",
       "        1.52571709e-04, 3.18252511e-04],\n",
       "       [1.09173694e-12, 3.02995629e-09, 7.53060374e-13, 9.99999881e-01,\n",
       "        7.36340553e-08, 2.79765967e-12],\n",
       "       [5.04854199e-07, 3.70963880e-06, 8.06177127e-07, 9.99990106e-01,\n",
       "        3.80337292e-06, 1.07846324e-06],\n",
       "       [1.44618980e-07, 1.14925468e-04, 6.97736914e-06, 9.99877334e-01,\n",
       "        1.57077366e-07, 4.57809847e-07],\n",
       "       [2.64499267e-08, 1.41162436e-05, 2.25232744e-09, 9.99794900e-01,\n",
       "        1.90958264e-04, 4.31110259e-08],\n",
       "       [5.26258759e-07, 1.25474139e-06, 4.59578087e-06, 9.99993324e-01,\n",
       "        3.47544329e-07, 4.08536174e-08],\n",
       "       [7.86411469e-09, 2.18756711e-07, 9.15761130e-12, 9.99999523e-01,\n",
       "        2.00758890e-07, 3.88807697e-09],\n",
       "       [1.35623822e-07, 1.65017591e-05, 4.65273260e-08, 9.99983191e-01,\n",
       "        9.75357395e-08, 1.61223763e-08],\n",
       "       [9.51428270e-09, 3.26265337e-07, 9.61691384e-08, 9.99998689e-01,\n",
       "        8.72292389e-07, 5.85388138e-09],\n",
       "       [5.06860545e-08, 4.04011644e-06, 1.60104507e-09, 9.99942780e-01,\n",
       "        5.31142032e-05, 1.86146956e-08],\n",
       "       [2.93559915e-05, 9.42074184e-05, 1.14574948e-04, 9.99649405e-01,\n",
       "        9.78210228e-05, 1.46182556e-05],\n",
       "       [1.07199560e-06, 1.66706184e-06, 1.88794252e-06, 9.99994516e-01,\n",
       "        7.21326103e-07, 6.84629740e-08],\n",
       "       [6.71772360e-10, 2.12779927e-08, 1.36181166e-09, 9.99999762e-01,\n",
       "        2.28679724e-07, 1.29684929e-10],\n",
       "       [2.60532624e-06, 2.18106361e-05, 5.02161548e-08, 9.99974728e-01,\n",
       "        4.26829132e-07, 3.45405027e-07],\n",
       "       [1.14444098e-04, 2.96966732e-03, 3.62847757e-04, 9.96100545e-01,\n",
       "        4.25197417e-04, 2.73136175e-05],\n",
       "       [8.19085633e-10, 2.00015582e-09, 8.31371638e-11, 1.00000000e+00,\n",
       "        4.07733179e-12, 6.17092401e-12],\n",
       "       [3.34968187e-09, 3.50278668e-08, 1.56687481e-08, 1.00000000e+00,\n",
       "        2.89713920e-09, 1.21838557e-08],\n",
       "       [7.37541654e-08, 2.07418680e-06, 6.57888995e-06, 9.99991298e-01,\n",
       "        4.43549766e-08, 4.18782271e-08],\n",
       "       [1.22472324e-04, 1.92302992e-04, 3.71711823e-04, 9.98647749e-01,\n",
       "        6.54398755e-04, 1.14313034e-05],\n",
       "       [9.76214443e-13, 3.67114759e-12, 4.43432400e-13, 1.00000000e+00,\n",
       "        1.24283721e-13, 2.50651262e-14],\n",
       "       [4.08094792e-07, 2.53076877e-07, 3.61415076e-09, 9.99998927e-01,\n",
       "        3.85958742e-07, 1.36384912e-08],\n",
       "       [2.41495024e-09, 1.05820689e-07, 4.62054367e-10, 9.99999881e-01,\n",
       "        5.78076875e-09, 1.53933907e-10],\n",
       "       [1.21602170e-04, 1.53061992e-04, 1.05925319e-04, 9.99610484e-01,\n",
       "        3.17479248e-06, 5.67940924e-06],\n",
       "       [2.46269134e-11, 1.50238544e-09, 2.57364852e-10, 1.00000000e+00,\n",
       "        8.05399237e-12, 2.30880067e-13],\n",
       "       [1.30976374e-09, 1.63016580e-07, 2.26117251e-07, 9.99999642e-01,\n",
       "        1.60281805e-11, 5.97055669e-11],\n",
       "       [1.97749248e-11, 8.58659255e-11, 2.40245839e-13, 2.70408496e-09,\n",
       "        1.00000000e+00, 4.28402008e-10],\n",
       "       [2.60801758e-09, 1.39704625e-07, 6.91075391e-11, 9.23591941e-08,\n",
       "        9.99999762e-01, 4.34096741e-08],\n",
       "       [5.71942582e-09, 5.07693043e-09, 3.07092338e-11, 5.45570344e-07,\n",
       "        9.99999404e-01, 7.81560150e-10],\n",
       "       [5.44192157e-18, 1.04991812e-18, 2.02997683e-20, 2.34621664e-19,\n",
       "        1.00000000e+00, 3.62125714e-19],\n",
       "       [5.39461947e-11, 1.66977898e-08, 1.00000000e+00, 1.18254628e-10,\n",
       "        9.59849041e-12, 6.09178263e-10],\n",
       "       [1.58898034e-11, 4.25036177e-07, 9.99999523e-01, 4.51646741e-11,\n",
       "        8.50221369e-12, 7.32048866e-10],\n",
       "       [2.32860150e-12, 1.04096576e-09, 1.00000000e+00, 5.53551736e-12,\n",
       "        1.03715796e-14, 2.55003674e-11],\n",
       "       [1.09821023e-14, 7.91810888e-12, 1.00000000e+00, 7.21909403e-13,\n",
       "        1.17136000e-14, 9.71291277e-12],\n",
       "       [5.89939227e-05, 4.72529083e-02, 9.52472925e-01, 7.78593530e-05,\n",
       "        4.16929979e-05, 9.55786745e-05],\n",
       "       [9.68876129e-13, 7.03994718e-12, 1.00000000e+00, 4.36915803e-13,\n",
       "        2.04966382e-12, 1.79521301e-10],\n",
       "       [1.22387183e-03, 1.15154767e-02, 9.76500034e-01, 8.96289712e-04,\n",
       "        7.96746346e-04, 9.06762760e-03],\n",
       "       [6.45062244e-08, 2.36405231e-06, 9.99995351e-01, 2.04028268e-07,\n",
       "        8.30473539e-08, 1.94625090e-06],\n",
       "       [2.05571032e-05, 1.59444753e-05, 9.98803854e-01, 2.00394493e-06,\n",
       "        5.04009677e-07, 1.15710939e-03],\n",
       "       [3.79506855e-05, 2.68953008e-04, 9.97425616e-01, 1.02496062e-06,\n",
       "        3.28006649e-07, 2.26601260e-03],\n",
       "       [5.75400400e-17, 5.10740365e-12, 1.00000000e+00, 1.86768912e-16,\n",
       "        2.92284766e-17, 4.66137979e-13],\n",
       "       [1.87256719e-05, 1.25611870e-04, 9.99603570e-01, 6.14978308e-06,\n",
       "        7.36224592e-07, 2.45242118e-04],\n",
       "       [1.71063980e-03, 6.27471553e-03, 9.74346161e-01, 9.11920145e-03,\n",
       "        2.65336828e-03, 5.89578645e-03],\n",
       "       [4.77319588e-07, 1.53370155e-03, 9.98464704e-01, 6.66192577e-08,\n",
       "        7.81024028e-08, 9.45656325e-07],\n",
       "       [8.10690864e-04, 1.73050091e-02, 9.80445564e-01, 2.09557809e-04,\n",
       "        1.87145110e-04, 1.04213762e-03],\n",
       "       [1.03275518e-07, 8.73753834e-06, 9.99988079e-01, 3.89705718e-07,\n",
       "        1.72012889e-07, 2.61712285e-06],\n",
       "       [6.43910468e-02, 1.31295159e-01, 5.03641129e-01, 9.63295400e-02,\n",
       "        1.38864264e-01, 6.54789582e-02],\n",
       "       [1.92212246e-06, 9.38323501e-05, 1.39611202e-05, 9.99754250e-01,\n",
       "        1.78081700e-06, 1.34250033e-04],\n",
       "       [1.00481420e-05, 2.67424062e-03, 9.20095117e-05, 9.68666375e-01,\n",
       "        2.38236880e-05, 2.85335444e-02],\n",
       "       [1.64275048e-06, 5.34788589e-04, 9.99445975e-01, 2.00166050e-06,\n",
       "        5.05005301e-06, 1.05703703e-05],\n",
       "       [5.44724026e-06, 1.99736896e-05, 9.99950290e-01, 1.37079940e-06,\n",
       "        5.29747012e-06, 1.77630882e-05],\n",
       "       [9.98805335e-05, 1.11210873e-04, 9.99622107e-01, 1.94937002e-05,\n",
       "        1.11586369e-05, 1.36097107e-04],\n",
       "       [4.85715755e-05, 2.69122858e-04, 9.99008775e-01, 1.17616830e-04,\n",
       "        8.33040103e-05, 4.72564570e-04],\n",
       "       [3.38745849e-08, 1.68450214e-07, 9.99998808e-01, 2.79532230e-07,\n",
       "        4.55298839e-08, 6.83010512e-07],\n",
       "       [3.47833321e-07, 5.55954830e-05, 9.99930859e-01, 7.68373502e-06,\n",
       "        8.29999180e-07, 4.79940172e-06]], dtype=float32)"
      ]
     },
     "execution_count": 76,
     "metadata": {},
     "output_type": "execute_result"
    }
   ],
   "source": [
    "# Use to yield probability distribution over the categories\n",
    "y_test_pred_probs = model.predict(X_val_enc) ######\n",
    "y_test_pred_probs"
   ]
  },
  {
   "cell_type": "code",
   "execution_count": 77,
   "metadata": {},
   "outputs": [
    {
     "data": {
      "text/plain": [
       "(99, 6)"
      ]
     },
     "execution_count": 77,
     "metadata": {},
     "output_type": "execute_result"
    }
   ],
   "source": [
    "y_test_pred_probs.shape"
   ]
  },
  {
   "cell_type": "code",
   "execution_count": 78,
   "metadata": {},
   "outputs": [
    {
     "data": {
      "text/plain": [
       "array([5, 0, 0, 0, 0, 0, 4, 5, 1, 0, 1, 1, 4, 4, 4, 4, 4, 4, 4, 4, 4, 4,\n",
       "       4, 4, 4, 4, 4, 4, 4, 4, 4, 4, 4, 4, 4, 4, 4, 4, 3, 3, 3, 3, 3, 3,\n",
       "       3, 3, 3, 3, 3, 3, 3, 3, 3, 3, 3, 3, 3, 3, 3, 3, 3, 3, 3, 3, 3, 3,\n",
       "       3, 3, 3, 3, 4, 4, 4, 4, 2, 2, 2, 2, 2, 2, 2, 2, 2, 2, 2, 2, 2, 2,\n",
       "       2, 2, 2, 3, 3, 2, 2, 2, 2, 2, 2], dtype=int64)"
      ]
     },
     "execution_count": 78,
     "metadata": {},
     "output_type": "execute_result"
    }
   ],
   "source": [
    "# y_test_preds = model.predict_classes(X_test_enc)\n",
    "\n",
    "y_test_preds = np.argmax(model.predict(X_val_enc), axis=-1)\n",
    "\n",
    "y_test_preds#[:50]"
   ]
  },
  {
   "cell_type": "code",
   "execution_count": 79,
   "metadata": {},
   "outputs": [],
   "source": [
    "# custom prediction function \n",
    "def get_one_hot_predictions(pred_probs):\n",
    "    \"\"\"\n",
    "    \"\"\"\n",
    "    max_probs = np.max(pred_probs, axis=1)\n",
    "    \n",
    "    # reshaping to (len_of_predicts, 1)\n",
    "    max_probs = max_probs.reshape(max_probs.shape[0], 1)\n",
    "\n",
    "    return np.equal(pred_probs, max_probs).astype(float)"
   ]
  },
  {
   "cell_type": "code",
   "execution_count": 80,
   "metadata": {},
   "outputs": [
    {
     "data": {
      "text/plain": [
       "array([[0., 0., 0., 0., 0., 1.],\n",
       "       [1., 0., 0., 0., 0., 0.],\n",
       "       [1., 0., 0., 0., 0., 0.],\n",
       "       [1., 0., 0., 0., 0., 0.],\n",
       "       [1., 0., 0., 0., 0., 0.],\n",
       "       [1., 0., 0., 0., 0., 0.],\n",
       "       [0., 0., 0., 0., 1., 0.],\n",
       "       [0., 0., 0., 0., 0., 1.],\n",
       "       [0., 1., 0., 0., 0., 0.],\n",
       "       [1., 0., 0., 0., 0., 0.],\n",
       "       [0., 1., 0., 0., 0., 0.],\n",
       "       [0., 1., 0., 0., 0., 0.],\n",
       "       [0., 0., 0., 0., 1., 0.],\n",
       "       [0., 0., 0., 0., 1., 0.],\n",
       "       [0., 0., 0., 0., 1., 0.],\n",
       "       [0., 0., 0., 0., 1., 0.],\n",
       "       [0., 0., 0., 0., 1., 0.],\n",
       "       [0., 0., 0., 0., 1., 0.],\n",
       "       [0., 0., 0., 0., 1., 0.],\n",
       "       [0., 0., 0., 0., 1., 0.],\n",
       "       [0., 0., 0., 0., 1., 0.],\n",
       "       [0., 0., 0., 0., 1., 0.],\n",
       "       [0., 0., 0., 0., 1., 0.],\n",
       "       [0., 0., 0., 0., 1., 0.],\n",
       "       [0., 0., 0., 0., 1., 0.],\n",
       "       [0., 0., 0., 0., 1., 0.],\n",
       "       [0., 0., 0., 0., 1., 0.],\n",
       "       [0., 0., 0., 0., 1., 0.],\n",
       "       [0., 0., 0., 0., 1., 0.],\n",
       "       [0., 0., 0., 0., 1., 0.],\n",
       "       [0., 0., 0., 0., 1., 0.],\n",
       "       [0., 0., 0., 0., 1., 0.],\n",
       "       [0., 0., 0., 0., 1., 0.],\n",
       "       [0., 0., 0., 0., 1., 0.],\n",
       "       [0., 0., 0., 0., 1., 0.],\n",
       "       [0., 0., 0., 0., 1., 0.],\n",
       "       [0., 0., 0., 0., 1., 0.],\n",
       "       [0., 0., 0., 0., 1., 0.],\n",
       "       [0., 0., 0., 1., 0., 0.],\n",
       "       [0., 0., 0., 1., 0., 0.],\n",
       "       [0., 0., 0., 1., 0., 0.],\n",
       "       [0., 0., 0., 1., 0., 0.],\n",
       "       [0., 0., 0., 1., 0., 0.],\n",
       "       [0., 0., 0., 1., 0., 0.],\n",
       "       [0., 0., 0., 1., 0., 0.],\n",
       "       [0., 0., 0., 1., 0., 0.],\n",
       "       [0., 0., 0., 1., 0., 0.],\n",
       "       [0., 0., 0., 1., 0., 0.],\n",
       "       [0., 0., 0., 1., 0., 0.],\n",
       "       [0., 0., 0., 1., 0., 0.],\n",
       "       [0., 0., 0., 1., 0., 0.],\n",
       "       [0., 0., 0., 1., 0., 0.],\n",
       "       [0., 0., 0., 1., 0., 0.],\n",
       "       [0., 0., 0., 1., 0., 0.],\n",
       "       [0., 0., 0., 1., 0., 0.],\n",
       "       [0., 0., 0., 1., 0., 0.],\n",
       "       [0., 0., 0., 1., 0., 0.],\n",
       "       [0., 0., 0., 1., 0., 0.],\n",
       "       [0., 0., 0., 1., 0., 0.],\n",
       "       [0., 0., 0., 1., 0., 0.],\n",
       "       [0., 0., 0., 1., 0., 0.],\n",
       "       [0., 0., 0., 1., 0., 0.],\n",
       "       [0., 0., 0., 1., 0., 0.],\n",
       "       [0., 0., 0., 1., 0., 0.],\n",
       "       [0., 0., 0., 1., 0., 0.],\n",
       "       [0., 0., 0., 1., 0., 0.],\n",
       "       [0., 0., 0., 1., 0., 0.],\n",
       "       [0., 0., 0., 1., 0., 0.],\n",
       "       [0., 0., 0., 1., 0., 0.],\n",
       "       [0., 0., 0., 1., 0., 0.],\n",
       "       [0., 0., 0., 0., 1., 0.],\n",
       "       [0., 0., 0., 0., 1., 0.],\n",
       "       [0., 0., 0., 0., 1., 0.],\n",
       "       [0., 0., 0., 0., 1., 0.],\n",
       "       [0., 0., 1., 0., 0., 0.],\n",
       "       [0., 0., 1., 0., 0., 0.],\n",
       "       [0., 0., 1., 0., 0., 0.],\n",
       "       [0., 0., 1., 0., 0., 0.],\n",
       "       [0., 0., 1., 0., 0., 0.],\n",
       "       [0., 0., 1., 0., 0., 0.],\n",
       "       [0., 0., 1., 0., 0., 0.],\n",
       "       [0., 0., 1., 0., 0., 0.],\n",
       "       [0., 0., 1., 0., 0., 0.],\n",
       "       [0., 0., 1., 0., 0., 0.],\n",
       "       [0., 0., 1., 0., 0., 0.],\n",
       "       [0., 0., 1., 0., 0., 0.],\n",
       "       [0., 0., 1., 0., 0., 0.],\n",
       "       [0., 0., 1., 0., 0., 0.],\n",
       "       [0., 0., 1., 0., 0., 0.],\n",
       "       [0., 0., 1., 0., 0., 0.],\n",
       "       [0., 0., 1., 0., 0., 0.],\n",
       "       [0., 0., 0., 1., 0., 0.],\n",
       "       [0., 0., 0., 1., 0., 0.],\n",
       "       [0., 0., 1., 0., 0., 0.],\n",
       "       [0., 0., 1., 0., 0., 0.],\n",
       "       [0., 0., 1., 0., 0., 0.],\n",
       "       [0., 0., 1., 0., 0., 0.],\n",
       "       [0., 0., 1., 0., 0., 0.],\n",
       "       [0., 0., 1., 0., 0., 0.]])"
      ]
     },
     "execution_count": 80,
     "metadata": {},
     "output_type": "execute_result"
    }
   ],
   "source": [
    "y_test_pred = get_one_hot_predictions(y_test_pred_probs)\n",
    "y_test_pred"
   ]
  },
  {
   "cell_type": "code",
   "execution_count": 81,
   "metadata": {},
   "outputs": [
    {
     "data": {
      "text/plain": [
       "array(['SDG7', 'SDG10', 'SDG10', 'SDG10', 'SDG10', 'SDG10', 'SDG5',\n",
       "       'SDG7', 'SDG12', 'SDG10', 'SDG12', 'SDG12', 'SDG5', 'SDG5', 'SDG5',\n",
       "       'SDG5', 'SDG5', 'SDG5', 'SDG5', 'SDG5'], dtype=object)"
      ]
     },
     "execution_count": 81,
     "metadata": {},
     "output_type": "execute_result"
    }
   ],
   "source": [
    "# Now, we will use the fitted One Hot Encoder to Inverse Tranform the ouput\n",
    "y_test_pred_sdg = y_enc.inverse_transform(y_test_pred).flatten()\n",
    "y_test_pred_sdg[:20]"
   ]
  },
  {
   "cell_type": "code",
   "execution_count": 82,
   "metadata": {},
   "outputs": [],
   "source": [
    "from sklearn.metrics import confusion_matrix, classification_report"
   ]
  },
  {
   "cell_type": "code",
   "execution_count": 83,
   "metadata": {},
   "outputs": [
    {
     "name": "stdout",
     "output_type": "stream",
     "text": [
      "              precision    recall  f1-score   support\n",
      "\n",
      "       SDG10       0.83      1.00      0.91         5\n",
      "       SDG12       1.00      0.50      0.67         6\n",
      "       SDG13       1.00      1.00      1.00        23\n",
      "        SDG3       1.00      1.00      1.00        34\n",
      "        SDG5       0.97      1.00      0.98        30\n",
      "        SDG7       0.50      1.00      0.67         1\n",
      "\n",
      "    accuracy                           0.97        99\n",
      "   macro avg       0.88      0.92      0.87        99\n",
      "weighted avg       0.98      0.97      0.97        99\n",
      "\n"
     ]
    }
   ],
   "source": [
    "print(classification_report(y_true=y_val,\n",
    "                            y_pred=y_test_pred_sdg))"
   ]
  },
  {
   "cell_type": "code",
   "execution_count": 84,
   "metadata": {},
   "outputs": [],
   "source": [
    "import matplotlib.pyplot as plt"
   ]
  },
  {
   "cell_type": "code",
   "execution_count": 85,
   "metadata": {},
   "outputs": [
    {
     "data": {
      "image/png": "[encoded data removed]",
      "text/plain": [
       "<Figure size 432x288 with 1 Axes>"
      ]
     },
     "metadata": {
      "needs_background": "light"
     },
     "output_type": "display_data"
    },
    {
     "data": {
      "image/png": "[encoded data removed]",
      "text/plain": [
       "<Figure size 432x288 with 1 Axes>"
      ]
     },
     "metadata": {
      "needs_background": "light"
     },
     "output_type": "display_data"
    }
   ],
   "source": [
    "#Let's put your model evaluation into perspective and plot the accuracy and loss plots between training and validation data:\n",
    "\n",
    "accuracy = history.history['accuracy']\n",
    "val_accuracy = history.history['val_accuracy']\n",
    "loss =history.history['loss']\n",
    "val_loss = history.history['val_loss']\n",
    "epochs = range(len(accuracy))\n",
    "plt.plot(epochs, accuracy, 'bo', label='Training accuracy')\n",
    "plt.plot(epochs, val_accuracy, 'b', label='Validation accuracy')\n",
    "plt.title('Training and validation accuracy')\n",
    "plt.legend()\n",
    "plt.figure()\n",
    "plt.plot(epochs, loss, 'bo', label='Training loss')\n",
    "plt.plot(epochs, val_loss, 'b', label='Validation loss')\n",
    "plt.title('Training and validation loss')\n",
    "plt.legend()\n",
    "plt.show()"
   ]
  },
  {
   "cell_type": "code",
   "execution_count": 52,
   "metadata": {},
   "outputs": [],
   "source": [
    "from scipy import interp\n",
    "from itertools import cycle\n",
    "from sklearn.metrics import roc_curve\n",
    "from sklearn.metrics import auc\n",
    "\n",
    "\n",
    "def plot_multi_class_roc_auc_curves(nb_classes, y_true, y_pred_score, lw: int = 2):\n",
    "    \"\"\"\n",
    "    ROC, AUC for a categorical classifier\n",
    "    \n",
    "    ROC curve extends to problems with three or more classes with what is known as the one-vs-all approach.\n",
    "    For instance, if we have three classes, we will create three ROC curves,\n",
    "\n",
    "    For each class, we take it as the positive class and group the rest classes jointly as the negative class.\n",
    "\n",
    "    Class 1 vs classes 2&3\n",
    "    Class 2 vs classes 1&3\n",
    "    Class 3 vs classes 1&2\n",
    "\n",
    "    :param nb_classes:\n",
    "    :param y_true:\n",
    "    :param y_pred_score:\n",
    "    :param lw:\n",
    "    :return:\n",
    "    \"\"\"\n",
    "\n",
    "    # Compute ROC curve and ROC area for each class\n",
    "    fpr = dict()\n",
    "    tpr = dict()\n",
    "    roc_auc = dict()\n",
    "\n",
    "    for i in range(nb_classes):\n",
    "        fpr[i], tpr[i], _ = roc_curve(y_true[:, i], y_pred_score[:, i])\n",
    "\n",
    "        roc_auc[i] = auc(fpr[i], tpr[i])\n",
    "\n",
    "    # Compute micro-average ROC curve and ROC area\n",
    "    fpr[\"micro\"], tpr[\"micro\"], _ = roc_curve(y_true.ravel(), y_pred_score.ravel())\n",
    "\n",
    "    roc_auc[\"micro\"] = auc(fpr[\"micro\"], tpr[\"micro\"])\n",
    "\n",
    "    # Compute macro-average ROC curve and ROC area\n",
    "\n",
    "    # First aggregate all false positive rates\n",
    "    all_fpr = np.unique(np.concatenate([fpr[i] for i in range(nb_classes)]))\n",
    "\n",
    "    # Then interpolate all ROC curves at this points\n",
    "    mean_tpr = np.zeros_like(all_fpr)\n",
    "\n",
    "    for i in range(nb_classes):\n",
    "        mean_tpr += interp(all_fpr, fpr[i], tpr[i])\n",
    "\n",
    "    # Finally average it and compute AUC\n",
    "    mean_tpr /= nb_classes\n",
    "\n",
    "    fpr[\"macro\"] = all_fpr\n",
    "    tpr[\"macro\"] = mean_tpr\n",
    "    roc_auc[\"macro\"] = auc(fpr[\"macro\"], tpr[\"macro\"])\n",
    "\n",
    "    # Plot all ROC curves\n",
    "    plt.figure(1)\n",
    "    plt.plot(fpr[\"micro\"],\n",
    "             tpr[\"micro\"],\n",
    "             label='micro-average ROC curve (area = {0:0.2f})'.format(roc_auc[\"micro\"]),\n",
    "             color='deeppink',\n",
    "             linestyle=':',\n",
    "             linewidth=4)\n",
    "\n",
    "    plt.plot(fpr[\"macro\"],\n",
    "             tpr[\"macro\"],\n",
    "             label='macro-average ROC curve (area = {0:0.2f})'.format(roc_auc[\"macro\"]),\n",
    "             color='navy',\n",
    "             linestyle=':',\n",
    "             linewidth=4)\n",
    "\n",
    "    colors = cycle(['aqua',\n",
    "                    'darkorange',\n",
    "                    'cornflowerblue'])\n",
    "\n",
    "    for i, color in zip(range(nb_classes), colors):\n",
    "        plt.plot(fpr[i],\n",
    "                 tpr[i],\n",
    "                 color=color,\n",
    "                 lw=lw,\n",
    "                 label='ROC curve of class {0} (area = {1:0.2f})'.format(i, roc_auc[i]))\n",
    "\n",
    "    plt.plot([0, 1],\n",
    "             [0, 1],\n",
    "             'k--',\n",
    "             lw=lw)\n",
    "\n",
    "    plt.xlim([0.0, 1.0])\n",
    "    plt.ylim([0.0, 1.05])\n",
    "\n",
    "    plt.xlabel('False Positive Rate')\n",
    "    plt.ylabel('True Positive Rate')\n",
    "\n",
    "    plt.title('Some extension of Receiver operating characteristic to multi-class')\n",
    "    plt.legend(loc=\"lower right\")\n",
    "    # plt.show()\n",
    "\n",
    "    # Zoom in view of the upper left corner.\n",
    "    plt.figure(2)\n",
    "    plt.xlim(0, 0.2)\n",
    "    plt.ylim(0.7, 1)\n",
    "\n",
    "    plt.plot(fpr[\"micro\"],\n",
    "             tpr[\"micro\"],\n",
    "             label='micro-average ROC curve (area = {0:0.2f})'.format(roc_auc[\"micro\"]),\n",
    "             color='deeppink',\n",
    "             linestyle=':',\n",
    "             linewidth=4)\n",
    "\n",
    "    plt.plot(fpr[\"macro\"],\n",
    "             tpr[\"macro\"],\n",
    "             label='macro-average ROC curve (area = {0:0.2f})'.format(roc_auc[\"macro\"]),\n",
    "             color='navy',\n",
    "             linestyle=':',\n",
    "             linewidth=4)\n",
    "\n",
    "    colors = cycle(['aqua',\n",
    "                    'darkorange',\n",
    "                    'cornflowerblue'])\n",
    "\n",
    "    for i, color in zip(range(nb_classes), colors):\n",
    "        plt.plot(fpr[i],\n",
    "                 tpr[i],\n",
    "                 color=color,\n",
    "                 lw=lw,\n",
    "                 label='ROC curve of class {0} (area = {1:0.2f})'.format(i, roc_auc[i]))\n",
    "\n",
    "    plt.plot([0, 1],\n",
    "             [0, 1],\n",
    "             'k--', lw=lw)\n",
    "\n",
    "    plt.xlabel('False Positive Rate')\n",
    "    plt.ylabel('True Positive Rate')\n",
    "    plt.title('Some extension of Receiver operating characteristic to multi-class')\n",
    "    plt.legend(loc=\"lower right\")\n",
    "    plt.show()"
   ]
  },
  {
   "cell_type": "code",
   "execution_count": 53,
   "metadata": {},
   "outputs": [
    {
     "name": "stderr",
     "output_type": "stream",
     "text": [
      "<ipython-input-52-352507b3f73f>:51: DeprecationWarning: scipy.interp is deprecated and will be removed in SciPy 2.0.0, use numpy.interp instead\n",
      "  mean_tpr += interp(all_fpr, fpr[i], tpr[i])\n"
     ]
    },
    {
     "data": {
      "image/png": "[encoded data removed]",
      "text/plain": [
       "<Figure size 432x288 with 1 Axes>"
      ]
     },
     "metadata": {
      "needs_background": "light"
     },
     "output_type": "display_data"
    },
    {
     "data": {
      "image/png": "[encoded data removed]",
      "text/plain": [
       "<Figure size 432x288 with 1 Axes>"
      ]
     },
     "metadata": {
      "needs_background": "light"
     },
     "output_type": "display_data"
    }
   ],
   "source": [
    "plot_multi_class_roc_auc_curves(nb_classes=6,\n",
    "                                y_true=y_val_enc,\n",
    "                                y_pred_score=y_test_pred_probs)"
   ]
  },
  {
   "cell_type": "code",
   "execution_count": 54,
   "metadata": {},
   "outputs": [
    {
     "name": "stdout",
     "output_type": "stream",
     "text": [
      "[[ 5  0  0  0  0  0]\n",
      " [ 1  3  0  0  1  1]\n",
      " [ 0  0 23  0  0  0]\n",
      " [ 0  0  0 34  0  0]\n",
      " [ 0  0  0  0 30  0]\n",
      " [ 0  0  0  0  0  1]]\n"
     ]
    }
   ],
   "source": [
    "print(confusion_matrix(y_true=y_val, y_pred=y_test_pred_sdg))"
   ]
  },
  {
   "cell_type": "code",
   "execution_count": 55,
   "metadata": {},
   "outputs": [],
   "source": [
    "from typing import List, Tuple\n",
    "\n",
    "def print_confusion_matrix(y_true,\n",
    "                           y_pred,\n",
    "                           class_names: List[str],\n",
    "                           figsize: Tuple[int, int] = (10, 7),\n",
    "                           fontsize: int = 14) -> pd.DataFrame:\n",
    "    \"\"\"\n",
    "    Prints a confusion matrix, as returned by sklearn.metrics.confusion_matrix, as a heat-map.\n",
    "\n",
    "    For something more extraordinary check this repo:\n",
    "    https://github.com/wcipriano/pretty-print-confusion-matrix\n",
    "\n",
    "\n",
    "    :param class_names:  An ordered list of class names\n",
    "    :param figsize: A 2-long tuple, the first value determining the horizontal size of the outputted\n",
    "                    figure, the second determining the vertical size. Defaults to (10,7).\n",
    "    :param fontsize: Font size for axes labels. Defaults to 14.\n",
    "    :return: The confusion matrix as a dataset\n",
    "    \"\"\"\n",
    "    conf_matrix = confusion_matrix(y_true=y_true, y_pred=y_pred)\n",
    "\n",
    "    df_cm = pd.DataFrame(conf_matrix, index=class_names, columns=class_names)\n",
    "\n",
    "    fig = plt.figure(figsize=figsize)\n",
    "\n",
    "    try:\n",
    "        heatmap = sns.heatmap(df_cm, annot=True, fmt=\"d\")\n",
    "\n",
    "    except ValueError:\n",
    "\n",
    "        raise ValueError(\"Confusion matrix values must be integers.\")\n",
    "\n",
    "    heatmap.yaxis.set_ticklabels(heatmap.yaxis.get_ticklabels(),\n",
    "                                 rotation=0,\n",
    "                                 ha='right',\n",
    "                                 fontsize=fontsize)\n",
    "\n",
    "    heatmap.xaxis.set_ticklabels(heatmap.xaxis.get_ticklabels(),\n",
    "                                 rotation=45,\n",
    "                                 ha='right',\n",
    "                                 fontsize=fontsize)\n",
    "\n",
    "    plt.ylabel('True label')\n",
    "    plt.xlabel('Predicted label')\n",
    "    plt.show()\n",
    "\n",
    "    return df_cm"
   ]
  },
  {
   "cell_type": "code",
   "execution_count": 56,
   "metadata": {},
   "outputs": [],
   "source": [
    "from sklearn import preprocessing\n",
    "lb = preprocessing.LabelBinarizer()\n",
    "y_test_binarize = lb.fit_transform(y_val_enc)"
   ]
  },
  {
   "cell_type": "code",
   "execution_count": 57,
   "metadata": {},
   "outputs": [
    {
     "data": {
      "text/plain": [
       "array([[0, 0, 0, 0, 0, 1],\n",
       "       [1, 0, 0, 0, 0, 0],\n",
       "       [1, 0, 0, 0, 0, 0],\n",
       "       [1, 0, 0, 0, 0, 0],\n",
       "       [1, 0, 0, 0, 0, 0],\n",
       "       [1, 0, 0, 0, 0, 0],\n",
       "       [0, 1, 0, 0, 0, 0],\n",
       "       [0, 1, 0, 0, 0, 0],\n",
       "       [0, 1, 0, 0, 0, 0],\n",
       "       [0, 1, 0, 0, 0, 0],\n",
       "       [0, 1, 0, 0, 0, 0],\n",
       "       [0, 1, 0, 0, 0, 0],\n",
       "       [0, 0, 0, 0, 1, 0],\n",
       "       [0, 0, 0, 0, 1, 0],\n",
       "       [0, 0, 0, 0, 1, 0],\n",
       "       [0, 0, 0, 0, 1, 0],\n",
       "       [0, 0, 0, 0, 1, 0],\n",
       "       [0, 0, 0, 0, 1, 0],\n",
       "       [0, 0, 0, 0, 1, 0],\n",
       "       [0, 0, 0, 0, 1, 0],\n",
       "       [0, 0, 0, 0, 1, 0],\n",
       "       [0, 0, 0, 0, 1, 0],\n",
       "       [0, 0, 0, 0, 1, 0],\n",
       "       [0, 0, 0, 0, 1, 0],\n",
       "       [0, 0, 0, 0, 1, 0],\n",
       "       [0, 0, 0, 0, 1, 0],\n",
       "       [0, 0, 0, 0, 1, 0],\n",
       "       [0, 0, 0, 0, 1, 0],\n",
       "       [0, 0, 0, 0, 1, 0],\n",
       "       [0, 0, 0, 0, 1, 0],\n",
       "       [0, 0, 0, 0, 1, 0],\n",
       "       [0, 0, 0, 0, 1, 0],\n",
       "       [0, 0, 0, 0, 1, 0],\n",
       "       [0, 0, 0, 0, 1, 0],\n",
       "       [0, 0, 0, 0, 1, 0],\n",
       "       [0, 0, 0, 0, 1, 0],\n",
       "       [0, 0, 0, 0, 1, 0],\n",
       "       [0, 0, 0, 0, 1, 0],\n",
       "       [0, 0, 0, 1, 0, 0],\n",
       "       [0, 0, 0, 1, 0, 0],\n",
       "       [0, 0, 0, 1, 0, 0],\n",
       "       [0, 0, 0, 1, 0, 0],\n",
       "       [0, 0, 0, 1, 0, 0],\n",
       "       [0, 0, 0, 1, 0, 0],\n",
       "       [0, 0, 0, 1, 0, 0],\n",
       "       [0, 0, 0, 1, 0, 0],\n",
       "       [0, 0, 0, 1, 0, 0],\n",
       "       [0, 0, 0, 1, 0, 0],\n",
       "       [0, 0, 0, 1, 0, 0],\n",
       "       [0, 0, 0, 1, 0, 0],\n",
       "       [0, 0, 0, 1, 0, 0],\n",
       "       [0, 0, 0, 1, 0, 0],\n",
       "       [0, 0, 0, 1, 0, 0],\n",
       "       [0, 0, 0, 1, 0, 0],\n",
       "       [0, 0, 0, 1, 0, 0],\n",
       "       [0, 0, 0, 1, 0, 0],\n",
       "       [0, 0, 0, 1, 0, 0],\n",
       "       [0, 0, 0, 1, 0, 0],\n",
       "       [0, 0, 0, 1, 0, 0],\n",
       "       [0, 0, 0, 1, 0, 0],\n",
       "       [0, 0, 0, 1, 0, 0],\n",
       "       [0, 0, 0, 1, 0, 0],\n",
       "       [0, 0, 0, 1, 0, 0],\n",
       "       [0, 0, 0, 1, 0, 0],\n",
       "       [0, 0, 0, 1, 0, 0],\n",
       "       [0, 0, 0, 1, 0, 0],\n",
       "       [0, 0, 0, 1, 0, 0],\n",
       "       [0, 0, 0, 1, 0, 0],\n",
       "       [0, 0, 0, 1, 0, 0],\n",
       "       [0, 0, 0, 1, 0, 0],\n",
       "       [0, 0, 0, 0, 1, 0],\n",
       "       [0, 0, 0, 0, 1, 0],\n",
       "       [0, 0, 0, 0, 1, 0],\n",
       "       [0, 0, 0, 0, 1, 0],\n",
       "       [0, 0, 1, 0, 0, 0],\n",
       "       [0, 0, 1, 0, 0, 0],\n",
       "       [0, 0, 1, 0, 0, 0],\n",
       "       [0, 0, 1, 0, 0, 0],\n",
       "       [0, 0, 1, 0, 0, 0],\n",
       "       [0, 0, 1, 0, 0, 0],\n",
       "       [0, 0, 1, 0, 0, 0],\n",
       "       [0, 0, 1, 0, 0, 0],\n",
       "       [0, 0, 1, 0, 0, 0],\n",
       "       [0, 0, 1, 0, 0, 0],\n",
       "       [0, 0, 1, 0, 0, 0],\n",
       "       [0, 0, 1, 0, 0, 0],\n",
       "       [0, 0, 1, 0, 0, 0],\n",
       "       [0, 0, 1, 0, 0, 0],\n",
       "       [0, 0, 1, 0, 0, 0],\n",
       "       [0, 0, 1, 0, 0, 0],\n",
       "       [0, 0, 1, 0, 0, 0],\n",
       "       [0, 0, 0, 1, 0, 0],\n",
       "       [0, 0, 0, 1, 0, 0],\n",
       "       [0, 0, 1, 0, 0, 0],\n",
       "       [0, 0, 1, 0, 0, 0],\n",
       "       [0, 0, 1, 0, 0, 0],\n",
       "       [0, 0, 1, 0, 0, 0],\n",
       "       [0, 0, 1, 0, 0, 0],\n",
       "       [0, 0, 1, 0, 0, 0]])"
      ]
     },
     "execution_count": 57,
     "metadata": {},
     "output_type": "execute_result"
    }
   ],
   "source": [
    "y_test_transformed = lb.inverse_transform(y_val_enc)\n",
    "y_test_transformed"
   ]
  },
  {
   "cell_type": "code",
   "execution_count": 58,
   "metadata": {},
   "outputs": [],
   "source": [
    "import matplotlib.pyplot as plt\n",
    "from typing import List, Tuple\n",
    "\n",
    "def print_confusion_matrix(y_true,\n",
    "                           y_pred,\n",
    "                           class_names: List[str],\n",
    "                           figsize: Tuple[int, int] = (10, 7),\n",
    "                           fontsize: int = 14) -> pd.DataFrame:\n",
    "    \"\"\"\n",
    "    Prints a confusion matrix, as returned by sklearn.metrics.confusion_matrix, as a heat-map.\n",
    "\n",
    "    For something more extraordinary check this repo:\n",
    "    https://github.com/wcipriano/pretty-print-confusion-matrix\n",
    "\n",
    "\n",
    "    :param class_names:  An ordered list of class names\n",
    "    :param figsize: A 2-long tuple, the first value determining the horizontal size of the outputted\n",
    "                    figure, the second determining the vertical size. Defaults to (10,7).\n",
    "    :param fontsize: Font size for axes labels. Defaults to 14.\n",
    "    :return: The confusion matrix as a dataset\n",
    "    \"\"\"\n",
    "    conf_matrix = confusion_matrix(y_true=y_true, y_pred=y_pred)\n",
    "\n",
    "    df_cm = pd.DataFrame(conf_matrix, index=class_names, columns=class_names)\n",
    "\n",
    "    fig = plt.figure(figsize=figsize)\n",
    "\n",
    "    try:\n",
    "        heatmap = sns.heatmap(df_cm, annot=True, fmt=\"d\")\n",
    "\n",
    "    except ValueError:\n",
    "\n",
    "        raise ValueError(\"Confusion matrix values must be integers.\")\n",
    "\n",
    "    heatmap.yaxis.set_ticklabels(heatmap.yaxis.get_ticklabels(),\n",
    "                                 rotation=0,\n",
    "                                 ha='right',\n",
    "                                 fontsize=fontsize)\n",
    "\n",
    "    heatmap.xaxis.set_ticklabels(heatmap.xaxis.get_ticklabels(),\n",
    "                                 rotation=45,\n",
    "                                 ha='right',\n",
    "                                 fontsize=fontsize)\n",
    "\n",
    "    plt.ylabel('True label')\n",
    "    plt.xlabel('Predicted label')\n",
    "    plt.show()\n",
    "\n",
    "    return df_cm"
   ]
  },
  {
   "cell_type": "code",
   "execution_count": 59,
   "metadata": {},
   "outputs": [
    {
     "data": {
      "image/png": "[encoded data removed]",
      "text/plain": [
       "<Figure size 720x504 with 2 Axes>"
      ]
     },
     "metadata": {
      "needs_background": "light"
     },
     "output_type": "display_data"
    },
    {
     "data": {
      "text/html": [
       "<div>\n",
       "<style scoped>\n",
       "    .dataframe tbody tr th:only-of-type {\n",
       "        vertical-align: middle;\n",
       "    }\n",
       "\n",
       "    .dataframe tbody tr th {\n",
       "        vertical-align: top;\n",
       "    }\n",
       "\n",
       "    .dataframe thead th {\n",
       "        text-align: right;\n",
       "    }\n",
       "</style>\n",
       "<table border=\"1\" class=\"dataframe\">\n",
       "  <thead>\n",
       "    <tr style=\"text-align: right;\">\n",
       "      <th></th>\n",
       "      <th>SDG10</th>\n",
       "      <th>SDG12</th>\n",
       "      <th>SDG13</th>\n",
       "      <th>SDG3</th>\n",
       "      <th>SDG5</th>\n",
       "      <th>SDG7</th>\n",
       "    </tr>\n",
       "  </thead>\n",
       "  <tbody>\n",
       "    <tr>\n",
       "      <th>SDG10</th>\n",
       "      <td>5</td>\n",
       "      <td>0</td>\n",
       "      <td>0</td>\n",
       "      <td>0</td>\n",
       "      <td>0</td>\n",
       "      <td>0</td>\n",
       "    </tr>\n",
       "    <tr>\n",
       "      <th>SDG12</th>\n",
       "      <td>1</td>\n",
       "      <td>3</td>\n",
       "      <td>0</td>\n",
       "      <td>0</td>\n",
       "      <td>1</td>\n",
       "      <td>1</td>\n",
       "    </tr>\n",
       "    <tr>\n",
       "      <th>SDG13</th>\n",
       "      <td>0</td>\n",
       "      <td>0</td>\n",
       "      <td>23</td>\n",
       "      <td>0</td>\n",
       "      <td>0</td>\n",
       "      <td>0</td>\n",
       "    </tr>\n",
       "    <tr>\n",
       "      <th>SDG3</th>\n",
       "      <td>0</td>\n",
       "      <td>0</td>\n",
       "      <td>0</td>\n",
       "      <td>34</td>\n",
       "      <td>0</td>\n",
       "      <td>0</td>\n",
       "    </tr>\n",
       "    <tr>\n",
       "      <th>SDG5</th>\n",
       "      <td>0</td>\n",
       "      <td>0</td>\n",
       "      <td>0</td>\n",
       "      <td>0</td>\n",
       "      <td>30</td>\n",
       "      <td>0</td>\n",
       "    </tr>\n",
       "    <tr>\n",
       "      <th>SDG7</th>\n",
       "      <td>0</td>\n",
       "      <td>0</td>\n",
       "      <td>0</td>\n",
       "      <td>0</td>\n",
       "      <td>0</td>\n",
       "      <td>1</td>\n",
       "    </tr>\n",
       "  </tbody>\n",
       "</table>\n",
       "</div>"
      ],
      "text/plain": [
       "       SDG10  SDG12  SDG13  SDG3  SDG5  SDG7\n",
       "SDG10      5      0      0     0     0     0\n",
       "SDG12      1      3      0     0     1     1\n",
       "SDG13      0      0     23     0     0     0\n",
       "SDG3       0      0      0    34     0     0\n",
       "SDG5       0      0      0     0    30     0\n",
       "SDG7       0      0      0     0     0     1"
      ]
     },
     "execution_count": 59,
     "metadata": {},
     "output_type": "execute_result"
    }
   ],
   "source": [
    "import seaborn as sns\n",
    "\n",
    "print_confusion_matrix(y_true=np.argmax(y_test_transformed,axis = 1),\n",
    "                           y_pred=y_test_preds,\n",
    "                           class_names=['SDG10', 'SDG12', 'SDG13', 'SDG3', 'SDG5', 'SDG7'])"
   ]
  },
  {
   "cell_type": "code",
   "execution_count": 60,
   "metadata": {},
   "outputs": [
    {
     "name": "stdout",
     "output_type": "stream",
     "text": [
      "(1, 300)\n",
      "\n",
      "Probabilities\n",
      "\n",
      "[[7.9516349e-10 7.4740927e-07 9.9999928e-01 2.7511252e-11 3.1851400e-11\n",
      "  2.6017478e-08]]\n",
      "\n",
      "Probabilities One Hot Vector\n",
      "\n",
      "[[0. 0. 1. 0. 0. 0.]]\n",
      "\n",
      "SDG Prediction:\n",
      "\n",
      "SDG13\n"
     ]
    }
   ],
   "source": [
    "# Predicting a single abstract\n",
    "\n",
    "input_abstract = \"\"\"\n",
    "This paper presents a global scale assessment of the impact of climate change on water scarcity.\n",
    "Patterns of climate change from 21 Global Climate Models (GCMs) under four SRES scenarios are applied to a global hydrological model to estimate water resources across 1339 watersheds.\n",
    "The Water Crowding Index (WCI) and the Water Stress Index (WSI) are used to calculate exposure to increases and decreases in global water scarcity due to climate change.\n",
    "1.6 (WCI) and 2.4 (WSI) billion people are estimated to be currently living within watersheds exposed to water scarcity.\n",
    "Using the WCI, by 2050 under the A1B scenario, 0.5 to 3.1 billion people are exposed to an increase in water scarcity due to climate change (range across 21 GCMs).\n",
    "This represents a higher upper-estimate than previous assessments because scenarios are constructed from a wider range of GCMs.\n",
    "A substantial proportion of the uncertainty in the global-scale effect of climate change on water scarcity is due to uncertainty in the estimates for South Asia and East Asia.\n",
    "Sensitivity to the WCI and WSI thresholds that define water scarcity can be comparable to the sensitivity to climate change pattern.\n",
    "More of the world will see an increase in exposure to water scarcity than a decrease due to climate change but this is not consistent across all climate change patterns.\n",
    "Additionally, investigation of the effects of a set of prescribed global mean temperature change scenarios show rapid increases in water scarcity due to climate change across many regions of the globe, up to 2 °C, followed by stabilisation to 4 °C.\n",
    "\"\"\"\n",
    "\n",
    "# vectorizing titles with Count Vectorizer\n",
    "abstract_vect = counter_vectorizer.transform([input_abstract])\n",
    "\n",
    "print(abstract_vect.shape, end='\\n\\n')\n",
    "\n",
    "abstract_pred = model.predict(abstract_vect)\n",
    "\n",
    "print('Probabilities', end='\\n\\n')\n",
    "print(abstract_pred, end='\\n\\n')\n",
    "\n",
    "abstract_pred_hot = get_one_hot_predictions(abstract_pred)\n",
    "\n",
    "print('Probabilities One Hot Vector', end='\\n\\n')\n",
    "print(abstract_pred_hot, end='\\n\\n')\n",
    "\n",
    "print('SDG Prediction:', end='\\n\\n')\n",
    "print(y_enc.inverse_transform(abstract_pred_hot)[0][0])"
   ]
  },
  {
   "cell_type": "code",
   "execution_count": 61,
   "metadata": {},
   "outputs": [
    {
     "name": "stdout",
     "output_type": "stream",
     "text": [
      "WARNING:tensorflow:From C:\\Users\\arisp\\anaconda3\\lib\\site-packages\\tensorflow\\python\\training\\tracking\\tracking.py:111: Model.state_updates (from tensorflow.python.keras.engine.training) is deprecated and will be removed in a future version.\n",
      "Instructions for updating:\n",
      "This property should not be used in TensorFlow 2.0, as updates are applied automatically.\n",
      "WARNING:tensorflow:From C:\\Users\\arisp\\anaconda3\\lib\\site-packages\\tensorflow\\python\\training\\tracking\\tracking.py:111: Layer.updates (from tensorflow.python.keras.engine.base_layer) is deprecated and will be removed in a future version.\n",
      "Instructions for updating:\n",
      "This property should not be used in TensorFlow 2.0, as updates are applied automatically.\n",
      "INFO:tensorflow:Assets written to: C:\\Users\\arisp\\AppData\\Local\\Temp\\tmp3zhboudb\\MLP_abstract_model_weights\\assets\n"
     ]
    }
   ],
   "source": [
    "import os\n",
    "import tempfile\n",
    "import tensorflow as tf\n",
    "\n",
    "tmpdir = tempfile.mkdtemp()\n",
    "\n",
    "title_save_path = os.path.join(tmpdir, \"MLP_abstract_model_weights\")\n",
    "tf.saved_model.save(model, title_save_path)"
   ]
  },
  {
   "cell_type": "code",
   "execution_count": null,
   "metadata": {},
   "outputs": [],
   "source": []
  }
 ],
 "metadata": {
  "kernelspec": {
   "display_name": "Python 3",
   "language": "python",
   "name": "python3"
  },
  "language_info": {
   "codemirror_mode": {
    "name": "ipython",
    "version": 3
   },
   "file_extension": ".py",
   "mimetype": "text/x-python",
   "name": "python",
   "nbconvert_exporter": "python",
   "pygments_lexer": "ipython3",
   "version": "3.8.3"
  }
 },
 "nbformat": 4,
 "nbformat_minor": 4
}
